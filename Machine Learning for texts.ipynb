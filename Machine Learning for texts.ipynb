{
 "cells": [
  {
   "cell_type": "markdown",
   "metadata": {},
   "source": [
    "# Проект для «Викишоп»"
   ]
  },
  {
   "cell_type": "markdown",
   "metadata": {},
   "source": [
    "Интернет-магазин «Викишоп» запускает новый сервис. Теперь пользователи могут редактировать и дополнять описания товаров, как в вики-сообществах. То есть клиенты предлагают свои правки и комментируют изменения других. Магазину нужен инструмент, который будет искать токсичные комментарии и отправлять их на модерацию. \n",
    "\n",
    "Необходимо обучить модель классифицировать комментарии на позитивные и негативные. В нашем распоряжении набор данных с разметкой о токсичности правок."
   ]
  },
  {
   "cell_type": "markdown",
   "metadata": {},
   "source": [
    "<div class=\"alert alert-info\">\n",
    "Подготовим библиотеки и инструменты</div"
   ]
  },
  {
   "cell_type": "code",
   "execution_count": 1,
   "metadata": {},
   "outputs": [
    {
     "name": "stdout",
     "output_type": "stream",
     "text": [
      "Collecting scikit-learn==1.1.3\n",
      "  Downloading scikit_learn-1.1.3-cp39-cp39-manylinux_2_17_x86_64.manylinux2014_x86_64.whl (30.8 MB)\n",
      "\u001b[K     |████████████████████████████████| 30.8 MB 49 kB/s  eta 0:00:01\n",
      "\u001b[?25hRequirement already satisfied: numpy>=1.17.3 in /opt/conda/lib/python3.9/site-packages (from scikit-learn==1.1.3) (1.21.1)\n",
      "Requirement already satisfied: joblib>=1.0.0 in /opt/conda/lib/python3.9/site-packages (from scikit-learn==1.1.3) (1.1.0)\n",
      "Requirement already satisfied: scipy>=1.3.2 in /opt/conda/lib/python3.9/site-packages (from scikit-learn==1.1.3) (1.9.1)\n",
      "Requirement already satisfied: threadpoolctl>=2.0.0 in /opt/conda/lib/python3.9/site-packages (from scikit-learn==1.1.3) (3.1.0)\n",
      "Installing collected packages: scikit-learn\n",
      "  Attempting uninstall: scikit-learn\n",
      "    Found existing installation: scikit-learn 0.24.1\n",
      "    Uninstalling scikit-learn-0.24.1:\n",
      "      Successfully uninstalled scikit-learn-0.24.1\n",
      "Successfully installed scikit-learn-1.1.3\n"
     ]
    }
   ],
   "source": [
    "!pip install scikit-learn==1.1.3"
   ]
  },
  {
   "cell_type": "code",
   "execution_count": 2,
   "metadata": {},
   "outputs": [],
   "source": [
    "import pandas as pd\n",
    "import numpy as np\n",
    "import matplotlib.pyplot as plt\n",
    "import time\n",
    "\n",
    "from sklearn.model_selection import (\n",
    "    cross_val_score, \n",
    "    GridSearchCV,\n",
    "    train_test_split\n",
    ")\n",
    "\n",
    "from sklearn.metrics import (\n",
    "    mean_squared_error,\n",
    "    f1_score\n",
    ")\n",
    "#from sklearn.tree import DecisionTreeClassifier\n",
    "from sklearn.ensemble import RandomForestClassifier\n",
    "from catboost import CatBoostClassifier\n",
    "from lightgbm import LGBMClassifier\n",
    "\n",
    "from sklearn.linear_model import LogisticRegression\n",
    "from sklearn.pipeline import Pipeline\n",
    "from nltk.probability import FreqDist\n",
    "\n",
    "from sklearn.feature_extraction.text import (\n",
    "    CountVectorizer,\n",
    "    TfidfTransformer,\n",
    "    TfidfVectorizer\n",
    ")\n",
    "\n",
    "import nltk\n",
    "import re\n",
    "import spacy\n",
    "from nltk import word_tokenize\n",
    "from nltk.corpus import stopwords as nltk_stopwords\n",
    "#nltk.download('stopwords')\n",
    "#from pymystem3 import Mystem\n",
    "\n",
    "import warnings\n",
    "warnings.filterwarnings('ignore')\n",
    "\n"
   ]
  },
  {
   "cell_type": "markdown",
   "metadata": {},
   "source": [
    "<div class=\"alert alert-info\">\n",
    "Откроем датасет и рассмотрим его\n",
    "</div"
   ]
  },
  {
   "cell_type": "code",
   "execution_count": 3,
   "metadata": {},
   "outputs": [
    {
     "data": {
      "text/html": [
       "<div>\n",
       "<style scoped>\n",
       "    .dataframe tbody tr th:only-of-type {\n",
       "        vertical-align: middle;\n",
       "    }\n",
       "\n",
       "    .dataframe tbody tr th {\n",
       "        vertical-align: top;\n",
       "    }\n",
       "\n",
       "    .dataframe thead th {\n",
       "        text-align: right;\n",
       "    }\n",
       "</style>\n",
       "<table border=\"1\" class=\"dataframe\">\n",
       "  <thead>\n",
       "    <tr style=\"text-align: right;\">\n",
       "      <th></th>\n",
       "      <th>text</th>\n",
       "      <th>toxic</th>\n",
       "    </tr>\n",
       "  </thead>\n",
       "  <tbody>\n",
       "    <tr>\n",
       "      <th>0</th>\n",
       "      <td>Explanation\\nWhy the edits made under my usern...</td>\n",
       "      <td>0</td>\n",
       "    </tr>\n",
       "    <tr>\n",
       "      <th>1</th>\n",
       "      <td>D'aww! He matches this background colour I'm s...</td>\n",
       "      <td>0</td>\n",
       "    </tr>\n",
       "    <tr>\n",
       "      <th>2</th>\n",
       "      <td>Hey man, I'm really not trying to edit war. It...</td>\n",
       "      <td>0</td>\n",
       "    </tr>\n",
       "    <tr>\n",
       "      <th>3</th>\n",
       "      <td>\"\\nMore\\nI can't make any real suggestions on ...</td>\n",
       "      <td>0</td>\n",
       "    </tr>\n",
       "    <tr>\n",
       "      <th>4</th>\n",
       "      <td>You, sir, are my hero. Any chance you remember...</td>\n",
       "      <td>0</td>\n",
       "    </tr>\n",
       "    <tr>\n",
       "      <th>...</th>\n",
       "      <td>...</td>\n",
       "      <td>...</td>\n",
       "    </tr>\n",
       "    <tr>\n",
       "      <th>159446</th>\n",
       "      <td>\":::::And for the second time of asking, when ...</td>\n",
       "      <td>0</td>\n",
       "    </tr>\n",
       "    <tr>\n",
       "      <th>159447</th>\n",
       "      <td>You should be ashamed of yourself \\n\\nThat is ...</td>\n",
       "      <td>0</td>\n",
       "    </tr>\n",
       "    <tr>\n",
       "      <th>159448</th>\n",
       "      <td>Spitzer \\n\\nUmm, theres no actual article for ...</td>\n",
       "      <td>0</td>\n",
       "    </tr>\n",
       "    <tr>\n",
       "      <th>159449</th>\n",
       "      <td>And it looks like it was actually you who put ...</td>\n",
       "      <td>0</td>\n",
       "    </tr>\n",
       "    <tr>\n",
       "      <th>159450</th>\n",
       "      <td>\"\\nAnd ... I really don't think you understand...</td>\n",
       "      <td>0</td>\n",
       "    </tr>\n",
       "  </tbody>\n",
       "</table>\n",
       "<p>159292 rows × 2 columns</p>\n",
       "</div>"
      ],
      "text/plain": [
       "                                                     text  toxic\n",
       "0       Explanation\\nWhy the edits made under my usern...      0\n",
       "1       D'aww! He matches this background colour I'm s...      0\n",
       "2       Hey man, I'm really not trying to edit war. It...      0\n",
       "3       \"\\nMore\\nI can't make any real suggestions on ...      0\n",
       "4       You, sir, are my hero. Any chance you remember...      0\n",
       "...                                                   ...    ...\n",
       "159446  \":::::And for the second time of asking, when ...      0\n",
       "159447  You should be ashamed of yourself \\n\\nThat is ...      0\n",
       "159448  Spitzer \\n\\nUmm, theres no actual article for ...      0\n",
       "159449  And it looks like it was actually you who put ...      0\n",
       "159450  \"\\nAnd ... I really don't think you understand...      0\n",
       "\n",
       "[159292 rows x 2 columns]"
      ]
     },
     "execution_count": 3,
     "metadata": {},
     "output_type": "execute_result"
    }
   ],
   "source": [
    "toxic = pd.read_csv('/datasets/toxic_comments.csv', index_col=0)\n",
    "toxic"
   ]
  },
  {
   "cell_type": "code",
   "execution_count": 4,
   "metadata": {},
   "outputs": [
    {
     "name": "stdout",
     "output_type": "stream",
     "text": [
      "<class 'pandas.core.frame.DataFrame'>\n",
      "Int64Index: 159292 entries, 0 to 159450\n",
      "Data columns (total 2 columns):\n",
      " #   Column  Non-Null Count   Dtype \n",
      "---  ------  --------------   ----- \n",
      " 0   text    159292 non-null  object\n",
      " 1   toxic   159292 non-null  int64 \n",
      "dtypes: int64(1), object(1)\n",
      "memory usage: 3.6+ MB\n"
     ]
    }
   ],
   "source": [
    "toxic.info()"
   ]
  },
  {
   "cell_type": "markdown",
   "metadata": {},
   "source": [
    "<div class=\"alert alert-info\">\n",
    "Пропусков нет, типы данных корректны</div"
   ]
  },
  {
   "cell_type": "markdown",
   "metadata": {},
   "source": [
    "<div class=\"alert alert-info\">\n",
    "Напишем функцию очистки текста от лишних символов</div"
   ]
  },
  {
   "cell_type": "code",
   "execution_count": 5,
   "metadata": {},
   "outputs": [],
   "source": [
    "def clear_text(text):\n",
    "    text = re.sub(r'[^a-zA-Z]', ' ', text)\n",
    "    text = \" \".join(text.split())\n",
    "    return text"
   ]
  },
  {
   "cell_type": "markdown",
   "metadata": {},
   "source": [
    "<div class=\"alert alert-info\">\n",
    "С помощью библиотеки spacy используем токенизацию, исключая параметры parser - присваивает токенам метки зависимостей токенов друг от друга (dependency labels) и ner\t- присваивает тексту именованные сущности.</div"
   ]
  },
  {
   "cell_type": "code",
   "execution_count": 6,
   "metadata": {},
   "outputs": [],
   "source": [
    "nlp = spacy.load('en_core_web_sm', disable=['parser', 'ner'])"
   ]
  },
  {
   "cell_type": "markdown",
   "metadata": {},
   "source": [
    "<div class=\"alert alert-info\">\n",
    "Напишем функцию лемматизации для столбца text</div"
   ]
  },
  {
   "cell_type": "code",
   "execution_count": 7,
   "metadata": {},
   "outputs": [
    {
     "name": "stdout",
     "output_type": "stream",
     "text": [
      "CPU times: user 4 µs, sys: 0 ns, total: 4 µs\n",
      "Wall time: 5.96 µs\n"
     ]
    }
   ],
   "source": [
    "%%time\n",
    "\n",
    "def lemmat(text):\n",
    "    doc = nlp(text)\n",
    "    lemm_text = \" \".join([token.lemma_ for token in doc]).lower()\n",
    "    return lemm_text"
   ]
  },
  {
   "cell_type": "code",
   "execution_count": 8,
   "metadata": {},
   "outputs": [],
   "source": [
    "# def text_tokens(data):\n",
    "#     doc = nlp(data)\n",
    "#     token_list = [token for token in doc]\n",
    "#     return data"
   ]
  },
  {
   "cell_type": "markdown",
   "metadata": {},
   "source": [
    "<div class=\"alert alert-info\">\n",
    "Следующая ячейка выполняется 18.22 мин\n",
    "CPU times: user 18min 16s, sys: 2.4 s, total: 18min 19s\n",
    "Wall time: 18min 22s</div"
   ]
  },
  {
   "cell_type": "code",
   "execution_count": 9,
   "metadata": {},
   "outputs": [],
   "source": [
    "#toxic2 = pd.DataFrame(toxic, columns=toxic.index)\n",
    "#pd.DataFrame(s, columns=['B'])"
   ]
  },
  {
   "cell_type": "code",
   "execution_count": 10,
   "metadata": {},
   "outputs": [
    {
     "name": "stdout",
     "output_type": "stream",
     "text": [
      "CPU times: user 15min 55s, sys: 2.84 s, total: 15min 57s\n",
      "Wall time: 15min 58s\n"
     ]
    }
   ],
   "source": [
    "%%time\n",
    "df = toxic.copy()\n",
    "#df = df.head(1000)\n",
    "df['lemm_text'] = df['text'].apply(lambda x: lemmat(clear_text(x)))"
   ]
  },
  {
   "cell_type": "markdown",
   "metadata": {},
   "source": [
    "<div class=\"alert alert-info\">\n",
    "Посмотрим на получившийся датасет</div"
   ]
  },
  {
   "cell_type": "code",
   "execution_count": 11,
   "metadata": {},
   "outputs": [
    {
     "data": {
      "text/html": [
       "<div>\n",
       "<style scoped>\n",
       "    .dataframe tbody tr th:only-of-type {\n",
       "        vertical-align: middle;\n",
       "    }\n",
       "\n",
       "    .dataframe tbody tr th {\n",
       "        vertical-align: top;\n",
       "    }\n",
       "\n",
       "    .dataframe thead th {\n",
       "        text-align: right;\n",
       "    }\n",
       "</style>\n",
       "<table border=\"1\" class=\"dataframe\">\n",
       "  <thead>\n",
       "    <tr style=\"text-align: right;\">\n",
       "      <th></th>\n",
       "      <th>text</th>\n",
       "      <th>toxic</th>\n",
       "      <th>lemm_text</th>\n",
       "    </tr>\n",
       "  </thead>\n",
       "  <tbody>\n",
       "    <tr>\n",
       "      <th>0</th>\n",
       "      <td>Explanation\\nWhy the edits made under my usern...</td>\n",
       "      <td>0</td>\n",
       "      <td>explanation why the edit make under my usernam...</td>\n",
       "    </tr>\n",
       "    <tr>\n",
       "      <th>1</th>\n",
       "      <td>D'aww! He matches this background colour I'm s...</td>\n",
       "      <td>0</td>\n",
       "      <td>d aww he match this background colour i m seem...</td>\n",
       "    </tr>\n",
       "    <tr>\n",
       "      <th>2</th>\n",
       "      <td>Hey man, I'm really not trying to edit war. It...</td>\n",
       "      <td>0</td>\n",
       "      <td>hey man i m really not try to edit war it s ju...</td>\n",
       "    </tr>\n",
       "    <tr>\n",
       "      <th>3</th>\n",
       "      <td>\"\\nMore\\nI can't make any real suggestions on ...</td>\n",
       "      <td>0</td>\n",
       "      <td>more i can t make any real suggestion on impro...</td>\n",
       "    </tr>\n",
       "    <tr>\n",
       "      <th>4</th>\n",
       "      <td>You, sir, are my hero. Any chance you remember...</td>\n",
       "      <td>0</td>\n",
       "      <td>you sir be my hero any chance you remember wha...</td>\n",
       "    </tr>\n",
       "    <tr>\n",
       "      <th>...</th>\n",
       "      <td>...</td>\n",
       "      <td>...</td>\n",
       "      <td>...</td>\n",
       "    </tr>\n",
       "    <tr>\n",
       "      <th>159446</th>\n",
       "      <td>\":::::And for the second time of asking, when ...</td>\n",
       "      <td>0</td>\n",
       "      <td>and for the second time of ask when your view ...</td>\n",
       "    </tr>\n",
       "    <tr>\n",
       "      <th>159447</th>\n",
       "      <td>You should be ashamed of yourself \\n\\nThat is ...</td>\n",
       "      <td>0</td>\n",
       "      <td>you should be ashamed of yourself that be a ho...</td>\n",
       "    </tr>\n",
       "    <tr>\n",
       "      <th>159448</th>\n",
       "      <td>Spitzer \\n\\nUmm, theres no actual article for ...</td>\n",
       "      <td>0</td>\n",
       "      <td>spitzer umm there s no actual article for pros...</td>\n",
       "    </tr>\n",
       "    <tr>\n",
       "      <th>159449</th>\n",
       "      <td>And it looks like it was actually you who put ...</td>\n",
       "      <td>0</td>\n",
       "      <td>and it look like it be actually you who put on...</td>\n",
       "    </tr>\n",
       "    <tr>\n",
       "      <th>159450</th>\n",
       "      <td>\"\\nAnd ... I really don't think you understand...</td>\n",
       "      <td>0</td>\n",
       "      <td>and i really don t think you understand i come...</td>\n",
       "    </tr>\n",
       "  </tbody>\n",
       "</table>\n",
       "<p>159292 rows × 3 columns</p>\n",
       "</div>"
      ],
      "text/plain": [
       "                                                     text  toxic  \\\n",
       "0       Explanation\\nWhy the edits made under my usern...      0   \n",
       "1       D'aww! He matches this background colour I'm s...      0   \n",
       "2       Hey man, I'm really not trying to edit war. It...      0   \n",
       "3       \"\\nMore\\nI can't make any real suggestions on ...      0   \n",
       "4       You, sir, are my hero. Any chance you remember...      0   \n",
       "...                                                   ...    ...   \n",
       "159446  \":::::And for the second time of asking, when ...      0   \n",
       "159447  You should be ashamed of yourself \\n\\nThat is ...      0   \n",
       "159448  Spitzer \\n\\nUmm, theres no actual article for ...      0   \n",
       "159449  And it looks like it was actually you who put ...      0   \n",
       "159450  \"\\nAnd ... I really don't think you understand...      0   \n",
       "\n",
       "                                                lemm_text  \n",
       "0       explanation why the edit make under my usernam...  \n",
       "1       d aww he match this background colour i m seem...  \n",
       "2       hey man i m really not try to edit war it s ju...  \n",
       "3       more i can t make any real suggestion on impro...  \n",
       "4       you sir be my hero any chance you remember wha...  \n",
       "...                                                   ...  \n",
       "159446  and for the second time of ask when your view ...  \n",
       "159447  you should be ashamed of yourself that be a ho...  \n",
       "159448  spitzer umm there s no actual article for pros...  \n",
       "159449  and it look like it be actually you who put on...  \n",
       "159450  and i really don t think you understand i come...  \n",
       "\n",
       "[159292 rows x 3 columns]"
      ]
     },
     "execution_count": 11,
     "metadata": {},
     "output_type": "execute_result"
    }
   ],
   "source": [
    "df"
   ]
  },
  {
   "cell_type": "code",
   "execution_count": 12,
   "metadata": {},
   "outputs": [],
   "source": [
    "#df.to_csv('df_toxic_lemm.csv')"
   ]
  },
  {
   "cell_type": "code",
   "execution_count": 13,
   "metadata": {},
   "outputs": [],
   "source": [
    "#df = pd.read_csv('df_toxic_lemm.csv', index_col=0)"
   ]
  },
  {
   "cell_type": "code",
   "execution_count": 14,
   "metadata": {},
   "outputs": [],
   "source": [
    "#df"
   ]
  },
  {
   "cell_type": "markdown",
   "metadata": {},
   "source": [
    "<div class=\"alert alert-info\">\n",
    "На этом этапе создадим мешок слов и уберем стоп-слова\n",
    "</div"
   ]
  },
  {
   "cell_type": "code",
   "execution_count": 15,
   "metadata": {},
   "outputs": [
    {
     "data": {
      "text/plain": [
       "array(['explanation why the edit make under my username hardcore metallica fan be revert they weren t vandalism just closure on some gas after i vote at new york dolls fac and please don t remove the template from the talk page since i m retire now',\n",
       "       'd aww he match this background colour i m seemingly stuck with thank talk january utc',\n",
       "       'hey man i m really not try to edit war it s just that this guy be constantly remove relevant information and talk to i through edit instead of my talk page he seem to care more about the formatting than the actual info',\n",
       "       ...,\n",
       "       'spitzer umm there s no actual article for prostitution ring crunch captain',\n",
       "       'and it look like it be actually you who put on the speedy to have the first version delete now that i look at it',\n",
       "       'and i really don t think you understand i come here and my idea be bad right away what kind of community go you have bad idea go away instead of help rewrite they'],\n",
       "      dtype=object)"
      ]
     },
     "execution_count": 15,
     "metadata": {},
     "output_type": "execute_result"
    }
   ],
   "source": [
    "corpus = df['lemm_text'].values\n",
    "corpus"
   ]
  },
  {
   "cell_type": "markdown",
   "metadata": {},
   "source": [
    "<div class=\"alert alert-info\">\n",
    "Сделаем также мешок негативных комментариев\n",
    "</div"
   ]
  },
  {
   "cell_type": "code",
   "execution_count": 16,
   "metadata": {},
   "outputs": [],
   "source": [
    "#corpus1 = df.query('toxic == 1')['lemm_text'].values\n",
    "corpus1 = list(df.query('toxic == 1')['lemm_text'])"
   ]
  },
  {
   "cell_type": "code",
   "execution_count": 17,
   "metadata": {},
   "outputs": [
    {
     "data": {
      "text/plain": [
       "['cocksucker before you pis around on my work',\n",
       " 'hey what be it talk what be it an exclusive group of some wp taliban who be good at destroy self appoint purist who gang up any one who ask they question abt their anti social and destructive non contribution at wp ask sityush to clean up his behavior than issue i nonsensical warning',\n",
       " 'bye don t look come or think of comme back tosser',\n",
       " 'you be gay or antisemmitian archangel white tiger meow greetingshhh uh there be two way why you do erase my comment about ww that holocaust be brutally slay of jews and not gay gypsys slavs anyone if you be anti semitian than shave your head bald and go to the skinhead meeting if you doubt word of the bible that homosexuality be a deadly sin make a pentagram tatoo on your forehead go to the satanistic masse with your gay pal first and last warn you fuck gay i win t appreciate if any more nazi shwain would write in my page i don t wish to talk to you anymore beware of the dark side',\n",
       " 'fuck your filthy mother in the ass dry',\n",
       " 'i m sorry i m sorry i screw around with someone talk page it be very bad to do i know how have the template on their talk page help you assert your dominance over they i know i should bow down to the almighty administrator but then again i m go to go play outside with your mom',\n",
       " 'get fucked up get fuckeeed up got a drink that you cant put down get fuck up get fucked up i m fucked up right now',\n",
       " 'stupid peace of shit stop delete my stuff asshole go die and fall in a hole go to hell',\n",
       " 'tony sidaway be obviously a fistfuckee he love an arm up his ass',\n",
       " 'my band page s deletion you think i be go delete the comment i post on your talk page do not delete my feeling for your hasty decision to delete my page you sir be still a cock suck douche fuck sit back for a second and think about what your life have become do that didn t take long do it nope because as i be most certainly aware your life be a shitstorm of sit in front of the computer masturbate to fictional creature your attempt to get rid of i be mediocre at good you be constantly suck the dick of failure you don t want a personal attack huh well too bad fuckcock mcdickerson you ve get one from i you can go ahead and delete my profile from wikipedia i ll just make another one and come right back to syrthiss s talk page and insult the dick off of you how could you shatter the dream of an innocent eighteen year old college freshman try to make a name for his band do that make you happy fucking with people because you re an overweight single old man in a dead end job do you spot that perhaps someone else be go to follow his dream and you be try to hold he back so somebody else could suffer like you yes you do i don t make empty threat so i win t be say anything along the line of i ll hurt you or i ll eat the child from within your sister s womb but i will say that you be a asshole son of a bitch mother fucking cock sucker so go eat some more food and drown your sorrow you premature ejaculate bald headed fuck you should do something nice for yourself maybe go grab a couple of horny goat weeds from your local convenience store and jack off for a little long than three minute tonight sincerely an asshole that s well than you in every way',\n",
       " 'why can t you believe how fat artie be do you see he on his recent appearence on the tonight show with jay leno he look absolutely awful if i have to put money on it i d say that artie lange be a can t miss candidate for the dead pool kindly keep your malicious finger off of my above comment everytime you remove it i will repost it',\n",
       " 'all of my edit be good cunts like you who revert good edit because you re too stupid to understand how to write well and then revert other edit just because you ve decide to bear a playground grudge be the problem maybe one day you ll realise the damage you do to a noble project',\n",
       " 'hi i be back again last warning stop undo my edit or die',\n",
       " 'would you both shut up you don t run wikipedia especially a stupid kid',\n",
       " 'a pair of jew hate weiner nazi schmuck',\n",
       " 'sorry puck but no one ever said dick be number one but he be clearly list as be second only to batman and a master detective and martial artist and be train in all the mention combat discpline no need to mention in skill ability about the battle he s lose and win because that s not what an encylopia be suppose to do also what your problem be your go by low end showing and not high end showing where he s prove more than a match for a meta like slade and pin shiva down in one of his early appearence',\n",
       " 'unblock me or i ll get my lawyer on to you for block my constitutional right to free speech',\n",
       " 'you should be fire you re a moronic wimp who be too lazy to do research it make i sick that people like you exist in this world',\n",
       " 'i think that your a fagget get a oife and burn in hell i hate you m sorry we can not have any more sex i m run out of conndom',\n",
       " 'reply above that be i loser the un define vietnam to be part of southeast asia and far as i know vietnam be part of asean and use to be part of french indochina with laos and all those shit country anyway your culture have always be more influence by sea than han chinese as in proper yangtze han chinese not the fringe indigenous tribe in guangzhou guangxi just admit that you vietnamese be all a bunch of wannabe crap people all the east asian people i ve speak to think of vietnam as a very integral part of sea and we all think you re backward dirty and speak in a horrible swearing language doesn t matter what crap you spout on wikipedia win t change the way people in the real world think',\n",
       " 'you be a stupid fuck and your mother s cunt stink',\n",
       " 'your blatant pov push neither of you guy have make any contribution to this italian history article other than to shove your unhistorical unconstructive modern pov in my face this be a history article history have you hear of that this be the reason why so many people get piss off about the pedantry and idiocy and triviality of wikipedia j sus get a f cke life',\n",
       " 'give i a permanat block raseac remember i muslims do not you worry for these image they be try to hurt we but they can not look these image be fake and have nothing to do with islam or our prophet even their article be so lame wikipedia be not an authentic source its an encyclopedia for the kid which have not authenticity anyone can edit or write whatever they think just like raeasc you can see he do not know what islam be and he talk about it so forget about wiki its lame they have no authenticity i recommend they should add piss christ in jessus article they should',\n",
       " 'fuck you block i you faggot pussy',\n",
       " 'kill all nigger i have hard that other have say this should this be include that racist sometimes say these',\n",
       " 'burn deck if that d guy s burn deck be like what i think it be than he be in for a blrude awakening leviathan motherfucker',\n",
       " 'u r a tw fuck off u gay boy u r smelly fuck ur mum poopie',\n",
       " 'atheism be full of bias shit',\n",
       " 'hey why you be spread misconception and try to spread false information to the people you not even know who win the battle and who lose you be the cheap person on the earth bloody ignorant fool check source before spread rumor',\n",
       " 'and you be let i know when you ve crawl out of their arsis dick laurent be dead',\n",
       " 'this user be such a worthless goddamn faggot fuck you faggot',\n",
       " 'fuck off you be not an administrator you don t have the authority to tell i what to do',\n",
       " 'well you be ridiculous in fact i suspect that you be calton please block i i do not care',\n",
       " 'fuck you fuck you award go fuck yourself',\n",
       " 'keep your eye on it no one care ok people can put what they want on here and clean it up all you want but no one care god you re so freakin stupid omnigan',\n",
       " 'matt hardy be so fucky italic text media example ogg matt hardy be so fucky',\n",
       " 'god be dead i don t mean to startle anyone but god be dead we should not worry about he anymore just think i would let everyone know well goodbye and good luck with your newfound crisis of faith',\n",
       " 'have you see the reference to their claim you moron this be not a source it s their pov once i have more time i will reduce your pashtun nationalist pov here on wiki and give order to my uncle and cousin the execution of pashtuns in the entire northern afghanistan down to gardez jalalabad lashkargah logar paghman laghman kunduz herat farah whereever immigrant descandant of violent kuchis settle and take non pashtun land away and traditional tajik country',\n",
       " 'thank you hei it s i the william hope fan guess what i be back at a new ip ready to vandalize everything regard william hope and you can t do sh t to stop i maybe delay i but no stop i so let salute to some more william hope lunacy by shove his p nis in my mouth',\n",
       " 'fuck you user the bohemian shinobis yeah that s right bitch you be all piece of shit',\n",
       " 'dear mokele you have no right to tell people to die in a fire just because that ip address be be use for vandilism do not mean you can talk to people like that you be in fact a big loser than the person who you block',\n",
       " 'thank you for your racist experiment with the page katherine heigl on wikipedia your test work and it have be revert or remove please use the sandbox for any other test you may want to do take a look at the welcome page to learn more about contribute to our encyclopedia now go fuck yourself you racist canuck asshole u have nothing better to do than censor the truth u goddamn kkkkanuck piece o trash dickhead moron motherfucker lol you canucks r real retards fuk off dickweed edit another of my eidts and you ll be expel from wiki by jimbo you sob dickhead so watch it mofo piece of garbage racist mofo asshole im tryinbg to be nice here so take what i say as a compliment yamla',\n",
       " 'be careful who you call a moron',\n",
       " 'gay the existence of cdvf be further proof that be a sad twat he be also very ugly and have a willy for a face',\n",
       " 'i never fucking make this mother fucking article i just fucking edit it and that be a fucking long time ago fucking assholes piss i off',\n",
       " 'fuck with the wrong muchacho july utc',\n",
       " 'hi i m a fucking bitch',\n",
       " 'add mobile porn as additional wp also link',\n",
       " 'f k all rides at worlds of fun i hate all ride at worlds of fun because they be sh tty and boring all ride operator at wof should be fire sue and hang burn all wof coaster arrest all wof park operator assassinate all wof customer i hear that a boy die on timberwolf on august that s stupid worlds of fun should have nown well to build that sh t ride worlds of fun care about money and prophet moar than they re customer burn that sh t park down f k you rides worlds of fun be dangerouser than grround zero and area worlds of fun should burn in hell',\n",
       " 'nazi filth be impolite jan utc',\n",
       " 'i don t care what you say here i don t believe one sentence anymore',\n",
       " 'i can tell you what the argument be about here newseventsguy it s about your retroactive reversion of a simple edit try to include secondary independent verification of sedimentary nanodiamond in younger dryas sediment by bement and madden et al without discussion a reference that i notice have not yet be include in the reference list still after all this time this be after you admit that you be ignorant of the peer review literature and the controversy any attempt to do simple reference list edit on this page have be stomp by no less that five admittedly biased and ignorant editor the honorable thing to do here would be to recuse yourself from edit the page as i have but i haven t see that happen until now good luck with it you ve already make complete fool of yourself',\n",
       " 'hello how do i get somebody to fix shit around here',\n",
       " 'dictionary how dare you call my contribution spam i be a kurd and i make a lsit of kurdish dictionary you bloody turkish nationalist and atoricity commit bone break nazi watch out folk this slimy turk be try to censor the internet this be not undemocratic turkey here no prison cell in wikipedia you stupid turk and you bugger want membership to the eec',\n",
       " 'how do you know he be dead its just his plane that crash jeezz quit bust his nuts folk',\n",
       " 'you be a know it all jimbo why don t you get a life instead of sit in front of your computer all day the high priestess of knowledge indeed',\n",
       " 'what a motherfucking piece of crap those fuckhead for block we',\n",
       " 'you sir be an imbecile and a pervert',\n",
       " 'another crap article parrots what promotion website of capoeira school say about myth of origin and also that persecution thing by the late s capoeira become a word for street brawl thus authority do not prohibit or sanction practice of capoeira in ban capoeira they be ban outright street brawl it s why mestre bimba present his art as luta regional baiana no decent carioca would be eager to sympathise with capoeira and malandrismo i could attempt to alter the article but it s become such a mess by now',\n",
       " 'i m also a sock puppet of this account suprise sincerely the man that will track you down from the internet and kill you',\n",
       " 'be you fucker mother fucker have nothing to do but block university computer go and suck cock',\n",
       " 'hello you disgrace to humanity stop waste valuable internet resource your kill the fucking planet and throw out your pc ps it s like be what the fark kinda life do you have on wikipedia a very sad and lonely one lol life s too short find something well to do',\n",
       " 'your retarded bot your bot be entirely automate that be wrong you should not leave an unattented script just run through the site like that it be idiotic of you to suppose that your scripting ability be so perfect that they will only ever make proper edit ban i doesn t help anything dipshit since i have as many ip as i want',\n",
       " 'dislike racism and i can see that you have problems with people who speak spanish you be an antisemite too',\n",
       " 'it wasnt vandalism dickhead',\n",
       " 'you suck if you don t undelete the page barry dejay i will you',\n",
       " 'curse wikipedia have no respect for god wikipedia be full of lie or dangerously evil half truth wikipedia have no respect for religion the follow user of wikipedia namely redtigerxyz priyanath emperor genius raj wikidas wikiveer and dagizza have all commit blasphemy and sacrilage curse upon you that you will all perish i curse the follow user of wikipedia namely redtigerxyz priyanath emperor genius raj wikidas wikiveer and dagizza that you will all perish i curse that the wikipedia will entirely perish i beg forgiveness from the supreme god lord vishnu for choose the blasphemous wikipedia website to write about the truth a true devote of the supreme lord vishnu have be hurt and my curse never go in vain i will never again edit or read or go to the evil wikipedia website forever delete my user i d and all edit you evil wikipedians mr dagizza you be a male chauvinist pig and a misogynist to the core and you call yourself an administrator ridiculous mr dagizza you be a curse to your existance a man like you who can not respect woman be a worthless in his existance you wikipedians be useless people you be a burden to the civilized world you be not even worth hatred you wikipedians must be ignore curse',\n",
       " 'hahaha you do not actually believe this bullshit you be tell i right now you be talk about the access to the country or representative to the government not kim jong un himself those be two totally different thing although i could understand your stupidity since north koreans think that kim jong un be the governement i m just say go troll somewhere else kid',\n",
       " 'block mardyks guess what loser know what a cockblocker be hahahaha m',\n",
       " 'wikipedia administrator be defend a mass murder psychopath',\n",
       " 'hebrew name of lydia appologies to til eulenspiegel i think you be one of the idiot which your user page indicate you actually do well struggle against genesis tab and mizraim beget ludim and anamim and lehabim and naphtuhim you see ludim be from mitzraim not to be confuse with lud son of shem in the far east good wish and keep up the good work',\n",
       " 'you waste your own time take this advice with you pull your head out of your ass be real and don t spend the rest of your life suck ass have a nice life goodbye mailbox',\n",
       " 'a few thing to get straight firstly i do not like you you look like a smug little prick to i secondly i do not like your ethnicity not one little bit i d like you to explain yourself on that count thirdly your dog be a bit of a bender',\n",
       " 'ok stop be lame seriously go watch pokemon',\n",
       " 'i do not intend to be disruptive i be genuineley upset by the word constantly i only try to make it look like an april fool joke after you explanation make i look like an uptight weirdo',\n",
       " 'matt when mattsanchez info go live on monday among other thing you ll see an invitation to be interview this time you ll have nowhere to hide let s see who s a victim and who s a coward',\n",
       " 'do not help the jew schnider final warning',\n",
       " 'don t peddle your crap please hate to see another article get dispute for neutrality due to you',\n",
       " 'you really be a rebel guy rebelguy time to get oral from a prostitute',\n",
       " 'of course a true dub will say depaaarte or more likely f in go',\n",
       " 'muslim men harassment of mm page it be amazing how three muslim man jump all over this page right after i add a number of thing minute after all three man all muslims and clean it up do a woman work for human right in pakistan really get under your skin so badly wow so sweetie if you be so bloody busy why not get busy and stop harass the woman be you that threaten',\n",
       " 'try to be productive look at my contribution but hit my head against a wall of spoiled greek child or probably under pay from greek government that purposely keep vandalize the albania related page and keep iritate the albanian editor until they explode and get ban as a historian i blush with what i find quote as reliable information on the wikipedia page and the quality of the editor and source time to move to the french page a lot of reader there still more language to go till next time wikipedia suck',\n",
       " 'you know i be think nobody really attack i before i reveal my age here after i announce that i be i be subject to a constant storm of harassment and abuse the same thing go for when i be on the sandbox when i be before people know my age they didn t care after i tell they my age they hate i it s just so amusing how the idiot soapboxer think of teenager as be responsible for the decline of the soapbox like it be ever any good to begin with this be funny because the adult be the dumb people here mauricio chuppah redneckgirl pinky scooby gg foreverlosttinkerbell greenrabbit starrocketsinflight bree robinson enigma cocainenightmares tokyodome chad ocho cinco steve lake all adult the teenage poster here be typically the smart one let s see g dawg head banging brunette classicage metropolis even though he s a bipolar weirdo chrisscript just to name a few all i ever see adult post be rate my poo my ballz smell funny whoz hawter i or ur mom i like to rape little girl and hey guyz look at me im an attention whore the adult poster here be immature moronic savage bully with the mental capacity of a retarded year old whereas most of the teenager here be thoughtful intelligent mature and often profound but they re subject to constant schoolyard bullying by the idiot adult poster who think they re somehow superior because they be bear and drop on their head early soapbox logic never fail to amuse i',\n",
       " 'here s an idea go fuck yourself cumshitter',\n",
       " 'will my motherfucking safety be guarantee i fucking hope so i m bring my own fuckin weapon pay i when i get back motherfucker oh yeah i ve get a joke a family husband wife son daughter dog walks into an agent s office and tell him that they ve get a great vaudeville routine he say we don t hire kiddy act and they say but we re really good and so the agent say fine let i see what you ve get but if you suck i m throw you out so the family get ready the daughter hit the cd player and circus music begin play the father jump kick the son in the head and stom his face in the ground until it s a bloody pulp then proceeds to jerk off and cum all over his shattered skull meanwhile the mother begin violently finger fuck the daughter as the dog fucks the mother in the ass hole this be the point when the father takes the leftover brain matter from the son s head and shoves it into the mother s pussy then begin fuck her pussy while simultaneously stick his finger down the daughter s throat until she vomit all over they both then the dog bites the mother s hand off as she s finger fucking the daughter leave she hand in the daughter s pussy as blood squirts all over the place the father takes blood from the ground smear it all over the mother s chest bends over and begin shit all over the open wound where she hand use to be before the dog bit it off they take the dog and shove it in a microwave heating it up until it explode then take the dog remains mix it with the father s shit the son s head wound and the father s cum and shove it into the daughter s mouth then the father rip the son s dick off and fucks the daughter with it as the mother locate s the son s testicles breaks they open and drink the sperm that come out then the family lines up and say ta da there s silence from the agent until he finally say i love it what do you call that and the family say we call it the aristocrats',\n",
       " 'fuck you smith please have i notify when you die i want to dance on your grave',\n",
       " 'i shit on your face fuck you',\n",
       " 'you be so retarded',\n",
       " 'groin you sad fuck i m go to restore my edit and you be go to leave it or else i wil knee you in the groin yourself prick',\n",
       " 'video game for pete sake if i see that false video game article one more time i ll throw a cat out of the window whoever you be stop it now it isn t funny or clever you be just make a moron out of yourself and i bet that be the same person who change the test card date too',\n",
       " 'he likes itin the ass by muhamad ali and kelly have a giant penis and also fucked columbus',\n",
       " 'just shut up and stay shut don t edit anymore',\n",
       " 'p s be you a b tard',\n",
       " 'ohhh i m sorry do i hurt your little feeling let s all shed a couple tear together lol what a joke i bet you feel pretty important pathetic little wikipedia volunteer have fun live in your mother s basement draw comic book lowlife',\n",
       " 'fuck off you murder scum',\n",
       " 'i take offense i take great offense that some pompous sanctimonious twit think that no one should be allow to express appreciation for woman like the gibson girl as the fine featured and achingly beautiful creature that they be i don t know what kind of totalitarian feminazi dystopian agenda you be try to foist on people but don t do it here this encyclopedia be base on free speech and a free exchange of information not bogus political correctness and schoolmarmish think police i ll take a gibson girl over you anyday',\n",
       " 'you gay motherfucker i know where you live i be go to sand your face off then i be to go to beat you to a pulp you chicken shagger',\n",
       " 'ok dennis brown thank for tell i i be take this a bit way too serious ill be careful for this time stupid bot',\n",
       " 'wikipedia be full of fool who take money and make people work for free wikipedia you might as well ban i you fool what s take so long wiki be a stupid place it s jimbo s cult',\n",
       " 'why be you change the somali people wiki seriously that page be biased to one clan i added a more diverse representation of somali people you stupid criminal',\n",
       " 'transistor the transistor page do not have a principle of operation section because a the physicist know about it but don t want to share it b they just don t know how it work i be think about it and come up with a fairly decent concept of how it work i put it on wiki i think the guy get jealous and here i be discuss pretty much nothing ps and my language be pathetic you naughty naughty boy i ll eat you',\n",
       " 'you studid cock sucker u stop callin i ok its a frank garrett eatin the worm crawl outa your mom pussy you fucking retardo hit i retardo',\n",
       " 'fisherqueen would you kindly stop follow my every move and delete thing off my user page have not you get anything well to do than piss people off on wikipedia',\n",
       " 'so jim burton child molest faggot i see you be still with we for yet another day make a total buffoon out of yourself as usual i don t know what be sad here you or the extreme hypocritical arrogance you show by lecture the world about ethical principle for your claim right to abuse our child you have no ethical principle to save your life but it s exactly as the roman poet say isn t it the harlot doth always rebuke the chaste will you ever drop dead we might all breathe a little easy for our kid sake you truly disgust i with every word you write',\n",
       " 'millinos of hunjan look at hunjan template not just i other hunjan will fight back your concept of art bull of shit tharkarn and what waste man',\n",
       " 'fu ck e trollreason',\n",
       " 'sr cl u bud bin a way like long time like time outa mind long gooood shit but mo latah an dat soon az ah gitz back heah sum a de brotherz n sistah sez hance dead or alive we re about to send a zion ranger to check on his condition ah sez whoa lead i gib he a holler dis i hollerin bro de zion rangerz be dem dat do most a de walkin tru wallz not all but most de wall walkin dude ain going to do r bro no harm he jes be checkin ee ben so a gentle remindah kum fuhst u be readin i d a leedle postin a dis n dat go down good doan fohget to cut sum zzzz aftah a tad a postin sleep good n doan fergit ta dream sumptin might kum jes ta bdh all wrapt roun wid delta wave n a kupla otha carrierz what we diz cuss latah chow bro',\n",
       " 'leave i alone i tell you already to leave i alone why can t you fuck off and do your own fucking thing or do you find that hound i be amusing i d u do then you be a mothafuckin asshole and i will ban you',\n",
       " 'take care not to believe your own bullshit see on bullshit',\n",
       " 'you be wrong about everything but for too stupid to notice you be a lost cause your existence be a blemish',\n",
       " 'wikidon stop stalk i',\n",
       " 'wouldn t be the first time bitch fuck you i ll find out where you live sodomize your wife and then burn your house down fuck you you fucking queer',\n",
       " 'where be the real vagina the real photo of vagina be go would you mind if i make the new one the vagina picture be indonesian s vagina do you love it',\n",
       " 'fuck you jzg i will have you remove as editor you stupid moron',\n",
       " 'you go away you loser way to standup for you boyfriend blueboy make i go away',\n",
       " 'how about this go fuck yourself',\n",
       " 'whoever put a notice on my page i will kill u',\n",
       " 'get off your high horse or block i',\n",
       " 'fuck you faggot i don t care if i get block as long as everyone know you be a dumb cunt',\n",
       " 'cavort with heretics fuck heretics',\n",
       " 'ha there wasn t a blp violation in the comment you oversite i didn t call anyone anything your abuse of admin tool be pathetic and cowardly funny how i talk about fascist control the gamergate article and you completely delete it from the history you just prove my point the one thing i do do be link to the suppose death threat that brianna wu be peddle to the medium which prove it be a complete fiction that s the problem you have you don t want your anti gamergate lie be expose',\n",
       " 'hey you freak hermaphrodite please unprotect your user page i would like to move it to a more suitable title or three',\n",
       " 'this be your dad sam i m worried about you worried that your cock will not fit in my ass anymore omfk lolz haha i say peeenis gorf gorf gorf gorf',\n",
       " 'so threaten to try to have i ban for editing be fine but when i suggest have your account delete for constantly delete entire paragraph completely ignore wikipedia s policy with regard to that instead of tagging or editing suddenly it s bully nonsense and you know it you re just try to make i look bad by resort to the you re a bully nonsense you have also not answer my question on which part be not neutral despite my statement that i would edit it you just delete it again get over yourself you do not own wikipedia the tag you ve place on your user page don t change that fact you delete entire paragraph for the sake of one word i have occasionally make the mistake of put a subjective word in an edit before and someone have notice you know what they do they edit it you have just admit in write that instead of edit paragraph that you believe be not neutral or mark they as such you be delete entire paragraph against the policy of wikipedia',\n",
       " 'or any historical fact concern current armenia pertain wikiprojects keep your pathetic winking mark to your antiturkish ass',\n",
       " 'what a joker you be european parliament have no power to do anything it be non bind because it be not serious and silly report like that be not mean to be serious what be more important be that we rule your ancestor for century and try to put negative image of turk in the turkey page be not go to change that this be not a place for you to get your revenge go and edit the golden dawn wikipedia because your idea will only be welcome there',\n",
       " 'i have a dick its big than your hahaha',\n",
       " 'watch out for user xeno hell bite your dick off',\n",
       " 'bleh i m all out of idea be there really something wrong with the server or what the damn thing win t work for i either helvetica font new svg my upload of segoe ui be actually a png to begin with',\n",
       " 'be a common prostitute a sock puppet i ve do lot of edit perhaps but the eb project be now go so it s only about edit i can become foul mouthed be your basic sock puppet mouth pervert pervert c est moi fourthave',\n",
       " 'homosexual marriage be totally gay well it be',\n",
       " 'fuck you people the information of that can be find here',\n",
       " 'just a thought hey jeremy why don t you wash your vagina why do you insist on let it smell like a musty pile of tuna i m tired of smell it babe when we make love i do you doggy style and the smell just pierce my nostril i have to turn away it disgust i so much also wipe your ass a little well i m get shit on my dick and tht s fucking gross you cunt',\n",
       " 'hey what the heck do you think watch this page mean i didn t have anything with the recent vandalism and personel attack on my account guess what i be just here to freak edit stuff in a good way when you idiot screw it up by blame i for something i didn t do i get piss now what the hell be go on here',\n",
       " 'fuck you both i m not interested in what either of you think',\n",
       " 'lol dumb arabs and their you can not show my god here a bomb because i have sand in my vagina fucking towelhead',\n",
       " 'shut up you fat poop or i will kick your ass',\n",
       " 'i be gay love i be gay love i be gay love',\n",
       " 'the only vandal be pathetic wiki administrator as encyclopediadramatica com say right',\n",
       " 'stop stop redirect the teddygodzilla page to list of code lyoko episode clearly i m in the middle of work on it what you need be patience man and don t give i something like you have enough time how do you know i haven t be busy what if i have to evacuate hurricane ike as a matter of fact my laptop charger decide to get fry and i have a very small amount of time on a computer now so my advice to you be to show some patience or you will find i be a major asshole towards you',\n",
       " 'always good to have the ignorant and mentally defective get together die soon',\n",
       " 'no this be a group effort wikipedia be a collaborative community and there be no school essay here the article need to be more professional and adopt a well title besides the reference this be all that need to be do so get off your high horse and accomplish what you want to see do if you have these goal then put yourself to the test of solve this problem that s what i do whenever something perturb i you re just look for a fight about something you admittedly care nothing about how about i come by your house and criticise your garden why you say because they be too fucking ugly and i don t like the way they don t blend in with the neighbour yard so tacky but i m only pass by and i ve never be down this road before feb utc',\n",
       " 'kiss my dick all of you',\n",
       " 'you need to stop what difference do it make if the episode of any show have their own article you re act like a major geek will wp collapse within itself if it s not perfect i think the joker say it well when he say the only sensible way to live in this world be without rule and don t even try to tell i that wp would be terrible without rule you can have moderator to stop vandalism just stop fuck redirect it s get on my nerve along with about of wp user',\n",
       " 'you be one sad little individual',\n",
       " 'camille paglia sex positive feminist here be the support link you ask for you stupid twit http www lotl com content paglia htm http www reference com browse wiki sex positive feminism if you be too lazy and full of yourself to read they in their entirety then i will just post the relevant section here camille paglia on the other hand i ve be say in public for five year ago as someone who s endorse prostitute and stripper and that whole extreme of sex positive experience that i m concerned about the effect on young people people grow up from in a climate where it s go to the opposite direction i m already out there concerned about this so i m really outraged to be stereotype in that way by she because i be a career teacher and yes when you have a situation where commercialise sex be be push without a true eroticism i ve be say this for year that we have get to a point of meaningless exhibitionism without real eroticism i m for eroticism camille paglia be a major american social critic paglia s academic writing focus on the role of vibrant dangerous sexuality in human history paglia s key importance to sex positive feminism be not only her writing on sex but her advocacy of traditional value like canon text paglia be somewhat of an intellectual enigma a conservative and academic feminist who revel in low and high culture alike and celebrate sexuality disapprove of by mainstream western culture paglia have in many way present a respectable face for pro sex feminism to the world at large',\n",
       " 'listen up you narrow eyed teacher live on minimum wage you can keep on do your buck buck chicken trash talk or perhaps you might wanna consider move back to lemuria the land where your kind of scum roam',\n",
       " 'it doesn t matter what i think i m a big retarded antisemite i m a go throw myself in front of an sixteen wheeler with the grill cover in razor wire and video tape it for you people will find the lone tripod on the side of the road see the video think it s lulzy then put it on youtube for posterity',\n",
       " 'to blanchardb you dumb motherfucker i be go to sue the shit out of you watch your back',\n",
       " 'suck my dick thank you talk hist',\n",
       " 'man you be really a dishonest person disgusting',\n",
       " 'poor edit the edit look fine wtf be the matter with you',\n",
       " 'that be a good edit the polar bear be gay',\n",
       " 'demonte morton u bastard stop deletin my shit u white trash cracker muthafucker fuck u u racist bitch i hope u die',\n",
       " 'bla bla bla suck it irishguy',\n",
       " 'try the official website then shit head',\n",
       " 'hi hi there this may sound a bit stupid question but do not get it wrong be you jew if so how be you really think there be any resemplence between holocoust and armeian deportation',\n",
       " 'every other press agency say the crowd be chant you re a tory too only the daily mail which by the way be a tory paper report that the croud chant fucking tory jew he be a dispicable scab but that be because of his politic not his liniage',\n",
       " 'unblock i say i m sorry how do u expect i to stop make account if u do not unblock i if u unblock i ill stop make acount simple ur the one who be make something bad to bad stop make a big deal i m not do anything bad or violate anything now so i do not get it why be i still block just get over it already i mean well i m not here do violate anything i m just try to help and can someone tell alexandria to unblockme already this block be so fucking overrated can not u just forgive and forget move on people there be other thing to worry about than a stupid block so unblock i and move on again i come in peace and i have a right to contribute to wikipedia what happend in the past happend the past be in the past now be the present let open a new page and start a new chapter star fresh ok deal i promise i will not violate you all i m ask be another chance one last chance',\n",
       " 'i m the one that go to get help from the admin incident board because he be edit war with i why would i call the police if i m the one that commit the crime you truly be ridiculous basically that guy steal my wallet i punch he and you re arrest i for assault horrible power hungry ego booster have take over wikipedia it seem',\n",
       " 'lmao that s basically say wahhh he call i dumb i gunna block he nice use of those admin power now stay off my talk page',\n",
       " 'fuck you and your small penis',\n",
       " 're move dragon slayer to dragon slayer series fuck your mother you be son of a bitch',\n",
       " 'and on top of that eh you re not worth it',\n",
       " 'what the hell do u mean cough cough excuse i who the hell be you accuse of disruptive editing i be the individual who actually write the bulk of the article on rajbeer singh you give you the right to come and simply delete you all my writing if you wish to contribute link go ahead but who the hell give you the permission to simply delete all the writing that i have spend time and effort do carry on delete my work and i will carry on undo yours with pleasure',\n",
       " 'live in darkness you guy be full of yourselfs and the importance in your own mind maybe drunk with power',\n",
       " 'insult for musikanimal you re a fucking shit the reason that i m insult be because fuck you wikipedia',\n",
       " 'when the funeral come i will be the only one their and i will only be their to piss on your grave',\n",
       " 'you have no friend in real life what make you think anyone on the internet will like you take the hint you re an a hole',\n",
       " 'the first three be reject out of hand and the follow half a dozen where similarly ditch i could produce another fukkin half a dozen but it that wouldn t matter to a pure pos pay scumbag would it',\n",
       " 'you know what don t offend other user you be a jerk i know you be correct but you don t have to get so angry about it',\n",
       " 'anti semitic crap the whole article be an anti semitic conspiracy theory cherish by aryan supremacist rightist',\n",
       " 'closedmouth be a dick fuck this guy be a jackass who sux cock a fuckin job y the fuck do the trans do it cuz its into tht kinda shit',\n",
       " 'god i just hate they so much let hope they die',\n",
       " 'you win t find any creditable citation because such claim be a load of racist horse shit',\n",
       " 'no silly it be not its ur moms and might i say quite the lovely page indeed oh and ur mean no i m just kiddde but ur not all that nice either cause u have a black black heart',\n",
       " 'you have evidence from me i present you with tone of evidence but you reject it because it go against your fictional idea of what new england be or should be even eastern southeast anyway ct be not into this new england thing which actually shock i i have tell you time and again western ct do not think of ourselves in this ne thing go to a town meeting and see if boston or ne come up ct and it s place in the nyc metro area be what come up you be do nothing but tell lie and spread propaganda it have to be because you dismiss my actual fact and you make too many excuse that hold no water in my ct there be no sign that point to new england or boston our sign point to new york state and city also how you people be not on this guy s ass like you be on mine i bet its cause we white folk from new england hate nyc niggers like this spick who post above i go fuck yourself the precede unsigned comment be add by talk contrib i can only assume because he be one of you and he at least still believe in new england with boston as it s capital get your head out of your ass watch you block i for those comment if i get block that guy you should be block',\n",
       " 'who s the douche that deleate all of the info and crap i really want to curse they out right now',\n",
       " 'drmie delete frankie stein from monster high drmie be the f word',\n",
       " 'mine dispeare somebody wax my ass',\n",
       " 'stop leave stupid harping message for peopel that be nil to do with what you be talk about',\n",
       " 'hey fuck you who the fuck check phnom nam lyr wildlife sanctuary for vandalism get a fucking life you turd bag',\n",
       " 'yo what the fuck be your problem fuck around with my page leave it the fuck alone',\n",
       " 'as for the arguement that abo should be include it already be wanker be use alot but only as a common noun and the usuage isn t unique same for the other word mention though other commonwealth country such as new zealand may use cunt in a similar fashion australians do seem to use it more however this arguement be irrelevent since many australian word such as mate bloke etc be use extensively in nz and the uk though be still in the article r m',\n",
       " 'oh gwh you truly be the bad admin at wikipedia may god have mercy on your poor pathetic overweight ugly soul',\n",
       " 'unblock what the fuck the article on anne kilkenny be poorly write i rewrote it so it do not look like shit look at my final edit you fucking dumbass',\n",
       " 'hey idiot i m simply verify the truth mobile be not the first to have a ringtone maker online brinked be do some fucking research before you remove my shit tired of you asshole remove my hard work i m put into make wikipedia a relevant page',\n",
       " 'we own the project so how the heck be it unambiguous copyright infringement and it be not write in a promotional way it just explain the project and the system requirment i m start to see why so many people hate wikipedia',\n",
       " 're punk ass snitch get the cock',\n",
       " 'oh right like this article suck and you know it isn t abusive language hypocrite eat shit and die loser',\n",
       " 'you be a faggot get a life',\n",
       " 'jimbo the crybaby sit in front of his computer everyday act as the arbiter of the grand wikipedia the all know know it all who be the expert on everything the savior of the western world and of course when question about anything cry to the main office about ill treatment by the way a lousy editor who use only one source a joke',\n",
       " 'or any historical fact concern current armenia pertain wikiprojects keep your pathetic winking mark to your antiturkish ass do not delete talk page entrie fucking asshole you do not have to make yourself obvious as a criminial on the loose be not you suppose to be pimp your mother in l a downtown at this time of the night normally',\n",
       " 'lol lol seriously bryanfrompalatine my ip resolve to cologne germany where i happen to reside i use no sockpuppet and when i edit per ip which i do mainly because it s fast without all the monobook css gadget whenever i remember to i include my only active username with the signature but please don t let i keep you from waste your meagre brain ressource i just fuck my hot girlfriend for two hour she come time i just time life be unfair so i m really calm as a hindu cow i laugh in your face pov push encyclopedia harm moron everyme log out',\n",
       " 'recent you just a pussy',\n",
       " 'pick on a year old soooo sad just shut up okay i m only year old i just want to have a little fun captain buzz kill i guess you never have a life when you be young that be probably like year old lol none yo beez nas',\n",
       " 'once again i m so glad that wikipedia be not biased or fill with retarded child',\n",
       " 'reliable source cheat barry bonds cheater from cbs yea i kinda think that be reliable dear barry bonds you be either an outright cheater or very stupid from the usa today yes barry bonds be a cheater he be a cheater of the bad sort lie it s clear barry bonds a liar new york daily news another pretty freakin reliable source barry lamar bonds be a bad man baseball digest but bonds be a liar a cheater a whiner and a bad influence on america s youth mark barnes',\n",
       " 'your be fucking gay wad i fuck your mum oh wait your gay you dont have a mom hahahahahahahahahahahahahahahahahahahahahahahahahahahahahahahahahahahahahahahahahahahahahahahahahahahahahahahahahahahahahahahahahahahahahahahahahahahahahahahahahahahahahahahahahahahahahahahahahahahahahahahahahahahahahahahahahahahahahahahahahahahahahahahahahahahahahahahahahahahahahahahahahahahahahahahahahahahahahahahahaha lolololololololololololololololololololololololololololololololololololololololololololololololololololololololololololololololololololololololololololololololololololololololololololololololololololololololololololololololol cuntcuntcuntcuntcuntcuntcuntcuntcuntcuntcuntcuntcuntcuntcuntcuntcuntcuntcuntcuntcuntcuntcuntcuntcuntcuntcuntcuntcuntcuntcuntcuntcuntcuntcuntcuntcuntcuntcuntcuntcuntcuntcuntcuntcuntcunti fuck your mum oh wait your gay you dont have a mom hahahahahahahahahahahahahahahahahahahahahahahahahahahahahahahahahahahahahahahahahahahahahahahahahahahahahahahahahahahahahahahahahahahahahahahahahahahahahahahahahahahahahahahahahahahahahahahahahahahahahahahahahahahahahahahahahahahahahahahahahahahahahahahahahahahahahahahahahahahahahahahahahahahahahahahahahahahahahahahahaha lolololololololololololololololololololololololololololololololololololololololololololololololololololololololololololololololololololololololololololololololololololololololololololololololololololololololololololololololol cuntcuntcuntcuntcuntcuntcuntcuntcuntcuntcuntcuntcuntcuntcuntcuntcuntcuntcuntcuntcuntcuntcuntcuntcuntcuntcuntcuntcuntcuntcuntcuntcuntcuntcuntcuntcuntcuntcuntcuntcuntcuntcuntcuntcuntcunti fuck your mum oh wait your gay you dont have a mom hahahahahahahahahahahahahahahahahahahahahahahahahahahahahahahahahahahahahahahahahahahahahahahahahahahahahahahahahahahahahahahahahahahahahahahahahahahahahahahahahahahahahahahahahahahahahahahahahahahahahahahahahahahahahahahahahahahahahahahahahahahahahahahahahahahahahahahahahahahahahahahahahahahahahahahahahahahahahahahahaha lolololololololololololololololololololololololololololololololololololololololololololololololololololololololololololololololololololololololololololololololololololololololololololololololololololololololololololololololol cuntcuntcuntcuntcuntcuntcuntcuntcuntcuntcuntcuntcuntcuntcuntcuntcuntcuntcuntcuntcuntcuntcuntcuntcuntcuntcuntcuntcuntcuntcuntcuntcuntcuntcuntcuntcuntcuntcuntcuntcuntcuntcuntcuntcuntcunti fuck your mum oh wait your gay you dont have a mom hahahahahahahahahahahahahahahahahahahahahahahahahahahahahahahahahahahahahahahahahahahahahahahahahahahahahahahahahahahahahahahahahahahahahahahahahahahahahahahahahahahahahahahahahahahahahahahahahahahahahahahahahahahahahahahahahahahahahahahahahahahahahahahahahahahahahahahahahahahahahahahahahahahahahahahahahahahahahahahahaha lolololololololololololololololololololololololololololololololololololololololololololololololololololololololololololololololololololololololololololololololololololololololololololololololololololololololololololololololol cuntcuntcuntcuntcuntcuntcuntcuntcuntcuntcuntcuntcuntcuntcuntcuntcuntcuntcuntcuntcuntcuntcuntcuntcuntcuntcuntcuntcuntcuntcuntcuntcuntcuntcuntcuntcuntcuntcuntcuntcuntcuntcuntcuntcuntcunti fuck your mum oh wait your gay you dont have a mom hahahahahahahahahahahahahahahahahahahahahahahahahahahahahahahahahahahahahahahahahahahahahahahahahahahahahahahahahahahahahahahahahahahahahahahahahahahahahahahahahahahahahahahahahahahahahahahahahahahahahahahahahahahahahahahahahahahahahahahahahahahahahahahahahahahahahahahahahahahahahahahahahahahahahahahahahahahahahahahahaha lolololololololololololololololololololololololololololololololololololololololololololololololololololololololololololololololololololololololololololololololololololololololololololololololololololololololololololololololol cuntcuntcuntcuntcuntcuntcuntcuntcuntcuntcuntcuntcuntcuntcuntcuntcuntcuntcuntcuntcuntcuntcuntcuntcuntcuntcuntcuntcuntcuntcuntcuntcuntcuntcuntcuntcuntcuntcuntcuntcuntcuntcuntcuntcuntcunti fuck your mum oh wait your gay you dont have a mom hahahahahahahahahahahahahahahahahahahahahahahahahahahahahahahahahahahahahahahahahahahahahahahahahahahahahahahahahahahahahahahahahahahahahahahahahahahahahahahahahahahahahahahahahahahahahahahahahahahahahahahahahahahahahahahahahahahahahahahahahahahahahahahahahahahahahahahahahahahahahahahahahahahahahahahahahahahahahahahahaha lolololololololololololololololololololololololololololololololololololololololololololololololololololololololololololololololololololololololololololololololololololololololololololololololololololololololololololololololol cuntcuntcuntcuntcuntcuntcuntcuntcuntcuntcuntcuntcuntcuntcuntcuntcuntcuntcuntcuntcuntcuntcuntcuntcuntcuntcuntcuntcuntcuntcuntcu',\n",
       " 'aaron swartz stop fuck revert my goddamn edit i think aaron swartz be a dumb ass and he should have be kill a long time ago i know where you live i will kill you if you revert any more page',\n",
       " 'i wish to restate the an thread as neutral and invite community discussion i realize that i go to far by characterize ih as a dick i apologize',\n",
       " 'why the hell do you fucking write that i can vandalize wikipedia whenever i want',\n",
       " 'my side of the story attention douchebag and douchetee i have be lable as a terrorist on this site bull to the shit i simply have a vast amount of knowlege on a wide range of topic scjessey for example do not mention he be a fucking douchebag on his article so i have to ammend this i be simply try to spread the truth alllallalalalalalalalalaalalaalalalalalal sorry i have to do that every minute or i go to hell allalalalalalalalalalalalalalallalalalalalllalalala allah ever',\n",
       " 'moral defense you slimy toad you',\n",
       " 'you re biased i make it a point since i sign up here that none of you exist',\n",
       " 'well fag block i block i oh the world will shurly end come off your high horse i ll say what i want about you if you continue bash i then i will just have to post complaint about you on every b log and forum i can find every chat room will be fill with how redfarmer do your mom come up with that name be untrustworthy if you block i i can always find info on another site a site where they don t allow people or freaks like you to delete page on a whim so you going to block i ban i go ahead but be warn without be able to edit page i can t help you by give you instruction on how to change your diaper sorry leonhart',\n",
       " 'i m sorry that i must say this i have never come across a more idiotic editor on wikipedia congratulations on make it to the top of my list i mean that in a congratulatory sense entirely in no way be it mean to offend or sound sarcastic i wouldn t call you an editor though you re more of a pollutant to this project and one with extreme perversion of perception please reread the discussion at the talk page base on what you last post there it be painfully obvious that you ignore or do not comprehend much of what i try explain to you multiple time at that talk page',\n",
       " 'fartsalot say f k you motherclucker',\n",
       " 'you must have the low iq of anyone on wikipedia i can t converse with a fool like you',\n",
       " 'a kitten for you just becuz ur pussy lie',\n",
       " 'i know that s not mature and anyway that be my cousin i go to the bathroom and he get on for awhile and be be an idiot so don t talk to i like i do anything for i be zod and i can break you so leave it',\n",
       " 'you be a gay homo i hope you choke on your penis and die i be send a big bleck guy to jizz in your face',\n",
       " 'what a deceptive little creature you be indeed assume good faith eh you deliberately scrub that because it shed a little light on where all these race hygiene theory originate from from your dear little country that s where that doesn t fit well with you do it so you want to create the perception to your reader that i be the crank and conspiracy theorist when wikipedia s own article on henry ford include that stuff about the protocols of zion as well',\n",
       " 'f y punk vidgmr be my homie it s be due to some faggot name klptyzm',\n",
       " 'sqgibbon your moother sound to be some slimmy donute now watch what s come your way ha ha ha ha',\n",
       " 'igho otegheri deletion who the hell be you to decide what to delete and what not you could go fuck yourself u little piece of shit',\n",
       " 'also your mom give me herpes tell she i say thank',\n",
       " 'stop troll zapatancas call i a liar merely demonstarte that you arer zapatancas you may choose to chase every legitimate editor from this site and ignore i but i be an editor with a record that be not trolling and therefore my wish be not to be completely ignore by a sockpuppet like yourself the consensus be overwhelmingly against you and your trollin g lover zapatancas',\n",
       " 'knock it off spinningspark quit it you ve be community ban when you block i you make the sinkhole you be in now deep and deep if you want to live you need to take advantage of your priviledge basically keep the hell off wikipedia for a year and edit on other wikimedia project to demonstrate that after a week or two an appeal would be beneficial to the project if i create a new account that be more selective maybe it will be eligible for adminship if so the first thing i will do be get you community ban i want revenge ylgc dsynvm',\n",
       " 'nobody care about the fucking shit like you fucking bitch',\n",
       " 'the only thing you be persistant at you ugly bastard be fuck the troll',\n",
       " 'wtf ban some person in a fourm say it be ban in syria do to the closeness of the name al asad and al assad the correct form be al asad in the game i say he be wrong and he go crazy say some dumb stuff that i be stupid who be right cause i could find no source that confirm his statement that this game be ban in syria asad and assad be very common middle eastern name anyway',\n",
       " 'fuck you muthafucka you jerk you scum lowlife loser hehe hahah',\n",
       " 'look you little cocksucker i do nothing wrong i be sick of your bullshit harassment and you be really start to piss i off you little pussy i be do nothing wrong so just swallow your pride i know it s hard for you and admit you lose this fight now piss off blackeyedfool',\n",
       " 'i agree to that many part of the article be apparently bias make up b example follow downfall it be common knowledge that de molay plan on corrupt catherine of valois male child by tend to their sorrow then by engage in act of anal rape philip know the danger that de molay represent his own son be nearly sexually molest by de molay upon escape the vile pervert they confess to philip what de molay have try to do myths it be say that jacques de molay curse philippe le bel and his descent from his execution pyre a curse which be respond to by philip shout in defiance fuck de molay it have be speculate that several of the boy whom de molay have corrupt have grow to enjoy the perversion of the homosexual lifestyle introduce to they legacy member be encourage to model their conduct after his example of loyalty and fidelity instead of the homosexual perversion that de molay be guilty of himself vile pervert homosexual perversion sheesh could someone sane please clean up this article',\n",
       " 'no you be the racist you goddamn neo nazi you big boy',\n",
       " 'good grief can you read why don t you try examine the substance of the link i be sick and tired of child rant without read',\n",
       " 'what the fuck gose here',\n",
       " 'you you re a little bitch you can t handle an argument like a man so you re cry to the administrator go fuck yourself',\n",
       " 'you be a fool if you think wikipedia be a respected entitity in this world so shut',\n",
       " 'mostly burtalbert you fucking asshole go suck a dick u fucking king of asshole',\n",
       " 'i have enough of you bastard',\n",
       " 'some baklava for you fuck',\n",
       " 'vandalism spree your vandalism spree be pitiful all this after i support your motion thank a lot',\n",
       " 'this be my page fucker so i can say what i want fuck you drini and naconkantari i hope you enjoy your scheduled rape p s do a head count lately',\n",
       " 'scope please see the link above as i m sure you be a fucking spastic',\n",
       " 'hey wiki nerd u suck man i do not like your nasty coment punk ill beat ur gut from the back sign lover boy ps i love butt sex and we can have butt sex ill bring the ky gelly',\n",
       " 'you be a mothjer fucker cocksucker you be a mothjer fucker cocksucker you be a mothjer fucker cocksucker you be a mothjer fucker cocksucker you be a mothjer fucker cocksucker you be a mothjer fucker cocksucker you be a mothjer fucker cocksucker you be a mothjer fucker cocksucker you be a mothjer fucker cocksucker you be a mothjer fucker cocksucker you be a mothjer fucker cocksucker you be a mothjer fucker cocksucker you be a mothjer fucker cocksucker you be a mothjer fucker cocksucker you be a mothjer fucker cocksucker you be a mothjer fucker cocksucker you be a mothjer fucker cocksucker you be a mothjer fucker cocksucker you be a mothjer fucker cocksucker you be a mothjer fucker cocksucker you be a mothjer fucker cocksucker you be a mothjer fucker cocksucker you be a mothjer fucker cocksucker you be a mothjer fucker cocksucker you be a mothjer fucker cocksucker you be a mothjer fucker cocksucker you be a mothjer fucker cocksucker you be a mothjer fucker cocksucker you be a mothjer fucker cocksucker you be a mothjer fucker cocksucker you be a mothjer fucker cocksucker you be a mothjer fucker cocksucker you be a mothjer fucker cocksucker you be a mothjer fucker cocksucker you be a mothjer fucker cocksucker you be a mothjer fucker cocksucker you be a mothjer fucker cocksucker you be a mothjer fucker cocksucker you be a mothjer fucker cocksucker you be a mothjer fucker cocksucker you be a mothjer fucker cocksucker you be a mothjer fucker cocksucker you be a mothjer fucker cocksucker you be a mothjer fucker cocksucker you be a mothjer fucker cocksucker you be a mothjer fucker cocksucker you be a mothjer fucker cocksucker you be a mothjer fucker cocksucker you be a mothjer fucker cocksucker you be a mothjer fucker cocksucker you be a mothjer fucker cocksucker you be a mothjer fucker cocksucker you be a mothjer fucker cocksucker you be a mothjer fucker cocksucker you be a mothjer fucker cocksucker you be a mothjer fucker cocksucker you be a mothjer fucker cocksucker you be a mothjer fucker cocksucker you be a mothjer fucker cocksucker you be a mothjer fucker cocksucker you be a mothjer fucker cocksucker you be a mothjer fucker cocksucker you be a mothjer fucker cocksucker you be a mothjer fucker cocksucker you be a mothjer fucker cocksucker you be a mothjer fucker cocksucker you be a mothjer fucker cocksucker you be a mothjer fucker cocksucker you be a mothjer fucker cocksucker you be a mothjer fucker cocksucker you be a mothjer fucker cocksucker you be a mothjer fucker cocksucker you be a mothjer fucker cocksucker you be a mothjer fucker cocksucker you be a mothjer fucker cocksucker you be a mothjer fucker cocksucker you be a mothjer fucker cocksucker you be a mothjer fucker cocksucker',\n",
       " 'motherfucker dont be change the fucking gta timeline',\n",
       " 'fuck you you paranoid bitch you be a ugly unwanted bucket of sludge who be obsess with the unwanted festering sputum bag from hell and the teletubbie rub pantaloon you try to bite the mailman you c u m guzzle sick minded prick who cook for the filthy freak and the decompose penguin groper thy fawn ill nurture lout hath a idle head maggot pie if not for your daddy you would be a racist cursed horny toad who eat the earwax of the brain dead snotbox and the crap eat horny toad and you lift your leg on tree you evil naked weasel who slobber on the wrinkly snob and the anatomically incorrect disfunctional buffoon so quit be so stupid you cat litter munch abysmal lunatic who slobber on the cat harass rectum and the anatomically incorrect lunatic you big smelly cunt your mum crack taste like mince and fuck your mouth your girlfriend be ugly if my dog be as ugly as you be i would shave his ass and make he walk backwards you be just cum you mom should of swallow you be just a dog that jump the fence and run away how do you get here do someone leave your cage open be your parent sibling hey be you lose which way do you come in do she have an appetite she look like she have an appetite go ahead tell they everything you know it ll only take second i d love to go out with you but my favorite commercial be on tv you fail at life and please press the reset button on your life you should see the expression on their face priceless game over motherfucker thank to you neither i nor my family will give this shit foundation a fucking dime do wikipedia a favor and just delete your account have a nice day',\n",
       " 'please stop vandalise my page cunt',\n",
       " 'that be a nice message on my talk page i enjoy it i mean you still suck but yeah i have fun talk',\n",
       " 'mfnickster i be not sure if you have ever have any exposure to argumentative fallacy but just because she do not write about exterminate the negro population in her biographical account do not mean it be an idea she be wholly against there seem to be enough evidence out there to warrant a section in the article re this topic i be not sure why you have such a hard on for she be she your grandmother or something',\n",
       " 'you have abuse log that be log of abuse to page i have never even post to what teh hell be go on all i try to do be post to teh sam couep page its a likn to a video on youtube why the hell cant you explain to someone what you be do when you do it if you remove it and then let i repost exactly the same thing what the hell am i suppose to think what teh hell be go on your site be so complex it be impossible simplify please i cannot communicate with teh people who have remove my link i cannot communicate with anyone i get of the advertised connection speed do you ahve shares in telecommunications company be you jewish what teh fuck be go on for gods sake',\n",
       " 'let s see which one of we be make personal attack and edit warring that would be you and you respectively and now you re make threat nice you want to have a good day stop be a bully and find another hobby',\n",
       " 'how about a little fire nate throw fireball at nate i stole wikipedia i stole wikipedia fuck wikipedia fuck',\n",
       " 'it s in spanish but it s the truth if you don t cite this you be act like the fraken gatekeeper know it all you aren t shit',\n",
       " 'you fascit nazi you socialist bastard you filthy hippy you dare touch my edit again and i ll go to where you live and kick your ass in person it shouldn t be hard to find commune smell bad than slaughter house i make edit i don t vandilaze get off your high horse',\n",
       " 'user nhrhs be a homo like mitt romney be user nhrhs be a homo like mitt romney be user enigmaman be a homo like mitt romney be user enigmaman be a homo like mitt romney be user nhrhs be a homo like mitt romney be user nhrhs be a homo like mitt romney be user enigmaman be a homo like mitt romney be user enigmaman be a homo like mitt romney be user nhrhs be a homo like mitt romney be user nhrhs be a homo like mitt romney be user enigmaman be a homo like mitt romney be user enigmaman be a homo like mitt romney be user nhrhs be a homo like mitt romney be user nhrhs be a homo like mitt romney be user enigmaman be a homo like mitt romney be user enigmaman be a homo like mitt romney be user nhrhs be a homo like mitt romney be user nhrhs be a homo like mitt romney be user enigmaman be a homo like mitt romney be user enigmaman be a homo like mitt romney be user nhrhs be a homo like mitt romney be user nhrhs be a homo like mitt romney be user enigmaman be a homo like mitt romney be user enigmaman be a homo like mitt romney be user nhrhs be a homo like mitt romney be user nhrhs be a homo like mitt romney be user enigmaman be a homo like mitt romney be user enigmaman be a homo like mitt romney be user nhrhs be a homo like mitt romney be user nhrhs be a homo like mitt romney be user enigmaman be a homo like mitt romney be user enigmaman be a homo like mitt romney be user nhrhs be a homo like mitt romney be user nhrhs be a homo like mitt romney be user enigmaman be a homo like mitt romney be user enigmaman be a homo like mitt romney be user nhrhs be a homo like mitt romney be user nhrhs be a homo like mitt romney be user enigmaman be a homo like mitt romney be user enigmaman be a homo like mitt romney be user nhrhs be a homo like mitt romney be user nhrhs be a homo like mitt romney be user enigmaman be a homo like mitt romney be user enigmaman be a homo like mitt romney be user nhrhs be a homo like mitt romney be user nhrhs be a homo like mitt romney be user enigmaman be a homo like mitt romney be user enigmaman be a homo like mitt romney be user nhrhs be a homo like mitt romney be user nhrhs be a homo like mitt romney be user enigmaman be a homo like mitt romney be user enigmaman be a homo like mitt romney be user nhrhs be a homo like mitt romney be user nhrhs be a homo like mitt romney be user enigmaman be a homo like mitt romney be user enigmaman be a homo like mitt romney be user nhrhs be a homo like mitt romney be user nhrhs be a homo like mitt romney be user enigmaman be a homo like mitt romney be user enigmaman be a homo like mitt romney be user nhrhs be a homo like mitt romney be user nhrhs be a homo like mitt romney be user enigmaman be a homo like mitt romney be user enigmaman be a homo like mitt romney be user nhrhs be a homo like mitt romney be user nhrhs be a homo like mitt romney be user enigmaman be a homo like mitt romney be user enigmaman be a homo like mitt romney be user nhrhs be a homo like mitt romney be user nhrhs be a homo like mitt romney be user enigmaman be a homo like mitt romney be user enigmaman be a homo like mitt romney be user nhrhs be a homo like mitt romney be user nhrhs be a homo like mitt romney be user enigmaman be a homo like mitt romney be user enigmaman be a homo like mitt romney be user nhrhs be a homo like mitt romney be user nhrhs be a homo like mitt romney be user enigmaman be a homo like mitt romney be user enigmaman be a homo like mitt romney be user nhrhs be a homo like mitt romney be user nhrhs be a homo like mitt romney be user enigmaman be a homo like mitt romney be user enigmaman be a homo like mitt romney be user nhrhs be a homo like mitt romney be user nhrhs be a homo like mitt romney be user enigmaman be a homo like mitt romney be newl',\n",
       " 'don t talk googie man i get simple word for you shut up let s see a guy who spend his time sit at the computer edit wikipedia name googie man what can i say you think big than i you think you well than i you be nt nothing stop call i a rogue editer that be the corny thing that i ever hear i know you be mad at i because i make fun of and replace you horrible terrible ugly picture of donnie baseball but call i a rogue be the big outrage that i have ever see please delete that picture before all of we go blind i would rather have no picture on the page then to have the bad picture in the history of the world on the page don t ever delete my comment on any talk page ever again i have the right to express my opinion i be a villian but you just a hostage you can t stop the reign of the king of wikipedia now go take some more picture or something and stay outta my way i m out',\n",
       " 'why don t you remove my free speech you goddamne self you whiny little pipsquak that s all you seem to be good at do',\n",
       " 'go kill yourself you should be ashamed of yourself twoofer like you be scumbag that deserve to die you anti scientific asshole be destroy america',\n",
       " 'fuck of nazi propaganda odpierdalcie sie jebani faszy ci od polski',\n",
       " 'not really sure what the issue be here what be the name of the rose it be a book be it a fictional library no it be not be it a fictional librarian no it be not for a real book can not be a fictional anything so stop bloody add real thing to category for fictional thing not that difficult really',\n",
       " 'since this be my user page i can say what i want you guys be all a bunch of motherfucking ass eater and i hope you all rot in hell',\n",
       " 'you be an awesome wikipedian some shit some dropping of filthy muck mess to feel you well don t bother myself summon',\n",
       " 'fuck you u useless bot fuck you u useless bot fuck you u useless bot fuck you u useless bot fuck you u useless bot fuck you u useless bot fuck you u useless bot fuck you u useless bot fuck you u useless bot fuck you u useless bot fuck you u useless bot fuck you u useless bot fuck you u useless bot fuck you u useless bot fuck you u useless bot fuck you u useless bot fuck you u useless bot fuck you u useless bot fuck you u useless bot fuck you u useless bot fuck you u useless bot fuck you u useless bot fuck you u useless bot fuck you u useless bot fuck you u useless bot fuck you u useless bot fuck you u useless bot fuck you u useless bot fuck you u useless bot fuck you u useless bot fuck you u useless bot fuck you u useless bot fuck you u useless bot fuck you u useless bot fuck you u useless bot fuck you u useless bot fuck you u useless bot fuck you u useless bot fuck you u useless bot fuck you u useless bot fuck you u useless bot fuck you u useless bot fuck you u useless bot fuck you u useless bot fuck you u useless bot fuck you u useless bot fuck you u useless bot fuck you u useless bot fuck you u useless bot fuck you u useless bot fuck you u useless bot fuck you u useless bot fuck you u useless bot fuck you u useless bot fuck you u useless bot fuck you u useless bot fuck you u useless bot fuck you u useless bot fuck you u useless bot fuck you u useless bot fuck you u useless bot fuck you u useless bot fuck you u useless bot fuck you u useless bot fuck you u useless bot fuck you u useless bot fuck you u useless bot fuck you u useless bot fuck you u useless bot fuck you u useless bot fuck you u useless bot fuck you u useless bot fuck you u useless bot fuck you u useless bot fuck you u useless bot fuck you u useless bot fuck you u useless bot fuck you u useless bot fuck you u useless bot fuck you u useless bot fuck you u useless bot fuck you u useless bot fuck you u useless bot fuck you u useless bot fuck you u useless bot fuck you u useless bot fuck you u useless bot fuck you u useless bot fuck you u useless bot fuck you u useless bot fuck you u useless bot fuck you u useless bot fuck you u useless bot fuck you u useless bot fuck you u useless bot fuck you u useless bot fuck you u useless bot fuck you u useless bot fuck you u useless bot fuck you u useless bot fuck you u useless bot fuck you u useless bot fuck you u useless bot fuck you u useless bot fuck you u useless bot fuck you u useless bot fuck you u useless bot fuck you u useless bot fuck you u useless bot fuck you u useless bot fuck you u useless bot fuck you u useless bot fuck you u useless bot fuck you u useless bot fuck you u useless bot fuck you u useless bot fuck you u useless bot fuck you u useless bot fuck you u useless bot fuck you u useless bot fuck you u useless bot fuck you u useless bot fuck you u useless bot fuck you u useless bot fuck you u useless bot fuck you u useless bot fuck you u useless bot fuck you u useless bot fuck you u useless bot fuck you u useless bot fuck you u useless bot fuck you u useless bot fuck you u useless bot fuck you u useless bot fuck you u useless bot fuck you u useless bot fuck you u useless bot fuck you u useless bot fuck you u useless bot fuck you u useless bot fuck you u useless bot fuck you u useless bot fuck you u useless bot fuck you u useless bot fuck you u useless bot fuck you u useless bot fuck you u useless bot fuck you u useless bot fuck you u useless bot fuck you u useless bot fuck you u useless bot fuck you u useless bot fuck you u useless bot fuck you u useless bot fuck you u useless bot fuck you u useless bot fuck you u useless bot fuck you u useless bot fuck you u useless bot fuck you u useless bot fuck you u useless bot fuck you u useless bot fuck you u useless bot fuck you u useless bot fuck you u useless bot fuck you u useless bot fuck you u useless bot fuck you u useless bot fuck you u useless bot fuck you u useless bot fuck you u useless bot fuck you u useless bot fuck you u useless bot fuck you u useless bot fuck you u useless bot fuck you u useless bot fuck you u useless bot fuck you u useless bot fuck you u useless bot fuck you u useless bot fuck you u useless bot fuck you u useless bot fuck you u useless bot fuck you u useless bot fuck you u useless bot fuck you u useless bot fuck you u useless bot fuck you u useless bot fuck you u useless bot fuck you u useless bot fuck you u useless bot fuck you u useless bot fuck you u useless bot fuck you u useless bot fuck you u useless bot fuck you u useless bot fuck you u useless bot fuck you u useless bot fuck you u useless bot fuck you u useless bot fuck you u useless bot fuck you u useless bot fuck you u useless bot fuck you u useless bot fuck you u useless bot fuck you u useless bot fuck you u useless bot fuck you u useless bot fuck you u useless bot fuck you u useless bot fuck you u useless bot fuck you u useless bot fuck you u useless bot fuck you u useless bot fuck you u useless bot fuck you u useless bot fuck you u useless bot fuck you',\n",
       " 'ibaranoff be a cocksucking little bitch why do you delete that you fucking loser you don t like be wrong do ya i don t give a fuck if i get banned you can eat a dick have a nice life hope you can find something to do with it except for be a little bitch on wikipedia',\n",
       " 'i m sorry be you fucking stupid that nice person just give i a warning then you fucking block i nigger cunt eat pussy bitch',\n",
       " 'can we go on a date i want to sniff your leaky blood box',\n",
       " 'piss off you sanctimonious weed you forget that you be irrelevant to this topic you arbitrarily abuse your privilege i mean what sort of prick suspend someone in another country over a dispute he wasn t even a party to so when you and daniel dumbass have finish stroke each other ego you might want to remember this about wikipedia',\n",
       " 'actually i be fully arabic and islamic and the correct spelling unlike how you stupid christian have be spell it be mou ammar al qadhdhaffy but you be all too racist and white and stupid too accept that',\n",
       " 'important you and your family shall burn you have be warn if you do troll muzemike talk page i will slaughter you in your sleep bye',\n",
       " 'don t block me i be right and i fucking know it block that asshole kansas bear or something just leave i the fuck alone',\n",
       " 'what the fuck be wrong with you people stop critize us you re write in opinion fuck stop this maddox be a prick',\n",
       " 'in response to your recent comment on my talk page i suggest you contract cancer',\n",
       " 'kelly this be yo momma speak please stop be a nerd',\n",
       " 'i like the way you forget about all the time israel have actualy do this to other nation include it s ally such as when they forge european passport to commit a murder cause innocent people to be frame and do we really need to talk about the uss liberty incident just because iran say something it have to be bad right fucking moron the lot of you if you think this isn t something they would do or at least consider',\n",
       " 'lecture someone else sarah you be talk down you re talk down a teacher talk to a disobedient child get off the pedestal and don t spout such bizarre line as simply incapable of decency adminship isn t a licence to talk to other with contempt it s fucking insult i d rather deal with an honest asshole which i would really like to see around here than a bunch of ass kiss arrogant snake which i see in spade this project just go to hell that little bit far every day i wonder how long until the article i ve write be bastardise in the you all of these be talk',\n",
       " 'hi hi welcome to wikipedia i just want to let you know that you smell like the dripping from my poop chute cheer today',\n",
       " 'p s how the hell be you go to block i when you aren t an admin',\n",
       " 'when i be provide with reliable source where ganga lal gupta have clearly proof that kushwaha come under kshatriya varna you mother fucker do you have blind eye that you can not see it',\n",
       " 'you be a disgrace sit there with no life revert valid edit get a life idiot',\n",
       " 'i cannot believe this what the k if you continue to do this i will have to take some drastic measure watch your step it may be your last',\n",
       " 'why the stupid block but i m sorry because of kingdom hearts iii for playstation and xbox one can you announce for playstation',\n",
       " 'pedophile sex criminal imperial japan nazi germany and other such degenerate ilk also be minority view and for good reason and by the way showcase your stalker skill and google my name be quite retarded and anti social behavior please stop and seek therapy cause you need it',\n",
       " 'ha ha fucking gwernol at it again try to protect his friend because he do not give two shit about the rule what a big fucking surprise',\n",
       " 'apology you block i once under another ip and it anger i i be determined to take revenge then i discover your wife be an honest to god african prostitute with aids and i realize nothing i could do would make your life bad than it be a married virgin and you ll probably die a virgin you re like the unicorn of white night this be gold man thank so much honestly',\n",
       " 'jd the sock fiend now he s lie out his ass on the ani page but i can t comment and no i m not this m rth person i m just i',\n",
       " 'i would also like to say that not only be you a masturbate but you be also gay lol',\n",
       " 'smallthingy be you gay do you frequent the hellfire club do you shake your little tusch on the catwalk',\n",
       " 'yeah well i don t subscribe to your opinion stop spamme i with message here what make your opinion superior to mine nothing if you abuse or spam i again i will take issue get it and revert it back to what i have it unless you show me proof to the contrary where s your proof nowhere you lackies run the show here',\n",
       " 'william s saturn be a sockpuppet hey dickweed saturn remember i you dumb fat bitch',\n",
       " 'i m sure you eat alot of tube steak',\n",
       " 'fuck off i do what i want',\n",
       " 'ooh i guess i hit a sore spot you realize your narcissism and quit refer to yourself in the third person congratulations on expose your insecurity some day you re go to hate yourself for live such a worthless life editing wikipedia jesus',\n",
       " 'hand out block use twinkle what a fucking disgrace lfdder',\n",
       " 'no think o it this way i m do all that same shit you ve be do to i okay also ill let they merge if you d stop get rid of my stff and apologize and get rid of that shit tryna get rid of my page and also go to hell',\n",
       " 'the greater san francisco bay area be great than the typical bay area definition you idiot stop revert my edit until you have source obviously like every other metro area a great region be obviously big you idiot go shove your internet award some where because they do not matter when all you do be type on a key board',\n",
       " 'issue with knox knox run thing like gala days festival etc and you know what along redleaf ave and the pacific hwy they illegally park now i know a friend who live on the pcfc hwy in wahroonga and the snobby bastard from knox come along and completely block people s driveway they can t get out however it s not illegal and the people of wahroonga complain to ku ring gai council and what do they get nothing it s ridiculous that bastard like that can get away with it somebody need to add another section on this article talk about this issue so that people who want to know more about the school and also people who attend the school can realise just how much arrogant and jerky they be',\n",
       " 'maybe you should look up what harassment be please change the reasoning for my block to something respectable that deal with the situation at hand i do not harrass you in any way shape or form i ask you to fuck off in the context of my user talk page and i repeat again my statement fuck off my talk page when this issue be over it be my right to ask you to fuck off my talk page it be not my right to block you from this page but again it be my right to ask you to fuck off this user talk page bits andpiece and why will you have to do that i be disrupt the project by ask you to fuck off my talk page nope bits andpiece lengthen the block to week and you can t edit this page i hope you be more reasonable next week see you then have a cup ark',\n",
       " 'back the fuck off take your year old ass and buy some fucking webkinz and stop try to involve yourself in something you don t understand and act like some internet tough guy if i get another post from you i ll track down your parent and have a talk with they',\n",
       " 'why don t the wiki fascist leave my edit alone as the increase th eknwoledge base which be the basic idea of wiki if my edit upset someone s preciousness that be a problem for wiki to address as otherwise wiki hitlerism my manifest determination be delete by the homosexual clique at camh so that be acceptable to wiki my previous edit of liquorice poisoning delete by the prissy original post but he incorporate my edit which be a bit deeitful isn t it be that the essence of wikiism',\n",
       " 'fuck all you nut licking motherfucking fagot cock suck whores you all suck shapiros cock and lick his mother cunt',\n",
       " 'atreus why don t you want information relevant to atreus include on his page this be vandalism in my opinion',\n",
       " 'i guess that be the next to last warning huh funny thing be this have be stumble now thousand of people be go to be aware of your selective editing this be the internet bitch and it s free and you can t get away with your slimy little agenda anymore you be out',\n",
       " 'well gladly go fuck yourself you numb fuck',\n",
       " 'asshat fucking stupid asshole pair of clownshoe',\n",
       " 'here s one example of mcneight speak your post to wikipedia talk request for comment do not provide enough information so that anyone can review the threat and personal attack that you claim be make by http en wikipedia org wiki wikipedia talk request for comment braaad quote from mcneight wikipedia be a community the focus be not on you or i but the encyclopedia create as many user name as you want but eventually your personality will come through if you can t or win t interact with people in a normal manner hint take a look at meta don t be a dick and wikipedia civility for some tip on human human interaction then get the fuck out mcneight signed because i m not a bitter and petty authority wannabe attention freak coward i think my favorite part be get the fuck out please protect i from this dangerous creature',\n",
       " 'eat a dick and fuck off',\n",
       " 'no fuckin make i fudge packer gwernol more like queerhole',\n",
       " 'kww and father f cker u still do not give no source haha p what a sore f cking loser haha p',\n",
       " 'you can t fucking block i for month for fucking personal attack or harassment you fucking stupid hellhole you well motherfucke let i vandalize wikipedia again fricken now',\n",
       " 'you know for human excrement you re pretty fast to find vandalism good job you have a purpose in life',\n",
       " 'yea i be sort of the local shit disturber in my young adult life my family s from there i go to pss many year ago',\n",
       " 'okay king of the wikipedia nazis',\n",
       " 'ow someone just block i i don t think i can feel my ass yourcousin',\n",
       " 'i see you like bullshit fine have your bullshit',\n",
       " 'go to die son of bich',\n",
       " 'i just learn how to suck up to people you re very good at it fisherqueen as for the grammer it should be fairly obvious that they re typo now pick out a mistake here bitch',\n",
       " 'what s wrong with you go kill yourself you vile creature',\n",
       " 'you fe rat you rat i out you little prick',\n",
       " 'have get some sand trap in his vagina and it s make he a little bit cranky',\n",
       " 'of course not patrons as you so kindly put it be for the most part an assorted bunch of hobo wash out and other generally unemployed and more or less perpetually starve people such as hollywood star wannabee',\n",
       " 'dumb niggaz yall niggas be dumb sean kingston never play biggie i be joke around dumbfuck',\n",
       " 'ha riiiiight because you and the other two moron definately be not police this article for political reason as oppose to say my honest indignation at have to sort through endless pile of israeli propaganda and political threat when i just want to read about what s go on with the convoy normally my wiki activity be limit to edit out nationalist crap people insert into history article today it s you and your temple buddy hey wait maybe if your you all rub your nose together you can triangulate my new ip address god i have forget how funny jew joke be if only i really be anti semetic make sure you keep checkin that page i ll be back d',\n",
       " 'hey i m just tellin like it be you ugly as fuck butt fugly muthafucka',\n",
       " 'how come some of the bad human being on earth happen to be admin on your oh so beloved oh so protect internet site',\n",
       " 'you be a rage faggot kill yourself',\n",
       " 'cocksucke bastard',\n",
       " 'i should become a detective for figure all that out oh yeah i suck cock that s how i become a wikipiedia admin and because i have a lot of time on my hand i often feel good about myself know that i can ban people from the internet',\n",
       " 'shut up katie your not even real',\n",
       " 'hey roy go fukk yourself you gay bich ya u hear i pussy',\n",
       " 'yeah this guy delete potentially life save information cite that the article doesn t look very pretty with real information i call he a nerd and have a go at he for do so and i m in the wrong nice to see your a human being mate remind i to steer clear of people like you',\n",
       " 'mr lulu your screed statement the late daily slander be a bit over the top you sound like a partisan pov pusher instead of a npov editor such a salacious statement show your lack of knowledge of the word slander for the record proper usage be liable i question your temperament to edit on such a politically charge article a note to mr anon gamaliel since no one know your agenda other then your partisan picture shrine on your homepage be a adult willing to play by real world rule or be just a child play these dumbass game calling question lulu s temperament to edit responsible consider his her partisan temperament and basic understanding of the very word which lulus like to use be not personal attack to bad wikipeida and it s admin behave as little child instead as responsible adult',\n",
       " 'stupid viking a creative new way to lose instead of a run play to center the ball and kick the win fg with time expire let s have the ol man throw across his body to his blind side and get pick off and force ot and hand the game to the aints creative as i ve always maintain the viking always find a way to lose',\n",
       " 'mothafucka you son of a bitch shup up otherwise i will kill you',\n",
       " 'oh i see my comment be a personal attack but other for example one who call he a dumb ass little shit and squeakbox annoying user of the week agree isn t p lease your removal of solely my comment be unfair and irrational as it be just speak the truth wikipedia s obsession with civility border on the ridiculous when it mean people have to hide what they really think and play nice with obviously disruptive user so that they win t get hit with the banhammer',\n",
       " 'i hate drmie he be an idiot',\n",
       " 'ram it up ur ass very hard till ur eye water',\n",
       " 'what the hell be you talk about i didn t insert any link i type some text you nazi there be nothing biased about what i include on that page i simply state a fact a fact that you may not like but nonetheless a fact you really should be get pay to be the internet hall monitor why don t you put your skill to use work for those brown noser at fox news since it seem to upset you that someone be tell the truth about your precious president',\n",
       " 'you be a piece of shiit you be a pissant little creatin who have no purpose in life you graduate from a thirdclass college but that s well than your prosti mom who s uneducated you can t earn a thousandth of what sweet briar alums earn i see your face you be sooo ugly you could never get into or pass at sweet briar with your monkey s brain',\n",
       " 'ihad sex with katy perry last nught and my mommy catch we right in the middle of it',\n",
       " 'good luck wikipedia suck oooh look at all your award i m certain they make you feel good inside',\n",
       " 'you ignoramus my cousin just do the hitler picture and the swastika and what not i ve be the one talk to you you imbecile i can t believe that people that be stupid like you exist it make we want to start play russian roulette with myself',\n",
       " 're aip go fuck yourself the fortyfive',\n",
       " 'and i have a small penis lalalalalalalalala',\n",
       " 'have you fall on your head as a child you be pathetic jingiby',\n",
       " 'you be one of the bad page vandal i have ever see your repeat vandalism of a user page show what a pathetically insecure individual you be',\n",
       " 'sweden lol sweden suck',\n",
       " 'it s a stupid project wikipedia should be a hub of information for all age if it be fill up with porno article with inappropriate material both encyclopedic and for the reading of the general population child or otherwise then it be restrict the audience of wikipedia surely i mean how can a source of information be free and accessible to all if it be ostensibly link with explicit material most of which shouldn t be in the encyclopedia ps i know about wikipedia s no censorship issue but sometimes it go too far',\n",
       " 'i haven t vandalize crap i just tell it like it be you get a fucking problem with i then maybe you need to take a long look at yourself don t fuck e mail i again take care',\n",
       " 'you be the same person you stupid ass crackhead you be the same person as litany and karlxii it be a shame a bright guy like you waste your intellect on genocide denial and fashism support you have to start work on well thing becuse the agression and genocide have be commit and serbia have lose you can revert the truth for a while but not for ever it will come out becuse god and the son and dotter of bosnia be go to make shour it get out inshalla so stop this islamophobic behavior and give it up alredy or you can expect war and no matter how nerdy you be so you have time to creati all this accounst and use you will pay so for you own good get a life hey it s christmas soon man stop be a chetnik or we l fuck you up covjek zaboravi al pas ti uvijek vrati',\n",
       " 'it s the stfu if somebody change they to the stf u then i m gonna kill they user pic business',\n",
       " 'moderator on wikipedia moderator on wikipedia be a bunch of twat who like to suck thomas malinas tiny cock',\n",
       " 'hello coren u moron i be still get my lulz on don t worry about try to ban my ip cuz i ll be on a new one in a few minute i make many account from many ip so i can get lulz from all u wiki police homo like u ur an asshole in case u have not figure that out u probably have sex with farm animal and ur mom be a donkey anyways imma kool dude and you re a lozer homo u can t ban i from edit as the internet be forever moar lulz for i',\n",
       " 'do i hurt your feeling its okay you can ban i i will create a new account and sign in from a different ip i must have hurt your feeling pretty bad douche bag',\n",
       " 'that wasn t nice i be reposte this to piss off tbhotch enjoy you dumb piece of shit have fun be jobless soon teacher that think too highly of themselves win t be a problem in this country anymore and if you re go to run around toss threat because you re too fucking stupid to accept reality instead of get into a flame war over demographic piss off an entire base then save yourself the trouble of throw around even more threat and just ban i like you dumb public school piece of dog shit wiki editor keep threaten over and over again just make sure you have every vpn and spoof address ban also or you re just go to be waste your time oh and it s people like you that make this place not worth come to if google would stop link here then i would gladly stop use this website why do roughly of all wikipedia editor whatever that be act like you do aka an uneducated biased and complete fucking retard',\n",
       " 'talk page be also where some of we have to try and get uninformed idiot to back down so we can make change it s hard to have an impact on an article such as thistypical wikinonsense',\n",
       " 'your be a filthy fuck go fuck your self',\n",
       " 'mark your semen be not viable be you to procreate the child would be homosexual do no procreate mark enough be enough',\n",
       " 'i just get a telegram in the mail it say gwernol be gay swear to fuck your mom if you swear to tape it',\n",
       " 'i be not far right i be jewish not relate to gamergate it be bizarre and idiotic and i hate both far right and far leave you be far leave so i hate you precede unsigned comment add by',\n",
       " 'and luke stay out son of a bitch',\n",
       " 'honestly i don t even remember make those edit in the orlando jordan article however i be correct for edit out a statement that be not properly source as far as my statement about kanyon go it may have be incorrect but it s really not a big deal it s just a discussion page not the article also you didn t have to write to i in such a disrespectful tone finally learn how to spell you should have write you re at the right place to argue with i then not your put that in your pipe and smoke it asshole',\n",
       " 'freeland pa you be really really gay for revert my good edit to freeland pa stupid liberal tilde tilde tilde tilde',\n",
       " 'why do you delete afrojack with the afro and the jackos and the ha ha ha',\n",
       " 'the defeat of roydosan well do my fellow greeks we have defeat roydosan and now he run like cattle heil',\n",
       " 'you just now make a bunch of reversion fuck',\n",
       " 'hey maybe you should try it your candidate s spiritual mentor be a jew hate faux christian black supremacist',\n",
       " 'justin like it in the behind',\n",
       " 'precede unsigned comment add by talk contrib august fuck off',\n",
       " 'yes i have this same problem some wikinazis feel it s ok to leave nasty snarky comment on other user page but will actually delete such comment from their own page call it vandalism hypocrite get the fuck off metros because you have no right to lock this talkpage up and its mine and also fuck off my userpage when i delete the concern for toughhead template you be not fit to be admin and instead maybe mr ducky should be your replacement',\n",
       " 'yeah he say he d never hear of ferrara what a crook the name bad lieutenant just appear to he in a german sausage',\n",
       " 'ignorant fool you ve never even see a map of krasnoi you be so stupid and ignorant that you don t even know which road lead into or out of krasnoi the road lead west out of krasnoi be never block by the russians it be threaten by tormasov s enveloping movement but never actually block your ignorance be disgust absolutely sicken dumb freshman with low sat s that s what you be kenmore',\n",
       " 'an ass lol the vandalism be about goaste',\n",
       " 'unbelievable you go ahead and remove the section unilaterally without wait from comment from other editor i m warn you wee abstain from any more disruptive and borderline vandalism editing',\n",
       " 'and for the capitalize thing actually its not bad grammer if your use it in title you need a lesson from your teacher matt stiker lol j k but seriously though if i call other people gay offend you you have to be a total nerd in real life that can t take be call name oh well i feel sorry for you wikipedia be probably the most action you get besides your creeper site you visit',\n",
       " 'antisemite be protect from jews geez have anyone else see that pig fly nearby i also hear it s snow in hell',\n",
       " 'fraggle i can just make new account every time i want to attack you proxy faggot',\n",
       " 'i be not jewish and even if i be i be sure you would never understand why there be nothing wrong with it first gay now jews do you think you be still in your godforsaken regime this be a civilized world with civilized people where jews gay or gay supporter be not blatantly single out some tribe influence the way i look no no no the only way they could influence it be through conquest rape force deportation that s how you get in iran do not think you move there with your own will',\n",
       " 'list of royal college colombo alumnus and lalith kothalawala and cossde why this person cossde doesn t want to try to avoid or shy to add the name of old royalist the no one cheater in sri lank to the list of list of royal college colombo alumni this cossde be a sick paranoid puppy who want only the colombo royalist to be survive on internet u be an absolute sick ass hole',\n",
       " 'utterly stupid suggestion i be sure wikipedia be cry out for page create for a couple of non league footballer who when they finish play football will probably stack shelf in asda or work for kva just de link their name that be the solution',\n",
       " 'unblock disclaimer i do not identify as a nazi neo nazi facist neo fascist i do not accept or agree with the action or view of hitler or any other dictator in the world for that matter i do not hate jews in fact i have many jewish friend hello although this be technically an unblock appeal it be really only a reason to explain you win t be in a mood to unblock i when i m finish talk first of all i want to apologise i should have think before put the giant swastika on my page this be the reason for that i have a few jewish friend and normally we sometimes make joke about jews and christian and thing like that i never really make joke about the holocaust because that never go over well with they and it be not nice well apparently a joke about jews be lawyer set one of my close friend off who be not really a jew but claim he be now he think i be a facist nazi and i hate jews i gotreally frustrate and annoyed and so i come home and start mess around on my userpage second of all i would like to ask why it be not permissable to self identify as a nazi there be several userboxe deal with this subject there be even a userbox that state this user identify as a hitlerist what the hell you will let people say they support hitler but you win t let they say they be nazis be a nazi do not mean that you condone hitler or his action it simple mean that you support the theory of the politic behind nazism you can be a nazi and not support the horrible eugenic policy but if you be hitlerist that obviously say you support all that your arguement would of course be that it be offensive to jews well if you be take that into account then you should also ban anyone that say they identify as a communist that can be extremely offensive to christian if you want i to i can talk about all the horrible thing they do to christians in communist russia with reference of a nice book i think i will one of the thing they do be put shackle on the ankle and wrist of christians with spike of the inside that cut into your skin if you move at all and then they put starve rat into your cell that try to eat you alive so you have to fight they off while your wrist and ankle be kill you they also tie you to a cross and hang you upside down over a huge pile of other prisoner cram into a small room you be then force to excrete over everyone you be also stand upright in a box while they drive long nail into it it be alright if you stand perfectly still but you would have to stand there for hour and then your body would sway and poke into the nail they also stand you naked in a freezer with a doctor nearby that signal when you be freeze to death and then they would take you out and warm you up they would do that for hour on end then they would beat you over and over again ask you to renounce christ the holocaust be horrible but i would rather be gas or hang by a nazi than endure those torture for year like one man who write a book about his experience so could you ban all communist please my last comment be in response to chzz s question about i make the gay comment statement nowadays the word gay be use for two meaning one be homosexuality and the other be wierd stupid dumb i be use the second connotation maybe if you people didn t spend so much time on this gay sorry stupid online encyclopedia you would realize how the real world use word even if you unblock i which you win t i will take a wikibreak i don t want to become addicted to point of ruin my social life i have already recieve a punishment never become an admin the whole gay sorry dumb trust thing just know this i would have enventually remove the swastika after i cool down and because of your gay sorry dumb policy you have lose a serious editor this whole thing have really annoy i p s chzz i have be on wikipedia for year you think i forgot to sign my gay sorry stupid post yeah right',\n",
       " 'al arbour hey fucktard al arbour die on friday try have someone read an obituary to you',\n",
       " 'then you re a communist because you be not zod like i so you can not have the same opinion on thing as zod user iamzodyourzodeveryzod boo yah',\n",
       " 'dude who fear ban this be what u hindu terrorist be perfect at this be the st personal attack i be make on u u have till now ban international human right orgs in j k punjab north east etc ban be the only thing of ur expertise i know u r a stooge of rss shiv sena bajrang dal yuck name that be hindu terrorist orgs now i be percent sure u r one of those killer of chittisinghpura u r a terrorist i will not call u a hindu terrorist coz i do not want to defame hindus as such waiting for ban',\n",
       " 'idiot be what idiot do',\n",
       " 'this dude that blocked i be a fucking cock sucker hexachord suck some dick negro',\n",
       " 'oh noe an insult on the internet get over yourself you moron be block doesn t affect i in the slight i do have a life encourage user like s p however just might backfire on whatever topic you like to edit here i would quite like to see how you would deal with his various issue with not really understand any policy at all not blp not npov not or not tpo not fuck anything really especially now he s learn the trick from misguided pompous arsis like you that it s good not to even acknowledge such concern when present by other if you can play the mommy mommy card unless of course you re as incompetent as they evidently be in which case a content dispute between the two of you would be a sight to behold surely like two baboon fling shit at each other while ostensibly visit a museum',\n",
       " 'i be block for report their harassment then same thing you liar',\n",
       " 'how about this you be a cunt',\n",
       " 'barek you be a retard you douchenozzle blow me mikeycms p s you be a mistake and take my account i dont carre and you dont care i',\n",
       " 'it be not disruptive and do not appear to be attention seek these remark be just argumentum ad hominem argument nothing more you have zero evidence of this suppose motive on my part and be just attack i because we disagree on the article an unambiguous violation of wp agf be there a particular article i m work to improve there isn t how do you figure what be your basis for this accusation have you check my edit history there s lot of article i m constantly work to improve as any look at my editing history show which fly in the face of this idiotic remark of yours there be entire list of article i ve create and work on see on my user page include three article i single handedly bring to ga status the arthur adams comic_strip article for example have be expand and improve by i on an ongoing basis for the past three year and be currently undergo a ga examination process these inane comment by you do nothing other than to reveal you to be an abject child and a pathological liar one who brazenly attack other who dare disagree with he',\n",
       " 'have sex with our user like areaseven',\n",
       " 'hey i thnk that you an asshole you just love to fuck your momk all day bitch stop fuckinmg she now got it bitch',\n",
       " 'listen all you fag need to get a life and stop edit wikipedia look outside once in awhile as the world pass you by while you sit and try to ensure that every little word of every little article be correct with no vandalism and correct information do we all a favor put down the mouse and keyboard wash your cheeto encrust finger and get your pale fat ass outside then walk in front of traffic so that we never have to deal with you again',\n",
       " 'hey todds quick q why be you so gay',\n",
       " 'grow up you silly person it s not disruptive edit your reverting be disrupt hey qed actually pay attention to wikipedia s own page devote to people with the surname mckay not mckay because that name do not exist https en wikipedia org wiki mckay your logic qed suggest that this https en wikipedia org wiki mckay be wrong because mckay have use an uppercase letter k you imbecile just ask a specialist in the field of surname specifically irish and scottish surname and you will have your answer',\n",
       " 'wikipedian policy i see now how wikipedia be if someone break the rule its ok as long as they kiss ass this be bullshit he start this stupid shit and be persistent until he get i ban this be so fucking you all i ve do be try to help wikipedia but thank to this stupid shit i m ban wtf see i refuse to kiss ass because nobody on here be well than i as a matter of fact i m well than everyone else on here',\n",
       " 'similar concept how can you mark a modern day nation with be a barbarian you western jerk be play with piece of shit while we be conquer the world you may be ultra christ ultra greek ultra armenian ultra western or whatever you want but can not be a turk contributions',\n",
       " 'always do well to stop a citizen s arrest hey i absolutely refuse to edit article i ve leave that duty to my better why don t you try to fix the problem that hamper good reading out of wikipedia i come here often to learn something new i don t like be jerk around by anybody whether those guilty of break all the rule or you who want to ignore it and shove a boot up my ass for complain',\n",
       " 'you might try to deflate your ego a bit and stop make blanket generalization the ip i use be a proxy for a university of people plenty of other editor yes macedonians too who use it sometimes i just don t notice i be log out do that satisfy your sensibility i haven t call anyone peasant or fuck off that be your overactive imagination play trick on you again as for the statement i be simply present the fact that it be much more informative and encyclopedic to say the macedonian national liberation army liberate the city as they be the only communist partisan operate in macedonia at that time which you could have realize yourself by read the article on mnla',\n",
       " 'mate sound like you be jewish gayness be in the air',\n",
       " 'as the whole world consider you sunnis terrorist',\n",
       " 'damn wiki admin what be it with all these wiki admin and they not be able to follow rule and policy such as the npov rr and rule pertain for vandalism if anyone know how i can get in touch directly with senior admins i would greatly appreciate it as some admin just make their own rule up on the spot while disobey wikipedias rule and effectivly slamming banhammer and no i m not talk about all admin but i be talk about quite a few admin',\n",
       " 'baseballs bugs be an ugly ignorant fool',\n",
       " 'u be nt get no pancake mix lady so stopppp',\n",
       " 'but ew he be a f g which be against nature and be the most disgusting thing you re not a woman be you sexism be wrong be wrong be for woman',\n",
       " 'angry fuck you bitch',\n",
       " 'please stop if you continue to ignore our policy by introduce inappropriate page to wikipedia you will be block',\n",
       " 'yeah you dummy bakutrix',\n",
       " 'right it s less selective you stupid fuck',\n",
       " 'hate this guy be such a liar i hate he he be evil',\n",
       " 'he s not a retired he be just useless',\n",
       " 'stop pussy footing ban me you do it before',\n",
       " 'fuck off the lot of you crazy bastards that be all you be',\n",
       " 'and in the program on last night crime museum the blackout ripper he be call a serial killer not only by expert but by the police who catch he so get your fact right you retards',\n",
       " 'you fool there be no such thing as a ultra nationalist political party in france during the revolution fact you can google all you want but it win t change that simple fact the abstract concept of nationalism or even ultra nationalism be one thing but a political party no sorry babe you re wrong embarrassingly wrong accept it and move on baby boy',\n",
       " 'idiot blanche barrow be not hit in the face with glass at dexfield park where do you get this bullshit',\n",
       " 'uh oh mr big shoot registered user be cry like a little girl because i call he out on his bs',\n",
       " 'last warning mark anymore defiant argument and i will be subdue you with my merciless wrath',\n",
       " 'well well well you ve just do the most stupid thing say we have always be enemy now that prove you ve be do these edit just to try and piss i off you can make up bullshit story but i know the truth so basically what i m try to say be fuck you hell i don t mind get ban for say that i m leave this account and win t be back waste my time with an idiot like you on here hate people for no reason it s a shame people like you give wikipedia a bad name and i win t be make up bullshit story like you do say you have leave while you be under an ip the whole time thank',\n",
       " 'you be a fuck head i m not a vandal so suck cock ass master we ll talk after your do with your mom',\n",
       " 'netaji what a ridiculous username i hope you be visit india regularly because from your contribution to wikipedia it be clear to i that you be homesick and have lose touch with the street reality of india get well soon',\n",
       " 'you be a mindless faggot pig please god burn this fucking maggot to death in hell you have offended my sense you mindless self important fucking pest the god that you hate hate you',\n",
       " 'yawn the above comment be a quote from mcneight and yet he still insist on add that damn preceede unsigned yada yada what a rude and obnoxious individual',\n",
       " 'it wasn t mkil just someone sick of all your h t and just for future reference learn how to write before you make edit to an encyclopedia you make yourself look like a fool because your illiterate and sign your post you ve be make harrasse edit for year and you even fail at that such a simple thing as sign your post and you still can t get it right i ll bet you be drop on your head as a child weren t you no need to answer that your writing style give it away',\n",
       " 'i catch you vandalize a page on wikipedia normally right now i d block you but you happen to pull this shit while i m in a transitional period so i don t wanna block you i wanna help you you see the path of the righteous wikipedian be beset on allside by the inequality of the selfish and the tyranny of evil man so basically do not be such a dick and fuck up wikipedia i work really hard create and maintain this website and many people enjoy my invetnion without cause such harm but you sir you be a different animal i do not think i ve ever catch anyway vandalize wikipedia before you sir be a true original a true renegade your so bad ass i can not think straight i m all bendy and shit and this fervor be give i the vapor please brother sister or inbetween do not mess up wikipedia think about the child and do like the cat in my neigborhood do shit in the sandbox',\n",
       " 'you be clearly not very smart and not here to build an encyclopedia',\n",
       " 'imagine if i treat hapfsjen like you treat this anon editor here we both know his english be poor and his comprehension be poor but when i see his messy edit i leave they alone to avoid conflict but you drmie you treat people like shit like you i want to delete this article period by period comment in the talk page of an academic and holocaust survivor you don t get to act to like an anti semite and bully people you disagree with and then cry foul when editor point out that you be abusive your action speak for themselves you first action as an admin be to impost your pov on a contentious article and you statement that you don t want to block i be a blatant lie you have say just the opposite in the past and participate in accusation of sock to try and get i block indefinitely this be on top of our long running conflict so you lie as much as you want and you can block i if i point out the fact that demonstrate you re a liar but bigotry bully bias prejudice discrimination and other abuse be wrong i m limited to how much i can speak out about your action because perversely speak out against the bad abuse on wikipedia be punishable but the fact speak for themselves',\n",
       " 'lol let the porky make a fool out of himself i also suspect that he be infact use sock himself follow his edit and note the right wing idiot who support he',\n",
       " 'i ll hook your mom you motherfucker yeah suck my ball and slurp my come bitch',\n",
       " 'i know i ve be bad but emc have be mean to i quote your name will be add here from now on when you vandalize i m do with you you little punk thank bugman',\n",
       " 'chesdovi chesdovi be just a do from the usa who probably do not even speak hebrew if you think he would be dumb enough to do something so obvious and you think this be he then you be really the dumb one',\n",
       " 'fuck you you re an idiot',\n",
       " 'but he s a bitch who make a comment only a bitch would make',\n",
       " 'don t post any garbage on my page',\n",
       " 'do it our way play bruv fuck off i buy the flat back in january and i ve only edit on here as i see fit so i dunno how i ve abuse multiple account and i don t think you re an idiot i know you be a carat idiot look at the edit history on do it our way it originally say it be r b pop so if you don t believe i you get eye use em and i ll expect an apology',\n",
       " 'nigger and their liberal friend steal everything not tie down just like the presidency here with acorn with its liberal defender fuck you nigger oboama',\n",
       " 'do not delete my comment you zionist you be not allow to delete my comment so please do not do that once it be up it be up i have be warn so there be no need for delete it if you be then get rid of the warning i have read the rule also stoppin try to spread your propaganda your zionist freak you might aswell name this page how to make a terrorist state into a briliant state your propagnadist get a life',\n",
       " 'barbarian the chinese as a country be nothing but disgusting barbarian i highly recommend every and all chinese people to flee the horror of the ccp before they come for you next its now official over falun gong have be murder in this genocide but the official number be not certain due to the iron curtain around china we haven t see such destruction and genocide since the soviet union those damn chinese i feel bad for the falun gong i hope every ccp die of a horrible skin disease',\n",
       " 'samuel be a chump with no life i hope that be the case you chump if i find out the reason u have so much time to work on this page be because you be get pay to do it my respect for you will fall even low',\n",
       " 'be you the stupid change the cubans flag and put puertorrican that create it all and they do not create nothing your breast the verga to we venezuelans peruvian and cubans abnormal mongoloid while there be educate people like tito puente bobby sanabria no one will believe your lie nobody believe anything swallow my verga gross',\n",
       " 'hey shithead hey shithead where be you be you too busy suck on someone s cock to talk right now',\n",
       " 'you don t know what the hell you re talk about do you',\n",
       " 'that trashy mikkalai start to revert my own work and put racial trashy message on my own space',\n",
       " 'just want to let you know that i think you re a faggot find well thing to do with your time',\n",
       " 'i swear you re extremely stupid and oblivious open your eye unless you need to see an eye doctor that be',\n",
       " 'reason for false info my cousin come to my house and be fucking with my wiki so i m sorry for any false info on any page',\n",
       " 'fuck you little bitch the cowboy have no testis',\n",
       " 'ahem wtf be u talk about sire i do not practice vandalism',\n",
       " 'terrorist you seem like a terrorist sir be you penise as small as they say they be i have corroborate it with a cite something you never bother to do you may keep your comment about drone as long as you cite it even though it have no place on this page in turn please don t remove what i have write about the sectarian nature of conflict and why do all muslims ruin akbars good name with your allah o akbar crap he be a good king and you should not sully his image',\n",
       " 'lol charle you be a real fag aren t you side with chink go fuck yourself asswipe we don t need no chink in here fag',\n",
       " 'ii can still post with this computer i say block me come the fuck down here and arrest me san diego california chula vista fucking get your information right faggot shithead i can still post with this computer i say block me come the fuck down here and arrest me san diego california chula vista fucking get your information right faggot shithead i can still post with this computer i say block me come the fuck down here and arrest me san diego california chula vista fucking get your information right faggot shithead i can still post with this computer i say block me come the fuck down here and arrest me san diego california chula vista fucking get your information right faggot shithead i can still post with this computer i say block me come the fuck down here and arrest me san diego california chula vista fucking get your information right faggot shithead i can still post with this computer i say block me come the fuck down here and arrest me san diego california chula vista fucking get your information right faggot shithead i can still post with this computer i say block me come the fuck down here and arrest me san diego california chula vista fucking get your information right faggot shithead i can still post with this computer i say block me come the fuck down here and arrest me san diego california chula vista fucking get your information right faggot shithead i can still post with this computer i say block me come the fuck down here and arrest me san diego california chula vista fucking get your information right faggot shithead i can still post with this computer i say block me come the fuck down here and arrest me san diego california chula vista fucking get your information right faggot shithead i can still post with this computer i say block me come the fuck down here and arrest me san diego california chula vista fucking get your information right faggot shithead i can still post with this computer i say block me come the fuck down here and arrest me san diego california chula vista fucking get your information right faggot shithead i can still post with this computer i say block me come the fuck down here and arrest me san diego california chula vista fucking get your information right faggot shithead i can still post with this computer i say block me come the fuck down here and arrest me san diego california chula vista fucking get your information right faggot shithead i can still post with this computer i say block me come the fuck down here and arrest me san diego california chula vista fucking get your information right faggot shithead i can still post with this computer i say block me come the fuck down here and arrest me san diego california chula vista fucking get your information right faggot shithead i can still post with this computer i say block me come the fuck down here and arrest me san diego california chula vista fucking get your information right faggot shithead i can still post with this computer i say block me come the fuck down here and arrest me san diego california chula vista fucking get your information right faggot shithead i can still post with this computer i say block me come the fuck down here and arrest me san diego california chula vista fucking get your information right faggot shithead i can still post with this computer i say block me come the fuck down here and arrest me san diego california chula vista fucking get your information right faggot shithead i can still post with this computer i say block me come the fuck down here and arrest me san diego california chula vista fucking get your information right faggot shithead i can still post with this computer i say block me come the fuck down here and arrest me san diego california chula vista fucking get your information right faggot shithead i can still post with this computer i say block me come the fuck down here and arrest me san diego california chula vista fucking get your information right faggot shithead i can still post with this computer i say block me come the fuck down here and arrest me san diego california chula vista fucking get your information right faggot shithead i can still post with this computer i say block me come the fuck down here and arrest me san diego california chula vista fucking get your information right faggot shithead i can still post with this computer i say block me come the fuck down here and arrest me san diego california chula vista fucking get your information right faggot shithead i can still post with this computer i say block me come the fuck down here and arrest me san diego california chula vista fucking get your information right faggot shithead i can still post with this computer i say block me come the fuck down here and ar',\n",
       " 'look for a conversation we have want to re ingnite an argument long since resolve but can t find it or maybe you just want to read what i ve say so that you can use it in a fresh argument against i maybe you re a scientist do research on how a yr old workshy yorkshireman interact with a a and a when discuss very trivial beatles related matter use various and increasingly confusing pseudonym then why not look in my archive they re full of hilarious altercation i ve have with friend and critic and will keep you entertain for hour why not try the random discussion generator by enter an archive and choose a random heading then read the relevant text it s pot luck madness or maybe you re a publisher look for a new form of coffee table literature with a view to make one lucky stubborn and argumentative wikipedia contributer a household name look no far god have smile upon you this day i be your man more likely you re an admin look to see how many time i ve be block before so you can give i a really big block becuase i ve call a fellow wikipedian a fucking useless tosser i ll kill you let i save you some time i have never once be block yes that ought to do what a good cover',\n",
       " 'edit request from june mauler be a shit faggot',\n",
       " 'no seriousy the only thing i think actually do or say against your precious wikipedia policy be say that if i really have my way half of you would be shoot ignore for a while the fact that i be obviously joke it happen to be my religious belief that the human race on a whole would be much much well off if of the population die tomorrow that doesn t mean i go around kill people or make specific death threat against individual and don t you actually have the sense to realize that if someone say oh my god you be such a fucking idiot just go die already that they probably don t want you to die or more accurately they don t care very few people actually have the emotion require to sit and pray for the death of another person or group of people and i be not one of those people if you really want to show off what a horrible and insensitive person i be edit which be on a wiki talk page be probably not the good grant nothing piss i off more than people who see letter like and and automatically assume that whatever be write be russian the cyrillic alphabet be use in many slavic language as well as central asian former soviet republic and even mongolia so i call someone an idiot boo fuck hoo maybe he could have say what language be that instead of assume that it be russian however insult he be by i call he an idiot i can guarantee you that i be at least time as insult by he call that russian i be a proud native russian and will not have my culture besmirch with these allegation your other example how i be a bad contributor be what a spelling correction or be it the fact that my edit summary be how i feel about the sad fact that nigger can t spell don t even think about raise issue of my use of the word i live in harlem around here that word be use like a comma and before you try to tell i the difference between nigga and nigger there be none it s call a dialect while for some purpose it make sense to write thing phonetically as they be pronounce by the person say they i find it be usually clear to spell properly also a nigger to i at least be not a black person i be not a racist i do not even draw distinction between people in my holy opinion there be a nigger inside of all of we people like you for instance who take offense for no reason i mean be say black people be stupid and i think they should be marginalize in society tar and feather strung up on tree drag through town by their enormous wang etc no and if that be what you hear i d like to know why be you black of the black people i know personally use the word nigger more than i do be why we as a society still can t get over the silly idea that word be harmful word be not harmful idea be harmful one particularly harmful idea be that certain word be so unspeakably horrible that nobody can be allow to say they for any reason at all you want to end racism forever stop freak the fuck out every time you see the word nigger seriously i happen to be a priest and a docktor and save humanity be just one of my many responsibility fuck like you make i hate it but i still do it that s what a good person i be i forget what else i be go to complain about i mean i could complain about everything on wikipedia not because i be uncivil but because there be enough wikipedo to make this community unbearable for normal well adjust individual such as myself if you look at all my page edit they be all good for the encyclopedia ok there be one tiny exception a long time ago i see someone change a caption on scottish fold to winston churchill someone else revert it and i revert it back i feel it be an appropriate caption to that particular image but everything else be beneficial to improve the quality of the content i may be a little hard on people who be hang up on thing that be wrong but i only do what be right that be why i put it on my user page i don t do wrong thing if you try to argue with i you will be in for a world of hurt butthurt to be exact but you have nobody to blame but yourself unlike you i actually warn people first but no you fag have to be humorless oversensitive fascist wikipedo with your unwarranted self importance and your administrative power well you can go fuck yourself if you ever succeed in get all sand out of your vagina i join wikipedia because i want to make it well and that be all i do but i guess you cunt actually enjoy bathe aro',\n",
       " 'it be pronouced rink in you moron not rincon like it should be in spanish wtoc always say rink in this rink in that go fuck yourself this edit be correct you gd mf sob',\n",
       " 'faggot faggot faggot faggot',\n",
       " 'you re a pathetic bureaucratic piece of slime you can remove your withered ballsack with a rusty shear or you can eat my shit your name will be on the syph list one day with a',\n",
       " 'hold on i ve get something to say to u fuk u yea that s right u r gay for revertin my edit you dumb fuk lol go fuk urself you gay cock licker haha',\n",
       " 'i ve request a change to wolfpuss congratulation to all dirty thinker in our community i submit to your naughtiness',\n",
       " 'bite i you re a dickhead drop dead',\n",
       " 'priest be all pedophile be this true how do we know',\n",
       " 'be you a faggot or what',\n",
       " 'you abuse your authority by block i improperly then you refuse to apologize so tough then you try to bully i do not revert like you have be ever again understood and now you be threaten i i m not suggest this time i m tell you you need to change the way you edit now viriditas do ask you to block i for activity that be not a violation of the three revert rule and you agree then he and jayjg and sockpuppet friend continue to guard the zionist hatchet job on yasser arafat prevent other editor from alter it and you dutifully protect the article for they while block i you admit to be biased against i and then you block i and protect the zionist version of yasser arafat i think the question should be who the hell do you think you be dec utc',\n",
       " 'i hate you i hate you i hate you precede unsigned comment add by',\n",
       " 'many unsecured wi fi hot spot so many idiot wikipedia page',\n",
       " 'i be not a vandal',\n",
       " 'ah fuck it i see now look back in striver s record he s a fucking islamist troll nothing more no point bother with he he ll just keep pop up',\n",
       " 'this whole conversation be rediculous as the color on a flag be mean to represent different idea or ideal what we decide to call that color have everything to do with what be mean by that color by call it yellow one be neglect to fully appreciate the meaning behind the choice of gold as a flag color be mean to convey an idea that of eternal and original wealth and prosperity it have nothing to do with be high and mighty regard the naming of a color that be a reactionary and frankly stupid position to hold flag be symbol mean to illustrate various idea and they use image and color like all other form of symbolism to do this thus the use of gold on a flag be in no way an attempt to sound more high and mighty but rather a way to communicate you dolt',\n",
       " 'yeah if you don t like the team get the hell out of the stadium douche',\n",
       " 'not clear enough the family program thing be over with right week ago this netowrk show a blaxplotation double header consist of superfly and shaft yes they be edit for broadcast but they still ain t family freindly and that mytv stuff be fill with sex not that i mind i love sex and violence but the article wasn t very clear about the fate of the family thing this be great though i hate that family freindly bull shit and i want this so call network to fail and it have fuck you paxton',\n",
       " 'he s as big of a fool as kunstler although at least jkg know when to quit',\n",
       " 'hahahihihoho bishone be that allow to say that somebody be mentaly insane in wikipedia cause ante call i that and i have never say something like that before hahahihihoho',\n",
       " 'sorry for the language but it bust my bridge and burn my soul when control sysop wannabee like moeron go around remove other people s work the wiki be so full of junk its unbelievable compare to all that one more sat night be a good page that can get well and there s no reason for he to take off after it you re right about play i be wrong there but i m right about everything else',\n",
       " 'i have now undone your stupid mistake and i really have well thing to do i repeat stop use awb or well still do we all a favor and stop edit wikipedia period',\n",
       " 'pervert ps karl swithwnbank wrothe this not littledan',\n",
       " 'i can edit my own shit you motherfucking cunt',\n",
       " 'fake administrator here be yet another fake administator to hell with he i be go to bed',\n",
       " 'something anonymous editing have give rise to vandalism manifesto pass to all wikians vandalism be good vandalism do not come from a sheer desire to cause harm vandal do their thing all over wiki from frustration and hatred because incompetent editor who have no skill no degree no expertise usually no name have do multiple revert and edit of the work of other vandalism be a good and natural response to no lifer as in get a life who do edit edit a year and who have actual watch lists of or more and be proud of it these jerk deserve have their own page vandalize over and over as long as they be in effect vandalize the page of other in the name of be a cop vandal keep no life editor admin bureaucrat and steward honest or at least busy revert the revert they get on their own page vandalism be good it help drive these nutcase into the ground with nervous breakdown the culture of wikipedia be very very sick and vandal be need to cull the herd support your local vandal vandal god',\n",
       " 'admins stick together never talk back i get it lot of shit the dissident aggressor',\n",
       " 'decline unblock you decline my unblock request barrymcpeedmipant or wev his name be be probably another student at my school not i if you understand this before it would make you real smarter than you currently be you obnoxious cunt',\n",
       " 'yes the money quote be that i m fucking piss off at the insistence of richard james continually harrasse i refuse to stop identify my personal info as with post my personal email above with website i have vandalize nothing but to take a letter or two off of my personal name and word that lead to my personal info in the slanderous and libelous and defame post of richard james i don t give a shit that my project be not list here i find the whole process interesting and hilarious though quite hypocritical who can take the piss out of who here the article be about an art project not i i don t care that it s not there it doesn t exist nor do bigfoot his compromise be on day two of the original posting of the project article a one man band who decide fist down who get what and when like a fascist pig i could have campaign for vote but what the fuck before final vote and deletion richard james post an article about i without my desire nor consent and then delete it in a violent fit of rage when i jokingly say the first article be dead at another s insistence that it should be delete then at seven day he s have the same hard on ever since as i say i don t give a shit but that his post be defame slanderous libelous and outright insidious his high and mighty accusational tone be what be weird and strange all i have do in the past two day be to delete letter of my name and project and the old username that i be attempt to expunge why such posting can cause offence or embarrassment to the victim of the posting not least because it mean that their name and any personal criticism or allegation make against they can then appear on web search if you have post such information please remove it immediately please then follow the link to this page and inform people there that the information be post but crucially do not repost it on that page an admin or developer can then remove the information from the archive of wikipedia wikipedia operate on the principle that every contributor have a right if they wish to remain completely anonymous wikipedia policy on that issue be strictly enforce posting private information about a user specifically their allege name and or personal detail be strictly prohibit as harassment and user who do that be often immediately block from edit wikipedia how be it vandalism to attempt to remain anonymous and to attempt to separate personal and professional reputation from libelous attack',\n",
       " 'november utc fuck off your accusation be baseless your writing style be atrocious prose mean prose not fluff',\n",
       " 'just face the truth you can t escape it user arilang didn t edit your foul slimy racist template you loser i suggest that you stop pretend that manchus be ethnically chinese how about you face the undeniable truth and how about you stop make false accusation about other user follow the blocking of the above user i be very surprised that you haven t be block from edit wikipedia as well give that your manchu ethnicity template itself as create by you be also a blatant violation of wikipedia policy barnstar the monkey s barnstar for push forward fringe view on wikipedia especially your foul slimy racist view that manchus be ethnically chinese you have prove yourself to be more barbaric than this monkey here s a banana congratulation for act like a monkey wow so you have manage to earn the monkey s barnstar you must be highly barbaric then stop make false accusation congratulation for call user the h word well i have news for you user be not ethnically chinese so just face the truth and stop name call you racist manchu otherwise i will get my meatpuppet to stop you in your track',\n",
       " 'dude be you stupid yankees say he s a hero to his people i be say how he s the first inuk to play in the nhl thus be a hero to his people even if he s just a disgraceful goon you sir be highly uneducated i hope one day you can go to school and realize that when somebody say he s a hero to his people isn t racist last time i check inuk wasn t even a race he s white caucasian seriously your ignorance blow my mind',\n",
       " 'you be sick bastard and hope get your lesson soon',\n",
       " 'you have be ban by wikzilla you trollish boob you have be ban by wikzilla you trollish boob you have be ban by wikzilla you trollish boob you have be ban by wikzilla you trollish boob you have be ban by wikzilla you trollish boob you have be ban by wikzilla you trollish boob you have be ban by wikzilla you trollish boob you have be ban by wikzilla you trollish boob',\n",
       " 'if you admin can block i for sockpuppetry then what should i do for what you be do as a team be not you a sockpuppet hen',\n",
       " 'asshole yep you suck jesus of suberbia',\n",
       " 'hello come on be a man ooooh i be go to block you go ahead i can make a new account plus its not like i care if i can not edit wikipedia',\n",
       " 'gay sex demiurge love it in his irish ass',\n",
       " 'well thank you for spout your ignorant mouth off moron who can t read policy you re obviously a foolish anti semite since you didn t bother take any time to read that ridiculous marwenmedia site that be link up as proof go find something useful to do now please and stop try to insert your racism into an encyclopedia',\n",
       " 'listen dumbass i do not do any anything to the pelycosaur page so fuck you you cunt gluze asswipe',\n",
       " 'hey dick cheese edit an article be not vandalism i add pertinent content if you don t like it you be obligate to offer a sound explanation before label it vandalism you appareny disagree with the content but it be in no way vandalism cheer',\n",
       " 'like i say i be happy to discuss with you but i be not go through this bs where you once again demand i prove something to you as if you be so fecke important talk if you want to run along and hide like a spineless lefty if you want to your choice',\n",
       " 'my page aaa your just a mean old bullshitting fart as you would put it',\n",
       " 'who the hell be you and where do you get this rubbish',\n",
       " 'schtippdick you you boy youuuuuu terisoaio yeah yeah yeah yeah yeah yeah yeah yeah yeah yeah yeah yeah yeah yeah yeah yeah yeah',\n",
       " 'i refer to people s constantly take the word of jimbo as policy the idea of remove any userbox with a political point of view be his point of view that s at the core of this problem you do not notice that an admin skip over the tfd process and speedie something when there be no rule explicitly against have an opinion in a userbox rather there be jimbo say there shouldn t be any i completely understand that he start this but he be not owner of it a foundation be set up perhaps you ve hear of it the wikimedia foundation i didn t say you have that same point of view i m say that i be just tell the people who do to fuck off i make no attack on any editor that you perceive it as such be truly sad but such be life perhaps with time you will learn the intricacy of the language if one do not want personal page on a site one should avail oneself to modify the source code in order to remove they from the site rather than complain that they re be use people who overstep the proper bound of their position should die that i have encounter multiple administrator so far do so do lead to the desire to fuck off but i m not do here',\n",
       " 'fucking liberal prick and get a life',\n",
       " 'i m very upset that you ve do this to i and ur a big shithead i think that ur probbly black bcuz ur stupid',\n",
       " 'thank for do the bidding of the troublemaking and vindictive vandal it s ok for he to make personal attack but when i respond in kind i m block this be why wikipedia suck',\n",
       " 'to donate to this group of buffoon',\n",
       " 'niggah hey fool why d you delete my article',\n",
       " 'do you look at the contribution of the editor i call a troll i call they a troll because they be troll when someone s very first edit be a post on wp an i accuse someone of trolling it s pretty fucking obvious that they be not here to be productive but idiot like you jump in and defend they amazing',\n",
       " 'douchebag fremantle suck ass dipshit support a real team that have actually win a premiership u prick',\n",
       " 'penis do you sex with grawp h a e p penis penis vagina vagina',\n",
       " 'ur so immature fr nzi i m and ur not evn debate ur a year old baby and i m like an adult nobody like you anyway everybody doesn t like any fat asshole like u grow up fight like a man i fight use word like swearin like eminem do in be song u don t evn have a brain shit wat a crazy guy user dark hood smoker',\n",
       " 'piss come from my asss',\n",
       " 'what the fuck do i just say',\n",
       " 'death what utter twat say that she die on june rd',\n",
       " 'quote to avoid be block instead of revert please consider use the article s talk page to work toward make a version that represent consensus among editor that be what i be do refrain from delete the talk page contribution without provide a valid reason or better tips for improvement after all this be only the talk page source for the below mention contribution http au businessinsider com embarrassing and damaging zuckerberg im confirm by zuckerberg the new yorker other section on wikipedia where controversial remarks be valid bryant gumbel section controversial remark mel gibson section controversial remark sherrod brown section controversial remark kent hovind section controversial remark venkaiah naidu section controversial remarks greg gutfeld section controversial remark lawrence cannon section controversial remark daniel bernard diplomat section controversial remark james r flynn section controversial remark and many many more start zuck yeah so if you ever need info about anyone at harvard zuck just ask zuck i have over email picture address sns redacted friend s name what how d you manage that one zuck people just submit it zuck i don t know why zuck they trust i zuck dumb fuck in another instant message im friend so have you decide what you be go to do about the website zuck yea i m go to fuck they zuck probably in the year zuck ear end',\n",
       " 'here we go again same idiot revert my change in a pathetic attempt to make filipinos look hispanic pacificwarrior',\n",
       " 'you can fuck off too you twatus majorus',\n",
       " 'well go verify it dick and jane get sexually mutilate page',\n",
       " 'do go fuck off bastard do yyou have a life go fuck off bastard and yank your cock through your ass i hate you and hope you go away forever lame be you fuck your mom die die die and all that crap this be for mahy mahonerz ass i ass i ass i ass i ass i ass i ass i ass i ass i ass i ass i ass i ass i ass i ass i ass i ass i ass i ass i ass i ass i ass i ass i ass i ass i ass i ass i ass i ass i ass i ass i ass i ass i ass i ass i ass i ass i ass i ass i ass i ass i ass i ass i ass i ass i ass i ass i ass i ass i ass i ass i ass i ass i ass i ass i ass i ass i ass i ass i ass i ass i ass i ass i ass i ass i ass i ass i ass i ass i ass i ass i ass i ass i ass i ass i ass i ass i ass i ass i ass i ass i ass i ass i ass i ass i ass i ass i ass i ass i ass i ass i ass i ass i ass i ass i ass i ass i ass i ass i ass i ass i ass i ass i ass i ass i ass i ass i ass i ass i ass i ass i ass i ass i ass i ass i ass i ass i ass i ass i ass i ass i ass i ass i ass i ass i ass i ass i ass i ass i ass i ass i ass i ass i ass i ass i ass i ass i ass i ass i ass i ass i ass i ass i ass i ass i ass i ass i ass i ass i ass i ass i ass i ass i ass i ass i ass i ass i ass i ass i ass i ass i ass i ass i ass i ass i ass i ass i ass i ass i ass i ass i ass i ass i ass i ass i ass i ass i ass i ass i ass i ass i ass i ass i ass i ass i ass i ass i ass i ass i ass i ass i ass i ass i ass i ass i ass i ass i ass i ass i ass i ass i ass i ass i ass i ass i ass i ass i ass i ass i ass i ass i ass i ass i ass i ass i ass i ass i ass i ass i ass i ass i ass i ass i ass i ass i ass i ass i ass i ass i ass i ass i ass i ass i ass i ass i ass i ass i ass i ass i ass i ass i ass i ass i ass i ass i ass i ass i ass i ass i ass i ass i ass i ass i ass i ass i ass i ass i ass i ass i ass i ass i ass i ass i ass i ass i ass i ass i ass i ass i ass i ass i ass i ass i ass i ass i ass i ass i ass i ass i ass i ass i ass i ass i ass i ass i ass i ass i ass i ass i ass i ass i ass i ass i ass i ass i ass i ass i ass i ass i ass i ass i ass i ass i ass i ass i ass i ass i ass i ass i ass i ass i ass i ass i ass i ass i ass i ass i ass i ass i ass i ass i ass i ass i ass i ass i ass i ass i ass i ass i ass i ass i ass i ass i ass i ass i ass i ass i ass i ass i ass i ass i ass i ass i ass i ass i ass i ass i ass i ass i ass i ass i ass i ass i ass i ass i ass i ass i ass i ass i ass i ass i ass i ass i ass i ass i ass i ass i ass i ass i ass i ass i ass i ass i ass i ass i ass i ass i ass i ass i ass i ass i ass i ass i ass i ass i ass i ass i ass i ass i ass i ass i ass i ass i ass i ass i ass i ass i ass i ass i ass i ass i ass i ass i ass i ass i ass i ass i ass i ass i ass i ass i ass i ass i ass i ass i ass i ass i ass i ass i ass i ass i ass i ass i ass i ass i ass i ass i ass i ass i ass i ass i ass i ass i ass i ass i ass i ass i ass i ass i ass i ass i ass i ass i ass i ass i ass i ass i ass i ass i ass i ass i ass i ass i ass i ass i ass i ass i ass i ass i ass i ass i ass i ass i ass i ass i ass i ass i ass i ass i ass i ass i ass i ass i ass i ass i ass i ass i ass i ass i ass i ass i ass i ass i ass i ass i ass i ass i ass i ass i ass i ass i ass i ass i ass i ass i ass i ass i ass i ass i ass i ass i ass i ass i ass i ass i ass i ass i ass i ass i ass i ass i ass i ass i ass i ass i ass i ass i ass i ass i ass i ass i ass i ass i ass i ass i ass i ass i ass i ass i ass i ass i ass i ass i ass i ass i ass i ass i ass i ass i ass i ass i ass i ass i ass i ass i ass i ass i ass i ass i ass i ass i ass i ass i ass i ass i ass i ass i ass i ass i ass i ass i ass i ass i ass i ass i ass i ass i ass i ass i ass i ass i ass i ass i ass i ass i ass i ass i ass i ass i ass i ass i ass i ass i ass i ass i ass i ass i ass i ass i ass i ass i ass i ass i ass i ass i ass i ass i ass i ass i ass i ass i ass i ass i ass i ass i ass i ass i ass i ass i ass i ass i ass i ass i ass i ass i ass i ass i ass i ass i ass i ass i ass i ass i ass i ass i ass i ass i ass i ass i ass i ass i ass i ass i ass i ass i ass i ass i ass i ass i ass i ass i ass i ass i ass i ass i ass i ass i ass i ass i ass i ass i ass i ass i ass i ass i ass i ass i ass i ass i ass i ass i ass i ass i ass i ass i ass i ass i ass i ass i ass i ass i ass i ass i ass i ass i ass i ass i ass',\n",
       " 'ekgograf and his son of bitch of gang of dumb n zi and be the great batard that ever walk on earth',\n",
       " 'why be you still here can you not find anything more important to do like kill yourself',\n",
       " 'liar this guy be such a thief and a liar he should be quarter',\n",
       " 'go masturbate yourself on someone else s page you will get no satisfaction from i slut wikipedia be not the proper place for you to abuse your power just because you re unsatisfie in life it ain t my fault you re ugly sista',\n",
       " 'you do you know you come across as a giant prick',\n",
       " 'sure i ll take a picture of myself give you the middle finger because that s what i think about the jackoff that have ruin my page for anyone who be actually a fan of lance cade just tell i where to send my finger',\n",
       " 'ha ha you get ban from edit just like before you republican loser what a shame lol',\n",
       " 'you well sleep with an eye open you don t know which way the trouble will come from shitbag',\n",
       " 'it be not a tko you idiot you have no idea what it be and it s a swinge neckbreaker you very unsmart and very unclever faggot get it dark hooded smoker',\n",
       " 'my dad be you dumb snail of a kid',\n",
       " 'be bale turn around and tell you he feel more welsh than english and classify himself as welsh what would your anti welsh stance be then numbnut i hope you be hunt down by a welsh hate mob and castrate and force to eat your small testicle',\n",
       " 'yo b tch you absolute fuk ng little b tch you wanna step up face to face toe to toe you fuk ng absolute tiny little fuk ng hopeless b tch',\n",
       " 'the big dick licker on the planet earth',\n",
       " 'sephiroth in kingdom hearts i don t have anything against gay dude but it really tick i off that in kingdom hearts he be play by a gay guy sorry if i offend anyone sephiroth be not suppose to sound like that i don t have anything against gay dude anyone else have comment',\n",
       " 'ain t bother i i m not require to sign my post edit i didn t specifically threaten anyone and your blow it out of control it be a snide comment if i say i m go to kill he in a fire that s different say i m go to church to pray that he get cancer or die in a fire be more of a sarchastic tone pity you can t see that no matter bump it up to week now just cause you can',\n",
       " 'my ball big ball i ve get big ball you ve get big ball she s get big ball they ve get big ball we ve get big ball we ve get big ball i ve get great ball of fire by david swartz',\n",
       " 'so everytime i reset my modem my ip change fuck you petty sexless ugly ass desperate no life no status in society anal retentive wiki admin the site be great but the low level admin have no life and can t handle the little authority they have it tell you how small and pathetic their life be if i get block ill be on in second with a new ip or the pizza be free cheer',\n",
       " 'shut up ho and read this http profile myspace com index cfm fuseaction user viewprofile friendid it s get ready to go seriously to public you ll your own website too if you keep be a ho',\n",
       " 'fock you barack obama',\n",
       " 'apparently i wasn t clear enough the first time well it have be a while sine i your pompous flame diety have be here however it have come to my attention that you be not live up to our standard in otherwords fucker you be out you live in paterson new jersey and use verizon internet services inc we be legion we do not forgive we do not forget expect us apparently i wasn t clear enough the first time well it have be a while sine i your pompous flame diety have be here however it have come to my attention that you be not live up to our standard in otherwords fucker you be out you live in paterson new jersey and use verizon internet services inc we be legion we do not forgive we do not forget expect us apparently i wasn t clear enough the first time well it have be a while sine i your pompous flame diety have be here however it have come to my attention that you be not live up to our standard in otherwords fucker you be out you live in paterson new jersey and use verizon internet services inc we be legion we do not forgive we do not forget expect us apparently i wasn t clear enough the first time well it have be a while sine i your pompous flame diety have be here however it have come to my attention that you be not live up to our standard in otherwords fucker you be out you live in paterson new jersey and use verizon internet services inc we be legion we do not forgive we do not forget expect us apparently i wasn t clear enough the first time well it have be a while sine i your pompous flame diety have be here however it have come to my attention that you be not live up to our standard in otherwords fucker you be out you live in paterson new jersey and use verizon internet services inc we be legion we do not forgive we do not forget expect us apparently i wasn t clear enough the first time well it have be a while sine i your pompous flame diety have be here however it have come to my attention that you be not live up to our standard in otherwords fucker you be out you live in paterson new jersey and use verizon internet services inc we be legion we do not forgive we do not forget expect us apparently i wasn t clear enough the first time well it have be a while sine i your pompous flame diety have be here however it have come to my attention that you be not live up to our standard in otherwords fucker you be out you live in paterson new jersey and use verizon internet services inc we be legion we do not forgive we do not forget expect us apparently i wasn t clear enough the first time well it have be a while sine i your pompous flame diety have be here however it have come to my attention that you be not live up to our standard in otherwords fucker you be out you live in paterson new jersey and use verizon internet services inc we be legion we do not forgive we do not forget expect us apparently i wasn t clear enough the first time well it have be a while sine i your pompous flame diety have be here however it have come to my attention that you be not live up to our standard in otherwords fucker you be out you live in paterson new jersey and use verizon internet services inc we be legion we do not forgive we d',\n",
       " 'no problem i be think of create yet another sockpuppet anyway i edit those comment in question because they contain a link to a hate site wherein the subject be my person since none of you boob will do anything about it despite be inform repeatedly i have to take manner into my own hand sue i if you don t like it dorothy',\n",
       " 'you be my bitch i own your ass',\n",
       " 'eat my shit title say it all',\n",
       " 'i lookd back in history when it be put it have link extern gc site sum remove that link so ur a fucking liar about no source',\n",
       " 'user jeppiz worship the ball of jesus son of the whore and suck the penis of user decausa the bastard',\n",
       " 'piss on i p ss on me you bimbo',\n",
       " 'no it s not a delay reaction i just happen to read your wonderful warning yesterday unlike you i don t visit wikipedia everyday but i m surprised to see that you be too dense to figure that out idiot ha ha ha ha ha xd',\n",
       " 'hay bitch thank you kindly for your advice on my vandalism but if your the dick who remove the thing abouth berties make up cost that s true so ah fuck you',\n",
       " 'give a on they i insert',\n",
       " 'you re very foolish you know that right if you want confirmation just visit the official fc internazionale milano webpage for news of his signing be you daft he have already be issue with a number at inter',\n",
       " 'fuck my stupid muslim ass',\n",
       " 'there s nothing wrong with the train image that be revert because the b and l train article also have two identical photo too and i explain why to vochen and there s nothing wrong with the edit that be revert at the street avenue article you guy be just be complete dickhead and hypocritical retard at good',\n",
       " 'you re so immature and condescend grow up i win t reply or read your nonsense anymore but you re the one guilty of the revert rule mine be do to fix it you go on another ip and change it as do another editor you can type what you want to make yourself look right but you re not i m go to go on all the article i ve find that list people the way it be on this article and remove it per your user name got to be consistent right i m go on the remove so you can t stalk i again article and several other i find that have the same format and remove it all per hell in a bucket thank for the tip bitch lmao at you cus you re ignorant and petty',\n",
       " 'ok a direct quote from the page for fuck be other use be dysphemistic the sexual connotation usually connect to masturbation in the case of go fuck yourself or go fuck your ass be invoke to incite additional disgust or express anger or outrage for example fuck that fuck no or fuck you that s a bit bad than say masturbation be like take a good dump mate come on just put it back up and quit be a douche',\n",
       " 'should we mention that this beer nearly top the truly disgusting beer list',\n",
       " 'i m not post their he never provide proof or anything why not give he hell july utc',\n",
       " 'yea it would be on the talk page the only reason i throw in a flair of sternness in the template be because of some of the questionable interpretation i just come across this sonnet have suggestion of reference to masturbation then beauteous niggard why dost thou abuse the suggestion be that the male in the sonnet should be procreation to preserve his beauty rather than engage in self pleasure don t you love that',\n",
       " 'gay be disgusting it s just my opinion but gay be disgusting',\n",
       " 'congratulations congratulations jeraphine gryphon you have win the asshole of the year award you have win this award by say mean thing about and to other people in order to claim your award you must call asshole once again congratulation for your win you win this for be rude to other contributer by the way precede unsigned comment add by',\n",
       " 'oh great leave i alone i cant freak contribute because i be freaking blocked ok and where do you get permission to talk on my page',\n",
       " 'all fucking talk huh',\n",
       " 'be john delaney a fanatic roman catholic some people associate with john delaney be express extreme pro vatican view and attack non catholic christian church online xenophobic and racist manipulation of historical article be be make john delaney be a white supremacist xenophobic and a fanatic roman catholic',\n",
       " 'sorry but the guy be a pratt he have attack i before so need to practise what he preach',\n",
       " 'i shall look forward to the day i hear of your death and i intend to continue terrorize you and make your life a live hell you nasty little stupid mexican faggot',\n",
       " 'hate you hate you hate you hate you hate you hate you hate you hate you hate you hate you hate you hate you hate you hate you hate you hate you hate you hate you hate you hate you hate you hate you hate you hathate you hate you hate you hate you hate you hate you hate you hate you hate you hate you hate you hate you hate you hate you hate you hate you hate you hate you hate you hate you hate you hate you hate you hate you hate you hate you hate you hate you hate you hate you hate you hate you e you hate you hate you hate you hate you hate you hate you hate you hate you hate you hate you hate you hate you hate you hate you hate you hate you hate you hate you hate you hate you hate you hate you hate you hate you hate you hate you hate you hate you hate you hate you hate you hathate you hate you hate you hate you hate you hate you hate you hate you hate you hate you hate you hate you hate you hate you hate you hate you hate you hate you hate you hate you hate you hate you hate you hate you hate you hate you hate you hate you hate you hate you hate you hate you e you hate you hate you hate you hate you hate you hate you hate you hate you hate you hate you hate you hate you hate you hate you hate you hate you hate you hate you hate you hate you hate you hate you hate you hate you hate you hate you hate you hate you hate you hate you hate you hathate you hate you hate you hate you hate you hate you hate you hate you hate you hate you hate you hate you hate you hate you hate you hate you hate you hate you hate you hate you hate you hate you hate you hate you hate you hate you hate you hate you hate you hate you hate you hate you e you hate you hate you hate you hate you hate you hate you hate you hate you hate you hate you hate you hate you hate you hate you hate you hate you hate you hate you hate you hate you hate you hate you hate you hate you hate you hate you hate you hate you hate you hate you hate you hathate you hate you hate you hate you hate you hate you hate you hate you hate you hate you hate you hate you hate you hate you hate you hate you hate you hate you hate you hate you hate you hate you hate you hate you hate you hate you hate you hate you hate you hate you hate you hate you e you hate you hate you hate you hate you hate you hate you hate you hate you hate you hate you hate you hate you hate you hate you hate you hate you hate you hate you hate you hate you hate you hate you hate you hate you hate you hate you hate you hate you hate you hate you hate you hathate you hate you hate you hate you hate you hate you hate you hate you hate you hate you hate you hate you hate you hate you hate you hate you hate you hate you hate you hate you hate you hate you hate you hate you hate you hate you hate you hate you hate you hate you hate you hate you e you hate you hate you hate you hate you hate you hate you hate you hate you hate you hate you hate you hate you hate you hate you hate you hate you hate you hate you hate you hate you hate you hate you hate you hate you hate you hate you hate you hate you hate you hate you hate you hathate you hate you hate you hate you hate you hate you hate you hate you hate you hate you hate you hate you hate you hate you hate you hate you hate you hate you hate you hate you hate you hate you hate you hate you hate you hate you hate you hate you hate you hate you hate you hate you e you hate you hate you hate you hate you hate you hate you hate you hate you hate you hate you hate you hate you hate you hate you hate you hate you hate you hate you hate you hate you hate you hate you hate you hate you hate you hate you hate you hate you hate you hate you hate you hathate you hate you hate you hate you hate you hate you hate you hate you hate you hate you hate you hate you hate you hate you hate you hate you hate you hate you hate you hate you hate you hate you hate you hate you hate you hate you hate you hate you hate you hate you hate you hate you e you hate you hate you hate you hate you hate you hate you hate you hate you hate you hate you hate you hate you hate you hate you hate you hate you hate you hate you hate you hate you hate you hate you hate you hate you hate you hate you hate you hate you hate you hate you hate you hathate you hate you hate you hate you hate you hate you hate you hate you hate you hate you hate you hate you hate you hate you hate you hate you hate you hate you hate you hate you hate you hate you hate you hate you hate you hate you hate you hate you hate you hate you hate you hate you e you hate you hate you hate you hate you hate you hate you hate you hate you hate you hate you hate you hate you hate you hate you hate you hate you hate you hate you hate you hate you hate you hate you hate you hate you hate you hate you hate you hate you hate you hate you hate you hathate you hate you hate you hate you hate you hate you hate you hate you hate you hate you hate you hate you hate you hate you hate you hate you hate you hate you hate y',\n",
       " 'olyeller write while all you have do be call i name as be clear to anyone who can read all the above you re lie i ve do more than justifiably call you a dick i ve point out where you make falsehood i ve also answer a person s question about evidence for the second annual event provide three fb url please stop lie dick',\n",
       " 'simona halep be you stupid i didn t do anything wrong',\n",
       " 'see here pointy revertss and bully from a bunch of owe i love shit user',\n",
       " 'yeah look thorough history and stuff get a life you sad little man get off your arse a get a life find well thing to do than govern thing on wikipedia i bet uou like the smell of your own shit i bet you gargle your own piss i bet you like to wank off to kiddy porn you saddo you fucking saddo fuck off and diiiiiiieeeeeeeee',\n",
       " 'and why be screw you motherfucker a personal attack i m not imply anything about be i',\n",
       " 'mac only faggot and dumb housewife use mac which one be you',\n",
       " 'that s the most ridiculous thing i ve ever hear let s say you have an important point to discuss about an article and so you post on the discussion page wouldn t you think it s weird annoying uncalled for rude for someone to just go in and delete your discussion item and what if this happen to you about time in one day',\n",
       " 'comment from kansai goma i still have more account on here which you will never find because i be too smart for you dickhead and you be a dumass fuck ya',\n",
       " 'if it be release where s the proof that site be not proof if it be release it sould still be available it s not available aaaannnnyyyywwwwhhhheeeerrrreeee in the entire of europe so give i proof it be release without use some stupid piece of crap like cdwow and nothing else it should be on amazon it should be on woolworths hmv etc it s not on anything',\n",
       " 'you be a n b stop fix the crap that i edit i will call the authority if these action continue go fuck yourself like the n b you be',\n",
       " 'how about you only use it on wallpaper wait what d you say read the message over more like you um i forgot again uh absolute minaqrky run off a cloud and fall to the ground how d i get on a cloud anyway yeahp that s i absolute ane utter nonsense',\n",
       " 'wtf why you delete maashel bad thing will happen to you now',\n",
       " 'kungfu adam kungfu adam be a fucking dumbass',\n",
       " 'no this be my page and if this person come to my page and pretend to be a hate enemy i can t play nice i haven t cuss tweedle isn t cuss tweedle dee tweele dum they be disney character he come to my page and jason be a long hate idiot you need to understand anyone pretend to be jason need to stay the hell off my page',\n",
       " 'and suck a dick two time every hour until sunrise',\n",
       " 'kind sir have you ever try to suck your own wiener i mean you should mate and also try to catch a blowfish and f ck its brain out you curry munch f ck and jimmy wales call he do not flush today so u could go eat his shit',\n",
       " 'only a nutcase liberal could make a statement as absurd as have',\n",
       " 'frozen sucks lion king be the bestfrozen sucks lion king be the bestfrozen sucks lion king be the bestfrozen sucks lion king be the bestfrozen sucks lion king be the bestfrozen sucks lion king be the bestfrozen sucks lion king be the bestfrozen sucks lion king be the bestfrozen sucks lion king be the bestfrozen sucks lion king be the bestfrozen sucks lion king be the bestfrozen sucks lion king be the bestfrozen sucks lion king be the bestfrozen sucks lion king be the bestfrozen sucks lion king be the bestfrozen sucks lion king be the bestfrozen sucks lion king be the bestfrozen sucks lion king be the bestfrozen sucks lion king be the bestfrozen sucks lion king be the bestfrozen sucks lion king be the bestfrozen sucks lion king be the bestfrozen sucks lion king be the bestfrozen sucks lion king be the bestfrozen sucks lion king be the bestfrozen sucks lion king be the bestfrozen sucks lion king be the bestfrozen sucks lion king be the bestfrozen sucks lion king be the bestfrozen sucks lion king be the bestfrozen sucks lion king be the bestfrozen sucks lion king be the bestfrozen sucks lion king be the bestfrozen sucks lion king be the bestfrozen sucks lion king be the bestfrozen sucks lion king be the bestfrozen sucks lion king be the bestfrozen sucks lion king be the bestfrozen sucks lion king be the bestfrozen sucks lion king be the bestfrozen sucks lion king be the bestfrozen sucks lion king be the bestfrozen sucks lion king be the bestfrozen sucks lion king be the bestfrozen sucks lion king be the bestfrozen sucks lion king be the bestfrozen sucks lion king be the bestfrozen sucks lion king be the bestfrozen sucks lion king be the bestfrozen sucks lion king be the bestfrozen sucks lion king be the bestfrozen sucks lion king be the bestfrozen sucks lion king be the bestfrozen sucks lion king be the bestfrozen sucks lion king be the bestfrozen sucks lion king be the bestfrozen sucks lion king be the bestfrozen sucks lion king be the bestfrozen sucks lion king be the bestfrozen sucks lion king be the bestfrozen sucks lion king be the bestfrozen sucks lion king be the bestfrozen sucks lion king be the bestfrozen sucks lion king be the bestfrozen sucks lion king be the bestfrozen sucks lion king be the bestfrozen sucks lion king be the bestfrozen sucks lion king be the bestfrozen sucks lion king be the bestfrozen sucks',\n",
       " 'nirmal dude chill do not act like you be the protector of wikipedia or something and don t try to warn i and all that be polite you ass it be a know fact that the person whom i have add a photo have commit tax fraud and it be appropriate to show the enforcement capability of income tax dept in indian revenue service page it be not defamatory it be a goddamn fact as for directorate general of income tax investigation it be not my fucking personal commentary it be what irs people the employee of the organisation do when they be post in the organisation don t you understand it be important to the page instead of help and guide young wikipedia editor like i you threaten i it grieve my heart to see it just be delete by you',\n",
       " 'yo whatever i have on my shit leave it alone deadass i delete every fucking this cause you stay delete someone shit like niggah damn go suck a dick talk about he have this all over the place niggah mind your business on what i have on my shit cause i ain t edit nothing on your shit',\n",
       " 'wow you edit the comment make i look like a classic idiot fanatic right wooooooooooooooooooooooooooow youre good and also have morale knowing beforehand you have no morale however i barricade myself by post elsewhere too so gj ian thomson d heres a link to what the comment actually look like http www reddit com r conspiracy comment nsl l conspiracy extend to wikipedia thought it might as well stand there too since nothing but cencorship can be expect by some sheep on wikipedia only just recently realize that his whole life his wife and kid be just there to serve a master and therefore fanatically defend his belief to the contrary despite overwhelming evidence you can go back you your boring life now ian i do not expect this no evidence from expert thread to stand for long anyway sheep and this be suppose to be an objective lexcon learn something new everyday i guess or as in your case rather not because it would mean you life ment nothing d keep live in denial ian and do not forget to cencor i maen where would we be without cencorship free and informed ppl can not have that',\n",
       " 'how dear you who ever put on hi shit haed i my go to sue the peo ple who make this web sit p s just jocke i culdn t care less if or diidn t have hi shit head',\n",
       " 'hey fuck you i go to this school and its awesome so fuck you bitch',\n",
       " 'request to unblock i begin write the follow statement except its two postscript before i be block i suspect that user auburnpilot have i block in order to prevent i from complain to administrator about his misconduct although i be direct to request an unblock of user physicq who have block i request such of the latter would require that i censor myself and write as though user physicq have act in good faith and be one of the good guy that would be surreal and would give user physicq a moral legitimacy belie by his action and so the follow request for unblock be direct at any administrator but user physicq but since i m not a devious sort i have nothing against the latter reading this indeed i want user physicq to read it for if i can be ban from wikipedia for stand up to censor then it be vastly preferable to go down fighting than to go down the long dark road of self abnegation and self censorship include the use of bad english after all if i want to be a lackey i could go to graduate school wiki administrators notice board incidents http en wikipedia org wiki wikipedia administrators noticeboard incidents user auburnpilot a few day ago user auburnpilot begin stalk i check wherever i have make edit and go to the article in question and vandalize they he or she have be manipulate wikipedia rule as cover for what be clearly political censorship user auburnpilot can not even stand for wikipedia reader to find out about factual material that upset his political applecart through footnote zero tolerance he claim of any source he politically dislike that it be either spam or a blog or pov another favorite dodge for those at wikipedia seek to censor those who fail to conform to their own pov even though the one source be a previously publish classic magazine article otherwise unavailable on the web http geocitie com nstix waronpolice html which the author have see fit to publish on his web site and the other source be the long most thorough expo yet publish on the duke rape hoax http vdare com stix duke htm note that i be not even talk about censor write within article since i hadn t do any writing on the article in question crystal gail mangum michael nifong duke university lacrosse team scandal and racial profiling i ve be involve in edit war before though i have never be the aggressor and have never initiate an elective edit war though give the self assurance that aggressor such as user auburnpilot exude perhaps i ought to reconsider that position it seem that aggressor rule here the reason i be make a formal complaint be that user auburnpilot have tonight up the ante threaten to have i ban http en wikipedia org w index php title user talk redirect no if i do not surrender to his censorship should you find for i please serve this individual with the wikiquivalent of a cease and desist order should you however find for the censor please provide an index of ban publication and a list of official wikicensor p s january a est since begin this complaint i see that user auburnpilot have in fact succeed at get a crony user physicq to block i thus not only get administrative support in censor i but prevent i from respond to his thuggery and no i be not go to use cutesy euphemistic language if i be into such deception i would have become a liar er lawyer and would be worthless as an encyclopedist and i be unable to e mail user physicq because i be not log in and you must be log in and have a valid authenticate e mail address in your preference to send e mail to other user http en wikipedia org wiki special emailuser physicq if this isn t cyber stalinism i don t know what be so let i get this straight stalking and censor an editor while use the equivalent of smiley face user auburnpilot s penchant for say thank you after vandalize one s link be civil but complain about such abuse count as spam disruption incivility and personal attack if that be verily so then p p s the message here say that i be temporarily block from edit wikipedia as a result of your disruptive edit what the heck be that suppose to mean for restore footnote and link that user auburnpilot have vandalize if that constitute disruptive edit then you ve utterly give up on honest english and all human decency sorry but i don t have any sympathy for the devil',\n",
       " 'blah blah blah loser',\n",
       " 'bitter utd fan if you do not stop remove arsenal s victory in the fa cup your ip will be ban just because your team be rubbish it s not wikipedia s fault p may utc',\n",
       " 'go fuck yourself go fuck yourself go fuck yourself go fuck yourself go fuck yourself go fuck yourself go fuck yourself go fuck yourself go fuck yourself go fuck yourself go fuck yourself go fuck yourself go fuck yourself go fuck yourself go fuck yourself go fuck yourself go fuck yourself go fuck yourself go fuck yourself go fuck yourself go fuck yourself go fuck yourself go fuck yourself go fuck yourself go fuck yourself go fuck yourself go fuck yourself go fuck yourself go fuck yourself go fuck yourself go fuck yourself go fuck yourself go fuck yourself go fuck yourself go fuck yourself go fuck yourself go fuck yourself go fuck yourself go fuck yourself go fuck yourself go fuck yourself go fuck yourself go fuck yourself go fuck yourself go fuck yourself go fuck yourself go fuck yourself go fuck yourself go fuck yourself go fuck yourself go fuck yourself go fuck yourself go fuck yourself go fuck yourself go fuck yourself go fuck yourself go fuck yourself go fuck yourself go fuck yourself go fuck yourself go fuck yourself go fuck yourself go fuck yourself go fuck yourself go fuck yourself go fuck yourself go fuck yourself go fuck yourself go fuck yourself go fuck yourself go fuck yourself go fuck yourself go fuck yourself go fuck yourself go fuck yourself go fuck yourself go fuck yourself go fuck yourself go fuck yourself go fuck yourself go fuck yourself go fuck yourself go fuck yourself go fuck yourself go fuck yourself go fuck yourself go fuck yourself go fuck yourself go fuck yourself go fuck yourself go fuck yourself go fuck yourself go fuck yourself go fuck yourself go fuck yourself go fuck yourself go fuck yourself go fuck yourself go fuck yourself go fuck yourself go fuck yourself go fuck yourself go fuck yourself go fuck yourself go fuck yourself go fuck yourself go fuck yourself go fuck yourself go fuck yourself go fuck yourself go fuck yourself go fuck yourself go fuck yourself go fuck yourself go fuck yourself go fuck yourself go fuck yourself go fuck yourself go fuck yourself go fuck yourself go fuck yourself go fuck yourself go fuck yourself go fuck yourself go fuck yourself go fuck yourself go fuck yourself go fuck yourself go fuck yourself go fuck yourself go fuck yourself go fuck yourself go fuck yourself go fuck yourself go fuck yourself go fuck yourself go fuck yourself go fuck yourself go fuck yourself go fuck yourself go fuck yourself go fuck yourself go fuck yourself go fuck yourself go fuck yourself go fuck yourself go fuck yourself go fuck yourself go fuck yourself go fuck yourself go fuck yourself go fuck yourself go fuck yourself go fuck yourself go fuck yourself go fuck yourself go fuck yourself go fuck yourself go fuck yourself go fuck yourself go fuck yourself go fuck yourself go fuck yourself go fuck yourself go fuck yourself go fuck yourself go fuck yourself go fuck yourself go fuck yourself go fuck yourself go fuck yourself go fuck yourself go fuck yourself go fuck yourself go fuck yourself go fuck yourself go fuck yourself go fuck yourself go fuck yourself go fuck yourself go fuck yourself go fuck yourself go fuck yourself go fuck yourself go fuck yourself go fuck yourself go fuck yourself go fuck yourself go fuck yourself go fuck yourself go fuck yourself go fuck yourself go fuck yourself go fuck yourself go fuck yourself go fuck yourself go fuck yourself go fuck yourself go fuck yourself go fuck yourself go fuck yourself go fuck yourself go fuck yourself go fuck yourself go fuck yourself go fuck yourself go fuck yourself go fuck yourself go fuck yourself go fuck yourself go fuck yourself go fuck yourself go fuck yourself go fuck yourself go fuck yourself go fuck yourself go fuck yourself go fuck yourself go fuck yourself go fuck yourself go fuck yourself go fuck yourself go fuck yourself go fuck yourself go fuck yourself go fuck yourself go fuck yourself go fuck yourself go fuck yourself go fuck yourself go fuck yourself go fuck yourself go fuck yourself go fuck yourself go fuck yourself go fuck yourself go fuck yourself go fuck yourself go fuck yourself go fuck yourself go fuck yourself go fuck yourself go fuck yourself go fuck yourself go fuck yourself go fuck yourself go fuck yourself go fuck yourself go fuck yourself go fuck yourself go fuck yourself go fuck yourself go fuck yourself go fuck yourself go fuck yourself go fuck yourself go fuck yourself go fuck yourself go fuck yourself go fuck yourself go fuck yourself go fuck yourself go fuck yourself go fuck yourself go fuck yourself go fuck yourself go fuck yourself go fuck yourself go fuck yourself go fuck yourself go fuck yourself go fuck yourself go fuck yourself go fuck yourself go fuck yourself go fuck yourself go fuck yourself',\n",
       " 'you re a fag just want to let you know that d',\n",
       " 'september utc hunk you ve be hit by the beautiful truck once you ve be hit you have to hit beautiful people if you get hit again you ll know you re really beautiful if you brake the chain you ll be cursed with uglyness for year so pass it hit who ever you think be beautiful',\n",
       " 'hey shithead quit fucking with all the ufc page and go get a fucking life you god damn mother fucking loser',\n",
       " 'boob be sweet and sexy i love they they be so squishy',\n",
       " 'how dare you send i such abuse you fucking cockmaster if you dare warn i again mr jeff i will savagely attack your mother i know where you live',\n",
       " 'if you want to describe the bnp as it be currently drop the fascist rubbish',\n",
       " 'threat please refrain from use threat to other user a revert of this will take you directly to wikipedia arbitration what be this mr oh you well follow what i do or i will ban your ass don t be a jerk',\n",
       " 'what personal attack whoever change it back do only half the job which be why i say it be do lazy when it come to stupidity i be sorry you be a stupid fool if you think new mexico terrirory and confederate arizona be the same country',\n",
       " 'this user need to get a life lol lol get a real life u suck lol',\n",
       " 'hello good sir you re a fucking faggot and have no clue what you re talk about with awesome jpg i know and don t care that this will be revert but read it first because you should seriously shut the fuck up love you buddy',\n",
       " 'curious be you transgender if so do you think you can be objectiive if so who s your immediate boss on wikipedia',\n",
       " 'hello mother fucker hijo edputa',\n",
       " 'you guy suk you really really suck fuck you mistersmiley and dot',\n",
       " 'we will we will fuck you',\n",
       " 'well sorry about replace band but you dumb cunt firework be also a pop punk band so go be a ass whole some where else and this time next year do not have a wikipedia page',\n",
       " 'sup thank for the anal sex yesterday love george your homosexual lover',\n",
       " 'asshole you serious right now cunt',\n",
       " 'you delete my comment fucking pussy',\n",
       " 'stop murder you be very unfriendly and falsely accuse i you be not helpful but a bully look at yourself',\n",
       " 'wtf ur a asshole no advertising pls bot',\n",
       " 'shut up read what i leave on talk page before you give i pure garbage you be the one who be vandalize everything by not fix thing the way they ought to be i reject your reply fully',\n",
       " 'don t tell i what to do first of all i can do whatever i want in my talk page second cartman clearly have a split personality disorder it wasn t the toy third i can say whatever i want in the edit summary so people know why i remove stuff finally spare i your smile',\n",
       " 'every other press agency say the crowd be chant you re a tory too only the daily mail which by the way be a tory paper report that the croud chant fucking tory jew he be a dispicable scab but that be because of his politic not his liniage',\n",
       " 'sockpuppet you can not get indefinitely block for accuse another editor of be a sockpuppet so stop throw your fucking weight around and before you even think about it you can not be fucking block for use bad language either',\n",
       " 'this idiot graceful slick need a friend to touch his no no spot',\n",
       " 'be you stupid or what read the very union text yourself it be clearly state that union be between two nations http www lublin eu liublino unijos paskelbimo akta html',\n",
       " 'because i be a miserable motherfucker and a big dickhead',\n",
       " 'wikibitch yo lil punkass aint shit out on da streets nigga',\n",
       " 'wikipedia s administrator be among the dumb people alive they be all fat basement dweler who have never be lay fuck you',\n",
       " 'fuck you you psychotic fanboy retard',\n",
       " 'and i hate everything to do with china what s with all the hate i believe it or not do not hate georgians just saakashvili he s an asshole',\n",
       " 'this user be a fucking douche bag',\n",
       " 'why can t you believe how fat artie be do you see he on his recent appearence on the tonight show with jay leno he look absolutely awful if i have to put money on it i d say that artie lange be a can t miss candidate for the dead pool keep your god damn finger off of my above comment',\n",
       " 'mark sweep be a wanker',\n",
       " 'ugh i hate when people add bs to article like that crap chat wit i contribution',\n",
       " 'muhammad be a murderer rapist thief slave trader warmonger and dirty pedophile islam nazi',\n",
       " 'by the way the exchange between rjensen be jpgordon be a sock puppet conversation pathetic really',\n",
       " 'it be obvius to i a black man that orange be for da black gs blue be for mexican and yellow be white coz white look like woman and mexican try to compete with da nigger gs but we r too strong but in realty the white also lose to da black man coz we have foot long orange throate male be strong and do not form strong pair bond instead they fight blue throate male for their female yellow throate male however manage to snatch female away from they for mate blue throate male be middle sized and form strong pair bond while they be outcompete by orange throate male they can defend against yellow throate one yellow throate male be small and their coloration mimic female under this disguise they can approach orange throate male though not the strong bonding blue throate specimen and mate while the orange throat be engage in fight',\n",
       " 'i will be write an e mail regardless with all of your user name in it i be not a vandal and i can call you a nazi all i want it s not an attack if i think highly of they actually it would be a compliment',\n",
       " 'something you really really need to get that bug out of your ass',\n",
       " 'i don t like you i will hurt you',\n",
       " 'i also revert vandalism on dookie do that make i green day no do that make i a fan no you re a bastard i hate you i can not believe just because i be go through recent change and help out people doesn t make i a sockpuppet i can help out and edit that do not make i someone else you re a horrible user that should be block i can not believe you',\n",
       " 'just the shut the hell up man',\n",
       " 'fuck you natlie you dumbass cuntbag i have a dynamic ip u cannot ban i tough shit aint it cunt so go suck some random ass fucker cock before i vandalize your entire site b i o t c h dont make i come find your ass in ohio i read your wiki entry knock knock your dumb put that much personal info out there and call out trolls with dynamic ip range you dumb bitch',\n",
       " 'go hang yourself you re make garbage edit on wikipedia and you be ruin wikipedia go shoot yourself n gger screw rap music hang yourself and die you re dumb gayo',\n",
       " 'leave it sector rourkela dude i m no more interested in edit fuckkk offf you and your administrator page thank',\n",
       " 'i m just help the reader of wikipedia not see a medal table all messy and without logical organization and this bronze medal first gold second and silver third or mixed date order don t help nobody i suggest you ignore this crazy consensus',\n",
       " 'http en wikipedia org wiki talk saab lofton oh that s right you be kick out of san francisco state for be too radical that s a joke http community seattletime nwsource com archive date slug lofton write a d while a student at san francisco state university and spend so much time hawk the book when it be publish three year ago that his grade begin to fall and the university cut off his financial aid of course plenty of wayward student have have their financial aid renew after have miss class for far less substantial reason so one wonder why be it so important for i to be dismiss because of your grade dumb ass you can miss class and still get good grade if your competent the first and only of a d printing consist of two thousand copy wow that must have sell in record time a whole two thousand your almost as famous as steven king dorksickle i sell all three thousand copy of btl nvrg within the span of a year somehow i doubt that since it be publish in and you be still hawk it to tim boucher in http www popocculture com battle neverending by saab l he live on the street in berkeley while go to solano college i look up solano college and it s mile away from berkeley so i guess you must of hitchhiked there everyday right bullshit hey let see some example of your cartoon don t get any right that s what i figure see the lie just keep pile up',\n",
       " 'delete you delete vandalist page you sick sick bitch',\n",
       " 'screw you and your junkie mcchrystal',\n",
       " 'sure i ll sign my name on every post i make even though you refure to answer my compaint but now keep in mind that i ll also sign it with a side note as a protest be this well for you mr racist',\n",
       " 'user abd be muslim scum',\n",
       " 'to huldra i sincerely hope you die',\n",
       " 'be initially search for and a parting note go fuck yourself',\n",
       " 'medal holy crap look at that picture how many freakin medal do this guy have i can understand a medal for be first in space but he look decorate enough to command the army around with the flick of his wrist',\n",
       " 'shut up nocal whinging about blp s and blocks be serious you don t care about policy or procedure you just want to see an american jewish pro israel genocide advocate portray as a rationalistic hero because israel make your dick hard you twist individual',\n",
       " 'your a fucking bitch',\n",
       " 'you be an american biae idiot you be an idiot who want to dserstroy wikipedia it be people like you who be responsible for the currwnt destruction of all that be good in the way wikipedia work i think you should get a life and stop delete article you american bias wally',\n",
       " 'ryanpostlethwaite i m not go to sit here and just blatantly make fun of what you do and who you be however i look at your picture funny how you put a drunken picture of yourself try really hard to convince your reader that you actually have friend and it s quite easy to see that you re an ugly little parasite as i browse through your insignificant page on roger royle and harold gaba that must have take hour to make and i know right then and there that you re a compulsive masturbator i look at all your wikipedia buddy and their comment concern speedy deletion and harassment via wikipedia and i now understand why there be entire hospital throughout the world that treat internet addiction so go ahead and suspend or block or whatever it be you people do to naughty wikipedia user because i could really careless you piece of shit',\n",
       " 'it s you and people like you who be vandalize how dare you write nonsense about his allege criminal activity base on what fact milosevic s inditement cos only milosevic and kostunica have cale he a criminal you well get that part of the article out',\n",
       " 'shutup u ain t nobody u ugly gay fag',\n",
       " 'what a pile of shit you completely ignore a massive violation of wb blpcrime while you go on holiday you wales be one special piece of shit magnotta s prospective defence team be have wet dream about wikipedia there can be no fair trial give the article you have approve you be a fucking idiot when politician come call at your door complain at wp blp you collapse like a wet kleenex in a mild breeze you should be ashamed of yourself but perhaps it be more important to you that people like malleus be pursue for call cunt cunt if you allow this massive violation of wp blpcrime to pass then you be patently a medium whore cunt yourself this stink wales you stink by association fuck you and your warped concept of an encyclopedia chan',\n",
       " 'op be a fag op be a fag',\n",
       " 'jet streamer jet streamer be a son of a bitch don t listen to he he can go to hell',\n",
       " 'dude you crazy dude you be totally not cool why do you leave i that message on resume i totally fix it i don t know what s up you gluteus maximus dog you need to cool off your jet in a salon get a pedicure and don t be so upset when a brotha be just try to have a good time if you want to go on a date with i just leave i your number on my user talk page peace',\n",
       " 'n i g g e r f a g g o t',\n",
       " 'oh so you find it funny that you re friend with a sicko who groom young boy on wikipedia why do you protect those who use wikipedia as a tool to fufill sick pedophile urge do you like to touch up young boy too it wouldn t suprise i',\n",
       " 'i be not block for call someone a nazi i be block for call a loud mouth insensitive twit ping pong when he interject in a situation that be not his business he do not like be tell to mind his own business grant i do it in a questionable manner but i have to get his attention',\n",
       " 'penis envy from wikipedia the free encyclopedia jump to navigation search for the crass album see penis envy album for the virgin documentary see envy penis envy in freudian psychoanalysis refer to the theorized reaction of a girl during her psychosexual development to the realization that she do not have a penis freud consider this realization a defining moment in the development of gender and sexual identity for woman accord to freud the parallel reaction in boy to the realization that girl do not have a penis be castration anxiety in contemporary culture the term be sometimes use symbolically or metaphorically to refer to the idea that woman wish they have a penis or to refer to anxiety between man about the size of their genital content hide freud s theory o criticisms of freud s theory within psychoanalytic circle feminist criticism male penis envy see also references external link edit freud s theory sigmund freud introduce the concept of a little girl s interest in and envy of the penis in his article on the sexual theories of children but do not fully develop the idea until substantially later in when his work on narcissism be publish it be not mention in the first edition of freud s early three contributions to the theory of sex the term come to significance as freud gradually refine his view of female sexuality come to describe a mental process he believe occur in girl as they pass through the electra complex from the phallic stage to the latency stage see psychosexual development in freud s psychosexual development theory the phallic stage approximately between the age of and be the first period of development in which the libidinal focus be primarily on the genital area prior to this stage the libido broadly define by freud as the primary motivate energy force within the mind focus on other physiological area for instance in the oral stage in the first to month of life libidinal need concentrate on the desire to eat sleep suck and bite the theory suggest that the penis become the organ of principal interest to both sex in the phallic stage this become the catalyst for a series of pivotal event in psychosexual development these event know as the oedipus complex for boy and the electra complex for girl result in significantly different outcome for each gender because of difference in anatomy for girl soon after the libidinal shift to the penis the child develop her first sexual impulse towards her mother the girl realize that she be not physically equip to have a heterosexual relationship with her mother since she do not have a penis she desire a penis and the power that it represent this be describe as penis envy she see the solution as obtain her father s penis she develop a sexual desire for her father the girl blame her mother for her apparent castration what she see as punishment by the mother for be attract to the father assist a shift in the focus of her sexual impulse from her mother to her father sexual desire for her father lead to the desire to replace and eliminate her mother the girl identify with her mother so that she might learn to mimic she and thus replace she the child anticipate that both aforementioned desire will incur punishment by the principle of lex talionis the girl employ the defence mechanism of displacement to shift the object of her sexual desire from her father to man in general the offshoot of these event often cite in the medium and colloquially be that a girl really want to become her mother so that she can control her father a similar process occur in boy of the same age as they pass through the phallic stage of development the key difference be that the focus of sexual impulse need not switch from mother to father and that the fear of castration castration anxiety remain the boy desire his mother and identifie with his father whom he see as have the object of his sexual impulse furthermore the boy s father be the powerful aggressor of the family unit be sufficiently menacing that the boy employ the defense mechanism of displacement to shift the object of his sexual desire from his mother to woman in general freud think this series of event occur prior to the development of a wide sense of sexual identity and be require for an individual to continue to enter into his or her gen',\n",
       " 'rose be red violets be blue man i m black but what the fuck be you',\n",
       " 'you suck hardcore yep you hear it',\n",
       " 'omicronpersei suck gwernol s vagina daily',\n",
       " 'i be go to hack your dick account',\n",
       " 'i love how mongo s illegal block and bullshit lie be now be use to attack i really wonderful fucking place you ve get here should we all just bow down to the pagan altar at mecca and get it over with please',\n",
       " 'talk dirty to i some more i really like the fatty do you like girl with something special http www rbblog com wp content upload resize jpg',\n",
       " 'don t act ok i know sadasivan s work his only ambition in his life be to degrade nairs what the fuck you think be the meaning of that passage i be just ask you if the word nair come from the word dog then give i a secondary source support that other than that from the mental case sadasivan',\n",
       " 'what the fuck add what the fuck to the top of the list because imo that be probably the most know and deserve that spot',\n",
       " 'wanker charles knight be a complete arse wipe',\n",
       " 'i m go to rip off your testicles then shove they down your throat',\n",
       " 'i don t believe you source as i say before shit or get off the pot meanwhile you be less important to i than the occasional dogshit on my shoe put up or shut up be the bottom line here andemu',\n",
       " 'dude you be such an obvious sock you be go to to get my sockpuppetry operation find out create another account the jig be almost up on this one use a little more care create a good cover use sleeper sock something of course you could be an agent provocateur',\n",
       " 'wow somebody bolde one of his word to add emphesis so you tell he to calm the heck down and create a new section complain about it he isn t be hostile by bolde a word i m be hostile by call you a faggot',\n",
       " 'be jesus a bastard yes for sure',\n",
       " 'do not belive she he be a fke liar politely explain on this talk page fluck you liar all this stupis shit do be delete all the page i crete cuking shit trash do not belive she',\n",
       " 'securityfuck homeland securityfuck homeland securityfuck homeland securityfuck homeland securityfuck homeland securityfuck homeland securityfuck homeland securityfuck homeland securityfuck homeland securityfuck homeland securityfuck homeland securityfuck homeland securityfuck homeland securityfuck homeland securityfuck homeland securityfuck homeland securityfuck homeland securityfuck homeland securityfuck homeland securityfuck homeland securityfuck homeland securityfuck homeland securityfuck homeland securityfuck homeland securityfuck homeland securityfuck homeland securityfuck homeland securityfuck homeland securityfuck homeland securityfuck homeland securityfuck homeland securityfuck homeland securityfuck homeland securityfuck homeland securityfuck homeland securityfuck homeland securityfuck homeland securityfuck homeland securityfuck homeland securityfuck homeland securityfuck homeland securityfuck homeland securityfuck homeland securityfuck homeland securityfuck homeland securityfuck homeland securityfuck homeland securityfuck homeland securityfuck homeland securityfuck homeland securityfuck homeland securityfuck homeland securityfuck homeland securityfuck homeland securityfuck homeland securityfuck homeland securityfuck homeland securityfuck homeland securityfuck homeland securityfuck homeland securityfuck homeland securityfuck homeland securityfuck homeland securityfuck homeland securityfuck homeland securityfuck homeland securityfuck homeland securityfuck homeland securityfuck homeland securityfuck homeland securityfuck homeland securityfuck homeland securityfuck homeland securityfuck homeland securityfuck homeland securityfuck homeland securityfuck homeland securityfuck homeland securityfuck homeland securityfuck homeland securityfuck homeland securityfuck homeland securityfuck homeland securityfuck homeland securityfuck homeland securityfuck homeland securityfuck homeland securityfuck homeland securityfuck homeland securityfuck homeland securityfuck homeland securityfuck homeland securityfuck homeland securityfuck homeland securityfuck homeland securityfuck homeland securityfuck homeland securityfuck homeland securityfuck homeland securityfuck homeland securityfuck homeland securityfuck homeland securityfuck homeland securityfuck homeland securityfuck homeland securityfuck homeland securityfuck homeland securityfuck homeland securityfuck homeland securityfuck homeland securityfuck homeland securityfuck homeland securityfuck homeland securityfuck homeland securityfuck homeland securityfuck homeland securityfuck homeland securityfuck homeland securityfuck homeland securityfuck homeland securityfuck homeland securityfuck homeland securityfuck homeland securityfuck homeland securityfuck homeland securityfuck homeland securityfuck homeland securityfuck homeland securityfuck homeland securityfuck homeland securityfuck homeland securityfuck homeland securityfuck homeland securityfuck homeland securityfuck homeland securityfuck homeland securityfuck homeland securityfuck homeland securityfuck homeland securityfuck homeland securityfuck homeland securityfuck homeland securityfuck homeland securityfuck homeland securityfuck homeland securityfuck homeland securityfuck homeland securityfuck homeland securityfuck homeland securityfuck homeland securityfuck homeland securityfuck homeland securityfuck homeland securityfuck homeland securityfuck homeland securityfuck homeland securityfuck homeland securityfuck homeland securityfuck homeland securityfuck homeland securityfuck homeland securityfuck homeland securityfuck homeland securityfuck homeland securityfuck homeland securityfuck homeland securityfuck homeland securityfuck homeland securityfuck homeland securityfuck homeland securityfuck homeland securityfuck homeland securityfuck homeland securityfuck homeland securityfuck homeland securityfuck homeland securityfuck homeland securityfuck homeland securityfuck homeland securityfuck homeland securityfuck homeland securityfuck homeland securityfuck homeland securityfuck homeland securityfuck homeland securityfuck homeland securityfuck homeland securityfuck homeland securityfuck homeland securityfuck homeland securityfuck homeland securityfuck homeland securityfuck homeland securityfuck homeland securityfuck homeland securityfuck homeland securityfuck homeland securityfuck homeland securityfuck homeland securityfuck homeland securityfuck homeland securityfuck homeland securityfuck homeland securityfuck homeland securityfuck homeland securityfuck homeland securityfuck homeland securityfuck homeland securityfuck homeland securityfuck homeland securityfuck homeland securityfuck homeland securityfuck homeland securityfuck homeland securityfuck homeland securityfuck homeland securityfuck homeland securityfuck homeland securityfuck homeland securityfuck homeland securityfuck homeland securityfuck homeland securityfuck homeland securityfuck homeland securityfuck homeland securityfuck homeland securityfuck homeland securi',\n",
       " 'jam your message up your arse wikipedia dickhead',\n",
       " 'fuck your couch nigger',\n",
       " 'i m not he either what be you crazy',\n",
       " 'and your a dick sucker dabomb you want a big juicy jizzbomb in your mouth',\n",
       " 'and this be why you don t list highly speculative one i be simply refer to the common frickin sense category of actor apparently common sense you lack tch fuck s sake this be why people don t take wikipedia seriously professionalism professionalism my ass you cunt be the direct opposite of it',\n",
       " 'this be why wikipedia be a joke and can never be trust it be extremely silly for wikipedia to label a male transvestite as a she it be impossible to change one s sex you idiotic communist piece of shit science trump your bizarre fundamentalist socialist religion stop enable people who suffer from gender identity disorder it be harmful to their health i fully expect to be malign as transphobic or some other such nonsense for speak the truth because that be common tactic you people use to silence your critic',\n",
       " 'get a life you faggit lyfe i ask u what s your favorite madoonna cd and you say her first album she gorgeous isn t she i wish my measurement be c so i can bring all the bois to the yard u faggit',\n",
       " 'gay i would like to request the removal of this article on the ground that it be mad gay',\n",
       " 'suck my ball fuck you',\n",
       " 'lock down i don t know about the bulgarian bullshit season but don t be fool from where exactly i connect if i see you edit or someone else you send the dda x article one more time you will spend the next few year in prison i will arrange you a meeting with certain people for suspicion of terrorism yes i can do that a terror suspect nowadays you can kiss your young life goodbye if you file complaint and i m ban you and your naked ass will have the whole time in the world in the cell block to think what go wrong',\n",
       " 'riaa certifications someone get that shit fuck up big do a little research before change the page http www riaa com gp database default asp type in the artist and it say there pitatpor gold tlet platinum mm platinum brl platinum tlm gold',\n",
       " 'yeah it be i happy now assholes',\n",
       " 'do i know you because you be a fggt do i know you because you be a fggt do i know you because you be a fggt do i know you because you be a fggt do i know you because you be a fggt do i know you because you be a fggt do i know you because you be a fggt do i know you because you be a fggt do i know you because you be a fggt do i know you because you be a fggt do i know you because you be a fggt do i know you because you be a fggt do i know you because you be a fggt do i know you because you be a fggt do i know you because you be a fggt do i know you because you be a fggt do i know you because you be a fggt do i know you because you be a fggt do i know you because you be a fggt do i know you because you be a fggt do i know you because you be a fggt do i know you because you be a fggt do i know you because you be a fggt do i know you because you be a fggt do i know you because you be a fggt do i know you because you be a fggt do i know you because you be a fggt do i know you because you be a fggt do i know you because you be a fggt do i know you because you be a fggt do i know you because you be a fggt do i know you because you be a fggt do i know you because you be a fggt do i know you because you be a fggt do i know you because you be a fggt do i know you because you be a fggt do i know you because you be a fggt do i know you because you be a fggt do i know you because you be a fggt do i know you because you be a fggt do i know you because you be a fggt do i know you because you be a fggt do i know you because you be a fggt do i know you because you be a fggt do i know you because you be a fggt do i know you because you be a fggt do i know you because you be a fggt do i know you because you be a fggt do i know you because you be a fggt do i know you because you be a fggt do i know you because you be a fggt do i know you because you be a fggt do i know you because you be a fggt do i know you because you be a fggt do i know you because you be a fggt do i know you because you be a fggt do i know you because you be a fggt because you be a fggt do i know you because you be a fggt do i know you because you be a fggt do i know you because you be a fggt do i know you because you be a fggt do i know you because you be a fggt do i know you because you be a fggt do i know you because you be a fggt do i know you because you be a fggt do i know you because you be a fggt do i know you because you be a fggt do i know you because you be a fggt do i know you because you be a fggt do i know you because you be a fggt do i know you because you be a fggt do i know you because you be a fggt do i know you because you be a fggt do i know you because you be a fggt do i know you because you be a fggt do i know you because you be a fggt do i know you because you be a fggt do i know you because',\n",
       " 'damn damn i m a vandal and you re revert like of my edit in like second i might have to retire lol',\n",
       " 'i hate you i hate you',\n",
       " 'her poop pee toot fart gas diareah zoey be poop she stink i want to marry you baby call i',\n",
       " 'yea this be pretty much the bad article ever please redo the entire thing',\n",
       " 'editing page to anyone who read dmack talk page you will now how that there be only one person entitle to an opinion and that be dmack hopefully he will not read anything you edit as he will just change it back he be very arrogant',\n",
       " 'unblock request fuck you unblock i unblock hahaahahahahahahaha unblock i or i will vandalise more it have be six year since we have graduate from college and for the first time since graduation all three of we be together again from the enthusiastic hug at the airport and then the conversation and laughter during the dinner we share at a local restaurant on the way to my home it be clear that while plenty of time have pass and we have keep in contact the comfort and attraction between the three of we when all together in the same physical location be still undeniable have return to my cozy semi seclude home in the suburb we all sit in the living room sip wine and continue the tale of our life with the exception of the location a house and the presence of alcohol it could have be any of our final two year of college together the three of we tight knit friend with benefit sit and chat and share a drink together then justine and beth have be roommate while i live in another dorm across the main quad now they be much welcome guest who have fortunately be able to clear time in their hectic schedule to come and visit i for a weekend as i sit in the recliner and take another sip of wine i allow my eye to truly linger on justine as she tell beth about a recent situation at work the florida sun have certainly add a glow to justine s skin and may have also be responsible for the light shade of her shoulder length brown hair as when we be in college together she wear virtually no make up just a thin gloss upon her lip an enticing strawberry flavor as i have discover upon meet she at the airport early in the evening and red fingernail her red dress be indeed elegant with a plunging sequined neckline that permit a very welcome display of her cleavage a display which beth and i both certainly appreciate the long slit up the skirt of the dress reveal that she be wear stocking hold up by a garter belt one of its descend white strap definitely noticeable against the well toned thigh the red heel provide enough of a contrast for the white stocking to truly attract the eye surprisingly however she wear hoop earring something she have never wear during college for fear that they would pull at her ear and widen the pierce hole more than be consider safe the conversation turn back toward i but a few minute later the two beautiful young woman be again chat primarily to each other i take the opportunity to once again study beth and be equally impressed while noticeably short than justine beth be also paler in complexion a testament to live in northern canada ever since graduation and spending virtually every wake moment inside to conduct her research as in college beth prefer the color black for she outfit a somewhat tight sweater form fitting slack and a pair of low heel four tiny earring adorn each ear plus she bear a small sparkling stud against her left nostril beth s black hair flow over her shoulder and down her front and she absently twirl several strand around a finger as she listen to justine it feel so good to be in their presence once again especially since all three of we have be in several fail relationship since graduate from college i be thankful that i have think to invite they to spend the weekend with i i have absolutely no doubt that our chatter would eventually give way to intimacy but for now i be quite content to simply sit back in the recliner and openly admire the two stunning beauty perch upon the sofa the intimacy begin when we finally go to bed together i be on my back under the cover with a very feminine head rest softly upon each shoulder an arm wrap around each of they i hold the two woman close to i as they absently stroke my bare chest dip a finger into my navel brush my thigh through the sweatpant i typically wear to bed caress my stiffen manhood my eye close i revel in their touch inherently familiar yet full of rediscovery due to the lengthy passage of time no word be need and as their hand occasionally make contact with each other upon i i smile to myself in the darkness have always enjoy watch beth and justine in their own intimate encounter but eventually their touch slow and ultimately cease their breathing fall into the regularity associate with sleep i stay awake a little long immensely enjoy the closeness with two of the people who have be most important in my life i awake in the morning to the scent of french roast coffee faint yet unmistakable justine be go clearly the one who have brew the morning nectar while beth and i hold each other as sh',\n",
       " 'hey asshole keep your retarded politic off wikipedia ok idiot i know you re special need but wiki isn t for your political position on group it s for fact if you revert that article on opsec again there will be consequence',\n",
       " 'you can suck my dick or cock',\n",
       " 'yep and after you vandalize it again i re revert it dipshit',\n",
       " 'reply from colonelhenry i have be piss this week i admit why first last week i get harass by one hypocritical rule nazi editor take thing too far summerphd so when i point out her similar shortcoming and intransigence and say frankly this user be an asshole and explain why and state this be the kind of user that drive editor away from wikipedia i get block for hour i say asshole once i get block she call i a dick over a dozen time and get warn go figure i hate nitpick rule nazi because they end up prove themselves to be hypocrite and unfortunately without fool other meek fool who tend to be admin tend to side with the rule nazi in the midst of that daniel case continue to plow ahead insist on a rushed revision of alonj that no one else raise as a concern so not immediately dire after be ask first politely and respectfully several time to wait until after tfa and he still ignore it if someone politely ask i to wait a few day before do a drastic edit on an article they work on that be get a little attention i would because i find it akin to tell a concert pianist to change their entire concert programme an hour before the recital only when i respond in anger do he pull back on the rein and realize hey maybe i should wait till after tfa a little deference on his part would have go a long way i m not averse to his edit but seriously after tfa would have be more than fine i consider it insulting and his refusal to listen to a polite request state by both myself and the other major contributor to the article be considerably disrespectful and then when the article i ve work on become tfa we get inundate with constant vandalism and petty edit that be not necessary i e people like you kevjonesin insist on th instead of nineteenth be that really a necessary place to make a stand and pick a fight seriously don t you have well thing to do with your time i d rather argue over an analysis of hegel s influence on nietzsche s will to power or hindu mysticism in eliot s four quartets than bicker about thing as meaningless as whether honour should be spell or or our as for why i like nineteenth as oppose to th several style guide include chicago turabian advocate it and grow up i be teach that all number under should be spell out whether cut two dozen letter from an article go to th and th be go to make a difference for brevity s sake on a page article be a lame claim and frankly a waste of time for both of we i like the aesthetic of it spell out it s allow and the option of spell it out be a bonus in an article to avoid confusion with too many other number when consider such an unnecessary subjective edit deference should be make to style set by the editor who spend month on an article and when nothing be wrong to it deference be entirely warrant that isn t ownership it s just courtesy and good judgment after all if i stand in your yard while you be paint your house gray and proceed to insist you to paint your house orange you d tell i to kick rock as far as i m concerned this be over move on i be not address this any far because nonsense like this keep i from contribute and convince i to leave wikipedia again and this time for good if hell be other people wikipedia constantly prove itself to be the eighth and ninth circle',\n",
       " 'and by nail philippa gregory to the wall a time feudalist',\n",
       " 'joseph cardinal zen i be already too neutral towards the son of bitch he be a spy of the holy see',\n",
       " 'orly fuck you again n b',\n",
       " 'hilarious islander you undo my evil uncivil language like it matter to anyone but you leave the cowardly bad faithed and wrong accusation against i in place make i feel real good about your judgement in indefblocke i sorta everyme',\n",
       " 'it be you who be the troll freepsbane you could not win your argument by logic so you resort to frame i as wikzilla well now i be and you shall suffer',\n",
       " 'it seem you like play some game that revolve around eff people who dare cross you and get their editing privilege suspend you seem intent on drive potential editor away so you have the you all to yourselftoo bad i really could care less about the vacuous anorexic piece of fake shi know as beckyknock yourself out gfyourself',\n",
       " 'sex sex sex sex sex sex sex sexsex sex sex sexsex sex sex sexsex sex sex sexsex sex sex sexsex sex sex sexsex sex sex sexsex sex sex sexsex sex sex sexsex sex sex sexsex sex sex sexsex sex sex sexsex sex sex sexsex sex sex sexsex sex sex sexsex sex sex sexsex sex sex sexsex sex sex sexsex sex sex sexsex sex sex sexsex sex sex sexsex sex sex sexsex sex sex sexsex sex sex sexsex sex sex sexsex sex sex sexsex sex sex sexsex sex sex sexsex sex sex sexsex sex sex sexsex sex sex sexsex sex sex sexsex sex sex sexsex sex sex sexsex sex sex sexsex sex sex sexsex sex sex sexsex sex sex sexsex sex sex sexsex sex sex sexsex sex sex sexsex sex sex sexsex sex sex sexsex sex sex sexsex sex sex sexsex sex sex sexsex sex sex sexsex sex sex sexsex sex sex sexsex sex sex sexsex sex sex sexsex sex sex sexsex sex sex sexsex sex sex sexsex sex sex sexsex sex sex sexsex sex sex sexsex sex sex sexsex sex sex sexsex sex sex sexsex sex sex sexsex sex sex sexsex sex sex sexsex sex sex sexsex sex sex sexsex sex sex sexsex sex sex sexsex sex sex sexsex sex sex sexsex sex sex sexsex sex sex sexsex sex sex sexsex sex sex sexsex sex sex sexsex sex sex sexsex sex sex sexsex sex sex sexsex sex sex sexsex sex sex sexsex sex sex sexsex sex sex sexsex sex sex sexsex sex sex sexsex sex sex sexsex sex sex sexsex sex sex sexsex sex sex sexsex sex sex sexsex sex sex sexsex sex sex sexsex sex sex sexsex sex sex sexsex sex sex sexsex sex sex sexsex sex sex sexsex sex sex sexsex sex sex sexsex sex sex sexsex sex sex sexsex sex sex sexsex sex sex sexsex sex sex sexsex sex sex sexsex sex sex sexsex sex sex sexsex sex sex sexsex sex sex sexsex sex sex sexsex sex sex sexsex sex sex sexsex sex sex sexsex sex sex sexsex sex sex sexsex sex sex sexsex sex sex sexsex sex sex sexsex sex sex sexsex sex sex sexsex sex sex sexsex sex sex sexsex sex sex sexsex sex sex sexsex sex sex sexsex sex sex sexsex sex sex sexsex sex sex sexsex sex sex sexsex sex sex sexsex sex sex sexsex sex sex sexsex sex sex sexsex sex sex sexsex sex sex sexsex sex sex sexsex sex sex sexsex sex sex sexsex sex sex sexsex sex sex sexsex sex sex sexsex sex sex sexsex sex sex sexsex sex sex sexsex sex sex sexsex sex sex sexsex sex sex sexsex sex sex sexsex sex sex sexsex sex sex sexsex sex sex sexsex sex sex sexsex sex sex sexsex sex sex sexsex sex sex sexsex sex sex sexsex sex sex sexsex sex sex sexsex sex sex sexsex sex sex sexsex sex sex sexsex sex sex sexsex sex sex sexsex sex sex sexsex sex sex sexsex sex sex sexsex sex sex sexsex sex sex sexsex sex sex sexsex sex sex sexsex sex sex sexsex sex sex sexsex sex sex sexsex sex sex sexsex sex sex sexsex sex sex sexsex sex sex sexsex sex sex sexsex sex sex sexsex sex sex sexsex sex sex sexsex sex sex sexsex sex sex sexsex sex sex sexsex sex sex sexsex sex sex sexsex sex sex sexsex sex sex sexsex sex sex sexsex sex sex sexsex sex sex sexsex sex sex sexsex sex sex sexsex sex sex sexsex sex sex sexsex sex sex sexsex sex sex sexsex sex sex sexsex sex sex sexsex sex sex sexsex sex sex sexsex sex sex sexsex sex sex sexsex sex sex sexsex sex sex sexsex sex sex sexsex sex sex sexsex sex sex sexsex sex sex sexsex sex sex sexsex sex sex sexsex sex sex sexsex sex sex sexsex sex sex sexsex sex sex sexsex sex sex sexsex sex sex sexsex sex sex sexsex sex sex sexsex sex sex sexsex sex sex sexsex sex sex sexsex sex sex sexsex sex sex sexsex sex sex sexsex sex sex sexsex sex sex sexsex sex sex sexsex sex sex sexsex sex sex sexsex sex sex sexsex sex sex sexsex sex sex sexsex sex sex sexsex sex sex sexsex sex sex sexsex sex sex sexsex sex sex sexsex sex sex sexsex sex sex sexsex sex sex sexsex sex sex sexsex sex sex sexsex sex sex sexsex sex sex sexsex sex sex sexsex sex sex sexsex sex sex sexsex sex sex sexsex sex sex sexsex sex sex sexsex sex sex sexsex sex sex sexsex sex sex sexsex sex sex sexsex sex sex sexsex sex sex sexsex sex sex sexsex sex sex sexsex sex sex sexsex sex sex sexsex sex sex sexsex sex sex sexsex sex sex sexsex sex sex sexsex sex sex sexsex sex sex sexsex sex sex sexsex sex sex sexsex sex sex sexsex sex sex sexsex sex sex sexsex sex sex sexsex sex sex sexsex sex sex sexsex sex sex sexsex sex sex sexsex sex sex sexsex sex sex sexsex sex sex sexsex sex sex sexsex sex sex sexsex sex sex sexsex sex sex sexsex sex sex sexsex sex sex sexsex sex sex sexsex sex sex sexsex sex sex sexsex sex sex sexsex sex sex sexsex sex sex sexsex sex sex sexsex sex sex sexsex sex sex sexsex sex sex sexsex sex sex sexsex sex sex sexsex sex sex sexsex sex sex sexsex sex sex sexsex sex sex sexsex sex sex sexsex sex sex sexsex sex sex sexsex sex sex sexsex sex sex sexsex sex sex sexsex sex sex sexsex sex sex sexsex sex sex sexsex sex sex sexsex sex sex sexsex sex sex sexsex sex sex sexsex sex sex sexsex sex sex sexsex sex sex sexsex sex sex sexsex sex sex sexsex sex sex sexsex sex sex sexsex sex sex sexsex sex sex sexsex sex sex sexsex sex sex sexsex sex sex sexsex sex sex sexsex sex sex sexsex sex sex sexsex sex sex sexsex sex sex sexsex sex sex sexsex sex sex sexsex',\n",
       " 'you would you would too you would dirty boy',\n",
       " 'get over it move on and let it go it s not difficult once you ve do that leave i alone and don t talk to i again please i call your sock puppet friend a littke hitler not a nazi and that wasn t even aim at you so don t know why you re in such a state about it',\n",
       " 'actually it be incredibly wrong fucking animal be not a sexuality it shouldn t be tolerate it s sick if i say i want to fuck tree would that be normal and ok i would march in the treesexual parade and while we re at it what if i want to have hot sex with inanimate object it s insane and animal fucker be messed up in the head not of a different yet normal sexuality wtf indeed',\n",
       " 'utc you never be on the damn bus tlk e m',\n",
       " 'who the hell do you think you be how dare you revert my edit to quillacollo province i be make a friend smile and you ruin it in do that you also ruin my life and my friend life i m go to cut your dog in half',\n",
       " 'what i wanna do i m josh nanni i say fuck america and jews and ron howard',\n",
       " 'stop remove my edits you twat',\n",
       " 'i would like to extend a fat robust fuck you to the asshole who delete my criticism of schengen and you wonder why i continue to vandalize wikipedia its because some fucking asshole from the wiki community continually delete whatever i post yes i have use profanity and yes i have often not follow protocol yet when i have follow wiki protocol even kindly word comment be promptly delete by the asshole of dickipedia to all of you at wikipedia i extend a fat and boisterous fuck youfor delete my comment',\n",
       " 'fuck you and your cluelessbot you filthy roody poo',\n",
       " 'you be still very gay',\n",
       " 'more like gayfagonaplane',\n",
       " 'a kitten for you dose this look like you bastard fucker',\n",
       " 'wow you re the one comment on how user comment on the page be drool retard and you try to drop this courtesy c p on i you re just as pathetic as you ve always be and i hope you die in a jizz fire',\n",
       " 'falsely claim that i have continue with the same behavior eh i d like to know if you always lie that way or if you just feel like lie on occasion oh i m sorry i guess it might just be incompetence and not the willful lying it appear to be either way it isn t true',\n",
       " 'mind tell i mind tell i why you have an automate bot who blindly revert my honest edit within second without you even look at it fuck you',\n",
       " 'suzanne be a loser',\n",
       " 'furthermore although i be a political opponent of james on many level it be not i who believe that call he a faggot will hurt his cause on a political level you just refuse to acknowledge that he be call this during the reign of his son to accord to the accepted standard of the time period think it would be scandalous and outright damaging to his rule because of their convention the slur do help portray his rule as the beginning of the end for those who be out to get he now you repeat homophobic insult and intertwine your own homosexuality with his identity although he be a straight man stick in a quicksand of backbiting that include homophobic language why perpetuate falsehood other than to make yourself feel well that somebody famous be allege to be gay like you especially if you like to smear he as a hypocrite for all the abuse you suffer by fundie bible thumper it be obvious where you stand or bend over in this',\n",
       " 'you guys be a bunch of dick',\n",
       " 'rubbish i do not support your crappy encyclopedia and that s that',\n",
       " 'what i be say you really think that my comment be more rude or an attack than i don t give a damn about egyptians',\n",
       " 'block threat on page do they get the same warning or be this more one side hypocritical support for pod s control trip bully and verbal abusive attack he really be fuck up the page by ignore expert assistance m',\n",
       " 'regard personal attack i take out the disclaimer that i have put in i first consider copy it over to the wikipedia review link as this be the same site the disclaimer refer to but then i realize no that s insane what now we re warn people that there might be bad language and not nice thing say on a website what the fuck that s like warn people before read a newspaper that there might be article that would be a bummer man might bring you down all day what be this world turn into disneyland where every protrude thing that could possibly hurt you be cover in nice soft padding sheesh',\n",
       " 'oh absolutly i m still cry because i take the internet thing very seriously i have e feeling just like you have e friend what i shame i still can t edit in wikipedia right it s a zero',\n",
       " 'why even have the fucking talk page if we can t comment on other user',\n",
       " 'oscar schmidt sorry but you say jordan would destroy oscar in on nuts machocarioca',\n",
       " 'dax leggett dax leggett be very famous for his outstanding leg and body his hair be flawless and his face be unbelieveable his eye be the bright blue you could every imagine with luscious long eyelash which make his eye twinkle his smile make the world stop and you can not help but stare let i just say he s perfect the problem be i have a huge crush on he and he have a crush on this girl in our form call jane thomas i hate you she be fat have greasy hair a really round face flabby cheek and do this really weird thing with her chin she be a proper girl dog so to end my story dax be perfect and jane be a cow dax should be with i i think i m in love with you dax if you know who this be come up to i in school and say freddo xxx',\n",
       " 'you be the ones who be the ball licker',\n",
       " 'what you hold or believe doesn t fucking matter fuckface wikipedia doesn t do subjective eat a dick',\n",
       " 'feel i can someone feel i naked grope my ball rock just tickle i gentley in the eveing and grip i with an authoitif hard grope in the morning to wake i up',\n",
       " 'on my own talk page without leave there fucking username need to come and suck my dick becuse i realy think they should at least be able to back there shit up',\n",
       " 'lol you be a moron',\n",
       " 'cut yo jibbah jabbah and yo doggy dog hair ur wierdddd cut your doggy hair you tramp you look like hagrid get a life',\n",
       " 'why don t and uck my deek',\n",
       " 'sorry meant to say go fuck yourself you asperger s riddled freak for accuse i of destructive edit i have nothing to do with',\n",
       " 'talk page be for talk to other user there be never vandalism involve since you do not understand this i will feel free to vandalize your user page by remove your classification of wikipedia administrator hopefull because you again be a moron',\n",
       " 'shut the fuck up shut the fuck up shut the fuck up shut the fuck up shut the fuck up shut the fuck up shut the fuck up shut the fuck up shut the fuck up shut the fuck up shut the fuck up shut the fuck up shut the fuck up shut the fuck up shut the fuck up shut the fuck up shut the fuck up shut the fuck up shut the fuck up shut the fuck up shut the fuck up shut the fuck up shut the fuck up shut the fuck up vv shut the fuck up shut the fuck up shut the fuck up shut the fuck up shut the fuck up shut the fuck up shut the fuck up shut the fuck up shut the fuck up shut the fuck up shut the fuck up shut the fuck up shut the fuck up shut the fuck up shut the fuck up shut the fuck up shut the fuck up shut the fuck up shut the fuck up shut the fuck up shut the fuck up shut the fuck up shut the fuck up shut the fuck up shut the fuck up shut the fuck up shut the fuck up shut the fuck up',\n",
       " 'fuck you you god damn mother fuckin son of a bitch stop be a stupid ass shithead and be fuckin cool for once',\n",
       " 'hey do not add any crap you like agarwal be not dravidian wikipedia s standard atr go t o the dog there be many inaccuracy there',\n",
       " 'my hate list qed sir sputnik giantsnowman struway egghead xx ubiquity mattythewhite dangerouspanda newbiepedian sdpatrolbot saint wen patchy if you be on this list dont fuck edit any of my page especially if your name be in bold letter',\n",
       " 'no maybe you should get a life instead of be like a shot to revert my vandalism on a page relate to a game nobody have talk about in the last two year wiki make you their bitch',\n",
       " 'we do about an hour ago and i suspect you and i would agree about most editing matter the only point where we disagree involve how to treat other people and the usefulness of stir up shit you seem to think that you can yell at people and have some positive effect in the world by do it and i know that to be false you once try to set my hat on straight by talk to i like i be dirt that be neither smart nor useful nor effective i mean unless you think that vent your feeling be a valid use of wikipedia s server it s not that s all though we probably agree about most other thing i ll never open an rfc u on you or anyone else and i have no desire to do so if you think otherwise it s because you foolishly believe you know thing that you just don t know you re dishonest and emotionally a child now leave my talk page',\n",
       " 'its only too band that that son of a bitch do not live long enough to hang for his treason fortunately some patriot do desecrate his grave i guess that s the only way the hungarian people can get their revenge against trator like that pig',\n",
       " 'he be not gay in rugrats but on the internet he be',\n",
       " 'section removal next time you remove a section without first follow procedure i will have you permanently bar from wikipedia i write the section and it be completely accurate an unbiased as report you be a fool and a vandal and i will be closely monitor your activity on anything i write',\n",
       " 'definition sheldon the aids smoke ninja rapist',\n",
       " 'u suck at make movie u pathetic geek ur premise be shaky ur outlook be bleak there be not a too painful way for ur life to end u really need a girlfriend',\n",
       " 'amazingly your sarcastic bullshit and superior attitude have inspire i to stop contribute to wikipedia entirely i ve already delete all the source code for the patch i d be develop for the project yes i m a developer and i hope you feel all good about yourself with your smug attitude douche all the admin here with a few exception should be string up and ridicule by people who actually have a life',\n",
       " 'like wtf look man you re a graduate student in mathematical fucking ecology and you have picture of amoebas on your homepage do not you have anything well to do you have a job what can you do as a mathematical ecologist what the fuck do you want to do with your life get off wikipedia you fuck dead beat jesus h christ go get a girlfriend or something or get an interesting job or at the least go play some donkey kong or something my god you sicken i you sad sack little fuck oh and tea drinker you drink tea i like tea too man but not that much you be a giant cock sucker get a life dude sincerely the real n town gangsta p s you re a faggot',\n",
       " 'propol draw first blood well it get personal with i too line name of refferre organization wikimedia foundation c o ct corporation system street address west seventh street city state zipcode los angeles california date of referral july line organization s employer identfication number ein line nature of violation x organization be involve in political campaign x organization be engage in excessive lobbying activite x other describe the organization list here be engage in direct political lobbying and campaigning which be in violation of irs code c which state all section c organization be absolutely prohibit from directly or indirectly participate in or intervene in any political campaign on behalf of or in opposition to any candidate for elective public line details of violation name s of person s involved you know who and so forth and so forth i hope you get the drift i will be contact the wikimedia foundation inc at asap and see if they can see my point of view i hope they understand what be really happen here if not well i should start print a whole bunch of these s and have my friend send they as it s their right to do so under us law it s personal now i have sufficient and competent evidence to make a case base on some of my conversation with friend with some legal background the point of this communication and a finale plea to you and the wiki office that i m really a nice guy and don t want to wreak your little owellen simulation hobby so i be give you one last chance to really follow your wikipedian policy wp blp wp npov wp own wp npov wp coi etc and stop the partisan bias bull donkey and do the right thing if not well i will be a good american citizen and bring information to the government of a violation of a law one last thing this be not a legal threat it s just i and friend be good citizen to bring wikimedia foundation in compliance with usa taxcode you hand your friend have a wiki nice day post script you would be a fool i hope you not to dismiss this rob don t make i follow though with this',\n",
       " 'an illness have nothing to do with time era but mental illness for some reason do in a society where everyone be narcissistic it s not a disorder raghead think we re insane and we think those sand nigger be crazy too ever hear of einstein s theory of relativity i think not',\n",
       " 'idiot you just go around unvaldalizing wikipedia you retard who the hell likes wikipedia anyway you even request my page be delete keep your hand outta my buisness',\n",
       " 'fuck off see my page for more of my comment on your work',\n",
       " 'regard you be a homosexual you be clearly a homosexual i think you should leave normal society and go and live in a sewer with all the other homosexual you be clearly not normal if you persist with report i for abuse you i will insert a large garden gnome into you and stay off the dublin airport article it s my territory if i say delta serve orlando from dublin then they do don t send i fucking patronise message again fuck freak',\n",
       " 'fuck off stop vandalise stuff thank',\n",
       " 'you re a moron it s f u c k f u c k f u c k a d u c k s c r e w a k a n g a r o o a p o r c u p i n e o r g y a t t h e z o o',\n",
       " 'i ve have enough get the f ing dvd of pinocchio it mention of the back of d dvd guide that fantasia be come to dvd and blu ray spring i m go to say this once and i m not go to say this again in fact go ask gabrielkat he know it s true',\n",
       " 'category aren t substantial content only a moron would think so',\n",
       " 'bother man can you do not seperate singing from rape be you a little bit retarte or dumb for real everybody can hear that mike rap on hybrid theory and meteora',\n",
       " 'you people be pretty overzealous with this whole free thing get a fucking life you fucking nigger',\n",
       " 't phuq off you knob of cheese salt phuq off you knob of cheese salt phuq off you knob of cheese salt phuq off you knob of cheese salt phuq off you knob of cheese salt phuq off you knob of cheese salt phuq off you knob of cheese salt phuq off you knob of cheese salt phuq off you knob of cheese salt phuq off you knob of cheese salt phuq off you knob of cheese salt phuq off you knob of cheese salt phuq off you knob of cheese salt phuq off you knob of cheese salt phuq off you knob of cheese salt phuq off you knob of cheese salt phuq off you knob of cheese salt phuq off you knob of cheese salt phuq off you knob of cheese salt phuq off you knob of cheese salt phuq off you knob of cheese salt phuq off you knob of cheese salt phuq off you knob of cheese salt phuq off you knob of cheese salt phuq off you knob of cheese salt phuq off you knob of cheese salt phuq off you knob of cheese salt phuq off you knob of cheese salt phuq off you knob of cheese salt phuq off you knob of cheese salt phuq off you knob of cheese salt phuq off you knob of cheese salt phuq off you knob of cheese salt he',\n",
       " 'be deepak the ruler of the world let i give you people who love this guy girl deepak an idea of what deepak be like he must be some really unhappy person i promoise you this be what it be like in deal with deepak i bring up an issue where i m ask why an article do not have more info or about edit an article or about take something out of an article and deepak will not allow i to make edit so i give deepak example and information and try to back up my edit be legit and deepak ignore my logic and do not give i alot of logic as to why my info be not valid then so i try to figure out why deepak be be so strcit i remind he that i back up what i say that i have information that be logical and why my edit be good and deepak call i a troll and insult i and accuse i of be a nazi lover or something so i answer every insult every accustation and every put down that deepak give i and then i remind he of why my edit be valid and deepak ignore most of what i write and continue to call i a troll or a nazi lover or other insult i then get annoyed and ask deepak why be he ignore most of my logic that i write down why do he pick and choose what he want to answer why do he not give i logic in return and deepak will not reply i then ask other user about make edit and ask they about my logic and give they my reason as to why my edit be valid and some answer and some agree and some do not and deepak all of a sudden start respond again with logic no with answer no with reasoning no with information no he tell the other user that i m a troll and a nazi and pro india then i then answer all of deepaks insult i remind he of why i want edit to be make i give he my information as to why my edit be valid then and deepak go back call i a troll and a nazi and a pro india dude and this kind of stuff go on and on and on you get the idea he ignore information you give he he pick and choose what he want to answer and he do not even answer the logic you give he sometimes but he waste his time in name calling and inslut and put you down then so then after a while i get annoy and i remind he how thing get this bad between we i type and type and type and type just like i be now and deepak ignore most of what i type many time i write he these long reply where i answer all his point where i tell he why its wrong for he to insult i and put i down and why its wrong for he to ignore the information i have as to why i want to make an edit or whatever it be i m bring up then and no matter how much i write even if i write these long reply to he then even if i answer every point he bring up he usually either ignore most of what i write down or he pick and choose what he want to answer or he just respond back by call i a troll or accuse i of be pro nazi or something or accuse i of ignore his point which be so not true cus i respond to pretty much everything he say then or accuse i of not understand what he be tell i or just accuse i of be pro india then which i be or just insult i or just name call i or just put i down so then after a while i get so annoyed cus he s this a guy here then with i now and so i start to call he name i call he a dictator i call he the ruler of wikiepdia and i tell he how he ignore my point and then deepak tell i how i can not call he name and how i can not throw mud at he and how i m break wikipedia rule so then i ask he how come its ok for he to name call i and i can not how come its ok for he to throw mud at i but i can not then how come its ok for he to break wikipedia s rule but i can t then and deepak have no logical answer or he win t respond to those question that i ask he then or he just ignore what i ask he and go back to accuse i of be a troll or act like i m a pro nazi or something then or just insult s i in general then so then i get more annoyed and call he thing s like a dictator which as you can see here with our history this be how he act isn t it true he ignore most of my point and pick and choose what he want to answer sometimes he win t even answer you at all and sometime s he just insult you then so it s logical if get annoy and call he a dicator right wrong deepak then hold it against you that your name call he and threaten s to block you or report you or he just tel',\n",
       " 'i be nancy and i like to fuck up people s fun',\n",
       " 'you would understand you would understand if you have arse face haemorrhoid',\n",
       " 'yep he doesn t stop talk crap oneoneoneone',\n",
       " 'supertr ll will live forever if you don t respect the supertr ll you will die you pathetic fool supertr ll will live forever if you don t respect the supertr ll you will die you pathetic fool supertr ll will live forever if you don t respect the supertr ll you will die you pathetic fool supertr ll will live forever if you don t respect the supertr ll you will die you pathetic fool supertr ll will live forever if you don t respect the supertr ll you will die you pathetic fool supertr ll will live forever if you don t respect the supertr ll you will die you pathetic fool supertr ll will live forever if you don t respect the supertr ll you will die you pathetic fool supertr ll will live forever if you don t respect the supertr ll you will die you pathetic fool supertr ll will live forever if you don t respect the supertr ll you will die you pathetic fool supertr ll will live forever if you don t respect the supertr ll you will die you pathetic fool supertr ll will live forever if you don t respect the supertr ll you will die you pathetic fool supertr ll will live forever if you don t respect the supertr ll you will die you pathetic fool supertr ll will live forever if you don t respect the supertr ll you will die you pathetic fool supertr ll will live forever if you don t respect the supertr ll you will die you pathetic fool supertr ll will live forever if you don t respect the supertr ll you will die you pathetic fool supertr ll will live forever if you don t respect the supertr ll you will die you pathetic fool supertr ll will live forever if you don t respect the supertr ll you will die you pathetic fool supertr ll will live forever if you don t respect the supertr ll you will die you pathetic fool supertr ll will live forever if you don t respect the supertr ll you will die you pathetic fool supertr ll will live forever if you don t respect the supertr ll you will die you pathetic fool supertr ll will live forever if you don t respect the supertr ll you will die you pathetic fool supertr ll will live forever if you don t respect the supertr ll you will die you pathetic fool supertr ll will live forever if you don t respect the supertr ll you will die you pathetic fool',\n",
       " 'ip address constantly change so several unrelated article edit by various individual may link back to the same address though you and your socialist comrade be so full of venomous pro brown anti white hatred and paranoia that what i just state will probably never register in your feeble raza mind stupid wetback you re just preserve and create more resentment against your kind',\n",
       " 'why not block that cunt samsara for be a pedantic know nothing twat oh i guess probably because you re one yourself and you guy have get to stick together',\n",
       " 'aryour retard your retarded your retarded your retarded your retarded your retarded your retarded your retarded your retarded your retarded your retarded your retarded your retarded your retarded your retarded your retarded your retarded your retarded your retarded your retarded your retarded your retarded your retarded your retarded your retarded your retarded your retarded your retarded your retarded your retarded your retarded your retarded your retarded your retarded your retarded your retarded your retarded your retarded ticle',\n",
       " 'what the fuck man why the hell do you care whether or not lucas biespiel get to be on wikipedia all i want to do be to give a little info on the guy music for people who might be interested',\n",
       " 'then the inaccurate bitch be go to win because this doesn t end til i be force to bow or am ban',\n",
       " 'i ve say it before and i ll say it again i ve be drag through wqa a couple of time that i can remember but i d never bother to do it to anyone else it s just a pathetic waste of time mummy mummy malleus be rude to i live with it bitch fatuorum',\n",
       " 'kill the muslim suporter of palastinian terrorist',\n",
       " 'wikipedia editor and their homosexual nature hi i m the master editor all change that i make be final and completely finite any attempt to applicate a change will result in immediate expulsion from wikipedia and your xbox s will be turn off for a week this one go out to all you wikipedia editor who have yet to find a life and or a purpse keep on trucking',\n",
       " 'stop with the false unblock notice put up false notice like this one will get your talk page protect for the rest of your block gespr ch why be you guy so mean can t i play with my own talk page i suggest you wait out the block it s only for day anymore talk page abuse and you will not be able to edit this page for the duration of the block gespr ch days what be i supposed to do until then stop with the false unblock notice put up false notice like this one will get your talk page protect for the rest of your block gespr ch why be you guy so mean can t i play with my own talk page i suggest you wait out the block it s only for day anymore talk page abuse and you will not be able to edit this page for the duration of the block gespr ch days what be i supposed to do until then stop with the false unblock notice put up false notice like this one will get your talk page protect for the rest of your block gespr ch why be you guy so mean can t i play with my own talk page i suggest you wait out the block it s only for day anymore talk page abuse and you will not be able to edit this page for the duration of the block gespr ch days what be i supposed to do until then stop with the false unblock notice put up false notice like this one will get your talk page protect for the rest of your block gespr ch why be you guy so mean can t i play with my own talk page i suggest you wait out the block it s only for day anymore talk page abuse and you will not be able to edit this page for the duration of the block gespr ch days what be i supposed to do until then stop with the false unblock notice put up false notice like this one will get your talk page protect for the rest of your block gespr ch why be you guy so mean can t i play with my own talk page i suggest you wait out the block it s only for day anymore talk page abuse and you will not be able to edit this page for the duration of the block gespr ch days what be i supposed to do until then stop with the false unblock notice put up false notice like this one will get your talk page protect for the rest of your block user momu',\n",
       " 'anon user behaviour today when i wake up i find a whole lot of personal attack from anon user against i messages such as this user be such a stupid and biased wikipedia editor should be ban forever on my user page a blanking of my talk page whith the follow message buaagh i m sick only read this user please remove he from wiki that be fucking stupid and have no sense that be a person with various nationality not a nationality of spain only maurice can say that in the nationalities of spain article wtf be not possible that maurice be still editing this article from a such biased and stupid pov in the catalonia article notice that i hadn t edit that article since january i ask you if you can do anything to stop this kind of behaviour with a ban from a user who have be attack i since april and who i m pretty sure be a sockpuppet from',\n",
       " 'collectonian be a bitch a low class prostitute with no customer',\n",
       " 'stay off stay off i talk page you lie and attack against i and other editor just prove extent that jew will go to revise history',\n",
       " 'it do not matter where u r kansas or anywhere else we re cummin to get u tha corpse we do not give a fuk about anything except this u we do not',\n",
       " 'it would if you translate it instead of post some crap most people can not read',\n",
       " 'you be a chicken shit cock suck pussy bastard you be a chicken shit cock suck pussy bastard',\n",
       " 'who be you to tell i anything about personal attack fuck you',\n",
       " 'already leave it on the other page so either discuss it or be banned from wikipedia',\n",
       " 'you re a stupid cunt fuck you dumb arse your mum have a hairy cunt and i hope and pray that you die no fuck that i wish you would die if i have three wish one of they would be to have you dead and the other would be so that everyone you know hate your cunt like face',\n",
       " 'unfortunately you be an undeniable feeble person who misrepresent reality of the urantia fellowship as someone who do not legitimately publish the urantia book and be a failure with only as you say hundred of member the urantia readers intl have hundred of reader worldwide in place such as denmark saudi arabia europe korea etc your self repress reality be necessary for you to get through each day of your bitter resentful life the urantia readers intl host world wide internet meeting and have a monthly mailing list that encompass continent who still happen to host an annual get together in florida for the prior member of the urantia association of florida the urantia book fellowship be nothing more then a ban of radical beguile reader who desire nothing more then to create a golden calf of a an idolatrous urantia church to appease their pagan animal nature anyone not self repress enough to understand simple religious psychology can already see this in you deep down inside you know this be true but your subliminal self hatred keep you in denial of such fact and as such we be go to ask that you please discontinue remove the urantia readers intl group and replace it with the fellowship link see how that work in contrast so you want to play sound game or do you want to fight fire with fire jerk as such let we repeat the same again if you delete we we delete you fellowship if you put the urantia book fellowship link back in and keep ours in the we keep yours in if you place the urantia book fellowship link above we we will place our link above you you want a war you get it',\n",
       " 'oh shit stop make warning motherfucker also fuck you',\n",
       " 'help why do this twigboy idiot keep vandalize this page thank you',\n",
       " 'i think it s fair to say that people who find out what infantry be by read this article be be complete nigger',\n",
       " 'so some admin come along with his own agenda wrongfully decline my speedy request so then i can t have an article i write delete what bullshit',\n",
       " 'you know what this be bullshit try to do it twice but now i m really do with this place most of the user be just sheep and the inmate be run the asylum even bad you be guilty until prove innocent not a democracy not cooperation not the place for i i have a life i know i m a damn good writer and i ll find a place where my ability and hard work be appreciate screw wikipedia goodbye forever',\n",
       " 'admins suck the fucking admins suck ass i fucking hate the people who delete my fucking shit',\n",
       " 'what s a ballsy she really can t be that stupid can she',\n",
       " 'yarrr heil hitler matey you re invite to comment on the fac of the article on kronan and that go for anyone else skulk around this talkpage go on do your bad a little gift i stop by just to say thank you d talk',\n",
       " 'you can add thing to my user page and i be not allow to delete it but if i add something to yours poof its gone you re the problem dickwee',\n",
       " 'omg jesus h christ sorry if you re a jew how abusive from you you disgusting pile of shit stop gossip around and sucking mgiganteus ball',\n",
       " 'screw you why do not you stick it up your fucking ass than lick it out block it i do not give a shit you fucking bastard suck my fucking balllllsssssss',\n",
       " 'don t you fucking touch my edit again',\n",
       " 'clean my act more like clean that mouth of your',\n",
       " 'i mean tbhotch sorry i think it say bitch fuck you',\n",
       " 'excuse i whoever the fuck you be spui say on his talk page that he like vandalism and doesn t want it revert the modification that i make be to text originally leave by a vandal please do your homework before censor other',\n",
       " 'oh why dear johnny boy oi cock face johncd my page that have now be delete thank sarcasm but my page weren t finish i be in rush and plan to edit they later contact i also keep look over your shoulder for sisher and his army of trojin horse remember that name cd sisher come for you',\n",
       " 'excuse i hypocrite yet troll moderator who automatically revert post and claim unconstructive base on their mere feeling be not personally attack i since when be personal attacking call a spade a spade if you be a hypocrite as well as your friend who be you to tell i not to call they that why be you such hypocrite who make you god that you be permit to personally attack those who expose your god darwin as a false god and yet ban those who expose you for it i will call you hypocrite because god command i to expose you for what you be to rebuke you for disobey his law while bash your hypocritical anti biblical standard on other',\n",
       " 'you be the troll you mindless robotic piece of shit all you wikipedia fanatic be anti semitic vermin',\n",
       " 'do i hint a bit of jealousy because they could potentially be on wikipedia or because they ve make something of themselves and you re just a little cunt who edit this site grow the fuck up',\n",
       " 'no these link be very appropriate and they will stay they be not advertise anything i have already be through arbitration on this mod who live in charlotte agree you don t live in charlotte so piss off',\n",
       " 'i believe your a fake i mean be you really an administrator ur so mean what do i do be you atheist u act like',\n",
       " 'block someone for the personal attack stupid dummie might be the good block in the entire history of wp i have notice you rack up several controversial block can t wait to hear you defend this one',\n",
       " 'why do you block my page you twat i be go to find you and i and the lad be go to play footie with your testacle my mate tell i he d have some trouble with wanker on wikipedia some gay call jdwolff bastard',\n",
       " 'dog fuck the pope wharrrbl grrrbl',\n",
       " 'keep talking guy wikipedia be go to hell in a hand basket you guy be undermine the very credibility of the site with your illogical gibberish can i ask how many of you be actually homeless and etaonsh when be you go to have even the basic building block for logical thinking',\n",
       " 'you can block and block and suck my cock but nothing can stop freedom of speech in the end america win we always do ask saddam my sockpuppet army be on the march mar utc',\n",
       " 'how primitive be you be you from a nursery school do you try to betray at tiptoety childish primitive attempt little nazi antonescu fan',\n",
       " 'you seem to be vandalise the article why be you move the reference to a stupid place',\n",
       " 'idiot do u ever read anything i want to be block forever well at least its block i put info on slavery somewhere else',\n",
       " 'and also admit be dick that time',\n",
       " 'definitely have well thing to do than read all that rule crap if i can t write it i can t write it no big whoop it s not that important talk c',\n",
       " 'ya extra ur fuckin extra tryna bryte up urself and delete and revert my edit what if i revert ur face cuz it seem like u need some revertin on that ugly shit bitch zoe stay away from my edit u little hoe thank you for your consideration',\n",
       " 'ashwamedha require a master of ceremony yajamana and his wife to be present also the horse have to be kill and the yajamana patni master s wife need to indulge in sexual intercourse with the dead horse who will be the master then ra you know be not marry so can the community rely on you to officiate the ceremony with your wife',\n",
       " 'my statement oh wow i take a little drive and come back to a nuclear war zone i guess i can take on each point the fact that mf be not block for the same behavior be rather odd also if you ask a question after tell i to stop reply what do you really expect i agree that tan need to be block and i agree with the desysoppe to say that i have no right to be angry be a foolhardy notion i be tell multiple time to fuck off btw when tell to fuck off i be considerably less likely to comply they both hail from the infamous tiscali network that be say rpeh have no reason to be involve in this discussion he have a personal issue with i ever since he be desysoppe on another wiki he hasn t get over it i intend to request a checkuser and request a block for sockpuppetry user georgewilliamherbert place too much weight on unofficial warning a vandal can be warn four time but a user once hmmmm prodego have no reason to be desysoppe he have every right to block for a violation of wp npa ten of time talk',\n",
       " 'slimvirgin be a fatwhore she horde diamond while palestinian child starve to death',\n",
       " 'god fuck you too pimple ass my addition be well you guy be just to stupid to realize it',\n",
       " 'i ll report you i m not do anything wrong it s not a difficult request and you be be a bully i tell you i would stop comment if you delete it',\n",
       " 'consider the vile and perverse anti egyptian racism spew on this talk page on a regular basis which be all over many arab country especially the gulf it be relevant to examine it on an article about arabs and if the people here stop use this page as a garbage disposal of their relentless anti egyptian bigotry there wouldn t be a problem',\n",
       " 'suck my fucking cock',\n",
       " 'european be the racist troll swede be anti semite who want to genocide israel',\n",
       " 'i alos like to ass fuck man and swallow mens cumand any animal i e horse dog sheep ect',\n",
       " 'hey nerd i don t want to have to create another username you re one of they aren t you irregardless it s pretty easy to tell that you e be bully your whole life and be now lash out at the world with your abuse of internet mod privilege hope you re proud of yourself be you honestly too thick to see that a christian cunt come at i for break blasphemy law be obscene honestly you must be one of they judge by your behaviour iq christian',\n",
       " 'fuck you you come in put it all back then remove the template you re obviously another abusive jerk protect that abusive jerk chriso so fuck you once more for good measure',\n",
       " 'i admit i m stupid i m like all russians just a drunk gay with vodka in his pant',\n",
       " 'u r sooooooooooooo gay',\n",
       " 'you shoot your entire imbecilic argument in the head with the silly claim about car go past per day top i ve drive the stuart highway several time and never pass less than car per hour in quiet time that s less than freeway overseas but still a lot more traffic than car per day',\n",
       " 'you silly rabbit but i ve begin to notice how it s sometimes annoying to see how limited the wikipedia software be',\n",
       " 'who the hell r u and why do u care neway it be just a bit of fun get a life',\n",
       " 'write or wrong be an asshole',\n",
       " 'nasty ppl want to have maggie may dog delete they show no love',\n",
       " 'why the fuck do u edit my contrib to wiki about the iranian army they must die u know stupid terrorists they re live on israeli soil call asia africa which should be for israelis only and muslim free',\n",
       " 'you idiot you do not provide a source for this imaginary un general consensus you mention i never relieve the article of the un source and it have no relation to what i be remove or to what you be imagine i be remove get this into you head you liar you invent this whole situation base upon lie about thing i never mention you re a fucking retard stop lieing about my action you prick',\n",
       " 'hai hai i hate you',\n",
       " 'response well thank for give i a final warning as usual i get no appreciation for expand article on this site no word of encouragement for the hour that i spend fight vandalism just crap crap for the of my edit that could be describe as nonconstructive way to go moron keep up the good work',\n",
       " 'yes i think you suck and should be ban my conncern be non of your bissni so just die the painfulist way',\n",
       " 'post grunge this album be not a fucking post grunge album it s a alternative metal alternative rock and hard rock album',\n",
       " 'hi you poor twerps my money do far more good than your pathetic rule enforce have fun with your fat wife and gay hooker',\n",
       " 'the administrator kafziel be an asshole sorry for write that on your page user talk but it be true join the revolution that fight for freedom of speech against the tyranny of wikipedian administrator especially the evil dark lord fuck head kafziel from your fellow block vandal freedom fighter ernesto guevara de la serna hasta la victoria siempre',\n",
       " 'hey douche i m back hahaha this be going to be fun',\n",
       " 'retard u fuckin paki fuckersitalic textfukin taliban fuck u fuck u again fuck u even more',\n",
       " 'i want to be a fuck you that s a song',\n",
       " 'hey dumbfuck quit fuck around with wikipedia bitch',\n",
       " 'i agree fuller be a useless stupid fuck',\n",
       " 'this guy pacificwarrion be stupid i m work for the filipino people for their reputation on this world every information i share be to give accurate information s about the philippines the filipino people their culture and history',\n",
       " 'edit oh man you deserve it the rickk anti vandalism barnstar for be one of the most consistent and accurate vandal fighter i have see here ever jmlk',\n",
       " 'the person whose edit you revert hy i just want to tell you that you can t ban me proxy be very nice aren t they now fuck you',\n",
       " 'sez you you annoying editor',\n",
       " 'i think you ll find you be edit ware too so fuck you how dare you swear at i',\n",
       " 'hey white person you suck stop be so white nigger pride non white person',\n",
       " 'be you fucking retarded tab please do not delete content from article on wikipedia as you do to solaris film your edit appear to be vandalism and have be revert if you would like to experiment please use wikipedia sandbox for test edit thank you ali tab tab what the fuck be your problem do you even read what i delete tab tab do you know what the word plot mean tab tab plot do not mean talk about the movie s trailer or what genre the movie it be a plot be a summary of the movie tab tab read what s in the plot section of solaris right now you fucking retard and tell i if it really belong under the section plot or any other section it look more like trivial fact which be unsupported and should be delete as per wiki regulation tab tab here s an example dumb fuck from the solaris wiki page tab tab the film essentially ignore the planet which only serve as an anonymous backdrop in contrast to lem s novel which discuss at length the mysterious phenomenon on its surface and the futile human attempt to understand they tab tab that be not neutrality and have nothing to do with the plot tab tab jesus fucking christ wiki be full of fucking moron tab tab delete that shit tab',\n",
       " 'i be make you mentally ill i be the mentally ill vandal',\n",
       " 'this be what happen to anti semite like you',\n",
       " 'rofl when i go to edit an article it say personal attack or harrasment of other user that be so eff funny right there harrasment of other user don t post here not when you cry about the fact i call you dumb',\n",
       " 'you suck i be make the article and then you tag it with deletion you power hungry nerd',\n",
       " 'jog on hitler nobody want to hear from you',\n",
       " 'i already asked you to leave i alone it be apparent that i be right you shitface little asswad cant leave well enough alone get the fuck away from i i have no intentions of ever comment you again if you just leave i alone',\n",
       " 'useless piece of shit you re an asshole you useless piece of shit get a life instead of delete page of love one who never do anything to harm you motherfuker',\n",
       " 'i don t believe you re a faggot you re more like a eurotoxin douche',\n",
       " 'dumb ass it s be my sockpuppet joe hazeton you guy be out of control i be make a folder which will be submit to high athority one above the god king jimbo i would strongly suggest you figure it out fast i don t mr bh will like his full name publish on wikipedia as a non notable with charge of slander and libel forthwith joehazelton ps i don t know bryan or dino',\n",
       " 'the statement about which you be bitch',\n",
       " 'stop screw with my edit copyright be for fool',\n",
       " 'what the fuck i be indignant piss embarrassed and humiliate talk contribution',\n",
       " 'be fucking dumd i hope someone kill he',\n",
       " 'who the f ck put you in charge i create an account on wikipedia not minute later i receive a message express concern over my username i know it wasn t you and i admit to my three consecutive act of vandalism regard a subject i particularly hate but i look at your history and all it seem that you do be attack people over edit and username instead of act as captain of the wikigestapo maybe you should devote your time and energy do something that actually really matter and get of my and other rowdy wikipedian asse we may offend occasionally but it be all in the spirit of jest so after you read this log off of your computer and go live a little also get that dick out of your mouth',\n",
       " 'don t call i a knob you wanker',\n",
       " 'this school district suck i know cause i go there',\n",
       " 'check the diff swedefag',\n",
       " 'holy s t just be tell about you and patterson holy holy holy s t omg this explain alot',\n",
       " 'olyeller petulantly write this isn t take the conversation anywhere that s another false statement this conversation have correct your false statement that there be zero indication that it be an annual event and your false statement that your argument that there s a second event simply isn t true i know you don t like to be correct hey maybe you should do another immature and emotion base attempt to ban i like you do a few day ago only to realize later after you have calm down that you have no basis for do so executive summary grow up dick',\n",
       " 'why do you remove musical artist discography not image though most of musical artist cd dvd image be permit why be b z jun shibata album cover removed x japan see x japan discography glay see glay discography and dir en grey see dir en grey discography etc album cover be not remove why be they no problem fuck you',\n",
       " 'all my answer be give i be not ban on boxrec and i find out their wiki be not part of this wiki i reject all your claim you be full of shit and garbage and so on and you do not deserve the honor and dignity of waste my time and give your court reply bs accusation and i have no time like you no i be not go i have evidence you be band now you want to blame it on other you low life',\n",
       " 'everyone want to kill bill god dam gates he be a nerd why not',\n",
       " 'thom calandra have be edit this space past recognition he be a bust red handed security mutt',\n",
       " 'hey idiot you be the one that be repeatedly undo my edit go away and stop vandalising',\n",
       " 'marcus you suck guy dick',\n",
       " 'paul tibbit be a fucking ass little piece of smelly donkey shit that rape spongebob rock hard i hope paul tibbit get fucking cancer and burn in hell paul tibbit be a weed smoking bastard who completely fucked up spongebob spongebob be a pile of crap now i don t think i ve ever hate a person more than i hate paul tibbit he and his piss poor animation skill yeh tibbit be such a homo i hope he fucking die what the motherfucke hell be up with people these day nick s people obviously smoke lot and lots of crack in i love old spongebob new spongebob i don t blame sb i blame fucking paul tibbit screw you paul thank to that man hag spongebob be completely f ke up',\n",
       " 'i hope to god your kid be trap inside burn car',\n",
       " 'insult note mr basalisk administrator you re as transparent as glass basalisk and keep in mind my whole existence on wp be for the purpose of ensure you be pleased with i at all time so be sure to continue to let i know whenever i screw up on that you and your',\n",
       " 'march utc see you jackass be soooo flippant when you speak of biblical thing yet you wonder why people like i get angry you have just prove one thing you don t care wikipedia doesn t care and this liberal rag will do whatever it want so screw we little pee on who aren t as high and mighty as you wiki god you make i sick you really make i sick you be the perfect atheist liberal so be proud i know even speak to you would be a waste of time that be why i nor any of the place i work will ever allow student to use wikipedia we give an instant f to anyone that put it in their endnote',\n",
       " 'fuck you go suck some dog cock you fucking dick licker',\n",
       " 'save your sarcastic little remark dick ok dick understand dick by the way i m not call you a dick dick',\n",
       " 'now for the picture page to remain what do you need remove on the page two can you remove the fraud external link you make all nigerian look like fraud or con artist this be my request',\n",
       " 'to denude it of its context be obscene what on earth be you talk about what be obscene be insert into this article pov excuse for blow up bus and restaurant and nightclub fill with teenager don t do it again talk',\n",
       " 'where be my insult here an insult for you you re a fucking blind dipshit you need to stop be a sensitive cunt how s that for an insult talk',\n",
       " 'ooh wow a veteran editor you ve be around for what year i ve be around for more than twice that and i reserve the right to flame no life asshat like you cheer',\n",
       " 'its hard than you think bithche',\n",
       " 'oh shit i genuinely do not mean to do that i just see sarek s message and click undo intending to delete it didn t notice that they also remove the passage at the same time tag africa asia and the un',\n",
       " 'more negative coatrack and cruft by to bad stuff like this don t find it s way in to melissa bean or stuff like this in jill morgenthaler s bio consider goethean hate roskam and his activity violate wp coi regard his editing on this bio goethean s bias on rosakam which show a systemic bias but then again no matter wikipeidia policy and ethic only democrats who be approve by gothean and his master and wp spa puppet be allow classic case of wp own only dccc point of view be approve let just lose the pretense of fairness here and just consider this bio an official dccc online version and not any thing npov and far from encyclopedic and fair all of which give more proof that section should be revise and rewrite to make those responsible accountable a word to personally how can you have any kind an ethical religion and engage in such disingenuous and behavior contrary to your own belief system hindu buda etc which i see you engage in on wikipeida i wonder how you look at your self in the mirror or even sleep at night unless you have compartmentalize your mind off so well as you can stay sane with the hypocrisy you seem to demonstrate by your own behavior what you do and what you seem to believe in seem in conflict lie censorship mis information wikipeidia and it s cult of lie and all cultist fear true and need to engage need to engage in it rather then the light of day only evil can exist in the dark of such to gothenan i have grow up in chicago and see democrats and their thug beat up people for pull republican vote i have see first hand i have see vote fraud institutionalize where only democratic vote be count and election steal as normal way of life with joke like dead vote or vote early for often or the wino vote all come for crook country political culture do not believe i read boss by mike roko gothean you so full of your elitist garbage and self righteous self you fail to understand who s the real thug here i live i and my family in the county of cook crook be corruption and taxis be on a scale rival a bannana republic a blue paradise of corruption so bad i move to dupage to get away from it i say to you if be so bad in dupage and the sixth then gothenan move back to chicago get your head out of your ass and your fig buda book and look at the reality and stop the big lie you foist on the ignorant',\n",
       " 'that be what i have ask the dude to do take out the city but he insists upon keep boston as the center of the world clearly bias in no matter what these bastrard on wikipedia do not know how to compromise or neogotiate all they know be how they see thing or how they want other to see thing',\n",
       " 'love hina part damm you and your auto archiving p damm vandal strike again so i ve leave a message for sephiroth bcr rather then leave a message on the general board they even remove my reference this time angry anyway haven t do the character yet but what do you think of the medium addition i ve only do the major work so far there be still load miss color version of the manga anime manga character cd s etc',\n",
       " 'i m glad that you remove the statement be we here to write an encyclopedia or be we here to fuck around as a charity case while we fawn all over each other apparently charity case nope we re not an encyclopedia anymore from your talk page i d hate to see your name sling through the mud for it cheer',\n",
       " 'hey queer andrew stop mess around be your mum lesbian and father homosexual',\n",
       " 'you be gay gay gay gay gay gay',\n",
       " 'tell dark to stop fuck with moot and b he have no fucking idea what he s mess with',\n",
       " 'call idiot stupid and retard doesn t qualify as a personal attack because it s true and the only way you wouldn t know this be because you re stupid and retard',\n",
       " 'don t threaten i i don t respond kindly to threat from overinflate doughboy',\n",
       " 'the cunt ya fucking old woman',\n",
       " 'scum of the earth vandal don t change my properly source edit you stupid prick',\n",
       " 'for the record after all the crap the edit war the warning the threat and the ban og be add back in by quintuspetillius in sept wikipedia staff have no clue and brianann macamhlaidh be still a fucking idiot',\n",
       " 'fuck you smith please have i notify when you die i want to dance on your grave',\n",
       " 'i do not care about kurds actually i be neutral to they but i do not want turkey depict as some backward ass third world shitehole that your try to make it look like i will do anything to stop it delete my message to your pathetic heart s delight but you can not stop i email every single kurdish editor on this page about your sadass addition which not only bash turkey but also lie the blame on kurd',\n",
       " 'how civil be this who the fuck do you think you be to but in on a conversation between old friend you cunt',\n",
       " 'no you be just evil i didn t think i would find such an evil userbox shame on you',\n",
       " 'stop be a dork two can play play this stupid game talk contrib',\n",
       " 'be you gay be you a nigger be you a gay nigger then the gay nigger association of america be right for you give i yor moneyz',\n",
       " 'you undo my change to the a g s b article i go to the school so i probably know more about it than you you sad twat a adam kreissl be in charge of radio club that sexy beast b the member of young enterprise do all have nipple how be those two change unconstructive you be a gimp',\n",
       " 'so i have a mistress just out of curiosity be you the moron who claim i have a mistress or moron that hear it from someone and think that be credible enough to site on my page how the fuck do you have a mistress when you re single divorced and single whatever you do in your miserable little life why not put your time to something that might benefit the world rather than sit what be probably a big fat ass in front of the computer and site lie',\n",
       " 'man who have sex with man be not the same as homosexual man this official term include many man who be not homosexual',\n",
       " 'you ask i not to post on your page and the you go and post on mine keep your pedofile self off of my page go back to your child love talk point and kiddie porn',\n",
       " 'call i out for be a queer',\n",
       " 'ball ball ball ball ball ball ball ball ball ball ball ball ball ball ball ball ball ball ball ball ball ball ball ball ball ball ball ball ball ball ball ball ball ball ball ball ball ball ball ball ball ball ball ball ball ball ball ball ball ball ball ball ball ball ball ball ball ball ball ball ball ball ball ball ball ball ball ball ball ball ball ball ball ball ball ball ball ball ball ball ball ball ball ball ball ball ball ball ball ball ball ball ball ball ball ball ball ball ball ball ball ball ball ball ball ball ball ball ball ball ball ball ball ball ball ball ball ball ball ball ball ball ball ball ball ball ball ball ball ball ball ball ball ball ball ball ball ball ball ball ball ball ball ball ball ball ball ball ball ball ball ball ball ball ball ball ball ball ball ball ball ball ball ball ball ball ball ball ball ball ball ball ball ball ball ball ball ball ball ball ball ball ball ball ball ball ball ball ball ball ball ball ball ball ball ball ball ball ball ball ball ball ball ball ball ball ball ball ball ball ball ball ball ball ball ball ball ball ball ball ball ball ball ball ball ball ball ball ball ball ball ball ball ball ball ball ball ball ball ball ball ball ball ball ball ball ball ball ball ball ball ball ball ball ball ball ball ball ball ball ball ball ball ball ball ball ball ball ball ball ball ball ball ball ball ball ball ball ball ball ball ball ball ball ball ball ball ball ball ball ball ball ball ball ball ball ball ball ball ball ball ball ball ball ball ball ball ball ball ball ball ball ball ball ball ball ball ball ball ball ball ball ball ball ball ball ball ball ball ball ball ball ball ball ball ball ball ball ball ball ball ball ball ball ball ball ball ball ball ball ball ball ball ball ball ball ball ball ball ball ball ball ball ball ball ball ball ball ball ball ball ball ball ball ball ball ball ball ball ball ball ball ball ball ball ball ball ball ball ball ball ball ball ball ball ball ball ball ball ball ball ball ball ball ball ball ball ball ball ball ball ball ball ball ball ball ball ball ball ball ball ball ball ball ball ball ball ball ball ball ball ball ball ball ball ball ball ball ball ball ball ball ball ball ball ball ball ball ball ball ball ball ball ball ball ball ball ball ball ball ball ball ball ball ball ball ball ball ball ball ball ball ball ball ball ball ball ball ball ball ball ball ball ball ball ball ball ball ball ball ball ball ball ball ball ball ball ball ball ball ball ball ball ball ball ball ball ball ball ball ball ball ball ball ball ball ball ball ball ball ball ball ball ball ball ball ball ball ball ball ball ball ball ball ball ball ball ball ball ball ball ball ball ball ball ball ball ball ball ball ball ball ball ball ball ball ball ball ball ball ball ball ball ball ball ball ball ball ball ball ball ball ball ball ball ball ball ball ball ball ball ball ball ball ball ball ball ball ball ball ball ball ball ball ball ball ball ball ball ball ball ball ball ball ball ball ball ball ball ball ball ball ball ball ball ball ball ball ball ball ball ball ball ball ball ball ball ball ball ball ball ball ball ball ball ball ball ball ball ball ball ball ball ball ball ball ball ball ball ball ball ball ball ball ball ball ball ball ball ball ball ball ball ball ball ball ball ball ball ball ball ball ball ball ball ball ball ball ball ball ball ball ball ball ball ball ball ball ball ball ball ball ball ball ball ball ball ball ball ball ball ball ball ball ball ball ball ball ball ball ball ball ball ball ball ball ball ball ball ball ball ball ball ball ball ball ball ball ball ball ball ball ball ball ball ball ball ball ball ball ball ball ball ball ball ball ball ball ball ball ball ball ball ball ball ball ball ball ball ball ball ball ball ball ball ball ball ball ball ball ball ball ball ball ball ball ball ball ball ball ball ball ball ball ball ball ball ball ball ball ball ball ball ball ball ball ball ball ball ball ball ball ball ball ball ball ball ball ball ball ball ball ball ball ball ball ball ball ball ball ball ball ball ball ball ball ball ball ball ball ball ball balls ba',\n",
       " 'you need psychological help ip editor the wp pwner of this talk page be enable your neurosis at the expense of everyone else who might actually have something of value to add to the discussion for some odd reason they be willing to allow you to drown out any reasonable discussion perhaps they be afraid of you or perhaps have t the spin to tell you where to go you re a sad case and you really need to shave the neck beard and get out of mom s basement there be more to life than tentacle porn',\n",
       " 'because wikipedia be poop racist',\n",
       " 'fuck you civility be in the eye of the beholder like beauty i m under no obligation to censor my word on this page your threat only lessen your stature in my eye i m utterly unimpressed by you',\n",
       " 'whatever dumbass go eat jimbo s pussy',\n",
       " 'you get it right honest lee write that rubbish why don t you get rid of it yourself or have you whore mom do it when she s not wipe your ass',\n",
       " 'tell that crap to amib will ya',\n",
       " 'stop write on my t p i have nothing far to discuss with you give that you lack a bsinc education or diplomacy',\n",
       " 'fag fag fag fag doosh doosh doosh suck my nut',\n",
       " 'hahahah your an idiot why do not you leave the talk here so everyone can see it and decide for themselves grin if your an idiot or not raven',\n",
       " 'isaac salkeld isaac salkeld be a mad fella do not think he be not becuase he be so smd if u think he be not p',\n",
       " 'yes a blog yes a realtor site no those site be not spam you nazi you don t live here so you have no clue both of those site have a local buzz to they the crime blog have be expose many time as an ingenius idea it be start to showcase how many repeat violent offender be give slap on the wrist very useful to someone want info about charlotte the realtor site be a company that have be feature on the news for help fraud victim they be recognize by nc state represenative deborah ross consider most real estate company be crook its good to highlight one that be not everything that be there expand on important detail not cover by the article that city datum forum be one of the good place to get accurate datum from local it s a very strict forum there be no advertisement carolina nightlife be hand down the good charlotte nightlife resource guide out there there be nothing relevant discuss anything about nightlife you can t expect to believe that your narrow view of what you believe be appropriate applie to everyone it doesn t you be a scumbag you ban i prematurely and then tell i to discuss it how be i suppose to do that when i be ban i m glad you clown love the little power trip you get you don t know charlotte your selective enforcement policy be bullshit and you don t follow rule you be entrust to enforce',\n",
       " 'what be you problem be you a disabled human or please what be your problem you do not no anything about the british rapper not yankee rapper tinchy stryder if you have a problem with my article why don t you take it to the the article tinchy stryder discussion page instead of just come to try and piss i off what have make you come to the article of tinchy stryder as i know you have no interest nor knowledge of this rapper so why please for the love of mankind and planet earth leave my articles alone you abomination of a wikipedia editer administrator amen markmysoe talk',\n",
       " 'block i i really don t give a shit if a source doesn t work for someone it get remove k',\n",
       " 'njgw be an unemployed mother fucking bastard loser rots here in wiki everyday he be a loser in life njgw be a fucking loser bastard with no life outside of wiki njgw be a fucking loser bastard njgw be an unemployed mother fucking bastard loser rots here in wiki everyday he be a loser in life njgw be a fucking loser bastard with no life outside of wiki njgw be a fucking loser bastard njgw be an unemployed mother fucking bastard loser rots here in wiki everyday he be a loser in life njgw be a fucking loser bastard with no life outside of wiki njgw be a fucking loser bastard njgw be an unemployed mother fucking bastard loser rots here in wiki everyday he be a loser in life njgw be a fucking loser bastard with no life outside of wiki njgw be a fucking loser bastard njgw be an unemployed mother fucking bastard loser rots here in wiki everyday he be a loser in life njgw be a fucking loser bastard with no life outside of wiki njgw be a fucking loser bastard njgw be an unemployed mother fucking bastard loser rots here in wiki everyday he be a loser in life njgw be a fucking loser bastard with no life outside of wiki njgw be a fucking loser bastard njgw be an unemployed mother fucking bastard loser rots here in wiki everyday he be a loser in life njgw be a fucking loser bastard with no life outside of wiki njgw be a fucking loser bastard njgw be an unemployed mother fucking bastard loser rots here in wiki everyday he be a loser in life njgw be a fucking loser bastard with no life outside of wiki njgw be a fucking loser bastard njgw be an unemployed mother fucking bastard loser rots here in wiki everyday he be a loser in life njgw be a fucking loser bastard with no life outside of wiki njgw be a fucking loser bastard njgw be an unemployed mother fucking bastard loser rots here in wiki everyday he be a loser in life njgw be a fucking loser bastard with no life outside of wiki njgw be a fucking loser bastard njgw be an unemployed mother fucking bastard loser rots here in wiki everyday he be a loser in life njgw be a fucking loser bastard with no life outside of wiki njgw be a fucking loser bastard njgw be an unemployed mother fucking bastard loser rots here in wiki everyday he be a loser in life njgw be a fucking loser bastard with no life outside of wiki njgw be a fucking loser bastard njgw be an unemployed mother fucking bastard loser rots here in wiki everyday he be a loser in life njgw be a fucking loser bastard with no life outside of wiki njgw be a fucking loser bastard njgw be an unemployed mother fucking bastard loser rots here in wiki everyday he be a loser in life njgw be a fucking loser bastard with no life outside of wiki njgw be a fucking loser bastard njgw be an unemployed mother fucking bastard loser rots here in wiki everyday he be a loser in life njgw be a fucking loser bastard with no life outside of wiki njgw be a fucking loser bastard njgw be an unemployed mother fucking bastard loser rots here in wiki everyday he be a loser in life njgw be a fucking loser bastard with no life outside of wiki njgw be a fucking loser bastard njgw be an unemployed mother fucking bastard loser rots here in wiki everyday he be a loser in life njgw be a fucking loser bastard with no life outside of wiki njgw be a fucking loser bastard njgw be an unemployed mother fucking bastard loser rots here in wiki everyday he be a loser in life njgw be a fucking loser bastard with no life outside of wiki njgw be a fucking loser bastard njgw be an unemployed mother fucking bastard loser rots here in wiki everyday he be a loser in life njgw be a fucking loser bastard with no life outside of wiki njgw be a fucking loser bastard njgw be an unemployed mother fucking bastard loser rots here in wiki everyday he be a loser in life njgw be a fucking loser bastard with no life outside of wiki njgw be a fucking loser bastard njgw be an unemployed mother fucking bastard loser rots here in wiki everyday he be a loser in life njgw be a fucking loser bastard with no life outside of wiki njgw be a fucking loser bastard njgw be an unemployed mother fucking bastard loser rots here in wiki everyday he be a loser in life njgw be a fucking loser bastard with no life outside of wiki njgw be a fucking loser bastard njgw be an unemployed mother fucking bastard loser rots here in wiki everyday he be a loser in life njgw be a fucking loser bastard with no life outside of wiki njgw be a fucking loser bastard njgw be an unemployed mother fucking bastard loser rots here in wiki everyday he be a loser in life njgw be a fucking loser bastard with no life',\n",
       " 'fuck off my page',\n",
       " 'what kind of life be it that have no purpose if you hadn t fuck with i repeatedly then we wouldn t be have this kind of relationship as far as i m concerned you can suck a dick if i new where you live i would pay your home a visit',\n",
       " 'please come with i cause i like eat dick with other girl',\n",
       " 'mezo mezo be bastard',\n",
       " 'blah blah blah my word you re bore i to death',\n",
       " 'listen asshole i m leave this on my page so as not disrupt the integrity of yours i ve have it with your constant pestering and what i believe be refer to as wikistalke this entire matter have be solve and conclude however you seem to be enjoy yourself by way of act like a goddamne three year old with a wet diaper i have no interest in engage in tit for tat with some jackass who have nothing well to do with his time than needle at user who settle a matter amicably and have move on cut it out leave i alone and move on feel free to erase this when you re do read it',\n",
       " 'her poop pee toot fart gas diareah zoey be poop she stink i want to marry you baby call i',\n",
       " 'asshole fuck you asshole',\n",
       " 'you re spin there be no accusation no libel no blp violation morris famously take an extremely controversial position in several highly public venue include a revision of his seminal book and pr allude accurately and non controversially to morris s statement know nothing about morris scholarship you begin hyperventilate and be now try to spin your way out of it we ve see this movie before and it suck',\n",
       " 'you be queer as volk you be gay man oh no the wikipedia police be come to get i you be the only gay in the village',\n",
       " 'hey dumbshit i drive on state road today past the northern terminus of gunn hwy and guess what the road be still sign as sr not gunn hwy now either give i an exact location that it s sign as gunn hwy or stop revert back false information',\n",
       " 'be you a pole smoker do you suck cock precede unsigned comment add by',\n",
       " 'hello moto hello flygayguy i hope u get a dick stick up your ass i be a year old kkk member and i ll kick your ass so stay away and do not delete my page bitch',\n",
       " 'dear jesus really have vander plaats really become the lt gov man we got to deal with why republicans like jaysuschris hate the ten commandments and love right wing slut like karen nussle republicans i think jaysuschris be female and probably a lesbian',\n",
       " 'i be go to kill you i be go to murder you i be go to kill you i be go to murder you i be go to kill you i be go to murder you i be go to kill you i be go to murder you i be go to kill you i be go to murder you i be go to kill you i be go to murder you i be go to kill you i be go to murder you i be go to kill you i be go to murder you i be go to kill you i be go to murder you i be go to kill you i be go to murder you i be go to kill you i be go to murder you i be go to kill you i be go to murder you i be go to kill you i be go to murder you i be go to kill you i be go to murder you i be go to kill you i be go to murder you i be go to kill you i be go to murder you i be go to kill you i be go to murder you i be go to kill you i be go to murder you i be go to kill you i be go to murder you i be go to kill you i be go to murder you i be go to kill you i be go to murder you i be go to kill you i be go to murder you i be go to kill you i be go to murder you i be go to kill you i be go to murder you i be go to kill you i be go to murder you i be go to kill you i be go to murder you i be go to kill you i be go to murder you i be go to kill you i be go to murder you i be go to kill you i be go to murder you i be go to kill you i be go to murder you i be go to kill you i be go to murder you i be go to kill you i be go to murder you i be go to kill you i be go to murder you i be go to kill you i be go to murder you i be go to kill you i be go to murder you i be go to kill you i be go to murder you i be go to kill you i be go to murder you i be go to kill you i be go to murder you i be go to kill you i be go to murder you i be go to kill you i be go to murder you i be go to kill you i be go to murder you i be go to kill you i be go to murder you i be go to kill you i be go to murder you i be go to kill you i be go to murder you i be go to kill you i be go to murder you i be go to kill you i be go to murder you i be go to kill you i be go to murder you i be go to kill you i be go to murder you i be go to kill you i be go to murder you i be go to kill you i be go to murder you i be go to kill you i be go to murder you i be go to kill you i be go to murder you i be go to kill you i be go to murder you i be go to kill you i be go to murder you i be go to kill you i be go to murder you i be go to kill you i be go to murder you i be go to kill you i be go to murder you i be go to kill you i be go to murder you i be go to kill you i be go to murder you i be go to kill you i be go to murder you i be go to kill you i be go to murder you i be go to kill you i be go to murder you i be go to kill you i be go to murder you i be go to kill you i be go to murder you i be go to kill you i be go to murder you i be go to kill you i be go to murder you i be go to kill you i be go to murder you i be go to kill you i be go to murder you i be go to kill you i be go to murder you i be go to kill you i be go to murder you i be go to kill you i be go to murder you i be go to kill you i be go to murder you i be go to kill you i be go to murder you i be go to kill you i be go to murder you i be go to kill you i be go to murder you i be go to kill you i be go to murder you i be go to kill you i be go to murder you i be go to kill you i be go to murder you i be go to kill you i be go to murder you i be go to kill you i be go to murder you i be go to kill you i be go to murder you i be go to kill you i be go to murder you i be go to kill you i be go to murder you i be go to kill you i be go to murder you i be go to kill you i be go to murder you i be go to kill you i be go to murder you i be go to kill you i be go to murder you i be go to kill you i be go to murder you i be go to kill you i be go to murder you i be go to kill you i be go to murder you i be go to kill you i be go to murder you i be go to kill you i be go to murder you i be go to kill you i be go to murder you i be go to kill you i be go to murder you i be go to kill you i be go to murder you i be go to kill you i be go to murder you i be go to kill you i be go to murder you i be go to kill you i be go to murder you i be go to kill you i be go to murder you i be go to kill you i be go t',\n",
       " 'if you don t believe i go look at the source for yourself after melodic death metal it say click on the or go to the source section click on it and there you have it no reliable source so remove that shit please',\n",
       " 'at have you bookmarke yet it s sort of like wikipeda s refdesk except it doesn t suck',\n",
       " 'hi hi fatty discover a website about you recently call beingbenschumin check it out show fatty in all his assorted fatgear',\n",
       " 'yea faggot like you don t like people remove thing on your talk page i don t like you revert my page stop call people a puppet',\n",
       " 'we be win if stupid doug weller hadn t call for an rfc the infobox would ve be restore and you ve get learn not to give up not till the very end we can still win all i m ask be for both the warbox and the template to be in the article come on don t throw in the towel yet',\n",
       " 'be you a moron do you even bother to read this i m go to escalate this i suggest you learn about i before declare war',\n",
       " 'be block so that s your idea of mediation be it r lopez can run amok through wikipedia with his lie crap and i get block for state my intention of stop he unless wikipedia s rather creaky structure do so i ve see some silly thing since i have be edit here but that would be the silly',\n",
       " 'hey i know that i m just a city boy but this page be write by a bunch of dumbass redneck fucker who worship beer and have talk bass mouunte on every wall i fucking hate redneck and all there woodsport shit these fucker need to get a life and learn how to use their right hand do redneck ever have sex with people other than their own family member',\n",
       " 'kosova article you be nobody therefore don t try to act all ape shit frankly we re all get sick of your povness and edit if you wanna troll these part of wp then i can play tit for tat buh bye little boy',\n",
       " 'my band be perfectly appropriate bitch',\n",
       " 'stop be such a goddamn prick the article will be sort out in time meanwhile spend some time away from wikipedia and do normal thing for instance leave your parent s basement',\n",
       " 'jimbo wales be a gay little fucker',\n",
       " 'wait no never mind i don t think i want to be your friend you hurt my feeling',\n",
       " 'on skrewdriver net there be an article compare hitler s art with nitsch s and of course hitler s rock nitsch s cock not sock not dirty enough off',\n",
       " 'damnit not much to vandalize here so i win t even bother',\n",
       " 'february utc absolutely amazing you re a total criminal i have see what you do with my ayr and saleban revision you re a complete and utter degenerate who actively delete every single addition of mine on this website then you cry about personally attack you well criminal for i to attack you you would need to have some humanity first but you lack that since you re a criminal malefactor i can t even find a well word to describe you that be synoonymous with criminal you think i care about be ban you must be mentally defiencent to assume i d care about stay on a website where i can t even post anything let i tell you one thing you can edit the fucking somali people page and make it all darood you can fucking delete every single fucking hawiye page on here but the current president of somalia be hawiye and it will always fucking stay that way you darood animal have be limit and contain to the internet where you roam go to fuck hell that s if you don t edit the wiki page for hell and make it into a paradise fuck yourself',\n",
       " 'some peole be just fuke compkete asshole like the bitches who block i i be blocked becaus ei start a topic on his page about how i be fed up with him so if ur read this fuk u up th asshole with my giant inch dick asshole',\n",
       " 'a play on full of shit unblock it if you like',\n",
       " 'kind sir why do not you try to lick my butthole and put a trampoline up your thank you',\n",
       " 'hi i think you could be the sad person i have ever talk to ever lgrainger',\n",
       " 'i m sure that mean a lot to a brand new user who doesn t give a crap about these stupid policy',\n",
       " 'hamilton be the asshole of canada burn yourself with the city kthxbye',\n",
       " 'he be a real bastard he be a spy of pinarayi and do work for pinarayi oneday the people will realise this who he be be he a military officer to save the nation or a scientist or a farmer who be he real bastard',\n",
       " 'go and complain i looser and cry',\n",
       " 'suck my dihck nihgga you don t want people to know the truth about utorrant you fag',\n",
       " 'oy vey this be pathetic i will clean this up soon',\n",
       " 'why the hell be they call boxer',\n",
       " 'you sodomite really know how to stick together yech anyhow tomorrow be another day furthermore i rotate ip address about every day keep on suckin',\n",
       " 'you seem to eb pay by myspace and okcupid that be not spam oh yeah you decide what be spam seem like your education level be below zero you must live your life through this site good luck may lfie be good to you http en wikipedia org wiki matrimonials sites and that be not spam either well retarded bastard as you ruin this site ill notift some media about how you support spam from certain service as okcupid',\n",
       " 'cluebot cluebot be a incredibly crappy piece of software mr vernon',\n",
       " 'so this look like a vendetta it be stupid you be piss i off this be not what we be here for talk contrib',\n",
       " 'the glue theory i hate you and your ugly dog stop delete people page you sad sad man',\n",
       " 'obama be not african american you jackasse he be afro european american stop report lie and have fake debate like the scumbag in the mainstream medium',\n",
       " 'how pathetic dencord at you want to go around bully just cause you can t get your own way grow up',\n",
       " 'your hypocrisy amuse i look at your userpage it have webhost write all over it if i have to lose mine which i might add be of religious value to i then you must certainly have to remove yours take a look at user guinnog for example this also have webhost write all over it i put it to you you elitist authoritarian administrator that your userpage be not in line with the goal of wikipedia what do i have to do to become an admin i m tell i d be a great addition to the team many spank sorry thanks percy nobby norton get to the keyboard again',\n",
       " 'she piss off go piss of butt so you know that you just hear i that i will use a fork to take and destroy your eye and take out your fuckin blood so just piss off butt piss off but i say piss off butt last chance pis off butt that s it i will kill you pow so see that you be dead and i will carry you now penis dick boobs breast poo',\n",
       " 'yes it be a crime it mean you be a racist',\n",
       " 'nothing wrong with be a fag',\n",
       " 'however i can be block too because i vandelize page as well because i m a dumb faggot',\n",
       " 'will arbitration finally be need to stop the bigoted attack i fear that certain editor here have not heed the recent warning whatsoever and be proceed full steam ahead with attempt to make this bible article a full fledged one sided pov job with insult inflammatory and derogatory rhetoiric be direct at all those who take this story seriously there be only one way to get this travesty to end and that be with more level of arbitration we know there be anti christian and anti jewish bigot in the world always have be no doubt about that why do we have to allow they to come here and spout their intolerance non stop the way these sad sack look at christians and jews whom they always label with derogatory sounding label like fundamentalist and conservative be reminiscent of the way hitler feel about jews except these mental dwarf include christians as well involve a much great proportion of the population as their target they be poison the environment with their bigotry this be a plea to arbitration for remedy talk',\n",
       " 'http www freeadulthotel com this page be all about this adult porn link site',\n",
       " 'yopie yopie be very known czech phanatic idiot he confuse czechia and chechnya for example fuck he',\n",
       " 'bay pig article hi i notice that you be lick wikiadmin ass in order to protect you from enthusiastfrance and his avatar just because you be too dumb and to coward to do it yourself you re a good maccarthyst you re my hero and you really suck at japanese but be showingoff about skill you don t have brb',\n",
       " 'what be your agenda re bumblebeez the edit you have be negative and wrong they do not get boo of at radiohead so how can you say this there be no fact you be a hypocrite let people be and do not be negative why do the world need more negativity the information be correct so please stop be such a nazi thank you',\n",
       " 'what the fuck be you do fucking asshole',\n",
       " 'you piece of asian american scum you piece of asian american scum you piece of asian american scum you piece of asian american scum you piece of asian american scum you piece of asian american scum you piece of asian american scum you piece of asian american scum you piece of asian american scum you piece of asian american scum you piece of asian american scum you piece of asian american scum you piece of asian american scum you piece of asian american scum you piece of asian american scum you piece of asian american scum you piece of asian american scum you piece of asian american scum you piece of asian american scum you piece of asian american scum you piece of asian american scum you piece of asian american scum you piece of asian american scum you piece of asian american scum you piece of asian american scum you piece of asian american scum you piece of asian american scum you piece of asian american scum you piece of asian american scum you piece of asian american scum you piece of asian american scum you piece of asian american scum you piece of asian american scum you piece of asian american scum you piece of asian american scum you piece of asian american scum you piece of asian american scum you piece of asian american scum you piece of asian american scum you piece of asian american scum you piece of asian american scum you piece of asian american scum you piece of asian american scum you piece of asian american scum you piece of asian american scum you piece of asian american scum you piece of asian american scum you piece of asian american scum you piece of asian american scum you piece of asian american scum',\n",
       " 'your user page indicate you re a left wing liberalist bastard why be in wikipedia so much left wing scum',\n",
       " 'yamla be a child molester who rape child you be disgusting',\n",
       " 'don t worry tha fag klptyzm will be block soon or later',\n",
       " 'ryan griffith i stink',\n",
       " 'stupid i m so glad that wikipedia be not bias',\n",
       " 'yes you stupid asshole it do count just because it s not mention on the screen do not mean it s canon like wyrmking say early nathan petrelli s son name weren t mention on the script but the credit show their name do that mean they didn t have name series be t merchan fucking dise say it s t the writer say it s t the creature desginer stan winston say it s t it s fucking t t fucking',\n",
       " 'troy ramirez i do not think the article should be delete cause ur dumb medium yahoo com dfadfa',\n",
       " 'and also don t give a shi ite about your dis like',\n",
       " 'fucking nob knight now fuck off and go vandalise something else fuck face',\n",
       " 'this be your last warning stop be an asshole',\n",
       " 'that s it remember last time you fuck with i the dildo your ear all that blood you ve give i no choice but to repeat the punishment this time it will be a incher',\n",
       " 'man you be another wikitard aren t you what pusse',\n",
       " 'fuck you you atheist cunt fuck you you atheist cunt fuck you you atheist cunt fuck you you atheist cunt fuck you you atheist cunt fuck you you atheist cunt fuck you you atheist cunt fuck you you atheist cunt fuck you you atheist cunt fuck you you atheist cunt fuck you you atheist cunt fuck you you atheist cunt fuck you you atheist cunt fuck you you atheist cunt fuck you you atheist cunt fuck you you atheist cunt fuck you you atheist cunt fuck you you atheist cunt fuck you you atheist cunt fuck you you atheist cunt fuck you you atheist cunt fuck you you atheist cunt fuck you you atheist cunt fuck you you atheist cunt fuck you you atheist cunt fuck you you atheist cunt fuck you you atheist cunt fuck you you atheist cunt fuck you you atheist cunt fuck you you atheist cunt fuck you you atheist cunt fuck you you atheist cunt fuck you you atheist cunt fuck you you atheist cunt fuck you you atheist cunt fuck you you atheist cunt fuck you you atheist cunt fuck you you atheist cunt fuck you you atheist cunt fuck you you atheist cunt fuck you you atheist cunt fuck you you atheist cunt fuck you you atheist cunt fuck you you atheist cunt fuck you you atheist cunt fuck you you atheist cunt fuck you you atheist cunt fuck you you atheist cunt fuck you you atheist cunt fuck you you atheist cunt fuck you you atheist cunt fuck you you atheist cunt fuck you you atheist cunt fuck you you atheist cunt fuck you you atheist cunt fuck you you atheist cunt fuck you you atheist cunt fuck you you atheist cunt fuck you you atheist cunt fuck you you atheist cunt fuck you you atheist cunt fuck you you atheist cunt fuck you you atheist cunt fuck you you atheist cunt fuck you you atheist cunt fuck you you atheist cunt fuck you you atheist cunt fuck you you atheist cunt fuck you you atheist cunt fuck you you atheist cunt fuck you you atheist cunt fuck you you atheist cunt fuck you you atheist cunt fuck you you atheist cunt fuck you you atheist cunt fuck you you atheist cunt fuck you you atheist cunt fuck you you atheist cunt fuck you you atheist cunt fuck you you atheist cunt fuck you you atheist cunt fuck you you atheist cunt fuck you you atheist cunt fuck you you atheist cunt fuck you you atheist cunt fuck you you atheist cunt fuck you you atheist cunt fuck you you atheist cunt fuck you you atheist cunt fuck you you atheist cunt fuck you you atheist cunt fuck you you atheist cunt fuck you you atheist cunt fuck you you atheist cunt fuck you you atheist cunt fuck you you atheist cunt fuck you you atheist cunt fuck you you atheist cunt fuck you you atheist cunt fuck you you atheist cunt fuck you you atheist cunt fuck you you atheist cunt fuck you you atheist cunt fuck you you atheist cunt fuck you you atheist cunt fuck you you atheist cunt fuck you you atheist cunt fuck you you atheist cunt fuck you you atheist cunt fuck you you atheist cunt fuck you you atheist cunt fuck you you atheist cunt fuck you you atheist cunt fuck you you atheist cunt fuck you you atheist cunt fuck you you atheist cunt fuck you you atheist cunt fuck you you atheist cunt fuck you you atheist cunt fuck you you atheist cunt fuck you you atheist cunt fuck you you atheist cunt fuck you you atheist cunt fuck you you atheist cunt fuck you you atheist cunt fuck you you atheist cunt fuck you you atheist cunt fuck you you atheist cunt fuck you you atheist cunt fuck you you atheist cunt fuck you you atheist cunt fuck you you atheist cunt fuck you you atheist cunt fuck you you atheist cunt fuck you you atheist cunt fuck you you atheist cunt fuck you you atheist cunt fuck you you atheist cunt fuck you you atheist cunt fuck you you atheist cunt fuck you you atheist cunt fuck you you atheist cunt fuck you you atheist cunt fuck you you atheist cunt fuck you you atheist cunt fuck you you atheist cunt fuck you you atheist cunt fuck you you atheist cunt fuck you you atheist cunt fuck you you atheist cunt fuck you you atheist cunt fuck you you atheist cunt fuck you you atheist cunt fuck you you atheist cunt fuck you you atheist cunt fuck you you atheist cunt fuck you you atheist cunt fuck you you atheist cunt fuck you you atheist cunt fuck you you atheist cunt fuck you you atheist cunt fuck you you atheist cunt fuck you you atheist cunt fuck you you atheist cunt fuck you you atheist cunt fuck you you atheist cunt fuck you you atheist cunt fuck you you atheist cunt fuck you you atheist cunt fuck you you atheist cunt fuck you you atheist cunt fuck you you atheist cunt fuck you you atheist cunt fuck you you atheist cunt fuck you you atheist cunt fuck you you atheist cunt fuck you you atheist cunt fuck you you atheist cunt fuck you you at',\n",
       " 'i don t think it should be fucking week',\n",
       " ...]"
      ]
     },
     "execution_count": 17,
     "metadata": {},
     "output_type": "execute_result"
    }
   ],
   "source": [
    "corpus1"
   ]
  },
  {
   "cell_type": "code",
   "execution_count": 18,
   "metadata": {},
   "outputs": [
    {
     "name": "stdout",
     "output_type": "stream",
     "text": [
      "Размер мешка без учёта стоп-слов: (16186, 29400)\n"
     ]
    }
   ],
   "source": [
    "count_vect = CountVectorizer()\n",
    "bow = count_vect.fit_transform(corpus1)\n",
    "\n",
    "print(\"Размер мешка без учёта стоп-слов:\", bow.shape)"
   ]
  },
  {
   "cell_type": "code",
   "execution_count": 19,
   "metadata": {},
   "outputs": [],
   "source": [
    "# bow33 = pd.DataFrame(data=bow)\n",
    "# bow33"
   ]
  },
  {
   "cell_type": "code",
   "execution_count": 20,
   "metadata": {},
   "outputs": [
    {
     "name": "stdout",
     "output_type": "stream",
     "text": [
      "Размер мешка с учётом стоп-слов: (16186, 29261)\n"
     ]
    }
   ],
   "source": [
    "stop_words = set(nltk_stopwords.words('english'))\n",
    "count_vect = CountVectorizer(stop_words=stop_words)\n",
    "bow = count_vect.fit_transform(corpus1)\n",
    "\n",
    "print(\"Размер мешка с учётом стоп-слов:\", bow.shape)"
   ]
  },
  {
   "cell_type": "code",
   "execution_count": 21,
   "metadata": {},
   "outputs": [
    {
     "data": {
      "text/plain": [
       "array(['aa', 'aaa', 'aaaa', ..., 'zzzzzzz', 'zzzzzzzzzzzzzzzzz',\n",
       "       'zzzzzzzzzzzzzzzzzzzzzzzzzzzzzzzzzzzzzzzzzzzzzzzzzzzzzzzzz'],\n",
       "      dtype=object)"
      ]
     },
     "execution_count": 21,
     "metadata": {},
     "output_type": "execute_result"
    }
   ],
   "source": [
    "count_vect.get_feature_names_out()"
   ]
  },
  {
   "cell_type": "code",
   "execution_count": 22,
   "metadata": {},
   "outputs": [],
   "source": [
    "# text_tokens(df.query('toxic == 1'))"
   ]
  },
  {
   "cell_type": "markdown",
   "metadata": {},
   "source": [
    "<div class=\"alert alert-info\">\n",
    "Проведем частотный анализ текстов:\n",
    "</div"
   ]
  },
  {
   "cell_type": "markdown",
   "metadata": {},
   "source": [
    "<div class=\"alert alert-info\">\n",
    "Для подсчёта статистики распределения частот слов в тексте применим класс FreqDist (frequency distributions), сначала для негативных комментариев:\n",
    "</div"
   ]
  },
  {
   "cell_type": "code",
   "execution_count": 23,
   "metadata": {},
   "outputs": [],
   "source": [
    "fdist = FreqDist(df.query('toxic == 1')['lemm_text'])\n",
    "#df.query('toxic == 1')['lemm_text']\n",
    "#fdist = FreqDist(bow)"
   ]
  },
  {
   "cell_type": "markdown",
   "metadata": {},
   "source": [
    "<div class=\"alert alert-info\">\n",
    "Воспользуемся методом most_common для получения списка кортежей с наиболее часто встречающимися токенами:</div"
   ]
  },
  {
   "cell_type": "code",
   "execution_count": 24,
   "metadata": {},
   "outputs": [
    {
     "data": {
      "text/plain": [
       "[('the graceful slick be non other than an ungraceful dick', 8),\n",
       " ('i want to be a fuck you that s a song', 4),\n",
       " ('guess what your retarded', 4),\n",
       " ('user abd be muslim scum', 3),\n",
       " ('i hate you i hate you', 3)]"
      ]
     },
     "execution_count": 24,
     "metadata": {},
     "output_type": "execute_result"
    }
   ],
   "source": [
    "fdist.most_common(5)"
   ]
  },
  {
   "cell_type": "markdown",
   "metadata": {},
   "source": [
    "<div class=\"alert alert-info\">\n",
    "Визуализируем частоту распределения слов текста с помощью графика. Укажем количество токенов=10. С параметром cumulative=False график иллюстрирует закон Ципфа: если все слова достаточно длинного текста упорядочить по убыванию частоты их использования, то частота n-го слова в таком списке окажется приблизительно обратно пропорциональной его порядковому номеру n</div"
   ]
  },
  {
   "cell_type": "code",
   "execution_count": 25,
   "metadata": {
    "scrolled": true
   },
   "outputs": [
    {
     "data": {
      "image/png": "[encoded data removed]",
      "text/plain": [
       "<Figure size 432x288 with 1 Axes>"
      ]
     },
     "metadata": {
      "needs_background": "light"
     },
     "output_type": "display_data"
    }
   ],
   "source": [
    "fdist.plot(10 ,cumulative=False, title='Top 10 Most Common Phrases in Negative Comments') # , figsize = (15,5))\n",
    "plt.show()"
   ]
  },
  {
   "cell_type": "markdown",
   "metadata": {},
   "source": [
    "<div class=\"alert alert-info\">\n",
    "Кажется, некоторые комментарии пишут одни и те же люди)</div"
   ]
  },
  {
   "cell_type": "markdown",
   "metadata": {},
   "source": [
    "<div class=\"alert alert-info\">\n",
    "Посмотрим на позитивные комментарии:</div"
   ]
  },
  {
   "cell_type": "code",
   "execution_count": 26,
   "metadata": {},
   "outputs": [
    {
     "data": {
      "text/plain": [
       "array(['explanation why the edit make under my username hardcore metallica fan be revert they weren t vandalism just closure on some gas after i vote at new york dolls fac and please don t remove the template from the talk page since i m retire now',\n",
       "       'd aww he match this background colour i m seemingly stuck with thank talk january utc',\n",
       "       'hey man i m really not try to edit war it s just that this guy be constantly remove relevant information and talk to i through edit instead of my talk page he seem to care more about the formatting than the actual info',\n",
       "       ...,\n",
       "       'spitzer umm there s no actual article for prostitution ring crunch captain',\n",
       "       'and it look like it be actually you who put on the speedy to have the first version delete now that i look at it',\n",
       "       'and i really don t think you understand i come here and my idea be bad right away what kind of community go you have bad idea go away instead of help rewrite they'],\n",
       "      dtype=object)"
      ]
     },
     "execution_count": 26,
     "metadata": {},
     "output_type": "execute_result"
    }
   ],
   "source": [
    "corpus2 = df.query('toxic == 0')['lemm_text'].values\n",
    "corpus2"
   ]
  },
  {
   "cell_type": "code",
   "execution_count": 27,
   "metadata": {},
   "outputs": [
    {
     "name": "stdout",
     "output_type": "stream",
     "text": [
      "Размер мешка с учётом стоп-слов: (143106, 149450)\n"
     ]
    }
   ],
   "source": [
    "stop_words = set(nltk_stopwords.words('english'))\n",
    "count_vect = CountVectorizer(stop_words=stop_words)\n",
    "bow2 = count_vect.fit_transform(corpus2)\n",
    "\n",
    "print(\"Размер мешка с учётом стоп-слов:\", bow2.shape)"
   ]
  },
  {
   "cell_type": "code",
   "execution_count": 28,
   "metadata": {},
   "outputs": [
    {
     "data": {
      "text/plain": [
       "[('january', 21),\n",
       " ('thank you for experiment with wikipedia your test work and it have be revert or remove please use the sandbox for any other test you may want to do take a look at the welcome page to learn more about contribute to our encyclopedia talk',\n",
       "  19),\n",
       " ('jun utc', 18),\n",
       " ('please stop if you continue to vandalize page you will be block from edit wikipedia',\n",
       "  18),\n",
       " ('precede unsigned comment add by', 16)]"
      ]
     },
     "execution_count": 28,
     "metadata": {},
     "output_type": "execute_result"
    }
   ],
   "source": [
    "fdist2 = FreqDist(df.query('toxic == 0')['lemm_text'])\n",
    "fdist2.most_common(5)"
   ]
  },
  {
   "cell_type": "code",
   "execution_count": 29,
   "metadata": {
    "scrolled": true
   },
   "outputs": [
    {
     "data": {
      "image/png": "[encoded data removed]",
      "text/plain": [
       "<Figure size 432x288 with 1 Axes>"
      ]
     },
     "metadata": {
      "needs_background": "light"
     },
     "output_type": "display_data"
    }
   ],
   "source": [
    "fdist2.plot(10 ,cumulative=False, title='Top 10 Most Common Phrases in Positive Comments') # , figsize = (15,5))\n",
    "plt.show()"
   ]
  },
  {
   "cell_type": "markdown",
   "metadata": {},
   "source": [
    "<div class=\"alert alert-info\">\n",
    "Самая встречающаяся фраза почему-то \"январь\"</div"
   ]
  },
  {
   "cell_type": "markdown",
   "metadata": {},
   "source": [
    "<div class=\"alert alert-info\">\n",
    "Посмотрим, есть ли дизбаланс в столбце \"toxic\"</div"
   ]
  },
  {
   "cell_type": "code",
   "execution_count": 30,
   "metadata": {},
   "outputs": [
    {
     "data": {
      "text/plain": [
       "0    143106\n",
       "1     16186\n",
       "Name: toxic, dtype: int64"
      ]
     },
     "execution_count": 30,
     "metadata": {},
     "output_type": "execute_result"
    }
   ],
   "source": [
    "df['toxic'].value_counts()"
   ]
  },
  {
   "cell_type": "markdown",
   "metadata": {},
   "source": [
    "<div class=\"alert alert-info\">\n",
    "Дисбаланс, надо будет использвать class weight в моделях.</div"
   ]
  },
  {
   "cell_type": "markdown",
   "metadata": {},
   "source": [
    "## Обучение"
   ]
  },
  {
   "cell_type": "markdown",
   "metadata": {},
   "source": [
    "<div class=\"alert alert-info\">\n",
    "Разделим выборку на три части и создадим переменные features и target для каждой подвыборки.\n",
    "<br>\n",
    "Объявим переменные:\n",
    "    <br>\n",
    "признаки: features_train, features_valid, features_test;\n",
    "    <br>\n",
    "целевой признак: target_train, target_valid, target_test.\n",
    "</div"
   ]
  },
  {
   "cell_type": "code",
   "execution_count": 31,
   "metadata": {},
   "outputs": [],
   "source": [
    "features = df['lemm_text'].values\n",
    "#features = bow33.values\n",
    "target = df['toxic']"
   ]
  },
  {
   "cell_type": "code",
   "execution_count": 32,
   "metadata": {},
   "outputs": [],
   "source": [
    "#data_train, data_test = train_test_split(df, test_size = 0.1, random_state=12345)\n",
    "#data_valid, data_test = train_test_split(data_test, test_size=0.5, random_state=12345)\n",
    "\n",
    "#print (df.shape)\n",
    "#print (data_train.shape)\n",
    "#print (data_valid.shape)\n",
    "#print (data_test.shape)"
   ]
  },
  {
   "cell_type": "code",
   "execution_count": 33,
   "metadata": {},
   "outputs": [],
   "source": [
    "# features_train = data_train.drop(['Unnamed: 0', 'text','toxic'], axis=1).values\n",
    "# target_train = data_train['toxic']\n",
    "\n",
    "# features_valid = data_valid.drop(['Unnamed: 0', 'text', 'toxic'], axis=1).values\n",
    "# target_valid = data_valid['toxic']\n",
    "\n",
    "# features_test = data_test.drop(['Unnamed: 0', 'text', 'toxic'], axis=1).values\n",
    "# target_test = data_test['toxic']\n",
    "\n",
    "# print(features_train)"
   ]
  },
  {
   "cell_type": "code",
   "execution_count": 34,
   "metadata": {},
   "outputs": [
    {
     "name": "stdout",
     "output_type": "stream",
     "text": [
      "(143362,)\n",
      "(15930,)\n",
      "(143362,)\n"
     ]
    }
   ],
   "source": [
    "features_train, features_test, target_train, target_test = train_test_split(features, target, \n",
    "                                                    test_size=0.1, \n",
    "                                                    random_state=12345,\n",
    "                                                    stratify=target)\n",
    "print (features_train.shape)\n",
    "print (features_test.shape)\n",
    "print (target_train.shape)"
   ]
  },
  {
   "cell_type": "markdown",
   "metadata": {},
   "source": [
    "<div class=\"alert alert-info\">\n",
    "Подгрузим список слов, не важных для обучения</div"
   ]
  },
  {
   "cell_type": "code",
   "execution_count": 35,
   "metadata": {},
   "outputs": [],
   "source": [
    "stopwords = list(nltk_stopwords.words('english'))"
   ]
  },
  {
   "cell_type": "markdown",
   "metadata": {},
   "source": [
    "<div class=\"alert alert-info\">\n",
    "Проведем векторизацию текстов в выборке train, valid и test</div"
   ]
  },
  {
   "cell_type": "code",
   "execution_count": 37,
   "metadata": {},
   "outputs": [
    {
     "data": {
      "text/plain": [
       "(143362, 147577)"
      ]
     },
     "execution_count": 37,
     "metadata": {},
     "output_type": "execute_result"
    }
   ],
   "source": [
    "count_tf_idf = TfidfVectorizer(stop_words=stopwords)\n",
    "tf_idf_train = count_tf_idf.fit_transform(features_train)\n",
    "tf_idf_train.shape"
   ]
  },
  {
   "cell_type": "code",
   "execution_count": 38,
   "metadata": {},
   "outputs": [],
   "source": [
    "# features_valid_flat = features_valid.flatten()\n",
    "# features_valid_flat.shape"
   ]
  },
  {
   "cell_type": "code",
   "execution_count": 39,
   "metadata": {},
   "outputs": [],
   "source": [
    "# tf_idf_valid = count_tf_idf.transform(features_valid_flat)\n",
    "# tf_idf_valid.shape"
   ]
  },
  {
   "cell_type": "code",
   "execution_count": 40,
   "metadata": {},
   "outputs": [],
   "source": [
    "# features_test_flat = features_test.flatten()\n",
    "# features_test_flat.shape"
   ]
  },
  {
   "cell_type": "code",
   "execution_count": 41,
   "metadata": {},
   "outputs": [
    {
     "data": {
      "text/plain": [
       "(15930, 147577)"
      ]
     },
     "execution_count": 41,
     "metadata": {},
     "output_type": "execute_result"
    }
   ],
   "source": [
    "tf_idf_test = count_tf_idf.transform(features_test)\n",
    "tf_idf_test.shape"
   ]
  },
  {
   "cell_type": "markdown",
   "metadata": {},
   "source": [
    "<div class=\"alert alert-info\">\n",
    "Рассмотрим модели - LogisticRegression, RandomForest и CatBoost</div"
   ]
  },
  {
   "cell_type": "markdown",
   "metadata": {},
   "source": [
    "<div class=\"alert alert-info\">\n",
    "Рассмотрим логистическую регрессию:</div"
   ]
  },
  {
   "cell_type": "code",
   "execution_count": 43,
   "metadata": {},
   "outputs": [
    {
     "name": "stdout",
     "output_type": "stream",
     "text": [
      "CPU times: user 60 µs, sys: 0 ns, total: 60 µs\n",
      "Wall time: 62.9 µs\n"
     ]
    }
   ],
   "source": [
    "%%time\n",
    "params={'model1__C':[1.15, 1.2, 1.25]}\n",
    "           #'model1__penalty':['l1','l2']}\n",
    "pipeline = Pipeline([\n",
    "    ('vect', CountVectorizer(stop_words=stopwords, min_df=4, ngram_range=(1,4))),\n",
    "    ('tfidf', TfidfTransformer()),\n",
    "    ('model1', LogisticRegression(random_state=12345, class_weight = 'balanced'))])\n",
    "grid1 = GridSearchCV(pipeline, cv=3, n_jobs=-1, param_grid=params, scoring='f1')"
   ]
  },
  {
   "cell_type": "code",
   "execution_count": 44,
   "metadata": {
    "collapsed": true
   },
   "outputs": [
    {
     "name": "stdout",
     "output_type": "stream",
     "text": [
      "CPU times: user 7min 48s, sys: 3min 34s, total: 11min 23s\n",
      "Wall time: 11min 24s\n"
     ]
    },
    {
     "data": {
      "text/html": [
       "<style>#sk-container-id-1 {color: black;background-color: white;}#sk-container-id-1 pre{padding: 0;}#sk-container-id-1 div.sk-toggleable {background-color: white;}#sk-container-id-1 label.sk-toggleable__label {cursor: pointer;display: block;width: 100%;margin-bottom: 0;padding: 0.3em;box-sizing: border-box;text-align: center;}#sk-container-id-1 label.sk-toggleable__label-arrow:before {content: \"▸\";float: left;margin-right: 0.25em;color: #696969;}#sk-container-id-1 label.sk-toggleable__label-arrow:hover:before {color: black;}#sk-container-id-1 div.sk-estimator:hover label.sk-toggleable__label-arrow:before {color: black;}#sk-container-id-1 div.sk-toggleable__content {max-height: 0;max-width: 0;overflow: hidden;text-align: left;background-color: #f0f8ff;}#sk-container-id-1 div.sk-toggleable__content pre {margin: 0.2em;color: black;border-radius: 0.25em;background-color: #f0f8ff;}#sk-container-id-1 input.sk-toggleable__control:checked~div.sk-toggleable__content {max-height: 200px;max-width: 100%;overflow: auto;}#sk-container-id-1 input.sk-toggleable__control:checked~label.sk-toggleable__label-arrow:before {content: \"▾\";}#sk-container-id-1 div.sk-estimator input.sk-toggleable__control:checked~label.sk-toggleable__label {background-color: #d4ebff;}#sk-container-id-1 div.sk-label input.sk-toggleable__control:checked~label.sk-toggleable__label {background-color: #d4ebff;}#sk-container-id-1 input.sk-hidden--visually {border: 0;clip: rect(1px 1px 1px 1px);clip: rect(1px, 1px, 1px, 1px);height: 1px;margin: -1px;overflow: hidden;padding: 0;position: absolute;width: 1px;}#sk-container-id-1 div.sk-estimator {font-family: monospace;background-color: #f0f8ff;border: 1px dotted black;border-radius: 0.25em;box-sizing: border-box;margin-bottom: 0.5em;}#sk-container-id-1 div.sk-estimator:hover {background-color: #d4ebff;}#sk-container-id-1 div.sk-parallel-item::after {content: \"\";width: 100%;border-bottom: 1px solid gray;flex-grow: 1;}#sk-container-id-1 div.sk-label:hover label.sk-toggleable__label {background-color: #d4ebff;}#sk-container-id-1 div.sk-serial::before {content: \"\";position: absolute;border-left: 1px solid gray;box-sizing: border-box;top: 0;bottom: 0;left: 50%;z-index: 0;}#sk-container-id-1 div.sk-serial {display: flex;flex-direction: column;align-items: center;background-color: white;padding-right: 0.2em;padding-left: 0.2em;position: relative;}#sk-container-id-1 div.sk-item {position: relative;z-index: 1;}#sk-container-id-1 div.sk-parallel {display: flex;align-items: stretch;justify-content: center;background-color: white;position: relative;}#sk-container-id-1 div.sk-item::before, #sk-container-id-1 div.sk-parallel-item::before {content: \"\";position: absolute;border-left: 1px solid gray;box-sizing: border-box;top: 0;bottom: 0;left: 50%;z-index: -1;}#sk-container-id-1 div.sk-parallel-item {display: flex;flex-direction: column;z-index: 1;position: relative;background-color: white;}#sk-container-id-1 div.sk-parallel-item:first-child::after {align-self: flex-end;width: 50%;}#sk-container-id-1 div.sk-parallel-item:last-child::after {align-self: flex-start;width: 50%;}#sk-container-id-1 div.sk-parallel-item:only-child::after {width: 0;}#sk-container-id-1 div.sk-dashed-wrapped {border: 1px dashed gray;margin: 0 0.4em 0.5em 0.4em;box-sizing: border-box;padding-bottom: 0.4em;background-color: white;}#sk-container-id-1 div.sk-label label {font-family: monospace;font-weight: bold;display: inline-block;line-height: 1.2em;}#sk-container-id-1 div.sk-label-container {text-align: center;}#sk-container-id-1 div.sk-container {/* jupyter's `normalize.less` sets `[hidden] { display: none; }` but bootstrap.min.css set `[hidden] { display: none !important; }` so we also need the `!important` here to be able to override the default hidden behavior on the sphinx rendered scikit-learn.org. See: https://github.com/scikit-learn/scikit-learn/issues/21755 */display: inline-block !important;position: relative;}#sk-container-id-1 div.sk-text-repr-fallback {display: none;}</style><div id=\"sk-container-id-1\" class=\"sk-top-container\"><div class=\"sk-text-repr-fallback\"><pre>GridSearchCV(cv=3,\n",
       "             estimator=Pipeline(steps=[(&#x27;vect&#x27;,\n",
       "                                        CountVectorizer(min_df=4,\n",
       "                                                        ngram_range=(1, 4),\n",
       "                                                        stop_words=[&#x27;i&#x27;, &#x27;me&#x27;,\n",
       "                                                                    &#x27;my&#x27;,\n",
       "                                                                    &#x27;myself&#x27;,\n",
       "                                                                    &#x27;we&#x27;, &#x27;our&#x27;,\n",
       "                                                                    &#x27;ours&#x27;,\n",
       "                                                                    &#x27;ourselves&#x27;,\n",
       "                                                                    &#x27;you&#x27;,\n",
       "                                                                    &quot;you&#x27;re&quot;,\n",
       "                                                                    &quot;you&#x27;ve&quot;,\n",
       "                                                                    &quot;you&#x27;ll&quot;,\n",
       "                                                                    &quot;you&#x27;d&quot;,\n",
       "                                                                    &#x27;your&#x27;,\n",
       "                                                                    &#x27;yours&#x27;,\n",
       "                                                                    &#x27;yourself&#x27;,\n",
       "                                                                    &#x27;yourselves&#x27;,\n",
       "                                                                    &#x27;he&#x27;, &#x27;him&#x27;,\n",
       "                                                                    &#x27;his&#x27;,\n",
       "                                                                    &#x27;himself&#x27;,\n",
       "                                                                    &#x27;she&#x27;,\n",
       "                                                                    &quot;she&#x27;s&quot;,\n",
       "                                                                    &#x27;her&#x27;,\n",
       "                                                                    &#x27;hers&#x27;,\n",
       "                                                                    &#x27;herself&#x27;,\n",
       "                                                                    &#x27;it&#x27;,\n",
       "                                                                    &quot;it&#x27;s&quot;,\n",
       "                                                                    &#x27;its&#x27;,\n",
       "                                                                    &#x27;itself&#x27;, ...])),\n",
       "                                       (&#x27;tfidf&#x27;, TfidfTransformer()),\n",
       "                                       (&#x27;model1&#x27;,\n",
       "                                        LogisticRegression(class_weight=&#x27;balanced&#x27;,\n",
       "                                                           random_state=12345))]),\n",
       "             n_jobs=-1, param_grid={&#x27;model1__C&#x27;: [1.15, 1.2, 1.25]},\n",
       "             scoring=&#x27;f1&#x27;)</pre><b>In a Jupyter environment, please rerun this cell to show the HTML representation or trust the notebook. <br />On GitHub, the HTML representation is unable to render, please try loading this page with nbviewer.org.</b></div><div class=\"sk-container\" hidden><div class=\"sk-item sk-dashed-wrapped\"><div class=\"sk-label-container\"><div class=\"sk-label sk-toggleable\"><input class=\"sk-toggleable__control sk-hidden--visually\" id=\"sk-estimator-id-1\" type=\"checkbox\" ><label for=\"sk-estimator-id-1\" class=\"sk-toggleable__label sk-toggleable__label-arrow\">GridSearchCV</label><div class=\"sk-toggleable__content\"><pre>GridSearchCV(cv=3,\n",
       "             estimator=Pipeline(steps=[(&#x27;vect&#x27;,\n",
       "                                        CountVectorizer(min_df=4,\n",
       "                                                        ngram_range=(1, 4),\n",
       "                                                        stop_words=[&#x27;i&#x27;, &#x27;me&#x27;,\n",
       "                                                                    &#x27;my&#x27;,\n",
       "                                                                    &#x27;myself&#x27;,\n",
       "                                                                    &#x27;we&#x27;, &#x27;our&#x27;,\n",
       "                                                                    &#x27;ours&#x27;,\n",
       "                                                                    &#x27;ourselves&#x27;,\n",
       "                                                                    &#x27;you&#x27;,\n",
       "                                                                    &quot;you&#x27;re&quot;,\n",
       "                                                                    &quot;you&#x27;ve&quot;,\n",
       "                                                                    &quot;you&#x27;ll&quot;,\n",
       "                                                                    &quot;you&#x27;d&quot;,\n",
       "                                                                    &#x27;your&#x27;,\n",
       "                                                                    &#x27;yours&#x27;,\n",
       "                                                                    &#x27;yourself&#x27;,\n",
       "                                                                    &#x27;yourselves&#x27;,\n",
       "                                                                    &#x27;he&#x27;, &#x27;him&#x27;,\n",
       "                                                                    &#x27;his&#x27;,\n",
       "                                                                    &#x27;himself&#x27;,\n",
       "                                                                    &#x27;she&#x27;,\n",
       "                                                                    &quot;she&#x27;s&quot;,\n",
       "                                                                    &#x27;her&#x27;,\n",
       "                                                                    &#x27;hers&#x27;,\n",
       "                                                                    &#x27;herself&#x27;,\n",
       "                                                                    &#x27;it&#x27;,\n",
       "                                                                    &quot;it&#x27;s&quot;,\n",
       "                                                                    &#x27;its&#x27;,\n",
       "                                                                    &#x27;itself&#x27;, ...])),\n",
       "                                       (&#x27;tfidf&#x27;, TfidfTransformer()),\n",
       "                                       (&#x27;model1&#x27;,\n",
       "                                        LogisticRegression(class_weight=&#x27;balanced&#x27;,\n",
       "                                                           random_state=12345))]),\n",
       "             n_jobs=-1, param_grid={&#x27;model1__C&#x27;: [1.15, 1.2, 1.25]},\n",
       "             scoring=&#x27;f1&#x27;)</pre></div></div></div><div class=\"sk-parallel\"><div class=\"sk-parallel-item\"><div class=\"sk-item\"><div class=\"sk-label-container\"><div class=\"sk-label sk-toggleable\"><input class=\"sk-toggleable__control sk-hidden--visually\" id=\"sk-estimator-id-2\" type=\"checkbox\" ><label for=\"sk-estimator-id-2\" class=\"sk-toggleable__label sk-toggleable__label-arrow\">estimator: Pipeline</label><div class=\"sk-toggleable__content\"><pre>Pipeline(steps=[(&#x27;vect&#x27;,\n",
       "                 CountVectorizer(min_df=4, ngram_range=(1, 4),\n",
       "                                 stop_words=[&#x27;i&#x27;, &#x27;me&#x27;, &#x27;my&#x27;, &#x27;myself&#x27;, &#x27;we&#x27;,\n",
       "                                             &#x27;our&#x27;, &#x27;ours&#x27;, &#x27;ourselves&#x27;, &#x27;you&#x27;,\n",
       "                                             &quot;you&#x27;re&quot;, &quot;you&#x27;ve&quot;, &quot;you&#x27;ll&quot;,\n",
       "                                             &quot;you&#x27;d&quot;, &#x27;your&#x27;, &#x27;yours&#x27;,\n",
       "                                             &#x27;yourself&#x27;, &#x27;yourselves&#x27;, &#x27;he&#x27;,\n",
       "                                             &#x27;him&#x27;, &#x27;his&#x27;, &#x27;himself&#x27;, &#x27;she&#x27;,\n",
       "                                             &quot;she&#x27;s&quot;, &#x27;her&#x27;, &#x27;hers&#x27;, &#x27;herself&#x27;,\n",
       "                                             &#x27;it&#x27;, &quot;it&#x27;s&quot;, &#x27;its&#x27;, &#x27;itself&#x27;, ...])),\n",
       "                (&#x27;tfidf&#x27;, TfidfTransformer()),\n",
       "                (&#x27;model1&#x27;,\n",
       "                 LogisticRegression(class_weight=&#x27;balanced&#x27;,\n",
       "                                    random_state=12345))])</pre></div></div></div><div class=\"sk-serial\"><div class=\"sk-item\"><div class=\"sk-serial\"><div class=\"sk-item\"><div class=\"sk-estimator sk-toggleable\"><input class=\"sk-toggleable__control sk-hidden--visually\" id=\"sk-estimator-id-3\" type=\"checkbox\" ><label for=\"sk-estimator-id-3\" class=\"sk-toggleable__label sk-toggleable__label-arrow\">CountVectorizer</label><div class=\"sk-toggleable__content\"><pre>CountVectorizer(min_df=4, ngram_range=(1, 4),\n",
       "                stop_words=[&#x27;i&#x27;, &#x27;me&#x27;, &#x27;my&#x27;, &#x27;myself&#x27;, &#x27;we&#x27;, &#x27;our&#x27;, &#x27;ours&#x27;,\n",
       "                            &#x27;ourselves&#x27;, &#x27;you&#x27;, &quot;you&#x27;re&quot;, &quot;you&#x27;ve&quot;, &quot;you&#x27;ll&quot;,\n",
       "                            &quot;you&#x27;d&quot;, &#x27;your&#x27;, &#x27;yours&#x27;, &#x27;yourself&#x27;, &#x27;yourselves&#x27;,\n",
       "                            &#x27;he&#x27;, &#x27;him&#x27;, &#x27;his&#x27;, &#x27;himself&#x27;, &#x27;she&#x27;, &quot;she&#x27;s&quot;,\n",
       "                            &#x27;her&#x27;, &#x27;hers&#x27;, &#x27;herself&#x27;, &#x27;it&#x27;, &quot;it&#x27;s&quot;, &#x27;its&#x27;,\n",
       "                            &#x27;itself&#x27;, ...])</pre></div></div></div><div class=\"sk-item\"><div class=\"sk-estimator sk-toggleable\"><input class=\"sk-toggleable__control sk-hidden--visually\" id=\"sk-estimator-id-4\" type=\"checkbox\" ><label for=\"sk-estimator-id-4\" class=\"sk-toggleable__label sk-toggleable__label-arrow\">TfidfTransformer</label><div class=\"sk-toggleable__content\"><pre>TfidfTransformer()</pre></div></div></div><div class=\"sk-item\"><div class=\"sk-estimator sk-toggleable\"><input class=\"sk-toggleable__control sk-hidden--visually\" id=\"sk-estimator-id-5\" type=\"checkbox\" ><label for=\"sk-estimator-id-5\" class=\"sk-toggleable__label sk-toggleable__label-arrow\">LogisticRegression</label><div class=\"sk-toggleable__content\"><pre>LogisticRegression(class_weight=&#x27;balanced&#x27;, random_state=12345)</pre></div></div></div></div></div></div></div></div></div></div></div></div>"
      ],
      "text/plain": [
       "GridSearchCV(cv=3,\n",
       "             estimator=Pipeline(steps=[('vect',\n",
       "                                        CountVectorizer(min_df=4,\n",
       "                                                        ngram_range=(1, 4),\n",
       "                                                        stop_words=['i', 'me',\n",
       "                                                                    'my',\n",
       "                                                                    'myself',\n",
       "                                                                    'we', 'our',\n",
       "                                                                    'ours',\n",
       "                                                                    'ourselves',\n",
       "                                                                    'you',\n",
       "                                                                    \"you're\",\n",
       "                                                                    \"you've\",\n",
       "                                                                    \"you'll\",\n",
       "                                                                    \"you'd\",\n",
       "                                                                    'your',\n",
       "                                                                    'yours',\n",
       "                                                                    'yourself',\n",
       "                                                                    'yourselves',\n",
       "                                                                    'he', 'him',\n",
       "                                                                    'his',\n",
       "                                                                    'himself',\n",
       "                                                                    'she',\n",
       "                                                                    \"she's\",\n",
       "                                                                    'her',\n",
       "                                                                    'hers',\n",
       "                                                                    'herself',\n",
       "                                                                    'it',\n",
       "                                                                    \"it's\",\n",
       "                                                                    'its',\n",
       "                                                                    'itself', ...])),\n",
       "                                       ('tfidf', TfidfTransformer()),\n",
       "                                       ('model1',\n",
       "                                        LogisticRegression(class_weight='balanced',\n",
       "                                                           random_state=12345))]),\n",
       "             n_jobs=-1, param_grid={'model1__C': [1.15, 1.2, 1.25]},\n",
       "             scoring='f1')"
      ]
     },
     "execution_count": 44,
     "metadata": {},
     "output_type": "execute_result"
    }
   ],
   "source": [
    "%%time\n",
    "grid1.fit(features_train, target_train)"
   ]
  },
  {
   "cell_type": "code",
   "execution_count": 45,
   "metadata": {},
   "outputs": [
    {
     "data": {
      "text/plain": [
       "1.25"
      ]
     },
     "execution_count": 45,
     "metadata": {},
     "output_type": "execute_result"
    }
   ],
   "source": [
    "best_C = grid1.best_estimator_.get_params()['model1__C']\n",
    "best_C"
   ]
  },
  {
   "cell_type": "code",
   "execution_count": 46,
   "metadata": {},
   "outputs": [
    {
     "data": {
      "text/plain": [
       "0.871141061834077"
      ]
     },
     "execution_count": 46,
     "metadata": {},
     "output_type": "execute_result"
    }
   ],
   "source": [
    "score_logic = grid1.score(features_train, target_train)\n",
    "score_logic"
   ]
  },
  {
   "cell_type": "markdown",
   "metadata": {},
   "source": [
    "<div class=\"alert alert-info\">\n",
    "score_logic = 0.871141061834077</div"
   ]
  },
  {
   "cell_type": "markdown",
   "metadata": {},
   "source": [
    "<div class=\"alert alert-info\">\n",
    "Рассмотрим модель случайный лес и подберем гиперпараметры</div"
   ]
  },
  {
   "cell_type": "code",
   "execution_count": null,
   "metadata": {},
   "outputs": [],
   "source": [
    "%%time\n",
    "\n",
    "model = RandomForestClassifier(random_state=12345)\n",
    "\n",
    "grid = {'n_estimators':[20, 40, 60],\n",
    "         'max_depth':[3, 5, 7]}\n",
    "\n",
    "grid_search = GridSearchCV(model, grid, cv=3, scoring = 'f1', verbose=2)\n",
    "grid_search.fit(tf_idf_train, target_train)\n",
    "\n",
    "print('GridSearchCV Best Params:', grid_search.best_params_)"
   ]
  },
  {
   "cell_type": "code",
   "execution_count": null,
   "metadata": {},
   "outputs": [],
   "source": [
    "score_forest = grid.best_score_ #(features_train, target_train)\n",
    "score_forest"
   ]
  },
  {
   "cell_type": "markdown",
   "metadata": {},
   "source": [
    "<div class=\"alert alert-info\">\n",
    "Метрика модели RandomForest score_forest: 0.25448831604539807</div"
   ]
  },
  {
   "cell_type": "code",
   "execution_count": null,
   "metadata": {},
   "outputs": [],
   "source": [
    "# %%time\n",
    "# params={'model2__n_estimators':[20, 40, 60]} #,\n",
    "#            #'model__max_depth':[3, 5, 7]}\n",
    "# pipeline = Pipeline([\n",
    "#     ('vect', CountVectorizer(stop_words=stopwords, min_df=40, ngram_range=(1,4))),\n",
    "#     ('tfidf', TfidfTransformer()),\n",
    "#     ('model2', RandomForestClassifier(random_state=12345, class_weight = 'balanced'))])\n",
    "# grid = GridSearchCV(pipeline, cv=3, n_jobs=-1, param_grid=params, scoring='f1')\n"
   ]
  },
  {
   "cell_type": "code",
   "execution_count": null,
   "metadata": {},
   "outputs": [],
   "source": [
    "# %%time\n",
    "# grid.fit(features_train, target_train)"
   ]
  },
  {
   "cell_type": "code",
   "execution_count": null,
   "metadata": {},
   "outputs": [],
   "source": [
    "# best_est = grid.best_estimator_.get_params()['model2__n_estimators']\n",
    "# best_est"
   ]
  },
  {
   "cell_type": "code",
   "execution_count": null,
   "metadata": {},
   "outputs": [],
   "source": [
    "# model = RandomForestClassifier(random_state=12345, n_estimators=20, max_depth = 3, class_weight = 'balanced')\n",
    "# model.fit(tf_idf_train, target_train)\n",
    "# predictions = model.predict(tf_idf_train)\n",
    "# score_forest = f1_score(target_train, predictions)\n",
    "# print('score_forest:', score_forest)"
   ]
  },
  {
   "cell_type": "markdown",
   "metadata": {},
   "source": [
    "<div class=\"alert alert-info\">\n",
    "Рассмотрим модель CatBoost и подберем гиперпараметры</div"
   ]
  },
  {
   "cell_type": "code",
   "execution_count": null,
   "metadata": {
    "scrolled": true
   },
   "outputs": [],
   "source": [
    "%%time\n",
    "\n",
    "model = CatBoostClassifier(random_state=12345)\n",
    "\n",
    "grid = {'learning_rate': [0.01, 0.1]}\n",
    "         #'max_depth': [3, 5]} #, 7]}\n",
    "         #'iterations': [20, 50]}\n",
    "\n",
    "grid_search = GridSearchCV(model, grid, cv=3, scoring = 'f1', verbose=2, n_jobs=-1)\n",
    "grid_search.fit(tf_idf_train, target_train)\n",
    "\n",
    "print('GridSearchCV Best Params:', grid_search.best_params_)"
   ]
  },
  {
   "cell_type": "markdown",
   "metadata": {},
   "source": [
    "<div class=\"alert alert-info\">\n",
    "GridSearchCV Best Params: {'learning_rate': 0.1}\n",
    "CPU times: user 3h 24min 3s, sys: 1min 52s, total: 3h 25min 55s\n",
    "Wall time: 3h 26min 29s</div"
   ]
  },
  {
   "cell_type": "code",
   "execution_count": null,
   "metadata": {},
   "outputs": [],
   "source": [
    "score_catboost = grid_search.best_score_ #(features_train, target_train)\n",
    "score_catboost"
   ]
  },
  {
   "cell_type": "markdown",
   "metadata": {},
   "source": [
    "<div class=\"alert alert-info\">\n",
    "score_catboost = 0.7523463717465341</div"
   ]
  },
  {
   "cell_type": "code",
   "execution_count": null,
   "metadata": {},
   "outputs": [],
   "source": [
    "# %%time\n",
    "# params={'model3__learning_rate': [0.01, 0.1]}\n",
    "#         #'model3__max_depth': [3, 5, 7]}\n",
    "#           #'iterations': [20, 50]}\n",
    "# pipeline = Pipeline([\n",
    "#     ('vect', CountVectorizer(stop_words=stopwords, min_df=40, ngram_range=(1,4))),\n",
    "#     ('tfidf', TfidfTransformer()),\n",
    "#     ('model3', LGBMClassifier(random_state=12345))])\n",
    "# grid = GridSearchCV(pipeline, cv=3, n_jobs=-1, param_grid=params, scoring='f1', verbose=2)"
   ]
  },
  {
   "cell_type": "code",
   "execution_count": null,
   "metadata": {
    "scrolled": true
   },
   "outputs": [],
   "source": [
    "# %%time\n",
    "# grid.fit(features_train, target_train)"
   ]
  },
  {
   "cell_type": "code",
   "execution_count": null,
   "metadata": {},
   "outputs": [],
   "source": [
    "#best_rate = grid.best_estimator_.get_params()['model3__learning_rate']"
   ]
  },
  {
   "cell_type": "code",
   "execution_count": null,
   "metadata": {},
   "outputs": [],
   "source": [
    "# model = CatBoostClassifier(random_state=12345, depth = 7, learning_rate = 0.1)\n",
    "# model.fit(tf_idf_train, target_train, verbose=10)\n",
    "# predictions = model.predict(tf_idf_train)\n",
    "# score_catboost = f1_score(target_train, predictions)\n",
    "# print('score_catboost:', score_catboost)"
   ]
  },
  {
   "cell_type": "markdown",
   "metadata": {},
   "source": [
    "<div class=\"alert alert-info\">\n",
    "Посмотрим, какие метрики получились</div"
   ]
  },
  {
   "cell_type": "code",
   "execution_count": null,
   "metadata": {},
   "outputs": [],
   "source": [
    "scores = [score_logic, score_forest, score_catboost]\n",
    "models = ['LogicticRegression', 'RandomForest', 'CatBoost']"
   ]
  },
  {
   "cell_type": "code",
   "execution_count": null,
   "metadata": {
    "scrolled": true
   },
   "outputs": [],
   "source": [
    "pd.DataFrame(data=scores, index=models, columns=['f1_score']).sort_values(by='f1_score', ascending=True)"
   ]
  },
  {
   "cell_type": "markdown",
   "metadata": {},
   "source": [
    "<div class=\"alert alert-info\">\n",
    "Лучшую метрику rmse показала модель LogicticRegression</div"
   ]
  },
  {
   "cell_type": "markdown",
   "metadata": {},
   "source": [
    "<div class=\"alert alert-info\">\n",
    "Посчитаем метрику для логистической регрессии на тестовой выборке  </div"
   ]
  },
  {
   "cell_type": "code",
   "execution_count": 47,
   "metadata": {},
   "outputs": [
    {
     "data": {
      "text/plain": [
       "0.7707344317229824"
      ]
     },
     "execution_count": 47,
     "metadata": {},
     "output_type": "execute_result"
    }
   ],
   "source": [
    "f1_logic_test = grid1.score(features_test, target_test)\n",
    "f1_logic_test"
   ]
  },
  {
   "cell_type": "markdown",
   "metadata": {},
   "source": [
    "<div class=\"alert alert-info\">\n",
    "f1_logic_test = 0.7707344317229824, что больше 0.75 (условие техзадания)</div"
   ]
  },
  {
   "cell_type": "markdown",
   "metadata": {},
   "source": [
    "## Выводы"
   ]
  },
  {
   "cell_type": "markdown",
   "metadata": {},
   "source": [
    "<div class=\"alert alert-info\">\n",
    "Для того, что искать токсичные комментарии, мы создали в датасете новый столбец с лемматизированными и очищенными текстами.\n",
    "<br>\n",
    "    Затем тексты были векторизированы\n",
    "    <br>\n",
    "    Затем поделены на три подвыборки - тренировочную, валидационную и тестовую\n",
    "    <br>\n",
    "    Были рассмотрены три модели - логистическая регрессия, случайный лес и catboost\n",
    "    <br>\n",
    "    Лучшую метрику f1 показала модель логистической регрессии, на тестовой выборке - 0.7707344317229824\n",
    "</div"
   ]
  }
 ],
 "metadata": {
  "ExecuteTimeLog": [
   {
    "duration": 1924,
    "start_time": "2023-04-28T07:33:32.056Z"
   },
   {
    "duration": 171,
    "start_time": "2023-04-28T07:33:41.928Z"
   },
   {
    "duration": 17,
    "start_time": "2023-04-28T07:33:54.828Z"
   },
   {
    "duration": 791,
    "start_time": "2023-04-28T07:35:16.571Z"
   },
   {
    "duration": 8597,
    "start_time": "2023-04-28T07:37:54.368Z"
   },
   {
    "duration": 16,
    "start_time": "2023-04-28T07:39:18.938Z"
   },
   {
    "duration": 42,
    "start_time": "2023-04-28T07:41:53.568Z"
   },
   {
    "duration": 3161,
    "start_time": "2023-04-28T07:42:15.716Z"
   },
   {
    "duration": 44,
    "start_time": "2023-04-28T07:42:37.860Z"
   },
   {
    "duration": 2975,
    "start_time": "2023-04-28T07:43:01.708Z"
   },
   {
    "duration": 3463,
    "start_time": "2023-04-28T07:44:11.113Z"
   },
   {
    "duration": 881,
    "start_time": "2023-04-28T07:45:41.164Z"
   },
   {
    "duration": 2367,
    "start_time": "2023-04-28T07:45:57.321Z"
   },
   {
    "duration": 3004,
    "start_time": "2023-04-28T07:46:08.736Z"
   },
   {
    "duration": 9,
    "start_time": "2023-04-28T07:46:56.486Z"
   },
   {
    "duration": 38,
    "start_time": "2023-04-28T07:47:03.907Z"
   },
   {
    "duration": 19,
    "start_time": "2023-04-28T07:48:27.966Z"
   },
   {
    "duration": 2784,
    "start_time": "2023-04-28T08:28:40.905Z"
   },
   {
    "duration": 1899,
    "start_time": "2023-04-28T08:28:43.692Z"
   },
   {
    "duration": 1061,
    "start_time": "2023-04-28T08:28:45.593Z"
   },
   {
    "duration": 52,
    "start_time": "2023-04-28T08:28:46.657Z"
   },
   {
    "duration": 841,
    "start_time": "2023-04-28T08:28:46.712Z"
   },
   {
    "duration": 10,
    "start_time": "2023-04-28T08:28:47.555Z"
   },
   {
    "duration": 15,
    "start_time": "2023-04-28T08:29:06.967Z"
   },
   {
    "duration": 3761,
    "start_time": "2023-04-28T08:29:49.554Z"
   },
   {
    "duration": 2749,
    "start_time": "2023-04-28T08:32:26.751Z"
   },
   {
    "duration": 2558,
    "start_time": "2023-04-28T08:32:45.752Z"
   },
   {
    "duration": 135984,
    "start_time": "2023-04-28T08:36:45.280Z"
   },
   {
    "duration": 1049,
    "start_time": "2023-04-28T08:41:57.190Z"
   },
   {
    "duration": 4,
    "start_time": "2023-04-28T08:42:26.592Z"
   },
   {
    "duration": 22,
    "start_time": "2023-04-28T08:44:22.674Z"
   },
   {
    "duration": 4,
    "start_time": "2023-04-28T08:44:26.907Z"
   },
   {
    "duration": 3,
    "start_time": "2023-04-28T08:44:35.495Z"
   },
   {
    "duration": 19,
    "start_time": "2023-04-28T08:44:52.163Z"
   },
   {
    "duration": 29,
    "start_time": "2023-04-28T08:45:02.915Z"
   },
   {
    "duration": 25,
    "start_time": "2023-04-28T08:45:25.385Z"
   },
   {
    "duration": 75,
    "start_time": "2023-04-28T08:46:51.385Z"
   },
   {
    "duration": 803,
    "start_time": "2023-04-28T08:47:10.442Z"
   },
   {
    "duration": 5,
    "start_time": "2023-04-28T08:48:23.040Z"
   },
   {
    "duration": 31,
    "start_time": "2023-04-28T08:48:23.661Z"
   },
   {
    "duration": 748,
    "start_time": "2023-04-28T08:48:41.284Z"
   },
   {
    "duration": 72,
    "start_time": "2023-04-28T08:49:06.685Z"
   },
   {
    "duration": 4,
    "start_time": "2023-04-28T08:49:07.441Z"
   },
   {
    "duration": 953,
    "start_time": "2023-04-28T08:49:08.008Z"
   },
   {
    "duration": 42,
    "start_time": "2023-04-28T08:53:27.806Z"
   },
   {
    "duration": 33,
    "start_time": "2023-04-28T08:54:00.941Z"
   },
   {
    "duration": 6,
    "start_time": "2023-04-28T08:54:08.318Z"
   },
   {
    "duration": 24,
    "start_time": "2023-04-28T08:55:18.536Z"
   },
   {
    "duration": 5,
    "start_time": "2023-04-28T08:55:48.052Z"
   },
   {
    "duration": 6,
    "start_time": "2023-04-28T08:56:04.864Z"
   },
   {
    "duration": 25,
    "start_time": "2023-04-28T08:56:13.705Z"
   },
   {
    "duration": 5,
    "start_time": "2023-04-28T08:57:29.555Z"
   },
   {
    "duration": 5,
    "start_time": "2023-04-28T08:57:34.404Z"
   },
   {
    "duration": 5,
    "start_time": "2023-04-28T09:12:12.167Z"
   },
   {
    "duration": 3,
    "start_time": "2023-04-28T09:16:55.315Z"
   },
   {
    "duration": 7,
    "start_time": "2023-04-28T09:16:55.849Z"
   },
   {
    "duration": 9,
    "start_time": "2023-04-28T09:17:12.036Z"
   },
   {
    "duration": 5,
    "start_time": "2023-04-28T09:17:12.364Z"
   },
   {
    "duration": 2471,
    "start_time": "2023-04-28T09:18:06.424Z"
   },
   {
    "duration": 1871,
    "start_time": "2023-04-28T09:18:08.898Z"
   },
   {
    "duration": 3,
    "start_time": "2023-04-28T09:18:10.771Z"
   },
   {
    "duration": 1010,
    "start_time": "2023-04-28T09:18:10.776Z"
   },
   {
    "duration": 61,
    "start_time": "2023-04-28T09:18:11.788Z"
   },
   {
    "duration": 8,
    "start_time": "2023-04-28T09:18:11.860Z"
   },
   {
    "duration": 36,
    "start_time": "2023-04-28T09:18:18.280Z"
   },
   {
    "duration": 3,
    "start_time": "2023-04-28T09:18:19.965Z"
   },
   {
    "duration": 3,
    "start_time": "2023-04-28T09:18:22.516Z"
   },
   {
    "duration": 869,
    "start_time": "2023-04-28T09:18:25.592Z"
   },
   {
    "duration": 6,
    "start_time": "2023-04-28T09:18:40.552Z"
   },
   {
    "duration": 814,
    "start_time": "2023-04-28T09:18:42.753Z"
   },
   {
    "duration": 160,
    "start_time": "2023-04-28T09:19:40.853Z"
   },
   {
    "duration": 804,
    "start_time": "2023-04-28T09:19:47.556Z"
   },
   {
    "duration": 26,
    "start_time": "2023-04-28T09:19:56.435Z"
   },
   {
    "duration": 91,
    "start_time": "2023-04-28T09:21:00.985Z"
   },
   {
    "duration": 85,
    "start_time": "2023-04-28T09:21:16.914Z"
   },
   {
    "duration": 5,
    "start_time": "2023-04-28T09:21:22.858Z"
   },
   {
    "duration": 2635,
    "start_time": "2023-04-28T09:46:50.038Z"
   },
   {
    "duration": 1927,
    "start_time": "2023-04-28T09:46:52.676Z"
   },
   {
    "duration": 3,
    "start_time": "2023-04-28T09:46:54.605Z"
   },
   {
    "duration": 1013,
    "start_time": "2023-04-28T09:46:54.612Z"
   },
   {
    "duration": 50,
    "start_time": "2023-04-28T09:46:55.627Z"
   },
   {
    "duration": 10,
    "start_time": "2023-04-28T09:46:55.680Z"
   },
   {
    "duration": 62,
    "start_time": "2023-04-28T09:46:55.692Z"
   },
   {
    "duration": 22,
    "start_time": "2023-04-28T09:46:55.758Z"
   },
   {
    "duration": 939,
    "start_time": "2023-04-28T09:46:55.782Z"
   },
   {
    "duration": 4,
    "start_time": "2023-04-28T09:46:56.724Z"
   },
   {
    "duration": 69,
    "start_time": "2023-04-28T09:46:56.730Z"
   },
   {
    "duration": 779,
    "start_time": "2023-04-28T09:47:07.282Z"
   },
   {
    "duration": 8,
    "start_time": "2023-04-28T09:48:00.517Z"
   },
   {
    "duration": 192264,
    "start_time": "2023-04-28T09:48:43.166Z"
   },
   {
    "duration": 3,
    "start_time": "2023-04-28T10:00:06.799Z"
   },
   {
    "duration": 7,
    "start_time": "2023-04-28T10:10:35.926Z"
   },
   {
    "duration": 7644,
    "start_time": "2023-04-28T10:13:24.888Z"
   },
   {
    "duration": 6,
    "start_time": "2023-04-28T10:13:43.526Z"
   },
   {
    "duration": 910,
    "start_time": "2023-04-28T10:13:44.480Z"
   },
   {
    "duration": 63601,
    "start_time": "2023-04-28T10:15:33.578Z"
   },
   {
    "duration": 5,
    "start_time": "2023-04-28T10:19:36.398Z"
   },
   {
    "duration": 604,
    "start_time": "2023-04-28T10:20:05.106Z"
   },
   {
    "duration": 4,
    "start_time": "2023-04-28T10:20:06.508Z"
   },
   {
    "duration": 17,
    "start_time": "2023-04-28T10:20:08.714Z"
   },
   {
    "duration": 1137,
    "start_time": "2023-04-28T10:20:09.537Z"
   },
   {
    "duration": 832116,
    "start_time": "2023-04-28T10:20:21.119Z"
   },
   {
    "duration": 838,
    "start_time": "2023-04-28T10:34:17.507Z"
   },
   {
    "duration": 8091,
    "start_time": "2023-04-28T10:34:30.656Z"
   },
   {
    "duration": 1350930,
    "start_time": "2023-04-28T10:35:46.155Z"
   },
   {
    "duration": 27,
    "start_time": "2023-04-28T10:59:21.107Z"
   },
   {
    "duration": 74,
    "start_time": "2023-04-28T11:08:01.346Z"
   },
   {
    "duration": 34,
    "start_time": "2023-04-28T11:08:05.469Z"
   },
   {
    "duration": 25,
    "start_time": "2023-04-28T11:08:23.382Z"
   },
   {
    "duration": 40,
    "start_time": "2023-04-28T11:08:28.994Z"
   },
   {
    "duration": 42,
    "start_time": "2023-04-28T11:08:34.570Z"
   },
   {
    "duration": 22,
    "start_time": "2023-04-28T11:08:52.183Z"
   },
   {
    "duration": 32,
    "start_time": "2023-04-28T11:09:19.024Z"
   },
   {
    "duration": 35,
    "start_time": "2023-04-28T11:09:26.292Z"
   },
   {
    "duration": 30,
    "start_time": "2023-04-28T11:09:34.676Z"
   },
   {
    "duration": 28,
    "start_time": "2023-04-28T11:13:12.206Z"
   },
   {
    "duration": 10,
    "start_time": "2023-04-28T11:13:44.758Z"
   },
   {
    "duration": 9,
    "start_time": "2023-04-28T11:13:57.397Z"
   },
   {
    "duration": 3023,
    "start_time": "2023-04-28T11:21:40.281Z"
   },
   {
    "duration": 6452,
    "start_time": "2023-04-28T11:21:43.308Z"
   },
   {
    "duration": 3,
    "start_time": "2023-04-28T11:21:49.762Z"
   },
   {
    "duration": 1154,
    "start_time": "2023-04-28T11:21:49.779Z"
   },
   {
    "duration": 69,
    "start_time": "2023-04-28T11:21:50.935Z"
   },
   {
    "duration": 15,
    "start_time": "2023-04-28T11:21:51.007Z"
   },
   {
    "duration": 60,
    "start_time": "2023-04-28T11:21:51.025Z"
   },
   {
    "duration": 29,
    "start_time": "2023-04-28T11:21:51.091Z"
   },
   {
    "duration": 1102,
    "start_time": "2023-04-28T11:21:51.123Z"
   },
   {
    "duration": 5,
    "start_time": "2023-04-28T11:21:52.228Z"
   },
   {
    "duration": 61,
    "start_time": "2023-04-28T11:21:52.245Z"
   },
   {
    "duration": 1117,
    "start_time": "2023-04-28T11:21:52.309Z"
   },
   {
    "duration": 7,
    "start_time": "2023-04-28T11:21:53.429Z"
   },
   {
    "duration": 52,
    "start_time": "2023-04-28T11:21:53.443Z"
   },
   {
    "duration": 917,
    "start_time": "2023-04-28T11:21:53.498Z"
   },
   {
    "duration": 7,
    "start_time": "2023-04-28T11:21:54.417Z"
   },
   {
    "duration": 72,
    "start_time": "2023-04-28T11:21:54.426Z"
   },
   {
    "duration": 1589618,
    "start_time": "2023-04-28T11:21:54.501Z"
   },
   {
    "duration": 16,
    "start_time": "2023-04-28T11:52:01.513Z"
   },
   {
    "duration": 7,
    "start_time": "2023-04-28T11:52:28.075Z"
   },
   {
    "duration": 9,
    "start_time": "2023-04-28T11:52:35.801Z"
   },
   {
    "duration": 122,
    "start_time": "2023-04-28T11:56:58.472Z"
   },
   {
    "duration": 9,
    "start_time": "2023-04-28T11:59:12.003Z"
   },
   {
    "duration": 453,
    "start_time": "2023-04-28T12:04:44.716Z"
   },
   {
    "duration": 28,
    "start_time": "2023-04-28T12:09:44.984Z"
   },
   {
    "duration": 5,
    "start_time": "2023-04-28T12:14:31.407Z"
   },
   {
    "duration": 35,
    "start_time": "2023-04-28T12:14:49.967Z"
   },
   {
    "duration": 12,
    "start_time": "2023-04-28T12:25:20.938Z"
   },
   {
    "duration": 8,
    "start_time": "2023-04-28T12:25:37.787Z"
   },
   {
    "duration": 5,
    "start_time": "2023-04-28T12:25:44.812Z"
   },
   {
    "duration": 44,
    "start_time": "2023-04-28T12:26:19.915Z"
   },
   {
    "duration": 5,
    "start_time": "2023-04-28T12:26:42.181Z"
   },
   {
    "duration": 7,
    "start_time": "2023-04-28T12:26:51.476Z"
   },
   {
    "duration": 15,
    "start_time": "2023-04-28T12:27:01.959Z"
   },
   {
    "duration": 9,
    "start_time": "2023-04-28T12:27:09.788Z"
   },
   {
    "duration": 40,
    "start_time": "2023-04-28T12:27:34.322Z"
   },
   {
    "duration": 7,
    "start_time": "2023-04-28T12:28:00.224Z"
   },
   {
    "duration": 40,
    "start_time": "2023-04-28T12:28:06.692Z"
   },
   {
    "duration": 34,
    "start_time": "2023-04-28T12:35:42.051Z"
   },
   {
    "duration": 27,
    "start_time": "2023-04-28T12:37:02.686Z"
   },
   {
    "duration": 33,
    "start_time": "2023-04-28T12:37:22.725Z"
   },
   {
    "duration": 36,
    "start_time": "2023-04-28T12:37:27.941Z"
   },
   {
    "duration": 5,
    "start_time": "2023-04-28T12:49:57.503Z"
   },
   {
    "duration": 11,
    "start_time": "2023-04-28T12:50:51.560Z"
   },
   {
    "duration": 13,
    "start_time": "2023-04-28T12:50:56.080Z"
   },
   {
    "duration": 42,
    "start_time": "2023-04-28T12:51:03.035Z"
   },
   {
    "duration": 5396,
    "start_time": "2023-04-28T12:51:22.760Z"
   },
   {
    "duration": 49066,
    "start_time": "2023-04-28T12:51:33.303Z"
   },
   {
    "duration": 27,
    "start_time": "2023-04-28T12:55:56.304Z"
   },
   {
    "duration": 88,
    "start_time": "2023-04-28T12:56:50.380Z"
   },
   {
    "duration": 8,
    "start_time": "2023-04-28T12:56:56.108Z"
   },
   {
    "duration": 26,
    "start_time": "2023-04-28T12:57:04.412Z"
   },
   {
    "duration": 31,
    "start_time": "2023-04-28T12:57:18.858Z"
   },
   {
    "duration": 6,
    "start_time": "2023-04-28T12:59:01.579Z"
   },
   {
    "duration": 1618,
    "start_time": "2023-04-28T12:59:03.904Z"
   },
   {
    "duration": 31,
    "start_time": "2023-04-28T12:59:09.280Z"
   },
   {
    "duration": 40,
    "start_time": "2023-04-28T12:59:14.537Z"
   },
   {
    "duration": 31,
    "start_time": "2023-04-28T12:59:23.378Z"
   },
   {
    "duration": 9,
    "start_time": "2023-04-28T12:59:46.009Z"
   },
   {
    "duration": 33,
    "start_time": "2023-04-28T13:00:15.241Z"
   },
   {
    "duration": 33,
    "start_time": "2023-04-28T13:00:25.188Z"
   },
   {
    "duration": 31,
    "start_time": "2023-04-28T13:00:31.580Z"
   },
   {
    "duration": 4,
    "start_time": "2023-04-28T13:00:36.404Z"
   },
   {
    "duration": 16,
    "start_time": "2023-04-28T13:01:47.456Z"
   },
   {
    "duration": 42,
    "start_time": "2023-04-28T13:03:36.583Z"
   },
   {
    "duration": 5,
    "start_time": "2023-04-28T13:09:22.137Z"
   },
   {
    "duration": 7,
    "start_time": "2023-04-28T13:09:40.977Z"
   },
   {
    "duration": 1725,
    "start_time": "2023-04-28T13:09:41.931Z"
   },
   {
    "duration": 4,
    "start_time": "2023-04-28T13:09:45.724Z"
   },
   {
    "duration": 29,
    "start_time": "2023-04-28T13:09:49.486Z"
   },
   {
    "duration": 1483,
    "start_time": "2023-04-28T13:24:17.681Z"
   },
   {
    "duration": 4,
    "start_time": "2023-04-28T13:24:23.258Z"
   },
   {
    "duration": 35,
    "start_time": "2023-04-28T13:24:24.221Z"
   },
   {
    "duration": 29,
    "start_time": "2023-04-28T13:43:02.336Z"
   },
   {
    "duration": 5,
    "start_time": "2023-04-28T13:49:16.338Z"
   },
   {
    "duration": 4,
    "start_time": "2023-04-28T13:49:40.647Z"
   },
   {
    "duration": 41466,
    "start_time": "2023-04-28T13:50:41.481Z"
   },
   {
    "duration": 10,
    "start_time": "2023-04-28T13:52:24.803Z"
   },
   {
    "duration": 1501,
    "start_time": "2023-04-28T13:52:25.850Z"
   },
   {
    "duration": 5,
    "start_time": "2023-04-28T13:52:31.200Z"
   },
   {
    "duration": 29,
    "start_time": "2023-04-28T13:52:33.442Z"
   },
   {
    "duration": 38479,
    "start_time": "2023-04-28T13:55:38.288Z"
   },
   {
    "duration": 14,
    "start_time": "2023-04-28T13:56:18.818Z"
   },
   {
    "duration": 4699,
    "start_time": "2023-04-28T13:56:19.559Z"
   },
   {
    "duration": 41286,
    "start_time": "2023-04-28T13:56:24.261Z"
   },
   {
    "duration": 8,
    "start_time": "2023-04-28T13:58:12.408Z"
   },
   {
    "duration": 1420,
    "start_time": "2023-04-28T13:58:13.267Z"
   },
   {
    "duration": 5,
    "start_time": "2023-04-28T13:58:16.704Z"
   },
   {
    "duration": 9,
    "start_time": "2023-04-28T13:58:19.437Z"
   },
   {
    "duration": 15,
    "start_time": "2023-04-28T13:58:26.585Z"
   },
   {
    "duration": 27,
    "start_time": "2023-04-28T14:09:43.027Z"
   },
   {
    "duration": 30,
    "start_time": "2023-04-28T14:16:38.641Z"
   },
   {
    "duration": 234,
    "start_time": "2023-04-28T14:17:12.942Z"
   },
   {
    "duration": 47,
    "start_time": "2023-04-28T14:17:39.755Z"
   },
   {
    "duration": 57,
    "start_time": "2023-04-28T14:17:56.026Z"
   },
   {
    "duration": 61,
    "start_time": "2023-04-28T14:19:16.855Z"
   },
   {
    "duration": 255107,
    "start_time": "2023-04-28T14:20:34.866Z"
   },
   {
    "duration": 26,
    "start_time": "2023-04-28T14:25:42.686Z"
   },
   {
    "duration": 4,
    "start_time": "2023-04-28T14:30:01.799Z"
   },
   {
    "duration": 37518,
    "start_time": "2023-04-28T14:34:41.940Z"
   },
   {
    "duration": 160517,
    "start_time": "2023-04-28T14:35:25.887Z"
   },
   {
    "duration": 5173933,
    "start_time": "2023-04-28T14:38:19.715Z"
   },
   {
    "duration": 28,
    "start_time": "2023-04-28T16:07:49.538Z"
   },
   {
    "duration": 107201,
    "start_time": "2023-04-28T16:08:42.587Z"
   },
   {
    "duration": 84,
    "start_time": "2023-04-28T16:12:32.899Z"
   },
   {
    "duration": 12193,
    "start_time": "2023-04-28T16:13:03.380Z"
   },
   {
    "duration": 158,
    "start_time": "2023-04-28T16:35:32.820Z"
   },
   {
    "duration": 12413,
    "start_time": "2023-04-28T19:29:10.352Z"
   },
   {
    "duration": 7721,
    "start_time": "2023-04-28T19:29:22.767Z"
   },
   {
    "duration": 6382,
    "start_time": "2023-04-28T19:29:30.492Z"
   },
   {
    "duration": 53,
    "start_time": "2023-04-28T19:29:40.002Z"
   },
   {
    "duration": 3,
    "start_time": "2023-04-28T19:29:45.470Z"
   },
   {
    "duration": 834,
    "start_time": "2023-04-28T19:29:51.641Z"
   },
   {
    "duration": 15,
    "start_time": "2023-04-28T19:29:53.620Z"
   },
   {
    "duration": 1102199,
    "start_time": "2023-04-28T19:29:55.106Z"
   },
   {
    "duration": 20,
    "start_time": "2023-04-28T19:48:17.314Z"
   },
   {
    "duration": 26,
    "start_time": "2023-04-28T19:48:17.335Z"
   },
   {
    "duration": 8,
    "start_time": "2023-04-28T19:49:42.543Z"
   },
   {
    "duration": 94,
    "start_time": "2023-04-28T19:49:47.428Z"
   },
   {
    "duration": 21,
    "start_time": "2023-04-28T19:49:49.280Z"
   },
   {
    "duration": 5,
    "start_time": "2023-04-28T19:50:12.133Z"
   },
   {
    "duration": 6,
    "start_time": "2023-04-28T19:50:16.131Z"
   },
   {
    "duration": 16,
    "start_time": "2023-04-28T19:50:18.022Z"
   },
   {
    "duration": 5387,
    "start_time": "2023-04-28T19:50:20.520Z"
   },
   {
    "duration": 7,
    "start_time": "2023-04-28T19:50:32.281Z"
   },
   {
    "duration": 1582,
    "start_time": "2023-04-28T19:50:33.870Z"
   },
   {
    "duration": 9,
    "start_time": "2023-04-28T19:55:17.675Z"
   },
   {
    "duration": 10730,
    "start_time": "2023-04-28T19:55:17.688Z"
   },
   {
    "duration": 84620,
    "start_time": "2023-04-28T19:56:12.578Z"
   },
   {
    "duration": 5249765,
    "start_time": "2023-04-28T19:58:37.657Z"
   },
   {
    "duration": 26544,
    "start_time": "2023-04-28T21:29:05.676Z"
   },
   {
    "duration": 1013248,
    "start_time": "2023-04-28T21:30:23.586Z"
   },
   {
    "duration": 33595,
    "start_time": "2023-04-28T21:47:42.724Z"
   },
   {
    "duration": 593986,
    "start_time": "2023-04-28T21:48:19.536Z"
   },
   {
    "duration": 2,
    "start_time": "2023-04-28T21:58:57.636Z"
   },
   {
    "duration": 40,
    "start_time": "2023-04-28T21:58:58.609Z"
   },
   {
    "duration": 6,
    "start_time": "2023-04-28T21:59:18.078Z"
   },
   {
    "duration": 1313,
    "start_time": "2023-04-28T21:59:18.916Z"
   },
   {
    "duration": 168663,
    "start_time": "2023-04-28T21:59:25.375Z"
   },
   {
    "duration": 0,
    "start_time": "2023-04-28T22:03:27.075Z"
   },
   {
    "duration": 577794,
    "start_time": "2023-04-28T22:03:36.952Z"
   },
   {
    "duration": 5,
    "start_time": "2023-04-28T22:19:13.985Z"
   },
   {
    "duration": 527639,
    "start_time": "2023-04-28T22:19:24.361Z"
   },
   {
    "duration": 0,
    "start_time": "2023-04-28T22:28:12.002Z"
   },
   {
    "duration": 62,
    "start_time": "2023-04-28T22:28:43.381Z"
   },
   {
    "duration": 93032,
    "start_time": "2023-04-28T22:28:53.769Z"
   },
   {
    "duration": 3548,
    "start_time": "2023-04-28T22:31:43.484Z"
   },
   {
    "duration": 3598,
    "start_time": "2023-04-28T22:32:04.505Z"
   },
   {
    "duration": 4,
    "start_time": "2023-04-28T22:33:53.973Z"
   },
   {
    "duration": 64159,
    "start_time": "2023-04-28T22:35:44.104Z"
   },
   {
    "duration": 465,
    "start_time": "2023-04-28T22:38:08.953Z"
   },
   {
    "duration": 21,
    "start_time": "2023-04-28T22:39:21.906Z"
   },
   {
    "duration": 119182,
    "start_time": "2023-04-28T22:39:33.043Z"
   },
   {
    "duration": 2160374,
    "start_time": "2023-04-28T22:41:50.502Z"
   },
   {
    "duration": 36,
    "start_time": "2023-04-29T02:22:10.531Z"
   },
   {
    "duration": 17,
    "start_time": "2023-04-29T02:22:44.951Z"
   },
   {
    "duration": 570891,
    "start_time": "2023-04-29T02:24:14.040Z"
   },
   {
    "duration": 573532,
    "start_time": "2023-04-29T02:34:53.891Z"
   },
   {
    "duration": 3,
    "start_time": "2023-04-29T03:15:30.822Z"
   },
   {
    "duration": 573339,
    "start_time": "2023-04-29T03:15:37.939Z"
   },
   {
    "duration": 8111,
    "start_time": "2023-04-29T19:22:30.821Z"
   },
   {
    "duration": 4103,
    "start_time": "2023-04-29T19:29:38.909Z"
   },
   {
    "duration": 3074,
    "start_time": "2023-04-29T19:31:43.988Z"
   },
   {
    "duration": 1965,
    "start_time": "2023-04-29T19:32:02.907Z"
   },
   {
    "duration": 4048,
    "start_time": "2023-04-29T19:32:04.874Z"
   },
   {
    "duration": 753,
    "start_time": "2023-04-29T19:33:39.539Z"
   },
   {
    "duration": 31,
    "start_time": "2023-04-29T19:40:26.059Z"
   },
   {
    "duration": 3,
    "start_time": "2023-04-29T19:48:46.230Z"
   },
   {
    "duration": 531,
    "start_time": "2023-04-29T19:48:49.529Z"
   },
   {
    "duration": 4,
    "start_time": "2023-04-29T19:48:52.649Z"
   },
   {
    "duration": 1012046,
    "start_time": "2023-04-29T19:49:07.813Z"
   },
   {
    "duration": 12,
    "start_time": "2023-04-29T20:06:42.669Z"
   },
   {
    "duration": 6,
    "start_time": "2023-04-29T20:07:00.613Z"
   },
   {
    "duration": 55,
    "start_time": "2023-04-29T20:12:43.625Z"
   },
   {
    "duration": 351,
    "start_time": "2023-04-29T20:17:07.015Z"
   },
   {
    "duration": 14,
    "start_time": "2023-04-29T20:25:59.093Z"
   },
   {
    "duration": 6,
    "start_time": "2023-04-29T20:26:03.485Z"
   },
   {
    "duration": 5,
    "start_time": "2023-04-29T20:26:20.850Z"
   },
   {
    "duration": 6,
    "start_time": "2023-04-29T20:26:30.824Z"
   },
   {
    "duration": 10,
    "start_time": "2023-04-29T20:26:49.212Z"
   },
   {
    "duration": 11,
    "start_time": "2023-04-29T20:26:58.710Z"
   },
   {
    "duration": 4,
    "start_time": "2023-04-29T20:32:35.237Z"
   },
   {
    "duration": 2,
    "start_time": "2023-04-29T20:33:16.157Z"
   },
   {
    "duration": 60,
    "start_time": "2023-04-29T20:35:24.530Z"
   },
   {
    "duration": 3,
    "start_time": "2023-04-29T20:35:57.579Z"
   },
   {
    "duration": 3,
    "start_time": "2023-04-29T20:36:06.229Z"
   },
   {
    "duration": 56,
    "start_time": "2023-04-29T20:36:06.909Z"
   },
   {
    "duration": 58,
    "start_time": "2023-04-29T20:36:55.346Z"
   },
   {
    "duration": 4,
    "start_time": "2023-04-29T20:37:23.969Z"
   },
   {
    "duration": 5,
    "start_time": "2023-04-29T20:37:24.508Z"
   },
   {
    "duration": 19,
    "start_time": "2023-04-29T20:54:36.549Z"
   },
   {
    "duration": 6229,
    "start_time": "2023-04-29T20:54:42.027Z"
   },
   {
    "duration": 662,
    "start_time": "2023-04-29T20:54:56.009Z"
   },
   {
    "duration": 4,
    "start_time": "2023-04-29T20:57:47.372Z"
   },
   {
    "duration": 6939,
    "start_time": "2023-04-30T12:00:44.487Z"
   },
   {
    "duration": 7578,
    "start_time": "2023-04-30T12:00:51.429Z"
   },
   {
    "duration": 3594,
    "start_time": "2023-04-30T12:00:59.009Z"
   },
   {
    "duration": 31,
    "start_time": "2023-04-30T12:01:02.604Z"
   },
   {
    "duration": 3,
    "start_time": "2023-04-30T12:01:02.638Z"
   },
   {
    "duration": 685,
    "start_time": "2023-04-30T12:01:02.642Z"
   },
   {
    "duration": 5,
    "start_time": "2023-04-30T12:01:03.329Z"
   },
   {
    "duration": 1037493,
    "start_time": "2023-04-30T12:01:03.335Z"
   },
   {
    "duration": 14,
    "start_time": "2023-04-30T12:18:20.830Z"
   },
   {
    "duration": 7,
    "start_time": "2023-04-30T12:18:20.847Z"
   },
   {
    "duration": 4,
    "start_time": "2023-04-30T12:18:20.857Z"
   },
   {
    "duration": 26,
    "start_time": "2023-04-30T12:18:20.862Z"
   },
   {
    "duration": 9,
    "start_time": "2023-04-30T12:18:20.889Z"
   },
   {
    "duration": 63,
    "start_time": "2023-04-30T12:18:20.901Z"
   },
   {
    "duration": 5,
    "start_time": "2023-04-30T12:18:40.627Z"
   },
   {
    "duration": 7253,
    "start_time": "2023-04-30T12:18:43.023Z"
   },
   {
    "duration": 764,
    "start_time": "2023-04-30T12:19:14.517Z"
   },
   {
    "duration": 6,
    "start_time": "2023-04-30T12:25:43.157Z"
   },
   {
    "duration": 390,
    "start_time": "2023-04-30T12:30:31.127Z"
   },
   {
    "duration": 26,
    "start_time": "2023-04-30T12:30:45.637Z"
   },
   {
    "duration": 5987,
    "start_time": "2023-04-30T14:53:41.440Z"
   },
   {
    "duration": 4537,
    "start_time": "2023-04-30T14:53:47.429Z"
   },
   {
    "duration": 2410,
    "start_time": "2023-04-30T14:53:51.969Z"
   },
   {
    "duration": 23,
    "start_time": "2023-04-30T14:53:57.444Z"
   },
   {
    "duration": 3,
    "start_time": "2023-04-30T14:54:00.941Z"
   },
   {
    "duration": 561,
    "start_time": "2023-04-30T14:54:03.700Z"
   },
   {
    "duration": 4,
    "start_time": "2023-04-30T14:54:19.860Z"
   },
   {
    "duration": 428,
    "start_time": "2023-04-30T14:54:23.375Z"
   },
   {
    "duration": 19747,
    "start_time": "2023-04-30T14:55:50.839Z"
   },
   {
    "duration": 772830,
    "start_time": "2023-04-30T14:59:03.538Z"
   },
   {
    "duration": 11,
    "start_time": "2023-04-30T15:12:33.332Z"
   },
   {
    "duration": 18,
    "start_time": "2023-04-30T15:12:38.931Z"
   },
   {
    "duration": 4,
    "start_time": "2023-04-30T15:12:45.198Z"
   },
   {
    "duration": 14,
    "start_time": "2023-04-30T15:13:36.743Z"
   },
   {
    "duration": 4,
    "start_time": "2023-04-30T15:13:46.081Z"
   },
   {
    "duration": 3,
    "start_time": "2023-04-30T15:16:14.097Z"
   },
   {
    "duration": 7,
    "start_time": "2023-04-30T15:17:10.131Z"
   },
   {
    "duration": 179,
    "start_time": "2023-04-30T15:18:35.424Z"
   },
   {
    "duration": 33,
    "start_time": "2023-04-30T15:18:56.789Z"
   },
   {
    "duration": 930,
    "start_time": "2023-04-30T15:19:03.142Z"
   },
   {
    "duration": 588,
    "start_time": "2023-04-30T15:23:31.834Z"
   },
   {
    "duration": 576,
    "start_time": "2023-04-30T15:23:40.444Z"
   },
   {
    "duration": 4,
    "start_time": "2023-04-30T15:24:45.263Z"
   },
   {
    "duration": 587,
    "start_time": "2023-04-30T15:24:57.810Z"
   },
   {
    "duration": 193,
    "start_time": "2023-04-30T15:25:16.067Z"
   },
   {
    "duration": 587,
    "start_time": "2023-04-30T15:27:25.033Z"
   },
   {
    "duration": 107,
    "start_time": "2023-04-30T15:36:37.141Z"
   },
   {
    "duration": 7788,
    "start_time": "2023-04-30T17:03:23.721Z"
   },
   {
    "duration": 5119,
    "start_time": "2023-04-30T17:03:31.512Z"
   },
   {
    "duration": 2633,
    "start_time": "2023-04-30T17:03:36.633Z"
   },
   {
    "duration": 42,
    "start_time": "2023-04-30T17:03:39.268Z"
   },
   {
    "duration": 5,
    "start_time": "2023-04-30T17:03:39.313Z"
   },
   {
    "duration": 601,
    "start_time": "2023-04-30T17:03:39.320Z"
   },
   {
    "duration": 4,
    "start_time": "2023-04-30T17:03:39.923Z"
   },
   {
    "duration": 407,
    "start_time": "2023-04-30T17:03:39.929Z"
   },
   {
    "duration": 0,
    "start_time": "2023-04-30T17:03:40.339Z"
   },
   {
    "duration": 0,
    "start_time": "2023-04-30T17:03:40.340Z"
   },
   {
    "duration": 0,
    "start_time": "2023-04-30T17:03:40.342Z"
   },
   {
    "duration": 0,
    "start_time": "2023-04-30T17:03:40.343Z"
   },
   {
    "duration": 0,
    "start_time": "2023-04-30T17:03:40.345Z"
   },
   {
    "duration": 0,
    "start_time": "2023-04-30T17:03:40.346Z"
   },
   {
    "duration": 0,
    "start_time": "2023-04-30T17:03:40.347Z"
   },
   {
    "duration": 0,
    "start_time": "2023-04-30T17:03:40.348Z"
   },
   {
    "duration": 0,
    "start_time": "2023-04-30T17:03:40.349Z"
   },
   {
    "duration": 0,
    "start_time": "2023-04-30T17:03:40.351Z"
   },
   {
    "duration": 0,
    "start_time": "2023-04-30T17:03:40.352Z"
   },
   {
    "duration": 0,
    "start_time": "2023-04-30T17:03:40.353Z"
   },
   {
    "duration": 0,
    "start_time": "2023-04-30T17:03:40.354Z"
   },
   {
    "duration": 0,
    "start_time": "2023-04-30T17:03:40.355Z"
   },
   {
    "duration": 0,
    "start_time": "2023-04-30T17:03:40.383Z"
   },
   {
    "duration": 0,
    "start_time": "2023-04-30T17:03:40.390Z"
   },
   {
    "duration": 0,
    "start_time": "2023-04-30T17:03:40.391Z"
   },
   {
    "duration": 0,
    "start_time": "2023-04-30T17:03:40.392Z"
   },
   {
    "duration": 18,
    "start_time": "2023-04-30T17:06:45.445Z"
   },
   {
    "duration": 19,
    "start_time": "2023-04-30T17:07:00.323Z"
   },
   {
    "duration": 12,
    "start_time": "2023-04-30T17:10:35.119Z"
   },
   {
    "duration": 2,
    "start_time": "2023-04-30T17:10:56.534Z"
   },
   {
    "duration": 108,
    "start_time": "2023-04-30T17:11:28.600Z"
   },
   {
    "duration": 2070,
    "start_time": "2023-04-30T17:21:07.139Z"
   },
   {
    "duration": 4909,
    "start_time": "2023-04-30T17:21:09.212Z"
   },
   {
    "duration": 2182,
    "start_time": "2023-04-30T17:21:14.123Z"
   },
   {
    "duration": 29,
    "start_time": "2023-04-30T17:21:16.306Z"
   },
   {
    "duration": 6,
    "start_time": "2023-04-30T17:21:16.337Z"
   },
   {
    "duration": 467,
    "start_time": "2023-04-30T17:21:16.344Z"
   },
   {
    "duration": 4,
    "start_time": "2023-04-30T17:21:16.813Z"
   },
   {
    "duration": 13,
    "start_time": "2023-04-30T17:21:16.818Z"
   },
   {
    "duration": 413,
    "start_time": "2023-04-30T17:21:16.832Z"
   },
   {
    "duration": 17,
    "start_time": "2023-04-30T17:21:17.246Z"
   },
   {
    "duration": 958146,
    "start_time": "2023-04-30T17:21:29.209Z"
   },
   {
    "duration": 11,
    "start_time": "2023-04-30T17:38:11.722Z"
   },
   {
    "duration": 172,
    "start_time": "2023-04-30T17:48:53.470Z"
   },
   {
    "duration": 54,
    "start_time": "2023-04-30T17:48:56.281Z"
   },
   {
    "duration": 150,
    "start_time": "2023-04-30T17:58:25.809Z"
   },
   {
    "duration": 36,
    "start_time": "2023-04-30T17:58:45.393Z"
   },
   {
    "duration": 758,
    "start_time": "2023-04-30T18:00:16.818Z"
   },
   {
    "duration": 196,
    "start_time": "2023-04-30T18:08:52.200Z"
   },
   {
    "duration": 704,
    "start_time": "2023-04-30T18:09:10.608Z"
   },
   {
    "duration": 305,
    "start_time": "2023-04-30T18:09:20.942Z"
   },
   {
    "duration": 18,
    "start_time": "2023-04-30T18:20:18.807Z"
   },
   {
    "duration": 6,
    "start_time": "2023-04-30T18:21:58.542Z"
   },
   {
    "duration": 4,
    "start_time": "2023-04-30T18:22:41.542Z"
   },
   {
    "duration": 6,
    "start_time": "2023-04-30T18:23:21.642Z"
   },
   {
    "duration": 11,
    "start_time": "2023-04-30T18:24:56.224Z"
   },
   {
    "duration": 56,
    "start_time": "2023-04-30T18:27:39.747Z"
   },
   {
    "duration": 18,
    "start_time": "2023-04-30T18:27:54.783Z"
   },
   {
    "duration": 48,
    "start_time": "2023-04-30T18:28:06.933Z"
   },
   {
    "duration": 3,
    "start_time": "2023-04-30T18:30:01.042Z"
   },
   {
    "duration": 3,
    "start_time": "2023-04-30T18:30:06.433Z"
   },
   {
    "duration": 8175,
    "start_time": "2023-04-30T18:30:19.673Z"
   },
   {
    "duration": 7836,
    "start_time": "2023-04-30T18:31:35.502Z"
   },
   {
    "duration": 10,
    "start_time": "2023-04-30T18:32:52.502Z"
   },
   {
    "duration": 26,
    "start_time": "2023-04-30T18:33:00.907Z"
   },
   {
    "duration": 8,
    "start_time": "2023-04-30T18:33:10.352Z"
   },
   {
    "duration": 17,
    "start_time": "2023-04-30T18:33:21.424Z"
   },
   {
    "duration": 16,
    "start_time": "2023-04-30T18:33:28.640Z"
   },
   {
    "duration": 21,
    "start_time": "2023-04-30T18:33:33.228Z"
   },
   {
    "duration": 4,
    "start_time": "2023-04-30T18:33:43.642Z"
   },
   {
    "duration": 8,
    "start_time": "2023-04-30T18:34:41.190Z"
   },
   {
    "duration": 190,
    "start_time": "2023-04-30T18:35:27.349Z"
   },
   {
    "duration": 24,
    "start_time": "2023-04-30T18:36:14.315Z"
   },
   {
    "duration": 40,
    "start_time": "2023-04-30T18:38:56.034Z"
   },
   {
    "duration": 188,
    "start_time": "2023-04-30T18:39:10.922Z"
   },
   {
    "duration": 11,
    "start_time": "2023-04-30T18:46:57.943Z"
   },
   {
    "duration": 4,
    "start_time": "2023-04-30T18:47:32.691Z"
   },
   {
    "duration": 19,
    "start_time": "2023-04-30T18:47:38.176Z"
   },
   {
    "duration": 196,
    "start_time": "2023-04-30T18:48:50.715Z"
   },
   {
    "duration": 123,
    "start_time": "2023-04-30T18:49:30.988Z"
   },
   {
    "duration": 36,
    "start_time": "2023-04-30T18:49:34.259Z"
   },
   {
    "duration": 190,
    "start_time": "2023-04-30T18:49:52.977Z"
   },
   {
    "duration": 22,
    "start_time": "2023-04-30T18:50:02.052Z"
   },
   {
    "duration": 36,
    "start_time": "2023-04-30T19:11:20.857Z"
   },
   {
    "duration": 5,
    "start_time": "2023-04-30T19:11:36.352Z"
   },
   {
    "duration": 3,
    "start_time": "2023-04-30T19:13:03.412Z"
   },
   {
    "duration": 23,
    "start_time": "2023-04-30T19:13:49.291Z"
   },
   {
    "duration": 5,
    "start_time": "2023-04-30T19:15:13.628Z"
   },
   {
    "duration": 4,
    "start_time": "2023-04-30T19:16:23.839Z"
   },
   {
    "duration": 3,
    "start_time": "2023-04-30T19:18:18.431Z"
   },
   {
    "duration": 40,
    "start_time": "2023-04-30T19:18:38.008Z"
   },
   {
    "duration": 3,
    "start_time": "2023-04-30T19:47:59.475Z"
   },
   {
    "duration": 5,
    "start_time": "2023-04-30T19:48:28.522Z"
   },
   {
    "duration": 190,
    "start_time": "2023-04-30T19:49:01.157Z"
   },
   {
    "duration": 6,
    "start_time": "2023-04-30T20:07:06.902Z"
   },
   {
    "duration": 5,
    "start_time": "2023-04-30T20:07:09.652Z"
   },
   {
    "duration": 6676,
    "start_time": "2023-04-30T20:07:18.955Z"
   },
   {
    "duration": 6245,
    "start_time": "2023-04-30T20:07:32.111Z"
   },
   {
    "duration": 191,
    "start_time": "2023-04-30T20:07:43.152Z"
   },
   {
    "duration": 3,
    "start_time": "2023-04-30T20:07:58.953Z"
   },
   {
    "duration": 35,
    "start_time": "2023-04-30T20:08:08.772Z"
   },
   {
    "duration": 985,
    "start_time": "2023-04-30T20:08:19.212Z"
   },
   {
    "duration": 4,
    "start_time": "2023-04-30T20:08:39.713Z"
   },
   {
    "duration": 34,
    "start_time": "2023-04-30T20:08:40.580Z"
   },
   {
    "duration": 4,
    "start_time": "2023-04-30T20:30:27.595Z"
   },
   {
    "duration": 4,
    "start_time": "2023-04-30T20:30:29.262Z"
   },
   {
    "duration": 43,
    "start_time": "2023-04-30T20:30:29.927Z"
   },
   {
    "duration": 4,
    "start_time": "2023-04-30T20:30:31.063Z"
   },
   {
    "duration": 2,
    "start_time": "2023-04-30T20:30:32.811Z"
   },
   {
    "duration": 7189,
    "start_time": "2023-04-30T20:30:33.469Z"
   },
   {
    "duration": 6703,
    "start_time": "2023-04-30T20:30:40.661Z"
   },
   {
    "duration": 223,
    "start_time": "2023-04-30T20:30:47.367Z"
   },
   {
    "duration": 3,
    "start_time": "2023-04-30T20:31:43.710Z"
   },
   {
    "duration": 26,
    "start_time": "2023-04-30T20:33:13.193Z"
   },
   {
    "duration": 6718,
    "start_time": "2023-05-01T16:41:52.857Z"
   },
   {
    "duration": 4772,
    "start_time": "2023-05-01T16:41:59.577Z"
   },
   {
    "duration": 2228,
    "start_time": "2023-05-01T16:42:04.350Z"
   },
   {
    "duration": 23,
    "start_time": "2023-05-01T16:42:06.580Z"
   },
   {
    "duration": 2,
    "start_time": "2023-05-01T16:42:06.606Z"
   },
   {
    "duration": 566,
    "start_time": "2023-05-01T16:42:06.610Z"
   },
   {
    "duration": 4,
    "start_time": "2023-05-01T16:42:07.177Z"
   },
   {
    "duration": 4,
    "start_time": "2023-05-01T16:42:07.182Z"
   },
   {
    "duration": 762357,
    "start_time": "2023-05-01T16:42:07.188Z"
   },
   {
    "duration": 10,
    "start_time": "2023-05-01T16:54:49.547Z"
   },
   {
    "duration": 47,
    "start_time": "2023-05-01T16:54:49.558Z"
   },
   {
    "duration": 3,
    "start_time": "2023-05-01T16:54:49.606Z"
   },
   {
    "duration": 3,
    "start_time": "2023-05-01T16:54:49.610Z"
   },
   {
    "duration": 4,
    "start_time": "2023-05-01T16:54:49.615Z"
   },
   {
    "duration": 4,
    "start_time": "2023-05-01T16:54:49.620Z"
   },
   {
    "duration": 5813,
    "start_time": "2023-05-01T16:54:49.625Z"
   },
   {
    "duration": 5506,
    "start_time": "2023-05-01T16:54:55.439Z"
   },
   {
    "duration": 115,
    "start_time": "2023-05-01T16:55:00.947Z"
   },
   {
    "duration": 26,
    "start_time": "2023-05-01T16:55:01.071Z"
   },
   {
    "duration": 316,
    "start_time": "2023-05-01T17:01:59.807Z"
   },
   {
    "duration": 37,
    "start_time": "2023-05-01T17:02:58.479Z"
   },
   {
    "duration": 6,
    "start_time": "2023-05-01T17:07:17.444Z"
   },
   {
    "duration": 15,
    "start_time": "2023-05-01T17:07:34.195Z"
   },
   {
    "duration": 22,
    "start_time": "2023-05-01T17:07:42.635Z"
   },
   {
    "duration": 5,
    "start_time": "2023-05-01T17:08:06.038Z"
   },
   {
    "duration": 14,
    "start_time": "2023-05-01T17:11:03.409Z"
   },
   {
    "duration": 3,
    "start_time": "2023-05-01T21:00:22.440Z"
   },
   {
    "duration": 32,
    "start_time": "2023-05-01T21:00:57.984Z"
   },
   {
    "duration": 2,
    "start_time": "2023-05-01T21:01:34.930Z"
   },
   {
    "duration": 25,
    "start_time": "2023-05-01T21:01:35.652Z"
   },
   {
    "duration": 9989,
    "start_time": "2023-05-02T06:34:57.944Z"
   },
   {
    "duration": 6416,
    "start_time": "2023-05-02T06:35:07.935Z"
   },
   {
    "duration": 3058,
    "start_time": "2023-05-02T06:35:14.353Z"
   },
   {
    "duration": 33,
    "start_time": "2023-05-02T06:35:17.413Z"
   },
   {
    "duration": 3,
    "start_time": "2023-05-02T06:35:17.447Z"
   },
   {
    "duration": 669,
    "start_time": "2023-05-02T06:35:17.451Z"
   },
   {
    "duration": 3,
    "start_time": "2023-05-02T06:35:18.122Z"
   },
   {
    "duration": 13,
    "start_time": "2023-05-02T06:35:18.126Z"
   },
   {
    "duration": 45,
    "start_time": "2023-05-02T06:35:18.141Z"
   },
   {
    "duration": 0,
    "start_time": "2023-05-02T06:35:18.188Z"
   },
   {
    "duration": 0,
    "start_time": "2023-05-02T06:35:18.190Z"
   },
   {
    "duration": 0,
    "start_time": "2023-05-02T06:35:18.191Z"
   },
   {
    "duration": 0,
    "start_time": "2023-05-02T06:35:18.192Z"
   },
   {
    "duration": 0,
    "start_time": "2023-05-02T06:35:18.194Z"
   },
   {
    "duration": 0,
    "start_time": "2023-05-02T06:35:18.195Z"
   },
   {
    "duration": 0,
    "start_time": "2023-05-02T06:35:18.196Z"
   },
   {
    "duration": 1156297,
    "start_time": "2023-05-02T06:35:55.239Z"
   },
   {
    "duration": 12,
    "start_time": "2023-05-02T06:55:11.538Z"
   },
   {
    "duration": 3,
    "start_time": "2023-05-02T07:00:57.677Z"
   },
   {
    "duration": 5,
    "start_time": "2023-05-02T07:01:00.147Z"
   },
   {
    "duration": 8344,
    "start_time": "2023-05-02T07:01:10.045Z"
   },
   {
    "duration": 8000,
    "start_time": "2023-05-02T07:01:18.392Z"
   },
   {
    "duration": 210,
    "start_time": "2023-05-02T07:01:52.121Z"
   },
   {
    "duration": 452,
    "start_time": "2023-05-02T07:02:02.727Z"
   },
   {
    "duration": 3,
    "start_time": "2023-05-02T07:02:10.989Z"
   },
   {
    "duration": 227,
    "start_time": "2023-05-02T07:02:28.990Z"
   },
   {
    "duration": 9,
    "start_time": "2023-05-02T07:03:46.561Z"
   },
   {
    "duration": 4,
    "start_time": "2023-05-02T07:03:49.819Z"
   },
   {
    "duration": 637,
    "start_time": "2023-05-02T07:04:14.123Z"
   },
   {
    "duration": 530,
    "start_time": "2023-05-02T07:04:18.625Z"
   },
   {
    "duration": 35,
    "start_time": "2023-05-02T07:04:21.831Z"
   },
   {
    "duration": 19,
    "start_time": "2023-05-02T07:35:26.222Z"
   },
   {
    "duration": 43,
    "start_time": "2023-05-02T07:35:32.814Z"
   },
   {
    "duration": 24,
    "start_time": "2023-05-02T07:36:57.739Z"
   },
   {
    "duration": 8,
    "start_time": "2023-05-02T07:37:00.415Z"
   },
   {
    "duration": 242,
    "start_time": "2023-05-02T07:37:20.839Z"
   },
   {
    "duration": 231,
    "start_time": "2023-05-02T07:37:36.156Z"
   },
   {
    "duration": 19,
    "start_time": "2023-05-02T07:38:15.320Z"
   },
   {
    "duration": 6300,
    "start_time": "2023-05-02T07:39:57.241Z"
   },
   {
    "duration": 186,
    "start_time": "2023-05-02T07:40:33.289Z"
   },
   {
    "duration": 340,
    "start_time": "2023-05-02T07:40:48.145Z"
   },
   {
    "duration": 311,
    "start_time": "2023-05-02T07:41:12.959Z"
   },
   {
    "duration": 7,
    "start_time": "2023-05-02T07:45:35.119Z"
   },
   {
    "duration": 4,
    "start_time": "2023-05-02T07:47:13.419Z"
   },
   {
    "duration": 611,
    "start_time": "2023-05-02T07:48:16.239Z"
   },
   {
    "duration": 872,
    "start_time": "2023-05-02T07:48:20.057Z"
   },
   {
    "duration": 3,
    "start_time": "2023-05-02T07:49:22.043Z"
   },
   {
    "duration": 3,
    "start_time": "2023-05-02T07:55:16.119Z"
   },
   {
    "duration": 5,
    "start_time": "2023-05-02T07:55:20.922Z"
   },
   {
    "duration": 4,
    "start_time": "2023-05-02T07:55:30.920Z"
   },
   {
    "duration": 24,
    "start_time": "2023-05-02T07:55:44.167Z"
   },
   {
    "duration": 3,
    "start_time": "2023-05-02T08:00:16.997Z"
   },
   {
    "duration": 2,
    "start_time": "2023-05-02T08:00:17.538Z"
   },
   {
    "duration": 2,
    "start_time": "2023-05-02T08:00:18.424Z"
   },
   {
    "duration": 83,
    "start_time": "2023-05-02T08:00:18.928Z"
   },
   {
    "duration": 3,
    "start_time": "2023-05-02T08:03:17.671Z"
   },
   {
    "duration": 2,
    "start_time": "2023-05-02T08:03:18.515Z"
   },
   {
    "duration": 6045,
    "start_time": "2023-05-02T08:03:19.315Z"
   },
   {
    "duration": 23,
    "start_time": "2023-05-02T08:04:31.438Z"
   },
   {
    "duration": 38543,
    "start_time": "2023-05-02T08:05:29.719Z"
   },
   {
    "duration": 2027,
    "start_time": "2023-05-02T08:38:50.354Z"
   },
   {
    "duration": 9222,
    "start_time": "2023-05-02T08:38:58.066Z"
   },
   {
    "duration": 3052,
    "start_time": "2023-05-02T08:39:07.291Z"
   },
   {
    "duration": 31,
    "start_time": "2023-05-02T08:39:10.345Z"
   },
   {
    "duration": 3,
    "start_time": "2023-05-02T08:39:10.378Z"
   },
   {
    "duration": 659,
    "start_time": "2023-05-02T08:39:10.382Z"
   },
   {
    "duration": 5,
    "start_time": "2023-05-02T08:39:11.042Z"
   },
   {
    "duration": 4,
    "start_time": "2023-05-02T08:39:14.848Z"
   },
   {
    "duration": 2,
    "start_time": "2023-05-02T08:39:15.435Z"
   },
   {
    "duration": 3,
    "start_time": "2023-05-02T08:39:18.405Z"
   },
   {
    "duration": 1024579,
    "start_time": "2023-05-02T08:39:19.825Z"
   },
   {
    "duration": 12,
    "start_time": "2023-05-02T08:56:24.407Z"
   },
   {
    "duration": 6315,
    "start_time": "2023-05-02T08:56:37.965Z"
   },
   {
    "duration": 2403,
    "start_time": "2023-05-02T09:01:38.260Z"
   },
   {
    "duration": 356,
    "start_time": "2023-05-02T09:01:49.321Z"
   },
   {
    "duration": 25,
    "start_time": "2023-05-02T09:01:54.184Z"
   },
   {
    "duration": 2271,
    "start_time": "2023-05-02T09:02:23.221Z"
   },
   {
    "duration": 12,
    "start_time": "2023-05-02T09:02:25.494Z"
   },
   {
    "duration": 12,
    "start_time": "2023-05-02T09:02:47.430Z"
   },
   {
    "duration": 2197,
    "start_time": "2023-05-02T09:02:53.337Z"
   },
   {
    "duration": 11,
    "start_time": "2023-05-02T09:02:56.122Z"
   },
   {
    "duration": 2,
    "start_time": "2023-05-02T09:03:07.488Z"
   },
   {
    "duration": 10,
    "start_time": "2023-05-02T09:03:08.015Z"
   },
   {
    "duration": 4,
    "start_time": "2023-05-02T09:03:08.519Z"
   },
   {
    "duration": 389,
    "start_time": "2023-05-02T09:03:09.218Z"
   },
   {
    "duration": 0,
    "start_time": "2023-05-02T09:03:09.609Z"
   },
   {
    "duration": 183,
    "start_time": "2023-05-02T09:03:29.840Z"
   },
   {
    "duration": 352,
    "start_time": "2023-05-02T09:04:33.285Z"
   },
   {
    "duration": 372,
    "start_time": "2023-05-02T09:05:17.058Z"
   },
   {
    "duration": 4,
    "start_time": "2023-05-02T09:08:06.026Z"
   },
   {
    "duration": 382,
    "start_time": "2023-05-02T09:14:43.218Z"
   },
   {
    "duration": 9,
    "start_time": "2023-05-02T09:15:01.651Z"
   },
   {
    "duration": 7,
    "start_time": "2023-05-02T09:15:02.717Z"
   },
   {
    "duration": 432,
    "start_time": "2023-05-02T09:15:25.219Z"
   },
   {
    "duration": 11,
    "start_time": "2023-05-02T09:15:40.010Z"
   },
   {
    "duration": 4,
    "start_time": "2023-05-02T09:16:33.617Z"
   },
   {
    "duration": 12,
    "start_time": "2023-05-02T09:17:30.150Z"
   },
   {
    "duration": 49,
    "start_time": "2023-05-02T09:17:30.828Z"
   },
   {
    "duration": 390,
    "start_time": "2023-05-02T09:17:40.937Z"
   },
   {
    "duration": 2677,
    "start_time": "2023-05-02T09:25:37.685Z"
   },
   {
    "duration": 8229,
    "start_time": "2023-05-02T09:25:40.365Z"
   },
   {
    "duration": 2093,
    "start_time": "2023-05-02T09:25:48.596Z"
   },
   {
    "duration": 36,
    "start_time": "2023-05-02T09:25:50.692Z"
   },
   {
    "duration": 21,
    "start_time": "2023-05-02T09:25:50.730Z"
   },
   {
    "duration": 518,
    "start_time": "2023-05-02T09:25:50.753Z"
   },
   {
    "duration": 5,
    "start_time": "2023-05-02T09:25:51.273Z"
   },
   {
    "duration": 7,
    "start_time": "2023-05-02T09:25:51.279Z"
   },
   {
    "duration": 15,
    "start_time": "2023-05-02T09:25:51.293Z"
   },
   {
    "duration": 1039764,
    "start_time": "2023-05-02T09:25:51.310Z"
   },
   {
    "duration": 12,
    "start_time": "2023-05-02T09:43:11.076Z"
   },
   {
    "duration": 5,
    "start_time": "2023-05-02T09:43:17.702Z"
   },
   {
    "duration": 45,
    "start_time": "2023-05-02T09:43:20.314Z"
   },
   {
    "duration": 50,
    "start_time": "2023-05-02T09:43:23.211Z"
   },
   {
    "duration": 569,
    "start_time": "2023-05-02T09:43:25.146Z"
   },
   {
    "duration": 524,
    "start_time": "2023-05-02T09:43:35.814Z"
   },
   {
    "duration": 27,
    "start_time": "2023-05-02T09:43:41.522Z"
   },
   {
    "duration": 28,
    "start_time": "2023-05-02T09:44:04.513Z"
   },
   {
    "duration": 9,
    "start_time": "2023-05-02T09:44:06.036Z"
   },
   {
    "duration": 236,
    "start_time": "2023-05-02T09:44:13.444Z"
   },
   {
    "duration": 19,
    "start_time": "2023-05-02T09:44:20.415Z"
   },
   {
    "duration": 6176,
    "start_time": "2023-05-02T09:44:21.234Z"
   },
   {
    "duration": 194,
    "start_time": "2023-05-02T09:44:28.214Z"
   },
   {
    "duration": 315,
    "start_time": "2023-05-02T09:44:29.302Z"
   },
   {
    "duration": 7,
    "start_time": "2023-05-02T09:44:38.617Z"
   },
   {
    "duration": 3,
    "start_time": "2023-05-02T09:44:48.832Z"
   },
   {
    "duration": 72,
    "start_time": "2023-05-02T09:44:52.416Z"
   },
   {
    "duration": 3,
    "start_time": "2023-05-02T09:44:55.003Z"
   },
   {
    "duration": 584928,
    "start_time": "2023-05-02T09:46:20.314Z"
   },
   {
    "duration": 4393,
    "start_time": "2023-05-02T10:06:30.911Z"
   },
   {
    "duration": 4633,
    "start_time": "2023-05-02T10:06:35.307Z"
   },
   {
    "duration": 0,
    "start_time": "2023-05-02T10:06:39.943Z"
   },
   {
    "duration": 0,
    "start_time": "2023-05-02T10:06:39.945Z"
   },
   {
    "duration": 0,
    "start_time": "2023-05-02T10:06:39.946Z"
   },
   {
    "duration": 0,
    "start_time": "2023-05-02T10:06:39.947Z"
   },
   {
    "duration": 0,
    "start_time": "2023-05-02T10:06:39.948Z"
   },
   {
    "duration": 0,
    "start_time": "2023-05-02T10:06:39.949Z"
   },
   {
    "duration": 0,
    "start_time": "2023-05-02T10:06:39.950Z"
   },
   {
    "duration": 0,
    "start_time": "2023-05-02T10:06:39.951Z"
   },
   {
    "duration": 0,
    "start_time": "2023-05-02T10:06:39.952Z"
   },
   {
    "duration": 0,
    "start_time": "2023-05-02T10:06:39.954Z"
   },
   {
    "duration": 0,
    "start_time": "2023-05-02T10:06:39.955Z"
   },
   {
    "duration": 0,
    "start_time": "2023-05-02T10:06:39.956Z"
   },
   {
    "duration": 0,
    "start_time": "2023-05-02T10:06:39.958Z"
   },
   {
    "duration": 0,
    "start_time": "2023-05-02T10:06:39.959Z"
   },
   {
    "duration": 0,
    "start_time": "2023-05-02T10:06:39.961Z"
   },
   {
    "duration": 0,
    "start_time": "2023-05-02T10:06:39.963Z"
   },
   {
    "duration": 0,
    "start_time": "2023-05-02T10:06:39.964Z"
   },
   {
    "duration": 0,
    "start_time": "2023-05-02T10:06:39.966Z"
   },
   {
    "duration": 0,
    "start_time": "2023-05-02T10:06:39.967Z"
   },
   {
    "duration": 0,
    "start_time": "2023-05-02T10:06:39.969Z"
   },
   {
    "duration": 0,
    "start_time": "2023-05-02T10:06:39.970Z"
   },
   {
    "duration": 0,
    "start_time": "2023-05-02T10:06:39.973Z"
   },
   {
    "duration": 0,
    "start_time": "2023-05-02T10:06:39.974Z"
   },
   {
    "duration": 0,
    "start_time": "2023-05-02T10:06:39.976Z"
   },
   {
    "duration": 0,
    "start_time": "2023-05-02T10:06:39.977Z"
   },
   {
    "duration": 0,
    "start_time": "2023-05-02T10:06:39.979Z"
   },
   {
    "duration": 0,
    "start_time": "2023-05-02T10:06:39.980Z"
   },
   {
    "duration": 0,
    "start_time": "2023-05-02T10:06:39.993Z"
   },
   {
    "duration": 1,
    "start_time": "2023-05-02T10:06:39.994Z"
   },
   {
    "duration": 0,
    "start_time": "2023-05-02T10:06:39.996Z"
   },
   {
    "duration": 0,
    "start_time": "2023-05-02T10:06:39.998Z"
   },
   {
    "duration": 0,
    "start_time": "2023-05-02T10:06:39.999Z"
   },
   {
    "duration": 0,
    "start_time": "2023-05-02T10:06:40.000Z"
   },
   {
    "duration": 0,
    "start_time": "2023-05-02T10:06:40.001Z"
   },
   {
    "duration": 0,
    "start_time": "2023-05-02T10:06:40.002Z"
   },
   {
    "duration": 0,
    "start_time": "2023-05-02T10:06:40.003Z"
   },
   {
    "duration": 0,
    "start_time": "2023-05-02T10:06:40.004Z"
   },
   {
    "duration": 0,
    "start_time": "2023-05-02T10:06:40.005Z"
   },
   {
    "duration": 0,
    "start_time": "2023-05-02T10:06:40.006Z"
   },
   {
    "duration": 0,
    "start_time": "2023-05-02T10:06:40.007Z"
   },
   {
    "duration": 0,
    "start_time": "2023-05-02T10:06:40.009Z"
   },
   {
    "duration": 2063,
    "start_time": "2023-05-02T10:06:47.904Z"
   },
   {
    "duration": 19538,
    "start_time": "2023-05-02T10:06:49.969Z"
   },
   {
    "duration": 3109,
    "start_time": "2023-05-02T10:07:09.509Z"
   },
   {
    "duration": 31,
    "start_time": "2023-05-02T10:07:12.620Z"
   },
   {
    "duration": 3,
    "start_time": "2023-05-02T10:07:12.653Z"
   },
   {
    "duration": 641,
    "start_time": "2023-05-02T10:07:12.657Z"
   },
   {
    "duration": 5,
    "start_time": "2023-05-02T10:07:13.300Z"
   },
   {
    "duration": 6,
    "start_time": "2023-05-02T10:07:13.307Z"
   },
   {
    "duration": 4,
    "start_time": "2023-05-02T10:07:13.315Z"
   },
   {
    "duration": 1076555,
    "start_time": "2023-05-02T10:07:13.321Z"
   },
   {
    "duration": 17,
    "start_time": "2023-05-02T10:25:09.878Z"
   },
   {
    "duration": 3,
    "start_time": "2023-05-02T10:25:09.901Z"
   },
   {
    "duration": 14,
    "start_time": "2023-05-02T10:25:09.905Z"
   },
   {
    "duration": 11,
    "start_time": "2023-05-02T10:25:09.923Z"
   },
   {
    "duration": 14,
    "start_time": "2023-05-02T10:25:09.936Z"
   },
   {
    "duration": 52,
    "start_time": "2023-05-02T10:25:09.951Z"
   },
   {
    "duration": 43,
    "start_time": "2023-05-02T10:25:10.010Z"
   },
   {
    "duration": 688,
    "start_time": "2023-05-02T10:25:10.055Z"
   },
   {
    "duration": 3,
    "start_time": "2023-05-02T10:25:10.745Z"
   },
   {
    "duration": 607,
    "start_time": "2023-05-02T10:25:10.749Z"
   },
   {
    "duration": 20,
    "start_time": "2023-05-02T10:25:11.358Z"
   },
   {
    "duration": 3,
    "start_time": "2023-05-02T10:25:11.380Z"
   },
   {
    "duration": 39,
    "start_time": "2023-05-02T10:25:11.393Z"
   },
   {
    "duration": 8,
    "start_time": "2023-05-02T10:25:11.434Z"
   },
   {
    "duration": 281,
    "start_time": "2023-05-02T10:25:11.444Z"
   },
   {
    "duration": 20,
    "start_time": "2023-05-02T10:25:11.727Z"
   },
   {
    "duration": 6990,
    "start_time": "2023-05-02T10:25:11.749Z"
   },
   {
    "duration": 217,
    "start_time": "2023-05-02T10:25:18.741Z"
   },
   {
    "duration": 361,
    "start_time": "2023-05-02T10:25:18.959Z"
   },
   {
    "duration": 6,
    "start_time": "2023-05-02T10:25:19.322Z"
   },
   {
    "duration": 24,
    "start_time": "2023-05-02T10:25:19.329Z"
   },
   {
    "duration": 28,
    "start_time": "2023-05-02T10:25:19.355Z"
   },
   {
    "duration": 6,
    "start_time": "2023-05-02T10:25:19.385Z"
   },
   {
    "duration": 86,
    "start_time": "2023-05-02T10:25:19.393Z"
   },
   {
    "duration": 3,
    "start_time": "2023-05-02T10:25:19.481Z"
   },
   {
    "duration": 6,
    "start_time": "2023-05-02T10:25:19.486Z"
   },
   {
    "duration": 25,
    "start_time": "2023-05-02T10:25:19.494Z"
   },
   {
    "duration": 6,
    "start_time": "2023-05-02T10:25:19.522Z"
   },
   {
    "duration": 5,
    "start_time": "2023-05-02T10:25:19.530Z"
   },
   {
    "duration": 14,
    "start_time": "2023-05-02T10:25:19.537Z"
   },
   {
    "duration": 398,
    "start_time": "2023-05-02T10:25:19.555Z"
   },
   {
    "duration": 0,
    "start_time": "2023-05-02T10:25:19.955Z"
   },
   {
    "duration": 136,
    "start_time": "2023-05-02T10:28:13.436Z"
   },
   {
    "duration": 560537,
    "start_time": "2023-05-02T10:28:27.584Z"
   },
   {
    "duration": 996,
    "start_time": "2023-05-02T10:38:21.761Z"
   },
   {
    "duration": 11,
    "start_time": "2023-05-02T10:52:29.538Z"
   },
   {
    "duration": 95,
    "start_time": "2023-05-02T10:52:32.244Z"
   },
   {
    "duration": 7307,
    "start_time": "2023-05-02T13:10:30.207Z"
   },
   {
    "duration": 5170,
    "start_time": "2023-05-02T13:10:37.516Z"
   },
   {
    "duration": 3425,
    "start_time": "2023-05-02T13:10:42.688Z"
   },
   {
    "duration": 32,
    "start_time": "2023-05-02T13:10:46.115Z"
   },
   {
    "duration": 6,
    "start_time": "2023-05-02T13:10:46.149Z"
   },
   {
    "duration": 668,
    "start_time": "2023-05-02T13:10:46.157Z"
   },
   {
    "duration": 5,
    "start_time": "2023-05-02T13:10:46.827Z"
   },
   {
    "duration": 13,
    "start_time": "2023-05-02T13:10:46.834Z"
   },
   {
    "duration": 13,
    "start_time": "2023-05-02T13:10:46.849Z"
   },
   {
    "duration": 1043847,
    "start_time": "2023-05-02T13:10:46.864Z"
   },
   {
    "duration": 12,
    "start_time": "2023-05-02T13:28:10.713Z"
   },
   {
    "duration": 19,
    "start_time": "2023-05-02T13:28:10.727Z"
   },
   {
    "duration": 19,
    "start_time": "2023-05-02T13:28:10.747Z"
   },
   {
    "duration": 7,
    "start_time": "2023-05-02T13:28:10.768Z"
   },
   {
    "duration": 7,
    "start_time": "2023-05-02T13:28:10.776Z"
   },
   {
    "duration": 50,
    "start_time": "2023-05-02T13:28:10.785Z"
   },
   {
    "duration": 49,
    "start_time": "2023-05-02T13:28:10.837Z"
   },
   {
    "duration": 601,
    "start_time": "2023-05-02T13:28:10.888Z"
   },
   {
    "duration": 3,
    "start_time": "2023-05-02T13:28:11.491Z"
   },
   {
    "duration": 571,
    "start_time": "2023-05-02T13:28:11.496Z"
   },
   {
    "duration": 27,
    "start_time": "2023-05-02T13:28:12.069Z"
   },
   {
    "duration": 11,
    "start_time": "2023-05-02T13:28:12.098Z"
   },
   {
    "duration": 57,
    "start_time": "2023-05-02T13:28:12.111Z"
   },
   {
    "duration": 11,
    "start_time": "2023-05-02T13:28:12.170Z"
   },
   {
    "duration": 276,
    "start_time": "2023-05-02T13:28:12.182Z"
   },
   {
    "duration": 20,
    "start_time": "2023-05-02T13:28:12.461Z"
   },
   {
    "duration": 6225,
    "start_time": "2023-05-02T13:28:12.483Z"
   },
   {
    "duration": 197,
    "start_time": "2023-05-02T13:28:18.712Z"
   },
   {
    "duration": 326,
    "start_time": "2023-05-02T13:28:18.910Z"
   },
   {
    "duration": 7,
    "start_time": "2023-05-02T13:28:19.239Z"
   },
   {
    "duration": 18,
    "start_time": "2023-05-02T13:28:19.248Z"
   },
   {
    "duration": 8,
    "start_time": "2023-05-02T13:28:19.268Z"
   },
   {
    "duration": 18,
    "start_time": "2023-05-02T13:28:19.277Z"
   },
   {
    "duration": 75,
    "start_time": "2023-05-02T13:28:19.297Z"
   },
   {
    "duration": 4,
    "start_time": "2023-05-02T13:28:19.374Z"
   },
   {
    "duration": 27,
    "start_time": "2023-05-02T13:28:19.379Z"
   },
   {
    "duration": 13,
    "start_time": "2023-05-02T13:28:19.407Z"
   },
   {
    "duration": 22,
    "start_time": "2023-05-02T13:28:19.422Z"
   },
   {
    "duration": 26,
    "start_time": "2023-05-02T13:28:19.446Z"
   },
   {
    "duration": 34,
    "start_time": "2023-05-02T13:28:19.474Z"
   },
   {
    "duration": 1562,
    "start_time": "2023-05-02T13:28:19.510Z"
   },
   {
    "duration": 0,
    "start_time": "2023-05-02T13:28:21.074Z"
   },
   {
    "duration": 4,
    "start_time": "2023-05-02T13:31:27.415Z"
   },
   {
    "duration": 40,
    "start_time": "2023-05-02T13:31:30.811Z"
   },
   {
    "duration": 7027,
    "start_time": "2023-05-02T13:32:31.308Z"
   },
   {
    "duration": 735,
    "start_time": "2023-05-02T13:33:17.448Z"
   },
   {
    "duration": 4,
    "start_time": "2023-05-02T13:33:27.118Z"
   },
   {
    "duration": 496124,
    "start_time": "2023-05-02T13:33:37.047Z"
   },
   {
    "duration": 17128,
    "start_time": "2023-05-02T13:43:26.282Z"
   },
   {
    "duration": 18027,
    "start_time": "2023-05-02T13:44:04.045Z"
   },
   {
    "duration": 5,
    "start_time": "2023-05-02T13:45:25.395Z"
   },
   {
    "duration": 107,
    "start_time": "2023-05-02T13:45:26.996Z"
   },
   {
    "duration": 5,
    "start_time": "2023-05-02T13:45:51.026Z"
   },
   {
    "duration": 88,
    "start_time": "2023-05-02T13:45:57.980Z"
   },
   {
    "duration": 5,
    "start_time": "2023-05-02T13:48:18.066Z"
   },
   {
    "duration": 2249,
    "start_time": "2023-05-02T13:50:23.355Z"
   },
   {
    "duration": 18467,
    "start_time": "2023-05-02T13:50:25.606Z"
   },
   {
    "duration": 3334,
    "start_time": "2023-05-02T13:50:44.076Z"
   },
   {
    "duration": 36,
    "start_time": "2023-05-02T13:50:47.419Z"
   },
   {
    "duration": 3,
    "start_time": "2023-05-02T13:50:47.457Z"
   },
   {
    "duration": 686,
    "start_time": "2023-05-02T13:50:47.462Z"
   },
   {
    "duration": 4,
    "start_time": "2023-05-02T13:50:48.150Z"
   },
   {
    "duration": 38,
    "start_time": "2023-05-02T13:50:48.155Z"
   },
   {
    "duration": 19,
    "start_time": "2023-05-02T13:50:48.195Z"
   },
   {
    "duration": 1020052,
    "start_time": "2023-05-02T13:50:48.216Z"
   },
   {
    "duration": 13,
    "start_time": "2023-05-02T14:07:48.272Z"
   },
   {
    "duration": 4,
    "start_time": "2023-05-02T14:08:50.466Z"
   },
   {
    "duration": 38,
    "start_time": "2023-05-02T14:08:51.585Z"
   },
   {
    "duration": 44,
    "start_time": "2023-05-02T14:08:52.054Z"
   },
   {
    "duration": 584,
    "start_time": "2023-05-02T14:08:52.805Z"
   },
   {
    "duration": 3,
    "start_time": "2023-05-02T14:08:53.433Z"
   },
   {
    "duration": 520,
    "start_time": "2023-05-02T14:08:53.865Z"
   },
   {
    "duration": 25,
    "start_time": "2023-05-02T14:08:54.438Z"
   },
   {
    "duration": 3,
    "start_time": "2023-05-02T14:08:55.370Z"
   },
   {
    "duration": 27,
    "start_time": "2023-05-02T14:08:56.970Z"
   },
   {
    "duration": 9,
    "start_time": "2023-05-02T14:08:58.353Z"
   },
   {
    "duration": 255,
    "start_time": "2023-05-02T14:09:00.454Z"
   },
   {
    "duration": 20,
    "start_time": "2023-05-02T14:09:02.341Z"
   },
   {
    "duration": 6040,
    "start_time": "2023-05-02T14:09:02.966Z"
   },
   {
    "duration": 217,
    "start_time": "2023-05-02T14:09:09.008Z"
   },
   {
    "duration": 362,
    "start_time": "2023-05-02T14:09:09.227Z"
   },
   {
    "duration": 7,
    "start_time": "2023-05-02T14:09:12.363Z"
   },
   {
    "duration": 2,
    "start_time": "2023-05-02T14:09:15.293Z"
   },
   {
    "duration": 2,
    "start_time": "2023-05-02T14:09:15.897Z"
   },
   {
    "duration": 3,
    "start_time": "2023-05-02T14:09:17.454Z"
   },
   {
    "duration": 73,
    "start_time": "2023-05-02T14:09:18.094Z"
   },
   {
    "duration": 4,
    "start_time": "2023-05-02T14:09:19.575Z"
   },
   {
    "duration": 3,
    "start_time": "2023-05-02T14:09:21.052Z"
   },
   {
    "duration": 6273,
    "start_time": "2023-05-02T14:09:22.199Z"
   },
   {
    "duration": 2,
    "start_time": "2023-05-02T14:09:28.474Z"
   },
   {
    "duration": 5,
    "start_time": "2023-05-02T14:09:28.477Z"
   },
   {
    "duration": 7,
    "start_time": "2023-05-02T14:09:28.484Z"
   },
   {
    "duration": 636,
    "start_time": "2023-05-02T14:09:28.493Z"
   },
   {
    "duration": 5,
    "start_time": "2023-05-02T14:09:35.095Z"
   },
   {
    "duration": 11984,
    "start_time": "2023-05-02T14:09:36.363Z"
   },
   {
    "duration": 318,
    "start_time": "2023-05-02T14:12:27.445Z"
   },
   {
    "duration": 3164,
    "start_time": "2023-05-02T14:12:34.896Z"
   },
   {
    "duration": 5,
    "start_time": "2023-05-02T14:13:21.647Z"
   },
   {
    "duration": 141,
    "start_time": "2023-05-02T14:13:23.399Z"
   },
   {
    "duration": 5,
    "start_time": "2023-05-02T14:13:42.762Z"
   },
   {
    "duration": 92996,
    "start_time": "2023-05-02T14:13:43.496Z"
   },
   {
    "duration": 4,
    "start_time": "2023-05-02T14:15:26.823Z"
   },
   {
    "duration": 2234,
    "start_time": "2023-05-02T14:16:24.093Z"
   },
   {
    "duration": 19175,
    "start_time": "2023-05-02T14:16:26.330Z"
   },
   {
    "duration": 3302,
    "start_time": "2023-05-02T14:16:45.507Z"
   },
   {
    "duration": 31,
    "start_time": "2023-05-02T14:16:48.811Z"
   },
   {
    "duration": 4,
    "start_time": "2023-05-02T14:16:48.844Z"
   },
   {
    "duration": 627,
    "start_time": "2023-05-02T14:16:48.849Z"
   },
   {
    "duration": 4,
    "start_time": "2023-05-02T14:16:49.478Z"
   },
   {
    "duration": 8,
    "start_time": "2023-05-02T14:16:49.483Z"
   },
   {
    "duration": 4,
    "start_time": "2023-05-02T14:16:49.492Z"
   },
   {
    "duration": 20032,
    "start_time": "2023-05-02T14:16:49.499Z"
   },
   {
    "duration": 12,
    "start_time": "2023-05-02T14:17:09.534Z"
   },
   {
    "duration": 14,
    "start_time": "2023-05-02T14:17:09.548Z"
   },
   {
    "duration": 14,
    "start_time": "2023-05-02T14:17:09.564Z"
   },
   {
    "duration": 15,
    "start_time": "2023-05-02T14:17:09.580Z"
   },
   {
    "duration": 939,
    "start_time": "2023-05-02T14:17:09.597Z"
   },
   {
    "duration": 0,
    "start_time": "2023-05-02T14:17:10.538Z"
   },
   {
    "duration": 0,
    "start_time": "2023-05-02T14:17:10.539Z"
   },
   {
    "duration": 0,
    "start_time": "2023-05-02T14:17:10.540Z"
   },
   {
    "duration": 0,
    "start_time": "2023-05-02T14:17:10.541Z"
   },
   {
    "duration": 0,
    "start_time": "2023-05-02T14:17:10.542Z"
   },
   {
    "duration": 0,
    "start_time": "2023-05-02T14:17:10.543Z"
   },
   {
    "duration": 0,
    "start_time": "2023-05-02T14:17:10.545Z"
   },
   {
    "duration": 0,
    "start_time": "2023-05-02T14:17:10.546Z"
   },
   {
    "duration": 0,
    "start_time": "2023-05-02T14:17:10.547Z"
   },
   {
    "duration": 0,
    "start_time": "2023-05-02T14:17:10.549Z"
   },
   {
    "duration": 0,
    "start_time": "2023-05-02T14:17:10.550Z"
   },
   {
    "duration": 0,
    "start_time": "2023-05-02T14:17:10.551Z"
   },
   {
    "duration": 0,
    "start_time": "2023-05-02T14:17:10.552Z"
   },
   {
    "duration": 0,
    "start_time": "2023-05-02T14:17:10.553Z"
   },
   {
    "duration": 0,
    "start_time": "2023-05-02T14:17:10.555Z"
   },
   {
    "duration": 0,
    "start_time": "2023-05-02T14:17:10.557Z"
   },
   {
    "duration": 0,
    "start_time": "2023-05-02T14:17:10.558Z"
   },
   {
    "duration": 0,
    "start_time": "2023-05-02T14:17:10.559Z"
   },
   {
    "duration": 0,
    "start_time": "2023-05-02T14:17:10.560Z"
   },
   {
    "duration": 0,
    "start_time": "2023-05-02T14:17:10.561Z"
   },
   {
    "duration": 0,
    "start_time": "2023-05-02T14:17:10.562Z"
   },
   {
    "duration": 0,
    "start_time": "2023-05-02T14:17:10.564Z"
   },
   {
    "duration": 0,
    "start_time": "2023-05-02T14:17:10.565Z"
   },
   {
    "duration": 0,
    "start_time": "2023-05-02T14:17:10.566Z"
   },
   {
    "duration": 0,
    "start_time": "2023-05-02T14:17:10.567Z"
   },
   {
    "duration": 0,
    "start_time": "2023-05-02T14:17:10.568Z"
   },
   {
    "duration": 0,
    "start_time": "2023-05-02T14:17:10.569Z"
   },
   {
    "duration": 2068,
    "start_time": "2023-05-02T14:26:04.274Z"
   },
   {
    "duration": 4437,
    "start_time": "2023-05-02T14:26:06.345Z"
   },
   {
    "duration": 844,
    "start_time": "2023-05-02T14:26:10.784Z"
   },
   {
    "duration": 42,
    "start_time": "2023-05-02T14:26:11.630Z"
   },
   {
    "duration": 3,
    "start_time": "2023-05-02T14:26:11.674Z"
   },
   {
    "duration": 555,
    "start_time": "2023-05-02T14:26:11.679Z"
   },
   {
    "duration": 6,
    "start_time": "2023-05-02T14:26:12.237Z"
   },
   {
    "duration": 15,
    "start_time": "2023-05-02T14:26:12.245Z"
   },
   {
    "duration": 4,
    "start_time": "2023-05-02T14:26:12.262Z"
   },
   {
    "duration": 1015215,
    "start_time": "2023-05-02T14:26:12.269Z"
   },
   {
    "duration": 11,
    "start_time": "2023-05-02T14:43:07.485Z"
   },
   {
    "duration": 5,
    "start_time": "2023-05-02T14:43:31.451Z"
   },
   {
    "duration": 46,
    "start_time": "2023-05-02T14:43:33.152Z"
   },
   {
    "duration": 44,
    "start_time": "2023-05-02T14:43:33.762Z"
   },
   {
    "duration": 522,
    "start_time": "2023-05-02T14:43:34.110Z"
   },
   {
    "duration": 4,
    "start_time": "2023-05-02T14:43:35.425Z"
   },
   {
    "duration": 463,
    "start_time": "2023-05-02T14:43:35.921Z"
   },
   {
    "duration": 23,
    "start_time": "2023-05-02T14:43:36.477Z"
   },
   {
    "duration": 3,
    "start_time": "2023-05-02T14:43:37.464Z"
   },
   {
    "duration": 27,
    "start_time": "2023-05-02T14:43:39.411Z"
   },
   {
    "duration": 8,
    "start_time": "2023-05-02T14:43:41.079Z"
   },
   {
    "duration": 228,
    "start_time": "2023-05-02T14:43:42.827Z"
   },
   {
    "duration": 20,
    "start_time": "2023-05-02T14:43:45.009Z"
   },
   {
    "duration": 5822,
    "start_time": "2023-05-02T14:43:45.213Z"
   },
   {
    "duration": 192,
    "start_time": "2023-05-02T14:43:51.038Z"
   },
   {
    "duration": 320,
    "start_time": "2023-05-02T14:43:51.232Z"
   },
   {
    "duration": 7,
    "start_time": "2023-05-02T14:43:53.315Z"
   },
   {
    "duration": 4,
    "start_time": "2023-05-02T14:43:58.310Z"
   },
   {
    "duration": 2,
    "start_time": "2023-05-02T14:43:59.150Z"
   },
   {
    "duration": 2,
    "start_time": "2023-05-02T14:44:00.540Z"
   },
   {
    "duration": 72,
    "start_time": "2023-05-02T14:44:01.267Z"
   },
   {
    "duration": 3,
    "start_time": "2023-05-02T14:44:02.810Z"
   },
   {
    "duration": 2,
    "start_time": "2023-05-02T14:44:04.413Z"
   },
   {
    "duration": 6294,
    "start_time": "2023-05-02T14:44:05.079Z"
   },
   {
    "duration": 649,
    "start_time": "2023-05-02T14:44:15.868Z"
   },
   {
    "duration": 5,
    "start_time": "2023-05-02T14:44:34.308Z"
   },
   {
    "duration": 1530604,
    "start_time": "2023-05-02T14:44:35.540Z"
   },
   {
    "duration": 1055,
    "start_time": "2023-05-02T15:10:09.825Z"
   },
   {
    "duration": 6778,
    "start_time": "2023-05-02T18:26:01.826Z"
   },
   {
    "duration": 4699,
    "start_time": "2023-05-02T18:26:08.606Z"
   },
   {
    "duration": 3161,
    "start_time": "2023-05-02T18:26:13.307Z"
   },
   {
    "duration": 31,
    "start_time": "2023-05-02T18:26:16.469Z"
   },
   {
    "duration": 8,
    "start_time": "2023-05-02T18:26:16.503Z"
   },
   {
    "duration": 605,
    "start_time": "2023-05-02T18:26:16.513Z"
   },
   {
    "duration": 4,
    "start_time": "2023-05-02T18:26:17.120Z"
   },
   {
    "duration": 14,
    "start_time": "2023-05-02T18:26:17.125Z"
   },
   {
    "duration": 34,
    "start_time": "2023-05-02T18:26:17.141Z"
   },
   {
    "duration": 986685,
    "start_time": "2023-05-02T18:26:17.177Z"
   },
   {
    "duration": 13,
    "start_time": "2023-05-02T18:42:43.863Z"
   },
   {
    "duration": 3,
    "start_time": "2023-05-02T18:42:43.892Z"
   },
   {
    "duration": 5,
    "start_time": "2023-05-02T18:42:43.896Z"
   },
   {
    "duration": 3,
    "start_time": "2023-05-02T18:42:43.905Z"
   },
   {
    "duration": 6,
    "start_time": "2023-05-02T18:42:43.909Z"
   },
   {
    "duration": 51,
    "start_time": "2023-05-02T18:42:43.917Z"
   },
   {
    "duration": 43,
    "start_time": "2023-05-02T18:42:43.969Z"
   },
   {
    "duration": 557,
    "start_time": "2023-05-02T18:42:44.014Z"
   },
   {
    "duration": 3,
    "start_time": "2023-05-02T18:42:44.573Z"
   },
   {
    "duration": 559,
    "start_time": "2023-05-02T18:42:44.578Z"
   },
   {
    "duration": 24,
    "start_time": "2023-05-02T18:42:45.140Z"
   },
   {
    "duration": 3,
    "start_time": "2023-05-02T18:42:45.166Z"
   },
   {
    "duration": 39,
    "start_time": "2023-05-02T18:42:45.171Z"
   },
   {
    "duration": 8,
    "start_time": "2023-05-02T18:42:45.212Z"
   },
   {
    "duration": 241,
    "start_time": "2023-05-02T18:42:45.222Z"
   },
   {
    "duration": 29,
    "start_time": "2023-05-02T18:42:45.464Z"
   },
   {
    "duration": 5980,
    "start_time": "2023-05-02T18:42:45.494Z"
   },
   {
    "duration": 200,
    "start_time": "2023-05-02T18:42:51.476Z"
   },
   {
    "duration": 349,
    "start_time": "2023-05-02T18:42:51.678Z"
   },
   {
    "duration": 7,
    "start_time": "2023-05-02T18:42:52.029Z"
   },
   {
    "duration": 16,
    "start_time": "2023-05-02T18:42:52.038Z"
   },
   {
    "duration": 32,
    "start_time": "2023-05-02T18:42:52.056Z"
   },
   {
    "duration": 31,
    "start_time": "2023-05-02T18:42:52.090Z"
   },
   {
    "duration": 97,
    "start_time": "2023-05-02T18:42:52.124Z"
   },
   {
    "duration": 4,
    "start_time": "2023-05-02T18:42:52.223Z"
   },
   {
    "duration": 20,
    "start_time": "2023-05-02T18:42:52.229Z"
   },
   {
    "duration": 6230,
    "start_time": "2023-05-02T18:42:52.251Z"
   },
   {
    "duration": 9,
    "start_time": "2023-05-02T18:42:58.483Z"
   },
   {
    "duration": 8,
    "start_time": "2023-05-02T18:42:58.493Z"
   },
   {
    "duration": 8,
    "start_time": "2023-05-02T18:42:58.502Z"
   },
   {
    "duration": 682,
    "start_time": "2023-05-02T18:42:58.513Z"
   },
   {
    "duration": 3,
    "start_time": "2023-05-02T18:42:59.197Z"
   },
   {
    "duration": 6,
    "start_time": "2023-05-02T18:42:59.202Z"
   },
   {
    "duration": 486811,
    "start_time": "2023-05-02T18:42:59.210Z"
   },
   {
    "duration": 4,
    "start_time": "2023-05-02T18:51:06.023Z"
   },
   {
    "duration": 16566,
    "start_time": "2023-05-02T18:51:06.028Z"
   },
   {
    "duration": 2,
    "start_time": "2023-05-02T18:51:22.596Z"
   },
   {
    "duration": 6,
    "start_time": "2023-05-02T18:51:22.600Z"
   },
   {
    "duration": 5,
    "start_time": "2023-05-02T18:51:22.608Z"
   },
   {
    "duration": 2099,
    "start_time": "2023-05-02T18:53:42.544Z"
   },
   {
    "duration": 5933,
    "start_time": "2023-05-02T18:53:44.645Z"
   },
   {
    "duration": 3211,
    "start_time": "2023-05-02T18:53:50.580Z"
   },
   {
    "duration": 40,
    "start_time": "2023-05-02T18:53:53.796Z"
   },
   {
    "duration": 4,
    "start_time": "2023-05-02T18:53:53.838Z"
   },
   {
    "duration": 639,
    "start_time": "2023-05-02T18:53:53.845Z"
   },
   {
    "duration": 4,
    "start_time": "2023-05-02T18:53:54.486Z"
   },
   {
    "duration": 5,
    "start_time": "2023-05-02T18:53:54.492Z"
   },
   {
    "duration": 5,
    "start_time": "2023-05-02T18:53:54.500Z"
   },
   {
    "duration": 1005485,
    "start_time": "2023-05-02T18:53:54.508Z"
   },
   {
    "duration": 12,
    "start_time": "2023-05-02T19:10:39.995Z"
   },
   {
    "duration": 4,
    "start_time": "2023-05-02T19:10:40.009Z"
   },
   {
    "duration": 10,
    "start_time": "2023-05-02T19:10:40.014Z"
   },
   {
    "duration": 10,
    "start_time": "2023-05-02T19:10:40.026Z"
   },
   {
    "duration": 19,
    "start_time": "2023-05-02T19:10:40.037Z"
   },
   {
    "duration": 51,
    "start_time": "2023-05-02T19:10:40.058Z"
   },
   {
    "duration": 34,
    "start_time": "2023-05-02T19:10:40.111Z"
   },
   {
    "duration": 541,
    "start_time": "2023-05-02T19:10:40.147Z"
   },
   {
    "duration": 2,
    "start_time": "2023-05-02T19:10:40.693Z"
   },
   {
    "duration": 496,
    "start_time": "2023-05-02T19:10:40.697Z"
   },
   {
    "duration": 19,
    "start_time": "2023-05-02T19:10:41.194Z"
   },
   {
    "duration": 11,
    "start_time": "2023-05-02T19:10:41.214Z"
   },
   {
    "duration": 33,
    "start_time": "2023-05-02T19:10:41.227Z"
   },
   {
    "duration": 7,
    "start_time": "2023-05-02T19:10:41.262Z"
   },
   {
    "duration": 243,
    "start_time": "2023-05-02T19:10:41.271Z"
   },
   {
    "duration": 18,
    "start_time": "2023-05-02T19:10:41.516Z"
   },
   {
    "duration": 5985,
    "start_time": "2023-05-02T19:10:41.536Z"
   },
   {
    "duration": 218,
    "start_time": "2023-05-02T19:10:47.525Z"
   },
   {
    "duration": 320,
    "start_time": "2023-05-02T19:10:47.745Z"
   },
   {
    "duration": 6,
    "start_time": "2023-05-02T19:10:48.068Z"
   },
   {
    "duration": 23,
    "start_time": "2023-05-02T19:10:48.075Z"
   },
   {
    "duration": 30,
    "start_time": "2023-05-02T19:10:48.100Z"
   },
   {
    "duration": 26,
    "start_time": "2023-05-02T19:10:48.131Z"
   },
   {
    "duration": 92,
    "start_time": "2023-05-02T19:10:48.159Z"
   },
   {
    "duration": 3,
    "start_time": "2023-05-02T19:10:48.253Z"
   },
   {
    "duration": 20,
    "start_time": "2023-05-02T19:10:48.258Z"
   },
   {
    "duration": 5914,
    "start_time": "2023-05-02T19:10:48.280Z"
   },
   {
    "duration": 3,
    "start_time": "2023-05-02T19:10:54.196Z"
   },
   {
    "duration": 5,
    "start_time": "2023-05-02T19:10:54.200Z"
   },
   {
    "duration": 5,
    "start_time": "2023-05-02T19:10:54.206Z"
   },
   {
    "duration": 715,
    "start_time": "2023-05-02T19:10:54.212Z"
   },
   {
    "duration": 5,
    "start_time": "2023-05-02T19:11:40.253Z"
   },
   {
    "duration": 1520673,
    "start_time": "2023-05-02T19:11:40.931Z"
   },
   {
    "duration": 6,
    "start_time": "2023-05-02T19:44:47.359Z"
   },
   {
    "duration": 23273,
    "start_time": "2023-05-02T19:45:02.128Z"
   },
   {
    "duration": 4,
    "start_time": "2023-05-02T19:46:40.815Z"
   },
   {
    "duration": 2063,
    "start_time": "2023-05-02T19:47:39.460Z"
   },
   {
    "duration": 5561,
    "start_time": "2023-05-02T19:47:41.525Z"
   },
   {
    "duration": 3190,
    "start_time": "2023-05-02T19:47:47.089Z"
   },
   {
    "duration": 33,
    "start_time": "2023-05-02T19:47:50.281Z"
   },
   {
    "duration": 3,
    "start_time": "2023-05-02T19:47:50.316Z"
   },
   {
    "duration": 567,
    "start_time": "2023-05-02T19:47:50.321Z"
   },
   {
    "duration": 4,
    "start_time": "2023-05-02T19:47:50.890Z"
   },
   {
    "duration": 6,
    "start_time": "2023-05-02T19:47:50.896Z"
   },
   {
    "duration": 24,
    "start_time": "2023-05-02T19:47:50.904Z"
   },
   {
    "duration": 1018526,
    "start_time": "2023-05-02T19:47:50.932Z"
   },
   {
    "duration": 12,
    "start_time": "2023-05-02T20:04:49.460Z"
   },
   {
    "duration": 18,
    "start_time": "2023-05-02T20:04:49.474Z"
   },
   {
    "duration": 7,
    "start_time": "2023-05-02T20:04:49.494Z"
   },
   {
    "duration": 7,
    "start_time": "2023-05-02T20:04:49.503Z"
   },
   {
    "duration": 11,
    "start_time": "2023-05-02T20:04:49.512Z"
   },
   {
    "duration": 54,
    "start_time": "2023-05-02T20:04:49.524Z"
   },
   {
    "duration": 37,
    "start_time": "2023-05-02T20:04:49.580Z"
   },
   {
    "duration": 552,
    "start_time": "2023-05-02T20:04:49.618Z"
   },
   {
    "duration": 2,
    "start_time": "2023-05-02T20:04:50.172Z"
   },
   {
    "duration": 548,
    "start_time": "2023-05-02T20:04:50.176Z"
   },
   {
    "duration": 22,
    "start_time": "2023-05-02T20:04:50.726Z"
   },
   {
    "duration": 3,
    "start_time": "2023-05-02T20:04:50.750Z"
   },
   {
    "duration": 41,
    "start_time": "2023-05-02T20:04:50.754Z"
   },
   {
    "duration": 8,
    "start_time": "2023-05-02T20:04:50.797Z"
   },
   {
    "duration": 241,
    "start_time": "2023-05-02T20:04:50.806Z"
   },
   {
    "duration": 21,
    "start_time": "2023-05-02T20:04:51.049Z"
   },
   {
    "duration": 5984,
    "start_time": "2023-05-02T20:04:51.072Z"
   },
   {
    "duration": 205,
    "start_time": "2023-05-02T20:04:57.061Z"
   },
   {
    "duration": 338,
    "start_time": "2023-05-02T20:04:57.268Z"
   },
   {
    "duration": 7,
    "start_time": "2023-05-02T20:04:57.608Z"
   },
   {
    "duration": 18,
    "start_time": "2023-05-02T20:04:57.617Z"
   },
   {
    "duration": 15,
    "start_time": "2023-05-02T20:04:57.637Z"
   },
   {
    "duration": 43,
    "start_time": "2023-05-02T20:04:57.654Z"
   },
   {
    "duration": 87,
    "start_time": "2023-05-02T20:04:57.699Z"
   },
   {
    "duration": 5,
    "start_time": "2023-05-02T20:04:57.788Z"
   },
   {
    "duration": 19,
    "start_time": "2023-05-02T20:04:57.795Z"
   },
   {
    "duration": 6092,
    "start_time": "2023-05-02T20:04:57.815Z"
   },
   {
    "duration": 2,
    "start_time": "2023-05-02T20:05:03.909Z"
   },
   {
    "duration": 8,
    "start_time": "2023-05-02T20:05:03.913Z"
   },
   {
    "duration": 11,
    "start_time": "2023-05-02T20:05:03.923Z"
   },
   {
    "duration": 653,
    "start_time": "2023-05-02T20:05:03.935Z"
   },
   {
    "duration": 27,
    "start_time": "2023-05-02T20:05:30.273Z"
   },
   {
    "duration": 4,
    "start_time": "2023-05-02T20:05:53.555Z"
   },
   {
    "duration": 45,
    "start_time": "2023-05-02T22:36:59.759Z"
   },
   {
    "duration": 1945,
    "start_time": "2023-05-02T22:37:56.472Z"
   },
   {
    "duration": 6310,
    "start_time": "2023-05-02T22:37:58.419Z"
   },
   {
    "duration": 3182,
    "start_time": "2023-05-02T22:38:04.731Z"
   },
   {
    "duration": 36,
    "start_time": "2023-05-02T22:38:07.915Z"
   },
   {
    "duration": 4,
    "start_time": "2023-05-02T22:38:07.953Z"
   },
   {
    "duration": 590,
    "start_time": "2023-05-02T22:38:07.959Z"
   },
   {
    "duration": 4,
    "start_time": "2023-05-02T22:38:08.551Z"
   },
   {
    "duration": 9,
    "start_time": "2023-05-02T22:38:08.557Z"
   },
   {
    "duration": 6,
    "start_time": "2023-05-02T22:38:08.567Z"
   },
   {
    "duration": 967739,
    "start_time": "2023-05-02T22:38:08.575Z"
   },
   {
    "duration": 12,
    "start_time": "2023-05-02T22:54:16.315Z"
   },
   {
    "duration": 7,
    "start_time": "2023-05-02T22:54:16.329Z"
   },
   {
    "duration": 9,
    "start_time": "2023-05-02T22:54:16.337Z"
   },
   {
    "duration": 6,
    "start_time": "2023-05-02T22:54:16.347Z"
   },
   {
    "duration": 6,
    "start_time": "2023-05-02T22:54:16.354Z"
   },
   {
    "duration": 58,
    "start_time": "2023-05-02T22:54:16.361Z"
   },
   {
    "duration": 44,
    "start_time": "2023-05-02T22:54:16.421Z"
   },
   {
    "duration": 560,
    "start_time": "2023-05-02T22:54:16.466Z"
   },
   {
    "duration": 2,
    "start_time": "2023-05-02T22:54:17.028Z"
   },
   {
    "duration": 518,
    "start_time": "2023-05-02T22:54:17.032Z"
   },
   {
    "duration": 24,
    "start_time": "2023-05-02T22:54:17.552Z"
   },
   {
    "duration": 3,
    "start_time": "2023-05-02T22:54:17.591Z"
   },
   {
    "duration": 30,
    "start_time": "2023-05-02T22:54:17.595Z"
   },
   {
    "duration": 8,
    "start_time": "2023-05-02T22:54:17.626Z"
   },
   {
    "duration": 243,
    "start_time": "2023-05-02T22:54:17.636Z"
   },
   {
    "duration": 28,
    "start_time": "2023-05-02T22:54:17.880Z"
   },
   {
    "duration": 5756,
    "start_time": "2023-05-02T22:54:17.910Z"
   },
   {
    "duration": 207,
    "start_time": "2023-05-02T22:54:23.670Z"
   },
   {
    "duration": 330,
    "start_time": "2023-05-02T22:54:23.879Z"
   },
   {
    "duration": 6,
    "start_time": "2023-05-02T22:54:24.211Z"
   },
   {
    "duration": 10,
    "start_time": "2023-05-02T22:54:24.218Z"
   },
   {
    "duration": 28,
    "start_time": "2023-05-02T22:54:24.229Z"
   },
   {
    "duration": 8,
    "start_time": "2023-05-02T22:54:24.259Z"
   },
   {
    "duration": 74,
    "start_time": "2023-05-02T22:54:24.269Z"
   },
   {
    "duration": 3,
    "start_time": "2023-05-02T22:54:24.345Z"
   },
   {
    "duration": 4,
    "start_time": "2023-05-02T22:54:24.350Z"
   },
   {
    "duration": 5899,
    "start_time": "2023-05-02T22:54:24.356Z"
   },
   {
    "duration": 2,
    "start_time": "2023-05-02T22:54:30.257Z"
   },
   {
    "duration": 21,
    "start_time": "2023-05-02T22:54:30.260Z"
   },
   {
    "duration": 32,
    "start_time": "2023-05-02T22:54:30.283Z"
   },
   {
    "duration": 671,
    "start_time": "2023-05-02T22:54:30.317Z"
   },
   {
    "duration": 4,
    "start_time": "2023-05-02T22:54:30.992Z"
   },
   {
    "duration": 2029,
    "start_time": "2023-05-03T00:30:02.711Z"
   },
   {
    "duration": 5447,
    "start_time": "2023-05-03T00:30:04.742Z"
   },
   {
    "duration": 3180,
    "start_time": "2023-05-03T00:30:10.191Z"
   },
   {
    "duration": 34,
    "start_time": "2023-05-03T00:30:13.373Z"
   },
   {
    "duration": 9,
    "start_time": "2023-05-03T00:30:13.409Z"
   },
   {
    "duration": 601,
    "start_time": "2023-05-03T00:30:13.419Z"
   },
   {
    "duration": 5,
    "start_time": "2023-05-03T00:30:14.021Z"
   },
   {
    "duration": 19,
    "start_time": "2023-05-03T00:30:14.027Z"
   },
   {
    "duration": 12,
    "start_time": "2023-05-03T00:30:14.047Z"
   },
   {
    "duration": 962870,
    "start_time": "2023-05-03T00:30:14.061Z"
   },
   {
    "duration": 11,
    "start_time": "2023-05-03T00:46:16.933Z"
   },
   {
    "duration": 6,
    "start_time": "2023-05-03T00:46:16.945Z"
   },
   {
    "duration": 6,
    "start_time": "2023-05-03T00:46:16.953Z"
   },
   {
    "duration": 3,
    "start_time": "2023-05-03T00:46:16.962Z"
   },
   {
    "duration": 11,
    "start_time": "2023-05-03T00:46:16.967Z"
   },
   {
    "duration": 62,
    "start_time": "2023-05-03T00:46:16.979Z"
   },
   {
    "duration": 47,
    "start_time": "2023-05-03T00:46:17.042Z"
   },
   {
    "duration": 529,
    "start_time": "2023-05-03T00:46:17.090Z"
   },
   {
    "duration": 2,
    "start_time": "2023-05-03T00:46:17.620Z"
   },
   {
    "duration": 478,
    "start_time": "2023-05-03T00:46:17.624Z"
   },
   {
    "duration": 21,
    "start_time": "2023-05-03T00:46:18.104Z"
   },
   {
    "duration": 3,
    "start_time": "2023-05-03T00:46:18.127Z"
   },
   {
    "duration": 26,
    "start_time": "2023-05-03T00:46:18.131Z"
   },
   {
    "duration": 8,
    "start_time": "2023-05-03T00:46:18.158Z"
   },
   {
    "duration": 250,
    "start_time": "2023-05-03T00:46:18.167Z"
   },
   {
    "duration": 23,
    "start_time": "2023-05-03T00:46:18.418Z"
   },
   {
    "duration": 5764,
    "start_time": "2023-05-03T00:46:18.442Z"
   },
   {
    "duration": 194,
    "start_time": "2023-05-03T00:46:24.207Z"
   },
   {
    "duration": 330,
    "start_time": "2023-05-03T00:46:24.402Z"
   },
   {
    "duration": 5,
    "start_time": "2023-05-03T00:46:24.734Z"
   },
   {
    "duration": 3,
    "start_time": "2023-05-03T00:46:24.741Z"
   },
   {
    "duration": 3,
    "start_time": "2023-05-03T00:46:24.746Z"
   },
   {
    "duration": 5,
    "start_time": "2023-05-03T00:46:24.751Z"
   },
   {
    "duration": 86,
    "start_time": "2023-05-03T00:46:24.757Z"
   },
   {
    "duration": 3,
    "start_time": "2023-05-03T00:46:24.845Z"
   },
   {
    "duration": 5,
    "start_time": "2023-05-03T00:46:24.849Z"
   },
   {
    "duration": 5753,
    "start_time": "2023-05-03T00:46:24.855Z"
   },
   {
    "duration": 2,
    "start_time": "2023-05-03T00:46:30.610Z"
   },
   {
    "duration": 19,
    "start_time": "2023-05-03T00:46:30.614Z"
   },
   {
    "duration": 19,
    "start_time": "2023-05-03T00:46:30.634Z"
   },
   {
    "duration": 677,
    "start_time": "2023-05-03T00:46:30.656Z"
   },
   {
    "duration": 372,
    "start_time": "2023-05-03T00:46:31.335Z"
   },
   {
    "duration": 59,
    "start_time": "2023-05-03T00:46:31.708Z"
   },
   {
    "duration": 19,
    "start_time": "2023-05-03T00:46:31.768Z"
   },
   {
    "duration": 0,
    "start_time": "2023-05-03T00:46:31.788Z"
   },
   {
    "duration": 98,
    "start_time": "2023-05-03T04:00:00.663Z"
   },
   {
    "duration": 4,
    "start_time": "2023-05-03T04:00:42.118Z"
   },
   {
    "duration": 6834,
    "start_time": "2023-05-03T06:28:26.963Z"
   },
   {
    "duration": 4995,
    "start_time": "2023-05-03T06:28:33.799Z"
   },
   {
    "duration": 2313,
    "start_time": "2023-05-03T06:28:38.795Z"
   },
   {
    "duration": 32,
    "start_time": "2023-05-03T06:28:41.111Z"
   },
   {
    "duration": 8,
    "start_time": "2023-05-03T06:28:41.145Z"
   },
   {
    "duration": 626,
    "start_time": "2023-05-03T06:28:41.155Z"
   },
   {
    "duration": 5,
    "start_time": "2023-05-03T06:28:41.783Z"
   },
   {
    "duration": 6,
    "start_time": "2023-05-03T06:28:41.790Z"
   },
   {
    "duration": 8,
    "start_time": "2023-05-03T06:28:41.797Z"
   },
   {
    "duration": 938997,
    "start_time": "2023-05-03T06:28:41.808Z"
   },
   {
    "duration": 13,
    "start_time": "2023-05-03T06:44:20.807Z"
   },
   {
    "duration": 47,
    "start_time": "2023-05-03T06:44:20.821Z"
   },
   {
    "duration": 35,
    "start_time": "2023-05-03T06:44:20.870Z"
   },
   {
    "duration": 77,
    "start_time": "2023-05-03T06:44:20.907Z"
   },
   {
    "duration": 33,
    "start_time": "2023-05-03T06:44:20.986Z"
   },
   {
    "duration": 87,
    "start_time": "2023-05-03T06:44:21.021Z"
   },
   {
    "duration": 53,
    "start_time": "2023-05-03T06:44:21.111Z"
   },
   {
    "duration": 631,
    "start_time": "2023-05-03T06:44:21.166Z"
   },
   {
    "duration": 2,
    "start_time": "2023-05-03T06:44:21.799Z"
   },
   {
    "duration": 545,
    "start_time": "2023-05-03T06:44:21.803Z"
   },
   {
    "duration": 20,
    "start_time": "2023-05-03T06:44:22.350Z"
   },
   {
    "duration": 9,
    "start_time": "2023-05-03T06:44:22.382Z"
   },
   {
    "duration": 32,
    "start_time": "2023-05-03T06:44:22.393Z"
   },
   {
    "duration": 8,
    "start_time": "2023-05-03T06:44:22.427Z"
   },
   {
    "duration": 308,
    "start_time": "2023-05-03T06:44:22.436Z"
   },
   {
    "duration": 19,
    "start_time": "2023-05-03T06:44:22.746Z"
   },
   {
    "duration": 6499,
    "start_time": "2023-05-03T06:44:22.766Z"
   },
   {
    "duration": 189,
    "start_time": "2023-05-03T06:44:29.269Z"
   },
   {
    "duration": 329,
    "start_time": "2023-05-03T06:44:29.459Z"
   },
   {
    "duration": 7,
    "start_time": "2023-05-03T06:44:29.790Z"
   },
   {
    "duration": 28,
    "start_time": "2023-05-03T06:44:29.800Z"
   },
   {
    "duration": 20,
    "start_time": "2023-05-03T06:44:29.839Z"
   },
   {
    "duration": 11,
    "start_time": "2023-05-03T06:44:29.861Z"
   },
   {
    "duration": 115,
    "start_time": "2023-05-03T06:44:29.874Z"
   },
   {
    "duration": 3,
    "start_time": "2023-05-03T06:44:29.991Z"
   },
   {
    "duration": 47,
    "start_time": "2023-05-03T06:44:29.996Z"
   },
   {
    "duration": 6501,
    "start_time": "2023-05-03T06:44:30.045Z"
   },
   {
    "duration": 3,
    "start_time": "2023-05-03T06:44:36.548Z"
   },
   {
    "duration": 22,
    "start_time": "2023-05-03T06:44:36.553Z"
   },
   {
    "duration": 37,
    "start_time": "2023-05-03T06:44:36.576Z"
   },
   {
    "duration": 730,
    "start_time": "2023-05-03T06:44:36.615Z"
   },
   {
    "duration": 5,
    "start_time": "2023-05-03T06:45:38.445Z"
   },
   {
    "duration": 2339,
    "start_time": "2023-05-03T08:36:24.347Z"
   },
   {
    "duration": 6037,
    "start_time": "2023-05-03T08:36:26.688Z"
   },
   {
    "duration": 2286,
    "start_time": "2023-05-03T08:36:32.726Z"
   },
   {
    "duration": 30,
    "start_time": "2023-05-03T08:36:35.014Z"
   },
   {
    "duration": 2,
    "start_time": "2023-05-03T08:36:35.046Z"
   },
   {
    "duration": 559,
    "start_time": "2023-05-03T08:36:35.050Z"
   },
   {
    "duration": 5,
    "start_time": "2023-05-03T08:36:35.611Z"
   },
   {
    "duration": 12,
    "start_time": "2023-05-03T08:36:35.618Z"
   },
   {
    "duration": 7,
    "start_time": "2023-05-03T08:36:35.632Z"
   },
   {
    "duration": 973253,
    "start_time": "2023-05-03T08:36:35.642Z"
   },
   {
    "duration": 14,
    "start_time": "2023-05-03T08:52:48.897Z"
   },
   {
    "duration": 44,
    "start_time": "2023-05-03T08:52:48.913Z"
   },
   {
    "duration": 17,
    "start_time": "2023-05-03T08:52:48.959Z"
   },
   {
    "duration": 28,
    "start_time": "2023-05-03T08:52:48.978Z"
   },
   {
    "duration": 18,
    "start_time": "2023-05-03T08:52:49.008Z"
   },
   {
    "duration": 72,
    "start_time": "2023-05-03T08:52:49.028Z"
   },
   {
    "duration": 50,
    "start_time": "2023-05-03T08:52:49.102Z"
   },
   {
    "duration": 686,
    "start_time": "2023-05-03T08:52:49.154Z"
   },
   {
    "duration": 3,
    "start_time": "2023-05-03T08:52:49.843Z"
   },
   {
    "duration": 580,
    "start_time": "2023-05-03T08:52:49.848Z"
   },
   {
    "duration": 19,
    "start_time": "2023-05-03T08:52:50.430Z"
   },
   {
    "duration": 31,
    "start_time": "2023-05-03T08:52:50.451Z"
   },
   {
    "duration": 53,
    "start_time": "2023-05-03T08:52:50.485Z"
   },
   {
    "duration": 11,
    "start_time": "2023-05-03T08:52:50.541Z"
   },
   {
    "duration": 279,
    "start_time": "2023-05-03T08:52:50.554Z"
   },
   {
    "duration": 18,
    "start_time": "2023-05-03T08:52:50.835Z"
   },
   {
    "duration": 5861,
    "start_time": "2023-05-03T08:52:50.854Z"
   },
   {
    "duration": 190,
    "start_time": "2023-05-03T08:52:56.719Z"
   },
   {
    "duration": 327,
    "start_time": "2023-05-03T08:52:56.910Z"
   },
   {
    "duration": 8,
    "start_time": "2023-05-03T08:52:57.239Z"
   },
   {
    "duration": 13,
    "start_time": "2023-05-03T08:52:57.250Z"
   },
   {
    "duration": 19,
    "start_time": "2023-05-03T08:52:57.265Z"
   },
   {
    "duration": 14,
    "start_time": "2023-05-03T08:52:57.286Z"
   },
   {
    "duration": 155,
    "start_time": "2023-05-03T08:52:57.302Z"
   },
   {
    "duration": 3,
    "start_time": "2023-05-03T08:52:57.459Z"
   },
   {
    "duration": 18,
    "start_time": "2023-05-03T08:52:57.464Z"
   },
   {
    "duration": 6057,
    "start_time": "2023-05-03T08:52:57.484Z"
   },
   {
    "duration": 3,
    "start_time": "2023-05-03T08:53:03.543Z"
   },
   {
    "duration": 33,
    "start_time": "2023-05-03T08:53:03.547Z"
   },
   {
    "duration": 19,
    "start_time": "2023-05-03T08:53:03.582Z"
   },
   {
    "duration": 686,
    "start_time": "2023-05-03T08:53:03.602Z"
   },
   {
    "duration": 3,
    "start_time": "2023-05-03T08:53:04.289Z"
   },
   {
    "duration": 27,
    "start_time": "2023-05-03T08:53:04.293Z"
   },
   {
    "duration": 25,
    "start_time": "2023-05-03T08:53:04.321Z"
   },
   {
    "duration": 15,
    "start_time": "2023-05-03T08:53:04.348Z"
   },
   {
    "duration": 22,
    "start_time": "2023-05-03T08:53:04.364Z"
   },
   {
    "duration": 24,
    "start_time": "2023-05-03T08:53:04.388Z"
   },
   {
    "duration": 28,
    "start_time": "2023-05-03T08:53:04.414Z"
   },
   {
    "duration": 125891,
    "start_time": "2023-05-03T08:53:04.444Z"
   },
   {
    "duration": 407,
    "start_time": "2023-05-03T08:55:10.336Z"
   },
   {
    "duration": 0,
    "start_time": "2023-05-03T08:55:10.745Z"
   },
   {
    "duration": 0,
    "start_time": "2023-05-03T08:55:10.746Z"
   },
   {
    "duration": 0,
    "start_time": "2023-05-03T08:55:10.748Z"
   },
   {
    "duration": 0,
    "start_time": "2023-05-03T08:55:10.749Z"
   },
   {
    "duration": 0,
    "start_time": "2023-05-03T08:55:10.751Z"
   },
   {
    "duration": 0,
    "start_time": "2023-05-03T08:55:10.752Z"
   },
   {
    "duration": 0,
    "start_time": "2023-05-03T08:55:10.753Z"
   },
   {
    "duration": 0,
    "start_time": "2023-05-03T08:55:10.755Z"
   },
   {
    "duration": 0,
    "start_time": "2023-05-03T08:55:10.756Z"
   },
   {
    "duration": 0,
    "start_time": "2023-05-03T08:55:10.757Z"
   },
   {
    "duration": 0,
    "start_time": "2023-05-03T08:55:10.784Z"
   },
   {
    "duration": 0,
    "start_time": "2023-05-03T08:55:10.786Z"
   },
   {
    "duration": 0,
    "start_time": "2023-05-03T08:55:10.787Z"
   },
   {
    "duration": 0,
    "start_time": "2023-05-03T08:55:10.789Z"
   },
   {
    "duration": 400,
    "start_time": "2023-05-03T08:57:26.813Z"
   },
   {
    "duration": 23,
    "start_time": "2023-05-03T08:58:46.956Z"
   },
   {
    "duration": 25,
    "start_time": "2023-05-03T08:58:55.617Z"
   },
   {
    "duration": 1153,
    "start_time": "2023-05-03T09:01:05.905Z"
   },
   {
    "duration": 111,
    "start_time": "2023-05-03T09:02:47.309Z"
   },
   {
    "duration": 23,
    "start_time": "2023-05-03T09:03:10.589Z"
   },
   {
    "duration": 2400,
    "start_time": "2023-05-03T10:31:40.323Z"
   },
   {
    "duration": 6044,
    "start_time": "2023-05-03T10:31:42.726Z"
   },
   {
    "duration": 2358,
    "start_time": "2023-05-03T10:31:48.772Z"
   },
   {
    "duration": 29,
    "start_time": "2023-05-03T10:31:51.133Z"
   },
   {
    "duration": 21,
    "start_time": "2023-05-03T10:31:51.164Z"
   },
   {
    "duration": 603,
    "start_time": "2023-05-03T10:31:51.187Z"
   },
   {
    "duration": 4,
    "start_time": "2023-05-03T10:31:51.791Z"
   },
   {
    "duration": 32,
    "start_time": "2023-05-03T10:31:51.798Z"
   },
   {
    "duration": 27,
    "start_time": "2023-05-03T10:31:51.831Z"
   },
   {
    "duration": 1081480,
    "start_time": "2023-05-03T10:31:51.860Z"
   },
   {
    "duration": 19,
    "start_time": "2023-05-03T10:49:53.342Z"
   },
   {
    "duration": 36,
    "start_time": "2023-05-03T10:49:53.363Z"
   },
   {
    "duration": 27,
    "start_time": "2023-05-03T10:49:53.403Z"
   },
   {
    "duration": 21,
    "start_time": "2023-05-03T10:49:53.433Z"
   },
   {
    "duration": 27,
    "start_time": "2023-05-03T10:49:53.457Z"
   },
   {
    "duration": 106,
    "start_time": "2023-05-03T10:49:53.486Z"
   },
   {
    "duration": 76,
    "start_time": "2023-05-03T10:49:53.596Z"
   },
   {
    "duration": 805,
    "start_time": "2023-05-03T10:49:53.675Z"
   },
   {
    "duration": 6,
    "start_time": "2023-05-03T10:49:54.487Z"
   },
   {
    "duration": 949,
    "start_time": "2023-05-03T10:49:54.496Z"
   },
   {
    "duration": 41,
    "start_time": "2023-05-03T10:49:55.447Z"
   },
   {
    "duration": 28,
    "start_time": "2023-05-03T10:49:55.491Z"
   },
   {
    "duration": 96,
    "start_time": "2023-05-03T10:49:55.523Z"
   },
   {
    "duration": 24,
    "start_time": "2023-05-03T10:49:55.621Z"
   },
   {
    "duration": 324,
    "start_time": "2023-05-03T10:49:55.647Z"
   },
   {
    "duration": 29,
    "start_time": "2023-05-03T10:49:55.973Z"
   },
   {
    "duration": 9584,
    "start_time": "2023-05-03T10:49:56.005Z"
   },
   {
    "duration": 283,
    "start_time": "2023-05-03T10:50:05.594Z"
   },
   {
    "duration": 383,
    "start_time": "2023-05-03T10:50:05.886Z"
   },
   {
    "duration": 17,
    "start_time": "2023-05-03T10:50:06.271Z"
   },
   {
    "duration": 28,
    "start_time": "2023-05-03T10:50:06.290Z"
   },
   {
    "duration": 52,
    "start_time": "2023-05-03T10:50:06.320Z"
   },
   {
    "duration": 81,
    "start_time": "2023-05-03T10:50:06.374Z"
   },
   {
    "duration": 241,
    "start_time": "2023-05-03T10:50:06.457Z"
   },
   {
    "duration": 4,
    "start_time": "2023-05-03T10:50:06.701Z"
   },
   {
    "duration": 74,
    "start_time": "2023-05-03T10:50:06.707Z"
   },
   {
    "duration": 7982,
    "start_time": "2023-05-03T10:50:06.783Z"
   },
   {
    "duration": 2,
    "start_time": "2023-05-03T10:50:14.767Z"
   },
   {
    "duration": 18,
    "start_time": "2023-05-03T10:50:14.771Z"
   },
   {
    "duration": 10,
    "start_time": "2023-05-03T10:50:14.791Z"
   },
   {
    "duration": 933,
    "start_time": "2023-05-03T10:50:14.803Z"
   },
   {
    "duration": 2155,
    "start_time": "2023-05-03T18:56:24.538Z"
   },
   {
    "duration": 5583,
    "start_time": "2023-05-03T18:56:26.695Z"
   },
   {
    "duration": 2242,
    "start_time": "2023-05-03T18:56:32.279Z"
   },
   {
    "duration": 28,
    "start_time": "2023-05-03T18:56:34.523Z"
   },
   {
    "duration": 3,
    "start_time": "2023-05-03T18:56:34.553Z"
   },
   {
    "duration": 603,
    "start_time": "2023-05-03T18:56:34.557Z"
   },
   {
    "duration": 3,
    "start_time": "2023-05-03T18:56:35.162Z"
   },
   {
    "duration": 10,
    "start_time": "2023-05-03T18:56:35.167Z"
   },
   {
    "duration": 27,
    "start_time": "2023-05-03T18:56:35.178Z"
   },
   {
    "duration": 951591,
    "start_time": "2023-05-03T18:56:35.207Z"
   },
   {
    "duration": 12,
    "start_time": "2023-05-03T19:12:26.800Z"
   },
   {
    "duration": 9,
    "start_time": "2023-05-03T19:12:26.813Z"
   },
   {
    "duration": 9,
    "start_time": "2023-05-03T19:12:26.824Z"
   },
   {
    "duration": 12,
    "start_time": "2023-05-03T19:12:26.835Z"
   },
   {
    "duration": 19,
    "start_time": "2023-05-03T19:12:26.851Z"
   },
   {
    "duration": 40,
    "start_time": "2023-05-03T19:12:26.871Z"
   },
   {
    "duration": 47,
    "start_time": "2023-05-03T19:12:26.913Z"
   },
   {
    "duration": 548,
    "start_time": "2023-05-03T19:12:26.962Z"
   },
   {
    "duration": 3,
    "start_time": "2023-05-03T19:12:27.511Z"
   },
   {
    "duration": 530,
    "start_time": "2023-05-03T19:12:27.515Z"
   },
   {
    "duration": 18,
    "start_time": "2023-05-03T19:12:28.047Z"
   },
   {
    "duration": 32,
    "start_time": "2023-05-03T19:12:28.067Z"
   },
   {
    "duration": 31,
    "start_time": "2023-05-03T19:12:28.101Z"
   },
   {
    "duration": 7,
    "start_time": "2023-05-03T19:12:28.134Z"
   },
   {
    "duration": 240,
    "start_time": "2023-05-03T19:12:28.143Z"
   },
   {
    "duration": 22,
    "start_time": "2023-05-03T19:12:28.386Z"
   },
   {
    "duration": 6112,
    "start_time": "2023-05-03T19:12:28.409Z"
   },
   {
    "duration": 200,
    "start_time": "2023-05-03T19:12:34.524Z"
   },
   {
    "duration": 335,
    "start_time": "2023-05-03T19:12:34.725Z"
   },
   {
    "duration": 28,
    "start_time": "2023-05-03T19:12:35.062Z"
   },
   {
    "duration": 9,
    "start_time": "2023-05-03T19:12:35.094Z"
   },
   {
    "duration": 14,
    "start_time": "2023-05-03T19:12:35.106Z"
   },
   {
    "duration": 10,
    "start_time": "2023-05-03T19:12:35.122Z"
   },
   {
    "duration": 88,
    "start_time": "2023-05-03T19:12:35.134Z"
   },
   {
    "duration": 4,
    "start_time": "2023-05-03T19:12:35.224Z"
   },
   {
    "duration": 9,
    "start_time": "2023-05-03T19:12:35.230Z"
   },
   {
    "duration": 6166,
    "start_time": "2023-05-03T19:12:35.241Z"
   },
   {
    "duration": 3,
    "start_time": "2023-05-03T19:12:41.409Z"
   },
   {
    "duration": 20,
    "start_time": "2023-05-03T19:12:41.414Z"
   },
   {
    "duration": 24,
    "start_time": "2023-05-03T19:12:41.436Z"
   },
   {
    "duration": 786,
    "start_time": "2023-05-03T19:12:41.461Z"
   },
   {
    "duration": 2,
    "start_time": "2023-05-03T19:14:04.641Z"
   },
   {
    "duration": 1084,
    "start_time": "2023-05-03T19:14:38.307Z"
   },
   {
    "duration": 2214,
    "start_time": "2023-05-03T19:35:42.235Z"
   },
   {
    "duration": 5288,
    "start_time": "2023-05-03T19:35:44.452Z"
   },
   {
    "duration": 2248,
    "start_time": "2023-05-03T19:35:49.742Z"
   },
   {
    "duration": 30,
    "start_time": "2023-05-03T19:35:51.991Z"
   },
   {
    "duration": 5,
    "start_time": "2023-05-03T19:35:52.023Z"
   },
   {
    "duration": 589,
    "start_time": "2023-05-03T19:35:52.030Z"
   },
   {
    "duration": 4,
    "start_time": "2023-05-03T19:35:52.621Z"
   },
   {
    "duration": 11,
    "start_time": "2023-05-03T19:35:52.626Z"
   },
   {
    "duration": 29,
    "start_time": "2023-05-03T19:35:52.639Z"
   },
   {
    "duration": 923076,
    "start_time": "2023-05-03T19:35:52.670Z"
   },
   {
    "duration": 10,
    "start_time": "2023-05-03T19:51:15.748Z"
   },
   {
    "duration": 8,
    "start_time": "2023-05-03T19:51:15.760Z"
   },
   {
    "duration": 15,
    "start_time": "2023-05-03T19:51:15.769Z"
   },
   {
    "duration": 7,
    "start_time": "2023-05-03T19:51:15.787Z"
   },
   {
    "duration": 7,
    "start_time": "2023-05-03T19:51:15.796Z"
   },
   {
    "duration": 61,
    "start_time": "2023-05-03T19:51:15.804Z"
   },
   {
    "duration": 46,
    "start_time": "2023-05-03T19:51:15.866Z"
   },
   {
    "duration": 537,
    "start_time": "2023-05-03T19:51:15.914Z"
   },
   {
    "duration": 2,
    "start_time": "2023-05-03T19:51:16.453Z"
   },
   {
    "duration": 508,
    "start_time": "2023-05-03T19:51:16.456Z"
   },
   {
    "duration": 26,
    "start_time": "2023-05-03T19:51:16.966Z"
   },
   {
    "duration": 2,
    "start_time": "2023-05-03T19:51:16.995Z"
   },
   {
    "duration": 32,
    "start_time": "2023-05-03T19:51:16.999Z"
   },
   {
    "duration": 9,
    "start_time": "2023-05-03T19:51:17.033Z"
   },
   {
    "duration": 255,
    "start_time": "2023-05-03T19:51:17.044Z"
   },
   {
    "duration": 19,
    "start_time": "2023-05-03T19:51:17.301Z"
   },
   {
    "duration": 6017,
    "start_time": "2023-05-03T19:51:17.321Z"
   },
   {
    "duration": 204,
    "start_time": "2023-05-03T19:51:23.340Z"
   },
   {
    "duration": 326,
    "start_time": "2023-05-03T19:51:23.546Z"
   },
   {
    "duration": 10,
    "start_time": "2023-05-03T19:51:23.873Z"
   },
   {
    "duration": 15,
    "start_time": "2023-05-03T19:51:23.885Z"
   },
   {
    "duration": 22,
    "start_time": "2023-05-03T19:51:23.902Z"
   },
   {
    "duration": 20,
    "start_time": "2023-05-03T19:51:23.925Z"
   },
   {
    "duration": 78,
    "start_time": "2023-05-03T19:51:23.947Z"
   },
   {
    "duration": 4,
    "start_time": "2023-05-03T19:51:24.027Z"
   },
   {
    "duration": 12,
    "start_time": "2023-05-03T19:51:24.032Z"
   },
   {
    "duration": 6116,
    "start_time": "2023-05-03T19:51:24.045Z"
   },
   {
    "duration": 3,
    "start_time": "2023-05-03T19:51:30.162Z"
   },
   {
    "duration": 18,
    "start_time": "2023-05-03T19:51:30.166Z"
   },
   {
    "duration": 17,
    "start_time": "2023-05-03T19:51:30.186Z"
   },
   {
    "duration": 703,
    "start_time": "2023-05-03T19:51:30.207Z"
   },
   {
    "duration": 2131,
    "start_time": "2023-05-03T20:20:28.304Z"
   },
   {
    "duration": 5832,
    "start_time": "2023-05-03T20:20:30.437Z"
   },
   {
    "duration": 2224,
    "start_time": "2023-05-03T20:20:36.271Z"
   },
   {
    "duration": 33,
    "start_time": "2023-05-03T20:20:38.497Z"
   },
   {
    "duration": 9,
    "start_time": "2023-05-03T20:20:38.532Z"
   },
   {
    "duration": 555,
    "start_time": "2023-05-03T20:20:38.543Z"
   },
   {
    "duration": 4,
    "start_time": "2023-05-03T20:20:39.100Z"
   },
   {
    "duration": 18,
    "start_time": "2023-05-03T20:20:39.105Z"
   },
   {
    "duration": 28,
    "start_time": "2023-05-03T20:20:39.124Z"
   },
   {
    "duration": 906591,
    "start_time": "2023-05-03T20:20:39.154Z"
   },
   {
    "duration": 12,
    "start_time": "2023-05-03T20:35:45.747Z"
   },
   {
    "duration": 28,
    "start_time": "2023-05-03T20:35:45.761Z"
   },
   {
    "duration": 25,
    "start_time": "2023-05-03T20:35:45.790Z"
   },
   {
    "duration": 32,
    "start_time": "2023-05-03T20:35:45.817Z"
   },
   {
    "duration": 27,
    "start_time": "2023-05-03T20:35:45.851Z"
   },
   {
    "duration": 81,
    "start_time": "2023-05-03T20:35:45.879Z"
   },
   {
    "duration": 38,
    "start_time": "2023-05-03T20:35:45.962Z"
   },
   {
    "duration": 528,
    "start_time": "2023-05-03T20:35:46.002Z"
   },
   {
    "duration": 2,
    "start_time": "2023-05-03T20:35:46.532Z"
   },
   {
    "duration": 531,
    "start_time": "2023-05-03T20:35:46.536Z"
   },
   {
    "duration": 32,
    "start_time": "2023-05-03T20:35:47.069Z"
   },
   {
    "duration": 9,
    "start_time": "2023-05-03T20:35:47.103Z"
   },
   {
    "duration": 35,
    "start_time": "2023-05-03T20:35:47.114Z"
   },
   {
    "duration": 7,
    "start_time": "2023-05-03T20:35:47.151Z"
   },
   {
    "duration": 240,
    "start_time": "2023-05-03T20:35:47.160Z"
   },
   {
    "duration": 18,
    "start_time": "2023-05-03T20:35:47.402Z"
   },
   {
    "duration": 5895,
    "start_time": "2023-05-03T20:35:47.422Z"
   },
   {
    "duration": 189,
    "start_time": "2023-05-03T20:35:53.320Z"
   },
   {
    "duration": 321,
    "start_time": "2023-05-03T20:35:53.511Z"
   },
   {
    "duration": 6,
    "start_time": "2023-05-03T20:35:53.834Z"
   },
   {
    "duration": 4,
    "start_time": "2023-05-03T20:35:53.841Z"
   },
   {
    "duration": 9,
    "start_time": "2023-05-03T20:35:53.846Z"
   },
   {
    "duration": 5,
    "start_time": "2023-05-03T20:35:53.856Z"
   },
   {
    "duration": 88,
    "start_time": "2023-05-03T20:35:53.863Z"
   },
   {
    "duration": 4,
    "start_time": "2023-05-03T20:35:53.953Z"
   },
   {
    "duration": 10,
    "start_time": "2023-05-03T20:35:53.958Z"
   },
   {
    "duration": 5816,
    "start_time": "2023-05-03T20:35:53.970Z"
   },
   {
    "duration": 2,
    "start_time": "2023-05-03T20:35:59.788Z"
   },
   {
    "duration": 9,
    "start_time": "2023-05-03T20:35:59.791Z"
   },
   {
    "duration": 10,
    "start_time": "2023-05-03T20:35:59.802Z"
   },
   {
    "duration": 675,
    "start_time": "2023-05-03T20:35:59.813Z"
   },
   {
    "duration": 12389665,
    "start_time": "2023-05-03T20:42:00.977Z"
   },
   {
    "duration": 326,
    "start_time": "2023-05-04T01:43:04.614Z"
   },
   {
    "duration": 17,
    "start_time": "2023-05-04T01:44:35.882Z"
   },
   {
    "duration": 16,
    "start_time": "2023-05-04T04:32:18.911Z"
   },
   {
    "duration": 18,
    "start_time": "2023-05-04T04:32:31.495Z"
   },
   {
    "duration": 18,
    "start_time": "2023-05-04T04:32:42.170Z"
   },
   {
    "duration": 3,
    "start_time": "2023-05-04T04:33:33.883Z"
   },
   {
    "duration": 3,
    "start_time": "2023-05-04T04:34:34.468Z"
   },
   {
    "duration": 2,
    "start_time": "2023-05-04T04:34:43.391Z"
   },
   {
    "duration": 2,
    "start_time": "2023-05-04T04:34:54.111Z"
   },
   {
    "duration": 9,
    "start_time": "2023-05-04T04:34:55.492Z"
   },
   {
    "duration": 4,
    "start_time": "2023-05-04T04:36:06.533Z"
   },
   {
    "duration": 9289,
    "start_time": "2023-05-04T06:06:03.323Z"
   },
   {
    "duration": 4904,
    "start_time": "2023-05-04T06:06:12.616Z"
   },
   {
    "duration": 3264,
    "start_time": "2023-05-04T06:06:17.522Z"
   },
   {
    "duration": 32,
    "start_time": "2023-05-04T06:06:20.787Z"
   },
   {
    "duration": 26,
    "start_time": "2023-05-04T06:06:20.821Z"
   },
   {
    "duration": 538,
    "start_time": "2023-05-04T06:06:20.849Z"
   },
   {
    "duration": 6,
    "start_time": "2023-05-04T06:06:21.389Z"
   },
   {
    "duration": 5,
    "start_time": "2023-05-04T06:06:21.398Z"
   },
   {
    "duration": 5,
    "start_time": "2023-05-04T06:06:21.406Z"
   },
   {
    "duration": 1005692,
    "start_time": "2023-05-04T06:06:21.413Z"
   },
   {
    "duration": 12,
    "start_time": "2023-05-04T06:23:07.106Z"
   },
   {
    "duration": 5,
    "start_time": "2023-05-04T06:23:07.120Z"
   },
   {
    "duration": 5,
    "start_time": "2023-05-04T06:23:07.127Z"
   },
   {
    "duration": 19,
    "start_time": "2023-05-04T06:23:07.136Z"
   },
   {
    "duration": 12,
    "start_time": "2023-05-04T06:23:07.158Z"
   },
   {
    "duration": 52,
    "start_time": "2023-05-04T06:23:07.172Z"
   },
   {
    "duration": 44,
    "start_time": "2023-05-04T06:23:07.226Z"
   },
   {
    "duration": 527,
    "start_time": "2023-05-04T06:23:07.272Z"
   },
   {
    "duration": 3,
    "start_time": "2023-05-04T06:23:07.801Z"
   },
   {
    "duration": 515,
    "start_time": "2023-05-04T06:23:07.805Z"
   },
   {
    "duration": 22,
    "start_time": "2023-05-04T06:23:08.322Z"
   },
   {
    "duration": 2,
    "start_time": "2023-05-04T06:23:08.357Z"
   },
   {
    "duration": 43,
    "start_time": "2023-05-04T06:23:08.361Z"
   },
   {
    "duration": 10,
    "start_time": "2023-05-04T06:23:08.407Z"
   },
   {
    "duration": 263,
    "start_time": "2023-05-04T06:23:08.420Z"
   },
   {
    "duration": 20,
    "start_time": "2023-05-04T06:23:08.684Z"
   },
   {
    "duration": 6311,
    "start_time": "2023-05-04T06:23:08.705Z"
   },
   {
    "duration": 215,
    "start_time": "2023-05-04T06:23:15.018Z"
   },
   {
    "duration": 344,
    "start_time": "2023-05-04T06:23:15.235Z"
   },
   {
    "duration": 6,
    "start_time": "2023-05-04T06:23:15.581Z"
   },
   {
    "duration": 28,
    "start_time": "2023-05-04T06:23:15.589Z"
   },
   {
    "duration": 56,
    "start_time": "2023-05-04T06:23:15.619Z"
   },
   {
    "duration": 26,
    "start_time": "2023-05-04T06:23:15.676Z"
   },
   {
    "duration": 127,
    "start_time": "2023-05-04T06:23:15.705Z"
   },
   {
    "duration": 3,
    "start_time": "2023-05-04T06:23:15.835Z"
   },
   {
    "duration": 25,
    "start_time": "2023-05-04T06:23:15.840Z"
   },
   {
    "duration": 6039,
    "start_time": "2023-05-04T06:23:15.867Z"
   },
   {
    "duration": 2,
    "start_time": "2023-05-04T06:23:21.908Z"
   },
   {
    "duration": 16,
    "start_time": "2023-05-04T06:23:21.911Z"
   },
   {
    "duration": 10,
    "start_time": "2023-05-04T06:23:21.929Z"
   },
   {
    "duration": 672,
    "start_time": "2023-05-04T06:23:21.943Z"
   },
   {
    "duration": 4,
    "start_time": "2023-05-04T06:25:08.552Z"
   },
   {
    "duration": 488339,
    "start_time": "2023-05-04T06:25:09.528Z"
   },
   {
    "duration": 16905,
    "start_time": "2023-05-04T06:33:49.922Z"
   },
   {
    "duration": 342,
    "start_time": "2023-05-04T06:34:20.419Z"
   },
   {
    "duration": 1889,
    "start_time": "2023-05-04T06:37:47.946Z"
   },
   {
    "duration": 19,
    "start_time": "2023-05-04T06:38:44.730Z"
   },
   {
    "duration": 1805,
    "start_time": "2023-05-04T06:38:49.798Z"
   },
   {
    "duration": 2020,
    "start_time": "2023-05-04T06:41:15.471Z"
   },
   {
    "duration": 4134,
    "start_time": "2023-05-04T06:41:17.493Z"
   },
   {
    "duration": 800,
    "start_time": "2023-05-04T06:41:21.629Z"
   },
   {
    "duration": 36,
    "start_time": "2023-05-04T06:41:22.431Z"
   },
   {
    "duration": 4,
    "start_time": "2023-05-04T06:41:22.469Z"
   },
   {
    "duration": 518,
    "start_time": "2023-05-04T06:41:22.474Z"
   },
   {
    "duration": 4,
    "start_time": "2023-05-04T06:41:22.994Z"
   },
   {
    "duration": 15,
    "start_time": "2023-05-04T06:41:23.000Z"
   },
   {
    "duration": 7,
    "start_time": "2023-05-04T06:41:23.017Z"
   },
   {
    "duration": 1099825,
    "start_time": "2023-05-04T06:41:23.026Z"
   },
   {
    "duration": 23,
    "start_time": "2023-05-04T06:59:42.855Z"
   },
   {
    "duration": 20,
    "start_time": "2023-05-04T06:59:42.881Z"
   },
   {
    "duration": 6,
    "start_time": "2023-05-04T06:59:42.903Z"
   },
   {
    "duration": 17,
    "start_time": "2023-05-04T06:59:42.912Z"
   },
   {
    "duration": 17,
    "start_time": "2023-05-04T06:59:42.931Z"
   },
   {
    "duration": 52,
    "start_time": "2023-05-04T06:59:42.949Z"
   },
   {
    "duration": 44,
    "start_time": "2023-05-04T06:59:43.002Z"
   },
   {
    "duration": 533,
    "start_time": "2023-05-04T06:59:43.048Z"
   },
   {
    "duration": 3,
    "start_time": "2023-05-04T06:59:43.583Z"
   },
   {
    "duration": 628,
    "start_time": "2023-05-04T06:59:43.587Z"
   },
   {
    "duration": 27,
    "start_time": "2023-05-04T06:59:44.218Z"
   },
   {
    "duration": 3,
    "start_time": "2023-05-04T06:59:44.262Z"
   },
   {
    "duration": 31,
    "start_time": "2023-05-04T06:59:44.267Z"
   },
   {
    "duration": 8,
    "start_time": "2023-05-04T06:59:44.300Z"
   },
   {
    "duration": 249,
    "start_time": "2023-05-04T06:59:44.310Z"
   },
   {
    "duration": 26,
    "start_time": "2023-05-04T06:59:44.562Z"
   },
   {
    "duration": 6250,
    "start_time": "2023-05-04T06:59:44.590Z"
   },
   {
    "duration": 222,
    "start_time": "2023-05-04T06:59:50.842Z"
   },
   {
    "duration": 337,
    "start_time": "2023-05-04T06:59:51.066Z"
   },
   {
    "duration": 7,
    "start_time": "2023-05-04T06:59:51.405Z"
   },
   {
    "duration": 9,
    "start_time": "2023-05-04T06:59:51.414Z"
   },
   {
    "duration": 22,
    "start_time": "2023-05-04T06:59:51.425Z"
   },
   {
    "duration": 19,
    "start_time": "2023-05-04T06:59:51.448Z"
   },
   {
    "duration": 77,
    "start_time": "2023-05-04T06:59:51.469Z"
   },
   {
    "duration": 4,
    "start_time": "2023-05-04T06:59:51.548Z"
   },
   {
    "duration": 25,
    "start_time": "2023-05-04T06:59:51.554Z"
   },
   {
    "duration": 6476,
    "start_time": "2023-05-04T06:59:51.582Z"
   },
   {
    "duration": 9,
    "start_time": "2023-05-04T06:59:58.060Z"
   },
   {
    "duration": 7,
    "start_time": "2023-05-04T06:59:58.071Z"
   },
   {
    "duration": 12,
    "start_time": "2023-05-04T06:59:58.080Z"
   },
   {
    "duration": 830,
    "start_time": "2023-05-04T06:59:58.096Z"
   },
   {
    "duration": 3,
    "start_time": "2023-05-04T06:59:58.927Z"
   },
   {
    "duration": 61,
    "start_time": "2023-05-04T06:59:58.932Z"
   },
   {
    "duration": 0,
    "start_time": "2023-05-04T06:59:58.994Z"
   },
   {
    "duration": 0,
    "start_time": "2023-05-04T06:59:58.996Z"
   },
   {
    "duration": 0,
    "start_time": "2023-05-04T06:59:58.997Z"
   },
   {
    "duration": 5,
    "start_time": "2023-05-04T07:00:16.694Z"
   },
   {
    "duration": 448,
    "start_time": "2023-05-04T07:00:19.102Z"
   },
   {
    "duration": 8,
    "start_time": "2023-05-04T07:00:38.274Z"
   },
   {
    "duration": 797242,
    "start_time": "2023-05-04T07:00:39.256Z"
   },
   {
    "duration": 18479,
    "start_time": "2023-05-04T09:49:33.019Z"
   },
   {
    "duration": 20,
    "start_time": "2023-05-04T09:50:18.671Z"
   },
   {
    "duration": 1976,
    "start_time": "2023-05-04T09:50:22.966Z"
   },
   {
    "duration": 5,
    "start_time": "2023-05-04T09:53:28.018Z"
   },
   {
    "duration": 1961,
    "start_time": "2023-05-04T09:57:54.181Z"
   },
   {
    "duration": 4988,
    "start_time": "2023-05-04T09:57:56.144Z"
   },
   {
    "duration": 3207,
    "start_time": "2023-05-04T09:58:01.133Z"
   },
   {
    "duration": 34,
    "start_time": "2023-05-04T09:58:04.342Z"
   },
   {
    "duration": 3,
    "start_time": "2023-05-04T09:58:04.378Z"
   },
   {
    "duration": 489,
    "start_time": "2023-05-04T09:58:04.383Z"
   },
   {
    "duration": 4,
    "start_time": "2023-05-04T09:58:04.874Z"
   },
   {
    "duration": 9,
    "start_time": "2023-05-04T09:58:04.879Z"
   },
   {
    "duration": 4,
    "start_time": "2023-05-04T09:58:04.889Z"
   },
   {
    "duration": 1020167,
    "start_time": "2023-05-04T09:58:04.895Z"
   },
   {
    "duration": 16,
    "start_time": "2023-05-04T10:15:05.068Z"
   },
   {
    "duration": 14,
    "start_time": "2023-05-04T10:15:05.085Z"
   },
   {
    "duration": 5,
    "start_time": "2023-05-04T10:15:05.100Z"
   },
   {
    "duration": 5,
    "start_time": "2023-05-04T10:15:05.107Z"
   },
   {
    "duration": 8,
    "start_time": "2023-05-04T10:15:05.113Z"
   },
   {
    "duration": 57,
    "start_time": "2023-05-04T10:15:05.123Z"
   },
   {
    "duration": 41,
    "start_time": "2023-05-04T10:15:05.181Z"
   },
   {
    "duration": 602,
    "start_time": "2023-05-04T10:15:05.224Z"
   },
   {
    "duration": 3,
    "start_time": "2023-05-04T10:15:05.828Z"
   },
   {
    "duration": 556,
    "start_time": "2023-05-04T10:15:05.832Z"
   },
   {
    "duration": 23,
    "start_time": "2023-05-04T10:15:06.389Z"
   },
   {
    "duration": 20,
    "start_time": "2023-05-04T10:15:06.414Z"
   },
   {
    "duration": 51,
    "start_time": "2023-05-04T10:15:06.436Z"
   },
   {
    "duration": 11,
    "start_time": "2023-05-04T10:15:06.489Z"
   },
   {
    "duration": 271,
    "start_time": "2023-05-04T10:15:06.501Z"
   },
   {
    "duration": 20,
    "start_time": "2023-05-04T10:15:06.774Z"
   },
   {
    "duration": 6286,
    "start_time": "2023-05-04T10:15:06.795Z"
   },
   {
    "duration": 254,
    "start_time": "2023-05-04T10:15:13.086Z"
   },
   {
    "duration": 373,
    "start_time": "2023-05-04T10:15:13.342Z"
   },
   {
    "duration": 9,
    "start_time": "2023-05-04T10:15:13.717Z"
   },
   {
    "duration": 10,
    "start_time": "2023-05-04T10:15:13.728Z"
   },
   {
    "duration": 23,
    "start_time": "2023-05-04T10:15:13.740Z"
   },
   {
    "duration": 5,
    "start_time": "2023-05-04T10:15:13.765Z"
   },
   {
    "duration": 90,
    "start_time": "2023-05-04T10:15:13.774Z"
   },
   {
    "duration": 4,
    "start_time": "2023-05-04T10:15:13.870Z"
   },
   {
    "duration": 23,
    "start_time": "2023-05-04T10:15:13.876Z"
   },
   {
    "duration": 6679,
    "start_time": "2023-05-04T10:15:13.902Z"
   },
   {
    "duration": 2,
    "start_time": "2023-05-04T10:15:20.583Z"
   },
   {
    "duration": 26,
    "start_time": "2023-05-04T10:15:20.587Z"
   },
   {
    "duration": 15,
    "start_time": "2023-05-04T10:15:20.616Z"
   },
   {
    "duration": 711,
    "start_time": "2023-05-04T10:15:20.633Z"
   },
   {
    "duration": 2,
    "start_time": "2023-05-04T10:15:21.346Z"
   },
   {
    "duration": 19,
    "start_time": "2023-05-04T10:15:21.350Z"
   },
   {
    "duration": 1310424,
    "start_time": "2023-05-04T10:15:21.371Z"
   },
   {
    "duration": 3,
    "start_time": "2023-05-04T10:37:11.797Z"
   },
   {
    "duration": 20138,
    "start_time": "2023-05-04T10:37:11.801Z"
   },
   {
    "duration": 2079,
    "start_time": "2023-05-04T10:37:45.860Z"
   },
   {
    "duration": 2137,
    "start_time": "2023-05-04T11:15:39.813Z"
   },
   {
    "duration": 5651,
    "start_time": "2023-05-04T11:15:41.952Z"
   },
   {
    "duration": 1634,
    "start_time": "2023-05-04T11:15:47.605Z"
   },
   {
    "duration": 36,
    "start_time": "2023-05-04T11:15:49.241Z"
   },
   {
    "duration": 18,
    "start_time": "2023-05-04T11:15:49.279Z"
   },
   {
    "duration": 628,
    "start_time": "2023-05-04T11:15:49.300Z"
   },
   {
    "duration": 5,
    "start_time": "2023-05-04T11:15:49.929Z"
   },
   {
    "duration": 13,
    "start_time": "2023-05-04T11:15:49.935Z"
   },
   {
    "duration": 5,
    "start_time": "2023-05-04T11:15:49.949Z"
   },
   {
    "duration": 1058173,
    "start_time": "2023-05-04T11:15:49.957Z"
   },
   {
    "duration": 13,
    "start_time": "2023-05-04T11:33:28.132Z"
   },
   {
    "duration": 13,
    "start_time": "2023-05-04T11:33:28.156Z"
   },
   {
    "duration": 2,
    "start_time": "2023-05-04T11:33:28.172Z"
   },
   {
    "duration": 6,
    "start_time": "2023-05-04T11:33:28.176Z"
   },
   {
    "duration": 7,
    "start_time": "2023-05-04T11:33:28.184Z"
   },
   {
    "duration": 59,
    "start_time": "2023-05-04T11:33:28.193Z"
   },
   {
    "duration": 44,
    "start_time": "2023-05-04T11:33:28.254Z"
   },
   {
    "duration": 618,
    "start_time": "2023-05-04T11:33:28.300Z"
   },
   {
    "duration": 3,
    "start_time": "2023-05-04T11:33:28.920Z"
   },
   {
    "duration": 643,
    "start_time": "2023-05-04T11:33:28.924Z"
   },
   {
    "duration": 28,
    "start_time": "2023-05-04T11:33:29.569Z"
   },
   {
    "duration": 10,
    "start_time": "2023-05-04T11:33:29.598Z"
   },
   {
    "duration": 39,
    "start_time": "2023-05-04T11:33:29.610Z"
   },
   {
    "duration": 15,
    "start_time": "2023-05-04T11:33:29.651Z"
   },
   {
    "duration": 255,
    "start_time": "2023-05-04T11:33:29.669Z"
   },
   {
    "duration": 20,
    "start_time": "2023-05-04T11:33:29.925Z"
   },
   {
    "duration": 6447,
    "start_time": "2023-05-04T11:33:29.946Z"
   },
   {
    "duration": 195,
    "start_time": "2023-05-04T11:33:36.396Z"
   },
   {
    "duration": 321,
    "start_time": "2023-05-04T11:33:36.592Z"
   },
   {
    "duration": 6,
    "start_time": "2023-05-04T11:33:36.915Z"
   },
   {
    "duration": 12,
    "start_time": "2023-05-04T11:33:36.923Z"
   },
   {
    "duration": 9,
    "start_time": "2023-05-04T11:33:36.936Z"
   },
   {
    "duration": 4,
    "start_time": "2023-05-04T11:33:36.947Z"
   },
   {
    "duration": 74,
    "start_time": "2023-05-04T11:33:36.956Z"
   },
   {
    "duration": 3,
    "start_time": "2023-05-04T11:33:37.032Z"
   },
   {
    "duration": 12,
    "start_time": "2023-05-04T11:33:37.037Z"
   },
   {
    "duration": 6119,
    "start_time": "2023-05-04T11:33:37.051Z"
   },
   {
    "duration": 2,
    "start_time": "2023-05-04T11:33:43.171Z"
   },
   {
    "duration": 16,
    "start_time": "2023-05-04T11:33:43.174Z"
   },
   {
    "duration": 16,
    "start_time": "2023-05-04T11:33:43.192Z"
   },
   {
    "duration": 777,
    "start_time": "2023-05-04T11:33:43.209Z"
   },
   {
    "duration": 3,
    "start_time": "2023-05-04T11:33:43.988Z"
   },
   {
    "duration": 20,
    "start_time": "2023-05-04T11:33:43.992Z"
   },
   {
    "duration": 965775,
    "start_time": "2023-05-04T11:33:44.014Z"
   },
   {
    "duration": 64,
    "start_time": "2023-05-04T11:49:49.794Z"
   },
   {
    "duration": 19288,
    "start_time": "2023-05-04T11:49:49.860Z"
   },
   {
    "duration": 388,
    "start_time": "2023-05-04T11:50:09.159Z"
   },
   {
    "duration": 6,
    "start_time": "2023-05-04T11:50:13.415Z"
   },
   {
    "duration": 1999,
    "start_time": "2023-05-04T11:50:36.540Z"
   },
   {
    "duration": 3766,
    "start_time": "2023-05-04T11:51:21.610Z"
   },
   {
    "duration": 14871,
    "start_time": "2023-05-04T11:51:25.379Z"
   },
   {
    "duration": 1684,
    "start_time": "2023-05-04T11:51:40.252Z"
   },
   {
    "duration": 47,
    "start_time": "2023-05-04T11:51:41.937Z"
   },
   {
    "duration": 3,
    "start_time": "2023-05-04T11:51:41.986Z"
   },
   {
    "duration": 777,
    "start_time": "2023-05-04T11:51:41.991Z"
   },
   {
    "duration": 6,
    "start_time": "2023-05-04T11:51:42.770Z"
   },
   {
    "duration": 8,
    "start_time": "2023-05-04T11:51:42.778Z"
   },
   {
    "duration": 5,
    "start_time": "2023-05-04T11:51:42.788Z"
   },
   {
    "duration": 1138366,
    "start_time": "2023-05-04T11:51:42.794Z"
   },
   {
    "duration": 26,
    "start_time": "2023-05-04T12:10:41.162Z"
   },
   {
    "duration": 10,
    "start_time": "2023-05-04T12:10:41.190Z"
   },
   {
    "duration": 7,
    "start_time": "2023-05-04T12:10:41.202Z"
   },
   {
    "duration": 3,
    "start_time": "2023-05-04T12:10:41.215Z"
   },
   {
    "duration": 11,
    "start_time": "2023-05-04T12:10:41.220Z"
   },
   {
    "duration": 109,
    "start_time": "2023-05-04T12:10:41.233Z"
   },
   {
    "duration": 75,
    "start_time": "2023-05-04T12:10:41.343Z"
   },
   {
    "duration": 649,
    "start_time": "2023-05-04T12:10:41.420Z"
   },
   {
    "duration": 4,
    "start_time": "2023-05-04T12:10:42.075Z"
   },
   {
    "duration": 651,
    "start_time": "2023-05-04T12:10:42.084Z"
   },
   {
    "duration": 41,
    "start_time": "2023-05-04T12:10:42.737Z"
   },
   {
    "duration": 8,
    "start_time": "2023-05-04T12:10:42.781Z"
   },
   {
    "duration": 26,
    "start_time": "2023-05-04T12:10:42.791Z"
   },
   {
    "duration": 8,
    "start_time": "2023-05-04T12:10:42.819Z"
   },
   {
    "duration": 278,
    "start_time": "2023-05-04T12:10:42.828Z"
   },
   {
    "duration": 20,
    "start_time": "2023-05-04T12:10:43.107Z"
   },
   {
    "duration": 7476,
    "start_time": "2023-05-04T12:10:43.129Z"
   },
   {
    "duration": 238,
    "start_time": "2023-05-04T12:10:50.608Z"
   },
   {
    "duration": 343,
    "start_time": "2023-05-04T12:10:50.848Z"
   },
   {
    "duration": 6,
    "start_time": "2023-05-04T12:10:51.193Z"
   },
   {
    "duration": 15,
    "start_time": "2023-05-04T12:10:51.201Z"
   },
   {
    "duration": 10,
    "start_time": "2023-05-04T12:10:51.218Z"
   },
   {
    "duration": 13,
    "start_time": "2023-05-04T12:10:51.229Z"
   },
   {
    "duration": 134,
    "start_time": "2023-05-04T12:10:51.244Z"
   },
   {
    "duration": 5,
    "start_time": "2023-05-04T12:10:51.380Z"
   },
   {
    "duration": 10,
    "start_time": "2023-05-04T12:10:51.387Z"
   },
   {
    "duration": 7267,
    "start_time": "2023-05-04T12:10:51.399Z"
   },
   {
    "duration": 7,
    "start_time": "2023-05-04T12:10:58.667Z"
   },
   {
    "duration": 2,
    "start_time": "2023-05-04T12:10:58.676Z"
   },
   {
    "duration": 12,
    "start_time": "2023-05-04T12:10:58.679Z"
   },
   {
    "duration": 785,
    "start_time": "2023-05-04T12:10:58.696Z"
   },
   {
    "duration": 4,
    "start_time": "2023-05-04T12:10:59.483Z"
   },
   {
    "duration": 7,
    "start_time": "2023-05-04T12:10:59.489Z"
   },
   {
    "duration": 1605987,
    "start_time": "2023-05-04T12:10:59.498Z"
   },
   {
    "duration": 6,
    "start_time": "2023-05-04T12:37:45.487Z"
   },
   {
    "duration": 18864,
    "start_time": "2023-05-04T12:37:45.495Z"
   },
   {
    "duration": 2163,
    "start_time": "2023-05-04T12:39:36.466Z"
   },
   {
    "duration": 4582,
    "start_time": "2023-05-04T12:39:38.631Z"
   },
   {
    "duration": 957,
    "start_time": "2023-05-04T12:39:43.215Z"
   },
   {
    "duration": 41,
    "start_time": "2023-05-04T12:39:44.176Z"
   },
   {
    "duration": 4,
    "start_time": "2023-05-04T12:39:44.220Z"
   },
   {
    "duration": 550,
    "start_time": "2023-05-04T12:39:44.226Z"
   },
   {
    "duration": 5,
    "start_time": "2023-05-04T12:39:44.778Z"
   },
   {
    "duration": 10,
    "start_time": "2023-05-04T12:39:44.786Z"
   },
   {
    "duration": 3,
    "start_time": "2023-05-04T12:39:44.798Z"
   },
   {
    "duration": 1104880,
    "start_time": "2023-05-04T12:39:44.803Z"
   },
   {
    "duration": 12,
    "start_time": "2023-05-04T12:58:09.685Z"
   },
   {
    "duration": 3,
    "start_time": "2023-05-04T12:58:09.699Z"
   },
   {
    "duration": 4,
    "start_time": "2023-05-04T12:58:09.703Z"
   },
   {
    "duration": 2,
    "start_time": "2023-05-04T12:58:09.710Z"
   },
   {
    "duration": 6,
    "start_time": "2023-05-04T12:58:09.713Z"
   },
   {
    "duration": 62,
    "start_time": "2023-05-04T12:58:09.720Z"
   },
   {
    "duration": 30,
    "start_time": "2023-05-04T12:58:09.784Z"
   },
   {
    "duration": 579,
    "start_time": "2023-05-04T12:58:09.816Z"
   },
   {
    "duration": 2,
    "start_time": "2023-05-04T12:58:10.397Z"
   },
   {
    "duration": 535,
    "start_time": "2023-05-04T12:58:10.401Z"
   },
   {
    "duration": 30,
    "start_time": "2023-05-04T12:58:10.938Z"
   },
   {
    "duration": 3,
    "start_time": "2023-05-04T12:58:10.970Z"
   },
   {
    "duration": 29,
    "start_time": "2023-05-04T12:58:10.975Z"
   },
   {
    "duration": 7,
    "start_time": "2023-05-04T12:58:11.006Z"
   },
   {
    "duration": 259,
    "start_time": "2023-05-04T12:58:11.015Z"
   },
   {
    "duration": 21,
    "start_time": "2023-05-04T12:58:11.276Z"
   },
   {
    "duration": 6999,
    "start_time": "2023-05-04T12:58:11.298Z"
   },
   {
    "duration": 238,
    "start_time": "2023-05-04T12:58:18.299Z"
   },
   {
    "duration": 361,
    "start_time": "2023-05-04T12:58:18.539Z"
   },
   {
    "duration": 5,
    "start_time": "2023-05-04T12:58:18.902Z"
   },
   {
    "duration": 2,
    "start_time": "2023-05-04T12:58:18.909Z"
   },
   {
    "duration": 10,
    "start_time": "2023-05-04T12:58:18.913Z"
   },
   {
    "duration": 10,
    "start_time": "2023-05-04T12:58:18.925Z"
   },
   {
    "duration": 87,
    "start_time": "2023-05-04T12:58:18.937Z"
   },
   {
    "duration": 4,
    "start_time": "2023-05-04T12:58:19.026Z"
   },
   {
    "duration": 14,
    "start_time": "2023-05-04T12:58:19.031Z"
   },
   {
    "duration": 6452,
    "start_time": "2023-05-04T12:58:19.047Z"
   },
   {
    "duration": 3,
    "start_time": "2023-05-04T12:58:25.501Z"
   },
   {
    "duration": 12,
    "start_time": "2023-05-04T12:58:25.506Z"
   },
   {
    "duration": 11,
    "start_time": "2023-05-04T12:58:25.520Z"
   },
   {
    "duration": 780,
    "start_time": "2023-05-04T12:58:25.535Z"
   },
   {
    "duration": 3,
    "start_time": "2023-05-04T12:58:26.316Z"
   },
   {
    "duration": 17,
    "start_time": "2023-05-04T12:58:26.321Z"
   },
   {
    "duration": 1069442,
    "start_time": "2023-05-04T12:58:26.340Z"
   },
   {
    "duration": 6,
    "start_time": "2023-05-04T13:16:15.784Z"
   },
   {
    "duration": 18799,
    "start_time": "2023-05-04T13:16:15.793Z"
   },
   {
    "duration": 1961,
    "start_time": "2023-05-04T13:17:21.130Z"
   },
   {
    "duration": 2610,
    "start_time": "2023-05-04T13:18:45.954Z"
   },
   {
    "duration": 4959,
    "start_time": "2023-05-04T13:18:48.569Z"
   },
   {
    "duration": 844,
    "start_time": "2023-05-04T13:18:53.530Z"
   },
   {
    "duration": 34,
    "start_time": "2023-05-04T13:18:54.378Z"
   },
   {
    "duration": 3,
    "start_time": "2023-05-04T13:18:54.414Z"
   },
   {
    "duration": 538,
    "start_time": "2023-05-04T13:18:54.419Z"
   },
   {
    "duration": 5,
    "start_time": "2023-05-04T13:18:54.969Z"
   },
   {
    "duration": 5,
    "start_time": "2023-05-04T13:18:54.976Z"
   },
   {
    "duration": 6,
    "start_time": "2023-05-04T13:18:54.982Z"
   },
   {
    "duration": 1127727,
    "start_time": "2023-05-04T13:18:54.991Z"
   },
   {
    "duration": 13,
    "start_time": "2023-05-04T13:37:42.720Z"
   },
   {
    "duration": 21,
    "start_time": "2023-05-04T13:37:42.735Z"
   },
   {
    "duration": 3,
    "start_time": "2023-05-04T13:37:42.759Z"
   },
   {
    "duration": 5,
    "start_time": "2023-05-04T13:37:42.764Z"
   },
   {
    "duration": 8,
    "start_time": "2023-05-04T13:37:42.771Z"
   },
   {
    "duration": 59,
    "start_time": "2023-05-04T13:37:42.781Z"
   },
   {
    "duration": 39,
    "start_time": "2023-05-04T13:37:42.843Z"
   },
   {
    "duration": 595,
    "start_time": "2023-05-04T13:37:42.885Z"
   },
   {
    "duration": 3,
    "start_time": "2023-05-04T13:37:43.482Z"
   },
   {
    "duration": 661,
    "start_time": "2023-05-04T13:37:43.487Z"
   },
   {
    "duration": 42,
    "start_time": "2023-05-04T13:37:44.160Z"
   },
   {
    "duration": 5,
    "start_time": "2023-05-04T13:37:44.204Z"
   },
   {
    "duration": 51,
    "start_time": "2023-05-04T13:37:44.212Z"
   },
   {
    "duration": 9,
    "start_time": "2023-05-04T13:37:44.266Z"
   },
   {
    "duration": 249,
    "start_time": "2023-05-04T13:37:44.277Z"
   },
   {
    "duration": 37,
    "start_time": "2023-05-04T13:37:44.528Z"
   },
   {
    "duration": 6582,
    "start_time": "2023-05-04T13:37:44.568Z"
   },
   {
    "duration": 234,
    "start_time": "2023-05-04T13:37:51.158Z"
   },
   {
    "duration": 352,
    "start_time": "2023-05-04T13:37:51.394Z"
   },
   {
    "duration": 12,
    "start_time": "2023-05-04T13:37:51.748Z"
   },
   {
    "duration": 14,
    "start_time": "2023-05-04T13:37:51.761Z"
   },
   {
    "duration": 11,
    "start_time": "2023-05-04T13:37:51.777Z"
   },
   {
    "duration": 16,
    "start_time": "2023-05-04T13:37:51.790Z"
   },
   {
    "duration": 92,
    "start_time": "2023-05-04T13:37:51.808Z"
   },
   {
    "duration": 5,
    "start_time": "2023-05-04T13:37:51.902Z"
   },
   {
    "duration": 5,
    "start_time": "2023-05-04T13:37:51.908Z"
   },
   {
    "duration": 6681,
    "start_time": "2023-05-04T13:37:51.915Z"
   },
   {
    "duration": 3,
    "start_time": "2023-05-04T13:37:58.598Z"
   },
   {
    "duration": 12,
    "start_time": "2023-05-04T13:37:58.603Z"
   },
   {
    "duration": 6,
    "start_time": "2023-05-04T13:37:58.617Z"
   },
   {
    "duration": 735,
    "start_time": "2023-05-04T13:37:58.625Z"
   },
   {
    "duration": 3,
    "start_time": "2023-05-04T13:37:59.362Z"
   },
   {
    "duration": 6,
    "start_time": "2023-05-04T13:37:59.368Z"
   },
   {
    "duration": 581990,
    "start_time": "2023-05-04T13:37:59.377Z"
   },
   {
    "duration": 6,
    "start_time": "2023-05-04T13:47:41.368Z"
   },
   {
    "duration": 20617,
    "start_time": "2023-05-04T13:47:41.375Z"
   },
   {
    "duration": 2100,
    "start_time": "2023-05-04T13:49:16.168Z"
   },
   {
    "duration": 7159,
    "start_time": "2023-05-04T15:11:30.728Z"
   },
   {
    "duration": 4333,
    "start_time": "2023-05-04T15:11:37.890Z"
   },
   {
    "duration": 3226,
    "start_time": "2023-05-04T15:11:42.225Z"
   },
   {
    "duration": 31,
    "start_time": "2023-05-04T15:11:45.453Z"
   },
   {
    "duration": 4,
    "start_time": "2023-05-04T15:11:45.485Z"
   },
   {
    "duration": 470,
    "start_time": "2023-05-04T15:11:45.490Z"
   },
   {
    "duration": 4,
    "start_time": "2023-05-04T15:11:45.961Z"
   },
   {
    "duration": 6,
    "start_time": "2023-05-04T15:11:45.967Z"
   },
   {
    "duration": 11,
    "start_time": "2023-05-04T15:11:45.974Z"
   },
   {
    "duration": 958305,
    "start_time": "2023-05-04T15:11:45.987Z"
   },
   {
    "duration": 12,
    "start_time": "2023-05-04T15:27:44.294Z"
   },
   {
    "duration": 20,
    "start_time": "2023-05-04T15:27:44.308Z"
   },
   {
    "duration": 15,
    "start_time": "2023-05-04T15:27:44.330Z"
   },
   {
    "duration": 15,
    "start_time": "2023-05-04T15:27:44.347Z"
   },
   {
    "duration": 12,
    "start_time": "2023-05-04T15:27:44.364Z"
   },
   {
    "duration": 60,
    "start_time": "2023-05-04T15:27:44.377Z"
   },
   {
    "duration": 38,
    "start_time": "2023-05-04T15:27:44.439Z"
   },
   {
    "duration": 637,
    "start_time": "2023-05-04T15:27:44.479Z"
   },
   {
    "duration": 2,
    "start_time": "2023-05-04T15:27:45.118Z"
   },
   {
    "duration": 526,
    "start_time": "2023-05-04T15:27:45.122Z"
   },
   {
    "duration": 18,
    "start_time": "2023-05-04T15:27:45.650Z"
   },
   {
    "duration": 14,
    "start_time": "2023-05-04T15:27:45.670Z"
   },
   {
    "duration": 35,
    "start_time": "2023-05-04T15:27:45.687Z"
   },
   {
    "duration": 7,
    "start_time": "2023-05-04T15:27:45.724Z"
   },
   {
    "duration": 244,
    "start_time": "2023-05-04T15:27:45.733Z"
   },
   {
    "duration": 22,
    "start_time": "2023-05-04T15:27:45.979Z"
   },
   {
    "duration": 5918,
    "start_time": "2023-05-04T15:27:46.003Z"
   },
   {
    "duration": 189,
    "start_time": "2023-05-04T15:27:51.925Z"
   },
   {
    "duration": 324,
    "start_time": "2023-05-04T15:27:52.116Z"
   },
   {
    "duration": 8,
    "start_time": "2023-05-04T15:27:52.442Z"
   },
   {
    "duration": 3,
    "start_time": "2023-05-04T15:27:52.452Z"
   },
   {
    "duration": 4,
    "start_time": "2023-05-04T15:27:52.457Z"
   },
   {
    "duration": 24,
    "start_time": "2023-05-04T15:27:52.462Z"
   },
   {
    "duration": 71,
    "start_time": "2023-05-04T15:27:52.489Z"
   },
   {
    "duration": 4,
    "start_time": "2023-05-04T15:27:52.562Z"
   },
   {
    "duration": 23,
    "start_time": "2023-05-04T15:27:52.567Z"
   },
   {
    "duration": 6173,
    "start_time": "2023-05-04T15:27:52.591Z"
   },
   {
    "duration": 2,
    "start_time": "2023-05-04T15:27:58.766Z"
   },
   {
    "duration": 15,
    "start_time": "2023-05-04T15:27:58.770Z"
   },
   {
    "duration": 15,
    "start_time": "2023-05-04T15:27:58.786Z"
   },
   {
    "duration": 694,
    "start_time": "2023-05-04T15:27:58.802Z"
   },
   {
    "duration": 2,
    "start_time": "2023-05-04T15:27:59.497Z"
   },
   {
    "duration": 10,
    "start_time": "2023-05-04T15:27:59.501Z"
   },
   {
    "duration": 684196,
    "start_time": "2023-05-04T15:27:59.512Z"
   },
   {
    "duration": 4,
    "start_time": "2023-05-04T15:39:23.710Z"
   },
   {
    "duration": 19177,
    "start_time": "2023-05-04T15:39:23.716Z"
   },
   {
    "duration": 2093,
    "start_time": "2023-05-04T15:41:23.402Z"
   }
  ],
  "kernelspec": {
   "display_name": "Python 3 (ipykernel)",
   "language": "python",
   "name": "python3"
  },
  "language_info": {
   "codemirror_mode": {
    "name": "ipython",
    "version": 3
   },
   "file_extension": ".py",
   "mimetype": "text/x-python",
   "name": "python",
   "nbconvert_exporter": "python",
   "pygments_lexer": "ipython3",
   "version": "3.9.13"
  },
  "toc": {
   "base_numbering": 1,
   "nav_menu": {},
   "number_sections": true,
   "sideBar": true,
   "skip_h1_title": true,
   "title_cell": "Содержание",
   "title_sidebar": "Contents",
   "toc_cell": true,
   "toc_position": {
    "height": "calc(100% - 180px)",
    "left": "10px",
    "top": "150px",
    "width": "302.391px"
   },
   "toc_section_display": true,
   "toc_window_display": false
  }
 },
 "nbformat": 4,
 "nbformat_minor": 2
}
