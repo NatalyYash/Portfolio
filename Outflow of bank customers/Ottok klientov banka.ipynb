{
 "cells": [
  {
   "cell_type": "markdown",
   "metadata": {},
   "source": [
    "# Отток клиентов банка"
   ]
  },
  {
   "cell_type": "markdown",
   "metadata": {},
   "source": [
    "<div class=\"alert alert-info\">\n",
    "Из банка стали уходить клиенты, каждый месяц, немного, но заметно. Банковские маркетологи посчитали: сохранять текущих клиентов дешевле, чем привлекать новых.\n",
    "\n",
    "Спрогнозируем, уйдёт клиент из банка в ближайшее время или нет. Нам предоставлены исторические данные о поведении клиентов и расторжении договоров с банком."
   ]
  },
  {
   "cell_type": "markdown",
   "metadata": {},
   "source": [
    "## Подготовка данных"
   ]
  },
  {
   "cell_type": "markdown",
   "metadata": {},
   "source": [
    "<div class=\"alert alert-info\">\n",
    "Импортируем библиотеку и инструменты, которые нам понадобятся в проекте</div"
   ]
  },
  {
   "cell_type": "code",
   "execution_count": 1,
   "metadata": {},
   "outputs": [],
   "source": [
    "import pandas as pd\n",
    "import numpy as np\n",
    "import matplotlib.pyplot as plt\n",
    "from sklearn.tree import DecisionTreeClassifier\n",
    "from sklearn.ensemble import RandomForestClassifier\n",
    "from sklearn.linear_model import LogisticRegression\n",
    "from sklearn.model_selection import train_test_split\n",
    "from sklearn.dummy import DummyClassifier\n",
    "from sklearn.preprocessing import OrdinalEncoder, StandardScaler\n",
    "from sklearn.metrics import (\n",
    "    confusion_matrix, \n",
    "    f1_score, \n",
    "    mean_squared_error, \n",
    "    roc_auc_score,\n",
    "    roc_curve\n",
    ")\n",
    "import warnings\n",
    "warnings.filterwarnings('ignore')\n"
   ]
  },
  {
   "cell_type": "markdown",
   "metadata": {},
   "source": [
    "<div class=\"alert alert-info\">\n",
    "Загрузим данные и изучим признаки.\n",
    "</div"
   ]
  },
  {
   "cell_type": "code",
   "execution_count": 2,
   "metadata": {},
   "outputs": [],
   "source": [
    "churn = pd.read_csv('/datasets/Churn.csv')"
   ]
  },
  {
   "cell_type": "code",
   "execution_count": 3,
   "metadata": {},
   "outputs": [
    {
     "name": "stdout",
     "output_type": "stream",
     "text": [
      "<class 'pandas.core.frame.DataFrame'>\n",
      "RangeIndex: 10000 entries, 0 to 9999\n",
      "Data columns (total 14 columns):\n",
      " #   Column           Non-Null Count  Dtype  \n",
      "---  ------           --------------  -----  \n",
      " 0   RowNumber        10000 non-null  int64  \n",
      " 1   CustomerId       10000 non-null  int64  \n",
      " 2   Surname          10000 non-null  object \n",
      " 3   CreditScore      10000 non-null  int64  \n",
      " 4   Geography        10000 non-null  object \n",
      " 5   Gender           10000 non-null  object \n",
      " 6   Age              10000 non-null  int64  \n",
      " 7   Tenure           9091 non-null   float64\n",
      " 8   Balance          10000 non-null  float64\n",
      " 9   NumOfProducts    10000 non-null  int64  \n",
      " 10  HasCrCard        10000 non-null  int64  \n",
      " 11  IsActiveMember   10000 non-null  int64  \n",
      " 12  EstimatedSalary  10000 non-null  float64\n",
      " 13  Exited           10000 non-null  int64  \n",
      "dtypes: float64(3), int64(8), object(3)\n",
      "memory usage: 1.1+ MB\n"
     ]
    }
   ],
   "source": [
    "churn.info()"
   ]
  },
  {
   "cell_type": "markdown",
   "metadata": {},
   "source": [
    "<div class=\"alert alert-info\">\n",
    "В столбце Tenure есть Nan\n",
    "<br>\n",
    "Остальные столбцы корректные, типы данных нас устраивают. Посмотрим на первые пять строк\n",
    "</div"
   ]
  },
  {
   "cell_type": "code",
   "execution_count": 4,
   "metadata": {},
   "outputs": [
    {
     "data": {
      "text/html": [
       "<div>\n",
       "<style scoped>\n",
       "    .dataframe tbody tr th:only-of-type {\n",
       "        vertical-align: middle;\n",
       "    }\n",
       "\n",
       "    .dataframe tbody tr th {\n",
       "        vertical-align: top;\n",
       "    }\n",
       "\n",
       "    .dataframe thead th {\n",
       "        text-align: right;\n",
       "    }\n",
       "</style>\n",
       "<table border=\"1\" class=\"dataframe\">\n",
       "  <thead>\n",
       "    <tr style=\"text-align: right;\">\n",
       "      <th></th>\n",
       "      <th>RowNumber</th>\n",
       "      <th>CustomerId</th>\n",
       "      <th>Surname</th>\n",
       "      <th>CreditScore</th>\n",
       "      <th>Geography</th>\n",
       "      <th>Gender</th>\n",
       "      <th>Age</th>\n",
       "      <th>Tenure</th>\n",
       "      <th>Balance</th>\n",
       "      <th>NumOfProducts</th>\n",
       "      <th>HasCrCard</th>\n",
       "      <th>IsActiveMember</th>\n",
       "      <th>EstimatedSalary</th>\n",
       "      <th>Exited</th>\n",
       "    </tr>\n",
       "  </thead>\n",
       "  <tbody>\n",
       "    <tr>\n",
       "      <th>0</th>\n",
       "      <td>1</td>\n",
       "      <td>15634602</td>\n",
       "      <td>Hargrave</td>\n",
       "      <td>619</td>\n",
       "      <td>France</td>\n",
       "      <td>Female</td>\n",
       "      <td>42</td>\n",
       "      <td>2.0</td>\n",
       "      <td>0.00</td>\n",
       "      <td>1</td>\n",
       "      <td>1</td>\n",
       "      <td>1</td>\n",
       "      <td>101348.88</td>\n",
       "      <td>1</td>\n",
       "    </tr>\n",
       "    <tr>\n",
       "      <th>1</th>\n",
       "      <td>2</td>\n",
       "      <td>15647311</td>\n",
       "      <td>Hill</td>\n",
       "      <td>608</td>\n",
       "      <td>Spain</td>\n",
       "      <td>Female</td>\n",
       "      <td>41</td>\n",
       "      <td>1.0</td>\n",
       "      <td>83807.86</td>\n",
       "      <td>1</td>\n",
       "      <td>0</td>\n",
       "      <td>1</td>\n",
       "      <td>112542.58</td>\n",
       "      <td>0</td>\n",
       "    </tr>\n",
       "    <tr>\n",
       "      <th>2</th>\n",
       "      <td>3</td>\n",
       "      <td>15619304</td>\n",
       "      <td>Onio</td>\n",
       "      <td>502</td>\n",
       "      <td>France</td>\n",
       "      <td>Female</td>\n",
       "      <td>42</td>\n",
       "      <td>8.0</td>\n",
       "      <td>159660.80</td>\n",
       "      <td>3</td>\n",
       "      <td>1</td>\n",
       "      <td>0</td>\n",
       "      <td>113931.57</td>\n",
       "      <td>1</td>\n",
       "    </tr>\n",
       "    <tr>\n",
       "      <th>3</th>\n",
       "      <td>4</td>\n",
       "      <td>15701354</td>\n",
       "      <td>Boni</td>\n",
       "      <td>699</td>\n",
       "      <td>France</td>\n",
       "      <td>Female</td>\n",
       "      <td>39</td>\n",
       "      <td>1.0</td>\n",
       "      <td>0.00</td>\n",
       "      <td>2</td>\n",
       "      <td>0</td>\n",
       "      <td>0</td>\n",
       "      <td>93826.63</td>\n",
       "      <td>0</td>\n",
       "    </tr>\n",
       "    <tr>\n",
       "      <th>4</th>\n",
       "      <td>5</td>\n",
       "      <td>15737888</td>\n",
       "      <td>Mitchell</td>\n",
       "      <td>850</td>\n",
       "      <td>Spain</td>\n",
       "      <td>Female</td>\n",
       "      <td>43</td>\n",
       "      <td>2.0</td>\n",
       "      <td>125510.82</td>\n",
       "      <td>1</td>\n",
       "      <td>1</td>\n",
       "      <td>1</td>\n",
       "      <td>79084.10</td>\n",
       "      <td>0</td>\n",
       "    </tr>\n",
       "  </tbody>\n",
       "</table>\n",
       "</div>"
      ],
      "text/plain": [
       "   RowNumber  CustomerId   Surname  CreditScore Geography  Gender  Age  \\\n",
       "0          1    15634602  Hargrave          619    France  Female   42   \n",
       "1          2    15647311      Hill          608     Spain  Female   41   \n",
       "2          3    15619304      Onio          502    France  Female   42   \n",
       "3          4    15701354      Boni          699    France  Female   39   \n",
       "4          5    15737888  Mitchell          850     Spain  Female   43   \n",
       "\n",
       "   Tenure    Balance  NumOfProducts  HasCrCard  IsActiveMember  \\\n",
       "0     2.0       0.00              1          1               1   \n",
       "1     1.0   83807.86              1          0               1   \n",
       "2     8.0  159660.80              3          1               0   \n",
       "3     1.0       0.00              2          0               0   \n",
       "4     2.0  125510.82              1          1               1   \n",
       "\n",
       "   EstimatedSalary  Exited  \n",
       "0        101348.88       1  \n",
       "1        112542.58       0  \n",
       "2        113931.57       1  \n",
       "3         93826.63       0  \n",
       "4         79084.10       0  "
      ]
     },
     "execution_count": 4,
     "metadata": {},
     "output_type": "execute_result"
    }
   ],
   "source": [
    "churn.head()"
   ]
  },
  {
   "cell_type": "markdown",
   "metadata": {},
   "source": [
    "<div class=\"alert alert-info\">\n",
    "Посмотрим на те строки, где пропущенные значения\n",
    "<br>\n",
    "Это значения, указывающие, сколько лет человек является клиентом банка. Скорее всего, это новые клиенты\n",
    "</div"
   ]
  },
  {
   "cell_type": "code",
   "execution_count": 5,
   "metadata": {},
   "outputs": [
    {
     "data": {
      "text/html": [
       "<div>\n",
       "<style scoped>\n",
       "    .dataframe tbody tr th:only-of-type {\n",
       "        vertical-align: middle;\n",
       "    }\n",
       "\n",
       "    .dataframe tbody tr th {\n",
       "        vertical-align: top;\n",
       "    }\n",
       "\n",
       "    .dataframe thead th {\n",
       "        text-align: right;\n",
       "    }\n",
       "</style>\n",
       "<table border=\"1\" class=\"dataframe\">\n",
       "  <thead>\n",
       "    <tr style=\"text-align: right;\">\n",
       "      <th></th>\n",
       "      <th>RowNumber</th>\n",
       "      <th>CustomerId</th>\n",
       "      <th>Surname</th>\n",
       "      <th>CreditScore</th>\n",
       "      <th>Geography</th>\n",
       "      <th>Gender</th>\n",
       "      <th>Age</th>\n",
       "      <th>Tenure</th>\n",
       "      <th>Balance</th>\n",
       "      <th>NumOfProducts</th>\n",
       "      <th>HasCrCard</th>\n",
       "      <th>IsActiveMember</th>\n",
       "      <th>EstimatedSalary</th>\n",
       "      <th>Exited</th>\n",
       "    </tr>\n",
       "  </thead>\n",
       "  <tbody>\n",
       "    <tr>\n",
       "      <th>30</th>\n",
       "      <td>31</td>\n",
       "      <td>15589475</td>\n",
       "      <td>Azikiwe</td>\n",
       "      <td>591</td>\n",
       "      <td>Spain</td>\n",
       "      <td>Female</td>\n",
       "      <td>39</td>\n",
       "      <td>NaN</td>\n",
       "      <td>0.00</td>\n",
       "      <td>3</td>\n",
       "      <td>1</td>\n",
       "      <td>0</td>\n",
       "      <td>140469.38</td>\n",
       "      <td>1</td>\n",
       "    </tr>\n",
       "    <tr>\n",
       "      <th>48</th>\n",
       "      <td>49</td>\n",
       "      <td>15766205</td>\n",
       "      <td>Yin</td>\n",
       "      <td>550</td>\n",
       "      <td>Germany</td>\n",
       "      <td>Male</td>\n",
       "      <td>38</td>\n",
       "      <td>NaN</td>\n",
       "      <td>103391.38</td>\n",
       "      <td>1</td>\n",
       "      <td>0</td>\n",
       "      <td>1</td>\n",
       "      <td>90878.13</td>\n",
       "      <td>0</td>\n",
       "    </tr>\n",
       "    <tr>\n",
       "      <th>51</th>\n",
       "      <td>52</td>\n",
       "      <td>15768193</td>\n",
       "      <td>Trevisani</td>\n",
       "      <td>585</td>\n",
       "      <td>Germany</td>\n",
       "      <td>Male</td>\n",
       "      <td>36</td>\n",
       "      <td>NaN</td>\n",
       "      <td>146050.97</td>\n",
       "      <td>2</td>\n",
       "      <td>0</td>\n",
       "      <td>0</td>\n",
       "      <td>86424.57</td>\n",
       "      <td>0</td>\n",
       "    </tr>\n",
       "    <tr>\n",
       "      <th>53</th>\n",
       "      <td>54</td>\n",
       "      <td>15702298</td>\n",
       "      <td>Parkhill</td>\n",
       "      <td>655</td>\n",
       "      <td>Germany</td>\n",
       "      <td>Male</td>\n",
       "      <td>41</td>\n",
       "      <td>NaN</td>\n",
       "      <td>125561.97</td>\n",
       "      <td>1</td>\n",
       "      <td>0</td>\n",
       "      <td>0</td>\n",
       "      <td>164040.94</td>\n",
       "      <td>1</td>\n",
       "    </tr>\n",
       "    <tr>\n",
       "      <th>60</th>\n",
       "      <td>61</td>\n",
       "      <td>15651280</td>\n",
       "      <td>Hunter</td>\n",
       "      <td>742</td>\n",
       "      <td>Germany</td>\n",
       "      <td>Male</td>\n",
       "      <td>35</td>\n",
       "      <td>NaN</td>\n",
       "      <td>136857.00</td>\n",
       "      <td>1</td>\n",
       "      <td>0</td>\n",
       "      <td>0</td>\n",
       "      <td>84509.57</td>\n",
       "      <td>0</td>\n",
       "    </tr>\n",
       "  </tbody>\n",
       "</table>\n",
       "</div>"
      ],
      "text/plain": [
       "    RowNumber  CustomerId    Surname  CreditScore Geography  Gender  Age  \\\n",
       "30         31    15589475    Azikiwe          591     Spain  Female   39   \n",
       "48         49    15766205        Yin          550   Germany    Male   38   \n",
       "51         52    15768193  Trevisani          585   Germany    Male   36   \n",
       "53         54    15702298   Parkhill          655   Germany    Male   41   \n",
       "60         61    15651280     Hunter          742   Germany    Male   35   \n",
       "\n",
       "    Tenure    Balance  NumOfProducts  HasCrCard  IsActiveMember  \\\n",
       "30     NaN       0.00              3          1               0   \n",
       "48     NaN  103391.38              1          0               1   \n",
       "51     NaN  146050.97              2          0               0   \n",
       "53     NaN  125561.97              1          0               0   \n",
       "60     NaN  136857.00              1          0               0   \n",
       "\n",
       "    EstimatedSalary  Exited  \n",
       "30        140469.38       1  \n",
       "48         90878.13       0  \n",
       "51         86424.57       0  \n",
       "53        164040.94       1  \n",
       "60         84509.57       0  "
      ]
     },
     "execution_count": 5,
     "metadata": {},
     "output_type": "execute_result"
    }
   ],
   "source": [
    "churn.loc[churn['Tenure'].isna()].head()"
   ]
  },
  {
   "cell_type": "markdown",
   "metadata": {},
   "source": [
    "<div class=\"alert alert-info\"> \n",
    "Заменим медианным значением по столбцу\n",
    "</div"
   ]
  },
  {
   "cell_type": "code",
   "execution_count": 7,
   "metadata": {},
   "outputs": [],
   "source": [
    "churn.loc[churn['Tenure'].isna(), 'Tenure'] = churn['Tenure'].median()"
   ]
  },
  {
   "cell_type": "code",
   "execution_count": 8,
   "metadata": {},
   "outputs": [
    {
     "data": {
      "text/plain": [
       "RowNumber                 31\n",
       "CustomerId          15589475\n",
       "Surname              Azikiwe\n",
       "CreditScore              591\n",
       "Geography              Spain\n",
       "Gender                Female\n",
       "Age                       39\n",
       "Tenure                   5.0\n",
       "Balance                  0.0\n",
       "NumOfProducts              3\n",
       "HasCrCard                  1\n",
       "IsActiveMember             0\n",
       "EstimatedSalary    140469.38\n",
       "Exited                     1\n",
       "Name: 30, dtype: object"
      ]
     },
     "execution_count": 8,
     "metadata": {},
     "output_type": "execute_result"
    }
   ],
   "source": [
    "churn.loc[30]"
   ]
  },
  {
   "cell_type": "markdown",
   "metadata": {},
   "source": [
    "<div class=\"alert alert-info\">\n",
    "Столбцы 'RowNumber','CustomerId', 'Surname' удалим, они не влияют на уход клиента из банка\n",
    "    <br>\n",
    "Столбцы Geography и Gender надо будет преобразовывать\n",
    "</div"
   ]
  },
  {
   "cell_type": "code",
   "execution_count": 9,
   "metadata": {},
   "outputs": [],
   "source": [
    "data = churn.drop(['RowNumber','CustomerId', 'Surname'], axis=1)"
   ]
  },
  {
   "cell_type": "code",
   "execution_count": 10,
   "metadata": {},
   "outputs": [
    {
     "data": {
      "text/html": [
       "<div>\n",
       "<style scoped>\n",
       "    .dataframe tbody tr th:only-of-type {\n",
       "        vertical-align: middle;\n",
       "    }\n",
       "\n",
       "    .dataframe tbody tr th {\n",
       "        vertical-align: top;\n",
       "    }\n",
       "\n",
       "    .dataframe thead th {\n",
       "        text-align: right;\n",
       "    }\n",
       "</style>\n",
       "<table border=\"1\" class=\"dataframe\">\n",
       "  <thead>\n",
       "    <tr style=\"text-align: right;\">\n",
       "      <th></th>\n",
       "      <th>CreditScore</th>\n",
       "      <th>Geography</th>\n",
       "      <th>Gender</th>\n",
       "      <th>Age</th>\n",
       "      <th>Tenure</th>\n",
       "      <th>Balance</th>\n",
       "      <th>NumOfProducts</th>\n",
       "      <th>HasCrCard</th>\n",
       "      <th>IsActiveMember</th>\n",
       "      <th>EstimatedSalary</th>\n",
       "      <th>Exited</th>\n",
       "    </tr>\n",
       "  </thead>\n",
       "  <tbody>\n",
       "    <tr>\n",
       "      <th>0</th>\n",
       "      <td>619</td>\n",
       "      <td>France</td>\n",
       "      <td>Female</td>\n",
       "      <td>42</td>\n",
       "      <td>2.0</td>\n",
       "      <td>0.00</td>\n",
       "      <td>1</td>\n",
       "      <td>1</td>\n",
       "      <td>1</td>\n",
       "      <td>101348.88</td>\n",
       "      <td>1</td>\n",
       "    </tr>\n",
       "    <tr>\n",
       "      <th>1</th>\n",
       "      <td>608</td>\n",
       "      <td>Spain</td>\n",
       "      <td>Female</td>\n",
       "      <td>41</td>\n",
       "      <td>1.0</td>\n",
       "      <td>83807.86</td>\n",
       "      <td>1</td>\n",
       "      <td>0</td>\n",
       "      <td>1</td>\n",
       "      <td>112542.58</td>\n",
       "      <td>0</td>\n",
       "    </tr>\n",
       "    <tr>\n",
       "      <th>2</th>\n",
       "      <td>502</td>\n",
       "      <td>France</td>\n",
       "      <td>Female</td>\n",
       "      <td>42</td>\n",
       "      <td>8.0</td>\n",
       "      <td>159660.80</td>\n",
       "      <td>3</td>\n",
       "      <td>1</td>\n",
       "      <td>0</td>\n",
       "      <td>113931.57</td>\n",
       "      <td>1</td>\n",
       "    </tr>\n",
       "    <tr>\n",
       "      <th>3</th>\n",
       "      <td>699</td>\n",
       "      <td>France</td>\n",
       "      <td>Female</td>\n",
       "      <td>39</td>\n",
       "      <td>1.0</td>\n",
       "      <td>0.00</td>\n",
       "      <td>2</td>\n",
       "      <td>0</td>\n",
       "      <td>0</td>\n",
       "      <td>93826.63</td>\n",
       "      <td>0</td>\n",
       "    </tr>\n",
       "    <tr>\n",
       "      <th>4</th>\n",
       "      <td>850</td>\n",
       "      <td>Spain</td>\n",
       "      <td>Female</td>\n",
       "      <td>43</td>\n",
       "      <td>2.0</td>\n",
       "      <td>125510.82</td>\n",
       "      <td>1</td>\n",
       "      <td>1</td>\n",
       "      <td>1</td>\n",
       "      <td>79084.10</td>\n",
       "      <td>0</td>\n",
       "    </tr>\n",
       "  </tbody>\n",
       "</table>\n",
       "</div>"
      ],
      "text/plain": [
       "   CreditScore Geography  Gender  Age  Tenure    Balance  NumOfProducts  \\\n",
       "0          619    France  Female   42     2.0       0.00              1   \n",
       "1          608     Spain  Female   41     1.0   83807.86              1   \n",
       "2          502    France  Female   42     8.0  159660.80              3   \n",
       "3          699    France  Female   39     1.0       0.00              2   \n",
       "4          850     Spain  Female   43     2.0  125510.82              1   \n",
       "\n",
       "   HasCrCard  IsActiveMember  EstimatedSalary  Exited  \n",
       "0          1               1        101348.88       1  \n",
       "1          0               1        112542.58       0  \n",
       "2          1               0        113931.57       1  \n",
       "3          0               0         93826.63       0  \n",
       "4          1               1         79084.10       0  "
      ]
     },
     "execution_count": 10,
     "metadata": {},
     "output_type": "execute_result"
    }
   ],
   "source": [
    "data.head()"
   ]
  },
  {
   "cell_type": "markdown",
   "metadata": {},
   "source": [
    "<div class=\"alert alert-info\">\n",
    "Посмотрим, сколько уникальных значений в столбце Geography\n",
    "</div"
   ]
  },
  {
   "cell_type": "code",
   "execution_count": 11,
   "metadata": {},
   "outputs": [
    {
     "data": {
      "text/plain": [
       "array(['France', 'Spain', 'Germany'], dtype=object)"
      ]
     },
     "execution_count": 11,
     "metadata": {},
     "output_type": "execute_result"
    }
   ],
   "source": [
    "data['Geography'].unique()"
   ]
  },
  {
   "cell_type": "markdown",
   "metadata": {},
   "source": [
    "<div class=\"alert alert-info\">\n",
    "Посмотрим, сколько клиентов в имеющихся данных ушли из банка, а сколько осталось\n",
    "</div"
   ]
  },
  {
   "cell_type": "code",
   "execution_count": 12,
   "metadata": {},
   "outputs": [
    {
     "data": {
      "text/plain": [
       "0    7963\n",
       "1    2037\n",
       "Name: Exited, dtype: int64"
      ]
     },
     "execution_count": 12,
     "metadata": {},
     "output_type": "execute_result"
    }
   ],
   "source": [
    "data['Exited'].value_counts()"
   ]
  },
  {
   "cell_type": "markdown",
   "metadata": {},
   "source": [
    "<div class=\"alert alert-info\">\n",
    "Наблюдается дисбаланс классов (примерно 80%:20%). Ушло клиентов намного меньше, чем осталось.\n",
    "</div"
   ]
  },
  {
   "cell_type": "markdown",
   "metadata": {},
   "source": [
    "<div class=\"alert alert-info\">\n",
    "Разобьём исходные данные на три выборки: обучающую (train) и валидационную (valid) и тестовую(test). </div"
   ]
  },
  {
   "cell_type": "code",
   "execution_count": 13,
   "metadata": {},
   "outputs": [],
   "source": [
    "data_train, data_test = train_test_split(data, test_size = 0.4, random_state=12345)\n",
    "data_valid, data_test = train_test_split(data_test, test_size=0.5, random_state=12345)"
   ]
  },
  {
   "cell_type": "markdown",
   "metadata": {},
   "source": [
    "<div class=\"alert alert-info\">\n",
    "Подготовим списки с названиями численных и категорийных столбцов\n",
    "</div"
   ]
  },
  {
   "cell_type": "code",
   "execution_count": 14,
   "metadata": {},
   "outputs": [],
   "source": [
    "col_num = ['CreditScore','Age', 'Tenure', 'Balance', 'NumOfProducts', 'EstimatedSalary'] #,'IsActiveMember','HasCrCard']\n",
    "col_cat = ['Geography', 'Gender']"
   ]
  },
  {
   "cell_type": "markdown",
   "metadata": {},
   "source": [
    "<div class=\"alert alert-info\">\n",
    "Объявим переменные:\n",
    "    <br>\n",
    "признаки: features_train, features_valid, features_test;\n",
    "    <br>\n",
    "целевой признак: target_train, target_valid, target_test.\n",
    "</div"
   ]
  },
  {
   "cell_type": "markdown",
   "metadata": {},
   "source": [
    "<div class=\"alert alert-info\">\n",
    "Преобразуем категориальные признаки в численные с помощью техники прямого кодирования (One-Hot Encoding, OHE). Затем разобьём на выборки\n",
    "</div"
   ]
  },
  {
   "cell_type": "code",
   "execution_count": 16,
   "metadata": {},
   "outputs": [
    {
     "data": {
      "text/html": [
       "<div>\n",
       "<style scoped>\n",
       "    .dataframe tbody tr th:only-of-type {\n",
       "        vertical-align: middle;\n",
       "    }\n",
       "\n",
       "    .dataframe tbody tr th {\n",
       "        vertical-align: top;\n",
       "    }\n",
       "\n",
       "    .dataframe thead th {\n",
       "        text-align: right;\n",
       "    }\n",
       "</style>\n",
       "<table border=\"1\" class=\"dataframe\">\n",
       "  <thead>\n",
       "    <tr style=\"text-align: right;\">\n",
       "      <th></th>\n",
       "      <th>CreditScore</th>\n",
       "      <th>Age</th>\n",
       "      <th>Tenure</th>\n",
       "      <th>Balance</th>\n",
       "      <th>NumOfProducts</th>\n",
       "      <th>HasCrCard</th>\n",
       "      <th>IsActiveMember</th>\n",
       "      <th>EstimatedSalary</th>\n",
       "      <th>Exited</th>\n",
       "      <th>Geography_Germany</th>\n",
       "      <th>Geography_Spain</th>\n",
       "      <th>Gender_Male</th>\n",
       "    </tr>\n",
       "  </thead>\n",
       "  <tbody>\n",
       "    <tr>\n",
       "      <th>0</th>\n",
       "      <td>619</td>\n",
       "      <td>42</td>\n",
       "      <td>2.0</td>\n",
       "      <td>0.00</td>\n",
       "      <td>1</td>\n",
       "      <td>1</td>\n",
       "      <td>1</td>\n",
       "      <td>101348.88</td>\n",
       "      <td>1</td>\n",
       "      <td>0</td>\n",
       "      <td>0</td>\n",
       "      <td>0</td>\n",
       "    </tr>\n",
       "    <tr>\n",
       "      <th>1</th>\n",
       "      <td>608</td>\n",
       "      <td>41</td>\n",
       "      <td>1.0</td>\n",
       "      <td>83807.86</td>\n",
       "      <td>1</td>\n",
       "      <td>0</td>\n",
       "      <td>1</td>\n",
       "      <td>112542.58</td>\n",
       "      <td>0</td>\n",
       "      <td>0</td>\n",
       "      <td>1</td>\n",
       "      <td>0</td>\n",
       "    </tr>\n",
       "    <tr>\n",
       "      <th>2</th>\n",
       "      <td>502</td>\n",
       "      <td>42</td>\n",
       "      <td>8.0</td>\n",
       "      <td>159660.80</td>\n",
       "      <td>3</td>\n",
       "      <td>1</td>\n",
       "      <td>0</td>\n",
       "      <td>113931.57</td>\n",
       "      <td>1</td>\n",
       "      <td>0</td>\n",
       "      <td>0</td>\n",
       "      <td>0</td>\n",
       "    </tr>\n",
       "    <tr>\n",
       "      <th>3</th>\n",
       "      <td>699</td>\n",
       "      <td>39</td>\n",
       "      <td>1.0</td>\n",
       "      <td>0.00</td>\n",
       "      <td>2</td>\n",
       "      <td>0</td>\n",
       "      <td>0</td>\n",
       "      <td>93826.63</td>\n",
       "      <td>0</td>\n",
       "      <td>0</td>\n",
       "      <td>0</td>\n",
       "      <td>0</td>\n",
       "    </tr>\n",
       "    <tr>\n",
       "      <th>4</th>\n",
       "      <td>850</td>\n",
       "      <td>43</td>\n",
       "      <td>2.0</td>\n",
       "      <td>125510.82</td>\n",
       "      <td>1</td>\n",
       "      <td>1</td>\n",
       "      <td>1</td>\n",
       "      <td>79084.10</td>\n",
       "      <td>0</td>\n",
       "      <td>0</td>\n",
       "      <td>1</td>\n",
       "      <td>0</td>\n",
       "    </tr>\n",
       "  </tbody>\n",
       "</table>\n",
       "</div>"
      ],
      "text/plain": [
       "   CreditScore  Age  Tenure    Balance  NumOfProducts  HasCrCard  \\\n",
       "0          619   42     2.0       0.00              1          1   \n",
       "1          608   41     1.0   83807.86              1          0   \n",
       "2          502   42     8.0  159660.80              3          1   \n",
       "3          699   39     1.0       0.00              2          0   \n",
       "4          850   43     2.0  125510.82              1          1   \n",
       "\n",
       "   IsActiveMember  EstimatedSalary  Exited  Geography_Germany  \\\n",
       "0               1        101348.88       1                  0   \n",
       "1               1        112542.58       0                  0   \n",
       "2               0        113931.57       1                  0   \n",
       "3               0         93826.63       0                  0   \n",
       "4               1         79084.10       0                  0   \n",
       "\n",
       "   Geography_Spain  Gender_Male  \n",
       "0                0            0  \n",
       "1                1            0  \n",
       "2                0            0  \n",
       "3                0            0  \n",
       "4                1            0  "
      ]
     },
     "execution_count": 16,
     "metadata": {},
     "output_type": "execute_result"
    }
   ],
   "source": [
    "data_ohe = pd.get_dummies(data, columns = col_cat, drop_first=True)\n",
    "data_ohe.head()"
   ]
  },
  {
   "cell_type": "code",
   "execution_count": 17,
   "metadata": {},
   "outputs": [],
   "source": [
    "data_train_ohe, data_test_ohe = train_test_split(data_ohe, test_size = 0.4, random_state=12345)\n",
    "data_valid_ohe, data_test_ohe = train_test_split(data_test_ohe, test_size=0.5, random_state=12345)"
   ]
  },
  {
   "cell_type": "markdown",
   "metadata": {},
   "source": [
    "<div class=\"alert alert-info\">\n",
    "Также формируем выборки features, test и valid</div"
   ]
  },
  {
   "cell_type": "code",
   "execution_count": 19,
   "metadata": {},
   "outputs": [
    {
     "name": "stdout",
     "output_type": "stream",
     "text": [
      "(6000, 11)\n",
      "(2000, 11)\n",
      "(2000, 11)\n"
     ]
    }
   ],
   "source": [
    "features_train_ohe = data_train_ohe.drop(['Exited'], axis=1)\n",
    "target_train_ohe = data_train_ohe['Exited']\n",
    "\n",
    "features_valid_ohe = data_valid_ohe.drop(['Exited'], axis=1)\n",
    "target_valid_ohe = data_valid_ohe['Exited']\n",
    "\n",
    "features_test_ohe = data_test_ohe.drop(['Exited'], axis=1)\n",
    "target_test_ohe = data_test_ohe['Exited']\n",
    "\n",
    "print (features_train_ohe.shape)\n",
    "print (features_valid_ohe.shape)\n",
    "print (features_test_ohe.shape)"
   ]
  },
  {
   "cell_type": "markdown",
   "metadata": {},
   "source": [
    "<div class=\"alert alert-info\">\n",
    "Теперь стандартизируем признаки с помощью функции StandardScaler</div"
   ]
  },
  {
   "cell_type": "code",
   "execution_count": 20,
   "metadata": {},
   "outputs": [
    {
     "data": {
      "text/html": [
       "<div>\n",
       "<style scoped>\n",
       "    .dataframe tbody tr th:only-of-type {\n",
       "        vertical-align: middle;\n",
       "    }\n",
       "\n",
       "    .dataframe tbody tr th {\n",
       "        vertical-align: top;\n",
       "    }\n",
       "\n",
       "    .dataframe thead th {\n",
       "        text-align: right;\n",
       "    }\n",
       "</style>\n",
       "<table border=\"1\" class=\"dataframe\">\n",
       "  <thead>\n",
       "    <tr style=\"text-align: right;\">\n",
       "      <th></th>\n",
       "      <th>CreditScore</th>\n",
       "      <th>Age</th>\n",
       "      <th>Tenure</th>\n",
       "      <th>Balance</th>\n",
       "      <th>NumOfProducts</th>\n",
       "      <th>HasCrCard</th>\n",
       "      <th>IsActiveMember</th>\n",
       "      <th>EstimatedSalary</th>\n",
       "      <th>Geography_Germany</th>\n",
       "      <th>Geography_Spain</th>\n",
       "      <th>Gender_Male</th>\n",
       "    </tr>\n",
       "  </thead>\n",
       "  <tbody>\n",
       "    <tr>\n",
       "      <th>7479</th>\n",
       "      <td>-0.886751</td>\n",
       "      <td>-0.373192</td>\n",
       "      <td>1.082277</td>\n",
       "      <td>1.232271</td>\n",
       "      <td>-0.891560</td>\n",
       "      <td>1</td>\n",
       "      <td>0</td>\n",
       "      <td>-0.187705</td>\n",
       "      <td>0</td>\n",
       "      <td>1</td>\n",
       "      <td>1</td>\n",
       "    </tr>\n",
       "    <tr>\n",
       "      <th>3411</th>\n",
       "      <td>0.608663</td>\n",
       "      <td>-0.183385</td>\n",
       "      <td>1.082277</td>\n",
       "      <td>0.600563</td>\n",
       "      <td>-0.891560</td>\n",
       "      <td>0</td>\n",
       "      <td>0</td>\n",
       "      <td>-0.333945</td>\n",
       "      <td>0</td>\n",
       "      <td>0</td>\n",
       "      <td>0</td>\n",
       "    </tr>\n",
       "    <tr>\n",
       "      <th>6027</th>\n",
       "      <td>2.052152</td>\n",
       "      <td>0.480939</td>\n",
       "      <td>-0.737696</td>\n",
       "      <td>1.027098</td>\n",
       "      <td>0.830152</td>\n",
       "      <td>0</td>\n",
       "      <td>1</td>\n",
       "      <td>1.503095</td>\n",
       "      <td>1</td>\n",
       "      <td>0</td>\n",
       "      <td>1</td>\n",
       "    </tr>\n",
       "    <tr>\n",
       "      <th>1247</th>\n",
       "      <td>-1.457915</td>\n",
       "      <td>-1.417129</td>\n",
       "      <td>0.354288</td>\n",
       "      <td>-1.233163</td>\n",
       "      <td>0.830152</td>\n",
       "      <td>1</td>\n",
       "      <td>0</td>\n",
       "      <td>-1.071061</td>\n",
       "      <td>0</td>\n",
       "      <td>0</td>\n",
       "      <td>1</td>\n",
       "    </tr>\n",
       "    <tr>\n",
       "      <th>3716</th>\n",
       "      <td>0.130961</td>\n",
       "      <td>-1.132419</td>\n",
       "      <td>-1.101690</td>\n",
       "      <td>1.140475</td>\n",
       "      <td>-0.891560</td>\n",
       "      <td>0</td>\n",
       "      <td>0</td>\n",
       "      <td>1.524268</td>\n",
       "      <td>1</td>\n",
       "      <td>0</td>\n",
       "      <td>0</td>\n",
       "    </tr>\n",
       "    <tr>\n",
       "      <th>...</th>\n",
       "      <td>...</td>\n",
       "      <td>...</td>\n",
       "      <td>...</td>\n",
       "      <td>...</td>\n",
       "      <td>...</td>\n",
       "      <td>...</td>\n",
       "      <td>...</td>\n",
       "      <td>...</td>\n",
       "      <td>...</td>\n",
       "      <td>...</td>\n",
       "      <td>...</td>\n",
       "    </tr>\n",
       "    <tr>\n",
       "      <th>4478</th>\n",
       "      <td>-1.073677</td>\n",
       "      <td>-0.752805</td>\n",
       "      <td>-0.373701</td>\n",
       "      <td>-1.233163</td>\n",
       "      <td>0.830152</td>\n",
       "      <td>0</td>\n",
       "      <td>1</td>\n",
       "      <td>-1.278361</td>\n",
       "      <td>0</td>\n",
       "      <td>0</td>\n",
       "      <td>1</td>\n",
       "    </tr>\n",
       "    <tr>\n",
       "      <th>4094</th>\n",
       "      <td>-1.447531</td>\n",
       "      <td>-0.942612</td>\n",
       "      <td>1.810266</td>\n",
       "      <td>-1.233163</td>\n",
       "      <td>0.830152</td>\n",
       "      <td>0</td>\n",
       "      <td>1</td>\n",
       "      <td>-1.281307</td>\n",
       "      <td>0</td>\n",
       "      <td>0</td>\n",
       "      <td>1</td>\n",
       "    </tr>\n",
       "    <tr>\n",
       "      <th>3492</th>\n",
       "      <td>0.027113</td>\n",
       "      <td>0.575842</td>\n",
       "      <td>-0.009707</td>\n",
       "      <td>-0.310229</td>\n",
       "      <td>-0.891560</td>\n",
       "      <td>0</td>\n",
       "      <td>1</td>\n",
       "      <td>-0.903158</td>\n",
       "      <td>0</td>\n",
       "      <td>0</td>\n",
       "      <td>0</td>\n",
       "    </tr>\n",
       "    <tr>\n",
       "      <th>2177</th>\n",
       "      <td>0.151731</td>\n",
       "      <td>-1.417129</td>\n",
       "      <td>-0.373701</td>\n",
       "      <td>-1.233163</td>\n",
       "      <td>0.830152</td>\n",
       "      <td>0</td>\n",
       "      <td>1</td>\n",
       "      <td>-1.128539</td>\n",
       "      <td>0</td>\n",
       "      <td>0</td>\n",
       "      <td>0</td>\n",
       "    </tr>\n",
       "    <tr>\n",
       "      <th>4578</th>\n",
       "      <td>0.400966</td>\n",
       "      <td>-0.088482</td>\n",
       "      <td>-1.465685</td>\n",
       "      <td>-1.233163</td>\n",
       "      <td>0.830152</td>\n",
       "      <td>0</td>\n",
       "      <td>0</td>\n",
       "      <td>-0.949841</td>\n",
       "      <td>0</td>\n",
       "      <td>0</td>\n",
       "      <td>1</td>\n",
       "    </tr>\n",
       "  </tbody>\n",
       "</table>\n",
       "<p>6000 rows × 11 columns</p>\n",
       "</div>"
      ],
      "text/plain": [
       "      CreditScore       Age    Tenure   Balance  NumOfProducts  HasCrCard  \\\n",
       "7479    -0.886751 -0.373192  1.082277  1.232271      -0.891560          1   \n",
       "3411     0.608663 -0.183385  1.082277  0.600563      -0.891560          0   \n",
       "6027     2.052152  0.480939 -0.737696  1.027098       0.830152          0   \n",
       "1247    -1.457915 -1.417129  0.354288 -1.233163       0.830152          1   \n",
       "3716     0.130961 -1.132419 -1.101690  1.140475      -0.891560          0   \n",
       "...           ...       ...       ...       ...            ...        ...   \n",
       "4478    -1.073677 -0.752805 -0.373701 -1.233163       0.830152          0   \n",
       "4094    -1.447531 -0.942612  1.810266 -1.233163       0.830152          0   \n",
       "3492     0.027113  0.575842 -0.009707 -0.310229      -0.891560          0   \n",
       "2177     0.151731 -1.417129 -0.373701 -1.233163       0.830152          0   \n",
       "4578     0.400966 -0.088482 -1.465685 -1.233163       0.830152          0   \n",
       "\n",
       "      IsActiveMember  EstimatedSalary  Geography_Germany  Geography_Spain  \\\n",
       "7479               0        -0.187705                  0                1   \n",
       "3411               0        -0.333945                  0                0   \n",
       "6027               1         1.503095                  1                0   \n",
       "1247               0        -1.071061                  0                0   \n",
       "3716               0         1.524268                  1                0   \n",
       "...              ...              ...                ...              ...   \n",
       "4478               1        -1.278361                  0                0   \n",
       "4094               1        -1.281307                  0                0   \n",
       "3492               1        -0.903158                  0                0   \n",
       "2177               1        -1.128539                  0                0   \n",
       "4578               0        -0.949841                  0                0   \n",
       "\n",
       "      Gender_Male  \n",
       "7479            1  \n",
       "3411            0  \n",
       "6027            1  \n",
       "1247            1  \n",
       "3716            0  \n",
       "...           ...  \n",
       "4478            1  \n",
       "4094            1  \n",
       "3492            0  \n",
       "2177            0  \n",
       "4578            1  \n",
       "\n",
       "[6000 rows x 11 columns]"
      ]
     },
     "execution_count": 20,
     "metadata": {},
     "output_type": "execute_result"
    }
   ],
   "source": [
    "scaler = StandardScaler()\n",
    "scaler.fit(features_train_ohe[col_num])\n",
    "features_train_ohe[col_num] = scaler.transform(features_train_ohe[col_num])\n",
    "features_valid_ohe[col_num] = scaler.transform(features_valid_ohe[col_num])\n",
    "features_test_ohe[col_num] = scaler.transform(features_test_ohe[col_num])\n",
    "features_train_ohe"
   ]
  },
  {
   "cell_type": "markdown",
   "metadata": {},
   "source": [
    "<div class=\"alert alert-info\">\n",
    "Также подготовим данные, используем технику ordinal encoder (она понадобится для модели дерева решений и случайного леса)</div"
   ]
  },
  {
   "cell_type": "code",
   "execution_count": 21,
   "metadata": {},
   "outputs": [
    {
     "data": {
      "text/html": [
       "<div>\n",
       "<style scoped>\n",
       "    .dataframe tbody tr th:only-of-type {\n",
       "        vertical-align: middle;\n",
       "    }\n",
       "\n",
       "    .dataframe tbody tr th {\n",
       "        vertical-align: top;\n",
       "    }\n",
       "\n",
       "    .dataframe thead th {\n",
       "        text-align: right;\n",
       "    }\n",
       "</style>\n",
       "<table border=\"1\" class=\"dataframe\">\n",
       "  <thead>\n",
       "    <tr style=\"text-align: right;\">\n",
       "      <th></th>\n",
       "      <th>CreditScore</th>\n",
       "      <th>Geography</th>\n",
       "      <th>Gender</th>\n",
       "      <th>Age</th>\n",
       "      <th>Tenure</th>\n",
       "      <th>Balance</th>\n",
       "      <th>NumOfProducts</th>\n",
       "      <th>HasCrCard</th>\n",
       "      <th>IsActiveMember</th>\n",
       "      <th>EstimatedSalary</th>\n",
       "      <th>Exited</th>\n",
       "    </tr>\n",
       "  </thead>\n",
       "  <tbody>\n",
       "    <tr>\n",
       "      <th>0</th>\n",
       "      <td>619</td>\n",
       "      <td>0.0</td>\n",
       "      <td>0.0</td>\n",
       "      <td>42</td>\n",
       "      <td>2.0</td>\n",
       "      <td>0.00</td>\n",
       "      <td>1</td>\n",
       "      <td>1</td>\n",
       "      <td>1</td>\n",
       "      <td>101348.88</td>\n",
       "      <td>1</td>\n",
       "    </tr>\n",
       "    <tr>\n",
       "      <th>1</th>\n",
       "      <td>608</td>\n",
       "      <td>2.0</td>\n",
       "      <td>0.0</td>\n",
       "      <td>41</td>\n",
       "      <td>1.0</td>\n",
       "      <td>83807.86</td>\n",
       "      <td>1</td>\n",
       "      <td>0</td>\n",
       "      <td>1</td>\n",
       "      <td>112542.58</td>\n",
       "      <td>0</td>\n",
       "    </tr>\n",
       "    <tr>\n",
       "      <th>2</th>\n",
       "      <td>502</td>\n",
       "      <td>0.0</td>\n",
       "      <td>0.0</td>\n",
       "      <td>42</td>\n",
       "      <td>8.0</td>\n",
       "      <td>159660.80</td>\n",
       "      <td>3</td>\n",
       "      <td>1</td>\n",
       "      <td>0</td>\n",
       "      <td>113931.57</td>\n",
       "      <td>1</td>\n",
       "    </tr>\n",
       "    <tr>\n",
       "      <th>3</th>\n",
       "      <td>699</td>\n",
       "      <td>0.0</td>\n",
       "      <td>0.0</td>\n",
       "      <td>39</td>\n",
       "      <td>1.0</td>\n",
       "      <td>0.00</td>\n",
       "      <td>2</td>\n",
       "      <td>0</td>\n",
       "      <td>0</td>\n",
       "      <td>93826.63</td>\n",
       "      <td>0</td>\n",
       "    </tr>\n",
       "    <tr>\n",
       "      <th>4</th>\n",
       "      <td>850</td>\n",
       "      <td>2.0</td>\n",
       "      <td>0.0</td>\n",
       "      <td>43</td>\n",
       "      <td>2.0</td>\n",
       "      <td>125510.82</td>\n",
       "      <td>1</td>\n",
       "      <td>1</td>\n",
       "      <td>1</td>\n",
       "      <td>79084.10</td>\n",
       "      <td>0</td>\n",
       "    </tr>\n",
       "    <tr>\n",
       "      <th>...</th>\n",
       "      <td>...</td>\n",
       "      <td>...</td>\n",
       "      <td>...</td>\n",
       "      <td>...</td>\n",
       "      <td>...</td>\n",
       "      <td>...</td>\n",
       "      <td>...</td>\n",
       "      <td>...</td>\n",
       "      <td>...</td>\n",
       "      <td>...</td>\n",
       "      <td>...</td>\n",
       "    </tr>\n",
       "    <tr>\n",
       "      <th>9995</th>\n",
       "      <td>771</td>\n",
       "      <td>0.0</td>\n",
       "      <td>1.0</td>\n",
       "      <td>39</td>\n",
       "      <td>5.0</td>\n",
       "      <td>0.00</td>\n",
       "      <td>2</td>\n",
       "      <td>1</td>\n",
       "      <td>0</td>\n",
       "      <td>96270.64</td>\n",
       "      <td>0</td>\n",
       "    </tr>\n",
       "    <tr>\n",
       "      <th>9996</th>\n",
       "      <td>516</td>\n",
       "      <td>0.0</td>\n",
       "      <td>1.0</td>\n",
       "      <td>35</td>\n",
       "      <td>10.0</td>\n",
       "      <td>57369.61</td>\n",
       "      <td>1</td>\n",
       "      <td>1</td>\n",
       "      <td>1</td>\n",
       "      <td>101699.77</td>\n",
       "      <td>0</td>\n",
       "    </tr>\n",
       "    <tr>\n",
       "      <th>9997</th>\n",
       "      <td>709</td>\n",
       "      <td>0.0</td>\n",
       "      <td>0.0</td>\n",
       "      <td>36</td>\n",
       "      <td>7.0</td>\n",
       "      <td>0.00</td>\n",
       "      <td>1</td>\n",
       "      <td>0</td>\n",
       "      <td>1</td>\n",
       "      <td>42085.58</td>\n",
       "      <td>1</td>\n",
       "    </tr>\n",
       "    <tr>\n",
       "      <th>9998</th>\n",
       "      <td>772</td>\n",
       "      <td>1.0</td>\n",
       "      <td>1.0</td>\n",
       "      <td>42</td>\n",
       "      <td>3.0</td>\n",
       "      <td>75075.31</td>\n",
       "      <td>2</td>\n",
       "      <td>1</td>\n",
       "      <td>0</td>\n",
       "      <td>92888.52</td>\n",
       "      <td>1</td>\n",
       "    </tr>\n",
       "    <tr>\n",
       "      <th>9999</th>\n",
       "      <td>792</td>\n",
       "      <td>0.0</td>\n",
       "      <td>0.0</td>\n",
       "      <td>28</td>\n",
       "      <td>5.0</td>\n",
       "      <td>130142.79</td>\n",
       "      <td>1</td>\n",
       "      <td>1</td>\n",
       "      <td>0</td>\n",
       "      <td>38190.78</td>\n",
       "      <td>0</td>\n",
       "    </tr>\n",
       "  </tbody>\n",
       "</table>\n",
       "<p>10000 rows × 11 columns</p>\n",
       "</div>"
      ],
      "text/plain": [
       "      CreditScore  Geography  Gender  Age  Tenure    Balance  NumOfProducts  \\\n",
       "0             619        0.0     0.0   42     2.0       0.00              1   \n",
       "1             608        2.0     0.0   41     1.0   83807.86              1   \n",
       "2             502        0.0     0.0   42     8.0  159660.80              3   \n",
       "3             699        0.0     0.0   39     1.0       0.00              2   \n",
       "4             850        2.0     0.0   43     2.0  125510.82              1   \n",
       "...           ...        ...     ...  ...     ...        ...            ...   \n",
       "9995          771        0.0     1.0   39     5.0       0.00              2   \n",
       "9996          516        0.0     1.0   35    10.0   57369.61              1   \n",
       "9997          709        0.0     0.0   36     7.0       0.00              1   \n",
       "9998          772        1.0     1.0   42     3.0   75075.31              2   \n",
       "9999          792        0.0     0.0   28     5.0  130142.79              1   \n",
       "\n",
       "      HasCrCard  IsActiveMember  EstimatedSalary  Exited  \n",
       "0             1               1        101348.88       1  \n",
       "1             0               1        112542.58       0  \n",
       "2             1               0        113931.57       1  \n",
       "3             0               0         93826.63       0  \n",
       "4             1               1         79084.10       0  \n",
       "...         ...             ...              ...     ...  \n",
       "9995          1               0         96270.64       0  \n",
       "9996          1               1        101699.77       0  \n",
       "9997          0               1         42085.58       1  \n",
       "9998          1               0         92888.52       1  \n",
       "9999          1               0         38190.78       0  \n",
       "\n",
       "[10000 rows x 11 columns]"
      ]
     },
     "execution_count": 21,
     "metadata": {},
     "output_type": "execute_result"
    }
   ],
   "source": [
    "encoder = OrdinalEncoder()\n",
    "data_ordinal = data\n",
    "data_ordinal[col_cat] = pd.DataFrame(encoder.fit_transform(data[col_cat])) #, columns=col_cat)\n",
    "data_ordinal"
   ]
  },
  {
   "cell_type": "markdown",
   "metadata": {},
   "source": [
    "<div class=\"alert alert-info\">\n",
    "Разделим выборку на три части и создадим переменные features и target для каждой подвыборки\n",
    "</div"
   ]
  },
  {
   "cell_type": "code",
   "execution_count": 22,
   "metadata": {},
   "outputs": [
    {
     "name": "stdout",
     "output_type": "stream",
     "text": [
      "      CreditScore  Geography  Gender  Age  Tenure    Balance  NumOfProducts  \\\n",
      "7479          567        2.0     1.0   35     8.0  153137.74              1   \n",
      "3411          711        0.0     0.0   37     8.0  113899.92              1   \n",
      "6027          850        1.0     1.0   44     3.0  140393.65              2   \n",
      "1247          512        0.0     1.0   24     6.0       0.00              2   \n",
      "3716          665        1.0     0.0   27     2.0  147435.96              1   \n",
      "\n",
      "      HasCrCard  IsActiveMember  EstimatedSalary  \n",
      "7479          1               0         88659.07  \n",
      "3411          0               0         80215.20  \n",
      "6027          0               1        186285.52  \n",
      "1247          1               0         37654.31  \n",
      "3716          0               0        187508.06  \n"
     ]
    }
   ],
   "source": [
    "data_train_ord, data_test_ord = train_test_split(data_ordinal, test_size = 0.4, random_state=12345)\n",
    "data_valid_ord, data_test_ord = train_test_split(data_test_ord, test_size=0.5, random_state=12345)\n",
    "\n",
    "\n",
    "features_train_ord = data_train_ord.drop(['Exited'], axis=1)\n",
    "target_train_ord = data_train_ord['Exited']\n",
    "\n",
    "features_valid_ord = data_valid_ord.drop(['Exited'], axis=1)\n",
    "target_valid_ord = data_valid_ord['Exited']\n",
    "\n",
    "features_test_ord = data_test_ord.drop(['Exited'], axis=1)\n",
    "target_test_ord = data_test_ord['Exited']\n",
    "\n",
    "print(features_train_ord.head())"
   ]
  },
  {
   "cell_type": "markdown",
   "metadata": {},
   "source": [
    "<div class=\"alert alert-info\">\n",
    "Масштабируем</div"
   ]
  },
  {
   "cell_type": "code",
   "execution_count": 23,
   "metadata": {},
   "outputs": [
    {
     "data": {
      "text/html": [
       "<div>\n",
       "<style scoped>\n",
       "    .dataframe tbody tr th:only-of-type {\n",
       "        vertical-align: middle;\n",
       "    }\n",
       "\n",
       "    .dataframe tbody tr th {\n",
       "        vertical-align: top;\n",
       "    }\n",
       "\n",
       "    .dataframe thead th {\n",
       "        text-align: right;\n",
       "    }\n",
       "</style>\n",
       "<table border=\"1\" class=\"dataframe\">\n",
       "  <thead>\n",
       "    <tr style=\"text-align: right;\">\n",
       "      <th></th>\n",
       "      <th>CreditScore</th>\n",
       "      <th>Age</th>\n",
       "      <th>Tenure</th>\n",
       "      <th>Balance</th>\n",
       "      <th>NumOfProducts</th>\n",
       "      <th>HasCrCard</th>\n",
       "      <th>IsActiveMember</th>\n",
       "      <th>EstimatedSalary</th>\n",
       "      <th>Geography_Germany</th>\n",
       "      <th>Geography_Spain</th>\n",
       "      <th>Gender_Male</th>\n",
       "    </tr>\n",
       "  </thead>\n",
       "  <tbody>\n",
       "    <tr>\n",
       "      <th>7479</th>\n",
       "      <td>-0.886751</td>\n",
       "      <td>-0.373192</td>\n",
       "      <td>1.082277</td>\n",
       "      <td>1.232271</td>\n",
       "      <td>-0.891560</td>\n",
       "      <td>1</td>\n",
       "      <td>0</td>\n",
       "      <td>-0.187705</td>\n",
       "      <td>0</td>\n",
       "      <td>1</td>\n",
       "      <td>1</td>\n",
       "    </tr>\n",
       "    <tr>\n",
       "      <th>3411</th>\n",
       "      <td>0.608663</td>\n",
       "      <td>-0.183385</td>\n",
       "      <td>1.082277</td>\n",
       "      <td>0.600563</td>\n",
       "      <td>-0.891560</td>\n",
       "      <td>0</td>\n",
       "      <td>0</td>\n",
       "      <td>-0.333945</td>\n",
       "      <td>0</td>\n",
       "      <td>0</td>\n",
       "      <td>0</td>\n",
       "    </tr>\n",
       "    <tr>\n",
       "      <th>6027</th>\n",
       "      <td>2.052152</td>\n",
       "      <td>0.480939</td>\n",
       "      <td>-0.737696</td>\n",
       "      <td>1.027098</td>\n",
       "      <td>0.830152</td>\n",
       "      <td>0</td>\n",
       "      <td>1</td>\n",
       "      <td>1.503095</td>\n",
       "      <td>1</td>\n",
       "      <td>0</td>\n",
       "      <td>1</td>\n",
       "    </tr>\n",
       "    <tr>\n",
       "      <th>1247</th>\n",
       "      <td>-1.457915</td>\n",
       "      <td>-1.417129</td>\n",
       "      <td>0.354288</td>\n",
       "      <td>-1.233163</td>\n",
       "      <td>0.830152</td>\n",
       "      <td>1</td>\n",
       "      <td>0</td>\n",
       "      <td>-1.071061</td>\n",
       "      <td>0</td>\n",
       "      <td>0</td>\n",
       "      <td>1</td>\n",
       "    </tr>\n",
       "    <tr>\n",
       "      <th>3716</th>\n",
       "      <td>0.130961</td>\n",
       "      <td>-1.132419</td>\n",
       "      <td>-1.101690</td>\n",
       "      <td>1.140475</td>\n",
       "      <td>-0.891560</td>\n",
       "      <td>0</td>\n",
       "      <td>0</td>\n",
       "      <td>1.524268</td>\n",
       "      <td>1</td>\n",
       "      <td>0</td>\n",
       "      <td>0</td>\n",
       "    </tr>\n",
       "    <tr>\n",
       "      <th>...</th>\n",
       "      <td>...</td>\n",
       "      <td>...</td>\n",
       "      <td>...</td>\n",
       "      <td>...</td>\n",
       "      <td>...</td>\n",
       "      <td>...</td>\n",
       "      <td>...</td>\n",
       "      <td>...</td>\n",
       "      <td>...</td>\n",
       "      <td>...</td>\n",
       "      <td>...</td>\n",
       "    </tr>\n",
       "    <tr>\n",
       "      <th>4478</th>\n",
       "      <td>-1.073677</td>\n",
       "      <td>-0.752805</td>\n",
       "      <td>-0.373701</td>\n",
       "      <td>-1.233163</td>\n",
       "      <td>0.830152</td>\n",
       "      <td>0</td>\n",
       "      <td>1</td>\n",
       "      <td>-1.278361</td>\n",
       "      <td>0</td>\n",
       "      <td>0</td>\n",
       "      <td>1</td>\n",
       "    </tr>\n",
       "    <tr>\n",
       "      <th>4094</th>\n",
       "      <td>-1.447531</td>\n",
       "      <td>-0.942612</td>\n",
       "      <td>1.810266</td>\n",
       "      <td>-1.233163</td>\n",
       "      <td>0.830152</td>\n",
       "      <td>0</td>\n",
       "      <td>1</td>\n",
       "      <td>-1.281307</td>\n",
       "      <td>0</td>\n",
       "      <td>0</td>\n",
       "      <td>1</td>\n",
       "    </tr>\n",
       "    <tr>\n",
       "      <th>3492</th>\n",
       "      <td>0.027113</td>\n",
       "      <td>0.575842</td>\n",
       "      <td>-0.009707</td>\n",
       "      <td>-0.310229</td>\n",
       "      <td>-0.891560</td>\n",
       "      <td>0</td>\n",
       "      <td>1</td>\n",
       "      <td>-0.903158</td>\n",
       "      <td>0</td>\n",
       "      <td>0</td>\n",
       "      <td>0</td>\n",
       "    </tr>\n",
       "    <tr>\n",
       "      <th>2177</th>\n",
       "      <td>0.151731</td>\n",
       "      <td>-1.417129</td>\n",
       "      <td>-0.373701</td>\n",
       "      <td>-1.233163</td>\n",
       "      <td>0.830152</td>\n",
       "      <td>0</td>\n",
       "      <td>1</td>\n",
       "      <td>-1.128539</td>\n",
       "      <td>0</td>\n",
       "      <td>0</td>\n",
       "      <td>0</td>\n",
       "    </tr>\n",
       "    <tr>\n",
       "      <th>4578</th>\n",
       "      <td>0.400966</td>\n",
       "      <td>-0.088482</td>\n",
       "      <td>-1.465685</td>\n",
       "      <td>-1.233163</td>\n",
       "      <td>0.830152</td>\n",
       "      <td>0</td>\n",
       "      <td>0</td>\n",
       "      <td>-0.949841</td>\n",
       "      <td>0</td>\n",
       "      <td>0</td>\n",
       "      <td>1</td>\n",
       "    </tr>\n",
       "  </tbody>\n",
       "</table>\n",
       "<p>6000 rows × 11 columns</p>\n",
       "</div>"
      ],
      "text/plain": [
       "      CreditScore       Age    Tenure   Balance  NumOfProducts  HasCrCard  \\\n",
       "7479    -0.886751 -0.373192  1.082277  1.232271      -0.891560          1   \n",
       "3411     0.608663 -0.183385  1.082277  0.600563      -0.891560          0   \n",
       "6027     2.052152  0.480939 -0.737696  1.027098       0.830152          0   \n",
       "1247    -1.457915 -1.417129  0.354288 -1.233163       0.830152          1   \n",
       "3716     0.130961 -1.132419 -1.101690  1.140475      -0.891560          0   \n",
       "...           ...       ...       ...       ...            ...        ...   \n",
       "4478    -1.073677 -0.752805 -0.373701 -1.233163       0.830152          0   \n",
       "4094    -1.447531 -0.942612  1.810266 -1.233163       0.830152          0   \n",
       "3492     0.027113  0.575842 -0.009707 -0.310229      -0.891560          0   \n",
       "2177     0.151731 -1.417129 -0.373701 -1.233163       0.830152          0   \n",
       "4578     0.400966 -0.088482 -1.465685 -1.233163       0.830152          0   \n",
       "\n",
       "      IsActiveMember  EstimatedSalary  Geography_Germany  Geography_Spain  \\\n",
       "7479               0        -0.187705                  0                1   \n",
       "3411               0        -0.333945                  0                0   \n",
       "6027               1         1.503095                  1                0   \n",
       "1247               0        -1.071061                  0                0   \n",
       "3716               0         1.524268                  1                0   \n",
       "...              ...              ...                ...              ...   \n",
       "4478               1        -1.278361                  0                0   \n",
       "4094               1        -1.281307                  0                0   \n",
       "3492               1        -0.903158                  0                0   \n",
       "2177               1        -1.128539                  0                0   \n",
       "4578               0        -0.949841                  0                0   \n",
       "\n",
       "      Gender_Male  \n",
       "7479            1  \n",
       "3411            0  \n",
       "6027            1  \n",
       "1247            1  \n",
       "3716            0  \n",
       "...           ...  \n",
       "4478            1  \n",
       "4094            1  \n",
       "3492            0  \n",
       "2177            0  \n",
       "4578            1  \n",
       "\n",
       "[6000 rows x 11 columns]"
      ]
     },
     "execution_count": 23,
     "metadata": {},
     "output_type": "execute_result"
    }
   ],
   "source": [
    "scaler = StandardScaler()\n",
    "scaler.fit(features_train_ord[col_num])\n",
    "features_train_ord[col_num] = scaler.transform(features_train_ord[col_num])\n",
    "features_valid_ord[col_num] = scaler.transform(features_valid_ord[col_num])\n",
    "features_test_ord[col_num] = scaler.transform(features_test_ord[col_num])\n",
    "features_train_ohe"
   ]
  },
  {
   "cell_type": "markdown",
   "metadata": {},
   "source": [
    "<div class=\"alert alert-info\"> <b>Вывод</b>: \n",
    "Провели разбиение на три выборки: обучающую (train) и валидационную (valid) и тестовую(test) в соотношение 60:20:20. \n",
    "    <br>\n",
    "    Преобразовали категориальные признаки в численные с помощью техники прямого кодирования (One-Hot Encoding, OHE).\n",
    "    <br>\n",
    "Также подготовили данные, используя технику ordinal encoder (она понадобилась для модели дерева решений и случайного леса).\n",
    "        <br>\n",
    "    Объявили переменные:\n",
    "    <br>\n",
    "признаки: features_train, features_valid, features_test;\n",
    "    <br>\n",
    "целевой признак: target_train, target_valid, target_test.\n",
    "        <br>\n",
    "    Затем все данные масштабировали\n",
    "</div"
   ]
  },
  {
   "cell_type": "markdown",
   "metadata": {},
   "source": [
    "## Исследование задачи"
   ]
  },
  {
   "cell_type": "markdown",
   "metadata": {},
   "source": [
    "<div class=\"alert alert-info\">\n",
    "Сначала посмотрим на модели без учета дисбаланса классов\n",
    "</div"
   ]
  },
  {
   "cell_type": "markdown",
   "metadata": {},
   "source": [
    "<div class=\"alert alert-info\">\n",
    "Исследуем дерево решений, подберем гиперпараметры для лучшего значения метрики f1. Для дерева решений и случайного леса будем брать выборки ord, для линейной регрессии - выборки ohe</div"
   ]
  },
  {
   "cell_type": "code",
   "execution_count": 24,
   "metadata": {},
   "outputs": [
    {
     "name": "stdout",
     "output_type": "stream",
     "text": [
      "max_depth = 1 : 0.0\n",
      "max_depth = 2 : 0.5217391304347825\n",
      "max_depth = 3 : 0.4234875444839857\n",
      "max_depth = 4 : 0.5528700906344411\n",
      "max_depth = 5 : 0.5169628432956381\n",
      "max_depth = 6 : 0.5360501567398119\n",
      "max_depth = 7 : 0.5098039215686274\n",
      "max_depth = 8 : 0.5363636363636364\n",
      "max_depth = 9 : 0.5301914580265096\n",
      "max_depth = 10 : 0.498567335243553\n",
      "best_max_depth= 4 : best_f1 = 0.5528700906344411\n"
     ]
    }
   ],
   "source": [
    "best_f1_tree = 0\n",
    "for i in range(1,11):\n",
    "    model = DecisionTreeClassifier(random_state=12345, max_depth = i)\n",
    "    model.fit(features_train_ord, target_train_ord)\n",
    "    predictions_valid = model.predict(features_valid_ord)\n",
    "    f1 = f1_score(target_valid_ord, predictions_valid)\n",
    "    if f1 > best_f1_tree:\n",
    "        best_f1_tree = f1\n",
    "        best_depth = i\n",
    "    print ('max_depth =', i, ':', f1)\n",
    "print ('best_max_depth=', best_depth, ':','best_f1 =' , best_f1_tree)"
   ]
  },
  {
   "cell_type": "markdown",
   "metadata": {},
   "source": [
    "<div class=\"alert alert-info\">\n",
    "Наулучший результат показывает <b>max_depth</b> равное 4. Теперь попробуем поменять гиперпараметр <b>criterion</b> (по умолчанию был 'gini')\n",
    "</div"
   ]
  },
  {
   "cell_type": "markdown",
   "metadata": {},
   "source": [
    "<div class=\"alert alert-info\">\n",
    "Посчитаем площадь кривой <b>roc-auc</b>.\n",
    "</div"
   ]
  },
  {
   "cell_type": "code",
   "execution_count": 25,
   "metadata": {},
   "outputs": [
    {
     "name": "stdout",
     "output_type": "stream",
     "text": [
      "Площадь ROC-кривой: 0.7408464846750826\n"
     ]
    }
   ],
   "source": [
    "probabilities_valid = model.predict_proba(features_valid_ord)\n",
    "probabilities_one_valid = probabilities_valid[:, 1]\n",
    "print('Площадь ROC-кривой:', roc_auc_score(target_valid_ord, probabilities_one_valid))"
   ]
  },
  {
   "cell_type": "markdown",
   "metadata": {},
   "source": [
    "<div class=\"alert alert-info\">\n",
    "Площадь <b>roc-auc</b> не очень большая.\n",
    "</div"
   ]
  },
  {
   "cell_type": "code",
   "execution_count": 26,
   "metadata": {},
   "outputs": [
    {
     "name": "stdout",
     "output_type": "stream",
     "text": [
      "criterion = \"entropy\" : 0.44366197183098594\n",
      "Площадь ROC-кривой: 0.8145978381190305\n"
     ]
    }
   ],
   "source": [
    "model = DecisionTreeClassifier(criterion='entropy', max_depth=best_depth, random_state=12345) \n",
    "model.fit(features_train_ord, target_train_ord)\n",
    "predictions_valid = model.predict(features_valid_ord)\n",
    "f1 = f1_score(target_valid_ord, predictions_valid)\n",
    "print ('criterion = \"entropy\"', ':', f1)\n",
    "\n",
    "probabilities_valid = model.predict_proba(features_valid_ord)\n",
    "probabilities_one_valid = probabilities_valid[:, 1]\n",
    "print('Площадь ROC-кривой:', roc_auc_score(target_valid_ord, probabilities_one_valid))\n"
   ]
  },
  {
   "cell_type": "markdown",
   "metadata": {},
   "source": [
    "<div class=\"alert alert-info\">\n",
    "Результат f1 не улучшился, оставим criterion gini</div"
   ]
  },
  {
   "cell_type": "markdown",
   "metadata": {},
   "source": [
    "<div class=\"alert alert-info\">\n",
    "Теперь исследуем выборку с помощью случайного леса, меняя гиперпараметр <b>n_estimators</b> (количество деревьев) от 10 до 30 и глубину от 5 до 15\n",
    "</div"
   ]
  },
  {
   "cell_type": "code",
   "execution_count": 27,
   "metadata": {},
   "outputs": [
    {
     "name": "stdout",
     "output_type": "stream",
     "text": [
      "est = 10 max_depth = 5 : 0.49744463373083475\n",
      "est = 10 max_depth = 6 : 0.5348460291734198\n",
      "est = 10 max_depth = 7 : 0.5477707006369427\n",
      "est = 10 max_depth = 8 : 0.5643410852713179\n",
      "est = 10 max_depth = 9 : 0.541795665634675\n",
      "est = 10 max_depth = 10 : 0.5601217656012176\n",
      "est = 10 max_depth = 11 : 0.5626911314984709\n",
      "est = 10 max_depth = 12 : 0.5476923076923077\n",
      "est = 10 max_depth = 13 : 0.5359281437125749\n",
      "est = 10 max_depth = 14 : 0.5568862275449101\n",
      "est = 10 max_depth = 15 : 0.5594202898550724\n",
      "est = 11 max_depth = 5 : 0.49744463373083475\n",
      "est = 11 max_depth = 6 : 0.5211726384364821\n",
      "est = 11 max_depth = 7 : 0.5419354838709678\n",
      "est = 11 max_depth = 8 : 0.5638629283489096\n",
      "est = 11 max_depth = 9 : 0.5429017160686427\n",
      "est = 11 max_depth = 10 : 0.56752655538695\n",
      "est = 11 max_depth = 11 : 0.5526717557251908\n",
      "est = 11 max_depth = 12 : 0.5623100303951367\n",
      "est = 11 max_depth = 13 : 0.5514157973174367\n",
      "est = 11 max_depth = 14 : 0.5598802395209581\n",
      "est = 11 max_depth = 15 : 0.5443959243085881\n",
      "est = 12 max_depth = 5 : 0.4965753424657534\n",
      "est = 12 max_depth = 6 : 0.5221674876847291\n",
      "est = 12 max_depth = 7 : 0.5457463884430177\n",
      "est = 12 max_depth = 8 : 0.5620094191522763\n",
      "est = 12 max_depth = 9 : 0.5429017160686427\n",
      "est = 12 max_depth = 10 : 0.5649546827794562\n",
      "est = 12 max_depth = 11 : 0.5599999999999999\n",
      "est = 12 max_depth = 12 : 0.5577812018489985\n",
      "est = 12 max_depth = 13 : 0.5490196078431373\n",
      "est = 12 max_depth = 14 : 0.5606060606060607\n",
      "est = 12 max_depth = 15 : 0.5508100147275404\n",
      "est = 13 max_depth = 5 : 0.49050086355785844\n",
      "est = 13 max_depth = 6 : 0.5188834154351396\n",
      "est = 13 max_depth = 7 : 0.5559105431309905\n",
      "est = 13 max_depth = 8 : 0.5583596214511041\n",
      "est = 13 max_depth = 9 : 0.5440494590417311\n",
      "est = 13 max_depth = 10 : 0.5533230293663061\n",
      "est = 13 max_depth = 11 : 0.5564142194744978\n",
      "est = 13 max_depth = 12 : 0.5670261941448382\n",
      "est = 13 max_depth = 13 : 0.5373134328358209\n",
      "est = 13 max_depth = 14 : 0.56797583081571\n",
      "est = 13 max_depth = 15 : 0.5446559297218154\n",
      "est = 14 max_depth = 5 : 0.48704663212435223\n",
      "est = 14 max_depth = 6 : 0.5254515599343185\n",
      "est = 14 max_depth = 7 : 0.5512820512820513\n",
      "est = 14 max_depth = 8 : 0.5543307086614173\n",
      "est = 14 max_depth = 9 : 0.5514018691588785\n",
      "est = 14 max_depth = 10 : 0.5643410852713179\n",
      "est = 14 max_depth = 11 : 0.5590062111801242\n",
      "est = 14 max_depth = 12 : 0.5674418604651162\n",
      "est = 14 max_depth = 13 : 0.5451807228915662\n",
      "est = 14 max_depth = 14 : 0.5609756097560976\n",
      "est = 14 max_depth = 15 : 0.5542168674698796\n",
      "est = 15 max_depth = 5 : 0.47469458987783597\n",
      "est = 15 max_depth = 6 : 0.5268292682926831\n",
      "est = 15 max_depth = 7 : 0.5544871794871794\n",
      "est = 15 max_depth = 8 : 0.5555555555555556\n",
      "est = 15 max_depth = 9 : 0.5454545454545455\n",
      "est = 15 max_depth = 10 : 0.5514018691588785\n",
      "est = 15 max_depth = 11 : 0.5595054095826894\n",
      "est = 15 max_depth = 12 : 0.5550387596899226\n",
      "est = 15 max_depth = 13 : 0.5465465465465466\n",
      "est = 15 max_depth = 14 : 0.5666666666666667\n",
      "est = 15 max_depth = 15 : 0.5684830633284241\n",
      "est = 16 max_depth = 5 : 0.4728546409807355\n",
      "est = 16 max_depth = 6 : 0.5276872964169381\n",
      "est = 16 max_depth = 7 : 0.5591054313099042\n",
      "est = 16 max_depth = 8 : 0.5624012638230648\n",
      "est = 16 max_depth = 9 : 0.5590062111801242\n",
      "est = 16 max_depth = 10 : 0.5599999999999999\n",
      "est = 16 max_depth = 11 : 0.551937984496124\n",
      "est = 16 max_depth = 12 : 0.5661538461538462\n",
      "est = 16 max_depth = 13 : 0.5495495495495496\n",
      "est = 16 max_depth = 14 : 0.5570776255707762\n",
      "est = 16 max_depth = 15 : 0.5565476190476191\n",
      "est = 17 max_depth = 5 : 0.46453900709219864\n",
      "est = 17 max_depth = 6 : 0.5270049099836335\n",
      "est = 17 max_depth = 7 : 0.5544871794871794\n",
      "est = 17 max_depth = 8 : 0.5628930817610063\n",
      "est = 17 max_depth = 9 : 0.5571205007824727\n",
      "est = 17 max_depth = 10 : 0.5625965996908809\n",
      "est = 17 max_depth = 11 : 0.5479876160990712\n",
      "est = 17 max_depth = 12 : 0.5522620904836194\n",
      "est = 17 max_depth = 13 : 0.5506807866868382\n",
      "est = 17 max_depth = 14 : 0.5562310030395137\n",
      "est = 17 max_depth = 15 : 0.5718475073313782\n",
      "est = 18 max_depth = 5 : 0.45907473309608543\n",
      "est = 18 max_depth = 6 : 0.5245901639344263\n",
      "est = 18 max_depth = 7 : 0.5516129032258065\n",
      "est = 18 max_depth = 8 : 0.5566037735849056\n",
      "est = 18 max_depth = 9 : 0.5517241379310345\n",
      "est = 18 max_depth = 10 : 0.56656346749226\n",
      "est = 18 max_depth = 11 : 0.545171339563863\n",
      "est = 18 max_depth = 12 : 0.5553822152886115\n",
      "est = 18 max_depth = 13 : 0.5597579425113465\n",
      "est = 18 max_depth = 14 : 0.557427258805513\n",
      "est = 18 max_depth = 15 : 0.5525525525525525\n",
      "est = 19 max_depth = 5 : 0.48070175438596496\n",
      "est = 19 max_depth = 6 : 0.5247524752475248\n",
      "est = 19 max_depth = 7 : 0.5451612903225805\n",
      "est = 19 max_depth = 8 : 0.5520504731861199\n",
      "est = 19 max_depth = 9 : 0.5543307086614173\n",
      "est = 19 max_depth = 10 : 0.5656249999999999\n",
      "est = 19 max_depth = 11 : 0.5539906103286385\n",
      "est = 19 max_depth = 12 : 0.5477308294209702\n",
      "est = 19 max_depth = 13 : 0.5509893455098934\n",
      "est = 19 max_depth = 14 : 0.5597579425113465\n",
      "est = 19 max_depth = 15 : 0.5667655786350148\n",
      "est = 20 max_depth = 5 : 0.4878048780487805\n",
      "est = 20 max_depth = 6 : 0.5311475409836066\n",
      "est = 20 max_depth = 7 : 0.5460420032310178\n",
      "est = 20 max_depth = 8 : 0.5497630331753555\n",
      "est = 20 max_depth = 9 : 0.5534591194968553\n",
      "est = 20 max_depth = 10 : 0.56875\n",
      "est = 20 max_depth = 11 : 0.5517241379310345\n",
      "est = 20 max_depth = 12 : 0.5423197492163009\n",
      "est = 20 max_depth = 13 : 0.5584218512898331\n",
      "est = 20 max_depth = 14 : 0.554364471669219\n",
      "est = 20 max_depth = 15 : 0.5555555555555555\n",
      "est = 21 max_depth = 5 : 0.4991452991452992\n",
      "est = 21 max_depth = 6 : 0.5261437908496732\n",
      "est = 21 max_depth = 7 : 0.5501618122977345\n",
      "est = 21 max_depth = 8 : 0.5583596214511041\n",
      "est = 21 max_depth = 9 : 0.5517241379310345\n",
      "est = 21 max_depth = 10 : 0.5665101721439749\n",
      "est = 21 max_depth = 11 : 0.5463108320251178\n",
      "est = 21 max_depth = 12 : 0.5423197492163009\n",
      "est = 21 max_depth = 13 : 0.5523520485584218\n",
      "est = 21 max_depth = 14 : 0.5614567526555386\n",
      "est = 21 max_depth = 15 : 0.5548961424332344\n",
      "est = 22 max_depth = 5 : 0.49659863945578225\n",
      "est = 22 max_depth = 6 : 0.5387096774193548\n",
      "est = 22 max_depth = 7 : 0.5483870967741936\n",
      "est = 22 max_depth = 8 : 0.5588697017268446\n",
      "est = 22 max_depth = 9 : 0.5525902668759811\n",
      "est = 22 max_depth = 10 : 0.5696400625978091\n",
      "est = 22 max_depth = 11 : 0.5457413249211357\n",
      "est = 22 max_depth = 12 : 0.5397815912636506\n",
      "est = 22 max_depth = 13 : 0.5484848484848485\n",
      "est = 22 max_depth = 14 : 0.5674846625766871\n",
      "est = 22 max_depth = 15 : 0.5538922155688623\n",
      "est = 23 max_depth = 5 : 0.5034013605442177\n",
      "est = 23 max_depth = 6 : 0.5365853658536585\n",
      "est = 23 max_depth = 7 : 0.5530546623794212\n",
      "est = 23 max_depth = 8 : 0.555205047318612\n",
      "est = 23 max_depth = 9 : 0.5539906103286385\n",
      "est = 23 max_depth = 10 : 0.561622464898596\n",
      "est = 23 max_depth = 11 : 0.5517241379310345\n",
      "est = 23 max_depth = 12 : 0.5420560747663551\n",
      "est = 23 max_depth = 13 : 0.5545454545454546\n",
      "est = 23 max_depth = 14 : 0.5609756097560976\n",
      "est = 23 max_depth = 15 : 0.547085201793722\n",
      "est = 24 max_depth = 5 : 0.49659863945578225\n",
      "est = 24 max_depth = 6 : 0.5348460291734198\n",
      "est = 24 max_depth = 7 : 0.5539452495974234\n",
      "est = 24 max_depth = 8 : 0.5511811023622047\n",
      "est = 24 max_depth = 9 : 0.55\n",
      "est = 24 max_depth = 10 : 0.5709828393135726\n",
      "est = 24 max_depth = 11 : 0.5448818897637795\n",
      "est = 24 max_depth = 12 : 0.546583850931677\n",
      "est = 24 max_depth = 13 : 0.555052790346908\n",
      "est = 24 max_depth = 14 : 0.5591397849462365\n",
      "est = 24 max_depth = 15 : 0.5548780487804879\n",
      "est = 25 max_depth = 5 : 0.4862068965517241\n",
      "est = 25 max_depth = 6 : 0.5383360522022839\n",
      "est = 25 max_depth = 7 : 0.5553772070626003\n",
      "est = 25 max_depth = 8 : 0.5460317460317461\n",
      "est = 25 max_depth = 9 : 0.5457413249211357\n",
      "est = 25 max_depth = 10 : 0.5588697017268446\n",
      "est = 25 max_depth = 11 : 0.5492063492063491\n",
      "est = 25 max_depth = 12 : 0.5479876160990712\n",
      "est = 25 max_depth = 13 : 0.5484848484848485\n",
      "est = 25 max_depth = 14 : 0.5662100456621005\n",
      "est = 25 max_depth = 15 : 0.5558912386706948\n",
      "est = 26 max_depth = 5 : 0.4862068965517241\n",
      "est = 26 max_depth = 6 : 0.5407166123778502\n",
      "est = 26 max_depth = 7 : 0.552166934189406\n",
      "est = 26 max_depth = 8 : 0.5451664025356576\n",
      "est = 26 max_depth = 9 : 0.5440251572327044\n",
      "est = 26 max_depth = 10 : 0.5583596214511041\n",
      "est = 26 max_depth = 11 : 0.5443037974683544\n",
      "est = 26 max_depth = 12 : 0.5538461538461539\n",
      "est = 26 max_depth = 13 : 0.556390977443609\n",
      "est = 26 max_depth = 14 : 0.5618320610687023\n",
      "est = 26 max_depth = 15 : 0.5579268292682927\n",
      "est = 27 max_depth = 5 : 0.4982935153583618\n",
      "est = 27 max_depth = 6 : 0.5430894308943088\n",
      "est = 27 max_depth = 7 : 0.552166934189406\n",
      "est = 27 max_depth = 8 : 0.5497630331753555\n",
      "est = 27 max_depth = 9 : 0.5483359746434231\n",
      "est = 27 max_depth = 10 : 0.563779527559055\n",
      "est = 27 max_depth = 11 : 0.5483359746434231\n",
      "est = 27 max_depth = 12 : 0.5552147239263804\n",
      "est = 27 max_depth = 13 : 0.5560538116591928\n",
      "est = 27 max_depth = 14 : 0.5683890577507599\n",
      "est = 27 max_depth = 15 : 0.5610859728506787\n",
      "est = 28 max_depth = 5 : 0.4835924006908463\n",
      "est = 28 max_depth = 6 : 0.5472312703583062\n",
      "est = 28 max_depth = 7 : 0.5489566613162119\n",
      "est = 28 max_depth = 8 : 0.5529225908372828\n",
      "est = 28 max_depth = 9 : 0.5534591194968553\n",
      "est = 28 max_depth = 10 : 0.5583596214511041\n",
      "est = 28 max_depth = 11 : 0.5457413249211357\n",
      "est = 28 max_depth = 12 : 0.5533230293663061\n",
      "est = 28 max_depth = 13 : 0.5658682634730539\n",
      "est = 28 max_depth = 14 : 0.5565749235474006\n",
      "est = 28 max_depth = 15 : 0.5548780487804879\n",
      "est = 29 max_depth = 5 : 0.48972602739726034\n",
      "est = 29 max_depth = 6 : 0.5407166123778502\n",
      "est = 29 max_depth = 7 : 0.5466237942122186\n",
      "est = 29 max_depth = 8 : 0.5537974683544303\n",
      "est = 29 max_depth = 9 : 0.5511811023622047\n",
      "est = 29 max_depth = 10 : 0.5610142630744849\n",
      "est = 29 max_depth = 11 : 0.5488958990536278\n",
      "est = 29 max_depth = 12 : 0.5482866043613708\n",
      "est = 29 max_depth = 13 : 0.562406015037594\n",
      "est = 29 max_depth = 14 : 0.558282208588957\n",
      "est = 29 max_depth = 15 : 0.5592705167173253\n",
      "est = 30 max_depth = 5 : 0.4819277108433735\n",
      "est = 30 max_depth = 6 : 0.5398373983739837\n",
      "est = 30 max_depth = 7 : 0.5451612903225805\n",
      "est = 30 max_depth = 8 : 0.5445859872611465\n",
      "est = 30 max_depth = 9 : 0.554675118858954\n",
      "est = 30 max_depth = 10 : 0.560126582278481\n",
      "est = 30 max_depth = 11 : 0.5492063492063491\n",
      "est = 30 max_depth = 12 : 0.5429017160686427\n",
      "est = 30 max_depth = 13 : 0.562406015037594\n",
      "est = 30 max_depth = 14 : 0.5622119815668203\n",
      "est = 30 max_depth = 15 : 0.5526717557251908\n",
      "best_est = 17 best_depth= 15 : 0.5718475073313782\n",
      "Площадь ROC-кривой: 0.8378354877539786\n"
     ]
    }
   ],
   "source": [
    "best_f1_forest = 0\n",
    "best_est = 0\n",
    "best_depth_forest = 0\n",
    "for est in range(10, 31):\n",
    "    for depth in range(5, 16):\n",
    "        model = RandomForestClassifier(random_state=12345, n_estimators=est, max_depth=depth)\n",
    "        model.fit(features_train_ord, target_train_ord) \n",
    "        predictions_valid = model.predict(features_valid_ord)\n",
    "        f1 = f1_score(target_valid_ord, predictions_valid)\n",
    "        if f1 > best_f1_forest:\n",
    "            best_f1_forest = f1\n",
    "            best_est = est\n",
    "            best_depth_forest = depth\n",
    "        print ('est =', est, 'max_depth =', depth,':', f1)\n",
    "print ('best_est =', best_est,'best_depth=', best_depth_forest, ':', best_f1_forest)\n",
    "\n",
    "probabilities_valid = model.predict_proba(features_valid_ord)\n",
    "probabilities_one_valid = probabilities_valid[:, 1]\n",
    "print('Площадь ROC-кривой:', roc_auc_score(target_valid_ord, probabilities_one_valid))\n"
   ]
  },
  {
   "cell_type": "markdown",
   "metadata": {},
   "source": [
    "<div class=\"alert alert-info\">\n",
    "Наилучший результат при  <b>n_estimators</b> = 17, max_depth = 15, f1 = 0.5718475073313782\n",
    "</div"
   ]
  },
  {
   "cell_type": "markdown",
   "metadata": {},
   "source": [
    "<div class=\"alert alert-info\">\n",
    "Теперь рассмотрим логистическую регрессию, меняя гиперпараметр <b>max_iter</b> от 10 до 100, для неё берем train_ohe\n",
    "</div"
   ]
  },
  {
   "cell_type": "code",
   "execution_count": 28,
   "metadata": {
    "scrolled": false
   },
   "outputs": [
    {
     "name": "stdout",
     "output_type": "stream",
     "text": [
      "max_iter = 10 : 0.33726812816188867\n",
      "max_iter = 20 : 0.33108108108108103\n",
      "max_iter = 30 : 0.33108108108108103\n",
      "max_iter = 40 : 0.33108108108108103\n",
      "max_iter = 50 : 0.33108108108108103\n",
      "max_iter = 60 : 0.33108108108108103\n",
      "max_iter = 70 : 0.33108108108108103\n",
      "max_iter = 80 : 0.33108108108108103\n",
      "max_iter = 90 : 0.33108108108108103\n",
      "max_iter = 100 : 0.33108108108108103\n",
      "best_iter= 10 : best_f1 = 0.33726812816188867\n",
      "Площадь ROC-кривой: 0.7588026784580114\n"
     ]
    }
   ],
   "source": [
    "\n",
    "best_iter = 0\n",
    "best_f1_regr = 0\n",
    "for it in range(10, 110, 10):\n",
    "    model = LogisticRegression(random_state = 12345, solver='lbfgs', max_iter=it)\n",
    "    model.fit(features_train_ohe, target_train_ohe)\n",
    "    predictions_valid = model.predict(features_valid_ohe)\n",
    "    f1 = f1_score(target_valid_ohe, predictions_valid)\n",
    "    if f1 > best_f1_regr:\n",
    "        best_f1_regr = f1\n",
    "        best_iter = it\n",
    "    print ('max_iter =', it, ':', f1)\n",
    "\n",
    "print ('best_iter=', best_iter, ':','best_f1 =' , best_f1_regr)\n",
    "\n",
    "probabilities_valid = model.predict_proba(features_valid_ohe)\n",
    "probabilities_one_valid = probabilities_valid[:, 1]\n",
    "print('Площадь ROC-кривой:', roc_auc_score(target_valid_ohe, probabilities_one_valid))"
   ]
  },
  {
   "cell_type": "markdown",
   "metadata": {},
   "source": [
    "<div class=\"alert alert-info\">\n",
    "Линейная регрессия показывает не очень хороший результат\n",
    "</div"
   ]
  },
  {
   "cell_type": "markdown",
   "metadata": {},
   "source": [
    "## Борьба с дисбалансом"
   ]
  },
  {
   "cell_type": "markdown",
   "metadata": {},
   "source": [
    "<div class=\"alert alert-info\">\n",
    "Посмотрим на получившиеся f1 меры\n",
    "</div"
   ]
  },
  {
   "cell_type": "code",
   "execution_count": 29,
   "metadata": {},
   "outputs": [
    {
     "name": "stdout",
     "output_type": "stream",
     "text": [
      "0.5528700906344411\n",
      "0.5718475073313782\n",
      "0.33726812816188867\n"
     ]
    }
   ],
   "source": [
    "print(best_f1_tree)\n",
    "print(best_f1_forest)\n",
    "print(best_f1_regr)"
   ]
  },
  {
   "cell_type": "markdown",
   "metadata": {},
   "source": [
    "<div class=\"alert alert-info\">\n",
    "Наилучший результат получился у случайного леса\n",
    "    <br>\n",
    "Теперь попробуем сделать что-то с дисбалансом\n",
    "</div"
   ]
  },
  {
   "cell_type": "markdown",
   "metadata": {},
   "source": [
    "<div class=\"alert alert-info\">\n",
    "В алгоритме всех трёх моделей в библиотеке sklearn есть аргумент class_weight. По умолчанию он равен None, т. е. классы равнозначны.\n",
    "Укажем class_weight='balanced'</div"
   ]
  },
  {
   "cell_type": "code",
   "execution_count": 31,
   "metadata": {},
   "outputs": [
    {
     "name": "stdout",
     "output_type": "stream",
     "text": [
      "max_depth = 1 : 0.4994903160040775\n",
      "max_depth = 2 : 0.541015625\n",
      "max_depth = 3 : 0.541015625\n",
      "max_depth = 4 : 0.5277777777777778\n",
      "max_depth = 5 : 0.5894962486602359\n",
      "max_depth = 6 : 0.5497287522603979\n",
      "max_depth = 7 : 0.5401459854014599\n",
      "max_depth = 8 : 0.536779324055666\n",
      "max_depth = 9 : 0.5295275590551182\n",
      "max_depth = 10 : 0.5044510385756678\n",
      "class_weight = \"balanced\": best_max_depth= 5 , best_f1 = 0.5894962486602359\n",
      "Площадь ROC-кривой: 0.7445453940563396\n"
     ]
    }
   ],
   "source": [
    "best_f1_tree = 0\n",
    "for i in range(1,11):\n",
    "    model = DecisionTreeClassifier(criterion='gini', max_depth=i, random_state=12345, class_weight = 'balanced')\n",
    "    model.fit(features_train_ord, target_train_ord)\n",
    "    predictions_valid = model.predict(features_valid_ord)\n",
    "    f1 = f1_score(target_valid_ord, predictions_valid)\n",
    "    if f1 > best_f1_tree:\n",
    "        best_f1_tree = f1\n",
    "        best_depth = i\n",
    "    print ('max_depth =', i, ':', f1)\n",
    "print ('class_weight = \"balanced\": ''best_max_depth=', best_depth, ',','best_f1 =' , best_f1_tree)\n",
    "\n",
    "probabilities_valid = model.predict_proba(features_valid_ord)\n",
    "probabilities_one_valid = probabilities_valid[:, 1]\n",
    "print('Площадь ROC-кривой:', roc_auc_score(target_valid_ord, probabilities_one_valid))\n"
   ]
  },
  {
   "cell_type": "markdown",
   "metadata": {},
   "source": [
    "<div class=\"alert alert-info\">\n",
    "class_weight='balanced' довольно ощутимо увеличил f1</div"
   ]
  },
  {
   "cell_type": "code",
   "execution_count": 34,
   "metadata": {},
   "outputs": [
    {
     "name": "stdout",
     "output_type": "stream",
     "text": [
      "est = 10 max_depth = 5 : 0.592445328031809\n",
      "est = 10 max_depth = 6 : 0.6063072227873856\n",
      "est = 10 max_depth = 7 : 0.6160164271047227\n",
      "est = 10 max_depth = 8 : 0.6039823008849557\n",
      "est = 10 max_depth = 9 : 0.6011299435028248\n",
      "est = 10 max_depth = 10 : 0.588235294117647\n",
      "est = 10 max_depth = 11 : 0.5804816223067174\n",
      "est = 10 max_depth = 12 : 0.5673202614379085\n",
      "est = 10 max_depth = 13 : 0.5757162346521146\n",
      "est = 10 max_depth = 14 : 0.5681492109038738\n",
      "est = 10 max_depth = 15 : 0.5697841726618705\n",
      "est = 11 max_depth = 5 : 0.5982053838484546\n",
      "est = 11 max_depth = 6 : 0.6050251256281407\n",
      "est = 11 max_depth = 7 : 0.6138002059732234\n",
      "est = 11 max_depth = 8 : 0.6074561403508772\n",
      "est = 11 max_depth = 9 : 0.6002265005662514\n",
      "est = 11 max_depth = 10 : 0.5889281507656067\n",
      "est = 11 max_depth = 11 : 0.5877862595419848\n",
      "est = 11 max_depth = 12 : 0.5625806451612904\n",
      "est = 11 max_depth = 13 : 0.5926928281461434\n",
      "est = 11 max_depth = 14 : 0.5678321678321679\n",
      "est = 11 max_depth = 15 : 0.5846153846153846\n",
      "est = 12 max_depth = 5 : 0.6011904761904762\n",
      "est = 12 max_depth = 6 : 0.6066734074823052\n",
      "est = 12 max_depth = 7 : 0.6240988671472708\n",
      "est = 12 max_depth = 8 : 0.6026200873362446\n",
      "est = 12 max_depth = 9 : 0.6083995459704882\n",
      "est = 12 max_depth = 10 : 0.5857142857142857\n",
      "est = 12 max_depth = 11 : 0.588235294117647\n",
      "est = 12 max_depth = 12 : 0.5586297760210803\n",
      "est = 12 max_depth = 13 : 0.5726141078838175\n",
      "est = 12 max_depth = 14 : 0.5685997171145686\n",
      "est = 12 max_depth = 15 : 0.5697674418604652\n",
      "est = 13 max_depth = 5 : 0.5934718100890208\n",
      "est = 13 max_depth = 6 : 0.6032064128256514\n",
      "est = 13 max_depth = 7 : 0.624742268041237\n",
      "est = 13 max_depth = 8 : 0.6\n",
      "est = 13 max_depth = 9 : 0.609286523216308\n",
      "est = 13 max_depth = 10 : 0.5938242280285035\n",
      "est = 13 max_depth = 11 : 0.5798212005108557\n",
      "est = 13 max_depth = 12 : 0.5752330226364848\n",
      "est = 13 max_depth = 13 : 0.5843621399176956\n",
      "est = 13 max_depth = 14 : 0.5790960451977402\n",
      "est = 13 max_depth = 15 : 0.5830985915492958\n",
      "est = 14 max_depth = 5 : 0.5914085914085914\n",
      "est = 14 max_depth = 6 : 0.6020000000000001\n",
      "est = 14 max_depth = 7 : 0.6231884057971014\n",
      "est = 14 max_depth = 8 : 0.5980498374864572\n",
      "est = 14 max_depth = 9 : 0.6083052749719416\n",
      "est = 14 max_depth = 10 : 0.5830346475507766\n",
      "est = 14 max_depth = 11 : 0.5826972010178116\n",
      "est = 14 max_depth = 12 : 0.572199730094467\n",
      "est = 14 max_depth = 13 : 0.5749656121045392\n",
      "est = 14 max_depth = 14 : 0.5771428571428572\n",
      "est = 14 max_depth = 15 : 0.5742857142857143\n",
      "est = 15 max_depth = 5 : 0.5968063872255489\n",
      "est = 15 max_depth = 6 : 0.6056338028169014\n",
      "est = 15 max_depth = 7 : 0.6252587991718427\n",
      "est = 15 max_depth = 8 : 0.5969498910675382\n",
      "est = 15 max_depth = 9 : 0.6129398410896708\n",
      "est = 15 max_depth = 10 : 0.5845410628019323\n",
      "est = 15 max_depth = 11 : 0.5714285714285715\n",
      "est = 15 max_depth = 12 : 0.5771812080536912\n",
      "est = 15 max_depth = 13 : 0.5726141078838175\n",
      "est = 15 max_depth = 14 : 0.5807365439093485\n",
      "est = 15 max_depth = 15 : 0.5895627644569816\n",
      "est = 16 max_depth = 5 : 0.5994005994005993\n",
      "est = 16 max_depth = 6 : 0.6112224448897795\n",
      "est = 16 max_depth = 7 : 0.6264308012486993\n",
      "est = 16 max_depth = 8 : 0.5976008724100328\n",
      "est = 16 max_depth = 9 : 0.6045454545454546\n",
      "est = 16 max_depth = 10 : 0.5964071856287425\n",
      "est = 16 max_depth = 11 : 0.5800756620428751\n",
      "est = 16 max_depth = 12 : 0.5725806451612904\n",
      "est = 16 max_depth = 13 : 0.5766016713091923\n",
      "est = 16 max_depth = 14 : 0.5905848787446505\n",
      "est = 16 max_depth = 15 : 0.5771428571428572\n",
      "est = 17 max_depth = 5 : 0.5990049751243781\n",
      "est = 17 max_depth = 6 : 0.6116700201207244\n",
      "est = 17 max_depth = 7 : 0.627492130115425\n",
      "est = 17 max_depth = 8 : 0.6004366812227074\n",
      "est = 17 max_depth = 9 : 0.6146892655367232\n",
      "est = 17 max_depth = 10 : 0.5872442839951865\n",
      "est = 17 max_depth = 11 : 0.5861635220125786\n",
      "est = 17 max_depth = 12 : 0.5741239892183289\n",
      "est = 17 max_depth = 13 : 0.5820689655172414\n",
      "est = 17 max_depth = 14 : 0.5828571428571429\n",
      "est = 17 max_depth = 15 : 0.5857142857142856\n",
      "est = 18 max_depth = 5 : 0.5995975855130785\n",
      "est = 18 max_depth = 6 : 0.6183673469387755\n",
      "est = 18 max_depth = 7 : 0.6240837696335078\n",
      "est = 18 max_depth = 8 : 0.6087912087912088\n",
      "est = 18 max_depth = 9 : 0.6113636363636362\n",
      "est = 18 max_depth = 10 : 0.5946601941747572\n",
      "est = 18 max_depth = 11 : 0.5836477987421383\n",
      "est = 18 max_depth = 12 : 0.5799457994579945\n",
      "est = 18 max_depth = 13 : 0.5861111111111111\n",
      "est = 18 max_depth = 14 : 0.5775862068965518\n",
      "est = 18 max_depth = 15 : 0.5755813953488371\n",
      "est = 19 max_depth = 5 : 0.5997993981945837\n",
      "est = 19 max_depth = 6 : 0.617737003058104\n",
      "est = 19 max_depth = 7 : 0.6232948583420777\n",
      "est = 19 max_depth = 8 : 0.6043956043956044\n",
      "est = 19 max_depth = 9 : 0.6070215175537939\n",
      "est = 19 max_depth = 10 : 0.5980629539951574\n",
      "est = 19 max_depth = 11 : 0.579746835443038\n",
      "est = 19 max_depth = 12 : 0.5819672131147541\n",
      "est = 19 max_depth = 13 : 0.5872576177285317\n",
      "est = 19 max_depth = 14 : 0.5706051873198846\n",
      "est = 19 max_depth = 15 : 0.580829756795422\n",
      "est = 20 max_depth = 5 : 0.5988023952095809\n",
      "est = 20 max_depth = 6 : 0.6223132036847493\n",
      "est = 20 max_depth = 7 : 0.6210526315789473\n",
      "est = 20 max_depth = 8 : 0.6030701754385965\n",
      "est = 20 max_depth = 9 : 0.6125714285714287\n",
      "est = 20 max_depth = 10 : 0.5978391356542616\n",
      "est = 20 max_depth = 11 : 0.5819567979669631\n",
      "est = 20 max_depth = 12 : 0.5714285714285714\n",
      "est = 20 max_depth = 13 : 0.5939226519337016\n",
      "est = 20 max_depth = 14 : 0.5730824891461649\n",
      "est = 20 max_depth = 15 : 0.5763688760806917\n",
      "est = 21 max_depth = 5 : 0.599601593625498\n",
      "est = 21 max_depth = 6 : 0.6196319018404908\n",
      "est = 21 max_depth = 7 : 0.6280295047418335\n",
      "est = 21 max_depth = 8 : 0.6017505470459519\n",
      "est = 21 max_depth = 9 : 0.6122448979591836\n",
      "est = 21 max_depth = 10 : 0.5966183574879228\n",
      "est = 21 max_depth = 11 : 0.5830164765525983\n",
      "est = 21 max_depth = 12 : 0.5694822888283378\n",
      "est = 21 max_depth = 13 : 0.5961538461538461\n",
      "est = 21 max_depth = 14 : 0.5718432510885342\n",
      "est = 21 max_depth = 15 : 0.5726618705035971\n",
      "est = 22 max_depth = 5 : 0.6006006006006005\n",
      "est = 22 max_depth = 6 : 0.6166495375128469\n",
      "est = 22 max_depth = 7 : 0.6325878594249201\n",
      "est = 22 max_depth = 8 : 0.6068660022148394\n",
      "est = 22 max_depth = 9 : 0.6157354618015963\n",
      "est = 22 max_depth = 10 : 0.5973397823458283\n",
      "est = 22 max_depth = 11 : 0.5862944162436547\n",
      "est = 22 max_depth = 12 : 0.5698778833107191\n",
      "est = 22 max_depth = 13 : 0.5782122905027933\n",
      "est = 22 max_depth = 14 : 0.5735080058224163\n",
      "est = 22 max_depth = 15 : 0.5618631732168851\n",
      "est = 23 max_depth = 5 : 0.6062437059415912\n",
      "est = 23 max_depth = 6 : 0.6213991769547326\n",
      "est = 23 max_depth = 7 : 0.6318036286019211\n",
      "est = 23 max_depth = 8 : 0.6081229418221735\n",
      "est = 23 max_depth = 9 : 0.612756264236902\n",
      "est = 23 max_depth = 10 : 0.5934065934065934\n",
      "est = 23 max_depth = 11 : 0.5913705583756346\n",
      "est = 23 max_depth = 12 : 0.5745554035567715\n",
      "est = 23 max_depth = 13 : 0.5809128630705394\n",
      "est = 23 max_depth = 14 : 0.5759312320916905\n",
      "est = 23 max_depth = 15 : 0.5697841726618705\n",
      "est = 24 max_depth = 5 : 0.605691056910569\n",
      "est = 24 max_depth = 6 : 0.6234567901234568\n",
      "est = 24 max_depth = 7 : 0.630225080385852\n",
      "est = 24 max_depth = 8 : 0.6128318584070797\n",
      "est = 24 max_depth = 9 : 0.6116838487972508\n",
      "est = 24 max_depth = 10 : 0.6002430133657352\n",
      "est = 24 max_depth = 11 : 0.5849297573435505\n",
      "est = 24 max_depth = 12 : 0.5682758620689654\n",
      "est = 24 max_depth = 13 : 0.5762237762237762\n",
      "est = 24 max_depth = 14 : 0.5767575322812051\n",
      "est = 24 max_depth = 15 : 0.5726744186046512\n",
      "est = 25 max_depth = 5 : 0.6052631578947368\n",
      "est = 25 max_depth = 6 : 0.6234567901234568\n",
      "est = 25 max_depth = 7 : 0.6335135135135135\n",
      "est = 25 max_depth = 8 : 0.6094609460946094\n",
      "est = 25 max_depth = 9 : 0.6192660550458715\n",
      "est = 25 max_depth = 10 : 0.6\n",
      "est = 25 max_depth = 11 : 0.5870393900889453\n",
      "est = 25 max_depth = 12 : 0.5683060109289617\n",
      "est = 25 max_depth = 13 : 0.575\n",
      "est = 25 max_depth = 14 : 0.580829756795422\n",
      "est = 25 max_depth = 15 : 0.5743145743145743\n",
      "est = 26 max_depth = 5 : 0.6072874493927126\n",
      "est = 26 max_depth = 6 : 0.6235897435897437\n",
      "est = 26 max_depth = 7 : 0.6268656716417911\n",
      "est = 26 max_depth = 8 : 0.6087912087912088\n",
      "est = 26 max_depth = 9 : 0.6150289017341041\n",
      "est = 26 max_depth = 10 : 0.5995145631067961\n",
      "est = 26 max_depth = 11 : 0.586427656850192\n",
      "est = 26 max_depth = 12 : 0.5640326975476839\n",
      "est = 26 max_depth = 13 : 0.5846153846153846\n",
      "est = 26 max_depth = 14 : 0.5779685264663805\n",
      "est = 26 max_depth = 15 : 0.5768115942028984\n",
      "est = 27 max_depth = 5 : 0.6135216952573159\n",
      "est = 27 max_depth = 6 : 0.6193415637860082\n",
      "est = 27 max_depth = 7 : 0.6220806794055201\n",
      "est = 27 max_depth = 8 : 0.616574585635359\n",
      "est = 27 max_depth = 9 : 0.6164542294322132\n",
      "est = 27 max_depth = 10 : 0.6039119804400979\n",
      "est = 27 max_depth = 11 : 0.5885350318471337\n",
      "est = 27 max_depth = 12 : 0.5629228687415426\n",
      "est = 27 max_depth = 13 : 0.5841446453407511\n",
      "est = 27 max_depth = 14 : 0.5824964131994261\n",
      "est = 27 max_depth = 15 : 0.5772005772005772\n",
      "est = 28 max_depth = 5 : 0.60790273556231\n",
      "est = 28 max_depth = 6 : 0.6182190378710338\n",
      "est = 28 max_depth = 7 : 0.6217948717948718\n",
      "est = 28 max_depth = 8 : 0.610318331503842\n",
      "est = 28 max_depth = 9 : 0.6166281755196306\n",
      "est = 28 max_depth = 10 : 0.5992691839220462\n",
      "est = 28 max_depth = 11 : 0.5936305732484076\n",
      "est = 28 max_depth = 12 : 0.5644504748982361\n",
      "est = 28 max_depth = 13 : 0.5852981969486825\n",
      "est = 28 max_depth = 14 : 0.5759768451519538\n",
      "est = 28 max_depth = 15 : 0.5759768451519538\n",
      "est = 29 max_depth = 5 : 0.6125760649087221\n",
      "est = 29 max_depth = 6 : 0.6161719549641761\n",
      "est = 29 max_depth = 7 : 0.6274089935760171\n",
      "est = 29 max_depth = 8 : 0.6125137211855104\n",
      "est = 29 max_depth = 9 : 0.6160919540229886\n",
      "est = 29 max_depth = 10 : 0.5958485958485958\n",
      "est = 29 max_depth = 11 : 0.5846153846153846\n",
      "est = 29 max_depth = 12 : 0.5640326975476839\n",
      "est = 29 max_depth = 13 : 0.5769764216366158\n",
      "est = 29 max_depth = 14 : 0.5882352941176471\n",
      "est = 29 max_depth = 15 : 0.5743145743145743\n",
      "est = 30 max_depth = 5 : 0.6136595310907238\n",
      "est = 30 max_depth = 6 : 0.6108273748723186\n",
      "est = 30 max_depth = 7 : 0.6189967982924226\n",
      "est = 30 max_depth = 8 : 0.6147091108671789\n",
      "est = 30 max_depth = 9 : 0.6185567010309279\n",
      "est = 30 max_depth = 10 : 0.5978128797083839\n",
      "est = 30 max_depth = 11 : 0.5874840357598977\n",
      "est = 30 max_depth = 12 : 0.5675306957708048\n",
      "est = 30 max_depth = 13 : 0.5825242718446602\n",
      "est = 30 max_depth = 14 : 0.5878962536023055\n",
      "est = 30 max_depth = 15 : 0.5718432510885342\n",
      "best_est = 25 best_depth= 7 : 0.6335135135135135\n",
      "Площадь ROC-кривой: 0.8294327935687973\n"
     ]
    }
   ],
   "source": [
    "best_f1_forest = 0\n",
    "best_est_balanced = 0\n",
    "best_depth_forest = 0\n",
    "for est in range(10, 31):\n",
    "    for depth in range(5, 16):\n",
    "        model = RandomForestClassifier(random_state=12345, n_estimators=est, max_depth=depth, class_weight='balanced')\n",
    "        model.fit(features_train_ord, target_train_ord) \n",
    "        predictions_valid = model.predict(features_valid_ord)\n",
    "        f1 = f1_score(target_valid_ord, predictions_valid)\n",
    "        if f1 > best_f1_forest:\n",
    "            best_f1_forest = f1\n",
    "            best_est_balanced = est\n",
    "            best_depth_forest = depth\n",
    "        print ('est =', est, 'max_depth =', depth,':', f1)\n",
    "print ('best_est =', best_est_balanced,'best_depth=', best_depth_forest, ':', best_f1_forest)\n",
    "\n",
    "probabilities_valid = model.predict_proba(features_valid_ord)\n",
    "probabilities_one_valid = probabilities_valid[:, 1]\n",
    "print('Площадь ROC-кривой:', roc_auc_score(target_valid_ord, probabilities_one_valid))\n"
   ]
  },
  {
   "cell_type": "markdown",
   "metadata": {},
   "source": [
    "<div class=\"alert alert-info\">\n",
    "class_weight='balanced' увеличил значение f1 до 0.6335135135135135 при n_estimators = 25 и max_depth= 7\n",
    "    <br>\n",
    "Попробуем увеличение выборки upsample\n",
    "</div"
   ]
  },
  {
   "cell_type": "code",
   "execution_count": 35,
   "metadata": {},
   "outputs": [
    {
     "name": "stdout",
     "output_type": "stream",
     "text": [
      "upsample forest f1: 0.5825747724317295\n",
      "Площадь ROC-кривой: 0.8152730478650367\n"
     ]
    }
   ],
   "source": [
    "from sklearn.utils import shuffle\n",
    "def upsample(features, target, repeat):\n",
    "    features_zeros = features[target == 0]\n",
    "    features_ones = features[target == 1]\n",
    "    target_zeros = target[target == 0]\n",
    "    target_ones = target[target == 1]\n",
    "\n",
    "    features_upsampled = pd.concat([features_zeros] + [features_ones] * repeat)\n",
    "    target_upsampled = pd.concat([target_zeros] + [target_ones] * repeat)\n",
    "    \n",
    "    features_upsampled, target_upsampled = shuffle(\n",
    "        features_upsampled, target_upsampled, random_state=12345)\n",
    "    \n",
    "    return features_upsampled, target_upsampled\n",
    "\n",
    "features_upsampled, target_upsampled = upsample(features_train_ord, target_train_ord, 4)\n",
    "\n",
    "model = RandomForestClassifier(random_state=12345, n_estimators=best_est)\n",
    "model.fit(features_upsampled, target_upsampled)\n",
    "predicted_valid = model.predict(features_valid_ord)\n",
    "f1_upsample_forest = f1_score(target_valid_ord, predicted_valid)\n",
    "print('upsample forest','f1:', f1_upsample_forest)\n",
    "\n",
    "probabilities_valid = model.predict_proba(features_valid_ord)\n",
    "probabilities_one_valid = probabilities_valid[:, 1]\n",
    "print('Площадь ROC-кривой:', roc_auc_score(target_valid_ord, probabilities_one_valid))\n"
   ]
  },
  {
   "cell_type": "markdown",
   "metadata": {},
   "source": [
    "<div class=\"alert alert-info\">\n",
    "И рассмотрим downsample</div"
   ]
  },
  {
   "cell_type": "code",
   "execution_count": 36,
   "metadata": {},
   "outputs": [
    {
     "name": "stdout",
     "output_type": "stream",
     "text": [
      "downsample forest f1: 0.5485921889191644\n",
      "Площадь ROC-кривой: 0.8239547480930807\n"
     ]
    }
   ],
   "source": [
    "def downsample(features, target, fraction):\n",
    "    features_zeros = features[target == 0]\n",
    "    features_ones = features[target == 1]\n",
    "    target_zeros = target[target == 0]\n",
    "    target_ones = target[target == 1]\n",
    "\n",
    "    features_downsampled = pd.concat(\n",
    "        [features_zeros.sample(frac=fraction, random_state=12345)] + [features_ones])\n",
    "    target_downsampled = pd.concat(\n",
    "        [target_zeros.sample(frac=fraction, random_state=12345)] + [target_ones])\n",
    "    \n",
    "    features_downsampled, target_downsampled = shuffle(\n",
    "        features_downsampled, target_downsampled, random_state=12345)\n",
    "    \n",
    "    return features_downsampled, target_downsampled\n",
    "\n",
    "features_downsampled, target_downsampled = downsample(features_train_ord, target_train_ord, 0.25)\n",
    "\n",
    "model = RandomForestClassifier(random_state=12345, n_estimators=best_est)\n",
    "model.fit(features_downsampled, target_downsampled)\n",
    "predicted_valid = model.predict(features_valid_ord)\n",
    "\n",
    "print('downsample forest','f1:', f1_score(target_valid_ord, predicted_valid))\n",
    "\n",
    "probabilities_valid = model.predict_proba(features_valid_ord)\n",
    "probabilities_one_valid = probabilities_valid[:, 1]\n",
    "print('Площадь ROC-кривой:', roc_auc_score(target_valid_ord, probabilities_one_valid))\n"
   ]
  },
  {
   "cell_type": "markdown",
   "metadata": {},
   "source": [
    "<div class=\"alert alert-info\">\n",
    "Алгоритм upsample поднял f1 меру\n",
    "<br>\n",
    "Теперь попробуем найти оптимальный threshold\n",
    "</div"
   ]
  },
  {
   "cell_type": "code",
   "execution_count": 37,
   "metadata": {},
   "outputs": [
    {
     "name": "stdout",
     "output_type": "stream",
     "text": [
      "Порог = 0.00 f1 = 0.4138286893704851\n",
      "Порог = 0.05 f1 = 0.4138286893704851\n",
      "Порог = 0.10 f1 = 0.46625\n",
      "Порог = 0.15 f1 = 0.5171658144631117\n",
      "Порог = 0.20 f1 = 0.5480851063829787\n",
      "Порог = 0.25 f1 = 0.5799043062200957\n",
      "Порог = 0.30 f1 = 0.5987261146496814\n",
      "Порог = 0.35 f1 = 0.6030267753201396\n",
      "Порог = 0.40 f1 = 0.5852417302798982\n",
      "Порог = 0.45 f1 = 0.5671641791044776\n"
     ]
    }
   ],
   "source": [
    "model = RandomForestClassifier(random_state=12345, n_estimators=19) #, class_weight = 'balanced')\n",
    "model.fit(features_train_ord, target_train_ord)\n",
    "probabilities_valid = model.predict_proba(features_valid_ord)\n",
    "probabilities_one_valid = probabilities_valid[:, 1]\n",
    "\n",
    "for threshold in np.arange(0, 0.5, 0.05):\n",
    "    predicted_valid = probabilities_one_valid > threshold \n",
    "    f1 = f1_score(target_valid_ord, predicted_valid)\n",
    "    print(\"Порог = {:.2f}\".format(\n",
    "        threshold), 'f1 =', f1)"
   ]
  },
  {
   "cell_type": "markdown",
   "metadata": {},
   "source": [
    "<div class=\"alert alert-info\">\n",
    "Оптимальный порог - 0.35\n",
    "<br>\n",
    "Построим roc-auc кривую в сравнении с константной моделью\n",
    "</div"
   ]
  },
  {
   "cell_type": "code",
   "execution_count": 38,
   "metadata": {},
   "outputs": [
    {
     "data": {
      "image/png": "[encoded data removed]",
      "text/plain": [
       "<Figure size 432x288 with 1 Axes>"
      ]
     },
     "metadata": {
      "needs_background": "light"
     },
     "output_type": "display_data"
    },
    {
     "data": {
      "text/plain": [
       "0.8336299820347329"
      ]
     },
     "execution_count": 38,
     "metadata": {},
     "output_type": "execute_result"
    }
   ],
   "source": [
    "fpr, tpr, thresholds = roc_curve(target_valid_ord, probabilities_one_valid)\n",
    "\n",
    "plt.plot([0, 1], [0, 1], linestyle='--')\n",
    "plt.plot(fpr, tpr)\n",
    "plt.title('ROC-кривая')\n",
    "plt.show()\n",
    "\n",
    "auc_roc = roc_auc_score(target_valid_ord, probabilities_one_valid)\n",
    "auc_roc"
   ]
  },
  {
   "cell_type": "markdown",
   "metadata": {},
   "source": [
    "## Тестирование модели"
   ]
  },
  {
   "cell_type": "markdown",
   "metadata": {},
   "source": [
    "<div class=\"alert alert-info\">\n",
    "Наилучший результат f1 меры мы получили на модели случайного леса при n_estimators=25 и max_depth=7 при class_weight='balanced'</div"
   ]
  },
  {
   "cell_type": "code",
   "execution_count": 39,
   "metadata": {},
   "outputs": [
    {
     "data": {
      "text/plain": [
       "0.6335135135135135"
      ]
     },
     "execution_count": 39,
     "metadata": {},
     "output_type": "execute_result"
    }
   ],
   "source": [
    "best_f1_forest"
   ]
  },
  {
   "cell_type": "code",
   "execution_count": 43,
   "metadata": {},
   "outputs": [
    {
     "data": {
      "text/plain": [
       "7"
      ]
     },
     "execution_count": 43,
     "metadata": {},
     "output_type": "execute_result"
    }
   ],
   "source": [
    "best_depth_forest"
   ]
  },
  {
   "cell_type": "markdown",
   "metadata": {},
   "source": [
    "<div class=\"alert alert-info\">\n",
    "Протестируем модель на тестовой выборке</div"
   ]
  },
  {
   "cell_type": "code",
   "execution_count": 42,
   "metadata": {},
   "outputs": [
    {
     "name": "stdout",
     "output_type": "stream",
     "text": [
      "balanced forest f1: 0.6335135135135135\n",
      "тестирование модели: f1: 0.7626373626373626\n"
     ]
    }
   ],
   "source": [
    "print('balanced forest','f1:', best_f1_forest)\n",
    "\n",
    "model = RandomForestClassifier(random_state=12345, n_estimators=best_est_balanced, max_depth=best_depth_forest, class_weight='balanced')\n",
    "model.fit(features_test_ord, target_test_ord) \n",
    "predicted_test = model.predict(features_test_ord)\n",
    "f1_test = f1_score(target_test_ord, predicted_test)\n",
    "print ('тестирование модели:','f1:', f1_test)"
   ]
  },
  {
   "cell_type": "markdown",
   "metadata": {},
   "source": [
    "<div class=\"alert alert-info\">\n",
    "Разница есть довольно ощутимая, f1 выше у тестовой модели</div"
   ]
  },
  {
   "cell_type": "markdown",
   "metadata": {},
   "source": [
    " ## Вывод"
   ]
  },
  {
   "cell_type": "markdown",
   "metadata": {},
   "source": [
    "<div class=\"alert alert-info\">\n",
    "При загрузке данных было видно, что в столбце Tenure есть пропущенные значения. Это значения, указывающие, сколько лет человек является клиентом банка. Скорее всего, это новые клиенты, мы заменили их на медианное значение по столбцу.\n",
    "<br>\n",
    "Остальные столбцы корректные, типы данных нас устраивают.\n",
    "<br>\n",
    "Столбцы 'RowNumber','CustomerId', 'Surname' мы удалили, они не влияют на уход клиента из банка\n",
    "    <br>\n",
    "Столбцы Geography и Gender категориальные и требовали преобразования.\n",
    "<br>\n",
    "Наблюдается дизбаланс классов (примерно 80%:20%). Ушло клиентов намного меньше, чем осталось.\n",
    "<br>\n",
    "            <br>\n",
    "Преобразовали категориальные признаки в численные с помощью техники прямого кодирования (One-Hot Encoding, OHE).\n",
    "    <br>\n",
    "Также подготовили данные, используя технику ordinal encoder (она понадобилась для модели дерева решений и случайного леса).\n",
    "     <br>\n",
    "Для моделирования исходные данные разделили на три выборки: обучающую (train) и валидационную (valid) и тестовую(test). \n",
    "    <br>\n",
    "Объявили переменные:\n",
    "    <br>\n",
    "признаки: features_train, features_valid, features_test;\n",
    "    <br>\n",
    "целевой признак: target_train, target_valid, target_test.\n",
    "    <br>\n",
    "Затем все данные масштабировали\n",
    "    <br>\n",
    " Сначала рассмотрели модели без учета дизбаланса классов. Для дерева решений и случайного леса будем брать выборки ord, для линейной регрессии - выборки ohe.\n",
    "    <br>\n",
    "        Исследовали дерево решений, подобрали гиперпараметры для лучшего значения метрики f1. Наилучший результат показал <b>max_depth</b> равное 4, <b>criterion</b> - 'gini'.\n",
    "    <br>\n",
    "  В модели случайного леса подобрали гиперпараметры <b>n_estimators</b> = 17 и <b>max_depth</b> = 15\n",
    "    <br>\n",
    "  В логистической регрессии - гиперпараметр <b>max_iter</b> = 10\n",
    "    <br>\n",
    "   Линейная регрессия показала не очень хороший результат.\n",
    "    <br>\n",
    "\n",
    "Наилучший результат f1-меры получился у случайного леса\n",
    "    <br>\n",
    "Попробовали бороться с дизбалансом классом с помощью гиперпараметра class_weight='balanced'\n",
    "    <br>\n",
    "Он очень помог, значение f1 и auc-roc стали больше, лучший результат у случайного леса\n",
    "    <br>\n",
    "Далее попробовали увеличение выборки upsample, алгоритм upsample поднял f1 меру.\n",
    "<br>\n",
    "Также нашли оптимальный threshold (порог) - 0.35\n",
    "<br>\n",
    "Построили roc-auc кривую\n",
    "    <br>\n",
    "    <br>\n",
    "    Наилучший результат f1 меры мы получили на модели случайного леса при n_estimators=25 и <b>max_depth</b>=7  с параметром class_weight = 'balanced'\n",
    " Протестировали модель на тестовой выборке   \n",
    "Разница есть довольно ощутимая, возможно, модель переобучена.\n",
    "</div"
   ]
  }
 ],
 "metadata": {
  "ExecuteTimeLog": [
   {
    "duration": 1100,
    "start_time": "2023-02-12T18:31:40.633Z"
   },
   {
    "duration": 173,
    "start_time": "2023-02-12T18:41:53.878Z"
   },
   {
    "duration": 13,
    "start_time": "2023-02-12T18:42:08.230Z"
   },
   {
    "duration": 18,
    "start_time": "2023-02-12T20:06:19.426Z"
   },
   {
    "duration": 1041,
    "start_time": "2023-02-13T12:22:35.216Z"
   },
   {
    "duration": 162,
    "start_time": "2023-02-13T12:22:36.259Z"
   },
   {
    "duration": 14,
    "start_time": "2023-02-13T12:22:36.422Z"
   },
   {
    "duration": 25,
    "start_time": "2023-02-13T12:22:36.438Z"
   },
   {
    "duration": 97,
    "start_time": "2023-02-13T12:24:00.270Z"
   },
   {
    "duration": 22,
    "start_time": "2023-02-13T12:24:07.673Z"
   },
   {
    "duration": 25,
    "start_time": "2023-02-13T12:34:38.747Z"
   },
   {
    "duration": 13,
    "start_time": "2023-02-13T12:35:24.946Z"
   },
   {
    "duration": 3,
    "start_time": "2023-02-13T12:35:52.340Z"
   },
   {
    "duration": 28,
    "start_time": "2023-02-13T12:35:57.530Z"
   },
   {
    "duration": 8,
    "start_time": "2023-02-13T12:36:16.354Z"
   },
   {
    "duration": 12,
    "start_time": "2023-02-13T12:36:17.419Z"
   },
   {
    "duration": 1215,
    "start_time": "2023-02-13T19:03:37.933Z"
   },
   {
    "duration": 93,
    "start_time": "2023-02-13T19:03:39.150Z"
   },
   {
    "duration": 13,
    "start_time": "2023-02-13T19:03:39.245Z"
   },
   {
    "duration": 22,
    "start_time": "2023-02-13T19:03:39.260Z"
   },
   {
    "duration": 27,
    "start_time": "2023-02-13T19:03:39.283Z"
   },
   {
    "duration": 12,
    "start_time": "2023-02-13T19:03:39.312Z"
   },
   {
    "duration": 13,
    "start_time": "2023-02-13T19:03:39.326Z"
   },
   {
    "duration": 1077,
    "start_time": "2023-02-15T09:05:56.219Z"
   },
   {
    "duration": 180,
    "start_time": "2023-02-15T09:05:57.297Z"
   },
   {
    "duration": 13,
    "start_time": "2023-02-15T09:05:57.479Z"
   },
   {
    "duration": 34,
    "start_time": "2023-02-15T09:05:57.493Z"
   },
   {
    "duration": 19,
    "start_time": "2023-02-15T09:05:57.529Z"
   },
   {
    "duration": 7,
    "start_time": "2023-02-15T09:05:57.549Z"
   },
   {
    "duration": 14,
    "start_time": "2023-02-15T09:05:57.558Z"
   },
   {
    "duration": 55,
    "start_time": "2023-02-15T09:57:58.365Z"
   },
   {
    "duration": 10,
    "start_time": "2023-02-15T11:55:56.278Z"
   },
   {
    "duration": 44,
    "start_time": "2023-02-15T12:29:51.931Z"
   },
   {
    "duration": 8,
    "start_time": "2023-02-15T12:29:59.027Z"
   },
   {
    "duration": 13,
    "start_time": "2023-02-15T12:30:06.261Z"
   },
   {
    "duration": 9,
    "start_time": "2023-02-15T12:30:12.884Z"
   },
   {
    "duration": 6,
    "start_time": "2023-02-15T12:30:30.430Z"
   },
   {
    "duration": 5,
    "start_time": "2023-02-15T12:30:58.468Z"
   },
   {
    "duration": 3,
    "start_time": "2023-02-15T13:58:08.381Z"
   },
   {
    "duration": 97,
    "start_time": "2023-02-15T13:58:37.401Z"
   },
   {
    "duration": 25,
    "start_time": "2023-02-15T13:58:55.298Z"
   },
   {
    "duration": 17,
    "start_time": "2023-02-15T13:59:29.056Z"
   },
   {
    "duration": 10,
    "start_time": "2023-02-15T14:02:00.729Z"
   },
   {
    "duration": 17,
    "start_time": "2023-02-15T14:04:22.639Z"
   },
   {
    "duration": 5,
    "start_time": "2023-02-15T14:06:24.555Z"
   },
   {
    "duration": 9,
    "start_time": "2023-02-15T14:19:56.816Z"
   },
   {
    "duration": 8,
    "start_time": "2023-02-15T14:21:33.836Z"
   },
   {
    "duration": 1356,
    "start_time": "2023-02-15T14:22:14.184Z"
   },
   {
    "duration": 2552,
    "start_time": "2023-02-15T14:22:29.858Z"
   },
   {
    "duration": 2243,
    "start_time": "2023-02-15T14:23:31.864Z"
   },
   {
    "duration": 1479,
    "start_time": "2023-02-15T14:23:59.965Z"
   },
   {
    "duration": 1943,
    "start_time": "2023-02-15T14:24:14.094Z"
   },
   {
    "duration": 2239,
    "start_time": "2023-02-15T14:24:26.790Z"
   },
   {
    "duration": 41,
    "start_time": "2023-02-15T14:27:54.685Z"
   },
   {
    "duration": 13,
    "start_time": "2023-02-15T14:28:05.076Z"
   },
   {
    "duration": 2,
    "start_time": "2023-02-15T14:28:35.608Z"
   },
   {
    "duration": 12,
    "start_time": "2023-02-15T14:29:48.668Z"
   },
   {
    "duration": 9,
    "start_time": "2023-02-15T14:37:26.181Z"
   },
   {
    "duration": 235,
    "start_time": "2023-02-15T14:37:37.734Z"
   },
   {
    "duration": 14,
    "start_time": "2023-02-15T14:39:50.755Z"
   },
   {
    "duration": 3,
    "start_time": "2023-02-15T14:40:01.816Z"
   },
   {
    "duration": 41,
    "start_time": "2023-02-15T14:40:01.855Z"
   },
   {
    "duration": 16,
    "start_time": "2023-02-15T14:40:01.898Z"
   },
   {
    "duration": 25,
    "start_time": "2023-02-15T14:40:01.916Z"
   },
   {
    "duration": 42,
    "start_time": "2023-02-15T14:40:01.942Z"
   },
   {
    "duration": 24,
    "start_time": "2023-02-15T14:40:01.987Z"
   },
   {
    "duration": 49,
    "start_time": "2023-02-15T14:40:02.013Z"
   },
   {
    "duration": 25,
    "start_time": "2023-02-15T14:40:02.064Z"
   },
   {
    "duration": 1253,
    "start_time": "2023-02-15T14:40:24.743Z"
   },
   {
    "duration": 42,
    "start_time": "2023-02-15T14:40:25.998Z"
   },
   {
    "duration": 13,
    "start_time": "2023-02-15T14:40:26.042Z"
   },
   {
    "duration": 19,
    "start_time": "2023-02-15T14:40:26.058Z"
   },
   {
    "duration": 25,
    "start_time": "2023-02-15T14:40:26.079Z"
   },
   {
    "duration": 12,
    "start_time": "2023-02-15T14:40:26.105Z"
   },
   {
    "duration": 37,
    "start_time": "2023-02-15T14:40:26.118Z"
   },
   {
    "duration": 112,
    "start_time": "2023-02-15T14:40:30.129Z"
   },
   {
    "duration": 5,
    "start_time": "2023-02-15T14:40:42.967Z"
   },
   {
    "duration": 5,
    "start_time": "2023-02-15T14:41:13.135Z"
   },
   {
    "duration": 13,
    "start_time": "2023-02-15T14:41:38.556Z"
   },
   {
    "duration": 9,
    "start_time": "2023-02-15T14:41:45.066Z"
   },
   {
    "duration": 7,
    "start_time": "2023-02-15T14:41:45.351Z"
   },
   {
    "duration": 6,
    "start_time": "2023-02-15T14:41:47.080Z"
   },
   {
    "duration": 37,
    "start_time": "2023-02-15T14:41:55.014Z"
   },
   {
    "duration": 19,
    "start_time": "2023-02-15T14:42:08.657Z"
   },
   {
    "duration": 18,
    "start_time": "2023-02-15T14:43:11.126Z"
   },
   {
    "duration": 11,
    "start_time": "2023-02-15T14:44:34.910Z"
   },
   {
    "duration": 19,
    "start_time": "2023-02-15T14:44:42.034Z"
   },
   {
    "duration": 11,
    "start_time": "2023-02-15T14:44:55.986Z"
   },
   {
    "duration": 1132,
    "start_time": "2023-02-15T14:50:47.804Z"
   },
   {
    "duration": 40,
    "start_time": "2023-02-15T14:50:48.938Z"
   },
   {
    "duration": 12,
    "start_time": "2023-02-15T14:50:48.980Z"
   },
   {
    "duration": 20,
    "start_time": "2023-02-15T14:50:48.994Z"
   },
   {
    "duration": 21,
    "start_time": "2023-02-15T14:50:49.016Z"
   },
   {
    "duration": 15,
    "start_time": "2023-02-15T14:50:49.038Z"
   },
   {
    "duration": 14,
    "start_time": "2023-02-15T14:50:49.054Z"
   },
   {
    "duration": 4,
    "start_time": "2023-02-15T14:50:49.070Z"
   },
   {
    "duration": 13,
    "start_time": "2023-02-15T14:50:49.075Z"
   },
   {
    "duration": 11,
    "start_time": "2023-02-15T14:50:49.090Z"
   },
   {
    "duration": 6,
    "start_time": "2023-02-15T14:50:49.103Z"
   },
   {
    "duration": 7,
    "start_time": "2023-02-15T14:50:49.110Z"
   },
   {
    "duration": 37,
    "start_time": "2023-02-15T14:50:49.118Z"
   },
   {
    "duration": 9,
    "start_time": "2023-02-15T14:50:49.157Z"
   },
   {
    "duration": 1693,
    "start_time": "2023-02-15T14:50:49.167Z"
   },
   {
    "duration": 0,
    "start_time": "2023-02-15T14:50:50.862Z"
   },
   {
    "duration": 0,
    "start_time": "2023-02-15T14:50:50.864Z"
   },
   {
    "duration": 0,
    "start_time": "2023-02-15T14:50:50.865Z"
   },
   {
    "duration": 0,
    "start_time": "2023-02-15T14:50:50.866Z"
   },
   {
    "duration": 0,
    "start_time": "2023-02-15T14:50:50.868Z"
   },
   {
    "duration": 0,
    "start_time": "2023-02-15T14:50:50.869Z"
   },
   {
    "duration": 12,
    "start_time": "2023-02-15T14:51:30.516Z"
   },
   {
    "duration": 12,
    "start_time": "2023-02-15T14:51:42.044Z"
   },
   {
    "duration": 15,
    "start_time": "2023-02-15T14:51:51.108Z"
   },
   {
    "duration": 6,
    "start_time": "2023-02-15T14:54:19.431Z"
   },
   {
    "duration": 1057,
    "start_time": "2023-02-17T18:53:31.430Z"
   },
   {
    "duration": 165,
    "start_time": "2023-02-17T18:53:32.696Z"
   },
   {
    "duration": 16,
    "start_time": "2023-02-17T18:53:33.900Z"
   },
   {
    "duration": 22,
    "start_time": "2023-02-17T18:53:34.890Z"
   },
   {
    "duration": 20,
    "start_time": "2023-02-17T18:53:35.988Z"
   },
   {
    "duration": 8,
    "start_time": "2023-02-17T18:53:39.726Z"
   },
   {
    "duration": 12,
    "start_time": "2023-02-17T18:53:40.538Z"
   },
   {
    "duration": 4,
    "start_time": "2023-02-17T18:53:53.459Z"
   },
   {
    "duration": 12,
    "start_time": "2023-02-17T18:53:53.980Z"
   },
   {
    "duration": 7,
    "start_time": "2023-02-17T18:53:58.102Z"
   },
   {
    "duration": 6,
    "start_time": "2023-02-17T18:53:58.996Z"
   },
   {
    "duration": 5,
    "start_time": "2023-02-17T18:54:17.409Z"
   },
   {
    "duration": 21,
    "start_time": "2023-02-17T18:54:21.967Z"
   },
   {
    "duration": 10,
    "start_time": "2023-02-17T18:54:43.069Z"
   },
   {
    "duration": 13,
    "start_time": "2023-02-17T19:15:15.577Z"
   },
   {
    "duration": 1097,
    "start_time": "2023-02-18T19:07:56.679Z"
   },
   {
    "duration": 104,
    "start_time": "2023-02-18T19:08:00.868Z"
   },
   {
    "duration": 21,
    "start_time": "2023-02-18T19:08:02.522Z"
   },
   {
    "duration": 24,
    "start_time": "2023-02-18T19:08:04.837Z"
   },
   {
    "duration": 22,
    "start_time": "2023-02-18T19:08:07.179Z"
   },
   {
    "duration": 17,
    "start_time": "2023-02-18T19:08:08.622Z"
   },
   {
    "duration": 19,
    "start_time": "2023-02-18T19:08:09.716Z"
   },
   {
    "duration": 10,
    "start_time": "2023-02-18T19:10:31.942Z"
   },
   {
    "duration": 11,
    "start_time": "2023-02-18T19:10:32.955Z"
   },
   {
    "duration": 8,
    "start_time": "2023-02-18T19:10:38.157Z"
   },
   {
    "duration": 8,
    "start_time": "2023-02-18T19:10:43.599Z"
   },
   {
    "duration": 7,
    "start_time": "2023-02-18T19:10:46.947Z"
   },
   {
    "duration": 21,
    "start_time": "2023-02-18T19:10:49.858Z"
   },
   {
    "duration": 10,
    "start_time": "2023-02-18T19:10:53.596Z"
   },
   {
    "duration": 14,
    "start_time": "2023-02-18T19:12:32.210Z"
   },
   {
    "duration": 12,
    "start_time": "2023-02-18T19:23:06.546Z"
   },
   {
    "duration": 5,
    "start_time": "2023-02-18T19:23:28.740Z"
   },
   {
    "duration": 11885,
    "start_time": "2023-02-18T19:23:36.307Z"
   },
   {
    "duration": 7,
    "start_time": "2023-02-18T19:24:04.580Z"
   },
   {
    "duration": 8,
    "start_time": "2023-02-18T19:24:06.706Z"
   },
   {
    "duration": 29,
    "start_time": "2023-02-18T19:24:39.134Z"
   },
   {
    "duration": 14,
    "start_time": "2023-02-18T19:26:09.752Z"
   },
   {
    "duration": 12,
    "start_time": "2023-02-18T19:26:57.994Z"
   },
   {
    "duration": 6,
    "start_time": "2023-02-18T19:27:44.727Z"
   },
   {
    "duration": 6,
    "start_time": "2023-02-18T19:27:47.724Z"
   },
   {
    "duration": 6,
    "start_time": "2023-02-18T19:27:51.970Z"
   },
   {
    "duration": 3,
    "start_time": "2023-02-18T21:15:24.181Z"
   },
   {
    "duration": 17,
    "start_time": "2023-02-18T21:18:36.345Z"
   },
   {
    "duration": 14,
    "start_time": "2023-02-18T21:19:18.006Z"
   },
   {
    "duration": 14,
    "start_time": "2023-02-18T21:19:30.573Z"
   },
   {
    "duration": 6,
    "start_time": "2023-02-18T21:27:05.226Z"
   },
   {
    "duration": 4,
    "start_time": "2023-02-18T21:31:24.903Z"
   },
   {
    "duration": 6,
    "start_time": "2023-02-18T21:31:28.813Z"
   },
   {
    "duration": 8,
    "start_time": "2023-02-18T21:31:29.567Z"
   },
   {
    "duration": 16,
    "start_time": "2023-02-18T21:32:44.533Z"
   },
   {
    "duration": 3,
    "start_time": "2023-02-18T21:32:45.437Z"
   },
   {
    "duration": 27,
    "start_time": "2023-02-18T21:32:46.898Z"
   },
   {
    "duration": 5,
    "start_time": "2023-02-18T21:32:57.987Z"
   },
   {
    "duration": 18,
    "start_time": "2023-02-18T21:32:59.573Z"
   },
   {
    "duration": 9,
    "start_time": "2023-02-18T21:33:31.287Z"
   },
   {
    "duration": 28,
    "start_time": "2023-02-18T21:33:40.120Z"
   },
   {
    "duration": 19,
    "start_time": "2023-02-18T21:33:44.057Z"
   },
   {
    "duration": 13,
    "start_time": "2023-02-18T21:33:50.544Z"
   },
   {
    "duration": 12,
    "start_time": "2023-02-18T21:39:47.866Z"
   },
   {
    "duration": 8,
    "start_time": "2023-02-18T21:42:06.961Z"
   },
   {
    "duration": 12,
    "start_time": "2023-02-18T21:45:58.772Z"
   },
   {
    "duration": 9,
    "start_time": "2023-02-18T21:46:52.028Z"
   },
   {
    "duration": 11,
    "start_time": "2023-02-18T21:47:05.742Z"
   },
   {
    "duration": 24,
    "start_time": "2023-02-18T21:47:42.194Z"
   },
   {
    "duration": 21,
    "start_time": "2023-02-18T21:48:40.787Z"
   },
   {
    "duration": 12,
    "start_time": "2023-02-18T21:48:49.434Z"
   },
   {
    "duration": 8,
    "start_time": "2023-02-18T21:49:00.310Z"
   },
   {
    "duration": 8,
    "start_time": "2023-02-18T21:49:22.844Z"
   },
   {
    "duration": 7,
    "start_time": "2023-02-18T21:49:30.153Z"
   },
   {
    "duration": 8,
    "start_time": "2023-02-18T21:49:41.189Z"
   },
   {
    "duration": 6,
    "start_time": "2023-02-18T21:49:50.144Z"
   },
   {
    "duration": 8,
    "start_time": "2023-02-18T21:49:58.397Z"
   },
   {
    "duration": 6,
    "start_time": "2023-02-18T21:50:01.779Z"
   },
   {
    "duration": 1070,
    "start_time": "2023-02-19T10:21:51.965Z"
   },
   {
    "duration": 84,
    "start_time": "2023-02-19T10:21:53.037Z"
   },
   {
    "duration": 12,
    "start_time": "2023-02-19T10:21:53.123Z"
   },
   {
    "duration": 20,
    "start_time": "2023-02-19T10:21:53.136Z"
   },
   {
    "duration": 32,
    "start_time": "2023-02-19T10:21:53.158Z"
   },
   {
    "duration": 8,
    "start_time": "2023-02-19T10:21:53.192Z"
   },
   {
    "duration": 28,
    "start_time": "2023-02-19T10:21:53.201Z"
   },
   {
    "duration": 4,
    "start_time": "2023-02-19T10:21:53.230Z"
   },
   {
    "duration": 11,
    "start_time": "2023-02-19T10:21:53.236Z"
   },
   {
    "duration": 8,
    "start_time": "2023-02-19T10:21:53.249Z"
   },
   {
    "duration": 12,
    "start_time": "2023-02-19T10:21:53.259Z"
   },
   {
    "duration": 5,
    "start_time": "2023-02-19T10:21:53.272Z"
   },
   {
    "duration": 20,
    "start_time": "2023-02-19T10:21:53.278Z"
   },
   {
    "duration": 2,
    "start_time": "2023-02-19T10:21:53.300Z"
   },
   {
    "duration": 40,
    "start_time": "2023-02-19T10:21:53.303Z"
   },
   {
    "duration": 14,
    "start_time": "2023-02-19T10:21:53.345Z"
   },
   {
    "duration": 6,
    "start_time": "2023-02-19T10:21:53.360Z"
   },
   {
    "duration": 11,
    "start_time": "2023-02-19T10:21:58.371Z"
   },
   {
    "duration": 6,
    "start_time": "2023-02-19T10:22:47.734Z"
   },
   {
    "duration": 7,
    "start_time": "2023-02-19T10:25:04.994Z"
   },
   {
    "duration": 13,
    "start_time": "2023-02-19T10:25:26.412Z"
   },
   {
    "duration": 111,
    "start_time": "2023-02-19T10:31:40.992Z"
   },
   {
    "duration": 18,
    "start_time": "2023-02-19T10:31:46.075Z"
   },
   {
    "duration": 16,
    "start_time": "2023-02-19T10:33:33.870Z"
   },
   {
    "duration": 4,
    "start_time": "2023-02-19T10:33:47.835Z"
   },
   {
    "duration": 4,
    "start_time": "2023-02-19T10:33:58.763Z"
   },
   {
    "duration": 4,
    "start_time": "2023-02-19T10:34:32.638Z"
   },
   {
    "duration": 17,
    "start_time": "2023-02-19T10:34:37.856Z"
   },
   {
    "duration": 1131,
    "start_time": "2023-02-19T12:21:14.396Z"
   },
   {
    "duration": 84,
    "start_time": "2023-02-19T12:21:17.737Z"
   },
   {
    "duration": 21,
    "start_time": "2023-02-19T12:21:19.501Z"
   },
   {
    "duration": 19,
    "start_time": "2023-02-19T12:21:26.341Z"
   },
   {
    "duration": 21,
    "start_time": "2023-02-19T12:21:53.377Z"
   },
   {
    "duration": 9,
    "start_time": "2023-02-19T12:21:53.869Z"
   },
   {
    "duration": 13,
    "start_time": "2023-02-19T12:21:54.435Z"
   },
   {
    "duration": 4,
    "start_time": "2023-02-19T12:22:40.621Z"
   },
   {
    "duration": 12,
    "start_time": "2023-02-19T12:22:42.935Z"
   },
   {
    "duration": 126,
    "start_time": "2023-02-19T12:23:05.262Z"
   },
   {
    "duration": 13,
    "start_time": "2023-02-19T12:25:06.667Z"
   },
   {
    "duration": 711,
    "start_time": "2023-02-19T12:27:15.592Z"
   },
   {
    "duration": 897,
    "start_time": "2023-02-19T12:27:21.641Z"
   },
   {
    "duration": 47,
    "start_time": "2023-02-19T12:27:32.809Z"
   },
   {
    "duration": 881,
    "start_time": "2023-02-19T12:27:38.464Z"
   },
   {
    "duration": 938,
    "start_time": "2023-02-19T12:27:56.863Z"
   },
   {
    "duration": 831,
    "start_time": "2023-02-19T12:28:11.767Z"
   },
   {
    "duration": 740,
    "start_time": "2023-02-19T12:28:16.427Z"
   },
   {
    "duration": 745,
    "start_time": "2023-02-19T12:28:34.993Z"
   },
   {
    "duration": 10,
    "start_time": "2023-02-19T12:28:43.440Z"
   },
   {
    "duration": 745,
    "start_time": "2023-02-19T12:28:55.104Z"
   },
   {
    "duration": 915,
    "start_time": "2023-02-19T12:29:09.324Z"
   },
   {
    "duration": 874,
    "start_time": "2023-02-19T12:29:17.521Z"
   },
   {
    "duration": 880,
    "start_time": "2023-02-19T12:47:44.869Z"
   },
   {
    "duration": 733,
    "start_time": "2023-02-19T12:47:59.636Z"
   },
   {
    "duration": 1010,
    "start_time": "2023-02-19T18:54:35.993Z"
   },
   {
    "duration": 87,
    "start_time": "2023-02-19T18:54:38.200Z"
   },
   {
    "duration": 13,
    "start_time": "2023-02-19T18:54:38.532Z"
   },
   {
    "duration": 21,
    "start_time": "2023-02-19T18:54:38.744Z"
   },
   {
    "duration": 22,
    "start_time": "2023-02-19T18:54:39.587Z"
   },
   {
    "duration": 8,
    "start_time": "2023-02-19T18:54:40.721Z"
   },
   {
    "duration": 12,
    "start_time": "2023-02-19T18:54:42.239Z"
   },
   {
    "duration": 12,
    "start_time": "2023-02-19T18:54:45.215Z"
   },
   {
    "duration": 742,
    "start_time": "2023-02-19T18:54:47.184Z"
   },
   {
    "duration": 727,
    "start_time": "2023-02-19T18:54:54.872Z"
   },
   {
    "duration": 892,
    "start_time": "2023-02-19T18:55:05.601Z"
   },
   {
    "duration": 846,
    "start_time": "2023-02-19T18:55:12.976Z"
   },
   {
    "duration": 22,
    "start_time": "2023-02-19T18:56:00.176Z"
   },
   {
    "duration": 24,
    "start_time": "2023-02-19T18:56:14.436Z"
   },
   {
    "duration": 4,
    "start_time": "2023-02-19T18:59:28.903Z"
   },
   {
    "duration": 11,
    "start_time": "2023-02-19T18:59:30.330Z"
   },
   {
    "duration": 21,
    "start_time": "2023-02-19T18:59:38.137Z"
   },
   {
    "duration": 44,
    "start_time": "2023-02-19T19:00:34.859Z"
   },
   {
    "duration": 1077,
    "start_time": "2023-02-19T19:00:41.924Z"
   },
   {
    "duration": 34,
    "start_time": "2023-02-19T19:00:44.685Z"
   },
   {
    "duration": 15,
    "start_time": "2023-02-19T19:00:45.997Z"
   },
   {
    "duration": 18,
    "start_time": "2023-02-19T19:00:47.445Z"
   },
   {
    "duration": 23,
    "start_time": "2023-02-19T19:01:03.505Z"
   },
   {
    "duration": 5,
    "start_time": "2023-02-19T19:01:12.675Z"
   },
   {
    "duration": 21,
    "start_time": "2023-02-19T19:01:23.363Z"
   },
   {
    "duration": 13,
    "start_time": "2023-02-19T19:01:33.020Z"
   },
   {
    "duration": 3,
    "start_time": "2023-02-19T19:01:38.159Z"
   },
   {
    "duration": 12,
    "start_time": "2023-02-19T19:01:41.457Z"
   },
   {
    "duration": 19,
    "start_time": "2023-02-19T19:01:52.122Z"
   },
   {
    "duration": 72,
    "start_time": "2023-02-19T19:02:47.011Z"
   },
   {
    "duration": 5,
    "start_time": "2023-02-19T19:02:53.216Z"
   },
   {
    "duration": 6,
    "start_time": "2023-02-19T19:03:05.058Z"
   },
   {
    "duration": 4,
    "start_time": "2023-02-19T19:03:22.137Z"
   },
   {
    "duration": 11,
    "start_time": "2023-02-19T19:03:23.638Z"
   },
   {
    "duration": 6,
    "start_time": "2023-02-19T19:03:36.906Z"
   },
   {
    "duration": 6,
    "start_time": "2023-02-19T19:04:35.935Z"
   },
   {
    "duration": 17,
    "start_time": "2023-02-19T19:05:43.908Z"
   },
   {
    "duration": 13,
    "start_time": "2023-02-19T19:05:50.158Z"
   },
   {
    "duration": 17,
    "start_time": "2023-02-19T19:05:52.193Z"
   },
   {
    "duration": 15,
    "start_time": "2023-02-19T19:05:55.926Z"
   },
   {
    "duration": 31,
    "start_time": "2023-02-19T19:06:03.122Z"
   },
   {
    "duration": 6,
    "start_time": "2023-02-19T19:06:07.174Z"
   },
   {
    "duration": 7,
    "start_time": "2023-02-19T19:06:08.708Z"
   },
   {
    "duration": 7,
    "start_time": "2023-02-19T19:06:11.286Z"
   },
   {
    "duration": 14,
    "start_time": "2023-02-19T19:11:55.458Z"
   },
   {
    "duration": 12,
    "start_time": "2023-02-19T19:12:00.700Z"
   },
   {
    "duration": 7,
    "start_time": "2023-02-19T19:17:11.784Z"
   },
   {
    "duration": 49,
    "start_time": "2023-02-19T19:17:12.761Z"
   },
   {
    "duration": 18,
    "start_time": "2023-02-19T19:17:31.844Z"
   },
   {
    "duration": 17,
    "start_time": "2023-02-19T19:17:57.477Z"
   },
   {
    "duration": 15,
    "start_time": "2023-02-19T19:18:13.938Z"
   },
   {
    "duration": 17,
    "start_time": "2023-02-19T19:18:21.821Z"
   },
   {
    "duration": 730,
    "start_time": "2023-02-19T19:51:25.336Z"
   },
   {
    "duration": 11,
    "start_time": "2023-02-19T19:51:42.359Z"
   },
   {
    "duration": 25,
    "start_time": "2023-02-19T19:51:52.561Z"
   },
   {
    "duration": 14,
    "start_time": "2023-02-19T19:52:31.159Z"
   },
   {
    "duration": 13,
    "start_time": "2023-02-19T20:34:45.450Z"
   },
   {
    "duration": 17,
    "start_time": "2023-02-19T20:36:07.432Z"
   },
   {
    "duration": 11,
    "start_time": "2023-02-19T20:37:20.327Z"
   },
   {
    "duration": 14,
    "start_time": "2023-02-19T20:37:33.400Z"
   },
   {
    "duration": 7,
    "start_time": "2023-02-19T20:37:48.583Z"
   },
   {
    "duration": 16,
    "start_time": "2023-02-19T20:38:12.033Z"
   },
   {
    "duration": 19,
    "start_time": "2023-02-19T20:38:17.392Z"
   },
   {
    "duration": 27,
    "start_time": "2023-02-19T20:38:22.721Z"
   },
   {
    "duration": 26,
    "start_time": "2023-02-19T20:38:26.829Z"
   },
   {
    "duration": 23,
    "start_time": "2023-02-19T20:38:29.979Z"
   },
   {
    "duration": 24,
    "start_time": "2023-02-19T20:38:33.277Z"
   },
   {
    "duration": 11,
    "start_time": "2023-02-19T20:38:38.767Z"
   },
   {
    "duration": 30,
    "start_time": "2023-02-19T20:40:31.868Z"
   },
   {
    "duration": 6,
    "start_time": "2023-02-19T20:40:37.854Z"
   },
   {
    "duration": 79,
    "start_time": "2023-02-19T20:56:49.273Z"
   },
   {
    "duration": 39,
    "start_time": "2023-02-19T20:58:26.194Z"
   },
   {
    "duration": 40,
    "start_time": "2023-02-19T20:58:42.468Z"
   },
   {
    "duration": 15,
    "start_time": "2023-02-19T21:00:25.282Z"
   },
   {
    "duration": 28,
    "start_time": "2023-02-19T21:00:38.698Z"
   },
   {
    "duration": 23,
    "start_time": "2023-02-19T21:00:46.372Z"
   },
   {
    "duration": 30,
    "start_time": "2023-02-19T21:00:55.731Z"
   },
   {
    "duration": 15,
    "start_time": "2023-02-19T21:01:13.228Z"
   },
   {
    "duration": 20,
    "start_time": "2023-02-19T21:01:34.440Z"
   },
   {
    "duration": 14,
    "start_time": "2023-02-19T21:01:43.374Z"
   },
   {
    "duration": 16,
    "start_time": "2023-02-19T21:01:55.800Z"
   },
   {
    "duration": 37,
    "start_time": "2023-02-19T21:02:32.034Z"
   },
   {
    "duration": 22,
    "start_time": "2023-02-19T21:03:26.229Z"
   },
   {
    "duration": 31,
    "start_time": "2023-02-19T21:04:30.123Z"
   },
   {
    "duration": 1062,
    "start_time": "2023-02-27T10:36:38.381Z"
   },
   {
    "duration": 91,
    "start_time": "2023-02-27T10:36:40.725Z"
   },
   {
    "duration": 15,
    "start_time": "2023-02-27T10:36:41.639Z"
   },
   {
    "duration": 20,
    "start_time": "2023-02-27T10:36:42.805Z"
   },
   {
    "duration": 15,
    "start_time": "2023-02-27T10:36:43.825Z"
   },
   {
    "duration": 4,
    "start_time": "2023-02-27T10:36:44.395Z"
   },
   {
    "duration": 13,
    "start_time": "2023-02-27T10:36:45.462Z"
   },
   {
    "duration": 5,
    "start_time": "2023-02-27T10:36:47.967Z"
   },
   {
    "duration": 5,
    "start_time": "2023-02-27T10:36:53.925Z"
   },
   {
    "duration": 11,
    "start_time": "2023-02-27T10:36:54.785Z"
   },
   {
    "duration": 6,
    "start_time": "2023-02-27T10:36:56.783Z"
   },
   {
    "duration": 5,
    "start_time": "2023-02-27T10:37:03.212Z"
   },
   {
    "duration": 119,
    "start_time": "2023-02-27T10:40:56.466Z"
   },
   {
    "duration": 12,
    "start_time": "2023-02-27T10:41:55.298Z"
   },
   {
    "duration": 8,
    "start_time": "2023-02-27T10:42:02.235Z"
   },
   {
    "duration": 3,
    "start_time": "2023-02-27T10:42:04.308Z"
   },
   {
    "duration": 13,
    "start_time": "2023-02-27T10:42:04.826Z"
   },
   {
    "duration": 2,
    "start_time": "2023-02-27T10:42:06.169Z"
   },
   {
    "duration": 26,
    "start_time": "2023-02-27T10:42:06.808Z"
   },
   {
    "duration": 14,
    "start_time": "2023-02-27T10:42:08.672Z"
   },
   {
    "duration": 9,
    "start_time": "2023-02-27T10:42:16.469Z"
   },
   {
    "duration": 20,
    "start_time": "2023-02-27T10:42:27.675Z"
   },
   {
    "duration": 35,
    "start_time": "2023-02-27T10:42:40.216Z"
   },
   {
    "duration": 9,
    "start_time": "2023-02-27T10:42:44.362Z"
   },
   {
    "duration": 7,
    "start_time": "2023-02-27T10:42:45.623Z"
   },
   {
    "duration": 7,
    "start_time": "2023-02-27T10:42:48.696Z"
   },
   {
    "duration": 45,
    "start_time": "2023-02-27T10:42:54.953Z"
   },
   {
    "duration": 53,
    "start_time": "2023-02-27T10:42:57.012Z"
   },
   {
    "duration": 10,
    "start_time": "2023-02-27T11:55:31.072Z"
   },
   {
    "duration": 15,
    "start_time": "2023-02-27T12:48:22.322Z"
   },
   {
    "duration": 40,
    "start_time": "2023-02-27T13:38:11.829Z"
   },
   {
    "duration": 171,
    "start_time": "2023-02-27T13:38:43.479Z"
   },
   {
    "duration": 29,
    "start_time": "2023-02-27T13:41:32.709Z"
   },
   {
    "duration": 1919,
    "start_time": "2023-02-27T13:43:07.086Z"
   },
   {
    "duration": 1973,
    "start_time": "2023-02-27T13:46:10.611Z"
   },
   {
    "duration": 1846,
    "start_time": "2023-02-27T13:47:13.306Z"
   },
   {
    "duration": 1828,
    "start_time": "2023-02-27T13:48:12.517Z"
   },
   {
    "duration": 1907,
    "start_time": "2023-02-27T13:48:25.127Z"
   },
   {
    "duration": 1802,
    "start_time": "2023-02-27T13:48:32.548Z"
   },
   {
    "duration": 1718,
    "start_time": "2023-02-27T13:49:17.216Z"
   },
   {
    "duration": 3658,
    "start_time": "2023-02-27T13:49:25.589Z"
   },
   {
    "duration": 4496,
    "start_time": "2023-02-27T13:49:46.082Z"
   },
   {
    "duration": 491,
    "start_time": "2023-02-27T13:52:24.539Z"
   },
   {
    "duration": 4403,
    "start_time": "2023-02-27T13:52:37.228Z"
   },
   {
    "duration": 19,
    "start_time": "2023-02-27T13:57:31.899Z"
   },
   {
    "duration": 18,
    "start_time": "2023-02-27T13:57:39.327Z"
   },
   {
    "duration": 2082,
    "start_time": "2023-02-27T13:57:50.576Z"
   },
   {
    "duration": 3235,
    "start_time": "2023-02-27T14:00:59.725Z"
   },
   {
    "duration": 4,
    "start_time": "2023-02-27T14:38:03.293Z"
   },
   {
    "duration": 30,
    "start_time": "2023-02-27T14:38:57.389Z"
   },
   {
    "duration": 33,
    "start_time": "2023-02-27T14:40:45.724Z"
   },
   {
    "duration": 10,
    "start_time": "2023-02-27T14:43:10.202Z"
   },
   {
    "duration": 11,
    "start_time": "2023-02-27T14:43:25.281Z"
   },
   {
    "duration": 31,
    "start_time": "2023-02-27T14:43:36.305Z"
   },
   {
    "duration": 10,
    "start_time": "2023-02-27T14:43:37.836Z"
   },
   {
    "duration": 33,
    "start_time": "2023-02-27T14:44:14.772Z"
   },
   {
    "duration": 28,
    "start_time": "2023-02-27T14:44:35.524Z"
   },
   {
    "duration": 11,
    "start_time": "2023-02-27T14:56:25.405Z"
   },
   {
    "duration": 4,
    "start_time": "2023-02-27T14:56:44.594Z"
   },
   {
    "duration": 33,
    "start_time": "2023-02-27T15:00:10.248Z"
   },
   {
    "duration": 33,
    "start_time": "2023-02-27T15:00:45.113Z"
   },
   {
    "duration": 25,
    "start_time": "2023-02-27T15:00:57.761Z"
   },
   {
    "duration": 23,
    "start_time": "2023-02-27T15:03:43.353Z"
   },
   {
    "duration": 178,
    "start_time": "2023-02-27T15:03:50.936Z"
   },
   {
    "duration": 30,
    "start_time": "2023-02-27T15:04:23.818Z"
   },
   {
    "duration": 3998,
    "start_time": "2023-02-27T15:05:58.322Z"
   },
   {
    "duration": 1842,
    "start_time": "2023-02-27T15:07:09.113Z"
   },
   {
    "duration": 29,
    "start_time": "2023-02-27T15:16:51.776Z"
   },
   {
    "duration": 62,
    "start_time": "2023-02-27T15:17:28.692Z"
   },
   {
    "duration": 52,
    "start_time": "2023-02-27T15:17:35.110Z"
   },
   {
    "duration": 34,
    "start_time": "2023-02-27T15:17:44.040Z"
   },
   {
    "duration": 21,
    "start_time": "2023-02-27T15:18:43.433Z"
   },
   {
    "duration": 23,
    "start_time": "2023-02-27T15:21:42.274Z"
   },
   {
    "duration": 112,
    "start_time": "2023-02-27T15:22:10.186Z"
   },
   {
    "duration": 150,
    "start_time": "2023-02-27T15:22:19.008Z"
   },
   {
    "duration": 183,
    "start_time": "2023-02-27T15:22:28.775Z"
   },
   {
    "duration": 110,
    "start_time": "2023-02-27T15:22:34.664Z"
   },
   {
    "duration": 2304,
    "start_time": "2023-02-27T15:27:58.053Z"
   },
   {
    "duration": 443,
    "start_time": "2023-02-27T15:28:10.912Z"
   },
   {
    "duration": 2247,
    "start_time": "2023-02-27T15:28:19.108Z"
   },
   {
    "duration": 4,
    "start_time": "2023-02-27T15:42:03.241Z"
   },
   {
    "duration": 40,
    "start_time": "2023-02-27T15:42:03.247Z"
   },
   {
    "duration": 13,
    "start_time": "2023-02-27T15:42:03.289Z"
   },
   {
    "duration": 14,
    "start_time": "2023-02-27T15:42:03.303Z"
   },
   {
    "duration": 22,
    "start_time": "2023-02-27T15:42:03.319Z"
   },
   {
    "duration": 12,
    "start_time": "2023-02-27T15:42:03.343Z"
   },
   {
    "duration": 31,
    "start_time": "2023-02-27T15:42:03.356Z"
   },
   {
    "duration": 5,
    "start_time": "2023-02-27T15:42:03.388Z"
   },
   {
    "duration": 10,
    "start_time": "2023-02-27T15:42:03.394Z"
   },
   {
    "duration": 18,
    "start_time": "2023-02-27T15:42:03.405Z"
   },
   {
    "duration": 6,
    "start_time": "2023-02-27T15:42:03.425Z"
   },
   {
    "duration": 9,
    "start_time": "2023-02-27T15:42:03.433Z"
   },
   {
    "duration": 7,
    "start_time": "2023-02-27T15:42:03.444Z"
   },
   {
    "duration": 2,
    "start_time": "2023-02-27T15:42:03.454Z"
   },
   {
    "duration": 13,
    "start_time": "2023-02-27T15:42:03.458Z"
   },
   {
    "duration": 2,
    "start_time": "2023-02-27T15:42:03.473Z"
   },
   {
    "duration": 25,
    "start_time": "2023-02-27T15:42:03.476Z"
   },
   {
    "duration": 19,
    "start_time": "2023-02-27T15:42:03.503Z"
   },
   {
    "duration": 59,
    "start_time": "2023-02-27T15:42:03.523Z"
   },
   {
    "duration": 21,
    "start_time": "2023-02-27T15:42:03.583Z"
   },
   {
    "duration": 0,
    "start_time": "2023-02-27T15:42:03.605Z"
   },
   {
    "duration": 0,
    "start_time": "2023-02-27T15:42:03.606Z"
   },
   {
    "duration": 0,
    "start_time": "2023-02-27T15:42:03.607Z"
   },
   {
    "duration": 0,
    "start_time": "2023-02-27T15:42:03.609Z"
   },
   {
    "duration": 0,
    "start_time": "2023-02-27T15:42:03.610Z"
   },
   {
    "duration": 0,
    "start_time": "2023-02-27T15:42:03.611Z"
   },
   {
    "duration": 0,
    "start_time": "2023-02-27T15:42:03.612Z"
   },
   {
    "duration": 0,
    "start_time": "2023-02-27T15:42:03.613Z"
   },
   {
    "duration": 0,
    "start_time": "2023-02-27T15:42:03.614Z"
   },
   {
    "duration": 0,
    "start_time": "2023-02-27T15:42:03.615Z"
   },
   {
    "duration": 1802,
    "start_time": "2023-02-27T15:43:00.254Z"
   },
   {
    "duration": 33,
    "start_time": "2023-02-27T15:43:07.408Z"
   },
   {
    "duration": 101,
    "start_time": "2023-02-27T15:43:11.853Z"
   },
   {
    "duration": 11,
    "start_time": "2023-02-27T15:43:14.242Z"
   },
   {
    "duration": 18,
    "start_time": "2023-02-27T15:43:23.368Z"
   },
   {
    "duration": 10,
    "start_time": "2023-02-27T15:43:31.307Z"
   },
   {
    "duration": 25,
    "start_time": "2023-02-27T15:44:07.360Z"
   },
   {
    "duration": 1059,
    "start_time": "2023-02-27T15:56:39.985Z"
   },
   {
    "duration": 38,
    "start_time": "2023-02-27T15:56:42.633Z"
   },
   {
    "duration": 13,
    "start_time": "2023-02-27T15:56:43.327Z"
   },
   {
    "duration": 19,
    "start_time": "2023-02-27T15:56:44.155Z"
   },
   {
    "duration": 13,
    "start_time": "2023-02-27T15:56:44.838Z"
   },
   {
    "duration": 3,
    "start_time": "2023-02-27T15:56:45.315Z"
   },
   {
    "duration": 13,
    "start_time": "2023-02-27T15:56:45.772Z"
   },
   {
    "duration": 4,
    "start_time": "2023-02-27T15:56:46.917Z"
   },
   {
    "duration": 5,
    "start_time": "2023-02-27T15:56:48.377Z"
   },
   {
    "duration": 12,
    "start_time": "2023-02-27T15:56:48.786Z"
   },
   {
    "duration": 4,
    "start_time": "2023-02-27T15:56:49.167Z"
   },
   {
    "duration": 5,
    "start_time": "2023-02-27T15:56:50.326Z"
   },
   {
    "duration": 7,
    "start_time": "2023-02-27T15:56:51.566Z"
   },
   {
    "duration": 2,
    "start_time": "2023-02-27T15:56:54.506Z"
   },
   {
    "duration": 12,
    "start_time": "2023-02-27T15:56:55.897Z"
   },
   {
    "duration": 3,
    "start_time": "2023-02-27T15:56:56.934Z"
   },
   {
    "duration": 17,
    "start_time": "2023-02-27T15:56:57.955Z"
   },
   {
    "duration": 17,
    "start_time": "2023-02-27T15:57:01.625Z"
   },
   {
    "duration": 37,
    "start_time": "2023-02-27T15:57:12.838Z"
   },
   {
    "duration": 122,
    "start_time": "2023-02-27T15:57:15.780Z"
   },
   {
    "duration": 40,
    "start_time": "2023-02-27T15:59:45.572Z"
   },
   {
    "duration": 176,
    "start_time": "2023-02-27T15:59:50.069Z"
   },
   {
    "duration": 35,
    "start_time": "2023-02-27T16:00:12.592Z"
   },
   {
    "duration": 4197,
    "start_time": "2023-02-27T16:00:36.370Z"
   },
   {
    "duration": 1700,
    "start_time": "2023-02-27T16:01:00.155Z"
   },
   {
    "duration": 1172,
    "start_time": "2023-02-27T16:03:37.365Z"
   },
   {
    "duration": 35,
    "start_time": "2023-02-27T16:03:38.538Z"
   },
   {
    "duration": 12,
    "start_time": "2023-02-27T16:03:38.575Z"
   },
   {
    "duration": 16,
    "start_time": "2023-02-27T16:03:38.588Z"
   },
   {
    "duration": 13,
    "start_time": "2023-02-27T16:03:38.607Z"
   },
   {
    "duration": 3,
    "start_time": "2023-02-27T16:03:38.622Z"
   },
   {
    "duration": 31,
    "start_time": "2023-02-27T16:03:38.626Z"
   },
   {
    "duration": 5,
    "start_time": "2023-02-27T16:03:38.658Z"
   },
   {
    "duration": 6,
    "start_time": "2023-02-27T16:03:38.664Z"
   },
   {
    "duration": 14,
    "start_time": "2023-02-27T16:03:38.672Z"
   },
   {
    "duration": 8,
    "start_time": "2023-02-27T16:03:38.687Z"
   },
   {
    "duration": 36,
    "start_time": "2023-02-27T16:03:38.696Z"
   },
   {
    "duration": 10,
    "start_time": "2023-02-27T16:03:38.733Z"
   },
   {
    "duration": 3,
    "start_time": "2023-02-27T16:03:38.746Z"
   },
   {
    "duration": 21,
    "start_time": "2023-02-27T16:03:38.750Z"
   },
   {
    "duration": 3,
    "start_time": "2023-02-27T16:03:38.772Z"
   },
   {
    "duration": 25,
    "start_time": "2023-02-27T16:03:38.776Z"
   },
   {
    "duration": 21,
    "start_time": "2023-02-27T16:03:38.802Z"
   },
   {
    "duration": 59,
    "start_time": "2023-02-27T16:03:38.825Z"
   },
   {
    "duration": 182,
    "start_time": "2023-02-27T16:03:38.885Z"
   },
   {
    "duration": 32,
    "start_time": "2023-02-27T16:03:39.069Z"
   },
   {
    "duration": 4101,
    "start_time": "2023-02-27T16:03:39.103Z"
   },
   {
    "duration": 3172,
    "start_time": "2023-02-27T16:03:46.887Z"
   },
   {
    "duration": 49,
    "start_time": "2023-02-27T16:03:55.213Z"
   },
   {
    "duration": 31,
    "start_time": "2023-02-27T16:04:00.670Z"
   },
   {
    "duration": 176,
    "start_time": "2023-02-27T16:04:03.581Z"
   },
   {
    "duration": 643,
    "start_time": "2023-02-27T16:04:58.894Z"
   },
   {
    "duration": 146,
    "start_time": "2023-02-27T16:05:32.816Z"
   },
   {
    "duration": 681,
    "start_time": "2023-02-27T16:05:53.603Z"
   },
   {
    "duration": 710,
    "start_time": "2023-02-27T16:06:06.352Z"
   },
   {
    "duration": 833,
    "start_time": "2023-02-27T16:06:17.254Z"
   },
   {
    "duration": 731,
    "start_time": "2023-02-27T16:07:25.959Z"
   },
   {
    "duration": 156,
    "start_time": "2023-02-27T16:07:31.173Z"
   },
   {
    "duration": 747,
    "start_time": "2023-02-27T16:07:34.999Z"
   },
   {
    "duration": 105,
    "start_time": "2023-02-27T16:07:48.888Z"
   },
   {
    "duration": 18,
    "start_time": "2023-02-27T16:08:20.660Z"
   },
   {
    "duration": 22,
    "start_time": "2023-02-27T16:10:12.525Z"
   },
   {
    "duration": 23,
    "start_time": "2023-02-27T16:11:07.477Z"
   },
   {
    "duration": 21,
    "start_time": "2023-02-27T16:11:19.227Z"
   },
   {
    "duration": 20,
    "start_time": "2023-02-27T16:12:10.685Z"
   },
   {
    "duration": 17,
    "start_time": "2023-02-27T16:12:16.014Z"
   },
   {
    "duration": 2126,
    "start_time": "2023-02-27T16:12:40.030Z"
   },
   {
    "duration": 1244,
    "start_time": "2023-02-27T21:23:57.280Z"
   },
   {
    "duration": 283,
    "start_time": "2023-02-27T21:23:58.526Z"
   },
   {
    "duration": 19,
    "start_time": "2023-02-27T21:23:58.811Z"
   },
   {
    "duration": 26,
    "start_time": "2023-02-27T21:23:58.832Z"
   },
   {
    "duration": 29,
    "start_time": "2023-02-27T21:23:58.865Z"
   },
   {
    "duration": 21,
    "start_time": "2023-02-27T21:23:58.896Z"
   },
   {
    "duration": 18,
    "start_time": "2023-02-27T21:23:58.919Z"
   },
   {
    "duration": 6,
    "start_time": "2023-02-27T21:23:58.939Z"
   },
   {
    "duration": 57,
    "start_time": "2023-02-27T21:23:58.947Z"
   },
   {
    "duration": 16,
    "start_time": "2023-02-27T21:23:59.007Z"
   },
   {
    "duration": 8,
    "start_time": "2023-02-27T21:23:59.025Z"
   },
   {
    "duration": 11,
    "start_time": "2023-02-27T21:23:59.036Z"
   },
   {
    "duration": 75,
    "start_time": "2023-02-27T21:23:59.052Z"
   },
   {
    "duration": 4,
    "start_time": "2023-02-27T21:23:59.131Z"
   },
   {
    "duration": 22,
    "start_time": "2023-02-27T21:23:59.137Z"
   },
   {
    "duration": 41,
    "start_time": "2023-02-27T21:23:59.166Z"
   },
   {
    "duration": 23,
    "start_time": "2023-02-27T21:23:59.209Z"
   },
   {
    "duration": 29,
    "start_time": "2023-02-27T21:23:59.234Z"
   },
   {
    "duration": 70,
    "start_time": "2023-02-27T21:23:59.264Z"
   },
   {
    "duration": 270,
    "start_time": "2023-02-27T21:23:59.337Z"
   },
   {
    "duration": 49,
    "start_time": "2023-02-27T21:23:59.609Z"
   },
   {
    "duration": 4972,
    "start_time": "2023-02-27T21:23:59.665Z"
   },
   {
    "duration": 3212,
    "start_time": "2023-02-27T21:24:04.640Z"
   },
   {
    "duration": 143,
    "start_time": "2023-02-27T21:24:07.863Z"
   },
   {
    "duration": 7,
    "start_time": "2023-02-27T21:24:08.009Z"
   },
   {
    "duration": 6,
    "start_time": "2023-02-27T21:24:08.018Z"
   },
   {
    "duration": 6,
    "start_time": "2023-02-27T21:24:08.026Z"
   },
   {
    "duration": 44,
    "start_time": "2023-02-27T21:24:08.034Z"
   },
   {
    "duration": 307,
    "start_time": "2023-02-27T21:24:08.084Z"
   },
   {
    "duration": 1034,
    "start_time": "2023-02-27T21:24:08.400Z"
   },
   {
    "duration": 4767,
    "start_time": "2023-02-27T21:24:15.311Z"
   },
   {
    "duration": 179,
    "start_time": "2023-02-27T21:38:15.132Z"
   },
   {
    "duration": 85,
    "start_time": "2023-02-27T21:38:53.204Z"
   },
   {
    "duration": 90,
    "start_time": "2023-02-27T21:40:35.202Z"
   },
   {
    "duration": 122,
    "start_time": "2023-02-27T21:40:55.437Z"
   },
   {
    "duration": 36,
    "start_time": "2023-02-27T21:41:04.176Z"
   },
   {
    "duration": 283,
    "start_time": "2023-02-27T21:41:15.630Z"
   },
   {
    "duration": 1060,
    "start_time": "2023-03-01T19:56:26.543Z"
   },
   {
    "duration": 90,
    "start_time": "2023-03-01T19:56:27.605Z"
   },
   {
    "duration": 12,
    "start_time": "2023-03-01T19:56:27.696Z"
   },
   {
    "duration": 32,
    "start_time": "2023-03-01T19:56:27.709Z"
   },
   {
    "duration": 33,
    "start_time": "2023-03-01T19:56:27.743Z"
   },
   {
    "duration": 13,
    "start_time": "2023-03-01T19:56:27.777Z"
   },
   {
    "duration": 30,
    "start_time": "2023-03-01T19:56:27.791Z"
   },
   {
    "duration": 17,
    "start_time": "2023-03-01T19:56:27.823Z"
   },
   {
    "duration": 27,
    "start_time": "2023-03-01T19:56:27.842Z"
   },
   {
    "duration": 30,
    "start_time": "2023-03-01T19:56:27.871Z"
   },
   {
    "duration": 30,
    "start_time": "2023-03-01T19:56:27.903Z"
   },
   {
    "duration": 21,
    "start_time": "2023-03-01T19:56:27.935Z"
   },
   {
    "duration": 24,
    "start_time": "2023-03-01T19:56:27.958Z"
   },
   {
    "duration": 19,
    "start_time": "2023-03-01T19:56:27.984Z"
   },
   {
    "duration": 37,
    "start_time": "2023-03-01T19:56:28.004Z"
   },
   {
    "duration": 23,
    "start_time": "2023-03-01T19:56:28.043Z"
   },
   {
    "duration": 28,
    "start_time": "2023-03-01T19:56:28.068Z"
   },
   {
    "duration": 29,
    "start_time": "2023-03-01T19:56:28.097Z"
   },
   {
    "duration": 71,
    "start_time": "2023-03-01T19:56:28.128Z"
   },
   {
    "duration": 168,
    "start_time": "2023-03-01T19:56:28.200Z"
   },
   {
    "duration": 28,
    "start_time": "2023-03-01T19:56:28.370Z"
   },
   {
    "duration": 3777,
    "start_time": "2023-03-01T19:56:28.399Z"
   },
   {
    "duration": 3074,
    "start_time": "2023-03-01T19:56:32.177Z"
   },
   {
    "duration": 114,
    "start_time": "2023-03-01T19:56:35.259Z"
   },
   {
    "duration": 6,
    "start_time": "2023-03-01T19:56:35.376Z"
   },
   {
    "duration": 17,
    "start_time": "2023-03-01T19:56:35.384Z"
   },
   {
    "duration": 7,
    "start_time": "2023-03-01T19:56:35.403Z"
   },
   {
    "duration": 57,
    "start_time": "2023-03-01T19:56:35.412Z"
   },
   {
    "duration": 192,
    "start_time": "2023-03-01T19:56:35.471Z"
   },
   {
    "duration": 854,
    "start_time": "2023-03-01T19:56:35.665Z"
   },
   {
    "duration": 3842,
    "start_time": "2023-03-01T19:56:36.520Z"
   },
   {
    "duration": 124,
    "start_time": "2023-03-01T19:56:40.364Z"
   },
   {
    "duration": 213,
    "start_time": "2023-03-01T19:56:40.489Z"
   },
   {
    "duration": 1142,
    "start_time": "2023-03-03T08:25:19.308Z"
   },
   {
    "duration": 81,
    "start_time": "2023-03-03T08:25:23.869Z"
   },
   {
    "duration": 13,
    "start_time": "2023-03-03T08:25:24.270Z"
   },
   {
    "duration": 19,
    "start_time": "2023-03-03T08:25:24.736Z"
   },
   {
    "duration": 15,
    "start_time": "2023-03-03T08:25:25.381Z"
   },
   {
    "duration": 3,
    "start_time": "2023-03-03T08:25:25.800Z"
   },
   {
    "duration": 12,
    "start_time": "2023-03-03T08:25:26.429Z"
   },
   {
    "duration": 5,
    "start_time": "2023-03-03T08:25:28.842Z"
   },
   {
    "duration": 4,
    "start_time": "2023-03-03T08:25:33.087Z"
   },
   {
    "duration": 10,
    "start_time": "2023-03-03T08:25:33.669Z"
   },
   {
    "duration": 6,
    "start_time": "2023-03-03T08:25:34.541Z"
   },
   {
    "duration": 7,
    "start_time": "2023-03-03T08:25:36.788Z"
   },
   {
    "duration": 10,
    "start_time": "2023-03-03T08:25:38.577Z"
   },
   {
    "duration": 12,
    "start_time": "2023-03-03T08:27:31.196Z"
   },
   {
    "duration": 17,
    "start_time": "2023-03-03T08:27:34.793Z"
   },
   {
    "duration": 21,
    "start_time": "2023-03-03T08:27:41.029Z"
   },
   {
    "duration": 33,
    "start_time": "2023-03-03T08:27:48.005Z"
   },
   {
    "duration": 162,
    "start_time": "2023-03-03T08:27:56.620Z"
   },
   {
    "duration": 168,
    "start_time": "2023-03-03T08:28:04.604Z"
   },
   {
    "duration": 34,
    "start_time": "2023-03-03T08:31:21.892Z"
   },
   {
    "duration": 4060,
    "start_time": "2023-03-03T08:32:40.339Z"
   },
   {
    "duration": 3839,
    "start_time": "2023-03-03T08:37:46.371Z"
   },
   {
    "duration": 1137,
    "start_time": "2023-03-03T08:37:55.079Z"
   },
   {
    "duration": 212,
    "start_time": "2023-03-03T09:06:16.086Z"
   },
   {
    "duration": 3820,
    "start_time": "2023-03-03T09:07:28.365Z"
   },
   {
    "duration": 3812,
    "start_time": "2023-03-03T09:07:55.796Z"
   },
   {
    "duration": 174,
    "start_time": "2023-03-03T09:08:11.594Z"
   },
   {
    "duration": 165,
    "start_time": "2023-03-03T09:08:28.254Z"
   },
   {
    "duration": 181,
    "start_time": "2023-03-03T09:08:39.035Z"
   },
   {
    "duration": 34,
    "start_time": "2023-03-03T09:09:09.169Z"
   },
   {
    "duration": 3761,
    "start_time": "2023-03-03T09:09:21.213Z"
   },
   {
    "duration": 3935,
    "start_time": "2023-03-03T09:10:53.622Z"
   },
   {
    "duration": 1019,
    "start_time": "2023-03-03T09:11:29.298Z"
   },
   {
    "duration": 2693,
    "start_time": "2023-03-03T09:11:44.721Z"
   },
   {
    "duration": 1160,
    "start_time": "2023-03-03T09:12:30.554Z"
   },
   {
    "duration": 4,
    "start_time": "2023-03-03T09:15:31.317Z"
   },
   {
    "duration": 9,
    "start_time": "2023-03-03T09:15:39.194Z"
   },
   {
    "duration": 6,
    "start_time": "2023-03-03T09:15:49.263Z"
   },
   {
    "duration": 8,
    "start_time": "2023-03-03T09:16:10.765Z"
   },
   {
    "duration": 7,
    "start_time": "2023-03-03T09:16:21.736Z"
   },
   {
    "duration": 8,
    "start_time": "2023-03-03T09:16:32.808Z"
   },
   {
    "duration": 2,
    "start_time": "2023-03-03T09:16:42.493Z"
   },
   {
    "duration": 110,
    "start_time": "2023-03-03T09:17:34.472Z"
   },
   {
    "duration": 17,
    "start_time": "2023-03-03T09:31:56.133Z"
   },
   {
    "duration": 6,
    "start_time": "2023-03-03T09:54:20.563Z"
   },
   {
    "duration": 6,
    "start_time": "2023-03-03T09:55:05.077Z"
   },
   {
    "duration": 6,
    "start_time": "2023-03-03T09:55:19.916Z"
   },
   {
    "duration": 11,
    "start_time": "2023-03-03T10:16:47.080Z"
   },
   {
    "duration": 11,
    "start_time": "2023-03-03T10:16:54.406Z"
   },
   {
    "duration": 20,
    "start_time": "2023-03-03T10:29:36.426Z"
   },
   {
    "duration": 4933,
    "start_time": "2023-03-03T10:43:36.181Z"
   },
   {
    "duration": 1603,
    "start_time": "2023-03-03T10:44:11.823Z"
   },
   {
    "duration": 33,
    "start_time": "2023-03-03T10:47:47.686Z"
   },
   {
    "duration": 6,
    "start_time": "2023-03-03T10:47:53.625Z"
   },
   {
    "duration": 4,
    "start_time": "2023-03-03T10:48:43.083Z"
   },
   {
    "duration": 701,
    "start_time": "2023-03-03T10:49:10.285Z"
   },
   {
    "duration": 153,
    "start_time": "2023-03-03T10:49:15.719Z"
   },
   {
    "duration": 733,
    "start_time": "2023-03-03T10:49:20.564Z"
   },
   {
    "duration": 687,
    "start_time": "2023-03-03T10:50:22.330Z"
   },
   {
    "duration": 704,
    "start_time": "2023-03-03T10:50:29.966Z"
   },
   {
    "duration": 8226,
    "start_time": "2023-03-03T10:51:19.881Z"
   },
   {
    "duration": 12980,
    "start_time": "2023-03-03T10:51:49.744Z"
   },
   {
    "duration": 4,
    "start_time": "2023-03-03T10:52:30.737Z"
   },
   {
    "duration": 141,
    "start_time": "2023-03-03T10:52:38.226Z"
   },
   {
    "duration": 145,
    "start_time": "2023-03-03T10:52:42.922Z"
   },
   {
    "duration": 140,
    "start_time": "2023-03-03T10:52:54.741Z"
   },
   {
    "duration": 145,
    "start_time": "2023-03-03T10:53:13.165Z"
   },
   {
    "duration": 143,
    "start_time": "2023-03-03T10:53:18.504Z"
   },
   {
    "duration": 147,
    "start_time": "2023-03-03T10:53:30.295Z"
   },
   {
    "duration": 12448,
    "start_time": "2023-03-03T10:54:22.103Z"
   },
   {
    "duration": 143,
    "start_time": "2023-03-03T12:01:43.821Z"
   },
   {
    "duration": 12029,
    "start_time": "2023-03-03T12:01:45.266Z"
   },
   {
    "duration": 30,
    "start_time": "2023-03-03T12:02:32.432Z"
   },
   {
    "duration": 10,
    "start_time": "2023-03-03T12:02:45.733Z"
   },
   {
    "duration": 21,
    "start_time": "2023-03-03T12:02:51.581Z"
   },
   {
    "duration": 16,
    "start_time": "2023-03-03T12:03:02.057Z"
   },
   {
    "duration": 99,
    "start_time": "2023-03-03T12:03:35.724Z"
   },
   {
    "duration": 135,
    "start_time": "2023-03-03T12:03:42.482Z"
   },
   {
    "duration": 27,
    "start_time": "2023-03-03T12:03:52.902Z"
   },
   {
    "duration": 145,
    "start_time": "2023-03-03T12:04:18.212Z"
   },
   {
    "duration": 1825,
    "start_time": "2023-03-03T12:04:34.190Z"
   },
   {
    "duration": 32,
    "start_time": "2023-03-03T12:04:50.199Z"
   },
   {
    "duration": 247,
    "start_time": "2023-03-03T12:04:55.281Z"
   },
   {
    "duration": 227,
    "start_time": "2023-03-03T12:05:33.826Z"
   },
   {
    "duration": 226,
    "start_time": "2023-03-03T12:06:40.410Z"
   },
   {
    "duration": 248,
    "start_time": "2023-03-03T12:06:49.047Z"
   },
   {
    "duration": 60,
    "start_time": "2023-03-03T12:07:03.460Z"
   },
   {
    "duration": 71,
    "start_time": "2023-03-03T12:36:07.181Z"
   },
   {
    "duration": 152,
    "start_time": "2023-03-03T12:36:25.282Z"
   },
   {
    "duration": 168,
    "start_time": "2023-03-03T12:46:02.277Z"
   },
   {
    "duration": 169,
    "start_time": "2023-03-03T12:46:14.783Z"
   },
   {
    "duration": 156,
    "start_time": "2023-03-03T12:46:36.865Z"
   },
   {
    "duration": 121,
    "start_time": "2023-03-03T12:47:52.652Z"
   },
   {
    "duration": 87,
    "start_time": "2023-03-03T12:47:59.025Z"
   },
   {
    "duration": 135,
    "start_time": "2023-03-03T12:48:03.281Z"
   },
   {
    "duration": 124,
    "start_time": "2023-03-03T12:48:13.117Z"
   },
   {
    "duration": 116,
    "start_time": "2023-03-03T12:48:29.762Z"
   },
   {
    "duration": 123,
    "start_time": "2023-03-03T12:49:12.819Z"
   },
   {
    "duration": 122,
    "start_time": "2023-03-03T12:49:18.285Z"
   },
   {
    "duration": 114,
    "start_time": "2023-03-03T12:50:30.210Z"
   },
   {
    "duration": 154,
    "start_time": "2023-03-03T12:50:45.017Z"
   },
   {
    "duration": 136,
    "start_time": "2023-03-03T13:01:28.377Z"
   },
   {
    "duration": 137,
    "start_time": "2023-03-03T13:01:35.607Z"
   },
   {
    "duration": 129,
    "start_time": "2023-03-03T13:01:47.239Z"
   },
   {
    "duration": 160,
    "start_time": "2023-03-03T13:02:00.927Z"
   },
   {
    "duration": 133,
    "start_time": "2023-03-03T13:02:10.421Z"
   },
   {
    "duration": 143,
    "start_time": "2023-03-03T13:02:15.905Z"
   },
   {
    "duration": 4,
    "start_time": "2023-03-03T13:03:14.946Z"
   },
   {
    "duration": 10,
    "start_time": "2023-03-03T13:03:28.717Z"
   },
   {
    "duration": 496,
    "start_time": "2023-03-03T13:03:46.737Z"
   },
   {
    "duration": 103,
    "start_time": "2023-03-03T13:03:58.497Z"
   },
   {
    "duration": 102,
    "start_time": "2023-03-03T13:04:08.005Z"
   },
   {
    "duration": 165,
    "start_time": "2023-03-03T13:04:20.897Z"
   },
   {
    "duration": 105,
    "start_time": "2023-03-03T13:04:57.884Z"
   },
   {
    "duration": 107,
    "start_time": "2023-03-03T13:05:57.808Z"
   },
   {
    "duration": 113,
    "start_time": "2023-03-03T13:06:08.641Z"
   },
   {
    "duration": 122,
    "start_time": "2023-03-03T13:06:39.388Z"
   },
   {
    "duration": 118,
    "start_time": "2023-03-03T13:06:52.093Z"
   },
   {
    "duration": 130,
    "start_time": "2023-03-03T13:10:38.337Z"
   },
   {
    "duration": 113,
    "start_time": "2023-03-03T13:10:53.696Z"
   },
   {
    "duration": 109,
    "start_time": "2023-03-03T13:23:09.410Z"
   },
   {
    "duration": 118,
    "start_time": "2023-03-03T13:23:12.185Z"
   },
   {
    "duration": 16,
    "start_time": "2023-03-03T13:29:02.446Z"
   },
   {
    "duration": 9,
    "start_time": "2023-03-03T13:29:18.777Z"
   },
   {
    "duration": 13,
    "start_time": "2023-03-03T13:29:23.088Z"
   },
   {
    "duration": 149,
    "start_time": "2023-03-03T13:30:39.591Z"
   },
   {
    "duration": 17,
    "start_time": "2023-03-03T13:30:58.626Z"
   },
   {
    "duration": 11948,
    "start_time": "2023-03-03T13:31:37.605Z"
   },
   {
    "duration": 41,
    "start_time": "2023-03-03T13:32:42.361Z"
   },
   {
    "duration": 4,
    "start_time": "2023-03-03T13:33:03.197Z"
   },
   {
    "duration": 20,
    "start_time": "2023-03-03T13:33:30.106Z"
   },
   {
    "duration": 139,
    "start_time": "2023-03-03T13:33:52.327Z"
   },
   {
    "duration": 12105,
    "start_time": "2023-03-03T13:34:10.502Z"
   },
   {
    "duration": 227,
    "start_time": "2023-03-03T13:34:41.741Z"
   },
   {
    "duration": 20,
    "start_time": "2023-03-03T13:34:59.365Z"
   },
   {
    "duration": 17,
    "start_time": "2023-03-03T13:44:08.257Z"
   },
   {
    "duration": 211,
    "start_time": "2023-03-03T13:45:42.835Z"
   },
   {
    "duration": 214,
    "start_time": "2023-03-03T13:45:48.747Z"
   },
   {
    "duration": 76,
    "start_time": "2023-03-03T13:46:04.047Z"
   },
   {
    "duration": 128,
    "start_time": "2023-03-03T13:46:27.029Z"
   },
   {
    "duration": 160,
    "start_time": "2023-03-03T13:46:48.203Z"
   },
   {
    "duration": 134,
    "start_time": "2023-03-03T13:47:03.295Z"
   },
   {
    "duration": 117,
    "start_time": "2023-03-03T13:49:03.407Z"
   },
   {
    "duration": 225,
    "start_time": "2023-03-03T14:30:13.051Z"
   },
   {
    "duration": 4,
    "start_time": "2023-03-03T14:30:33.888Z"
   },
   {
    "duration": 123,
    "start_time": "2023-03-03T14:30:51.196Z"
   },
   {
    "duration": 13,
    "start_time": "2023-03-03T14:34:40.256Z"
   },
   {
    "duration": 74,
    "start_time": "2023-03-03T14:44:03.415Z"
   },
   {
    "duration": 78,
    "start_time": "2023-03-03T14:44:21.529Z"
   },
   {
    "duration": 140,
    "start_time": "2023-03-03T14:44:42.787Z"
   },
   {
    "duration": 87,
    "start_time": "2023-03-03T14:45:59.865Z"
   },
   {
    "duration": 83,
    "start_time": "2023-03-03T14:46:42.000Z"
   },
   {
    "duration": 72,
    "start_time": "2023-03-03T14:46:58.139Z"
   },
   {
    "duration": 37,
    "start_time": "2023-03-03T14:48:11.227Z"
   },
   {
    "duration": 38,
    "start_time": "2023-03-03T14:48:27.128Z"
   },
   {
    "duration": 36,
    "start_time": "2023-03-03T14:48:37.265Z"
   },
   {
    "duration": 30,
    "start_time": "2023-03-03T14:49:35.612Z"
   },
   {
    "duration": 24,
    "start_time": "2023-03-03T14:49:44.052Z"
   },
   {
    "duration": 328,
    "start_time": "2023-03-03T14:50:03.736Z"
   },
   {
    "duration": 324,
    "start_time": "2023-03-03T14:50:20.825Z"
   },
   {
    "duration": 405,
    "start_time": "2023-03-03T14:50:52.164Z"
   },
   {
    "duration": 502,
    "start_time": "2023-03-03T15:41:35.797Z"
   },
   {
    "duration": 448,
    "start_time": "2023-03-03T15:41:40.197Z"
   },
   {
    "duration": 424,
    "start_time": "2023-03-03T15:42:29.405Z"
   },
   {
    "duration": 535,
    "start_time": "2023-03-03T15:43:04.071Z"
   },
   {
    "duration": 537,
    "start_time": "2023-03-03T15:43:28.773Z"
   },
   {
    "duration": 500,
    "start_time": "2023-03-03T15:44:27.518Z"
   },
   {
    "duration": 441,
    "start_time": "2023-03-03T15:44:48.882Z"
   },
   {
    "duration": 443,
    "start_time": "2023-03-03T15:45:08.996Z"
   },
   {
    "duration": 416,
    "start_time": "2023-03-03T15:45:17.971Z"
   },
   {
    "duration": 415,
    "start_time": "2023-03-03T15:45:28.203Z"
   },
   {
    "duration": 1095,
    "start_time": "2023-03-03T15:45:37.212Z"
   },
   {
    "duration": 39,
    "start_time": "2023-03-03T15:45:38.309Z"
   },
   {
    "duration": 12,
    "start_time": "2023-03-03T15:45:38.350Z"
   },
   {
    "duration": 20,
    "start_time": "2023-03-03T15:45:38.364Z"
   },
   {
    "duration": 15,
    "start_time": "2023-03-03T15:45:38.386Z"
   },
   {
    "duration": 14,
    "start_time": "2023-03-03T15:45:38.403Z"
   },
   {
    "duration": 17,
    "start_time": "2023-03-03T15:45:38.418Z"
   },
   {
    "duration": 5,
    "start_time": "2023-03-03T15:45:38.436Z"
   },
   {
    "duration": 5,
    "start_time": "2023-03-03T15:45:38.442Z"
   },
   {
    "duration": 13,
    "start_time": "2023-03-03T15:45:38.449Z"
   },
   {
    "duration": 12,
    "start_time": "2023-03-03T15:45:38.464Z"
   },
   {
    "duration": 14,
    "start_time": "2023-03-03T15:45:38.477Z"
   },
   {
    "duration": 14,
    "start_time": "2023-03-03T15:45:38.493Z"
   },
   {
    "duration": 2,
    "start_time": "2023-03-03T15:45:38.513Z"
   },
   {
    "duration": 23,
    "start_time": "2023-03-03T15:45:38.517Z"
   },
   {
    "duration": 5,
    "start_time": "2023-03-03T15:45:38.542Z"
   },
   {
    "duration": 14,
    "start_time": "2023-03-03T15:45:38.548Z"
   },
   {
    "duration": 35,
    "start_time": "2023-03-03T15:45:38.563Z"
   },
   {
    "duration": 12,
    "start_time": "2023-03-03T15:45:38.599Z"
   },
   {
    "duration": 29,
    "start_time": "2023-03-03T15:45:38.612Z"
   },
   {
    "duration": 100,
    "start_time": "2023-03-03T15:45:38.643Z"
   },
   {
    "duration": 0,
    "start_time": "2023-03-03T15:45:38.745Z"
   },
   {
    "duration": 0,
    "start_time": "2023-03-03T15:45:38.746Z"
   },
   {
    "duration": 0,
    "start_time": "2023-03-03T15:45:38.748Z"
   },
   {
    "duration": 0,
    "start_time": "2023-03-03T15:45:38.749Z"
   },
   {
    "duration": 0,
    "start_time": "2023-03-03T15:45:38.750Z"
   },
   {
    "duration": 0,
    "start_time": "2023-03-03T15:45:38.751Z"
   },
   {
    "duration": 0,
    "start_time": "2023-03-03T15:45:38.752Z"
   },
   {
    "duration": 0,
    "start_time": "2023-03-03T15:45:38.753Z"
   },
   {
    "duration": 0,
    "start_time": "2023-03-03T15:45:38.754Z"
   },
   {
    "duration": 0,
    "start_time": "2023-03-03T15:45:38.755Z"
   },
   {
    "duration": 0,
    "start_time": "2023-03-03T15:45:38.756Z"
   },
   {
    "duration": 0,
    "start_time": "2023-03-03T15:45:38.757Z"
   },
   {
    "duration": 0,
    "start_time": "2023-03-03T15:45:38.758Z"
   },
   {
    "duration": 0,
    "start_time": "2023-03-03T15:45:38.759Z"
   },
   {
    "duration": 0,
    "start_time": "2023-03-03T15:45:38.760Z"
   },
   {
    "duration": 0,
    "start_time": "2023-03-03T15:45:38.761Z"
   },
   {
    "duration": 0,
    "start_time": "2023-03-03T15:45:38.762Z"
   },
   {
    "duration": 0,
    "start_time": "2023-03-03T15:45:38.763Z"
   },
   {
    "duration": 12,
    "start_time": "2023-03-03T15:46:32.371Z"
   },
   {
    "duration": 18,
    "start_time": "2023-03-03T15:46:58.799Z"
   },
   {
    "duration": 1458,
    "start_time": "2023-03-03T15:47:31.733Z"
   },
   {
    "duration": 22,
    "start_time": "2023-03-03T15:48:28.424Z"
   },
   {
    "duration": 16,
    "start_time": "2023-03-03T15:48:38.213Z"
   },
   {
    "duration": 97,
    "start_time": "2023-03-03T15:48:52.278Z"
   },
   {
    "duration": 20,
    "start_time": "2023-03-03T15:49:11.370Z"
   },
   {
    "duration": 33,
    "start_time": "2023-03-03T15:50:34.598Z"
   },
   {
    "duration": 1122,
    "start_time": "2023-03-03T15:50:42.581Z"
   },
   {
    "duration": 39,
    "start_time": "2023-03-03T15:50:43.705Z"
   },
   {
    "duration": 13,
    "start_time": "2023-03-03T15:50:43.745Z"
   },
   {
    "duration": 18,
    "start_time": "2023-03-03T15:50:43.759Z"
   },
   {
    "duration": 14,
    "start_time": "2023-03-03T15:50:43.779Z"
   },
   {
    "duration": 5,
    "start_time": "2023-03-03T15:50:43.794Z"
   },
   {
    "duration": 23,
    "start_time": "2023-03-03T15:50:43.800Z"
   },
   {
    "duration": 4,
    "start_time": "2023-03-03T15:50:43.825Z"
   },
   {
    "duration": 11,
    "start_time": "2023-03-03T15:50:43.831Z"
   },
   {
    "duration": 16,
    "start_time": "2023-03-03T15:50:43.844Z"
   },
   {
    "duration": 6,
    "start_time": "2023-03-03T15:50:43.861Z"
   },
   {
    "duration": 9,
    "start_time": "2023-03-03T15:50:43.869Z"
   },
   {
    "duration": 10,
    "start_time": "2023-03-03T15:50:43.880Z"
   },
   {
    "duration": 20,
    "start_time": "2023-03-03T15:50:43.893Z"
   },
   {
    "duration": 12,
    "start_time": "2023-03-03T15:50:43.915Z"
   },
   {
    "duration": 3,
    "start_time": "2023-03-03T15:50:43.929Z"
   },
   {
    "duration": 5,
    "start_time": "2023-03-03T15:50:43.933Z"
   },
   {
    "duration": 21,
    "start_time": "2023-03-03T15:50:43.940Z"
   },
   {
    "duration": 11,
    "start_time": "2023-03-03T15:50:43.963Z"
   },
   {
    "duration": 42,
    "start_time": "2023-03-03T15:50:43.975Z"
   },
   {
    "duration": 42,
    "start_time": "2023-03-03T15:50:44.018Z"
   },
   {
    "duration": 15,
    "start_time": "2023-03-03T15:50:44.063Z"
   },
   {
    "duration": 179,
    "start_time": "2023-03-03T15:50:44.080Z"
   },
   {
    "duration": 24,
    "start_time": "2023-03-03T15:50:44.261Z"
   },
   {
    "duration": 12553,
    "start_time": "2023-03-03T15:50:44.287Z"
   },
   {
    "duration": 1277,
    "start_time": "2023-03-03T15:50:56.842Z"
   },
   {
    "duration": 203,
    "start_time": "2023-03-03T15:50:58.124Z"
   },
   {
    "duration": 5,
    "start_time": "2023-03-03T15:50:58.329Z"
   },
   {
    "duration": 9,
    "start_time": "2023-03-03T15:50:58.336Z"
   },
   {
    "duration": 23,
    "start_time": "2023-03-03T15:50:58.347Z"
   },
   {
    "duration": 54,
    "start_time": "2023-03-03T15:50:58.372Z"
   },
   {
    "duration": 313,
    "start_time": "2023-03-03T15:50:58.428Z"
   },
   {
    "duration": 12047,
    "start_time": "2023-03-03T15:50:58.742Z"
   },
   {
    "duration": 237,
    "start_time": "2023-03-03T15:51:10.791Z"
   },
   {
    "duration": 63,
    "start_time": "2023-03-03T15:51:11.030Z"
   },
   {
    "duration": 152,
    "start_time": "2023-03-03T15:51:11.094Z"
   },
   {
    "duration": 396,
    "start_time": "2023-03-03T15:51:11.248Z"
   },
   {
    "duration": 4,
    "start_time": "2023-03-03T15:51:11.646Z"
   },
   {
    "duration": 573,
    "start_time": "2023-03-03T15:51:11.652Z"
   },
   {
    "duration": 314,
    "start_time": "2023-03-03T15:56:12.734Z"
   },
   {
    "duration": 10,
    "start_time": "2023-03-03T15:57:25.441Z"
   },
   {
    "duration": 5,
    "start_time": "2023-03-03T15:57:49.782Z"
   },
   {
    "duration": 4,
    "start_time": "2023-03-03T15:57:57.319Z"
   },
   {
    "duration": 4,
    "start_time": "2023-03-03T15:58:10.679Z"
   },
   {
    "duration": 4,
    "start_time": "2023-03-03T15:58:34.329Z"
   },
   {
    "duration": 360,
    "start_time": "2023-03-03T16:47:03.933Z"
   },
   {
    "duration": 21,
    "start_time": "2023-03-03T16:48:22.617Z"
   },
   {
    "duration": 13,
    "start_time": "2023-03-03T17:15:31.036Z"
   },
   {
    "duration": 14,
    "start_time": "2023-03-03T17:15:43.107Z"
   },
   {
    "duration": 12,
    "start_time": "2023-03-03T17:16:45.576Z"
   },
   {
    "duration": 3,
    "start_time": "2023-03-03T17:16:49.339Z"
   },
   {
    "duration": 23,
    "start_time": "2023-03-03T17:16:50.394Z"
   },
   {
    "duration": 37,
    "start_time": "2023-03-03T17:17:02.712Z"
   },
   {
    "duration": 14,
    "start_time": "2023-03-03T17:17:12.204Z"
   },
   {
    "duration": 3,
    "start_time": "2023-03-03T17:17:30.484Z"
   },
   {
    "duration": 40,
    "start_time": "2023-03-03T17:17:39.789Z"
   },
   {
    "duration": 3,
    "start_time": "2023-03-03T17:18:18.366Z"
   },
   {
    "duration": 3,
    "start_time": "2023-03-03T17:18:26.197Z"
   },
   {
    "duration": 30,
    "start_time": "2023-03-03T17:18:26.982Z"
   },
   {
    "duration": 30,
    "start_time": "2023-03-03T17:18:42.670Z"
   },
   {
    "duration": 38,
    "start_time": "2023-03-03T17:18:59.940Z"
   },
   {
    "duration": 31,
    "start_time": "2023-03-03T17:20:08.301Z"
   },
   {
    "duration": 17,
    "start_time": "2023-03-03T17:20:29.942Z"
   },
   {
    "duration": 40,
    "start_time": "2023-03-03T17:20:53.405Z"
   },
   {
    "duration": 11,
    "start_time": "2023-03-03T17:21:05.886Z"
   },
   {
    "duration": 9,
    "start_time": "2023-03-03T17:21:26.634Z"
   },
   {
    "duration": 37,
    "start_time": "2023-03-03T17:21:51.988Z"
   },
   {
    "duration": 32,
    "start_time": "2023-03-03T17:22:44.201Z"
   },
   {
    "duration": 28,
    "start_time": "2023-03-03T17:23:30.943Z"
   },
   {
    "duration": 16,
    "start_time": "2023-03-03T17:26:20.474Z"
   },
   {
    "duration": 14,
    "start_time": "2023-03-03T17:26:44.837Z"
   },
   {
    "duration": 27,
    "start_time": "2023-03-03T17:27:00.590Z"
   },
   {
    "duration": 7,
    "start_time": "2023-03-03T17:27:26.687Z"
   },
   {
    "duration": 15,
    "start_time": "2023-03-03T17:27:42.531Z"
   },
   {
    "duration": 1139,
    "start_time": "2023-03-03T17:28:02.435Z"
   },
   {
    "duration": 41,
    "start_time": "2023-03-03T17:28:03.576Z"
   },
   {
    "duration": 15,
    "start_time": "2023-03-03T17:28:03.622Z"
   },
   {
    "duration": 23,
    "start_time": "2023-03-03T17:28:03.639Z"
   },
   {
    "duration": 15,
    "start_time": "2023-03-03T17:28:03.664Z"
   },
   {
    "duration": 5,
    "start_time": "2023-03-03T17:28:03.681Z"
   },
   {
    "duration": 36,
    "start_time": "2023-03-03T17:28:03.688Z"
   },
   {
    "duration": 10,
    "start_time": "2023-03-03T17:28:03.726Z"
   },
   {
    "duration": 7,
    "start_time": "2023-03-03T17:28:03.738Z"
   },
   {
    "duration": 21,
    "start_time": "2023-03-03T17:28:03.747Z"
   },
   {
    "duration": 9,
    "start_time": "2023-03-03T17:28:03.770Z"
   },
   {
    "duration": 8,
    "start_time": "2023-03-03T17:28:03.781Z"
   },
   {
    "duration": 32,
    "start_time": "2023-03-03T17:28:03.791Z"
   },
   {
    "duration": 4,
    "start_time": "2023-03-03T17:28:03.826Z"
   },
   {
    "duration": 6,
    "start_time": "2023-03-03T17:28:03.832Z"
   },
   {
    "duration": 14,
    "start_time": "2023-03-03T17:28:03.840Z"
   },
   {
    "duration": 123,
    "start_time": "2023-03-03T17:28:03.857Z"
   },
   {
    "duration": 0,
    "start_time": "2023-03-03T17:28:03.982Z"
   },
   {
    "duration": 0,
    "start_time": "2023-03-03T17:28:03.983Z"
   },
   {
    "duration": 0,
    "start_time": "2023-03-03T17:28:03.984Z"
   },
   {
    "duration": 7,
    "start_time": "2023-03-03T17:28:34.126Z"
   },
   {
    "duration": 7,
    "start_time": "2023-03-03T17:28:35.186Z"
   },
   {
    "duration": 10,
    "start_time": "2023-03-03T17:28:46.431Z"
   },
   {
    "duration": 20,
    "start_time": "2023-03-03T17:28:47.411Z"
   },
   {
    "duration": 17,
    "start_time": "2023-03-03T17:29:00.087Z"
   },
   {
    "duration": 12,
    "start_time": "2023-03-03T17:29:04.607Z"
   },
   {
    "duration": 14,
    "start_time": "2023-03-03T17:29:06.075Z"
   },
   {
    "duration": 3,
    "start_time": "2023-03-03T17:29:42.878Z"
   },
   {
    "duration": 9,
    "start_time": "2023-03-03T17:29:43.636Z"
   },
   {
    "duration": 13,
    "start_time": "2023-03-03T17:29:44.421Z"
   },
   {
    "duration": 27,
    "start_time": "2023-03-03T17:30:52.866Z"
   },
   {
    "duration": 12,
    "start_time": "2023-03-03T17:31:02.031Z"
   },
   {
    "duration": 48,
    "start_time": "2023-03-03T17:34:01.070Z"
   },
   {
    "duration": 43,
    "start_time": "2023-03-03T17:34:27.097Z"
   },
   {
    "duration": 43,
    "start_time": "2023-03-03T17:34:34.502Z"
   },
   {
    "duration": 46,
    "start_time": "2023-03-03T17:34:52.395Z"
   },
   {
    "duration": 4,
    "start_time": "2023-03-03T18:03:56.883Z"
   },
   {
    "duration": 50,
    "start_time": "2023-03-03T18:03:56.889Z"
   },
   {
    "duration": 16,
    "start_time": "2023-03-03T18:03:56.942Z"
   },
   {
    "duration": 13,
    "start_time": "2023-03-03T18:03:56.960Z"
   },
   {
    "duration": 15,
    "start_time": "2023-03-03T18:03:56.975Z"
   },
   {
    "duration": 4,
    "start_time": "2023-03-03T18:03:56.992Z"
   },
   {
    "duration": 18,
    "start_time": "2023-03-03T18:03:57.014Z"
   },
   {
    "duration": 8,
    "start_time": "2023-03-03T18:03:57.034Z"
   },
   {
    "duration": 12,
    "start_time": "2023-03-03T18:03:57.044Z"
   },
   {
    "duration": 18,
    "start_time": "2023-03-03T18:03:57.058Z"
   },
   {
    "duration": 9,
    "start_time": "2023-03-03T18:03:57.077Z"
   },
   {
    "duration": 5,
    "start_time": "2023-03-03T18:03:57.088Z"
   },
   {
    "duration": 15,
    "start_time": "2023-03-03T18:03:57.115Z"
   },
   {
    "duration": 7,
    "start_time": "2023-03-03T18:03:57.133Z"
   },
   {
    "duration": 7,
    "start_time": "2023-03-03T18:03:57.142Z"
   },
   {
    "duration": 14,
    "start_time": "2023-03-03T18:03:57.151Z"
   },
   {
    "duration": 16,
    "start_time": "2023-03-03T18:03:57.167Z"
   },
   {
    "duration": 20,
    "start_time": "2023-03-03T18:03:57.185Z"
   },
   {
    "duration": 15,
    "start_time": "2023-03-03T18:04:01.961Z"
   },
   {
    "duration": 1167,
    "start_time": "2023-03-03T18:04:26.490Z"
   },
   {
    "duration": 44,
    "start_time": "2023-03-03T18:04:27.658Z"
   },
   {
    "duration": 16,
    "start_time": "2023-03-03T18:04:27.703Z"
   },
   {
    "duration": 22,
    "start_time": "2023-03-03T18:04:27.721Z"
   },
   {
    "duration": 14,
    "start_time": "2023-03-03T18:04:27.745Z"
   },
   {
    "duration": 6,
    "start_time": "2023-03-03T18:04:27.761Z"
   },
   {
    "duration": 12,
    "start_time": "2023-03-03T18:04:27.769Z"
   },
   {
    "duration": 6,
    "start_time": "2023-03-03T18:04:27.783Z"
   },
   {
    "duration": 25,
    "start_time": "2023-03-03T18:04:27.790Z"
   },
   {
    "duration": 19,
    "start_time": "2023-03-03T18:04:27.819Z"
   },
   {
    "duration": 15,
    "start_time": "2023-03-03T18:04:27.840Z"
   },
   {
    "duration": 11,
    "start_time": "2023-03-03T18:04:27.857Z"
   },
   {
    "duration": 9,
    "start_time": "2023-03-03T18:04:27.869Z"
   },
   {
    "duration": 3,
    "start_time": "2023-03-03T18:04:27.880Z"
   },
   {
    "duration": 6,
    "start_time": "2023-03-03T18:04:27.884Z"
   },
   {
    "duration": 28,
    "start_time": "2023-03-03T18:04:27.891Z"
   },
   {
    "duration": 11,
    "start_time": "2023-03-03T18:04:27.928Z"
   },
   {
    "duration": 15,
    "start_time": "2023-03-03T18:04:27.941Z"
   },
   {
    "duration": 23,
    "start_time": "2023-03-03T18:04:48.229Z"
   },
   {
    "duration": 119,
    "start_time": "2023-03-03T18:05:10.620Z"
   },
   {
    "duration": 22,
    "start_time": "2023-03-03T18:05:26.933Z"
   },
   {
    "duration": 21,
    "start_time": "2023-03-03T18:06:08.811Z"
   },
   {
    "duration": 20,
    "start_time": "2023-03-03T18:06:20.915Z"
   },
   {
    "duration": 21,
    "start_time": "2023-03-03T18:07:53.476Z"
   },
   {
    "duration": 16,
    "start_time": "2023-03-03T18:08:04.673Z"
   },
   {
    "duration": 25,
    "start_time": "2023-03-03T18:09:52.203Z"
   },
   {
    "duration": 4,
    "start_time": "2023-03-03T18:10:27.700Z"
   },
   {
    "duration": 13,
    "start_time": "2023-03-03T18:10:29.809Z"
   },
   {
    "duration": 12,
    "start_time": "2023-03-03T18:10:30.196Z"
   },
   {
    "duration": 16,
    "start_time": "2023-03-03T18:10:37.362Z"
   },
   {
    "duration": 37,
    "start_time": "2023-03-03T18:10:39.852Z"
   },
   {
    "duration": 12,
    "start_time": "2023-03-03T18:16:36.436Z"
   },
   {
    "duration": 32,
    "start_time": "2023-03-03T18:16:46.057Z"
   },
   {
    "duration": 28,
    "start_time": "2023-03-03T18:17:00.738Z"
   },
   {
    "duration": 36,
    "start_time": "2023-03-03T18:17:51.609Z"
   },
   {
    "duration": 25,
    "start_time": "2023-03-03T18:22:08.702Z"
   },
   {
    "duration": 27,
    "start_time": "2023-03-03T18:22:31.504Z"
   },
   {
    "duration": 26,
    "start_time": "2023-03-03T18:23:27.486Z"
   },
   {
    "duration": 30,
    "start_time": "2023-03-03T18:25:06.995Z"
   },
   {
    "duration": 19,
    "start_time": "2023-03-03T18:25:31.293Z"
   },
   {
    "duration": 1077,
    "start_time": "2023-03-03T18:26:07.083Z"
   },
   {
    "duration": 40,
    "start_time": "2023-03-03T18:26:08.162Z"
   },
   {
    "duration": 16,
    "start_time": "2023-03-03T18:26:08.203Z"
   },
   {
    "duration": 42,
    "start_time": "2023-03-03T18:26:08.224Z"
   },
   {
    "duration": 13,
    "start_time": "2023-03-03T18:26:08.269Z"
   },
   {
    "duration": 3,
    "start_time": "2023-03-03T18:26:08.284Z"
   },
   {
    "duration": 13,
    "start_time": "2023-03-03T18:26:08.288Z"
   },
   {
    "duration": 5,
    "start_time": "2023-03-03T18:26:08.302Z"
   },
   {
    "duration": 37,
    "start_time": "2023-03-03T18:26:08.308Z"
   },
   {
    "duration": 15,
    "start_time": "2023-03-03T18:26:08.346Z"
   },
   {
    "duration": 7,
    "start_time": "2023-03-03T18:26:08.362Z"
   },
   {
    "duration": 6,
    "start_time": "2023-03-03T18:26:08.370Z"
   },
   {
    "duration": 9,
    "start_time": "2023-03-03T18:26:08.378Z"
   },
   {
    "duration": 3,
    "start_time": "2023-03-03T18:26:08.389Z"
   },
   {
    "duration": 8,
    "start_time": "2023-03-03T18:26:08.393Z"
   },
   {
    "duration": 19,
    "start_time": "2023-03-03T18:26:08.403Z"
   },
   {
    "duration": 42,
    "start_time": "2023-03-03T18:26:08.424Z"
   },
   {
    "duration": 15,
    "start_time": "2023-03-03T18:26:08.467Z"
   },
   {
    "duration": 39,
    "start_time": "2023-03-03T18:26:08.485Z"
   },
   {
    "duration": 35,
    "start_time": "2023-03-03T18:26:15.307Z"
   },
   {
    "duration": 1501,
    "start_time": "2023-03-03T18:26:47.517Z"
   },
   {
    "duration": 5,
    "start_time": "2023-03-03T18:26:56.387Z"
   },
   {
    "duration": 5,
    "start_time": "2023-03-03T18:27:27.142Z"
   },
   {
    "duration": 7,
    "start_time": "2023-03-03T18:27:48.501Z"
   },
   {
    "duration": 7,
    "start_time": "2023-03-03T18:28:12.769Z"
   },
   {
    "duration": 7,
    "start_time": "2023-03-03T18:28:38.014Z"
   },
   {
    "duration": 5,
    "start_time": "2023-03-03T18:29:13.767Z"
   },
   {
    "duration": 16,
    "start_time": "2023-03-03T18:30:06.464Z"
   },
   {
    "duration": 12,
    "start_time": "2023-03-03T18:31:58.271Z"
   },
   {
    "duration": 15,
    "start_time": "2023-03-03T18:32:10.607Z"
   },
   {
    "duration": 12,
    "start_time": "2023-03-03T18:32:39.897Z"
   },
   {
    "duration": 1208,
    "start_time": "2023-03-03T18:32:57.571Z"
   },
   {
    "duration": 44,
    "start_time": "2023-03-03T18:32:58.781Z"
   },
   {
    "duration": 19,
    "start_time": "2023-03-03T18:32:58.832Z"
   },
   {
    "duration": 19,
    "start_time": "2023-03-03T18:32:58.852Z"
   },
   {
    "duration": 25,
    "start_time": "2023-03-03T18:32:58.873Z"
   },
   {
    "duration": 6,
    "start_time": "2023-03-03T18:32:58.900Z"
   },
   {
    "duration": 46,
    "start_time": "2023-03-03T18:32:58.909Z"
   },
   {
    "duration": 5,
    "start_time": "2023-03-03T18:32:58.957Z"
   },
   {
    "duration": 7,
    "start_time": "2023-03-03T18:32:58.964Z"
   },
   {
    "duration": 15,
    "start_time": "2023-03-03T18:32:58.973Z"
   },
   {
    "duration": 11,
    "start_time": "2023-03-03T18:32:58.990Z"
   },
   {
    "duration": 8,
    "start_time": "2023-03-03T18:32:59.002Z"
   },
   {
    "duration": 36,
    "start_time": "2023-03-03T18:32:59.013Z"
   },
   {
    "duration": 19,
    "start_time": "2023-03-03T18:32:59.052Z"
   },
   {
    "duration": 13,
    "start_time": "2023-03-03T18:32:59.073Z"
   },
   {
    "duration": 11,
    "start_time": "2023-03-03T18:33:02.368Z"
   },
   {
    "duration": 17,
    "start_time": "2023-03-03T18:33:03.448Z"
   },
   {
    "duration": 14,
    "start_time": "2023-03-03T18:33:04.924Z"
   },
   {
    "duration": 15,
    "start_time": "2023-03-03T18:33:15.697Z"
   },
   {
    "duration": 50,
    "start_time": "2023-03-03T18:33:22.582Z"
   },
   {
    "duration": 33,
    "start_time": "2023-03-03T18:33:37.623Z"
   },
   {
    "duration": 20,
    "start_time": "2023-03-03T18:33:55.917Z"
   },
   {
    "duration": 1146,
    "start_time": "2023-03-03T18:34:42.354Z"
   },
   {
    "duration": 62,
    "start_time": "2023-03-03T18:34:43.502Z"
   },
   {
    "duration": 13,
    "start_time": "2023-03-03T18:34:43.565Z"
   },
   {
    "duration": 20,
    "start_time": "2023-03-03T18:34:43.580Z"
   },
   {
    "duration": 39,
    "start_time": "2023-03-03T18:34:43.602Z"
   },
   {
    "duration": 4,
    "start_time": "2023-03-03T18:34:43.649Z"
   },
   {
    "duration": 20,
    "start_time": "2023-03-03T18:34:43.654Z"
   },
   {
    "duration": 8,
    "start_time": "2023-03-03T18:34:43.676Z"
   },
   {
    "duration": 9,
    "start_time": "2023-03-03T18:34:43.685Z"
   },
   {
    "duration": 70,
    "start_time": "2023-03-03T18:34:43.696Z"
   },
   {
    "duration": 7,
    "start_time": "2023-03-03T18:34:43.768Z"
   },
   {
    "duration": 10,
    "start_time": "2023-03-03T18:34:43.776Z"
   },
   {
    "duration": 15,
    "start_time": "2023-03-03T18:34:43.788Z"
   },
   {
    "duration": 3,
    "start_time": "2023-03-03T18:34:43.807Z"
   },
   {
    "duration": 6,
    "start_time": "2023-03-03T18:34:46.288Z"
   },
   {
    "duration": 14,
    "start_time": "2023-03-03T18:34:47.577Z"
   },
   {
    "duration": 16,
    "start_time": "2023-03-03T18:34:48.867Z"
   },
   {
    "duration": 22,
    "start_time": "2023-03-03T18:35:30.483Z"
   },
   {
    "duration": 13,
    "start_time": "2023-03-03T18:35:40.075Z"
   },
   {
    "duration": 48,
    "start_time": "2023-03-03T18:35:46.275Z"
   },
   {
    "duration": 12,
    "start_time": "2023-03-03T18:35:53.367Z"
   },
   {
    "duration": 26,
    "start_time": "2023-03-03T18:36:15.542Z"
   },
   {
    "duration": 15,
    "start_time": "2023-03-03T18:36:27.642Z"
   },
   {
    "duration": 1093,
    "start_time": "2023-03-03T18:36:57.482Z"
   },
   {
    "duration": 50,
    "start_time": "2023-03-03T18:36:58.577Z"
   },
   {
    "duration": 20,
    "start_time": "2023-03-03T18:36:58.630Z"
   },
   {
    "duration": 31,
    "start_time": "2023-03-03T18:36:58.652Z"
   },
   {
    "duration": 18,
    "start_time": "2023-03-03T18:36:58.686Z"
   },
   {
    "duration": 40,
    "start_time": "2023-03-03T18:36:58.706Z"
   },
   {
    "duration": 16,
    "start_time": "2023-03-03T18:36:58.747Z"
   },
   {
    "duration": 9,
    "start_time": "2023-03-03T18:36:58.764Z"
   },
   {
    "duration": 10,
    "start_time": "2023-03-03T18:36:58.775Z"
   },
   {
    "duration": 19,
    "start_time": "2023-03-03T18:36:58.786Z"
   },
   {
    "duration": 9,
    "start_time": "2023-03-03T18:36:58.806Z"
   },
   {
    "duration": 33,
    "start_time": "2023-03-03T18:36:58.819Z"
   },
   {
    "duration": 9,
    "start_time": "2023-03-03T18:36:58.854Z"
   },
   {
    "duration": 2,
    "start_time": "2023-03-03T18:36:58.865Z"
   },
   {
    "duration": 8,
    "start_time": "2023-03-03T18:36:58.869Z"
   },
   {
    "duration": 16,
    "start_time": "2023-03-03T18:36:58.879Z"
   },
   {
    "duration": 11,
    "start_time": "2023-03-03T18:36:58.896Z"
   },
   {
    "duration": 52,
    "start_time": "2023-03-03T18:36:58.909Z"
   },
   {
    "duration": 28,
    "start_time": "2023-03-03T18:36:58.963Z"
   },
   {
    "duration": 59,
    "start_time": "2023-03-03T18:36:58.993Z"
   },
   {
    "duration": 11,
    "start_time": "2023-03-03T18:37:05.171Z"
   },
   {
    "duration": 122,
    "start_time": "2023-03-03T18:38:34.151Z"
   },
   {
    "duration": 27,
    "start_time": "2023-03-03T18:38:44.481Z"
   },
   {
    "duration": 16,
    "start_time": "2023-03-03T18:41:03.274Z"
   },
   {
    "duration": 27,
    "start_time": "2023-03-03T18:41:28.181Z"
   },
   {
    "duration": 38,
    "start_time": "2023-03-03T18:41:49.235Z"
   },
   {
    "duration": 28,
    "start_time": "2023-03-03T18:50:58.998Z"
   },
   {
    "duration": 16,
    "start_time": "2023-03-03T18:51:10.937Z"
   },
   {
    "duration": 41,
    "start_time": "2023-03-03T18:51:20.618Z"
   },
   {
    "duration": 28,
    "start_time": "2023-03-03T18:52:16.941Z"
   },
   {
    "duration": 17,
    "start_time": "2023-03-03T18:54:14.278Z"
   },
   {
    "duration": 28,
    "start_time": "2023-03-03T18:54:53.464Z"
   },
   {
    "duration": 21,
    "start_time": "2023-03-03T18:55:15.672Z"
   },
   {
    "duration": 11,
    "start_time": "2023-03-03T18:55:37.182Z"
   },
   {
    "duration": 17,
    "start_time": "2023-03-03T18:55:57.118Z"
   },
   {
    "duration": 27,
    "start_time": "2023-03-03T18:56:43.091Z"
   },
   {
    "duration": 15,
    "start_time": "2023-03-03T18:57:10.297Z"
   },
   {
    "duration": 21,
    "start_time": "2023-03-03T19:00:06.557Z"
   },
   {
    "duration": 15,
    "start_time": "2023-03-03T19:00:11.966Z"
   },
   {
    "duration": 15,
    "start_time": "2023-03-03T19:00:34.682Z"
   },
   {
    "duration": 34,
    "start_time": "2023-03-03T19:00:53.232Z"
   },
   {
    "duration": 13,
    "start_time": "2023-03-03T19:01:04.286Z"
   },
   {
    "duration": 18,
    "start_time": "2023-03-03T19:01:22.464Z"
   },
   {
    "duration": 36,
    "start_time": "2023-03-03T19:01:28.291Z"
   },
   {
    "duration": 15,
    "start_time": "2023-03-03T19:01:42.005Z"
   },
   {
    "duration": 57,
    "start_time": "2023-03-03T19:02:22.883Z"
   },
   {
    "duration": 1177,
    "start_time": "2023-03-03T19:02:37.680Z"
   },
   {
    "duration": 44,
    "start_time": "2023-03-03T19:02:38.859Z"
   },
   {
    "duration": 20,
    "start_time": "2023-03-03T19:02:38.905Z"
   },
   {
    "duration": 43,
    "start_time": "2023-03-03T19:02:38.927Z"
   },
   {
    "duration": 14,
    "start_time": "2023-03-03T19:02:38.972Z"
   },
   {
    "duration": 3,
    "start_time": "2023-03-03T19:02:38.987Z"
   },
   {
    "duration": 13,
    "start_time": "2023-03-03T19:02:38.992Z"
   },
   {
    "duration": 4,
    "start_time": "2023-03-03T19:02:39.007Z"
   },
   {
    "duration": 32,
    "start_time": "2023-03-03T19:02:39.018Z"
   },
   {
    "duration": 16,
    "start_time": "2023-03-03T19:02:39.052Z"
   },
   {
    "duration": 7,
    "start_time": "2023-03-03T19:02:39.070Z"
   },
   {
    "duration": 8,
    "start_time": "2023-03-03T19:02:39.078Z"
   },
   {
    "duration": 9,
    "start_time": "2023-03-03T19:02:39.088Z"
   },
   {
    "duration": 2,
    "start_time": "2023-03-03T19:02:39.099Z"
   },
   {
    "duration": 4,
    "start_time": "2023-03-03T19:02:39.103Z"
   },
   {
    "duration": 24,
    "start_time": "2023-03-03T19:02:39.109Z"
   },
   {
    "duration": 30,
    "start_time": "2023-03-03T19:02:39.135Z"
   },
   {
    "duration": 13,
    "start_time": "2023-03-03T19:02:39.167Z"
   },
   {
    "duration": 17,
    "start_time": "2023-03-03T19:02:39.182Z"
   },
   {
    "duration": 52,
    "start_time": "2023-03-03T19:02:39.201Z"
   },
   {
    "duration": 12,
    "start_time": "2023-03-03T19:02:39.255Z"
   },
   {
    "duration": 51,
    "start_time": "2023-03-03T19:02:43.398Z"
   },
   {
    "duration": 1180,
    "start_time": "2023-03-03T19:10:12.865Z"
   },
   {
    "duration": 39,
    "start_time": "2023-03-03T19:10:14.047Z"
   },
   {
    "duration": 14,
    "start_time": "2023-03-03T19:10:14.088Z"
   },
   {
    "duration": 20,
    "start_time": "2023-03-03T19:10:14.104Z"
   },
   {
    "duration": 30,
    "start_time": "2023-03-03T19:10:14.126Z"
   },
   {
    "duration": 3,
    "start_time": "2023-03-03T19:10:14.158Z"
   },
   {
    "duration": 14,
    "start_time": "2023-03-03T19:10:14.162Z"
   },
   {
    "duration": 5,
    "start_time": "2023-03-03T19:10:14.177Z"
   },
   {
    "duration": 6,
    "start_time": "2023-03-03T19:10:14.184Z"
   },
   {
    "duration": 12,
    "start_time": "2023-03-03T19:10:14.192Z"
   },
   {
    "duration": 21,
    "start_time": "2023-03-03T19:10:14.218Z"
   },
   {
    "duration": 9,
    "start_time": "2023-03-03T19:10:14.243Z"
   },
   {
    "duration": 9,
    "start_time": "2023-03-03T19:10:14.254Z"
   },
   {
    "duration": 2,
    "start_time": "2023-03-03T19:10:14.265Z"
   },
   {
    "duration": 4,
    "start_time": "2023-03-03T19:10:14.269Z"
   },
   {
    "duration": 11,
    "start_time": "2023-03-03T19:10:14.274Z"
   },
   {
    "duration": 12,
    "start_time": "2023-03-03T19:10:14.287Z"
   },
   {
    "duration": 42,
    "start_time": "2023-03-03T19:10:14.301Z"
   },
   {
    "duration": 16,
    "start_time": "2023-03-03T19:10:14.344Z"
   },
   {
    "duration": 38,
    "start_time": "2023-03-03T19:10:14.362Z"
   },
   {
    "duration": 10,
    "start_time": "2023-03-03T19:10:14.402Z"
   },
   {
    "duration": 33,
    "start_time": "2023-03-03T19:10:20.471Z"
   },
   {
    "duration": 12,
    "start_time": "2023-03-03T19:10:47.498Z"
   },
   {
    "duration": 146,
    "start_time": "2023-03-03T19:12:20.197Z"
   },
   {
    "duration": 36,
    "start_time": "2023-03-03T19:12:42.487Z"
   },
   {
    "duration": 22,
    "start_time": "2023-03-03T19:14:35.637Z"
   },
   {
    "duration": 13,
    "start_time": "2023-03-03T19:15:03.676Z"
   },
   {
    "duration": 13,
    "start_time": "2023-03-03T19:15:43.694Z"
   },
   {
    "duration": 12,
    "start_time": "2023-03-03T19:18:54.166Z"
   },
   {
    "duration": 40,
    "start_time": "2023-03-03T19:21:53.802Z"
   },
   {
    "duration": 75,
    "start_time": "2023-03-03T19:27:56.029Z"
   },
   {
    "duration": 18,
    "start_time": "2023-03-03T19:28:13.874Z"
   },
   {
    "duration": 48,
    "start_time": "2023-03-03T19:28:41.387Z"
   },
   {
    "duration": 32,
    "start_time": "2023-03-03T19:29:10.174Z"
   },
   {
    "duration": 1166,
    "start_time": "2023-03-03T19:29:31.431Z"
   },
   {
    "duration": 54,
    "start_time": "2023-03-03T19:29:32.599Z"
   },
   {
    "duration": 14,
    "start_time": "2023-03-03T19:29:32.655Z"
   },
   {
    "duration": 21,
    "start_time": "2023-03-03T19:29:32.670Z"
   },
   {
    "duration": 14,
    "start_time": "2023-03-03T19:29:32.693Z"
   },
   {
    "duration": 14,
    "start_time": "2023-03-03T19:29:32.708Z"
   },
   {
    "duration": 34,
    "start_time": "2023-03-03T19:29:32.727Z"
   },
   {
    "duration": 5,
    "start_time": "2023-03-03T19:29:32.763Z"
   },
   {
    "duration": 9,
    "start_time": "2023-03-03T19:29:32.770Z"
   },
   {
    "duration": 16,
    "start_time": "2023-03-03T19:29:32.780Z"
   },
   {
    "duration": 8,
    "start_time": "2023-03-03T19:29:32.798Z"
   },
   {
    "duration": 27,
    "start_time": "2023-03-03T19:29:32.808Z"
   },
   {
    "duration": 16,
    "start_time": "2023-03-03T19:29:32.837Z"
   },
   {
    "duration": 5,
    "start_time": "2023-03-03T19:29:32.855Z"
   },
   {
    "duration": 7,
    "start_time": "2023-03-03T19:29:32.862Z"
   },
   {
    "duration": 14,
    "start_time": "2023-03-03T19:29:32.870Z"
   },
   {
    "duration": 12,
    "start_time": "2023-03-03T19:29:32.885Z"
   },
   {
    "duration": 55,
    "start_time": "2023-03-03T19:29:32.898Z"
   },
   {
    "duration": 18,
    "start_time": "2023-03-03T19:29:32.955Z"
   },
   {
    "duration": 38,
    "start_time": "2023-03-03T19:29:32.974Z"
   },
   {
    "duration": 16,
    "start_time": "2023-03-03T19:29:33.020Z"
   },
   {
    "duration": 27,
    "start_time": "2023-03-03T19:29:33.040Z"
   },
   {
    "duration": 109,
    "start_time": "2023-03-03T19:29:41.089Z"
   },
   {
    "duration": 42,
    "start_time": "2023-03-03T19:29:52.301Z"
   },
   {
    "duration": 30,
    "start_time": "2023-03-03T19:38:34.856Z"
   },
   {
    "duration": 51,
    "start_time": "2023-03-03T19:38:57.312Z"
   },
   {
    "duration": 37,
    "start_time": "2023-03-03T19:39:22.365Z"
   },
   {
    "duration": 39,
    "start_time": "2023-03-03T19:39:42.382Z"
   },
   {
    "duration": 29,
    "start_time": "2023-03-03T19:40:07.482Z"
   },
   {
    "duration": 55,
    "start_time": "2023-03-03T19:40:19.931Z"
   },
   {
    "duration": 20,
    "start_time": "2023-03-03T19:40:38.510Z"
   },
   {
    "duration": 17,
    "start_time": "2023-03-03T19:41:02.316Z"
   },
   {
    "duration": 36,
    "start_time": "2023-03-03T19:41:06.268Z"
   },
   {
    "duration": 23,
    "start_time": "2023-03-03T19:42:30.133Z"
   },
   {
    "duration": 29,
    "start_time": "2023-03-03T19:42:41.845Z"
   },
   {
    "duration": 26,
    "start_time": "2023-03-03T19:42:54.907Z"
   },
   {
    "duration": 11,
    "start_time": "2023-03-03T19:43:53.965Z"
   },
   {
    "duration": 1205,
    "start_time": "2023-03-03T19:44:26.571Z"
   },
   {
    "duration": 44,
    "start_time": "2023-03-03T19:44:27.778Z"
   },
   {
    "duration": 17,
    "start_time": "2023-03-03T19:44:27.824Z"
   },
   {
    "duration": 27,
    "start_time": "2023-03-03T19:44:27.846Z"
   },
   {
    "duration": 14,
    "start_time": "2023-03-03T19:44:27.874Z"
   },
   {
    "duration": 5,
    "start_time": "2023-03-03T19:44:27.889Z"
   },
   {
    "duration": 16,
    "start_time": "2023-03-03T19:44:27.895Z"
   },
   {
    "duration": 7,
    "start_time": "2023-03-03T19:44:27.914Z"
   },
   {
    "duration": 22,
    "start_time": "2023-03-03T19:44:27.943Z"
   },
   {
    "duration": 25,
    "start_time": "2023-03-03T19:44:27.968Z"
   },
   {
    "duration": 9,
    "start_time": "2023-03-03T19:44:27.995Z"
   },
   {
    "duration": 10,
    "start_time": "2023-03-03T19:44:28.006Z"
   },
   {
    "duration": 51,
    "start_time": "2023-03-03T19:44:28.017Z"
   },
   {
    "duration": 2,
    "start_time": "2023-03-03T19:44:28.071Z"
   },
   {
    "duration": 16,
    "start_time": "2023-03-03T19:44:28.076Z"
   },
   {
    "duration": 15,
    "start_time": "2023-03-03T19:44:28.094Z"
   },
   {
    "duration": 19,
    "start_time": "2023-03-03T19:44:28.111Z"
   },
   {
    "duration": 34,
    "start_time": "2023-03-03T19:44:28.132Z"
   },
   {
    "duration": 16,
    "start_time": "2023-03-03T19:44:28.167Z"
   },
   {
    "duration": 52,
    "start_time": "2023-03-03T19:44:28.186Z"
   },
   {
    "duration": 31,
    "start_time": "2023-03-03T19:44:28.241Z"
   },
   {
    "duration": 19,
    "start_time": "2023-03-03T19:44:28.274Z"
   },
   {
    "duration": 42,
    "start_time": "2023-03-03T19:44:40.364Z"
   },
   {
    "duration": 22,
    "start_time": "2023-03-03T19:48:22.650Z"
   },
   {
    "duration": 81,
    "start_time": "2023-03-03T19:50:01.458Z"
   },
   {
    "duration": 190,
    "start_time": "2023-03-03T19:50:39.784Z"
   },
   {
    "duration": 21,
    "start_time": "2023-03-03T19:50:54.750Z"
   },
   {
    "duration": 29,
    "start_time": "2023-03-03T19:51:08.261Z"
   },
   {
    "duration": 14404,
    "start_time": "2023-03-03T19:51:22.554Z"
   },
   {
    "duration": 3110,
    "start_time": "2023-03-03T19:51:47.262Z"
   },
   {
    "duration": 127,
    "start_time": "2023-03-03T19:52:07.280Z"
   },
   {
    "duration": 6445,
    "start_time": "2023-03-03T19:52:22.278Z"
   },
   {
    "duration": 47,
    "start_time": "2023-03-03T19:52:41.167Z"
   },
   {
    "duration": 8,
    "start_time": "2023-03-03T19:52:48.139Z"
   },
   {
    "duration": 19,
    "start_time": "2023-03-03T19:52:58.509Z"
   },
   {
    "duration": 21,
    "start_time": "2023-03-03T19:53:06.466Z"
   },
   {
    "duration": 77,
    "start_time": "2023-03-03T19:53:23.566Z"
   },
   {
    "duration": 160,
    "start_time": "2023-03-03T19:53:34.963Z"
   },
   {
    "duration": 13461,
    "start_time": "2023-03-03T19:53:45.783Z"
   },
   {
    "duration": 261,
    "start_time": "2023-03-03T19:54:12.246Z"
   },
   {
    "duration": 74,
    "start_time": "2023-03-03T19:54:27.734Z"
   },
   {
    "duration": 182,
    "start_time": "2023-03-03T19:54:37.330Z"
   },
   {
    "duration": 416,
    "start_time": "2023-03-03T19:54:47.747Z"
   },
   {
    "duration": 8,
    "start_time": "2023-03-03T19:54:52.712Z"
   },
   {
    "duration": 17,
    "start_time": "2023-03-03T19:54:55.345Z"
   },
   {
    "duration": 5,
    "start_time": "2023-03-03T19:55:02.365Z"
   },
   {
    "duration": 256,
    "start_time": "2023-03-03T19:55:07.865Z"
   },
   {
    "duration": 372,
    "start_time": "2023-03-03T19:55:18.555Z"
   },
   {
    "duration": 431,
    "start_time": "2023-03-03T19:55:47.397Z"
   },
   {
    "duration": 471,
    "start_time": "2023-03-03T19:56:49.383Z"
   },
   {
    "duration": 427,
    "start_time": "2023-03-03T19:57:29.655Z"
   },
   {
    "duration": 560,
    "start_time": "2023-03-03T19:58:28.804Z"
   },
   {
    "duration": 609,
    "start_time": "2023-03-03T19:58:40.176Z"
   },
   {
    "duration": 599,
    "start_time": "2023-03-03T20:00:10.506Z"
   },
   {
    "duration": 5,
    "start_time": "2023-03-03T20:00:29.986Z"
   },
   {
    "duration": 171,
    "start_time": "2023-03-03T20:01:13.770Z"
   },
   {
    "duration": 610,
    "start_time": "2023-03-03T20:06:08.416Z"
   },
   {
    "duration": 580,
    "start_time": "2023-03-03T20:06:24.259Z"
   },
   {
    "duration": 112,
    "start_time": "2023-03-03T20:21:07.348Z"
   },
   {
    "duration": 3464,
    "start_time": "2023-03-03T20:29:22.628Z"
   },
   {
    "duration": 184,
    "start_time": "2023-03-03T20:41:51.279Z"
   },
   {
    "duration": 191,
    "start_time": "2023-03-03T20:42:01.972Z"
   },
   {
    "duration": 15,
    "start_time": "2023-03-03T20:42:23.336Z"
   },
   {
    "duration": 622,
    "start_time": "2023-03-03T20:42:56.979Z"
   },
   {
    "duration": 241,
    "start_time": "2023-03-03T20:43:36.484Z"
   },
   {
    "duration": 332,
    "start_time": "2023-03-03T20:43:42.467Z"
   },
   {
    "duration": 429,
    "start_time": "2023-03-03T20:43:46.560Z"
   },
   {
    "duration": 378,
    "start_time": "2023-03-03T20:43:51.055Z"
   },
   {
    "duration": 367,
    "start_time": "2023-03-03T20:43:54.089Z"
   },
   {
    "duration": 322,
    "start_time": "2023-03-03T20:43:57.770Z"
   },
   {
    "duration": 274,
    "start_time": "2023-03-03T20:44:01.458Z"
   },
   {
    "duration": 341,
    "start_time": "2023-03-03T20:44:05.210Z"
   },
   {
    "duration": 1341,
    "start_time": "2023-03-03T21:09:03.879Z"
   },
   {
    "duration": 61,
    "start_time": "2023-03-03T21:09:05.225Z"
   },
   {
    "duration": 13,
    "start_time": "2023-03-03T21:09:05.288Z"
   },
   {
    "duration": 32,
    "start_time": "2023-03-03T21:09:05.303Z"
   },
   {
    "duration": 33,
    "start_time": "2023-03-03T21:09:05.341Z"
   },
   {
    "duration": 4,
    "start_time": "2023-03-03T21:09:05.376Z"
   },
   {
    "duration": 12,
    "start_time": "2023-03-03T21:09:05.382Z"
   },
   {
    "duration": 4,
    "start_time": "2023-03-03T21:09:05.395Z"
   },
   {
    "duration": 24,
    "start_time": "2023-03-03T21:09:05.401Z"
   },
   {
    "duration": 39,
    "start_time": "2023-03-03T21:09:05.427Z"
   },
   {
    "duration": 9,
    "start_time": "2023-03-03T21:09:05.468Z"
   },
   {
    "duration": 8,
    "start_time": "2023-03-03T21:09:05.479Z"
   },
   {
    "duration": 3,
    "start_time": "2023-03-03T21:09:05.489Z"
   },
   {
    "duration": 11,
    "start_time": "2023-03-03T21:09:05.495Z"
   },
   {
    "duration": 30,
    "start_time": "2023-03-03T21:09:05.508Z"
   },
   {
    "duration": 74,
    "start_time": "2023-03-03T21:09:05.540Z"
   },
   {
    "duration": 46,
    "start_time": "2023-03-03T21:09:05.621Z"
   },
   {
    "duration": 15,
    "start_time": "2023-03-03T21:09:05.668Z"
   },
   {
    "duration": 60,
    "start_time": "2023-03-03T21:09:05.685Z"
   },
   {
    "duration": 214,
    "start_time": "2023-03-03T21:09:05.747Z"
   },
   {
    "duration": 28,
    "start_time": "2023-03-03T21:09:05.965Z"
   },
   {
    "duration": 3805,
    "start_time": "2023-03-03T21:09:05.995Z"
   },
   {
    "duration": 3913,
    "start_time": "2023-03-03T21:09:09.802Z"
   },
   {
    "duration": 11,
    "start_time": "2023-03-03T21:09:13.727Z"
   },
   {
    "duration": 143,
    "start_time": "2023-03-03T21:09:13.743Z"
   },
   {
    "duration": 67,
    "start_time": "2023-03-03T21:09:13.887Z"
   },
   {
    "duration": 263,
    "start_time": "2023-03-03T21:09:14.021Z"
   },
   {
    "duration": 312,
    "start_time": "2023-03-03T21:09:14.286Z"
   },
   {
    "duration": 109,
    "start_time": "2023-03-03T21:09:14.600Z"
   },
   {
    "duration": 191,
    "start_time": "2023-03-03T21:09:14.711Z"
   },
   {
    "duration": 488,
    "start_time": "2023-03-03T21:09:14.903Z"
   },
   {
    "duration": 4,
    "start_time": "2023-03-03T21:09:15.393Z"
   },
   {
    "duration": 655,
    "start_time": "2023-03-03T21:09:15.399Z"
   },
   {
    "duration": 1408,
    "start_time": "2023-03-05T08:11:53.986Z"
   },
   {
    "duration": 234,
    "start_time": "2023-03-05T08:11:55.402Z"
   },
   {
    "duration": 16,
    "start_time": "2023-03-05T08:11:55.638Z"
   },
   {
    "duration": 47,
    "start_time": "2023-03-05T08:11:55.661Z"
   },
   {
    "duration": 14,
    "start_time": "2023-03-05T08:11:55.720Z"
   },
   {
    "duration": 5,
    "start_time": "2023-03-05T08:11:55.736Z"
   },
   {
    "duration": 120,
    "start_time": "2023-03-05T08:12:13.096Z"
   },
   {
    "duration": 97,
    "start_time": "2023-03-05T08:16:44.323Z"
   },
   {
    "duration": 29,
    "start_time": "2023-03-05T08:17:15.522Z"
   },
   {
    "duration": 20,
    "start_time": "2023-03-05T08:17:51.682Z"
   },
   {
    "duration": 15,
    "start_time": "2023-03-05T08:17:53.206Z"
   },
   {
    "duration": 1169,
    "start_time": "2023-03-05T08:18:44.999Z"
   },
   {
    "duration": 1451,
    "start_time": "2023-03-05T08:19:34.533Z"
   },
   {
    "duration": 1534,
    "start_time": "2023-03-05T08:20:47.285Z"
   },
   {
    "duration": 24,
    "start_time": "2023-03-05T08:21:00.005Z"
   },
   {
    "duration": 1125,
    "start_time": "2023-03-05T08:28:38.223Z"
   },
   {
    "duration": 60,
    "start_time": "2023-03-05T08:28:39.351Z"
   },
   {
    "duration": 12,
    "start_time": "2023-03-05T08:28:39.412Z"
   },
   {
    "duration": 17,
    "start_time": "2023-03-05T08:28:39.426Z"
   },
   {
    "duration": 28,
    "start_time": "2023-03-05T08:28:39.444Z"
   },
   {
    "duration": 3,
    "start_time": "2023-03-05T08:28:39.485Z"
   },
   {
    "duration": 5,
    "start_time": "2023-03-05T08:28:46.333Z"
   },
   {
    "duration": 21,
    "start_time": "2023-03-05T08:28:47.898Z"
   },
   {
    "duration": 19,
    "start_time": "2023-03-05T08:28:53.903Z"
   },
   {
    "duration": 6,
    "start_time": "2023-03-05T08:29:35.132Z"
   },
   {
    "duration": 4,
    "start_time": "2023-03-05T08:29:45.197Z"
   },
   {
    "duration": 5,
    "start_time": "2023-03-05T08:29:58.616Z"
   },
   {
    "duration": 5,
    "start_time": "2023-03-05T08:32:26.886Z"
   },
   {
    "duration": 11,
    "start_time": "2023-03-05T08:32:28.417Z"
   },
   {
    "duration": 5,
    "start_time": "2023-03-05T08:32:38.085Z"
   },
   {
    "duration": 5,
    "start_time": "2023-03-05T08:32:39.030Z"
   },
   {
    "duration": 8,
    "start_time": "2023-03-05T08:32:45.592Z"
   },
   {
    "duration": 3,
    "start_time": "2023-03-05T08:32:48.781Z"
   },
   {
    "duration": 9,
    "start_time": "2023-03-05T08:41:49.696Z"
   },
   {
    "duration": 15,
    "start_time": "2023-03-05T08:42:10.325Z"
   },
   {
    "duration": 7,
    "start_time": "2023-03-05T08:42:38.904Z"
   },
   {
    "duration": 107,
    "start_time": "2023-03-05T08:46:29.590Z"
   },
   {
    "duration": 8,
    "start_time": "2023-03-05T08:48:48.326Z"
   },
   {
    "duration": 8,
    "start_time": "2023-03-05T08:49:00.189Z"
   },
   {
    "duration": 38,
    "start_time": "2023-03-05T08:49:02.750Z"
   },
   {
    "duration": 35,
    "start_time": "2023-03-05T08:49:23.905Z"
   },
   {
    "duration": 13,
    "start_time": "2023-03-05T08:49:31.026Z"
   },
   {
    "duration": 43,
    "start_time": "2023-03-05T08:49:35.376Z"
   },
   {
    "duration": 4,
    "start_time": "2023-03-05T08:51:50.304Z"
   },
   {
    "duration": 196,
    "start_time": "2023-03-05T08:52:50.056Z"
   },
   {
    "duration": 9,
    "start_time": "2023-03-05T08:53:19.541Z"
   },
   {
    "duration": 15,
    "start_time": "2023-03-05T08:53:30.270Z"
   },
   {
    "duration": 10,
    "start_time": "2023-03-05T08:58:22.939Z"
   },
   {
    "duration": 27,
    "start_time": "2023-03-05T09:01:18.152Z"
   },
   {
    "duration": 7917,
    "start_time": "2023-03-05T09:05:02.167Z"
   },
   {
    "duration": 14750,
    "start_time": "2023-03-05T09:08:32.528Z"
   },
   {
    "duration": 30961,
    "start_time": "2023-03-05T09:09:11.008Z"
   },
   {
    "duration": 9,
    "start_time": "2023-03-05T09:12:57.300Z"
   },
   {
    "duration": 25,
    "start_time": "2023-03-05T09:13:06.537Z"
   },
   {
    "duration": 2072,
    "start_time": "2023-03-05T09:13:11.590Z"
   },
   {
    "duration": 4,
    "start_time": "2023-03-05T09:13:27.504Z"
   },
   {
    "duration": 3,
    "start_time": "2023-03-05T09:14:17.106Z"
   },
   {
    "duration": 215,
    "start_time": "2023-03-05T09:15:30.669Z"
   },
   {
    "duration": 200,
    "start_time": "2023-03-05T09:18:02.208Z"
   },
   {
    "duration": 193,
    "start_time": "2023-03-05T09:18:08.086Z"
   },
   {
    "duration": 206,
    "start_time": "2023-03-05T09:18:28.864Z"
   },
   {
    "duration": 30764,
    "start_time": "2023-03-05T09:19:37.438Z"
   },
   {
    "duration": 310,
    "start_time": "2023-03-05T09:27:24.073Z"
   },
   {
    "duration": 319,
    "start_time": "2023-03-05T09:27:47.585Z"
   },
   {
    "duration": 87,
    "start_time": "2023-03-05T09:28:43.481Z"
   },
   {
    "duration": 109,
    "start_time": "2023-03-05T09:28:50.272Z"
   },
   {
    "duration": 1031,
    "start_time": "2023-03-05T09:54:37.780Z"
   },
   {
    "duration": 41,
    "start_time": "2023-03-05T09:54:38.813Z"
   },
   {
    "duration": 12,
    "start_time": "2023-03-05T09:54:38.855Z"
   },
   {
    "duration": 18,
    "start_time": "2023-03-05T09:54:38.868Z"
   },
   {
    "duration": 12,
    "start_time": "2023-03-05T09:54:38.888Z"
   },
   {
    "duration": 2,
    "start_time": "2023-03-05T09:54:38.902Z"
   },
   {
    "duration": 5,
    "start_time": "2023-03-05T09:54:38.905Z"
   },
   {
    "duration": 5,
    "start_time": "2023-03-05T09:54:38.911Z"
   },
   {
    "duration": 3,
    "start_time": "2023-03-05T09:54:38.917Z"
   },
   {
    "duration": 9,
    "start_time": "2023-03-05T09:54:38.955Z"
   },
   {
    "duration": 4,
    "start_time": "2023-03-05T09:54:38.966Z"
   },
   {
    "duration": 5,
    "start_time": "2023-03-05T09:54:38.971Z"
   },
   {
    "duration": 6,
    "start_time": "2023-03-05T09:54:38.977Z"
   },
   {
    "duration": 2,
    "start_time": "2023-03-05T09:54:38.985Z"
   },
   {
    "duration": 5,
    "start_time": "2023-03-05T09:54:38.988Z"
   },
   {
    "duration": 17,
    "start_time": "2023-03-05T09:54:38.994Z"
   },
   {
    "duration": 7,
    "start_time": "2023-03-05T09:54:39.013Z"
   },
   {
    "duration": 2,
    "start_time": "2023-03-05T09:54:39.055Z"
   },
   {
    "duration": 9,
    "start_time": "2023-03-05T09:54:39.058Z"
   },
   {
    "duration": 39,
    "start_time": "2023-03-05T09:54:39.068Z"
   },
   {
    "duration": 44,
    "start_time": "2023-03-05T09:54:39.112Z"
   },
   {
    "duration": 13,
    "start_time": "2023-03-05T09:54:39.158Z"
   },
   {
    "duration": 33,
    "start_time": "2023-03-05T09:54:39.172Z"
   },
   {
    "duration": 204,
    "start_time": "2023-03-05T09:54:39.207Z"
   },
   {
    "duration": 9,
    "start_time": "2023-03-05T09:54:39.412Z"
   },
   {
    "duration": 26,
    "start_time": "2023-03-05T09:54:43.363Z"
   },
   {
    "duration": 30181,
    "start_time": "2023-03-05T09:55:33.519Z"
   },
   {
    "duration": 2248,
    "start_time": "2023-03-05T09:56:28.600Z"
   },
   {
    "duration": 1873,
    "start_time": "2023-03-05T09:57:15.590Z"
   },
   {
    "duration": 3,
    "start_time": "2023-03-05T09:57:32.035Z"
   },
   {
    "duration": 3,
    "start_time": "2023-03-05T09:57:34.601Z"
   },
   {
    "duration": 197,
    "start_time": "2023-03-05T09:57:38.002Z"
   },
   {
    "duration": 197,
    "start_time": "2023-03-05T09:57:47.470Z"
   },
   {
    "duration": 30131,
    "start_time": "2023-03-05T09:57:59.802Z"
   },
   {
    "duration": 276,
    "start_time": "2023-03-05T10:00:10.319Z"
   },
   {
    "duration": 111,
    "start_time": "2023-03-05T10:00:15.232Z"
   },
   {
    "duration": 290,
    "start_time": "2023-03-05T10:00:26.023Z"
   },
   {
    "duration": 134,
    "start_time": "2023-03-05T10:00:32.805Z"
   },
   {
    "duration": 10,
    "start_time": "2023-03-05T10:00:47.673Z"
   },
   {
    "duration": 173,
    "start_time": "2023-03-05T10:01:00.077Z"
   },
   {
    "duration": 4,
    "start_time": "2023-03-05T10:08:57.379Z"
   },
   {
    "duration": 370,
    "start_time": "2023-03-05T10:09:37.780Z"
   },
   {
    "duration": 119,
    "start_time": "2023-03-05T10:10:02.023Z"
   },
   {
    "duration": 126,
    "start_time": "2023-03-05T10:11:48.271Z"
   },
   {
    "duration": 4,
    "start_time": "2023-03-05T10:15:18.223Z"
   },
   {
    "duration": 1350,
    "start_time": "2023-03-05T10:16:38.753Z"
   },
   {
    "duration": 51,
    "start_time": "2023-03-05T10:16:40.106Z"
   },
   {
    "duration": 14,
    "start_time": "2023-03-05T10:16:40.159Z"
   },
   {
    "duration": 15,
    "start_time": "2023-03-05T10:16:40.175Z"
   },
   {
    "duration": 13,
    "start_time": "2023-03-05T10:16:40.192Z"
   },
   {
    "duration": 3,
    "start_time": "2023-03-05T10:16:40.206Z"
   },
   {
    "duration": 6,
    "start_time": "2023-03-05T10:16:40.210Z"
   },
   {
    "duration": 5,
    "start_time": "2023-03-05T10:16:40.217Z"
   },
   {
    "duration": 34,
    "start_time": "2023-03-05T10:16:40.223Z"
   },
   {
    "duration": 12,
    "start_time": "2023-03-05T10:16:40.258Z"
   },
   {
    "duration": 5,
    "start_time": "2023-03-05T10:16:40.271Z"
   },
   {
    "duration": 6,
    "start_time": "2023-03-05T10:16:40.278Z"
   },
   {
    "duration": 35,
    "start_time": "2023-03-05T10:16:40.285Z"
   },
   {
    "duration": 6,
    "start_time": "2023-03-05T10:16:40.323Z"
   },
   {
    "duration": 16,
    "start_time": "2023-03-05T10:16:40.330Z"
   },
   {
    "duration": 20,
    "start_time": "2023-03-05T10:16:40.348Z"
   },
   {
    "duration": 8,
    "start_time": "2023-03-05T10:16:40.369Z"
   },
   {
    "duration": 3,
    "start_time": "2023-03-05T10:16:40.378Z"
   },
   {
    "duration": 9,
    "start_time": "2023-03-05T10:16:40.382Z"
   },
   {
    "duration": 36,
    "start_time": "2023-03-05T10:16:40.392Z"
   },
   {
    "duration": 23,
    "start_time": "2023-03-05T10:16:40.455Z"
   },
   {
    "duration": 13,
    "start_time": "2023-03-05T10:16:40.479Z"
   },
   {
    "duration": 35,
    "start_time": "2023-03-05T10:16:40.494Z"
   },
   {
    "duration": 192,
    "start_time": "2023-03-05T10:16:40.555Z"
   },
   {
    "duration": 11,
    "start_time": "2023-03-05T10:16:40.748Z"
   },
   {
    "duration": 34,
    "start_time": "2023-03-05T10:16:40.760Z"
   },
   {
    "duration": 30606,
    "start_time": "2023-03-05T10:16:40.795Z"
   },
   {
    "duration": 2654,
    "start_time": "2023-03-05T10:17:11.402Z"
   },
   {
    "duration": 4,
    "start_time": "2023-03-05T10:17:14.057Z"
   },
   {
    "duration": 93,
    "start_time": "2023-03-05T10:17:14.062Z"
   },
   {
    "duration": 209,
    "start_time": "2023-03-05T10:17:14.157Z"
   },
   {
    "duration": 3,
    "start_time": "2023-03-05T10:17:14.368Z"
   },
   {
    "duration": 30514,
    "start_time": "2023-03-05T10:17:14.373Z"
   },
   {
    "duration": 2,
    "start_time": "2023-03-05T10:17:44.889Z"
   },
   {
    "duration": 30331,
    "start_time": "2023-03-05T10:20:01.386Z"
   },
   {
    "duration": 204,
    "start_time": "2023-03-05T10:20:57.774Z"
   },
   {
    "duration": 92,
    "start_time": "2023-03-05T10:21:02.211Z"
   },
   {
    "duration": 171,
    "start_time": "2023-03-05T10:21:05.001Z"
   },
   {
    "duration": 115,
    "start_time": "2023-03-05T10:21:07.726Z"
   },
   {
    "duration": 4,
    "start_time": "2023-03-05T10:21:09.374Z"
   },
   {
    "duration": 215,
    "start_time": "2023-03-05T10:21:38.727Z"
   },
   {
    "duration": 207,
    "start_time": "2023-03-05T10:22:57.913Z"
   },
   {
    "duration": 3,
    "start_time": "2023-03-05T10:26:13.559Z"
   },
   {
    "duration": 4,
    "start_time": "2023-03-05T10:26:19.671Z"
   },
   {
    "duration": 4,
    "start_time": "2023-03-05T10:26:52.325Z"
   },
   {
    "duration": 40,
    "start_time": "2023-03-05T10:29:06.561Z"
   },
   {
    "duration": 46,
    "start_time": "2023-03-05T10:29:19.829Z"
   },
   {
    "duration": 123,
    "start_time": "2023-03-05T10:29:32.711Z"
   },
   {
    "duration": 139,
    "start_time": "2023-03-05T10:29:58.127Z"
   },
   {
    "duration": 1337,
    "start_time": "2023-03-05T10:30:33.324Z"
   },
   {
    "duration": 42,
    "start_time": "2023-03-05T10:30:34.663Z"
   },
   {
    "duration": 11,
    "start_time": "2023-03-05T10:30:34.706Z"
   },
   {
    "duration": 20,
    "start_time": "2023-03-05T10:30:34.719Z"
   },
   {
    "duration": 13,
    "start_time": "2023-03-05T10:30:34.742Z"
   },
   {
    "duration": 3,
    "start_time": "2023-03-05T10:30:34.756Z"
   },
   {
    "duration": 5,
    "start_time": "2023-03-05T10:30:34.761Z"
   },
   {
    "duration": 4,
    "start_time": "2023-03-05T10:30:34.767Z"
   },
   {
    "duration": 7,
    "start_time": "2023-03-05T10:30:34.772Z"
   },
   {
    "duration": 11,
    "start_time": "2023-03-05T10:30:34.780Z"
   },
   {
    "duration": 7,
    "start_time": "2023-03-05T10:30:34.792Z"
   },
   {
    "duration": 8,
    "start_time": "2023-03-05T10:30:34.800Z"
   },
   {
    "duration": 7,
    "start_time": "2023-03-05T10:30:34.809Z"
   },
   {
    "duration": 2,
    "start_time": "2023-03-05T10:30:34.818Z"
   },
   {
    "duration": 5,
    "start_time": "2023-03-05T10:30:34.822Z"
   },
   {
    "duration": 18,
    "start_time": "2023-03-05T10:30:34.855Z"
   },
   {
    "duration": 7,
    "start_time": "2023-03-05T10:30:34.874Z"
   },
   {
    "duration": 2,
    "start_time": "2023-03-05T10:30:34.883Z"
   },
   {
    "duration": 9,
    "start_time": "2023-03-05T10:30:34.886Z"
   },
   {
    "duration": 34,
    "start_time": "2023-03-05T10:30:34.896Z"
   },
   {
    "duration": 26,
    "start_time": "2023-03-05T10:30:34.954Z"
   },
   {
    "duration": 14,
    "start_time": "2023-03-05T10:30:34.981Z"
   },
   {
    "duration": 35,
    "start_time": "2023-03-05T10:30:34.996Z"
   },
   {
    "duration": 201,
    "start_time": "2023-03-05T10:30:35.055Z"
   },
   {
    "duration": 7,
    "start_time": "2023-03-05T10:30:35.258Z"
   },
   {
    "duration": 24,
    "start_time": "2023-03-05T10:30:35.267Z"
   },
   {
    "duration": 31142,
    "start_time": "2023-03-05T10:30:35.292Z"
   },
   {
    "duration": 6441,
    "start_time": "2023-03-05T10:31:06.436Z"
   },
   {
    "duration": 84,
    "start_time": "2023-03-05T10:31:12.880Z"
   },
   {
    "duration": 5,
    "start_time": "2023-03-05T10:31:12.972Z"
   },
   {
    "duration": 295,
    "start_time": "2023-03-05T10:31:12.979Z"
   },
   {
    "duration": 3,
    "start_time": "2023-03-05T10:31:13.275Z"
   },
   {
    "duration": 3,
    "start_time": "2023-03-05T10:31:13.280Z"
   },
   {
    "duration": 32779,
    "start_time": "2023-03-05T10:31:13.285Z"
   },
   {
    "duration": 214,
    "start_time": "2023-03-05T10:31:46.065Z"
   },
   {
    "duration": 101,
    "start_time": "2023-03-05T10:31:46.281Z"
   },
   {
    "duration": 216,
    "start_time": "2023-03-05T10:31:46.384Z"
   },
   {
    "duration": 168,
    "start_time": "2023-03-05T10:31:46.602Z"
   },
   {
    "duration": 9,
    "start_time": "2023-03-05T10:31:46.773Z"
   },
   {
    "duration": 11,
    "start_time": "2023-03-05T10:31:46.784Z"
   },
   {
    "duration": 5,
    "start_time": "2023-03-05T10:31:57.373Z"
   },
   {
    "duration": 91,
    "start_time": "2023-03-05T10:32:59.338Z"
   },
   {
    "duration": 3,
    "start_time": "2023-03-05T10:38:48.077Z"
   }
  ],
  "kernelspec": {
   "display_name": "Python 3 (ipykernel)",
   "language": "python",
   "name": "python3"
  },
  "language_info": {
   "codemirror_mode": {
    "name": "ipython",
    "version": 3
   },
   "file_extension": ".py",
   "mimetype": "text/x-python",
   "name": "python",
   "nbconvert_exporter": "python",
   "pygments_lexer": "ipython3",
   "version": "3.9.13"
  },
  "toc": {
   "base_numbering": 1,
   "nav_menu": {},
   "number_sections": true,
   "sideBar": true,
   "skip_h1_title": true,
   "title_cell": "Содержание",
   "title_sidebar": "Contents",
   "toc_cell": true,
   "toc_position": {
    "height": "calc(100% - 180px)",
    "left": "10px",
    "top": "150px",
    "width": "165px"
   },
   "toc_section_display": true,
   "toc_window_display": false
  }
 },
 "nbformat": 4,
 "nbformat_minor": 2
}
