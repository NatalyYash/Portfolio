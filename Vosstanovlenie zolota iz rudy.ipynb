{
 "cells": [
  {
   "cell_type": "markdown",
   "metadata": {},
   "source": [
    "# Восстановление золота из руды"
   ]
  },
  {
   "cell_type": "markdown",
   "metadata": {},
   "source": [
    "<div class=\"alert alert-info\">\n",
    "Подготовим прототип модели машинного обучения для «Цифры». Компания разрабатывает решения для эффективной работы промышленных предприятий.\n",
    "<br>\n",
    "Модель должна предсказать коэффициент восстановления золота из золотосодержащей руды. Используем данные с параметрами добычи и очистки. \n",
    "<br>\n",
    "Модель поможет оптимизировать производство, чтобы не запускать предприятие с убыточными характеристиками.\n",
    "<br>\n",
    "Нужно:\n",
    "<br>\n",
    "1. Подготовить данные;\n",
    "<br>\n",
    "2. Провести исследовательский анализ данных;\n",
    "<br>\n",
    "3. Построить и обучить модель.\n",
    "</div>"
   ]
  },
  {
   "cell_type": "markdown",
   "metadata": {},
   "source": [
    "## Подготовка данных"
   ]
  },
  {
   "cell_type": "code",
   "execution_count": 1,
   "metadata": {},
   "outputs": [],
   "source": [
    "import pandas as pd\n",
    "import numpy as np\n",
    "import seaborn as sns\n",
    "import matplotlib.pyplot as plt\n",
    "\n",
    "from sklearn.model_selection import cross_val_score, GridSearchCV\n",
    "from sklearn.tree import DecisionTreeRegressor\n",
    "from sklearn.ensemble import RandomForestRegressor\n",
    "from sklearn.linear_model import LogisticRegression\n",
    "from sklearn.metrics import make_scorer\n",
    "from sklearn.model_selection import train_test_split\n",
    "from sklearn.linear_model import LinearRegression\n",
    "import random \n",
    "from numpy.random import RandomState\n",
    "from sklearn.preprocessing import OrdinalEncoder, StandardScaler\n",
    "from sklearn.metrics import (\n",
    "    confusion_matrix, \n",
    "    f1_score, \n",
    "    mean_squared_error, \n",
    "    mean_absolute_error,\n",
    "    mean_absolute_percentage_error,\n",
    "    roc_auc_score,\n",
    "    roc_curve\n",
    ")\n",
    "from sklearn.dummy import DummyRegressor\n",
    "from sklearn.datasets import load_boston\n",
    "import warnings\n",
    "warnings.filterwarnings('ignore')"
   ]
  },
  {
   "cell_type": "markdown",
   "metadata": {},
   "source": [
    "<div class=\"alert alert-info\">\n",
    "Откроем данные\n",
    "</div>"
   ]
  },
  {
   "cell_type": "code",
   "execution_count": 2,
   "metadata": {},
   "outputs": [
    {
     "data": {
      "text/html": [
       "<div>\n",
       "<style scoped>\n",
       "    .dataframe tbody tr th:only-of-type {\n",
       "        vertical-align: middle;\n",
       "    }\n",
       "\n",
       "    .dataframe tbody tr th {\n",
       "        vertical-align: top;\n",
       "    }\n",
       "\n",
       "    .dataframe thead th {\n",
       "        text-align: right;\n",
       "    }\n",
       "</style>\n",
       "<table border=\"1\" class=\"dataframe\">\n",
       "  <thead>\n",
       "    <tr style=\"text-align: right;\">\n",
       "      <th></th>\n",
       "      <th>date</th>\n",
       "      <th>final.output.concentrate_ag</th>\n",
       "      <th>final.output.concentrate_pb</th>\n",
       "      <th>final.output.concentrate_sol</th>\n",
       "      <th>final.output.concentrate_au</th>\n",
       "      <th>final.output.recovery</th>\n",
       "      <th>final.output.tail_ag</th>\n",
       "      <th>final.output.tail_pb</th>\n",
       "      <th>final.output.tail_sol</th>\n",
       "      <th>final.output.tail_au</th>\n",
       "      <th>...</th>\n",
       "      <th>secondary_cleaner.state.floatbank4_a_air</th>\n",
       "      <th>secondary_cleaner.state.floatbank4_a_level</th>\n",
       "      <th>secondary_cleaner.state.floatbank4_b_air</th>\n",
       "      <th>secondary_cleaner.state.floatbank4_b_level</th>\n",
       "      <th>secondary_cleaner.state.floatbank5_a_air</th>\n",
       "      <th>secondary_cleaner.state.floatbank5_a_level</th>\n",
       "      <th>secondary_cleaner.state.floatbank5_b_air</th>\n",
       "      <th>secondary_cleaner.state.floatbank5_b_level</th>\n",
       "      <th>secondary_cleaner.state.floatbank6_a_air</th>\n",
       "      <th>secondary_cleaner.state.floatbank6_a_level</th>\n",
       "    </tr>\n",
       "  </thead>\n",
       "  <tbody>\n",
       "    <tr>\n",
       "      <th>0</th>\n",
       "      <td>2016-01-15 00:00:00</td>\n",
       "      <td>6.055403</td>\n",
       "      <td>9.889648</td>\n",
       "      <td>5.507324</td>\n",
       "      <td>42.192020</td>\n",
       "      <td>70.541216</td>\n",
       "      <td>10.411962</td>\n",
       "      <td>0.895447</td>\n",
       "      <td>16.904297</td>\n",
       "      <td>2.143149</td>\n",
       "      <td>...</td>\n",
       "      <td>14.016835</td>\n",
       "      <td>-502.488007</td>\n",
       "      <td>12.099931</td>\n",
       "      <td>-504.715942</td>\n",
       "      <td>9.925633</td>\n",
       "      <td>-498.310211</td>\n",
       "      <td>8.079666</td>\n",
       "      <td>-500.470978</td>\n",
       "      <td>14.151341</td>\n",
       "      <td>-605.841980</td>\n",
       "    </tr>\n",
       "    <tr>\n",
       "      <th>1</th>\n",
       "      <td>2016-01-15 01:00:00</td>\n",
       "      <td>6.029369</td>\n",
       "      <td>9.968944</td>\n",
       "      <td>5.257781</td>\n",
       "      <td>42.701629</td>\n",
       "      <td>69.266198</td>\n",
       "      <td>10.462676</td>\n",
       "      <td>0.927452</td>\n",
       "      <td>16.634514</td>\n",
       "      <td>2.224930</td>\n",
       "      <td>...</td>\n",
       "      <td>13.992281</td>\n",
       "      <td>-505.503262</td>\n",
       "      <td>11.950531</td>\n",
       "      <td>-501.331529</td>\n",
       "      <td>10.039245</td>\n",
       "      <td>-500.169983</td>\n",
       "      <td>7.984757</td>\n",
       "      <td>-500.582168</td>\n",
       "      <td>13.998353</td>\n",
       "      <td>-599.787184</td>\n",
       "    </tr>\n",
       "    <tr>\n",
       "      <th>2</th>\n",
       "      <td>2016-01-15 02:00:00</td>\n",
       "      <td>6.055926</td>\n",
       "      <td>10.213995</td>\n",
       "      <td>5.383759</td>\n",
       "      <td>42.657501</td>\n",
       "      <td>68.116445</td>\n",
       "      <td>10.507046</td>\n",
       "      <td>0.953716</td>\n",
       "      <td>16.208849</td>\n",
       "      <td>2.257889</td>\n",
       "      <td>...</td>\n",
       "      <td>14.015015</td>\n",
       "      <td>-502.520901</td>\n",
       "      <td>11.912783</td>\n",
       "      <td>-501.133383</td>\n",
       "      <td>10.070913</td>\n",
       "      <td>-500.129135</td>\n",
       "      <td>8.013877</td>\n",
       "      <td>-500.517572</td>\n",
       "      <td>14.028663</td>\n",
       "      <td>-601.427363</td>\n",
       "    </tr>\n",
       "    <tr>\n",
       "      <th>3</th>\n",
       "      <td>2016-01-15 03:00:00</td>\n",
       "      <td>6.047977</td>\n",
       "      <td>9.977019</td>\n",
       "      <td>4.858634</td>\n",
       "      <td>42.689819</td>\n",
       "      <td>68.347543</td>\n",
       "      <td>10.422762</td>\n",
       "      <td>0.883763</td>\n",
       "      <td>16.532835</td>\n",
       "      <td>2.146849</td>\n",
       "      <td>...</td>\n",
       "      <td>14.036510</td>\n",
       "      <td>-500.857308</td>\n",
       "      <td>11.999550</td>\n",
       "      <td>-501.193686</td>\n",
       "      <td>9.970366</td>\n",
       "      <td>-499.201640</td>\n",
       "      <td>7.977324</td>\n",
       "      <td>-500.255908</td>\n",
       "      <td>14.005551</td>\n",
       "      <td>-599.996129</td>\n",
       "    </tr>\n",
       "    <tr>\n",
       "      <th>4</th>\n",
       "      <td>2016-01-15 04:00:00</td>\n",
       "      <td>6.148599</td>\n",
       "      <td>10.142511</td>\n",
       "      <td>4.939416</td>\n",
       "      <td>42.774141</td>\n",
       "      <td>66.927016</td>\n",
       "      <td>10.360302</td>\n",
       "      <td>0.792826</td>\n",
       "      <td>16.525686</td>\n",
       "      <td>2.055292</td>\n",
       "      <td>...</td>\n",
       "      <td>14.027298</td>\n",
       "      <td>-499.838632</td>\n",
       "      <td>11.953070</td>\n",
       "      <td>-501.053894</td>\n",
       "      <td>9.925709</td>\n",
       "      <td>-501.686727</td>\n",
       "      <td>7.894242</td>\n",
       "      <td>-500.356035</td>\n",
       "      <td>13.996647</td>\n",
       "      <td>-601.496691</td>\n",
       "    </tr>\n",
       "  </tbody>\n",
       "</table>\n",
       "<p>5 rows × 87 columns</p>\n",
       "</div>"
      ],
      "text/plain": [
       "                  date  final.output.concentrate_ag  \\\n",
       "0  2016-01-15 00:00:00                     6.055403   \n",
       "1  2016-01-15 01:00:00                     6.029369   \n",
       "2  2016-01-15 02:00:00                     6.055926   \n",
       "3  2016-01-15 03:00:00                     6.047977   \n",
       "4  2016-01-15 04:00:00                     6.148599   \n",
       "\n",
       "   final.output.concentrate_pb  final.output.concentrate_sol  \\\n",
       "0                     9.889648                      5.507324   \n",
       "1                     9.968944                      5.257781   \n",
       "2                    10.213995                      5.383759   \n",
       "3                     9.977019                      4.858634   \n",
       "4                    10.142511                      4.939416   \n",
       "\n",
       "   final.output.concentrate_au  final.output.recovery  final.output.tail_ag  \\\n",
       "0                    42.192020              70.541216             10.411962   \n",
       "1                    42.701629              69.266198             10.462676   \n",
       "2                    42.657501              68.116445             10.507046   \n",
       "3                    42.689819              68.347543             10.422762   \n",
       "4                    42.774141              66.927016             10.360302   \n",
       "\n",
       "   final.output.tail_pb  final.output.tail_sol  final.output.tail_au  ...  \\\n",
       "0              0.895447              16.904297              2.143149  ...   \n",
       "1              0.927452              16.634514              2.224930  ...   \n",
       "2              0.953716              16.208849              2.257889  ...   \n",
       "3              0.883763              16.532835              2.146849  ...   \n",
       "4              0.792826              16.525686              2.055292  ...   \n",
       "\n",
       "   secondary_cleaner.state.floatbank4_a_air  \\\n",
       "0                                 14.016835   \n",
       "1                                 13.992281   \n",
       "2                                 14.015015   \n",
       "3                                 14.036510   \n",
       "4                                 14.027298   \n",
       "\n",
       "   secondary_cleaner.state.floatbank4_a_level  \\\n",
       "0                                 -502.488007   \n",
       "1                                 -505.503262   \n",
       "2                                 -502.520901   \n",
       "3                                 -500.857308   \n",
       "4                                 -499.838632   \n",
       "\n",
       "   secondary_cleaner.state.floatbank4_b_air  \\\n",
       "0                                 12.099931   \n",
       "1                                 11.950531   \n",
       "2                                 11.912783   \n",
       "3                                 11.999550   \n",
       "4                                 11.953070   \n",
       "\n",
       "   secondary_cleaner.state.floatbank4_b_level  \\\n",
       "0                                 -504.715942   \n",
       "1                                 -501.331529   \n",
       "2                                 -501.133383   \n",
       "3                                 -501.193686   \n",
       "4                                 -501.053894   \n",
       "\n",
       "   secondary_cleaner.state.floatbank5_a_air  \\\n",
       "0                                  9.925633   \n",
       "1                                 10.039245   \n",
       "2                                 10.070913   \n",
       "3                                  9.970366   \n",
       "4                                  9.925709   \n",
       "\n",
       "   secondary_cleaner.state.floatbank5_a_level  \\\n",
       "0                                 -498.310211   \n",
       "1                                 -500.169983   \n",
       "2                                 -500.129135   \n",
       "3                                 -499.201640   \n",
       "4                                 -501.686727   \n",
       "\n",
       "   secondary_cleaner.state.floatbank5_b_air  \\\n",
       "0                                  8.079666   \n",
       "1                                  7.984757   \n",
       "2                                  8.013877   \n",
       "3                                  7.977324   \n",
       "4                                  7.894242   \n",
       "\n",
       "   secondary_cleaner.state.floatbank5_b_level  \\\n",
       "0                                 -500.470978   \n",
       "1                                 -500.582168   \n",
       "2                                 -500.517572   \n",
       "3                                 -500.255908   \n",
       "4                                 -500.356035   \n",
       "\n",
       "   secondary_cleaner.state.floatbank6_a_air  \\\n",
       "0                                 14.151341   \n",
       "1                                 13.998353   \n",
       "2                                 14.028663   \n",
       "3                                 14.005551   \n",
       "4                                 13.996647   \n",
       "\n",
       "   secondary_cleaner.state.floatbank6_a_level  \n",
       "0                                 -605.841980  \n",
       "1                                 -599.787184  \n",
       "2                                 -601.427363  \n",
       "3                                 -599.996129  \n",
       "4                                 -601.496691  \n",
       "\n",
       "[5 rows x 87 columns]"
      ]
     },
     "execution_count": 2,
     "metadata": {},
     "output_type": "execute_result"
    }
   ],
   "source": [
    "df_train = pd.read_csv('/datasets/gold_recovery_train_new.csv')\n",
    "df_train.head()"
   ]
  },
  {
   "cell_type": "code",
   "execution_count": 3,
   "metadata": {},
   "outputs": [
    {
     "data": {
      "text/html": [
       "<div>\n",
       "<style scoped>\n",
       "    .dataframe tbody tr th:only-of-type {\n",
       "        vertical-align: middle;\n",
       "    }\n",
       "\n",
       "    .dataframe tbody tr th {\n",
       "        vertical-align: top;\n",
       "    }\n",
       "\n",
       "    .dataframe thead th {\n",
       "        text-align: right;\n",
       "    }\n",
       "</style>\n",
       "<table border=\"1\" class=\"dataframe\">\n",
       "  <thead>\n",
       "    <tr style=\"text-align: right;\">\n",
       "      <th></th>\n",
       "      <th>date</th>\n",
       "      <th>primary_cleaner.input.sulfate</th>\n",
       "      <th>primary_cleaner.input.depressant</th>\n",
       "      <th>primary_cleaner.input.feed_size</th>\n",
       "      <th>primary_cleaner.input.xanthate</th>\n",
       "      <th>primary_cleaner.state.floatbank8_a_air</th>\n",
       "      <th>primary_cleaner.state.floatbank8_a_level</th>\n",
       "      <th>primary_cleaner.state.floatbank8_b_air</th>\n",
       "      <th>primary_cleaner.state.floatbank8_b_level</th>\n",
       "      <th>primary_cleaner.state.floatbank8_c_air</th>\n",
       "      <th>...</th>\n",
       "      <th>secondary_cleaner.state.floatbank4_a_air</th>\n",
       "      <th>secondary_cleaner.state.floatbank4_a_level</th>\n",
       "      <th>secondary_cleaner.state.floatbank4_b_air</th>\n",
       "      <th>secondary_cleaner.state.floatbank4_b_level</th>\n",
       "      <th>secondary_cleaner.state.floatbank5_a_air</th>\n",
       "      <th>secondary_cleaner.state.floatbank5_a_level</th>\n",
       "      <th>secondary_cleaner.state.floatbank5_b_air</th>\n",
       "      <th>secondary_cleaner.state.floatbank5_b_level</th>\n",
       "      <th>secondary_cleaner.state.floatbank6_a_air</th>\n",
       "      <th>secondary_cleaner.state.floatbank6_a_level</th>\n",
       "    </tr>\n",
       "  </thead>\n",
       "  <tbody>\n",
       "    <tr>\n",
       "      <th>0</th>\n",
       "      <td>2016-09-01 00:59:59</td>\n",
       "      <td>210.800909</td>\n",
       "      <td>14.993118</td>\n",
       "      <td>8.080000</td>\n",
       "      <td>1.005021</td>\n",
       "      <td>1398.981301</td>\n",
       "      <td>-500.225577</td>\n",
       "      <td>1399.144926</td>\n",
       "      <td>-499.919735</td>\n",
       "      <td>1400.102998</td>\n",
       "      <td>...</td>\n",
       "      <td>12.023554</td>\n",
       "      <td>-497.795834</td>\n",
       "      <td>8.016656</td>\n",
       "      <td>-501.289139</td>\n",
       "      <td>7.946562</td>\n",
       "      <td>-432.317850</td>\n",
       "      <td>4.872511</td>\n",
       "      <td>-500.037437</td>\n",
       "      <td>26.705889</td>\n",
       "      <td>-499.709414</td>\n",
       "    </tr>\n",
       "    <tr>\n",
       "      <th>1</th>\n",
       "      <td>2016-09-01 01:59:59</td>\n",
       "      <td>215.392455</td>\n",
       "      <td>14.987471</td>\n",
       "      <td>8.080000</td>\n",
       "      <td>0.990469</td>\n",
       "      <td>1398.777912</td>\n",
       "      <td>-500.057435</td>\n",
       "      <td>1398.055362</td>\n",
       "      <td>-499.778182</td>\n",
       "      <td>1396.151033</td>\n",
       "      <td>...</td>\n",
       "      <td>12.058140</td>\n",
       "      <td>-498.695773</td>\n",
       "      <td>8.130979</td>\n",
       "      <td>-499.634209</td>\n",
       "      <td>7.958270</td>\n",
       "      <td>-525.839648</td>\n",
       "      <td>4.878850</td>\n",
       "      <td>-500.162375</td>\n",
       "      <td>25.019940</td>\n",
       "      <td>-499.819438</td>\n",
       "    </tr>\n",
       "    <tr>\n",
       "      <th>2</th>\n",
       "      <td>2016-09-01 02:59:59</td>\n",
       "      <td>215.259946</td>\n",
       "      <td>12.884934</td>\n",
       "      <td>7.786667</td>\n",
       "      <td>0.996043</td>\n",
       "      <td>1398.493666</td>\n",
       "      <td>-500.868360</td>\n",
       "      <td>1398.860436</td>\n",
       "      <td>-499.764529</td>\n",
       "      <td>1398.075709</td>\n",
       "      <td>...</td>\n",
       "      <td>11.962366</td>\n",
       "      <td>-498.767484</td>\n",
       "      <td>8.096893</td>\n",
       "      <td>-500.827423</td>\n",
       "      <td>8.071056</td>\n",
       "      <td>-500.801673</td>\n",
       "      <td>4.905125</td>\n",
       "      <td>-499.828510</td>\n",
       "      <td>24.994862</td>\n",
       "      <td>-500.622559</td>\n",
       "    </tr>\n",
       "    <tr>\n",
       "      <th>3</th>\n",
       "      <td>2016-09-01 03:59:59</td>\n",
       "      <td>215.336236</td>\n",
       "      <td>12.006805</td>\n",
       "      <td>7.640000</td>\n",
       "      <td>0.863514</td>\n",
       "      <td>1399.618111</td>\n",
       "      <td>-498.863574</td>\n",
       "      <td>1397.440120</td>\n",
       "      <td>-499.211024</td>\n",
       "      <td>1400.129303</td>\n",
       "      <td>...</td>\n",
       "      <td>12.033091</td>\n",
       "      <td>-498.350935</td>\n",
       "      <td>8.074946</td>\n",
       "      <td>-499.474407</td>\n",
       "      <td>7.897085</td>\n",
       "      <td>-500.868509</td>\n",
       "      <td>4.931400</td>\n",
       "      <td>-499.963623</td>\n",
       "      <td>24.948919</td>\n",
       "      <td>-498.709987</td>\n",
       "    </tr>\n",
       "    <tr>\n",
       "      <th>4</th>\n",
       "      <td>2016-09-01 04:59:59</td>\n",
       "      <td>199.099327</td>\n",
       "      <td>10.682530</td>\n",
       "      <td>7.530000</td>\n",
       "      <td>0.805575</td>\n",
       "      <td>1401.268123</td>\n",
       "      <td>-500.808305</td>\n",
       "      <td>1398.128818</td>\n",
       "      <td>-499.504543</td>\n",
       "      <td>1402.172226</td>\n",
       "      <td>...</td>\n",
       "      <td>12.025367</td>\n",
       "      <td>-500.786497</td>\n",
       "      <td>8.054678</td>\n",
       "      <td>-500.397500</td>\n",
       "      <td>8.107890</td>\n",
       "      <td>-509.526725</td>\n",
       "      <td>4.957674</td>\n",
       "      <td>-500.360026</td>\n",
       "      <td>25.003331</td>\n",
       "      <td>-500.856333</td>\n",
       "    </tr>\n",
       "  </tbody>\n",
       "</table>\n",
       "<p>5 rows × 53 columns</p>\n",
       "</div>"
      ],
      "text/plain": [
       "                  date  primary_cleaner.input.sulfate  \\\n",
       "0  2016-09-01 00:59:59                     210.800909   \n",
       "1  2016-09-01 01:59:59                     215.392455   \n",
       "2  2016-09-01 02:59:59                     215.259946   \n",
       "3  2016-09-01 03:59:59                     215.336236   \n",
       "4  2016-09-01 04:59:59                     199.099327   \n",
       "\n",
       "   primary_cleaner.input.depressant  primary_cleaner.input.feed_size  \\\n",
       "0                         14.993118                         8.080000   \n",
       "1                         14.987471                         8.080000   \n",
       "2                         12.884934                         7.786667   \n",
       "3                         12.006805                         7.640000   \n",
       "4                         10.682530                         7.530000   \n",
       "\n",
       "   primary_cleaner.input.xanthate  primary_cleaner.state.floatbank8_a_air  \\\n",
       "0                        1.005021                             1398.981301   \n",
       "1                        0.990469                             1398.777912   \n",
       "2                        0.996043                             1398.493666   \n",
       "3                        0.863514                             1399.618111   \n",
       "4                        0.805575                             1401.268123   \n",
       "\n",
       "   primary_cleaner.state.floatbank8_a_level  \\\n",
       "0                               -500.225577   \n",
       "1                               -500.057435   \n",
       "2                               -500.868360   \n",
       "3                               -498.863574   \n",
       "4                               -500.808305   \n",
       "\n",
       "   primary_cleaner.state.floatbank8_b_air  \\\n",
       "0                             1399.144926   \n",
       "1                             1398.055362   \n",
       "2                             1398.860436   \n",
       "3                             1397.440120   \n",
       "4                             1398.128818   \n",
       "\n",
       "   primary_cleaner.state.floatbank8_b_level  \\\n",
       "0                               -499.919735   \n",
       "1                               -499.778182   \n",
       "2                               -499.764529   \n",
       "3                               -499.211024   \n",
       "4                               -499.504543   \n",
       "\n",
       "   primary_cleaner.state.floatbank8_c_air  ...  \\\n",
       "0                             1400.102998  ...   \n",
       "1                             1396.151033  ...   \n",
       "2                             1398.075709  ...   \n",
       "3                             1400.129303  ...   \n",
       "4                             1402.172226  ...   \n",
       "\n",
       "   secondary_cleaner.state.floatbank4_a_air  \\\n",
       "0                                 12.023554   \n",
       "1                                 12.058140   \n",
       "2                                 11.962366   \n",
       "3                                 12.033091   \n",
       "4                                 12.025367   \n",
       "\n",
       "   secondary_cleaner.state.floatbank4_a_level  \\\n",
       "0                                 -497.795834   \n",
       "1                                 -498.695773   \n",
       "2                                 -498.767484   \n",
       "3                                 -498.350935   \n",
       "4                                 -500.786497   \n",
       "\n",
       "   secondary_cleaner.state.floatbank4_b_air  \\\n",
       "0                                  8.016656   \n",
       "1                                  8.130979   \n",
       "2                                  8.096893   \n",
       "3                                  8.074946   \n",
       "4                                  8.054678   \n",
       "\n",
       "   secondary_cleaner.state.floatbank4_b_level  \\\n",
       "0                                 -501.289139   \n",
       "1                                 -499.634209   \n",
       "2                                 -500.827423   \n",
       "3                                 -499.474407   \n",
       "4                                 -500.397500   \n",
       "\n",
       "   secondary_cleaner.state.floatbank5_a_air  \\\n",
       "0                                  7.946562   \n",
       "1                                  7.958270   \n",
       "2                                  8.071056   \n",
       "3                                  7.897085   \n",
       "4                                  8.107890   \n",
       "\n",
       "   secondary_cleaner.state.floatbank5_a_level  \\\n",
       "0                                 -432.317850   \n",
       "1                                 -525.839648   \n",
       "2                                 -500.801673   \n",
       "3                                 -500.868509   \n",
       "4                                 -509.526725   \n",
       "\n",
       "   secondary_cleaner.state.floatbank5_b_air  \\\n",
       "0                                  4.872511   \n",
       "1                                  4.878850   \n",
       "2                                  4.905125   \n",
       "3                                  4.931400   \n",
       "4                                  4.957674   \n",
       "\n",
       "   secondary_cleaner.state.floatbank5_b_level  \\\n",
       "0                                 -500.037437   \n",
       "1                                 -500.162375   \n",
       "2                                 -499.828510   \n",
       "3                                 -499.963623   \n",
       "4                                 -500.360026   \n",
       "\n",
       "   secondary_cleaner.state.floatbank6_a_air  \\\n",
       "0                                 26.705889   \n",
       "1                                 25.019940   \n",
       "2                                 24.994862   \n",
       "3                                 24.948919   \n",
       "4                                 25.003331   \n",
       "\n",
       "   secondary_cleaner.state.floatbank6_a_level  \n",
       "0                                 -499.709414  \n",
       "1                                 -499.819438  \n",
       "2                                 -500.622559  \n",
       "3                                 -498.709987  \n",
       "4                                 -500.856333  \n",
       "\n",
       "[5 rows x 53 columns]"
      ]
     },
     "execution_count": 3,
     "metadata": {},
     "output_type": "execute_result"
    }
   ],
   "source": [
    "df_test = pd.read_csv('/datasets/gold_recovery_test_new.csv')\n",
    "df_test.head()"
   ]
  },
  {
   "cell_type": "code",
   "execution_count": 4,
   "metadata": {},
   "outputs": [
    {
     "data": {
      "text/html": [
       "<div>\n",
       "<style scoped>\n",
       "    .dataframe tbody tr th:only-of-type {\n",
       "        vertical-align: middle;\n",
       "    }\n",
       "\n",
       "    .dataframe tbody tr th {\n",
       "        vertical-align: top;\n",
       "    }\n",
       "\n",
       "    .dataframe thead th {\n",
       "        text-align: right;\n",
       "    }\n",
       "</style>\n",
       "<table border=\"1\" class=\"dataframe\">\n",
       "  <thead>\n",
       "    <tr style=\"text-align: right;\">\n",
       "      <th></th>\n",
       "      <th>date</th>\n",
       "      <th>final.output.concentrate_ag</th>\n",
       "      <th>final.output.concentrate_pb</th>\n",
       "      <th>final.output.concentrate_sol</th>\n",
       "      <th>final.output.concentrate_au</th>\n",
       "      <th>final.output.recovery</th>\n",
       "      <th>final.output.tail_ag</th>\n",
       "      <th>final.output.tail_pb</th>\n",
       "      <th>final.output.tail_sol</th>\n",
       "      <th>final.output.tail_au</th>\n",
       "      <th>...</th>\n",
       "      <th>secondary_cleaner.state.floatbank4_a_air</th>\n",
       "      <th>secondary_cleaner.state.floatbank4_a_level</th>\n",
       "      <th>secondary_cleaner.state.floatbank4_b_air</th>\n",
       "      <th>secondary_cleaner.state.floatbank4_b_level</th>\n",
       "      <th>secondary_cleaner.state.floatbank5_a_air</th>\n",
       "      <th>secondary_cleaner.state.floatbank5_a_level</th>\n",
       "      <th>secondary_cleaner.state.floatbank5_b_air</th>\n",
       "      <th>secondary_cleaner.state.floatbank5_b_level</th>\n",
       "      <th>secondary_cleaner.state.floatbank6_a_air</th>\n",
       "      <th>secondary_cleaner.state.floatbank6_a_level</th>\n",
       "    </tr>\n",
       "  </thead>\n",
       "  <tbody>\n",
       "    <tr>\n",
       "      <th>0</th>\n",
       "      <td>2016-01-15 00:00:00</td>\n",
       "      <td>6.055403</td>\n",
       "      <td>9.889648</td>\n",
       "      <td>5.507324</td>\n",
       "      <td>42.192020</td>\n",
       "      <td>70.541216</td>\n",
       "      <td>10.411962</td>\n",
       "      <td>0.895447</td>\n",
       "      <td>16.904297</td>\n",
       "      <td>2.143149</td>\n",
       "      <td>...</td>\n",
       "      <td>14.016835</td>\n",
       "      <td>-502.488007</td>\n",
       "      <td>12.099931</td>\n",
       "      <td>-504.715942</td>\n",
       "      <td>9.925633</td>\n",
       "      <td>-498.310211</td>\n",
       "      <td>8.079666</td>\n",
       "      <td>-500.470978</td>\n",
       "      <td>14.151341</td>\n",
       "      <td>-605.841980</td>\n",
       "    </tr>\n",
       "    <tr>\n",
       "      <th>1</th>\n",
       "      <td>2016-01-15 01:00:00</td>\n",
       "      <td>6.029369</td>\n",
       "      <td>9.968944</td>\n",
       "      <td>5.257781</td>\n",
       "      <td>42.701629</td>\n",
       "      <td>69.266198</td>\n",
       "      <td>10.462676</td>\n",
       "      <td>0.927452</td>\n",
       "      <td>16.634514</td>\n",
       "      <td>2.224930</td>\n",
       "      <td>...</td>\n",
       "      <td>13.992281</td>\n",
       "      <td>-505.503262</td>\n",
       "      <td>11.950531</td>\n",
       "      <td>-501.331529</td>\n",
       "      <td>10.039245</td>\n",
       "      <td>-500.169983</td>\n",
       "      <td>7.984757</td>\n",
       "      <td>-500.582168</td>\n",
       "      <td>13.998353</td>\n",
       "      <td>-599.787184</td>\n",
       "    </tr>\n",
       "    <tr>\n",
       "      <th>2</th>\n",
       "      <td>2016-01-15 02:00:00</td>\n",
       "      <td>6.055926</td>\n",
       "      <td>10.213995</td>\n",
       "      <td>5.383759</td>\n",
       "      <td>42.657501</td>\n",
       "      <td>68.116445</td>\n",
       "      <td>10.507046</td>\n",
       "      <td>0.953716</td>\n",
       "      <td>16.208849</td>\n",
       "      <td>2.257889</td>\n",
       "      <td>...</td>\n",
       "      <td>14.015015</td>\n",
       "      <td>-502.520901</td>\n",
       "      <td>11.912783</td>\n",
       "      <td>-501.133383</td>\n",
       "      <td>10.070913</td>\n",
       "      <td>-500.129135</td>\n",
       "      <td>8.013877</td>\n",
       "      <td>-500.517572</td>\n",
       "      <td>14.028663</td>\n",
       "      <td>-601.427363</td>\n",
       "    </tr>\n",
       "    <tr>\n",
       "      <th>3</th>\n",
       "      <td>2016-01-15 03:00:00</td>\n",
       "      <td>6.047977</td>\n",
       "      <td>9.977019</td>\n",
       "      <td>4.858634</td>\n",
       "      <td>42.689819</td>\n",
       "      <td>68.347543</td>\n",
       "      <td>10.422762</td>\n",
       "      <td>0.883763</td>\n",
       "      <td>16.532835</td>\n",
       "      <td>2.146849</td>\n",
       "      <td>...</td>\n",
       "      <td>14.036510</td>\n",
       "      <td>-500.857308</td>\n",
       "      <td>11.999550</td>\n",
       "      <td>-501.193686</td>\n",
       "      <td>9.970366</td>\n",
       "      <td>-499.201640</td>\n",
       "      <td>7.977324</td>\n",
       "      <td>-500.255908</td>\n",
       "      <td>14.005551</td>\n",
       "      <td>-599.996129</td>\n",
       "    </tr>\n",
       "    <tr>\n",
       "      <th>4</th>\n",
       "      <td>2016-01-15 04:00:00</td>\n",
       "      <td>6.148599</td>\n",
       "      <td>10.142511</td>\n",
       "      <td>4.939416</td>\n",
       "      <td>42.774141</td>\n",
       "      <td>66.927016</td>\n",
       "      <td>10.360302</td>\n",
       "      <td>0.792826</td>\n",
       "      <td>16.525686</td>\n",
       "      <td>2.055292</td>\n",
       "      <td>...</td>\n",
       "      <td>14.027298</td>\n",
       "      <td>-499.838632</td>\n",
       "      <td>11.953070</td>\n",
       "      <td>-501.053894</td>\n",
       "      <td>9.925709</td>\n",
       "      <td>-501.686727</td>\n",
       "      <td>7.894242</td>\n",
       "      <td>-500.356035</td>\n",
       "      <td>13.996647</td>\n",
       "      <td>-601.496691</td>\n",
       "    </tr>\n",
       "  </tbody>\n",
       "</table>\n",
       "<p>5 rows × 87 columns</p>\n",
       "</div>"
      ],
      "text/plain": [
       "                  date  final.output.concentrate_ag  \\\n",
       "0  2016-01-15 00:00:00                     6.055403   \n",
       "1  2016-01-15 01:00:00                     6.029369   \n",
       "2  2016-01-15 02:00:00                     6.055926   \n",
       "3  2016-01-15 03:00:00                     6.047977   \n",
       "4  2016-01-15 04:00:00                     6.148599   \n",
       "\n",
       "   final.output.concentrate_pb  final.output.concentrate_sol  \\\n",
       "0                     9.889648                      5.507324   \n",
       "1                     9.968944                      5.257781   \n",
       "2                    10.213995                      5.383759   \n",
       "3                     9.977019                      4.858634   \n",
       "4                    10.142511                      4.939416   \n",
       "\n",
       "   final.output.concentrate_au  final.output.recovery  final.output.tail_ag  \\\n",
       "0                    42.192020              70.541216             10.411962   \n",
       "1                    42.701629              69.266198             10.462676   \n",
       "2                    42.657501              68.116445             10.507046   \n",
       "3                    42.689819              68.347543             10.422762   \n",
       "4                    42.774141              66.927016             10.360302   \n",
       "\n",
       "   final.output.tail_pb  final.output.tail_sol  final.output.tail_au  ...  \\\n",
       "0              0.895447              16.904297              2.143149  ...   \n",
       "1              0.927452              16.634514              2.224930  ...   \n",
       "2              0.953716              16.208849              2.257889  ...   \n",
       "3              0.883763              16.532835              2.146849  ...   \n",
       "4              0.792826              16.525686              2.055292  ...   \n",
       "\n",
       "   secondary_cleaner.state.floatbank4_a_air  \\\n",
       "0                                 14.016835   \n",
       "1                                 13.992281   \n",
       "2                                 14.015015   \n",
       "3                                 14.036510   \n",
       "4                                 14.027298   \n",
       "\n",
       "   secondary_cleaner.state.floatbank4_a_level  \\\n",
       "0                                 -502.488007   \n",
       "1                                 -505.503262   \n",
       "2                                 -502.520901   \n",
       "3                                 -500.857308   \n",
       "4                                 -499.838632   \n",
       "\n",
       "   secondary_cleaner.state.floatbank4_b_air  \\\n",
       "0                                 12.099931   \n",
       "1                                 11.950531   \n",
       "2                                 11.912783   \n",
       "3                                 11.999550   \n",
       "4                                 11.953070   \n",
       "\n",
       "   secondary_cleaner.state.floatbank4_b_level  \\\n",
       "0                                 -504.715942   \n",
       "1                                 -501.331529   \n",
       "2                                 -501.133383   \n",
       "3                                 -501.193686   \n",
       "4                                 -501.053894   \n",
       "\n",
       "   secondary_cleaner.state.floatbank5_a_air  \\\n",
       "0                                  9.925633   \n",
       "1                                 10.039245   \n",
       "2                                 10.070913   \n",
       "3                                  9.970366   \n",
       "4                                  9.925709   \n",
       "\n",
       "   secondary_cleaner.state.floatbank5_a_level  \\\n",
       "0                                 -498.310211   \n",
       "1                                 -500.169983   \n",
       "2                                 -500.129135   \n",
       "3                                 -499.201640   \n",
       "4                                 -501.686727   \n",
       "\n",
       "   secondary_cleaner.state.floatbank5_b_air  \\\n",
       "0                                  8.079666   \n",
       "1                                  7.984757   \n",
       "2                                  8.013877   \n",
       "3                                  7.977324   \n",
       "4                                  7.894242   \n",
       "\n",
       "   secondary_cleaner.state.floatbank5_b_level  \\\n",
       "0                                 -500.470978   \n",
       "1                                 -500.582168   \n",
       "2                                 -500.517572   \n",
       "3                                 -500.255908   \n",
       "4                                 -500.356035   \n",
       "\n",
       "   secondary_cleaner.state.floatbank6_a_air  \\\n",
       "0                                 14.151341   \n",
       "1                                 13.998353   \n",
       "2                                 14.028663   \n",
       "3                                 14.005551   \n",
       "4                                 13.996647   \n",
       "\n",
       "   secondary_cleaner.state.floatbank6_a_level  \n",
       "0                                 -605.841980  \n",
       "1                                 -599.787184  \n",
       "2                                 -601.427363  \n",
       "3                                 -599.996129  \n",
       "4                                 -601.496691  \n",
       "\n",
       "[5 rows x 87 columns]"
      ]
     },
     "execution_count": 4,
     "metadata": {},
     "output_type": "execute_result"
    }
   ],
   "source": [
    "df_full = pd.read_csv('/datasets/gold_recovery_full_new.csv')\n",
    "df_full.head()"
   ]
  },
  {
   "cell_type": "code",
   "execution_count": 5,
   "metadata": {
    "scrolled": true
   },
   "outputs": [
    {
     "name": "stdout",
     "output_type": "stream",
     "text": [
      "<class 'pandas.core.frame.DataFrame'>\n",
      "RangeIndex: 14149 entries, 0 to 14148\n",
      "Data columns (total 87 columns):\n",
      " #   Column                                              Non-Null Count  Dtype  \n",
      "---  ------                                              --------------  -----  \n",
      " 0   date                                                14149 non-null  object \n",
      " 1   final.output.concentrate_ag                         14148 non-null  float64\n",
      " 2   final.output.concentrate_pb                         14148 non-null  float64\n",
      " 3   final.output.concentrate_sol                        13938 non-null  float64\n",
      " 4   final.output.concentrate_au                         14149 non-null  float64\n",
      " 5   final.output.recovery                               14149 non-null  float64\n",
      " 6   final.output.tail_ag                                14149 non-null  float64\n",
      " 7   final.output.tail_pb                                14049 non-null  float64\n",
      " 8   final.output.tail_sol                               14144 non-null  float64\n",
      " 9   final.output.tail_au                                14149 non-null  float64\n",
      " 10  primary_cleaner.input.sulfate                       14129 non-null  float64\n",
      " 11  primary_cleaner.input.depressant                    14117 non-null  float64\n",
      " 12  primary_cleaner.input.feed_size                     14149 non-null  float64\n",
      " 13  primary_cleaner.input.xanthate                      14049 non-null  float64\n",
      " 14  primary_cleaner.output.concentrate_ag               14149 non-null  float64\n",
      " 15  primary_cleaner.output.concentrate_pb               14063 non-null  float64\n",
      " 16  primary_cleaner.output.concentrate_sol              13863 non-null  float64\n",
      " 17  primary_cleaner.output.concentrate_au               14149 non-null  float64\n",
      " 18  primary_cleaner.output.tail_ag                      14148 non-null  float64\n",
      " 19  primary_cleaner.output.tail_pb                      14134 non-null  float64\n",
      " 20  primary_cleaner.output.tail_sol                     14103 non-null  float64\n",
      " 21  primary_cleaner.output.tail_au                      14149 non-null  float64\n",
      " 22  primary_cleaner.state.floatbank8_a_air              14145 non-null  float64\n",
      " 23  primary_cleaner.state.floatbank8_a_level            14148 non-null  float64\n",
      " 24  primary_cleaner.state.floatbank8_b_air              14145 non-null  float64\n",
      " 25  primary_cleaner.state.floatbank8_b_level            14148 non-null  float64\n",
      " 26  primary_cleaner.state.floatbank8_c_air              14147 non-null  float64\n",
      " 27  primary_cleaner.state.floatbank8_c_level            14148 non-null  float64\n",
      " 28  primary_cleaner.state.floatbank8_d_air              14146 non-null  float64\n",
      " 29  primary_cleaner.state.floatbank8_d_level            14148 non-null  float64\n",
      " 30  rougher.calculation.sulfate_to_au_concentrate       14148 non-null  float64\n",
      " 31  rougher.calculation.floatbank10_sulfate_to_au_feed  14148 non-null  float64\n",
      " 32  rougher.calculation.floatbank11_sulfate_to_au_feed  14148 non-null  float64\n",
      " 33  rougher.calculation.au_pb_ratio                     14149 non-null  float64\n",
      " 34  rougher.input.feed_ag                               14149 non-null  float64\n",
      " 35  rougher.input.feed_pb                               14049 non-null  float64\n",
      " 36  rougher.input.feed_rate                             14141 non-null  float64\n",
      " 37  rougher.input.feed_size                             14005 non-null  float64\n",
      " 38  rougher.input.feed_sol                              14071 non-null  float64\n",
      " 39  rougher.input.feed_au                               14149 non-null  float64\n",
      " 40  rougher.input.floatbank10_sulfate                   14120 non-null  float64\n",
      " 41  rougher.input.floatbank10_xanthate                  14141 non-null  float64\n",
      " 42  rougher.input.floatbank11_sulfate                   14113 non-null  float64\n",
      " 43  rougher.input.floatbank11_xanthate                  13721 non-null  float64\n",
      " 44  rougher.output.concentrate_ag                       14149 non-null  float64\n",
      " 45  rougher.output.concentrate_pb                       14149 non-null  float64\n",
      " 46  rougher.output.concentrate_sol                      14127 non-null  float64\n",
      " 47  rougher.output.concentrate_au                       14149 non-null  float64\n",
      " 48  rougher.output.recovery                             14149 non-null  float64\n",
      " 49  rougher.output.tail_ag                              14148 non-null  float64\n",
      " 50  rougher.output.tail_pb                              14149 non-null  float64\n",
      " 51  rougher.output.tail_sol                             14149 non-null  float64\n",
      " 52  rougher.output.tail_au                              14149 non-null  float64\n",
      " 53  rougher.state.floatbank10_a_air                     14148 non-null  float64\n",
      " 54  rougher.state.floatbank10_a_level                   14148 non-null  float64\n",
      " 55  rougher.state.floatbank10_b_air                     14148 non-null  float64\n",
      " 56  rougher.state.floatbank10_b_level                   14148 non-null  float64\n",
      " 57  rougher.state.floatbank10_c_air                     14148 non-null  float64\n",
      " 58  rougher.state.floatbank10_c_level                   14148 non-null  float64\n",
      " 59  rougher.state.floatbank10_d_air                     14149 non-null  float64\n",
      " 60  rougher.state.floatbank10_d_level                   14149 non-null  float64\n",
      " 61  rougher.state.floatbank10_e_air                     13713 non-null  float64\n",
      " 62  rougher.state.floatbank10_e_level                   14149 non-null  float64\n",
      " 63  rougher.state.floatbank10_f_air                     14149 non-null  float64\n",
      " 64  rougher.state.floatbank10_f_level                   14149 non-null  float64\n",
      " 65  secondary_cleaner.output.tail_ag                    14147 non-null  float64\n",
      " 66  secondary_cleaner.output.tail_pb                    14139 non-null  float64\n",
      " 67  secondary_cleaner.output.tail_sol                   12544 non-null  float64\n",
      " 68  secondary_cleaner.output.tail_au                    14149 non-null  float64\n",
      " 69  secondary_cleaner.state.floatbank2_a_air            13932 non-null  float64\n",
      " 70  secondary_cleaner.state.floatbank2_a_level          14148 non-null  float64\n",
      " 71  secondary_cleaner.state.floatbank2_b_air            14128 non-null  float64\n",
      " 72  secondary_cleaner.state.floatbank2_b_level          14148 non-null  float64\n",
      " 73  secondary_cleaner.state.floatbank3_a_air            14145 non-null  float64\n",
      " 74  secondary_cleaner.state.floatbank3_a_level          14148 non-null  float64\n",
      " 75  secondary_cleaner.state.floatbank3_b_air            14148 non-null  float64\n",
      " 76  secondary_cleaner.state.floatbank3_b_level          14148 non-null  float64\n",
      " 77  secondary_cleaner.state.floatbank4_a_air            14143 non-null  float64\n",
      " 78  secondary_cleaner.state.floatbank4_a_level          14148 non-null  float64\n",
      " 79  secondary_cleaner.state.floatbank4_b_air            14148 non-null  float64\n",
      " 80  secondary_cleaner.state.floatbank4_b_level          14148 non-null  float64\n",
      " 81  secondary_cleaner.state.floatbank5_a_air            14148 non-null  float64\n",
      " 82  secondary_cleaner.state.floatbank5_a_level          14148 non-null  float64\n",
      " 83  secondary_cleaner.state.floatbank5_b_air            14148 non-null  float64\n",
      " 84  secondary_cleaner.state.floatbank5_b_level          14148 non-null  float64\n",
      " 85  secondary_cleaner.state.floatbank6_a_air            14147 non-null  float64\n",
      " 86  secondary_cleaner.state.floatbank6_a_level          14148 non-null  float64\n",
      "dtypes: float64(86), object(1)\n",
      "memory usage: 9.4+ MB\n"
     ]
    }
   ],
   "source": [
    "df_train.info()"
   ]
  },
  {
   "cell_type": "markdown",
   "metadata": {},
   "source": [
    "<div class=\"alert alert-info\">\n",
    "Проверим, что эффективность обогащения рассчитана правильно. \n",
    "    <br>\n",
    "Вычислим её на обучающей выборке для признака rougher.output.recovery. \n",
    "    <br>\n",
    "Найдём MAE между вашими расчётами и значением признака.</div>"
   ]
  },
  {
   "cell_type": "code",
   "execution_count": 6,
   "metadata": {},
   "outputs": [
    {
     "data": {
      "text/plain": [
       "0        87.107763\n",
       "1        86.843261\n",
       "2        86.842308\n",
       "3        87.226430\n",
       "4        86.688794\n",
       "           ...    \n",
       "14144    89.574376\n",
       "14145    87.724007\n",
       "14146    88.890579\n",
       "14147    89.858126\n",
       "14148    89.514960\n",
       "Name: rougher.output.recovery, Length: 14149, dtype: float64"
      ]
     },
     "execution_count": 6,
     "metadata": {},
     "output_type": "execute_result"
    }
   ],
   "source": [
    "df_train['rougher.output.recovery']"
   ]
  },
  {
   "cell_type": "code",
   "execution_count": 7,
   "metadata": {},
   "outputs": [],
   "source": [
    "rougher_output_recovery = df_train['rougher.output.recovery']"
   ]
  },
  {
   "cell_type": "markdown",
   "metadata": {},
   "source": [
    "<div class=\"alert alert-info\">\n",
    "доля золота в сырье/концентрате до флотации - rougher.input.feed_au\n",
    "    <br>\n",
    "доля золота в отвальных хвостах после флотации - rougher.output.tail_au\n",
    "    <br>\n",
    "доля золота в концентрате после флотации - rougher.output.concentrate_au\n",
    "</div>"
   ]
  },
  {
   "cell_type": "code",
   "execution_count": 8,
   "metadata": {},
   "outputs": [
    {
     "data": {
      "text/plain": [
       "0        87.107763\n",
       "1        86.843261\n",
       "2        86.842308\n",
       "3        87.226430\n",
       "4        86.688794\n",
       "           ...    \n",
       "14144    89.574376\n",
       "14145    87.724007\n",
       "14146    88.890579\n",
       "14147    89.858126\n",
       "14148    89.514960\n",
       "Length: 14149, dtype: float64"
      ]
     },
     "execution_count": 8,
     "metadata": {},
     "output_type": "execute_result"
    }
   ],
   "source": [
    "rougher_output_recovery_calc = ((df_train['rougher.output.concentrate_au'] * \n",
    "                               (df_train['rougher.input.feed_au'] - \n",
    "                                df_train['rougher.output.tail_au'])) / (df_train['rougher.input.feed_au'] * \n",
    "                (df_train['rougher.output.concentrate_au'] - df_train['rougher.output.tail_au']))) * 100\n",
    "rougher_output_recovery_calc"
   ]
  },
  {
   "cell_type": "code",
   "execution_count": 9,
   "metadata": {},
   "outputs": [
    {
     "data": {
      "text/plain": [
       "9.73512347450521e-15"
      ]
     },
     "execution_count": 9,
     "metadata": {},
     "output_type": "execute_result"
    }
   ],
   "source": [
    "mae = mean_absolute_error(df_train['rougher.output.recovery'], rougher_output_recovery_calc)\n",
    "mae"
   ]
  },
  {
   "cell_type": "markdown",
   "metadata": {},
   "source": [
    "<div class=\"alert alert-info\">\n",
    "MAE стремиться к нулю, значит в среднем посчитанные значения имеют нулевую ошибку (разницу между посчитанным и истинным значением). Соответственно мы можем сделать вывод что наши расчеты правильные и целевой признак рассчитан верно.\n",
    "</div>"
   ]
  },
  {
   "cell_type": "markdown",
   "metadata": {},
   "source": [
    "<div class=\"alert alert-info\">Проанализируем признаки, недоступные в тестовой выборке. Что это за параметры? К какому типу относятся?</div>"
   ]
  },
  {
   "cell_type": "code",
   "execution_count": 10,
   "metadata": {},
   "outputs": [
    {
     "data": {
      "text/plain": [
       "{'final.output.concentrate_ag',\n",
       " 'final.output.concentrate_au',\n",
       " 'final.output.concentrate_pb',\n",
       " 'final.output.concentrate_sol',\n",
       " 'final.output.recovery',\n",
       " 'final.output.tail_ag',\n",
       " 'final.output.tail_au',\n",
       " 'final.output.tail_pb',\n",
       " 'final.output.tail_sol',\n",
       " 'primary_cleaner.output.concentrate_ag',\n",
       " 'primary_cleaner.output.concentrate_au',\n",
       " 'primary_cleaner.output.concentrate_pb',\n",
       " 'primary_cleaner.output.concentrate_sol',\n",
       " 'primary_cleaner.output.tail_ag',\n",
       " 'primary_cleaner.output.tail_au',\n",
       " 'primary_cleaner.output.tail_pb',\n",
       " 'primary_cleaner.output.tail_sol',\n",
       " 'rougher.calculation.au_pb_ratio',\n",
       " 'rougher.calculation.floatbank10_sulfate_to_au_feed',\n",
       " 'rougher.calculation.floatbank11_sulfate_to_au_feed',\n",
       " 'rougher.calculation.sulfate_to_au_concentrate',\n",
       " 'rougher.output.concentrate_ag',\n",
       " 'rougher.output.concentrate_au',\n",
       " 'rougher.output.concentrate_pb',\n",
       " 'rougher.output.concentrate_sol',\n",
       " 'rougher.output.recovery',\n",
       " 'rougher.output.tail_ag',\n",
       " 'rougher.output.tail_au',\n",
       " 'rougher.output.tail_pb',\n",
       " 'rougher.output.tail_sol',\n",
       " 'secondary_cleaner.output.tail_ag',\n",
       " 'secondary_cleaner.output.tail_au',\n",
       " 'secondary_cleaner.output.tail_pb',\n",
       " 'secondary_cleaner.output.tail_sol'}"
      ]
     },
     "execution_count": 10,
     "metadata": {},
     "output_type": "execute_result"
    }
   ],
   "source": [
    "set_difference = set(df_train.columns).symmetric_difference(set(df_test.columns))\n",
    "set_difference"
   ]
  },
  {
   "cell_type": "markdown",
   "metadata": {},
   "source": [
    "<div class=\"alert alert-info\">\n",
    "Эти признаки нам недоступны во время прогнозирования - концентрация веществ на разных этапах флотации. А в тестовой выборке находятся те признаки, которые нам известны на момент начала процесса. Поэтому при обучении будем использовать только те признаки, которые есть в тесте. У нас будет две модели: одна для грубой очистки, вторая для финальной. Признаки будем использовать одни и те же для обеих моделей.</div>"
   ]
  },
  {
   "cell_type": "markdown",
   "metadata": {},
   "source": [
    "<div class=\"alert alert-info\">Проведём предобработку данных.\n",
    "Посмотрим на пропущенные значения</div>"
   ]
  },
  {
   "cell_type": "code",
   "execution_count": 11,
   "metadata": {
    "scrolled": true
   },
   "outputs": [
    {
     "name": "stdout",
     "output_type": "stream",
     "text": [
      "<class 'pandas.core.frame.DataFrame'>\n",
      "RangeIndex: 14149 entries, 0 to 14148\n",
      "Data columns (total 87 columns):\n",
      " #   Column                                              Non-Null Count  Dtype  \n",
      "---  ------                                              --------------  -----  \n",
      " 0   date                                                14149 non-null  object \n",
      " 1   final.output.concentrate_ag                         14148 non-null  float64\n",
      " 2   final.output.concentrate_pb                         14148 non-null  float64\n",
      " 3   final.output.concentrate_sol                        13938 non-null  float64\n",
      " 4   final.output.concentrate_au                         14149 non-null  float64\n",
      " 5   final.output.recovery                               14149 non-null  float64\n",
      " 6   final.output.tail_ag                                14149 non-null  float64\n",
      " 7   final.output.tail_pb                                14049 non-null  float64\n",
      " 8   final.output.tail_sol                               14144 non-null  float64\n",
      " 9   final.output.tail_au                                14149 non-null  float64\n",
      " 10  primary_cleaner.input.sulfate                       14129 non-null  float64\n",
      " 11  primary_cleaner.input.depressant                    14117 non-null  float64\n",
      " 12  primary_cleaner.input.feed_size                     14149 non-null  float64\n",
      " 13  primary_cleaner.input.xanthate                      14049 non-null  float64\n",
      " 14  primary_cleaner.output.concentrate_ag               14149 non-null  float64\n",
      " 15  primary_cleaner.output.concentrate_pb               14063 non-null  float64\n",
      " 16  primary_cleaner.output.concentrate_sol              13863 non-null  float64\n",
      " 17  primary_cleaner.output.concentrate_au               14149 non-null  float64\n",
      " 18  primary_cleaner.output.tail_ag                      14148 non-null  float64\n",
      " 19  primary_cleaner.output.tail_pb                      14134 non-null  float64\n",
      " 20  primary_cleaner.output.tail_sol                     14103 non-null  float64\n",
      " 21  primary_cleaner.output.tail_au                      14149 non-null  float64\n",
      " 22  primary_cleaner.state.floatbank8_a_air              14145 non-null  float64\n",
      " 23  primary_cleaner.state.floatbank8_a_level            14148 non-null  float64\n",
      " 24  primary_cleaner.state.floatbank8_b_air              14145 non-null  float64\n",
      " 25  primary_cleaner.state.floatbank8_b_level            14148 non-null  float64\n",
      " 26  primary_cleaner.state.floatbank8_c_air              14147 non-null  float64\n",
      " 27  primary_cleaner.state.floatbank8_c_level            14148 non-null  float64\n",
      " 28  primary_cleaner.state.floatbank8_d_air              14146 non-null  float64\n",
      " 29  primary_cleaner.state.floatbank8_d_level            14148 non-null  float64\n",
      " 30  rougher.calculation.sulfate_to_au_concentrate       14148 non-null  float64\n",
      " 31  rougher.calculation.floatbank10_sulfate_to_au_feed  14148 non-null  float64\n",
      " 32  rougher.calculation.floatbank11_sulfate_to_au_feed  14148 non-null  float64\n",
      " 33  rougher.calculation.au_pb_ratio                     14149 non-null  float64\n",
      " 34  rougher.input.feed_ag                               14149 non-null  float64\n",
      " 35  rougher.input.feed_pb                               14049 non-null  float64\n",
      " 36  rougher.input.feed_rate                             14141 non-null  float64\n",
      " 37  rougher.input.feed_size                             14005 non-null  float64\n",
      " 38  rougher.input.feed_sol                              14071 non-null  float64\n",
      " 39  rougher.input.feed_au                               14149 non-null  float64\n",
      " 40  rougher.input.floatbank10_sulfate                   14120 non-null  float64\n",
      " 41  rougher.input.floatbank10_xanthate                  14141 non-null  float64\n",
      " 42  rougher.input.floatbank11_sulfate                   14113 non-null  float64\n",
      " 43  rougher.input.floatbank11_xanthate                  13721 non-null  float64\n",
      " 44  rougher.output.concentrate_ag                       14149 non-null  float64\n",
      " 45  rougher.output.concentrate_pb                       14149 non-null  float64\n",
      " 46  rougher.output.concentrate_sol                      14127 non-null  float64\n",
      " 47  rougher.output.concentrate_au                       14149 non-null  float64\n",
      " 48  rougher.output.recovery                             14149 non-null  float64\n",
      " 49  rougher.output.tail_ag                              14148 non-null  float64\n",
      " 50  rougher.output.tail_pb                              14149 non-null  float64\n",
      " 51  rougher.output.tail_sol                             14149 non-null  float64\n",
      " 52  rougher.output.tail_au                              14149 non-null  float64\n",
      " 53  rougher.state.floatbank10_a_air                     14148 non-null  float64\n",
      " 54  rougher.state.floatbank10_a_level                   14148 non-null  float64\n",
      " 55  rougher.state.floatbank10_b_air                     14148 non-null  float64\n",
      " 56  rougher.state.floatbank10_b_level                   14148 non-null  float64\n",
      " 57  rougher.state.floatbank10_c_air                     14148 non-null  float64\n",
      " 58  rougher.state.floatbank10_c_level                   14148 non-null  float64\n",
      " 59  rougher.state.floatbank10_d_air                     14149 non-null  float64\n",
      " 60  rougher.state.floatbank10_d_level                   14149 non-null  float64\n",
      " 61  rougher.state.floatbank10_e_air                     13713 non-null  float64\n",
      " 62  rougher.state.floatbank10_e_level                   14149 non-null  float64\n",
      " 63  rougher.state.floatbank10_f_air                     14149 non-null  float64\n",
      " 64  rougher.state.floatbank10_f_level                   14149 non-null  float64\n",
      " 65  secondary_cleaner.output.tail_ag                    14147 non-null  float64\n",
      " 66  secondary_cleaner.output.tail_pb                    14139 non-null  float64\n",
      " 67  secondary_cleaner.output.tail_sol                   12544 non-null  float64\n",
      " 68  secondary_cleaner.output.tail_au                    14149 non-null  float64\n",
      " 69  secondary_cleaner.state.floatbank2_a_air            13932 non-null  float64\n",
      " 70  secondary_cleaner.state.floatbank2_a_level          14148 non-null  float64\n",
      " 71  secondary_cleaner.state.floatbank2_b_air            14128 non-null  float64\n",
      " 72  secondary_cleaner.state.floatbank2_b_level          14148 non-null  float64\n",
      " 73  secondary_cleaner.state.floatbank3_a_air            14145 non-null  float64\n",
      " 74  secondary_cleaner.state.floatbank3_a_level          14148 non-null  float64\n",
      " 75  secondary_cleaner.state.floatbank3_b_air            14148 non-null  float64\n",
      " 76  secondary_cleaner.state.floatbank3_b_level          14148 non-null  float64\n",
      " 77  secondary_cleaner.state.floatbank4_a_air            14143 non-null  float64\n",
      " 78  secondary_cleaner.state.floatbank4_a_level          14148 non-null  float64\n",
      " 79  secondary_cleaner.state.floatbank4_b_air            14148 non-null  float64\n",
      " 80  secondary_cleaner.state.floatbank4_b_level          14148 non-null  float64\n",
      " 81  secondary_cleaner.state.floatbank5_a_air            14148 non-null  float64\n",
      " 82  secondary_cleaner.state.floatbank5_a_level          14148 non-null  float64\n",
      " 83  secondary_cleaner.state.floatbank5_b_air            14148 non-null  float64\n",
      " 84  secondary_cleaner.state.floatbank5_b_level          14148 non-null  float64\n",
      " 85  secondary_cleaner.state.floatbank6_a_air            14147 non-null  float64\n",
      " 86  secondary_cleaner.state.floatbank6_a_level          14148 non-null  float64\n",
      "dtypes: float64(86), object(1)\n",
      "memory usage: 9.4+ MB\n"
     ]
    }
   ],
   "source": [
    "df_train.info()"
   ]
  },
  {
   "cell_type": "markdown",
   "metadata": {},
   "source": [
    "<div class=\"alert alert-info\">Много столбцов, где пропущено всего одно значение, может,и это одна строка?</div>"
   ]
  },
  {
   "cell_type": "code",
   "execution_count": 12,
   "metadata": {},
   "outputs": [
    {
     "data": {
      "text/html": [
       "<div>\n",
       "<style scoped>\n",
       "    .dataframe tbody tr th:only-of-type {\n",
       "        vertical-align: middle;\n",
       "    }\n",
       "\n",
       "    .dataframe tbody tr th {\n",
       "        vertical-align: top;\n",
       "    }\n",
       "\n",
       "    .dataframe thead th {\n",
       "        text-align: right;\n",
       "    }\n",
       "</style>\n",
       "<table border=\"1\" class=\"dataframe\">\n",
       "  <thead>\n",
       "    <tr style=\"text-align: right;\">\n",
       "      <th></th>\n",
       "      <th>date</th>\n",
       "      <th>final.output.concentrate_ag</th>\n",
       "      <th>final.output.concentrate_pb</th>\n",
       "      <th>final.output.concentrate_sol</th>\n",
       "      <th>final.output.concentrate_au</th>\n",
       "      <th>final.output.recovery</th>\n",
       "      <th>final.output.tail_ag</th>\n",
       "      <th>final.output.tail_pb</th>\n",
       "      <th>final.output.tail_sol</th>\n",
       "      <th>final.output.tail_au</th>\n",
       "      <th>...</th>\n",
       "      <th>secondary_cleaner.state.floatbank4_a_air</th>\n",
       "      <th>secondary_cleaner.state.floatbank4_a_level</th>\n",
       "      <th>secondary_cleaner.state.floatbank4_b_air</th>\n",
       "      <th>secondary_cleaner.state.floatbank4_b_level</th>\n",
       "      <th>secondary_cleaner.state.floatbank5_a_air</th>\n",
       "      <th>secondary_cleaner.state.floatbank5_a_level</th>\n",
       "      <th>secondary_cleaner.state.floatbank5_b_air</th>\n",
       "      <th>secondary_cleaner.state.floatbank5_b_level</th>\n",
       "      <th>secondary_cleaner.state.floatbank6_a_air</th>\n",
       "      <th>secondary_cleaner.state.floatbank6_a_level</th>\n",
       "    </tr>\n",
       "  </thead>\n",
       "  <tbody>\n",
       "    <tr>\n",
       "      <th>2869</th>\n",
       "      <td>2016-06-08 17:59:59</td>\n",
       "      <td>NaN</td>\n",
       "      <td>NaN</td>\n",
       "      <td>10.188231</td>\n",
       "      <td>29.020814</td>\n",
       "      <td>63.725335</td>\n",
       "      <td>7.387115</td>\n",
       "      <td>2.072266</td>\n",
       "      <td>16.982505</td>\n",
       "      <td>2.908215</td>\n",
       "      <td>...</td>\n",
       "      <td>8.985634</td>\n",
       "      <td>-548.815307</td>\n",
       "      <td>7.011665</td>\n",
       "      <td>-537.231749</td>\n",
       "      <td>8.031238</td>\n",
       "      <td>-550.028193</td>\n",
       "      <td>5.984399</td>\n",
       "      <td>-549.63625</td>\n",
       "      <td>18.01224</td>\n",
       "      <td>-551.325271</td>\n",
       "    </tr>\n",
       "  </tbody>\n",
       "</table>\n",
       "<p>1 rows × 87 columns</p>\n",
       "</div>"
      ],
      "text/plain": [
       "                     date  final.output.concentrate_ag  \\\n",
       "2869  2016-06-08 17:59:59                          NaN   \n",
       "\n",
       "      final.output.concentrate_pb  final.output.concentrate_sol  \\\n",
       "2869                          NaN                     10.188231   \n",
       "\n",
       "      final.output.concentrate_au  final.output.recovery  \\\n",
       "2869                    29.020814              63.725335   \n",
       "\n",
       "      final.output.tail_ag  final.output.tail_pb  final.output.tail_sol  \\\n",
       "2869              7.387115              2.072266              16.982505   \n",
       "\n",
       "      final.output.tail_au  ...  secondary_cleaner.state.floatbank4_a_air  \\\n",
       "2869              2.908215  ...                                  8.985634   \n",
       "\n",
       "      secondary_cleaner.state.floatbank4_a_level  \\\n",
       "2869                                 -548.815307   \n",
       "\n",
       "      secondary_cleaner.state.floatbank4_b_air  \\\n",
       "2869                                  7.011665   \n",
       "\n",
       "      secondary_cleaner.state.floatbank4_b_level  \\\n",
       "2869                                 -537.231749   \n",
       "\n",
       "      secondary_cleaner.state.floatbank5_a_air  \\\n",
       "2869                                  8.031238   \n",
       "\n",
       "      secondary_cleaner.state.floatbank5_a_level  \\\n",
       "2869                                 -550.028193   \n",
       "\n",
       "      secondary_cleaner.state.floatbank5_b_air  \\\n",
       "2869                                  5.984399   \n",
       "\n",
       "      secondary_cleaner.state.floatbank5_b_level  \\\n",
       "2869                                  -549.63625   \n",
       "\n",
       "      secondary_cleaner.state.floatbank6_a_air  \\\n",
       "2869                                  18.01224   \n",
       "\n",
       "      secondary_cleaner.state.floatbank6_a_level  \n",
       "2869                                 -551.325271  \n",
       "\n",
       "[1 rows x 87 columns]"
      ]
     },
     "execution_count": 12,
     "metadata": {},
     "output_type": "execute_result"
    }
   ],
   "source": [
    "df_train.loc[df_train['final.output.concentrate_ag'].isna()]"
   ]
  },
  {
   "cell_type": "markdown",
   "metadata": {},
   "source": [
    "<div class=\"alert alert-info\">Поищем в начальной таблице</div>"
   ]
  },
  {
   "cell_type": "code",
   "execution_count": 13,
   "metadata": {},
   "outputs": [
    {
     "data": {
      "text/html": [
       "<div>\n",
       "<style scoped>\n",
       "    .dataframe tbody tr th:only-of-type {\n",
       "        vertical-align: middle;\n",
       "    }\n",
       "\n",
       "    .dataframe tbody tr th {\n",
       "        vertical-align: top;\n",
       "    }\n",
       "\n",
       "    .dataframe thead th {\n",
       "        text-align: right;\n",
       "    }\n",
       "</style>\n",
       "<table border=\"1\" class=\"dataframe\">\n",
       "  <thead>\n",
       "    <tr style=\"text-align: right;\">\n",
       "      <th></th>\n",
       "      <th>date</th>\n",
       "      <th>final.output.concentrate_ag</th>\n",
       "      <th>final.output.concentrate_pb</th>\n",
       "      <th>final.output.concentrate_sol</th>\n",
       "      <th>final.output.concentrate_au</th>\n",
       "      <th>final.output.recovery</th>\n",
       "      <th>final.output.tail_ag</th>\n",
       "      <th>final.output.tail_pb</th>\n",
       "      <th>final.output.tail_sol</th>\n",
       "      <th>final.output.tail_au</th>\n",
       "      <th>...</th>\n",
       "      <th>secondary_cleaner.state.floatbank4_a_air</th>\n",
       "      <th>secondary_cleaner.state.floatbank4_a_level</th>\n",
       "      <th>secondary_cleaner.state.floatbank4_b_air</th>\n",
       "      <th>secondary_cleaner.state.floatbank4_b_level</th>\n",
       "      <th>secondary_cleaner.state.floatbank5_a_air</th>\n",
       "      <th>secondary_cleaner.state.floatbank5_a_level</th>\n",
       "      <th>secondary_cleaner.state.floatbank5_b_air</th>\n",
       "      <th>secondary_cleaner.state.floatbank5_b_level</th>\n",
       "      <th>secondary_cleaner.state.floatbank6_a_air</th>\n",
       "      <th>secondary_cleaner.state.floatbank6_a_level</th>\n",
       "    </tr>\n",
       "  </thead>\n",
       "  <tbody>\n",
       "    <tr>\n",
       "      <th>2869</th>\n",
       "      <td>2016-06-08 17:59:59</td>\n",
       "      <td>NaN</td>\n",
       "      <td>NaN</td>\n",
       "      <td>10.188231</td>\n",
       "      <td>29.020814</td>\n",
       "      <td>63.725335</td>\n",
       "      <td>7.387115</td>\n",
       "      <td>2.072266</td>\n",
       "      <td>16.982505</td>\n",
       "      <td>2.908215</td>\n",
       "      <td>...</td>\n",
       "      <td>8.985634</td>\n",
       "      <td>-548.815307</td>\n",
       "      <td>7.011665</td>\n",
       "      <td>-537.231749</td>\n",
       "      <td>8.031238</td>\n",
       "      <td>-550.028193</td>\n",
       "      <td>5.984399</td>\n",
       "      <td>-549.63625</td>\n",
       "      <td>18.01224</td>\n",
       "      <td>-551.325271</td>\n",
       "    </tr>\n",
       "  </tbody>\n",
       "</table>\n",
       "<p>1 rows × 87 columns</p>\n",
       "</div>"
      ],
      "text/plain": [
       "                     date  final.output.concentrate_ag  \\\n",
       "2869  2016-06-08 17:59:59                          NaN   \n",
       "\n",
       "      final.output.concentrate_pb  final.output.concentrate_sol  \\\n",
       "2869                          NaN                     10.188231   \n",
       "\n",
       "      final.output.concentrate_au  final.output.recovery  \\\n",
       "2869                    29.020814              63.725335   \n",
       "\n",
       "      final.output.tail_ag  final.output.tail_pb  final.output.tail_sol  \\\n",
       "2869              7.387115              2.072266              16.982505   \n",
       "\n",
       "      final.output.tail_au  ...  secondary_cleaner.state.floatbank4_a_air  \\\n",
       "2869              2.908215  ...                                  8.985634   \n",
       "\n",
       "      secondary_cleaner.state.floatbank4_a_level  \\\n",
       "2869                                 -548.815307   \n",
       "\n",
       "      secondary_cleaner.state.floatbank4_b_air  \\\n",
       "2869                                  7.011665   \n",
       "\n",
       "      secondary_cleaner.state.floatbank4_b_level  \\\n",
       "2869                                 -537.231749   \n",
       "\n",
       "      secondary_cleaner.state.floatbank5_a_air  \\\n",
       "2869                                  8.031238   \n",
       "\n",
       "      secondary_cleaner.state.floatbank5_a_level  \\\n",
       "2869                                 -550.028193   \n",
       "\n",
       "      secondary_cleaner.state.floatbank5_b_air  \\\n",
       "2869                                  5.984399   \n",
       "\n",
       "      secondary_cleaner.state.floatbank5_b_level  \\\n",
       "2869                                  -549.63625   \n",
       "\n",
       "      secondary_cleaner.state.floatbank6_a_air  \\\n",
       "2869                                  18.01224   \n",
       "\n",
       "      secondary_cleaner.state.floatbank6_a_level  \n",
       "2869                                 -551.325271  \n",
       "\n",
       "[1 rows x 87 columns]"
      ]
     },
     "execution_count": 13,
     "metadata": {},
     "output_type": "execute_result"
    }
   ],
   "source": [
    "df_full.query('\"2016-06-08 17:59:59\" in date')"
   ]
  },
  {
   "cell_type": "markdown",
   "metadata": {},
   "source": [
    "<div class=\"alert alert-info\">В начальной нет, заменим значение из ближайшей прошлой даты/времени</div>"
   ]
  },
  {
   "cell_type": "code",
   "execution_count": 14,
   "metadata": {},
   "outputs": [
    {
     "data": {
      "text/html": [
       "<div>\n",
       "<style scoped>\n",
       "    .dataframe tbody tr th:only-of-type {\n",
       "        vertical-align: middle;\n",
       "    }\n",
       "\n",
       "    .dataframe tbody tr th {\n",
       "        vertical-align: top;\n",
       "    }\n",
       "\n",
       "    .dataframe thead th {\n",
       "        text-align: right;\n",
       "    }\n",
       "</style>\n",
       "<table border=\"1\" class=\"dataframe\">\n",
       "  <thead>\n",
       "    <tr style=\"text-align: right;\">\n",
       "      <th></th>\n",
       "      <th>date</th>\n",
       "      <th>final.output.concentrate_ag</th>\n",
       "      <th>final.output.concentrate_pb</th>\n",
       "      <th>final.output.concentrate_sol</th>\n",
       "      <th>final.output.concentrate_au</th>\n",
       "      <th>final.output.recovery</th>\n",
       "      <th>final.output.tail_ag</th>\n",
       "      <th>final.output.tail_pb</th>\n",
       "      <th>final.output.tail_sol</th>\n",
       "      <th>final.output.tail_au</th>\n",
       "      <th>...</th>\n",
       "      <th>secondary_cleaner.state.floatbank4_a_air</th>\n",
       "      <th>secondary_cleaner.state.floatbank4_a_level</th>\n",
       "      <th>secondary_cleaner.state.floatbank4_b_air</th>\n",
       "      <th>secondary_cleaner.state.floatbank4_b_level</th>\n",
       "      <th>secondary_cleaner.state.floatbank5_a_air</th>\n",
       "      <th>secondary_cleaner.state.floatbank5_a_level</th>\n",
       "      <th>secondary_cleaner.state.floatbank5_b_air</th>\n",
       "      <th>secondary_cleaner.state.floatbank5_b_level</th>\n",
       "      <th>secondary_cleaner.state.floatbank6_a_air</th>\n",
       "      <th>secondary_cleaner.state.floatbank6_a_level</th>\n",
       "    </tr>\n",
       "  </thead>\n",
       "  <tbody>\n",
       "    <tr>\n",
       "      <th>2868</th>\n",
       "      <td>2016-06-08 16:59:59</td>\n",
       "      <td>3.547138</td>\n",
       "      <td>8.549604</td>\n",
       "      <td>7.454546</td>\n",
       "      <td>47.864059</td>\n",
       "      <td>60.599963</td>\n",
       "      <td>7.368746</td>\n",
       "      <td>2.011005</td>\n",
       "      <td>9.087634</td>\n",
       "      <td>2.886125</td>\n",
       "      <td>...</td>\n",
       "      <td>8.945811</td>\n",
       "      <td>-550.888123</td>\n",
       "      <td>7.038488</td>\n",
       "      <td>-541.120671</td>\n",
       "      <td>8.047059</td>\n",
       "      <td>-551.408692</td>\n",
       "      <td>6.032028</td>\n",
       "      <td>-550.201228</td>\n",
       "      <td>17.996252</td>\n",
       "      <td>-551.627921</td>\n",
       "    </tr>\n",
       "  </tbody>\n",
       "</table>\n",
       "<p>1 rows × 87 columns</p>\n",
       "</div>"
      ],
      "text/plain": [
       "                     date  final.output.concentrate_ag  \\\n",
       "2868  2016-06-08 16:59:59                     3.547138   \n",
       "\n",
       "      final.output.concentrate_pb  final.output.concentrate_sol  \\\n",
       "2868                     8.549604                      7.454546   \n",
       "\n",
       "      final.output.concentrate_au  final.output.recovery  \\\n",
       "2868                    47.864059              60.599963   \n",
       "\n",
       "      final.output.tail_ag  final.output.tail_pb  final.output.tail_sol  \\\n",
       "2868              7.368746              2.011005               9.087634   \n",
       "\n",
       "      final.output.tail_au  ...  secondary_cleaner.state.floatbank4_a_air  \\\n",
       "2868              2.886125  ...                                  8.945811   \n",
       "\n",
       "      secondary_cleaner.state.floatbank4_a_level  \\\n",
       "2868                                 -550.888123   \n",
       "\n",
       "      secondary_cleaner.state.floatbank4_b_air  \\\n",
       "2868                                  7.038488   \n",
       "\n",
       "      secondary_cleaner.state.floatbank4_b_level  \\\n",
       "2868                                 -541.120671   \n",
       "\n",
       "      secondary_cleaner.state.floatbank5_a_air  \\\n",
       "2868                                  8.047059   \n",
       "\n",
       "      secondary_cleaner.state.floatbank5_a_level  \\\n",
       "2868                                 -551.408692   \n",
       "\n",
       "      secondary_cleaner.state.floatbank5_b_air  \\\n",
       "2868                                  6.032028   \n",
       "\n",
       "      secondary_cleaner.state.floatbank5_b_level  \\\n",
       "2868                                 -550.201228   \n",
       "\n",
       "      secondary_cleaner.state.floatbank6_a_air  \\\n",
       "2868                                 17.996252   \n",
       "\n",
       "      secondary_cleaner.state.floatbank6_a_level  \n",
       "2868                                 -551.627921  \n",
       "\n",
       "[1 rows x 87 columns]"
      ]
     },
     "execution_count": 14,
     "metadata": {},
     "output_type": "execute_result"
    }
   ],
   "source": [
    "df_train.query('\"2016-06-08 16:59:59\" in date')"
   ]
  },
  {
   "cell_type": "code",
   "execution_count": 15,
   "metadata": {},
   "outputs": [
    {
     "data": {
      "text/html": [
       "<div>\n",
       "<style scoped>\n",
       "    .dataframe tbody tr th:only-of-type {\n",
       "        vertical-align: middle;\n",
       "    }\n",
       "\n",
       "    .dataframe tbody tr th {\n",
       "        vertical-align: top;\n",
       "    }\n",
       "\n",
       "    .dataframe thead th {\n",
       "        text-align: right;\n",
       "    }\n",
       "</style>\n",
       "<table border=\"1\" class=\"dataframe\">\n",
       "  <thead>\n",
       "    <tr style=\"text-align: right;\">\n",
       "      <th></th>\n",
       "      <th>date</th>\n",
       "      <th>final.output.concentrate_ag</th>\n",
       "      <th>final.output.concentrate_pb</th>\n",
       "      <th>final.output.concentrate_sol</th>\n",
       "      <th>final.output.concentrate_au</th>\n",
       "      <th>final.output.recovery</th>\n",
       "      <th>final.output.tail_ag</th>\n",
       "      <th>final.output.tail_pb</th>\n",
       "      <th>final.output.tail_sol</th>\n",
       "      <th>final.output.tail_au</th>\n",
       "      <th>...</th>\n",
       "      <th>secondary_cleaner.state.floatbank4_a_air</th>\n",
       "      <th>secondary_cleaner.state.floatbank4_a_level</th>\n",
       "      <th>secondary_cleaner.state.floatbank4_b_air</th>\n",
       "      <th>secondary_cleaner.state.floatbank4_b_level</th>\n",
       "      <th>secondary_cleaner.state.floatbank5_a_air</th>\n",
       "      <th>secondary_cleaner.state.floatbank5_a_level</th>\n",
       "      <th>secondary_cleaner.state.floatbank5_b_air</th>\n",
       "      <th>secondary_cleaner.state.floatbank5_b_level</th>\n",
       "      <th>secondary_cleaner.state.floatbank6_a_air</th>\n",
       "      <th>secondary_cleaner.state.floatbank6_a_level</th>\n",
       "    </tr>\n",
       "  </thead>\n",
       "  <tbody>\n",
       "    <tr>\n",
       "      <th>2869</th>\n",
       "      <td>2016-06-08 17:59:59</td>\n",
       "      <td>3.547138</td>\n",
       "      <td>8.549604</td>\n",
       "      <td>10.188231</td>\n",
       "      <td>29.020814</td>\n",
       "      <td>63.725335</td>\n",
       "      <td>7.387115</td>\n",
       "      <td>2.072266</td>\n",
       "      <td>16.982505</td>\n",
       "      <td>2.908215</td>\n",
       "      <td>...</td>\n",
       "      <td>8.985634</td>\n",
       "      <td>-548.815307</td>\n",
       "      <td>7.011665</td>\n",
       "      <td>-537.231749</td>\n",
       "      <td>8.031238</td>\n",
       "      <td>-550.028193</td>\n",
       "      <td>5.984399</td>\n",
       "      <td>-549.63625</td>\n",
       "      <td>18.01224</td>\n",
       "      <td>-551.325271</td>\n",
       "    </tr>\n",
       "  </tbody>\n",
       "</table>\n",
       "<p>1 rows × 87 columns</p>\n",
       "</div>"
      ],
      "text/plain": [
       "                     date  final.output.concentrate_ag  \\\n",
       "2869  2016-06-08 17:59:59                     3.547138   \n",
       "\n",
       "      final.output.concentrate_pb  final.output.concentrate_sol  \\\n",
       "2869                     8.549604                     10.188231   \n",
       "\n",
       "      final.output.concentrate_au  final.output.recovery  \\\n",
       "2869                    29.020814              63.725335   \n",
       "\n",
       "      final.output.tail_ag  final.output.tail_pb  final.output.tail_sol  \\\n",
       "2869              7.387115              2.072266              16.982505   \n",
       "\n",
       "      final.output.tail_au  ...  secondary_cleaner.state.floatbank4_a_air  \\\n",
       "2869              2.908215  ...                                  8.985634   \n",
       "\n",
       "      secondary_cleaner.state.floatbank4_a_level  \\\n",
       "2869                                 -548.815307   \n",
       "\n",
       "      secondary_cleaner.state.floatbank4_b_air  \\\n",
       "2869                                  7.011665   \n",
       "\n",
       "      secondary_cleaner.state.floatbank4_b_level  \\\n",
       "2869                                 -537.231749   \n",
       "\n",
       "      secondary_cleaner.state.floatbank5_a_air  \\\n",
       "2869                                  8.031238   \n",
       "\n",
       "      secondary_cleaner.state.floatbank5_a_level  \\\n",
       "2869                                 -550.028193   \n",
       "\n",
       "      secondary_cleaner.state.floatbank5_b_air  \\\n",
       "2869                                  5.984399   \n",
       "\n",
       "      secondary_cleaner.state.floatbank5_b_level  \\\n",
       "2869                                  -549.63625   \n",
       "\n",
       "      secondary_cleaner.state.floatbank6_a_air  \\\n",
       "2869                                  18.01224   \n",
       "\n",
       "      secondary_cleaner.state.floatbank6_a_level  \n",
       "2869                                 -551.325271  \n",
       "\n",
       "[1 rows x 87 columns]"
      ]
     },
     "execution_count": 15,
     "metadata": {},
     "output_type": "execute_result"
    }
   ],
   "source": [
    "df_train.loc[2869,['final.output.concentrate_ag','final.output.concentrate_pb']] = df_train.loc[2868,['final.output.concentrate_ag','final.output.concentrate_pb']]\n",
    "df_train.query('\"2016-06-08 17:59:59\" in date')"
   ]
  },
  {
   "cell_type": "markdown",
   "metadata": {},
   "source": [
    "<div class=\"alert alert-info\">На этом этапе я узнала, что есть метод ffill) поэтому применяем его ко всему датасету.\n",
    "Кажется, тут везде допустимо использовать заполнение предыдущим значением. Как правило, разброс в признаках не такой существенный, чтобы интервалы с пропусками ощутимо повлияли на качество заполнения, тем более таких пропусков не так много</div>"
   ]
  },
  {
   "cell_type": "code",
   "execution_count": 16,
   "metadata": {},
   "outputs": [],
   "source": [
    "df_train = df_train.fillna(method='ffill', axis=0) "
   ]
  },
  {
   "cell_type": "code",
   "execution_count": 17,
   "metadata": {},
   "outputs": [
    {
     "data": {
      "text/plain": [
       "date                                          0\n",
       "final.output.concentrate_ag                   0\n",
       "final.output.concentrate_pb                   0\n",
       "final.output.concentrate_sol                  0\n",
       "final.output.concentrate_au                   0\n",
       "                                             ..\n",
       "secondary_cleaner.state.floatbank5_a_level    0\n",
       "secondary_cleaner.state.floatbank5_b_air      0\n",
       "secondary_cleaner.state.floatbank5_b_level    0\n",
       "secondary_cleaner.state.floatbank6_a_air      0\n",
       "secondary_cleaner.state.floatbank6_a_level    0\n",
       "Length: 87, dtype: int64"
      ]
     },
     "execution_count": 17,
     "metadata": {},
     "output_type": "execute_result"
    }
   ],
   "source": [
    "df_train.isna().sum()"
   ]
  },
  {
   "cell_type": "markdown",
   "metadata": {},
   "source": [
    "<div class=\"alert alert-info\">Тивы данных в столбцах нас устраивают, предобработка завершена</div>"
   ]
  },
  {
   "cell_type": "markdown",
   "metadata": {},
   "source": [
    "## Анализ данных"
   ]
  },
  {
   "cell_type": "markdown",
   "metadata": {},
   "source": [
    "<div class=\"alert alert-info\">Проанализируйте данные\n",
    "     <br>\n",
    "Посмотрите, как меняется концентрация металлов (Au, Ag, Pb) на различных этапах очистки. Опишите выводы.</div>"
   ]
  },
  {
   "cell_type": "markdown",
   "metadata": {},
   "source": [
    "<div class=\"alert alert-info\">Посмотрим на столбцы с золотом</div>"
   ]
  },
  {
   "cell_type": "code",
   "execution_count": 18,
   "metadata": {},
   "outputs": [
    {
     "data": {
      "text/html": [
       "<div>\n",
       "<style scoped>\n",
       "    .dataframe tbody tr th:only-of-type {\n",
       "        vertical-align: middle;\n",
       "    }\n",
       "\n",
       "    .dataframe tbody tr th {\n",
       "        vertical-align: top;\n",
       "    }\n",
       "\n",
       "    .dataframe thead th {\n",
       "        text-align: right;\n",
       "    }\n",
       "</style>\n",
       "<table border=\"1\" class=\"dataframe\">\n",
       "  <thead>\n",
       "    <tr style=\"text-align: right;\">\n",
       "      <th></th>\n",
       "      <th>final.output.concentrate_au</th>\n",
       "      <th>final.output.tail_au</th>\n",
       "      <th>primary_cleaner.output.concentrate_au</th>\n",
       "      <th>primary_cleaner.output.tail_au</th>\n",
       "      <th>rougher.calculation.sulfate_to_au_concentrate</th>\n",
       "      <th>rougher.calculation.floatbank10_sulfate_to_au_feed</th>\n",
       "      <th>rougher.calculation.floatbank11_sulfate_to_au_feed</th>\n",
       "      <th>rougher.calculation.au_pb_ratio</th>\n",
       "      <th>rougher.input.feed_au</th>\n",
       "      <th>rougher.output.concentrate_au</th>\n",
       "      <th>rougher.output.tail_au</th>\n",
       "      <th>secondary_cleaner.output.tail_au</th>\n",
       "    </tr>\n",
       "  </thead>\n",
       "  <tbody>\n",
       "    <tr>\n",
       "      <th>0</th>\n",
       "      <td>42.192020</td>\n",
       "      <td>2.143149</td>\n",
       "      <td>34.174427</td>\n",
       "      <td>2.106679</td>\n",
       "      <td>41885.707031</td>\n",
       "      <td>3481.779053</td>\n",
       "      <td>3520.337158</td>\n",
       "      <td>2.838687</td>\n",
       "      <td>6.486150</td>\n",
       "      <td>19.793808</td>\n",
       "      <td>1.170244</td>\n",
       "      <td>2.606185</td>\n",
       "    </tr>\n",
       "    <tr>\n",
       "      <th>1</th>\n",
       "      <td>42.701629</td>\n",
       "      <td>2.224930</td>\n",
       "      <td>34.118526</td>\n",
       "      <td>2.353017</td>\n",
       "      <td>42050.861809</td>\n",
       "      <td>3498.370979</td>\n",
       "      <td>3489.981857</td>\n",
       "      <td>2.858998</td>\n",
       "      <td>6.478583</td>\n",
       "      <td>20.050975</td>\n",
       "      <td>1.184827</td>\n",
       "      <td>2.488248</td>\n",
       "    </tr>\n",
       "    <tr>\n",
       "      <th>2</th>\n",
       "      <td>42.657501</td>\n",
       "      <td>2.257889</td>\n",
       "      <td>33.969464</td>\n",
       "      <td>2.416800</td>\n",
       "      <td>42018.101184</td>\n",
       "      <td>3495.348910</td>\n",
       "      <td>3502.359819</td>\n",
       "      <td>2.945989</td>\n",
       "      <td>6.362222</td>\n",
       "      <td>19.737170</td>\n",
       "      <td>1.162562</td>\n",
       "      <td>2.458187</td>\n",
       "    </tr>\n",
       "    <tr>\n",
       "      <th>3</th>\n",
       "      <td>42.689819</td>\n",
       "      <td>2.146849</td>\n",
       "      <td>28.260743</td>\n",
       "      <td>2.262051</td>\n",
       "      <td>42029.447991</td>\n",
       "      <td>3498.578313</td>\n",
       "      <td>3499.162912</td>\n",
       "      <td>3.002340</td>\n",
       "      <td>6.118189</td>\n",
       "      <td>19.320810</td>\n",
       "      <td>1.079755</td>\n",
       "      <td>2.322062</td>\n",
       "    </tr>\n",
       "    <tr>\n",
       "      <th>4</th>\n",
       "      <td>42.774141</td>\n",
       "      <td>2.055292</td>\n",
       "      <td>33.044932</td>\n",
       "      <td>2.277073</td>\n",
       "      <td>42125.354245</td>\n",
       "      <td>3494.800771</td>\n",
       "      <td>3506.679315</td>\n",
       "      <td>3.169615</td>\n",
       "      <td>5.663707</td>\n",
       "      <td>19.216101</td>\n",
       "      <td>1.012642</td>\n",
       "      <td>2.330448</td>\n",
       "    </tr>\n",
       "  </tbody>\n",
       "</table>\n",
       "</div>"
      ],
      "text/plain": [
       "   final.output.concentrate_au  final.output.tail_au  \\\n",
       "0                    42.192020              2.143149   \n",
       "1                    42.701629              2.224930   \n",
       "2                    42.657501              2.257889   \n",
       "3                    42.689819              2.146849   \n",
       "4                    42.774141              2.055292   \n",
       "\n",
       "   primary_cleaner.output.concentrate_au  primary_cleaner.output.tail_au  \\\n",
       "0                              34.174427                        2.106679   \n",
       "1                              34.118526                        2.353017   \n",
       "2                              33.969464                        2.416800   \n",
       "3                              28.260743                        2.262051   \n",
       "4                              33.044932                        2.277073   \n",
       "\n",
       "   rougher.calculation.sulfate_to_au_concentrate  \\\n",
       "0                                   41885.707031   \n",
       "1                                   42050.861809   \n",
       "2                                   42018.101184   \n",
       "3                                   42029.447991   \n",
       "4                                   42125.354245   \n",
       "\n",
       "   rougher.calculation.floatbank10_sulfate_to_au_feed  \\\n",
       "0                                        3481.779053    \n",
       "1                                        3498.370979    \n",
       "2                                        3495.348910    \n",
       "3                                        3498.578313    \n",
       "4                                        3494.800771    \n",
       "\n",
       "   rougher.calculation.floatbank11_sulfate_to_au_feed  \\\n",
       "0                                        3520.337158    \n",
       "1                                        3489.981857    \n",
       "2                                        3502.359819    \n",
       "3                                        3499.162912    \n",
       "4                                        3506.679315    \n",
       "\n",
       "   rougher.calculation.au_pb_ratio  rougher.input.feed_au  \\\n",
       "0                         2.838687               6.486150   \n",
       "1                         2.858998               6.478583   \n",
       "2                         2.945989               6.362222   \n",
       "3                         3.002340               6.118189   \n",
       "4                         3.169615               5.663707   \n",
       "\n",
       "   rougher.output.concentrate_au  rougher.output.tail_au  \\\n",
       "0                      19.793808                1.170244   \n",
       "1                      20.050975                1.184827   \n",
       "2                      19.737170                1.162562   \n",
       "3                      19.320810                1.079755   \n",
       "4                      19.216101                1.012642   \n",
       "\n",
       "   secondary_cleaner.output.tail_au  \n",
       "0                          2.606185  \n",
       "1                          2.488248  \n",
       "2                          2.458187  \n",
       "3                          2.322062  \n",
       "4                          2.330448  "
      ]
     },
     "execution_count": 18,
     "metadata": {},
     "output_type": "execute_result"
    }
   ],
   "source": [
    "df_train_au = df_train.filter(like=\"au\")\n",
    "df_train_au.head()"
   ]
  },
  {
   "cell_type": "markdown",
   "metadata": {},
   "source": [
    "<div class=\"alert alert-info\">Тут много лишнего, рассмотрим только столбцы с концентрацией золота на разных этапах</div>"
   ]
  },
  {
   "cell_type": "code",
   "execution_count": 19,
   "metadata": {},
   "outputs": [
    {
     "data": {
      "text/html": [
       "<div>\n",
       "<style scoped>\n",
       "    .dataframe tbody tr th:only-of-type {\n",
       "        vertical-align: middle;\n",
       "    }\n",
       "\n",
       "    .dataframe tbody tr th {\n",
       "        vertical-align: top;\n",
       "    }\n",
       "\n",
       "    .dataframe thead th {\n",
       "        text-align: right;\n",
       "    }\n",
       "</style>\n",
       "<table border=\"1\" class=\"dataframe\">\n",
       "  <thead>\n",
       "    <tr style=\"text-align: right;\">\n",
       "      <th></th>\n",
       "      <th>rougher.input.feed_au</th>\n",
       "      <th>rougher.output.concentrate_au</th>\n",
       "      <th>primary_cleaner.output.concentrate_au</th>\n",
       "      <th>final.output.concentrate_au</th>\n",
       "    </tr>\n",
       "  </thead>\n",
       "  <tbody>\n",
       "    <tr>\n",
       "      <th>0</th>\n",
       "      <td>6.486150</td>\n",
       "      <td>19.793808</td>\n",
       "      <td>34.174427</td>\n",
       "      <td>42.192020</td>\n",
       "    </tr>\n",
       "    <tr>\n",
       "      <th>1</th>\n",
       "      <td>6.478583</td>\n",
       "      <td>20.050975</td>\n",
       "      <td>34.118526</td>\n",
       "      <td>42.701629</td>\n",
       "    </tr>\n",
       "    <tr>\n",
       "      <th>2</th>\n",
       "      <td>6.362222</td>\n",
       "      <td>19.737170</td>\n",
       "      <td>33.969464</td>\n",
       "      <td>42.657501</td>\n",
       "    </tr>\n",
       "    <tr>\n",
       "      <th>3</th>\n",
       "      <td>6.118189</td>\n",
       "      <td>19.320810</td>\n",
       "      <td>28.260743</td>\n",
       "      <td>42.689819</td>\n",
       "    </tr>\n",
       "    <tr>\n",
       "      <th>4</th>\n",
       "      <td>5.663707</td>\n",
       "      <td>19.216101</td>\n",
       "      <td>33.044932</td>\n",
       "      <td>42.774141</td>\n",
       "    </tr>\n",
       "    <tr>\n",
       "      <th>...</th>\n",
       "      <td>...</td>\n",
       "      <td>...</td>\n",
       "      <td>...</td>\n",
       "      <td>...</td>\n",
       "    </tr>\n",
       "    <tr>\n",
       "      <th>14144</th>\n",
       "      <td>5.335862</td>\n",
       "      <td>18.603550</td>\n",
       "      <td>32.940215</td>\n",
       "      <td>46.713954</td>\n",
       "    </tr>\n",
       "    <tr>\n",
       "      <th>14145</th>\n",
       "      <td>4.838619</td>\n",
       "      <td>18.441436</td>\n",
       "      <td>32.925325</td>\n",
       "      <td>46.866780</td>\n",
       "    </tr>\n",
       "    <tr>\n",
       "      <th>14146</th>\n",
       "      <td>4.525061</td>\n",
       "      <td>15.111231</td>\n",
       "      <td>31.856742</td>\n",
       "      <td>46.795691</td>\n",
       "    </tr>\n",
       "    <tr>\n",
       "      <th>14147</th>\n",
       "      <td>4.362781</td>\n",
       "      <td>17.834772</td>\n",
       "      <td>30.770892</td>\n",
       "      <td>46.408188</td>\n",
       "    </tr>\n",
       "    <tr>\n",
       "      <th>14148</th>\n",
       "      <td>4.365491</td>\n",
       "      <td>17.804134</td>\n",
       "      <td>30.356618</td>\n",
       "      <td>46.299438</td>\n",
       "    </tr>\n",
       "  </tbody>\n",
       "</table>\n",
       "<p>14149 rows × 4 columns</p>\n",
       "</div>"
      ],
      "text/plain": [
       "       rougher.input.feed_au  rougher.output.concentrate_au  \\\n",
       "0                   6.486150                      19.793808   \n",
       "1                   6.478583                      20.050975   \n",
       "2                   6.362222                      19.737170   \n",
       "3                   6.118189                      19.320810   \n",
       "4                   5.663707                      19.216101   \n",
       "...                      ...                            ...   \n",
       "14144               5.335862                      18.603550   \n",
       "14145               4.838619                      18.441436   \n",
       "14146               4.525061                      15.111231   \n",
       "14147               4.362781                      17.834772   \n",
       "14148               4.365491                      17.804134   \n",
       "\n",
       "       primary_cleaner.output.concentrate_au  final.output.concentrate_au  \n",
       "0                                  34.174427                    42.192020  \n",
       "1                                  34.118526                    42.701629  \n",
       "2                                  33.969464                    42.657501  \n",
       "3                                  28.260743                    42.689819  \n",
       "4                                  33.044932                    42.774141  \n",
       "...                                      ...                          ...  \n",
       "14144                              32.940215                    46.713954  \n",
       "14145                              32.925325                    46.866780  \n",
       "14146                              31.856742                    46.795691  \n",
       "14147                              30.770892                    46.408188  \n",
       "14148                              30.356618                    46.299438  \n",
       "\n",
       "[14149 rows x 4 columns]"
      ]
     },
     "execution_count": 19,
     "metadata": {},
     "output_type": "execute_result"
    }
   ],
   "source": [
    "col_au = ['rougher.input.feed_au', 'rougher.output.concentrate_au', 'primary_cleaner.output.concentrate_au', 'final.output.concentrate_au']\n",
    "df_train[col_au]"
   ]
  },
  {
   "cell_type": "code",
   "execution_count": 20,
   "metadata": {},
   "outputs": [
    {
     "data": {
      "image/png": "[encoded data removed]",
      "text/plain": [
       "<Figure size 1080x360 with 1 Axes>"
      ]
     },
     "metadata": {
      "needs_background": "light"
     },
     "output_type": "display_data"
    }
   ],
   "source": [
    "df_train.boxplot(col_au, figsize = (15,5))\n",
    "plt.show()"
   ]
  },
  {
   "cell_type": "markdown",
   "metadata": {},
   "source": [
    "<div class=\"alert alert-info\">Концентрация представлена в процентах от общего сырья, по таблице и графику видим, что концентрация поэтапно растёт - от ~8 до ~45</div>"
   ]
  },
  {
   "cell_type": "code",
   "execution_count": 21,
   "metadata": {},
   "outputs": [
    {
     "data": {
      "text/html": [
       "<div>\n",
       "<style scoped>\n",
       "    .dataframe tbody tr th:only-of-type {\n",
       "        vertical-align: middle;\n",
       "    }\n",
       "\n",
       "    .dataframe tbody tr th {\n",
       "        vertical-align: top;\n",
       "    }\n",
       "\n",
       "    .dataframe thead th {\n",
       "        text-align: right;\n",
       "    }\n",
       "</style>\n",
       "<table border=\"1\" class=\"dataframe\">\n",
       "  <thead>\n",
       "    <tr style=\"text-align: right;\">\n",
       "      <th></th>\n",
       "      <th>rougher.input.feed_ag</th>\n",
       "      <th>rougher.output.concentrate_ag</th>\n",
       "      <th>primary_cleaner.output.concentrate_ag</th>\n",
       "      <th>final.output.concentrate_ag</th>\n",
       "    </tr>\n",
       "  </thead>\n",
       "  <tbody>\n",
       "    <tr>\n",
       "      <th>0</th>\n",
       "      <td>6.100378</td>\n",
       "      <td>11.500771</td>\n",
       "      <td>8.547551</td>\n",
       "      <td>6.055403</td>\n",
       "    </tr>\n",
       "    <tr>\n",
       "      <th>1</th>\n",
       "      <td>6.161113</td>\n",
       "      <td>11.615865</td>\n",
       "      <td>8.558743</td>\n",
       "      <td>6.029369</td>\n",
       "    </tr>\n",
       "    <tr>\n",
       "      <th>2</th>\n",
       "      <td>6.116455</td>\n",
       "      <td>11.695753</td>\n",
       "      <td>8.603505</td>\n",
       "      <td>6.055926</td>\n",
       "    </tr>\n",
       "    <tr>\n",
       "      <th>3</th>\n",
       "      <td>6.043309</td>\n",
       "      <td>11.915047</td>\n",
       "      <td>7.221879</td>\n",
       "      <td>6.047977</td>\n",
       "    </tr>\n",
       "    <tr>\n",
       "      <th>4</th>\n",
       "      <td>6.060915</td>\n",
       "      <td>12.411054</td>\n",
       "      <td>9.089428</td>\n",
       "      <td>6.148599</td>\n",
       "    </tr>\n",
       "    <tr>\n",
       "      <th>...</th>\n",
       "      <td>...</td>\n",
       "      <td>...</td>\n",
       "      <td>...</td>\n",
       "      <td>...</td>\n",
       "    </tr>\n",
       "    <tr>\n",
       "      <th>14144</th>\n",
       "      <td>6.091855</td>\n",
       "      <td>11.124896</td>\n",
       "      <td>6.559174</td>\n",
       "      <td>3.224920</td>\n",
       "    </tr>\n",
       "    <tr>\n",
       "      <th>14145</th>\n",
       "      <td>6.121323</td>\n",
       "      <td>11.425983</td>\n",
       "      <td>6.612376</td>\n",
       "      <td>3.195978</td>\n",
       "    </tr>\n",
       "    <tr>\n",
       "      <th>14146</th>\n",
       "      <td>5.970515</td>\n",
       "      <td>8.523497</td>\n",
       "      <td>7.128896</td>\n",
       "      <td>3.109998</td>\n",
       "    </tr>\n",
       "    <tr>\n",
       "      <th>14147</th>\n",
       "      <td>6.048130</td>\n",
       "      <td>11.658799</td>\n",
       "      <td>7.490444</td>\n",
       "      <td>3.367241</td>\n",
       "    </tr>\n",
       "    <tr>\n",
       "      <th>14148</th>\n",
       "      <td>6.158718</td>\n",
       "      <td>11.959486</td>\n",
       "      <td>7.537584</td>\n",
       "      <td>3.598375</td>\n",
       "    </tr>\n",
       "  </tbody>\n",
       "</table>\n",
       "<p>14149 rows × 4 columns</p>\n",
       "</div>"
      ],
      "text/plain": [
       "       rougher.input.feed_ag  rougher.output.concentrate_ag  \\\n",
       "0                   6.100378                      11.500771   \n",
       "1                   6.161113                      11.615865   \n",
       "2                   6.116455                      11.695753   \n",
       "3                   6.043309                      11.915047   \n",
       "4                   6.060915                      12.411054   \n",
       "...                      ...                            ...   \n",
       "14144               6.091855                      11.124896   \n",
       "14145               6.121323                      11.425983   \n",
       "14146               5.970515                       8.523497   \n",
       "14147               6.048130                      11.658799   \n",
       "14148               6.158718                      11.959486   \n",
       "\n",
       "       primary_cleaner.output.concentrate_ag  final.output.concentrate_ag  \n",
       "0                                   8.547551                     6.055403  \n",
       "1                                   8.558743                     6.029369  \n",
       "2                                   8.603505                     6.055926  \n",
       "3                                   7.221879                     6.047977  \n",
       "4                                   9.089428                     6.148599  \n",
       "...                                      ...                          ...  \n",
       "14144                               6.559174                     3.224920  \n",
       "14145                               6.612376                     3.195978  \n",
       "14146                               7.128896                     3.109998  \n",
       "14147                               7.490444                     3.367241  \n",
       "14148                               7.537584                     3.598375  \n",
       "\n",
       "[14149 rows x 4 columns]"
      ]
     },
     "execution_count": 21,
     "metadata": {},
     "output_type": "execute_result"
    }
   ],
   "source": [
    "col_ag = ['rougher.input.feed_ag', 'rougher.output.concentrate_ag', 'primary_cleaner.output.concentrate_ag', 'final.output.concentrate_ag']\n",
    "df_train[col_ag]"
   ]
  },
  {
   "cell_type": "code",
   "execution_count": 22,
   "metadata": {},
   "outputs": [
    {
     "data": {
      "image/png": "[encoded data removed]",
      "text/plain": [
       "<Figure size 1080x360 with 1 Axes>"
      ]
     },
     "metadata": {
      "needs_background": "light"
     },
     "output_type": "display_data"
    }
   ],
   "source": [
    "df_train.boxplot(col_ag, figsize = (15,5))\n",
    "plt.show()"
   ]
  },
  {
   "cell_type": "markdown",
   "metadata": {},
   "source": [
    "<div class=\"alert alert-info\">Концентрация серебра после первого этапа очистки возрастает почти в два раза, затем на последующих этапах - падает, то есть сырьё очищается от примесей</div>"
   ]
  },
  {
   "cell_type": "code",
   "execution_count": 23,
   "metadata": {},
   "outputs": [
    {
     "data": {
      "text/html": [
       "<div>\n",
       "<style scoped>\n",
       "    .dataframe tbody tr th:only-of-type {\n",
       "        vertical-align: middle;\n",
       "    }\n",
       "\n",
       "    .dataframe tbody tr th {\n",
       "        vertical-align: top;\n",
       "    }\n",
       "\n",
       "    .dataframe thead th {\n",
       "        text-align: right;\n",
       "    }\n",
       "</style>\n",
       "<table border=\"1\" class=\"dataframe\">\n",
       "  <thead>\n",
       "    <tr style=\"text-align: right;\">\n",
       "      <th></th>\n",
       "      <th>rougher.input.feed_pb</th>\n",
       "      <th>rougher.output.concentrate_pb</th>\n",
       "      <th>primary_cleaner.output.concentrate_pb</th>\n",
       "      <th>final.output.concentrate_pb</th>\n",
       "    </tr>\n",
       "  </thead>\n",
       "  <tbody>\n",
       "    <tr>\n",
       "      <th>0</th>\n",
       "      <td>2.284912</td>\n",
       "      <td>7.101074</td>\n",
       "      <td>10.389648</td>\n",
       "      <td>9.889648</td>\n",
       "    </tr>\n",
       "    <tr>\n",
       "      <th>1</th>\n",
       "      <td>2.266033</td>\n",
       "      <td>7.278807</td>\n",
       "      <td>10.497069</td>\n",
       "      <td>9.968944</td>\n",
       "    </tr>\n",
       "    <tr>\n",
       "      <th>2</th>\n",
       "      <td>2.159622</td>\n",
       "      <td>7.216833</td>\n",
       "      <td>10.354494</td>\n",
       "      <td>10.213995</td>\n",
       "    </tr>\n",
       "    <tr>\n",
       "      <th>3</th>\n",
       "      <td>2.037807</td>\n",
       "      <td>7.175616</td>\n",
       "      <td>8.496563</td>\n",
       "      <td>9.977019</td>\n",
       "    </tr>\n",
       "    <tr>\n",
       "      <th>4</th>\n",
       "      <td>1.786875</td>\n",
       "      <td>7.240205</td>\n",
       "      <td>9.986786</td>\n",
       "      <td>10.142511</td>\n",
       "    </tr>\n",
       "    <tr>\n",
       "      <th>...</th>\n",
       "      <td>...</td>\n",
       "      <td>...</td>\n",
       "      <td>...</td>\n",
       "      <td>...</td>\n",
       "    </tr>\n",
       "    <tr>\n",
       "      <th>14144</th>\n",
       "      <td>4.617558</td>\n",
       "      <td>10.984003</td>\n",
       "      <td>12.445966</td>\n",
       "      <td>11.356233</td>\n",
       "    </tr>\n",
       "    <tr>\n",
       "      <th>14145</th>\n",
       "      <td>4.144989</td>\n",
       "      <td>10.888213</td>\n",
       "      <td>12.623947</td>\n",
       "      <td>11.349355</td>\n",
       "    </tr>\n",
       "    <tr>\n",
       "      <th>14146</th>\n",
       "      <td>4.020002</td>\n",
       "      <td>8.955135</td>\n",
       "      <td>12.633558</td>\n",
       "      <td>11.434366</td>\n",
       "    </tr>\n",
       "    <tr>\n",
       "      <th>14147</th>\n",
       "      <td>3.902537</td>\n",
       "      <td>10.655377</td>\n",
       "      <td>12.012378</td>\n",
       "      <td>11.625587</td>\n",
       "    </tr>\n",
       "    <tr>\n",
       "      <th>14148</th>\n",
       "      <td>3.875727</td>\n",
       "      <td>10.702148</td>\n",
       "      <td>11.650285</td>\n",
       "      <td>11.737832</td>\n",
       "    </tr>\n",
       "  </tbody>\n",
       "</table>\n",
       "<p>14149 rows × 4 columns</p>\n",
       "</div>"
      ],
      "text/plain": [
       "       rougher.input.feed_pb  rougher.output.concentrate_pb  \\\n",
       "0                   2.284912                       7.101074   \n",
       "1                   2.266033                       7.278807   \n",
       "2                   2.159622                       7.216833   \n",
       "3                   2.037807                       7.175616   \n",
       "4                   1.786875                       7.240205   \n",
       "...                      ...                            ...   \n",
       "14144               4.617558                      10.984003   \n",
       "14145               4.144989                      10.888213   \n",
       "14146               4.020002                       8.955135   \n",
       "14147               3.902537                      10.655377   \n",
       "14148               3.875727                      10.702148   \n",
       "\n",
       "       primary_cleaner.output.concentrate_pb  final.output.concentrate_pb  \n",
       "0                                  10.389648                     9.889648  \n",
       "1                                  10.497069                     9.968944  \n",
       "2                                  10.354494                    10.213995  \n",
       "3                                   8.496563                     9.977019  \n",
       "4                                   9.986786                    10.142511  \n",
       "...                                      ...                          ...  \n",
       "14144                              12.445966                    11.356233  \n",
       "14145                              12.623947                    11.349355  \n",
       "14146                              12.633558                    11.434366  \n",
       "14147                              12.012378                    11.625587  \n",
       "14148                              11.650285                    11.737832  \n",
       "\n",
       "[14149 rows x 4 columns]"
      ]
     },
     "execution_count": 23,
     "metadata": {},
     "output_type": "execute_result"
    }
   ],
   "source": [
    "col_pb = ['rougher.input.feed_pb', 'rougher.output.concentrate_pb', 'primary_cleaner.output.concentrate_pb', 'final.output.concentrate_pb']\n",
    "df_train[col_pb]"
   ]
  },
  {
   "cell_type": "code",
   "execution_count": 24,
   "metadata": {},
   "outputs": [
    {
     "data": {
      "image/png": "[encoded data removed]",
      "text/plain": [
       "<Figure size 1080x360 with 1 Axes>"
      ]
     },
     "metadata": {
      "needs_background": "light"
     },
     "output_type": "display_data"
    }
   ],
   "source": [
    "df_train.boxplot(col_pb, figsize = (15,5))\n",
    "plt.show()"
   ]
  },
  {
   "cell_type": "markdown",
   "metadata": {},
   "source": [
    "<div class=\"alert alert-info\">Концентрация свинца вырастает за время обработки, возможно, полная очистка золота от свинца не так необходима</div>"
   ]
  },
  {
   "cell_type": "markdown",
   "metadata": {},
   "source": [
    "<div class=\"alert alert-info\">Сравните распределения размеров гранул сырья на обучающей и тестовой выборках. Если распределения сильно отличаются друг от друга, оценка модели будет неправильной.\n",
    "</div>"
   ]
  },
  {
   "cell_type": "code",
   "execution_count": 25,
   "metadata": {},
   "outputs": [
    {
     "data": {
      "text/html": [
       "<div>\n",
       "<style scoped>\n",
       "    .dataframe tbody tr th:only-of-type {\n",
       "        vertical-align: middle;\n",
       "    }\n",
       "\n",
       "    .dataframe tbody tr th {\n",
       "        vertical-align: top;\n",
       "    }\n",
       "\n",
       "    .dataframe thead th {\n",
       "        text-align: right;\n",
       "    }\n",
       "</style>\n",
       "<table border=\"1\" class=\"dataframe\">\n",
       "  <thead>\n",
       "    <tr style=\"text-align: right;\">\n",
       "      <th></th>\n",
       "      <th>primary_cleaner.input.feed_size</th>\n",
       "      <th>rougher.input.feed_size</th>\n",
       "    </tr>\n",
       "  </thead>\n",
       "  <tbody>\n",
       "    <tr>\n",
       "      <th>0</th>\n",
       "      <td>7.25</td>\n",
       "      <td>55.486599</td>\n",
       "    </tr>\n",
       "    <tr>\n",
       "      <th>1</th>\n",
       "      <td>7.25</td>\n",
       "      <td>57.278666</td>\n",
       "    </tr>\n",
       "    <tr>\n",
       "      <th>2</th>\n",
       "      <td>7.25</td>\n",
       "      <td>57.510649</td>\n",
       "    </tr>\n",
       "    <tr>\n",
       "      <th>3</th>\n",
       "      <td>7.25</td>\n",
       "      <td>57.792734</td>\n",
       "    </tr>\n",
       "    <tr>\n",
       "      <th>4</th>\n",
       "      <td>7.25</td>\n",
       "      <td>56.047189</td>\n",
       "    </tr>\n",
       "  </tbody>\n",
       "</table>\n",
       "</div>"
      ],
      "text/plain": [
       "   primary_cleaner.input.feed_size  rougher.input.feed_size\n",
       "0                             7.25                55.486599\n",
       "1                             7.25                57.278666\n",
       "2                             7.25                57.510649\n",
       "3                             7.25                57.792734\n",
       "4                             7.25                56.047189"
      ]
     },
     "execution_count": 25,
     "metadata": {},
     "output_type": "execute_result"
    }
   ],
   "source": [
    "df_train_feed_size = df_train.filter(like=\"feed_size\")\n",
    "df_train_feed_size.head()"
   ]
  },
  {
   "cell_type": "code",
   "execution_count": 26,
   "metadata": {},
   "outputs": [
    {
     "data": {
      "text/html": [
       "<div>\n",
       "<style scoped>\n",
       "    .dataframe tbody tr th:only-of-type {\n",
       "        vertical-align: middle;\n",
       "    }\n",
       "\n",
       "    .dataframe tbody tr th {\n",
       "        vertical-align: top;\n",
       "    }\n",
       "\n",
       "    .dataframe thead th {\n",
       "        text-align: right;\n",
       "    }\n",
       "</style>\n",
       "<table border=\"1\" class=\"dataframe\">\n",
       "  <thead>\n",
       "    <tr style=\"text-align: right;\">\n",
       "      <th></th>\n",
       "      <th>primary_cleaner.input.feed_size</th>\n",
       "      <th>rougher.input.feed_size</th>\n",
       "    </tr>\n",
       "  </thead>\n",
       "  <tbody>\n",
       "    <tr>\n",
       "      <th>0</th>\n",
       "      <td>8.080000</td>\n",
       "      <td>62.710452</td>\n",
       "    </tr>\n",
       "    <tr>\n",
       "      <th>1</th>\n",
       "      <td>8.080000</td>\n",
       "      <td>61.961163</td>\n",
       "    </tr>\n",
       "    <tr>\n",
       "      <th>2</th>\n",
       "      <td>7.786667</td>\n",
       "      <td>66.903807</td>\n",
       "    </tr>\n",
       "    <tr>\n",
       "      <th>3</th>\n",
       "      <td>7.640000</td>\n",
       "      <td>59.865919</td>\n",
       "    </tr>\n",
       "    <tr>\n",
       "      <th>4</th>\n",
       "      <td>7.530000</td>\n",
       "      <td>63.315324</td>\n",
       "    </tr>\n",
       "  </tbody>\n",
       "</table>\n",
       "</div>"
      ],
      "text/plain": [
       "   primary_cleaner.input.feed_size  rougher.input.feed_size\n",
       "0                         8.080000                62.710452\n",
       "1                         8.080000                61.961163\n",
       "2                         7.786667                66.903807\n",
       "3                         7.640000                59.865919\n",
       "4                         7.530000                63.315324"
      ]
     },
     "execution_count": 26,
     "metadata": {},
     "output_type": "execute_result"
    }
   ],
   "source": [
    "df_test_feed_size = df_test.filter(like=\"feed_size\")\n",
    "df_test_feed_size.head()"
   ]
  },
  {
   "cell_type": "markdown",
   "metadata": {},
   "source": [
    "<div class=\"alert alert-info\">\n",
    "Построим kde plot и сравним распределения выборок, пересекаются ли значения из тестовой выборки со значениями из обучающей.</div>"
   ]
  },
  {
   "cell_type": "code",
   "execution_count": 29,
   "metadata": {},
   "outputs": [
    {
     "data": {
      "image/png": "[encoded data removed]",
      "text/plain": [
       "<Figure size 1080x360 with 1 Axes>"
      ]
     },
     "metadata": {
      "needs_background": "light"
     },
     "output_type": "display_data"
    }
   ],
   "source": [
    "f, ax = plt.subplots(figsize=(15, 5))\n",
    "\n",
    "sns.kdeplot(x='rougher.input.feed_size',\n",
    "            label='df_train',\n",
    "            data=df_train_feed_size);\n",
    "\n",
    "sns.kdeplot(x='rougher.input.feed_size',\n",
    "            label='df_test',\n",
    "            data=df_test_feed_size);\n",
    "\n",
    "plt.legend(fontsize = 15);"
   ]
  },
  {
   "cell_type": "code",
   "execution_count": 30,
   "metadata": {},
   "outputs": [
    {
     "data": {
      "image/png": "[encoded data removed]",
      "text/plain": [
       "<Figure size 1080x360 with 1 Axes>"
      ]
     },
     "metadata": {
      "needs_background": "light"
     },
     "output_type": "display_data"
    }
   ],
   "source": [
    "f, ax = plt.subplots(figsize=(15, 5))\n",
    "\n",
    "sns.kdeplot(x='primary_cleaner.input.feed_size',\n",
    "            label='df_train',\n",
    "            data=df_train_feed_size);\n",
    "\n",
    "sns.kdeplot(x='primary_cleaner.input.feed_size',\n",
    "            label='df_test',\n",
    "            data=df_test_feed_size);\n",
    "\n",
    "plt.legend(fontsize = 15);"
   ]
  },
  {
   "cell_type": "markdown",
   "metadata": {},
   "source": [
    "<div class=\"alert alert-info\">Распределения похожи, в тестовой выборке размер гранул на входе чуть превышает размер в тренировочной, возможно, это уберется в дальнейшей обработке, на выходе после первой очистки всё отлично, выборки очень похожи</div>"
   ]
  },
  {
   "cell_type": "markdown",
   "metadata": {},
   "source": [
    "<div class=\"alert alert-info\">Исследуйте суммарную концентрацию всех веществ на разных стадиях: в сырье, в черновом и финальном концентратах.</div>"
   ]
  },
  {
   "cell_type": "markdown",
   "metadata": {},
   "source": [
    "<div class=\"alert alert-info\">Посмотрим на столбцы с концентрацией</div>"
   ]
  },
  {
   "cell_type": "code",
   "execution_count": 31,
   "metadata": {},
   "outputs": [
    {
     "data": {
      "text/html": [
       "<div>\n",
       "<style scoped>\n",
       "    .dataframe tbody tr th:only-of-type {\n",
       "        vertical-align: middle;\n",
       "    }\n",
       "\n",
       "    .dataframe tbody tr th {\n",
       "        vertical-align: top;\n",
       "    }\n",
       "\n",
       "    .dataframe thead th {\n",
       "        text-align: right;\n",
       "    }\n",
       "</style>\n",
       "<table border=\"1\" class=\"dataframe\">\n",
       "  <thead>\n",
       "    <tr style=\"text-align: right;\">\n",
       "      <th></th>\n",
       "      <th>final.output.concentrate_ag</th>\n",
       "      <th>final.output.concentrate_pb</th>\n",
       "      <th>final.output.concentrate_sol</th>\n",
       "      <th>final.output.concentrate_au</th>\n",
       "      <th>primary_cleaner.output.concentrate_ag</th>\n",
       "      <th>primary_cleaner.output.concentrate_pb</th>\n",
       "      <th>primary_cleaner.output.concentrate_sol</th>\n",
       "      <th>primary_cleaner.output.concentrate_au</th>\n",
       "      <th>rougher.calculation.sulfate_to_au_concentrate</th>\n",
       "      <th>rougher.output.concentrate_ag</th>\n",
       "      <th>rougher.output.concentrate_pb</th>\n",
       "      <th>rougher.output.concentrate_sol</th>\n",
       "      <th>rougher.output.concentrate_au</th>\n",
       "    </tr>\n",
       "  </thead>\n",
       "  <tbody>\n",
       "    <tr>\n",
       "      <th>0</th>\n",
       "      <td>6.055403</td>\n",
       "      <td>9.889648</td>\n",
       "      <td>5.507324</td>\n",
       "      <td>42.192020</td>\n",
       "      <td>8.547551</td>\n",
       "      <td>10.389648</td>\n",
       "      <td>19.529297</td>\n",
       "      <td>34.174427</td>\n",
       "      <td>41885.707031</td>\n",
       "      <td>11.500771</td>\n",
       "      <td>7.101074</td>\n",
       "      <td>28.029297</td>\n",
       "      <td>19.793808</td>\n",
       "    </tr>\n",
       "    <tr>\n",
       "      <th>1</th>\n",
       "      <td>6.029369</td>\n",
       "      <td>9.968944</td>\n",
       "      <td>5.257781</td>\n",
       "      <td>42.701629</td>\n",
       "      <td>8.558743</td>\n",
       "      <td>10.497069</td>\n",
       "      <td>19.369147</td>\n",
       "      <td>34.118526</td>\n",
       "      <td>42050.861809</td>\n",
       "      <td>11.615865</td>\n",
       "      <td>7.278807</td>\n",
       "      <td>28.067063</td>\n",
       "      <td>20.050975</td>\n",
       "    </tr>\n",
       "    <tr>\n",
       "      <th>2</th>\n",
       "      <td>6.055926</td>\n",
       "      <td>10.213995</td>\n",
       "      <td>5.383759</td>\n",
       "      <td>42.657501</td>\n",
       "      <td>8.603505</td>\n",
       "      <td>10.354494</td>\n",
       "      <td>19.167579</td>\n",
       "      <td>33.969464</td>\n",
       "      <td>42018.101184</td>\n",
       "      <td>11.695753</td>\n",
       "      <td>7.216833</td>\n",
       "      <td>27.454037</td>\n",
       "      <td>19.737170</td>\n",
       "    </tr>\n",
       "    <tr>\n",
       "      <th>3</th>\n",
       "      <td>6.047977</td>\n",
       "      <td>9.977019</td>\n",
       "      <td>4.858634</td>\n",
       "      <td>42.689819</td>\n",
       "      <td>7.221879</td>\n",
       "      <td>8.496563</td>\n",
       "      <td>15.978538</td>\n",
       "      <td>28.260743</td>\n",
       "      <td>42029.447991</td>\n",
       "      <td>11.915047</td>\n",
       "      <td>7.175616</td>\n",
       "      <td>27.341277</td>\n",
       "      <td>19.320810</td>\n",
       "    </tr>\n",
       "    <tr>\n",
       "      <th>4</th>\n",
       "      <td>6.148599</td>\n",
       "      <td>10.142511</td>\n",
       "      <td>4.939416</td>\n",
       "      <td>42.774141</td>\n",
       "      <td>9.089428</td>\n",
       "      <td>9.986786</td>\n",
       "      <td>19.199864</td>\n",
       "      <td>33.044932</td>\n",
       "      <td>42125.354245</td>\n",
       "      <td>12.411054</td>\n",
       "      <td>7.240205</td>\n",
       "      <td>27.041023</td>\n",
       "      <td>19.216101</td>\n",
       "    </tr>\n",
       "  </tbody>\n",
       "</table>\n",
       "</div>"
      ],
      "text/plain": [
       "   final.output.concentrate_ag  final.output.concentrate_pb  \\\n",
       "0                     6.055403                     9.889648   \n",
       "1                     6.029369                     9.968944   \n",
       "2                     6.055926                    10.213995   \n",
       "3                     6.047977                     9.977019   \n",
       "4                     6.148599                    10.142511   \n",
       "\n",
       "   final.output.concentrate_sol  final.output.concentrate_au  \\\n",
       "0                      5.507324                    42.192020   \n",
       "1                      5.257781                    42.701629   \n",
       "2                      5.383759                    42.657501   \n",
       "3                      4.858634                    42.689819   \n",
       "4                      4.939416                    42.774141   \n",
       "\n",
       "   primary_cleaner.output.concentrate_ag  \\\n",
       "0                               8.547551   \n",
       "1                               8.558743   \n",
       "2                               8.603505   \n",
       "3                               7.221879   \n",
       "4                               9.089428   \n",
       "\n",
       "   primary_cleaner.output.concentrate_pb  \\\n",
       "0                              10.389648   \n",
       "1                              10.497069   \n",
       "2                              10.354494   \n",
       "3                               8.496563   \n",
       "4                               9.986786   \n",
       "\n",
       "   primary_cleaner.output.concentrate_sol  \\\n",
       "0                               19.529297   \n",
       "1                               19.369147   \n",
       "2                               19.167579   \n",
       "3                               15.978538   \n",
       "4                               19.199864   \n",
       "\n",
       "   primary_cleaner.output.concentrate_au  \\\n",
       "0                              34.174427   \n",
       "1                              34.118526   \n",
       "2                              33.969464   \n",
       "3                              28.260743   \n",
       "4                              33.044932   \n",
       "\n",
       "   rougher.calculation.sulfate_to_au_concentrate  \\\n",
       "0                                   41885.707031   \n",
       "1                                   42050.861809   \n",
       "2                                   42018.101184   \n",
       "3                                   42029.447991   \n",
       "4                                   42125.354245   \n",
       "\n",
       "   rougher.output.concentrate_ag  rougher.output.concentrate_pb  \\\n",
       "0                      11.500771                       7.101074   \n",
       "1                      11.615865                       7.278807   \n",
       "2                      11.695753                       7.216833   \n",
       "3                      11.915047                       7.175616   \n",
       "4                      12.411054                       7.240205   \n",
       "\n",
       "   rougher.output.concentrate_sol  rougher.output.concentrate_au  \n",
       "0                       28.029297                      19.793808  \n",
       "1                       28.067063                      20.050975  \n",
       "2                       27.454037                      19.737170  \n",
       "3                       27.341277                      19.320810  \n",
       "4                       27.041023                      19.216101  "
      ]
     },
     "execution_count": 31,
     "metadata": {},
     "output_type": "execute_result"
    }
   ],
   "source": [
    "df_train.filter(like=\"concentrate\").head()"
   ]
  },
  {
   "cell_type": "markdown",
   "metadata": {},
   "source": [
    "<div class=\"alert alert-info\">Создадим новые столбцы с суммарной концентрацией</div>"
   ]
  },
  {
   "cell_type": "code",
   "execution_count": 32,
   "metadata": {},
   "outputs": [
    {
     "data": {
      "text/html": [
       "<div>\n",
       "<style scoped>\n",
       "    .dataframe tbody tr th:only-of-type {\n",
       "        vertical-align: middle;\n",
       "    }\n",
       "\n",
       "    .dataframe tbody tr th {\n",
       "        vertical-align: top;\n",
       "    }\n",
       "\n",
       "    .dataframe thead th {\n",
       "        text-align: right;\n",
       "    }\n",
       "</style>\n",
       "<table border=\"1\" class=\"dataframe\">\n",
       "  <thead>\n",
       "    <tr style=\"text-align: right;\">\n",
       "      <th></th>\n",
       "      <th>date</th>\n",
       "      <th>final.output.concentrate_ag</th>\n",
       "      <th>final.output.concentrate_pb</th>\n",
       "      <th>final.output.concentrate_sol</th>\n",
       "      <th>final.output.concentrate_au</th>\n",
       "      <th>final.output.recovery</th>\n",
       "      <th>final.output.tail_ag</th>\n",
       "      <th>final.output.tail_pb</th>\n",
       "      <th>final.output.tail_sol</th>\n",
       "      <th>final.output.tail_au</th>\n",
       "      <th>...</th>\n",
       "      <th>secondary_cleaner.state.floatbank4_b_level</th>\n",
       "      <th>secondary_cleaner.state.floatbank5_a_air</th>\n",
       "      <th>secondary_cleaner.state.floatbank5_a_level</th>\n",
       "      <th>secondary_cleaner.state.floatbank5_b_air</th>\n",
       "      <th>secondary_cleaner.state.floatbank5_b_level</th>\n",
       "      <th>secondary_cleaner.state.floatbank6_a_air</th>\n",
       "      <th>secondary_cleaner.state.floatbank6_a_level</th>\n",
       "      <th>sum_rougher</th>\n",
       "      <th>sum_primary</th>\n",
       "      <th>sum_final</th>\n",
       "    </tr>\n",
       "  </thead>\n",
       "  <tbody>\n",
       "    <tr>\n",
       "      <th>0</th>\n",
       "      <td>2016-01-15 00:00:00</td>\n",
       "      <td>6.055403</td>\n",
       "      <td>9.889648</td>\n",
       "      <td>5.507324</td>\n",
       "      <td>42.192020</td>\n",
       "      <td>70.541216</td>\n",
       "      <td>10.411962</td>\n",
       "      <td>0.895447</td>\n",
       "      <td>16.904297</td>\n",
       "      <td>2.143149</td>\n",
       "      <td>...</td>\n",
       "      <td>-504.715942</td>\n",
       "      <td>9.925633</td>\n",
       "      <td>-498.310211</td>\n",
       "      <td>8.079666</td>\n",
       "      <td>-500.470978</td>\n",
       "      <td>14.151341</td>\n",
       "      <td>-605.841980</td>\n",
       "      <td>66.424950</td>\n",
       "      <td>72.640924</td>\n",
       "      <td>63.644396</td>\n",
       "    </tr>\n",
       "    <tr>\n",
       "      <th>1</th>\n",
       "      <td>2016-01-15 01:00:00</td>\n",
       "      <td>6.029369</td>\n",
       "      <td>9.968944</td>\n",
       "      <td>5.257781</td>\n",
       "      <td>42.701629</td>\n",
       "      <td>69.266198</td>\n",
       "      <td>10.462676</td>\n",
       "      <td>0.927452</td>\n",
       "      <td>16.634514</td>\n",
       "      <td>2.224930</td>\n",
       "      <td>...</td>\n",
       "      <td>-501.331529</td>\n",
       "      <td>10.039245</td>\n",
       "      <td>-500.169983</td>\n",
       "      <td>7.984757</td>\n",
       "      <td>-500.582168</td>\n",
       "      <td>13.998353</td>\n",
       "      <td>-599.787184</td>\n",
       "      <td>67.012710</td>\n",
       "      <td>72.543485</td>\n",
       "      <td>63.957723</td>\n",
       "    </tr>\n",
       "    <tr>\n",
       "      <th>2</th>\n",
       "      <td>2016-01-15 02:00:00</td>\n",
       "      <td>6.055926</td>\n",
       "      <td>10.213995</td>\n",
       "      <td>5.383759</td>\n",
       "      <td>42.657501</td>\n",
       "      <td>68.116445</td>\n",
       "      <td>10.507046</td>\n",
       "      <td>0.953716</td>\n",
       "      <td>16.208849</td>\n",
       "      <td>2.257889</td>\n",
       "      <td>...</td>\n",
       "      <td>-501.133383</td>\n",
       "      <td>10.070913</td>\n",
       "      <td>-500.129135</td>\n",
       "      <td>8.013877</td>\n",
       "      <td>-500.517572</td>\n",
       "      <td>14.028663</td>\n",
       "      <td>-601.427363</td>\n",
       "      <td>66.103793</td>\n",
       "      <td>72.095042</td>\n",
       "      <td>64.311180</td>\n",
       "    </tr>\n",
       "    <tr>\n",
       "      <th>3</th>\n",
       "      <td>2016-01-15 03:00:00</td>\n",
       "      <td>6.047977</td>\n",
       "      <td>9.977019</td>\n",
       "      <td>4.858634</td>\n",
       "      <td>42.689819</td>\n",
       "      <td>68.347543</td>\n",
       "      <td>10.422762</td>\n",
       "      <td>0.883763</td>\n",
       "      <td>16.532835</td>\n",
       "      <td>2.146849</td>\n",
       "      <td>...</td>\n",
       "      <td>-501.193686</td>\n",
       "      <td>9.970366</td>\n",
       "      <td>-499.201640</td>\n",
       "      <td>7.977324</td>\n",
       "      <td>-500.255908</td>\n",
       "      <td>14.005551</td>\n",
       "      <td>-599.996129</td>\n",
       "      <td>65.752751</td>\n",
       "      <td>59.957723</td>\n",
       "      <td>63.573449</td>\n",
       "    </tr>\n",
       "    <tr>\n",
       "      <th>4</th>\n",
       "      <td>2016-01-15 04:00:00</td>\n",
       "      <td>6.148599</td>\n",
       "      <td>10.142511</td>\n",
       "      <td>4.939416</td>\n",
       "      <td>42.774141</td>\n",
       "      <td>66.927016</td>\n",
       "      <td>10.360302</td>\n",
       "      <td>0.792826</td>\n",
       "      <td>16.525686</td>\n",
       "      <td>2.055292</td>\n",
       "      <td>...</td>\n",
       "      <td>-501.053894</td>\n",
       "      <td>9.925709</td>\n",
       "      <td>-501.686727</td>\n",
       "      <td>7.894242</td>\n",
       "      <td>-500.356035</td>\n",
       "      <td>13.996647</td>\n",
       "      <td>-601.496691</td>\n",
       "      <td>65.908382</td>\n",
       "      <td>71.321010</td>\n",
       "      <td>64.004667</td>\n",
       "    </tr>\n",
       "  </tbody>\n",
       "</table>\n",
       "<p>5 rows × 90 columns</p>\n",
       "</div>"
      ],
      "text/plain": [
       "                  date  final.output.concentrate_ag  \\\n",
       "0  2016-01-15 00:00:00                     6.055403   \n",
       "1  2016-01-15 01:00:00                     6.029369   \n",
       "2  2016-01-15 02:00:00                     6.055926   \n",
       "3  2016-01-15 03:00:00                     6.047977   \n",
       "4  2016-01-15 04:00:00                     6.148599   \n",
       "\n",
       "   final.output.concentrate_pb  final.output.concentrate_sol  \\\n",
       "0                     9.889648                      5.507324   \n",
       "1                     9.968944                      5.257781   \n",
       "2                    10.213995                      5.383759   \n",
       "3                     9.977019                      4.858634   \n",
       "4                    10.142511                      4.939416   \n",
       "\n",
       "   final.output.concentrate_au  final.output.recovery  final.output.tail_ag  \\\n",
       "0                    42.192020              70.541216             10.411962   \n",
       "1                    42.701629              69.266198             10.462676   \n",
       "2                    42.657501              68.116445             10.507046   \n",
       "3                    42.689819              68.347543             10.422762   \n",
       "4                    42.774141              66.927016             10.360302   \n",
       "\n",
       "   final.output.tail_pb  final.output.tail_sol  final.output.tail_au  ...  \\\n",
       "0              0.895447              16.904297              2.143149  ...   \n",
       "1              0.927452              16.634514              2.224930  ...   \n",
       "2              0.953716              16.208849              2.257889  ...   \n",
       "3              0.883763              16.532835              2.146849  ...   \n",
       "4              0.792826              16.525686              2.055292  ...   \n",
       "\n",
       "   secondary_cleaner.state.floatbank4_b_level  \\\n",
       "0                                 -504.715942   \n",
       "1                                 -501.331529   \n",
       "2                                 -501.133383   \n",
       "3                                 -501.193686   \n",
       "4                                 -501.053894   \n",
       "\n",
       "   secondary_cleaner.state.floatbank5_a_air  \\\n",
       "0                                  9.925633   \n",
       "1                                 10.039245   \n",
       "2                                 10.070913   \n",
       "3                                  9.970366   \n",
       "4                                  9.925709   \n",
       "\n",
       "   secondary_cleaner.state.floatbank5_a_level  \\\n",
       "0                                 -498.310211   \n",
       "1                                 -500.169983   \n",
       "2                                 -500.129135   \n",
       "3                                 -499.201640   \n",
       "4                                 -501.686727   \n",
       "\n",
       "   secondary_cleaner.state.floatbank5_b_air  \\\n",
       "0                                  8.079666   \n",
       "1                                  7.984757   \n",
       "2                                  8.013877   \n",
       "3                                  7.977324   \n",
       "4                                  7.894242   \n",
       "\n",
       "   secondary_cleaner.state.floatbank5_b_level  \\\n",
       "0                                 -500.470978   \n",
       "1                                 -500.582168   \n",
       "2                                 -500.517572   \n",
       "3                                 -500.255908   \n",
       "4                                 -500.356035   \n",
       "\n",
       "   secondary_cleaner.state.floatbank6_a_air  \\\n",
       "0                                 14.151341   \n",
       "1                                 13.998353   \n",
       "2                                 14.028663   \n",
       "3                                 14.005551   \n",
       "4                                 13.996647   \n",
       "\n",
       "   secondary_cleaner.state.floatbank6_a_level  sum_rougher  sum_primary  \\\n",
       "0                                 -605.841980    66.424950    72.640924   \n",
       "1                                 -599.787184    67.012710    72.543485   \n",
       "2                                 -601.427363    66.103793    72.095042   \n",
       "3                                 -599.996129    65.752751    59.957723   \n",
       "4                                 -601.496691    65.908382    71.321010   \n",
       "\n",
       "   sum_final  \n",
       "0  63.644396  \n",
       "1  63.957723  \n",
       "2  64.311180  \n",
       "3  63.573449  \n",
       "4  64.004667  \n",
       "\n",
       "[5 rows x 90 columns]"
      ]
     },
     "execution_count": 32,
     "metadata": {},
     "output_type": "execute_result"
    }
   ],
   "source": [
    "df_train['sum_rougher'] = (df_train['rougher.output.concentrate_ag'] + \n",
    "                                       df_train['rougher.output.concentrate_pb'] +\n",
    "                                      df_train['rougher.output.concentrate_sol'] +\n",
    "                                      df_train['rougher.output.concentrate_au'])\n",
    "df_train['sum_primary'] = (df_train['primary_cleaner.output.concentrate_ag'] + \n",
    "                                       df_train['primary_cleaner.output.concentrate_pb'] +\n",
    "                                      df_train['primary_cleaner.output.concentrate_sol'] +\n",
    "                                      df_train['primary_cleaner.output.concentrate_au'])\n",
    "df_train['sum_final'] = (df_train['final.output.concentrate_ag'] + \n",
    "                                       df_train['final.output.concentrate_pb'] +\n",
    "                                      df_train['final.output.concentrate_sol'] +\n",
    "                                      df_train['final.output.concentrate_au'])\n",
    "df_train.head()"
   ]
  },
  {
   "cell_type": "markdown",
   "metadata": {},
   "source": [
    "<div class=\"alert alert-info\">Построим график</div>"
   ]
  },
  {
   "cell_type": "code",
   "execution_count": 33,
   "metadata": {},
   "outputs": [
    {
     "data": {
      "image/png": "[encoded data removed]",
      "text/plain": [
       "<Figure size 1080x360 with 1 Axes>"
      ]
     },
     "metadata": {
      "needs_background": "light"
     },
     "output_type": "display_data"
    }
   ],
   "source": [
    "f, ax = plt.subplots(figsize=(15, 5))\n",
    "\n",
    "sns.histplot(x='sum_rougher',\n",
    "             label='sum_rougher',\n",
    "             stat=\"density\",\n",
    "             bins=20,\n",
    "             fill=False,\n",
    "             data=df_train)\n",
    "\n",
    "sns.histplot(x='sum_primary',\n",
    "             label='sum_primary',\n",
    "             stat=\"density\",\n",
    "             bins=20,\n",
    "             fill=False,\n",
    "             data=df_train)\n",
    "\n",
    "sns.histplot(x='sum_final',\n",
    "             label='sum_final',\n",
    "             stat=\"density\",\n",
    "             bins=20,\n",
    "             fill=False,\n",
    "             data=df_train)\n",
    "\n",
    "plt.legend(fontsize = 15);"
   ]
  },
  {
   "cell_type": "markdown",
   "metadata": {},
   "source": [
    "<div class=\"alert alert-info\">Найдем нулевые значения - аномалии, и удалим их.</div>"
   ]
  },
  {
   "cell_type": "code",
   "execution_count": 34,
   "metadata": {
    "scrolled": true
   },
   "outputs": [
    {
     "data": {
      "text/html": [
       "<div>\n",
       "<style scoped>\n",
       "    .dataframe tbody tr th:only-of-type {\n",
       "        vertical-align: middle;\n",
       "    }\n",
       "\n",
       "    .dataframe tbody tr th {\n",
       "        vertical-align: top;\n",
       "    }\n",
       "\n",
       "    .dataframe thead th {\n",
       "        text-align: right;\n",
       "    }\n",
       "</style>\n",
       "<table border=\"1\" class=\"dataframe\">\n",
       "  <thead>\n",
       "    <tr style=\"text-align: right;\">\n",
       "      <th></th>\n",
       "      <th>date</th>\n",
       "      <th>final.output.concentrate_ag</th>\n",
       "      <th>final.output.concentrate_pb</th>\n",
       "      <th>final.output.concentrate_sol</th>\n",
       "      <th>final.output.concentrate_au</th>\n",
       "      <th>final.output.recovery</th>\n",
       "      <th>final.output.tail_ag</th>\n",
       "      <th>final.output.tail_pb</th>\n",
       "      <th>final.output.tail_sol</th>\n",
       "      <th>final.output.tail_au</th>\n",
       "      <th>...</th>\n",
       "      <th>secondary_cleaner.state.floatbank4_b_level</th>\n",
       "      <th>secondary_cleaner.state.floatbank5_a_air</th>\n",
       "      <th>secondary_cleaner.state.floatbank5_a_level</th>\n",
       "      <th>secondary_cleaner.state.floatbank5_b_air</th>\n",
       "      <th>secondary_cleaner.state.floatbank5_b_level</th>\n",
       "      <th>secondary_cleaner.state.floatbank6_a_air</th>\n",
       "      <th>secondary_cleaner.state.floatbank6_a_level</th>\n",
       "      <th>sum_rougher</th>\n",
       "      <th>sum_primary</th>\n",
       "      <th>sum_final</th>\n",
       "    </tr>\n",
       "  </thead>\n",
       "  <tbody>\n",
       "    <tr>\n",
       "      <th>0</th>\n",
       "      <td>2016-01-15 00:00:00</td>\n",
       "      <td>6.055403</td>\n",
       "      <td>9.889648</td>\n",
       "      <td>5.507324</td>\n",
       "      <td>42.192020</td>\n",
       "      <td>70.541216</td>\n",
       "      <td>10.411962</td>\n",
       "      <td>0.895447</td>\n",
       "      <td>16.904297</td>\n",
       "      <td>2.143149</td>\n",
       "      <td>...</td>\n",
       "      <td>-504.715942</td>\n",
       "      <td>9.925633</td>\n",
       "      <td>-498.310211</td>\n",
       "      <td>8.079666</td>\n",
       "      <td>-500.470978</td>\n",
       "      <td>14.151341</td>\n",
       "      <td>-605.841980</td>\n",
       "      <td>66.424950</td>\n",
       "      <td>72.640924</td>\n",
       "      <td>63.644396</td>\n",
       "    </tr>\n",
       "    <tr>\n",
       "      <th>1</th>\n",
       "      <td>2016-01-15 01:00:00</td>\n",
       "      <td>6.029369</td>\n",
       "      <td>9.968944</td>\n",
       "      <td>5.257781</td>\n",
       "      <td>42.701629</td>\n",
       "      <td>69.266198</td>\n",
       "      <td>10.462676</td>\n",
       "      <td>0.927452</td>\n",
       "      <td>16.634514</td>\n",
       "      <td>2.224930</td>\n",
       "      <td>...</td>\n",
       "      <td>-501.331529</td>\n",
       "      <td>10.039245</td>\n",
       "      <td>-500.169983</td>\n",
       "      <td>7.984757</td>\n",
       "      <td>-500.582168</td>\n",
       "      <td>13.998353</td>\n",
       "      <td>-599.787184</td>\n",
       "      <td>67.012710</td>\n",
       "      <td>72.543485</td>\n",
       "      <td>63.957723</td>\n",
       "    </tr>\n",
       "    <tr>\n",
       "      <th>2</th>\n",
       "      <td>2016-01-15 02:00:00</td>\n",
       "      <td>6.055926</td>\n",
       "      <td>10.213995</td>\n",
       "      <td>5.383759</td>\n",
       "      <td>42.657501</td>\n",
       "      <td>68.116445</td>\n",
       "      <td>10.507046</td>\n",
       "      <td>0.953716</td>\n",
       "      <td>16.208849</td>\n",
       "      <td>2.257889</td>\n",
       "      <td>...</td>\n",
       "      <td>-501.133383</td>\n",
       "      <td>10.070913</td>\n",
       "      <td>-500.129135</td>\n",
       "      <td>8.013877</td>\n",
       "      <td>-500.517572</td>\n",
       "      <td>14.028663</td>\n",
       "      <td>-601.427363</td>\n",
       "      <td>66.103793</td>\n",
       "      <td>72.095042</td>\n",
       "      <td>64.311180</td>\n",
       "    </tr>\n",
       "    <tr>\n",
       "      <th>3</th>\n",
       "      <td>2016-01-15 03:00:00</td>\n",
       "      <td>6.047977</td>\n",
       "      <td>9.977019</td>\n",
       "      <td>4.858634</td>\n",
       "      <td>42.689819</td>\n",
       "      <td>68.347543</td>\n",
       "      <td>10.422762</td>\n",
       "      <td>0.883763</td>\n",
       "      <td>16.532835</td>\n",
       "      <td>2.146849</td>\n",
       "      <td>...</td>\n",
       "      <td>-501.193686</td>\n",
       "      <td>9.970366</td>\n",
       "      <td>-499.201640</td>\n",
       "      <td>7.977324</td>\n",
       "      <td>-500.255908</td>\n",
       "      <td>14.005551</td>\n",
       "      <td>-599.996129</td>\n",
       "      <td>65.752751</td>\n",
       "      <td>59.957723</td>\n",
       "      <td>63.573449</td>\n",
       "    </tr>\n",
       "    <tr>\n",
       "      <th>4</th>\n",
       "      <td>2016-01-15 04:00:00</td>\n",
       "      <td>6.148599</td>\n",
       "      <td>10.142511</td>\n",
       "      <td>4.939416</td>\n",
       "      <td>42.774141</td>\n",
       "      <td>66.927016</td>\n",
       "      <td>10.360302</td>\n",
       "      <td>0.792826</td>\n",
       "      <td>16.525686</td>\n",
       "      <td>2.055292</td>\n",
       "      <td>...</td>\n",
       "      <td>-501.053894</td>\n",
       "      <td>9.925709</td>\n",
       "      <td>-501.686727</td>\n",
       "      <td>7.894242</td>\n",
       "      <td>-500.356035</td>\n",
       "      <td>13.996647</td>\n",
       "      <td>-601.496691</td>\n",
       "      <td>65.908382</td>\n",
       "      <td>71.321010</td>\n",
       "      <td>64.004667</td>\n",
       "    </tr>\n",
       "    <tr>\n",
       "      <th>...</th>\n",
       "      <td>...</td>\n",
       "      <td>...</td>\n",
       "      <td>...</td>\n",
       "      <td>...</td>\n",
       "      <td>...</td>\n",
       "      <td>...</td>\n",
       "      <td>...</td>\n",
       "      <td>...</td>\n",
       "      <td>...</td>\n",
       "      <td>...</td>\n",
       "      <td>...</td>\n",
       "      <td>...</td>\n",
       "      <td>...</td>\n",
       "      <td>...</td>\n",
       "      <td>...</td>\n",
       "      <td>...</td>\n",
       "      <td>...</td>\n",
       "      <td>...</td>\n",
       "      <td>...</td>\n",
       "      <td>...</td>\n",
       "      <td>...</td>\n",
       "    </tr>\n",
       "    <tr>\n",
       "      <th>14144</th>\n",
       "      <td>2018-08-18 06:59:59</td>\n",
       "      <td>3.224920</td>\n",
       "      <td>11.356233</td>\n",
       "      <td>6.803482</td>\n",
       "      <td>46.713954</td>\n",
       "      <td>73.755150</td>\n",
       "      <td>8.769645</td>\n",
       "      <td>3.141541</td>\n",
       "      <td>10.403181</td>\n",
       "      <td>1.529220</td>\n",
       "      <td>...</td>\n",
       "      <td>-499.740028</td>\n",
       "      <td>18.006038</td>\n",
       "      <td>-499.834374</td>\n",
       "      <td>13.001114</td>\n",
       "      <td>-500.155694</td>\n",
       "      <td>20.007840</td>\n",
       "      <td>-501.296428</td>\n",
       "      <td>70.781325</td>\n",
       "      <td>59.001692</td>\n",
       "      <td>68.098589</td>\n",
       "    </tr>\n",
       "    <tr>\n",
       "      <th>14145</th>\n",
       "      <td>2018-08-18 07:59:59</td>\n",
       "      <td>3.195978</td>\n",
       "      <td>11.349355</td>\n",
       "      <td>6.862249</td>\n",
       "      <td>46.866780</td>\n",
       "      <td>69.049291</td>\n",
       "      <td>8.897321</td>\n",
       "      <td>3.130493</td>\n",
       "      <td>10.549470</td>\n",
       "      <td>1.612542</td>\n",
       "      <td>...</td>\n",
       "      <td>-500.251357</td>\n",
       "      <td>17.998535</td>\n",
       "      <td>-500.395178</td>\n",
       "      <td>12.954048</td>\n",
       "      <td>-499.895163</td>\n",
       "      <td>19.968498</td>\n",
       "      <td>-501.041608</td>\n",
       "      <td>70.539603</td>\n",
       "      <td>59.703912</td>\n",
       "      <td>68.274362</td>\n",
       "    </tr>\n",
       "    <tr>\n",
       "      <th>14146</th>\n",
       "      <td>2018-08-18 08:59:59</td>\n",
       "      <td>3.109998</td>\n",
       "      <td>11.434366</td>\n",
       "      <td>6.886013</td>\n",
       "      <td>46.795691</td>\n",
       "      <td>67.002189</td>\n",
       "      <td>8.529606</td>\n",
       "      <td>2.911418</td>\n",
       "      <td>11.115147</td>\n",
       "      <td>1.596616</td>\n",
       "      <td>...</td>\n",
       "      <td>-499.857027</td>\n",
       "      <td>18.019543</td>\n",
       "      <td>-500.451156</td>\n",
       "      <td>13.023431</td>\n",
       "      <td>-499.914391</td>\n",
       "      <td>19.990885</td>\n",
       "      <td>-501.518452</td>\n",
       "      <td>55.376330</td>\n",
       "      <td>59.561096</td>\n",
       "      <td>68.226068</td>\n",
       "    </tr>\n",
       "    <tr>\n",
       "      <th>14147</th>\n",
       "      <td>2018-08-18 09:59:59</td>\n",
       "      <td>3.367241</td>\n",
       "      <td>11.625587</td>\n",
       "      <td>6.799433</td>\n",
       "      <td>46.408188</td>\n",
       "      <td>65.523246</td>\n",
       "      <td>8.777171</td>\n",
       "      <td>2.819214</td>\n",
       "      <td>10.463847</td>\n",
       "      <td>1.602879</td>\n",
       "      <td>...</td>\n",
       "      <td>-500.314711</td>\n",
       "      <td>17.979515</td>\n",
       "      <td>-499.272871</td>\n",
       "      <td>12.992404</td>\n",
       "      <td>-499.976268</td>\n",
       "      <td>20.013986</td>\n",
       "      <td>-500.625471</td>\n",
       "      <td>69.201689</td>\n",
       "      <td>57.216686</td>\n",
       "      <td>68.200449</td>\n",
       "    </tr>\n",
       "    <tr>\n",
       "      <th>14148</th>\n",
       "      <td>2018-08-18 10:59:59</td>\n",
       "      <td>3.598375</td>\n",
       "      <td>11.737832</td>\n",
       "      <td>6.717509</td>\n",
       "      <td>46.299438</td>\n",
       "      <td>70.281454</td>\n",
       "      <td>8.406690</td>\n",
       "      <td>2.517518</td>\n",
       "      <td>10.652193</td>\n",
       "      <td>1.389434</td>\n",
       "      <td>...</td>\n",
       "      <td>-500.220296</td>\n",
       "      <td>17.963512</td>\n",
       "      <td>-499.939490</td>\n",
       "      <td>12.990306</td>\n",
       "      <td>-500.080993</td>\n",
       "      <td>19.990336</td>\n",
       "      <td>-499.191575</td>\n",
       "      <td>69.544003</td>\n",
       "      <td>55.748041</td>\n",
       "      <td>68.353154</td>\n",
       "    </tr>\n",
       "  </tbody>\n",
       "</table>\n",
       "<p>13602 rows × 90 columns</p>\n",
       "</div>"
      ],
      "text/plain": [
       "                      date  final.output.concentrate_ag  \\\n",
       "0      2016-01-15 00:00:00                     6.055403   \n",
       "1      2016-01-15 01:00:00                     6.029369   \n",
       "2      2016-01-15 02:00:00                     6.055926   \n",
       "3      2016-01-15 03:00:00                     6.047977   \n",
       "4      2016-01-15 04:00:00                     6.148599   \n",
       "...                    ...                          ...   \n",
       "14144  2018-08-18 06:59:59                     3.224920   \n",
       "14145  2018-08-18 07:59:59                     3.195978   \n",
       "14146  2018-08-18 08:59:59                     3.109998   \n",
       "14147  2018-08-18 09:59:59                     3.367241   \n",
       "14148  2018-08-18 10:59:59                     3.598375   \n",
       "\n",
       "       final.output.concentrate_pb  final.output.concentrate_sol  \\\n",
       "0                         9.889648                      5.507324   \n",
       "1                         9.968944                      5.257781   \n",
       "2                        10.213995                      5.383759   \n",
       "3                         9.977019                      4.858634   \n",
       "4                        10.142511                      4.939416   \n",
       "...                            ...                           ...   \n",
       "14144                    11.356233                      6.803482   \n",
       "14145                    11.349355                      6.862249   \n",
       "14146                    11.434366                      6.886013   \n",
       "14147                    11.625587                      6.799433   \n",
       "14148                    11.737832                      6.717509   \n",
       "\n",
       "       final.output.concentrate_au  final.output.recovery  \\\n",
       "0                        42.192020              70.541216   \n",
       "1                        42.701629              69.266198   \n",
       "2                        42.657501              68.116445   \n",
       "3                        42.689819              68.347543   \n",
       "4                        42.774141              66.927016   \n",
       "...                            ...                    ...   \n",
       "14144                    46.713954              73.755150   \n",
       "14145                    46.866780              69.049291   \n",
       "14146                    46.795691              67.002189   \n",
       "14147                    46.408188              65.523246   \n",
       "14148                    46.299438              70.281454   \n",
       "\n",
       "       final.output.tail_ag  final.output.tail_pb  final.output.tail_sol  \\\n",
       "0                 10.411962              0.895447              16.904297   \n",
       "1                 10.462676              0.927452              16.634514   \n",
       "2                 10.507046              0.953716              16.208849   \n",
       "3                 10.422762              0.883763              16.532835   \n",
       "4                 10.360302              0.792826              16.525686   \n",
       "...                     ...                   ...                    ...   \n",
       "14144              8.769645              3.141541              10.403181   \n",
       "14145              8.897321              3.130493              10.549470   \n",
       "14146              8.529606              2.911418              11.115147   \n",
       "14147              8.777171              2.819214              10.463847   \n",
       "14148              8.406690              2.517518              10.652193   \n",
       "\n",
       "       final.output.tail_au  ...  secondary_cleaner.state.floatbank4_b_level  \\\n",
       "0                  2.143149  ...                                 -504.715942   \n",
       "1                  2.224930  ...                                 -501.331529   \n",
       "2                  2.257889  ...                                 -501.133383   \n",
       "3                  2.146849  ...                                 -501.193686   \n",
       "4                  2.055292  ...                                 -501.053894   \n",
       "...                     ...  ...                                         ...   \n",
       "14144              1.529220  ...                                 -499.740028   \n",
       "14145              1.612542  ...                                 -500.251357   \n",
       "14146              1.596616  ...                                 -499.857027   \n",
       "14147              1.602879  ...                                 -500.314711   \n",
       "14148              1.389434  ...                                 -500.220296   \n",
       "\n",
       "       secondary_cleaner.state.floatbank5_a_air  \\\n",
       "0                                      9.925633   \n",
       "1                                     10.039245   \n",
       "2                                     10.070913   \n",
       "3                                      9.970366   \n",
       "4                                      9.925709   \n",
       "...                                         ...   \n",
       "14144                                 18.006038   \n",
       "14145                                 17.998535   \n",
       "14146                                 18.019543   \n",
       "14147                                 17.979515   \n",
       "14148                                 17.963512   \n",
       "\n",
       "       secondary_cleaner.state.floatbank5_a_level  \\\n",
       "0                                     -498.310211   \n",
       "1                                     -500.169983   \n",
       "2                                     -500.129135   \n",
       "3                                     -499.201640   \n",
       "4                                     -501.686727   \n",
       "...                                           ...   \n",
       "14144                                 -499.834374   \n",
       "14145                                 -500.395178   \n",
       "14146                                 -500.451156   \n",
       "14147                                 -499.272871   \n",
       "14148                                 -499.939490   \n",
       "\n",
       "       secondary_cleaner.state.floatbank5_b_air  \\\n",
       "0                                      8.079666   \n",
       "1                                      7.984757   \n",
       "2                                      8.013877   \n",
       "3                                      7.977324   \n",
       "4                                      7.894242   \n",
       "...                                         ...   \n",
       "14144                                 13.001114   \n",
       "14145                                 12.954048   \n",
       "14146                                 13.023431   \n",
       "14147                                 12.992404   \n",
       "14148                                 12.990306   \n",
       "\n",
       "       secondary_cleaner.state.floatbank5_b_level  \\\n",
       "0                                     -500.470978   \n",
       "1                                     -500.582168   \n",
       "2                                     -500.517572   \n",
       "3                                     -500.255908   \n",
       "4                                     -500.356035   \n",
       "...                                           ...   \n",
       "14144                                 -500.155694   \n",
       "14145                                 -499.895163   \n",
       "14146                                 -499.914391   \n",
       "14147                                 -499.976268   \n",
       "14148                                 -500.080993   \n",
       "\n",
       "       secondary_cleaner.state.floatbank6_a_air  \\\n",
       "0                                     14.151341   \n",
       "1                                     13.998353   \n",
       "2                                     14.028663   \n",
       "3                                     14.005551   \n",
       "4                                     13.996647   \n",
       "...                                         ...   \n",
       "14144                                 20.007840   \n",
       "14145                                 19.968498   \n",
       "14146                                 19.990885   \n",
       "14147                                 20.013986   \n",
       "14148                                 19.990336   \n",
       "\n",
       "       secondary_cleaner.state.floatbank6_a_level  sum_rougher  sum_primary  \\\n",
       "0                                     -605.841980    66.424950    72.640924   \n",
       "1                                     -599.787184    67.012710    72.543485   \n",
       "2                                     -601.427363    66.103793    72.095042   \n",
       "3                                     -599.996129    65.752751    59.957723   \n",
       "4                                     -601.496691    65.908382    71.321010   \n",
       "...                                           ...          ...          ...   \n",
       "14144                                 -501.296428    70.781325    59.001692   \n",
       "14145                                 -501.041608    70.539603    59.703912   \n",
       "14146                                 -501.518452    55.376330    59.561096   \n",
       "14147                                 -500.625471    69.201689    57.216686   \n",
       "14148                                 -499.191575    69.544003    55.748041   \n",
       "\n",
       "       sum_final  \n",
       "0      63.644396  \n",
       "1      63.957723  \n",
       "2      64.311180  \n",
       "3      63.573449  \n",
       "4      64.004667  \n",
       "...          ...  \n",
       "14144  68.098589  \n",
       "14145  68.274362  \n",
       "14146  68.226068  \n",
       "14147  68.200449  \n",
       "14148  68.353154  \n",
       "\n",
       "[13602 rows x 90 columns]"
      ]
     },
     "execution_count": 34,
     "metadata": {},
     "output_type": "execute_result"
    }
   ],
   "source": [
    "df_train = df_train.loc[(df_train['sum_rougher'] > 0.05)&\n",
    "                        (df_train['sum_primary'] > 0.05)&\n",
    "                        (df_train['sum_final'] > 0.05)]\n",
    "df_train"
   ]
  },
  {
   "cell_type": "code",
   "execution_count": 35,
   "metadata": {},
   "outputs": [
    {
     "data": {
      "image/png": "[encoded data removed]",
      "text/plain": [
       "<Figure size 1080x360 with 1 Axes>"
      ]
     },
     "metadata": {
      "needs_background": "light"
     },
     "output_type": "display_data"
    }
   ],
   "source": [
    "f, ax = plt.subplots(figsize=(15, 5))\n",
    "\n",
    "sns.histplot(x='sum_rougher',\n",
    "             label='sum_rougher',\n",
    "             stat=\"density\",\n",
    "             bins=20,\n",
    "             fill=False,\n",
    "             data=df_train)\n",
    "\n",
    "sns.histplot(x='sum_primary',\n",
    "             label='sum_primary',\n",
    "             stat=\"density\",\n",
    "             bins=20,\n",
    "             fill=False,\n",
    "             data=df_train)\n",
    "\n",
    "sns.histplot(x='sum_final',\n",
    "             label='sum_final',\n",
    "             stat=\"density\",\n",
    "             bins=20,\n",
    "             fill=False,\n",
    "             data=df_train)\n",
    "\n",
    "plt.legend(fontsize = 15);"
   ]
  },
  {
   "cell_type": "code",
   "execution_count": 36,
   "metadata": {},
   "outputs": [
    {
     "data": {
      "text/plain": [
       "3.8659975970033216"
      ]
     },
     "execution_count": 36,
     "metadata": {},
     "output_type": "execute_result"
    }
   ],
   "source": [
    "(14149 - 13602)*100/14149"
   ]
  },
  {
   "cell_type": "markdown",
   "metadata": {},
   "source": [
    "<div class=\"alert alert-info\">Осталось 13602 строки, удалили менее 4% данных</div>"
   ]
  },
  {
   "cell_type": "code",
   "execution_count": 37,
   "metadata": {},
   "outputs": [
    {
     "data": {
      "text/plain": [
       "date                                           0\n",
       "primary_cleaner.input.sulfate                  4\n",
       "primary_cleaner.input.depressant               5\n",
       "primary_cleaner.input.feed_size                0\n",
       "primary_cleaner.input.xanthate                 4\n",
       "primary_cleaner.state.floatbank8_a_air         0\n",
       "primary_cleaner.state.floatbank8_a_level       0\n",
       "primary_cleaner.state.floatbank8_b_air         0\n",
       "primary_cleaner.state.floatbank8_b_level       0\n",
       "primary_cleaner.state.floatbank8_c_air         0\n",
       "primary_cleaner.state.floatbank8_c_level       0\n",
       "primary_cleaner.state.floatbank8_d_air         0\n",
       "primary_cleaner.state.floatbank8_d_level       0\n",
       "rougher.input.feed_ag                          0\n",
       "rougher.input.feed_pb                          0\n",
       "rougher.input.feed_rate                        3\n",
       "rougher.input.feed_size                        1\n",
       "rougher.input.feed_sol                        21\n",
       "rougher.input.feed_au                          0\n",
       "rougher.input.floatbank10_sulfate              5\n",
       "rougher.input.floatbank10_xanthate             0\n",
       "rougher.input.floatbank11_sulfate              8\n",
       "rougher.input.floatbank11_xanthate            25\n",
       "rougher.state.floatbank10_a_air                0\n",
       "rougher.state.floatbank10_a_level              0\n",
       "rougher.state.floatbank10_b_air                0\n",
       "rougher.state.floatbank10_b_level              0\n",
       "rougher.state.floatbank10_c_air                0\n",
       "rougher.state.floatbank10_c_level              0\n",
       "rougher.state.floatbank10_d_air                0\n",
       "rougher.state.floatbank10_d_level              0\n",
       "rougher.state.floatbank10_e_air                0\n",
       "rougher.state.floatbank10_e_level              0\n",
       "rougher.state.floatbank10_f_air                0\n",
       "rougher.state.floatbank10_f_level              0\n",
       "secondary_cleaner.state.floatbank2_a_air       3\n",
       "secondary_cleaner.state.floatbank2_a_level     0\n",
       "secondary_cleaner.state.floatbank2_b_air       2\n",
       "secondary_cleaner.state.floatbank2_b_level     0\n",
       "secondary_cleaner.state.floatbank3_a_air       9\n",
       "secondary_cleaner.state.floatbank3_a_level     0\n",
       "secondary_cleaner.state.floatbank3_b_air       0\n",
       "secondary_cleaner.state.floatbank3_b_level     0\n",
       "secondary_cleaner.state.floatbank4_a_air       0\n",
       "secondary_cleaner.state.floatbank4_a_level     0\n",
       "secondary_cleaner.state.floatbank4_b_air       0\n",
       "secondary_cleaner.state.floatbank4_b_level     0\n",
       "secondary_cleaner.state.floatbank5_a_air       0\n",
       "secondary_cleaner.state.floatbank5_a_level     0\n",
       "secondary_cleaner.state.floatbank5_b_air       0\n",
       "secondary_cleaner.state.floatbank5_b_level     0\n",
       "secondary_cleaner.state.floatbank6_a_air       0\n",
       "secondary_cleaner.state.floatbank6_a_level     0\n",
       "dtype: int64"
      ]
     },
     "execution_count": 37,
     "metadata": {},
     "output_type": "execute_result"
    }
   ],
   "source": [
    "df_test.isna().sum()"
   ]
  },
  {
   "cell_type": "markdown",
   "metadata": {},
   "source": [
    "<div class=\"alert alert-info\">В тестовой выборке не так много пропусков, удалим их</div>"
   ]
  },
  {
   "cell_type": "code",
   "execution_count": 38,
   "metadata": {},
   "outputs": [
    {
     "data": {
      "text/plain": [
       "date                                          0\n",
       "primary_cleaner.input.sulfate                 0\n",
       "primary_cleaner.input.depressant              0\n",
       "primary_cleaner.input.feed_size               0\n",
       "primary_cleaner.input.xanthate                0\n",
       "primary_cleaner.state.floatbank8_a_air        0\n",
       "primary_cleaner.state.floatbank8_a_level      0\n",
       "primary_cleaner.state.floatbank8_b_air        0\n",
       "primary_cleaner.state.floatbank8_b_level      0\n",
       "primary_cleaner.state.floatbank8_c_air        0\n",
       "primary_cleaner.state.floatbank8_c_level      0\n",
       "primary_cleaner.state.floatbank8_d_air        0\n",
       "primary_cleaner.state.floatbank8_d_level      0\n",
       "rougher.input.feed_ag                         0\n",
       "rougher.input.feed_pb                         0\n",
       "rougher.input.feed_rate                       0\n",
       "rougher.input.feed_size                       0\n",
       "rougher.input.feed_sol                        0\n",
       "rougher.input.feed_au                         0\n",
       "rougher.input.floatbank10_sulfate             0\n",
       "rougher.input.floatbank10_xanthate            0\n",
       "rougher.input.floatbank11_sulfate             0\n",
       "rougher.input.floatbank11_xanthate            0\n",
       "rougher.state.floatbank10_a_air               0\n",
       "rougher.state.floatbank10_a_level             0\n",
       "rougher.state.floatbank10_b_air               0\n",
       "rougher.state.floatbank10_b_level             0\n",
       "rougher.state.floatbank10_c_air               0\n",
       "rougher.state.floatbank10_c_level             0\n",
       "rougher.state.floatbank10_d_air               0\n",
       "rougher.state.floatbank10_d_level             0\n",
       "rougher.state.floatbank10_e_air               0\n",
       "rougher.state.floatbank10_e_level             0\n",
       "rougher.state.floatbank10_f_air               0\n",
       "rougher.state.floatbank10_f_level             0\n",
       "secondary_cleaner.state.floatbank2_a_air      0\n",
       "secondary_cleaner.state.floatbank2_a_level    0\n",
       "secondary_cleaner.state.floatbank2_b_air      0\n",
       "secondary_cleaner.state.floatbank2_b_level    0\n",
       "secondary_cleaner.state.floatbank3_a_air      0\n",
       "secondary_cleaner.state.floatbank3_a_level    0\n",
       "secondary_cleaner.state.floatbank3_b_air      0\n",
       "secondary_cleaner.state.floatbank3_b_level    0\n",
       "secondary_cleaner.state.floatbank4_a_air      0\n",
       "secondary_cleaner.state.floatbank4_a_level    0\n",
       "secondary_cleaner.state.floatbank4_b_air      0\n",
       "secondary_cleaner.state.floatbank4_b_level    0\n",
       "secondary_cleaner.state.floatbank5_a_air      0\n",
       "secondary_cleaner.state.floatbank5_a_level    0\n",
       "secondary_cleaner.state.floatbank5_b_air      0\n",
       "secondary_cleaner.state.floatbank5_b_level    0\n",
       "secondary_cleaner.state.floatbank6_a_air      0\n",
       "secondary_cleaner.state.floatbank6_a_level    0\n",
       "dtype: int64"
      ]
     },
     "execution_count": 38,
     "metadata": {},
     "output_type": "execute_result"
    }
   ],
   "source": [
    "df_test = df_test.dropna()\n",
    "df_test.isna().sum()"
   ]
  },
  {
   "cell_type": "markdown",
   "metadata": {},
   "source": [
    "<div class=\"alert alert-info\">\n",
    "Построила гистограммы, проверила, что нулевые значения убрались</div>"
   ]
  },
  {
   "cell_type": "markdown",
   "metadata": {},
   "source": [
    "<div class=\"alert alert-info\">\n",
    "Рассмотрим также исходное сырьё (это надо было сделать сначала-))</div>"
   ]
  },
  {
   "cell_type": "code",
   "execution_count": 39,
   "metadata": {},
   "outputs": [
    {
     "data": {
      "text/html": [
       "<div>\n",
       "<style scoped>\n",
       "    .dataframe tbody tr th:only-of-type {\n",
       "        vertical-align: middle;\n",
       "    }\n",
       "\n",
       "    .dataframe tbody tr th {\n",
       "        vertical-align: top;\n",
       "    }\n",
       "\n",
       "    .dataframe thead th {\n",
       "        text-align: right;\n",
       "    }\n",
       "</style>\n",
       "<table border=\"1\" class=\"dataframe\">\n",
       "  <thead>\n",
       "    <tr style=\"text-align: right;\">\n",
       "      <th></th>\n",
       "      <th>rougher.input.feed_au</th>\n",
       "      <th>rougher.input.feed_ag</th>\n",
       "      <th>rougher.input.feed_pb</th>\n",
       "      <th>rougher.input.feed_sol</th>\n",
       "    </tr>\n",
       "  </thead>\n",
       "  <tbody>\n",
       "    <tr>\n",
       "      <th>0</th>\n",
       "      <td>6.486150</td>\n",
       "      <td>6.100378</td>\n",
       "      <td>2.284912</td>\n",
       "      <td>36.808594</td>\n",
       "    </tr>\n",
       "    <tr>\n",
       "      <th>1</th>\n",
       "      <td>6.478583</td>\n",
       "      <td>6.161113</td>\n",
       "      <td>2.266033</td>\n",
       "      <td>35.753385</td>\n",
       "    </tr>\n",
       "    <tr>\n",
       "      <th>2</th>\n",
       "      <td>6.362222</td>\n",
       "      <td>6.116455</td>\n",
       "      <td>2.159622</td>\n",
       "      <td>35.971630</td>\n",
       "    </tr>\n",
       "    <tr>\n",
       "      <th>3</th>\n",
       "      <td>6.118189</td>\n",
       "      <td>6.043309</td>\n",
       "      <td>2.037807</td>\n",
       "      <td>36.862241</td>\n",
       "    </tr>\n",
       "    <tr>\n",
       "      <th>4</th>\n",
       "      <td>5.663707</td>\n",
       "      <td>6.060915</td>\n",
       "      <td>1.786875</td>\n",
       "      <td>34.347666</td>\n",
       "    </tr>\n",
       "    <tr>\n",
       "      <th>...</th>\n",
       "      <td>...</td>\n",
       "      <td>...</td>\n",
       "      <td>...</td>\n",
       "      <td>...</td>\n",
       "    </tr>\n",
       "    <tr>\n",
       "      <th>14144</th>\n",
       "      <td>5.335862</td>\n",
       "      <td>6.091855</td>\n",
       "      <td>4.617558</td>\n",
       "      <td>37.369774</td>\n",
       "    </tr>\n",
       "    <tr>\n",
       "      <th>14145</th>\n",
       "      <td>4.838619</td>\n",
       "      <td>6.121323</td>\n",
       "      <td>4.144989</td>\n",
       "      <td>38.591551</td>\n",
       "    </tr>\n",
       "    <tr>\n",
       "      <th>14146</th>\n",
       "      <td>4.525061</td>\n",
       "      <td>5.970515</td>\n",
       "      <td>4.020002</td>\n",
       "      <td>40.074026</td>\n",
       "    </tr>\n",
       "    <tr>\n",
       "      <th>14147</th>\n",
       "      <td>4.362781</td>\n",
       "      <td>6.048130</td>\n",
       "      <td>3.902537</td>\n",
       "      <td>39.713906</td>\n",
       "    </tr>\n",
       "    <tr>\n",
       "      <th>14148</th>\n",
       "      <td>4.365491</td>\n",
       "      <td>6.158718</td>\n",
       "      <td>3.875727</td>\n",
       "      <td>39.135119</td>\n",
       "    </tr>\n",
       "  </tbody>\n",
       "</table>\n",
       "<p>13602 rows × 4 columns</p>\n",
       "</div>"
      ],
      "text/plain": [
       "       rougher.input.feed_au  rougher.input.feed_ag  rougher.input.feed_pb  \\\n",
       "0                   6.486150               6.100378               2.284912   \n",
       "1                   6.478583               6.161113               2.266033   \n",
       "2                   6.362222               6.116455               2.159622   \n",
       "3                   6.118189               6.043309               2.037807   \n",
       "4                   5.663707               6.060915               1.786875   \n",
       "...                      ...                    ...                    ...   \n",
       "14144               5.335862               6.091855               4.617558   \n",
       "14145               4.838619               6.121323               4.144989   \n",
       "14146               4.525061               5.970515               4.020002   \n",
       "14147               4.362781               6.048130               3.902537   \n",
       "14148               4.365491               6.158718               3.875727   \n",
       "\n",
       "       rougher.input.feed_sol  \n",
       "0                   36.808594  \n",
       "1                   35.753385  \n",
       "2                   35.971630  \n",
       "3                   36.862241  \n",
       "4                   34.347666  \n",
       "...                       ...  \n",
       "14144               37.369774  \n",
       "14145               38.591551  \n",
       "14146               40.074026  \n",
       "14147               39.713906  \n",
       "14148               39.135119  \n",
       "\n",
       "[13602 rows x 4 columns]"
      ]
     },
     "execution_count": 39,
     "metadata": {},
     "output_type": "execute_result"
    }
   ],
   "source": [
    "df_input = df_train[['rougher.input.feed_au', 'rougher.input.feed_ag', 'rougher.input.feed_pb', 'rougher.input.feed_sol']]\n",
    "df_input"
   ]
  },
  {
   "cell_type": "code",
   "execution_count": 40,
   "metadata": {},
   "outputs": [
    {
     "data": {
      "image/png": "[encoded data removed]",
      "text/plain": [
       "<Figure size 1080x360 with 1 Axes>"
      ]
     },
     "metadata": {
      "needs_background": "light"
     },
     "output_type": "display_data"
    }
   ],
   "source": [
    "f, ax = plt.subplots(figsize=(15, 5))\n",
    "\n",
    "sns.histplot(x='rougher.input.feed_au',\n",
    "             label='rougher.input.feed_au',\n",
    "             stat=\"density\",\n",
    "             bins=20,\n",
    "             fill=False,\n",
    "             data=df_input)\n",
    "\n",
    "sns.histplot(x='rougher.input.feed_ag',\n",
    "             label='rougher.input.feed_ag',\n",
    "             stat=\"density\",\n",
    "             bins=20,\n",
    "             fill=False,\n",
    "             data=df_input)\n",
    "\n",
    "sns.histplot(x='rougher.input.feed_pb',\n",
    "             label='rougher.input.feed_pb',\n",
    "             stat=\"density\",\n",
    "             bins=20,\n",
    "             fill=False,\n",
    "             data=df_input)\n",
    "\n",
    "plt.legend(fontsize = 15);"
   ]
  },
  {
   "cell_type": "code",
   "execution_count": 41,
   "metadata": {},
   "outputs": [
    {
     "data": {
      "text/html": [
       "<div>\n",
       "<style scoped>\n",
       "    .dataframe tbody tr th:only-of-type {\n",
       "        vertical-align: middle;\n",
       "    }\n",
       "\n",
       "    .dataframe tbody tr th {\n",
       "        vertical-align: top;\n",
       "    }\n",
       "\n",
       "    .dataframe thead th {\n",
       "        text-align: right;\n",
       "    }\n",
       "</style>\n",
       "<table border=\"1\" class=\"dataframe\">\n",
       "  <thead>\n",
       "    <tr style=\"text-align: right;\">\n",
       "      <th></th>\n",
       "      <th>rougher.input.feed_au</th>\n",
       "      <th>rougher.input.feed_ag</th>\n",
       "      <th>rougher.input.feed_pb</th>\n",
       "      <th>rougher.input.feed_sol</th>\n",
       "      <th>sum_input</th>\n",
       "    </tr>\n",
       "  </thead>\n",
       "  <tbody>\n",
       "    <tr>\n",
       "      <th>0</th>\n",
       "      <td>6.486150</td>\n",
       "      <td>6.100378</td>\n",
       "      <td>2.284912</td>\n",
       "      <td>36.808594</td>\n",
       "      <td>51.680034</td>\n",
       "    </tr>\n",
       "    <tr>\n",
       "      <th>1</th>\n",
       "      <td>6.478583</td>\n",
       "      <td>6.161113</td>\n",
       "      <td>2.266033</td>\n",
       "      <td>35.753385</td>\n",
       "      <td>50.659114</td>\n",
       "    </tr>\n",
       "    <tr>\n",
       "      <th>2</th>\n",
       "      <td>6.362222</td>\n",
       "      <td>6.116455</td>\n",
       "      <td>2.159622</td>\n",
       "      <td>35.971630</td>\n",
       "      <td>50.609929</td>\n",
       "    </tr>\n",
       "    <tr>\n",
       "      <th>3</th>\n",
       "      <td>6.118189</td>\n",
       "      <td>6.043309</td>\n",
       "      <td>2.037807</td>\n",
       "      <td>36.862241</td>\n",
       "      <td>51.061546</td>\n",
       "    </tr>\n",
       "    <tr>\n",
       "      <th>4</th>\n",
       "      <td>5.663707</td>\n",
       "      <td>6.060915</td>\n",
       "      <td>1.786875</td>\n",
       "      <td>34.347666</td>\n",
       "      <td>47.859163</td>\n",
       "    </tr>\n",
       "  </tbody>\n",
       "</table>\n",
       "</div>"
      ],
      "text/plain": [
       "   rougher.input.feed_au  rougher.input.feed_ag  rougher.input.feed_pb  \\\n",
       "0               6.486150               6.100378               2.284912   \n",
       "1               6.478583               6.161113               2.266033   \n",
       "2               6.362222               6.116455               2.159622   \n",
       "3               6.118189               6.043309               2.037807   \n",
       "4               5.663707               6.060915               1.786875   \n",
       "\n",
       "   rougher.input.feed_sol  sum_input  \n",
       "0               36.808594  51.680034  \n",
       "1               35.753385  50.659114  \n",
       "2               35.971630  50.609929  \n",
       "3               36.862241  51.061546  \n",
       "4               34.347666  47.859163  "
      ]
     },
     "execution_count": 41,
     "metadata": {},
     "output_type": "execute_result"
    }
   ],
   "source": [
    "df_input['sum_input'] = (df_input['rougher.input.feed_au'] +\n",
    "                         df_input['rougher.input.feed_ag'] +\n",
    "                         df_input['rougher.input.feed_pb'] +\n",
    "                         df_input['rougher.input.feed_sol'])\n",
    "df_input.head()"
   ]
  },
  {
   "cell_type": "code",
   "execution_count": 42,
   "metadata": {},
   "outputs": [
    {
     "data": {
      "image/png": "[encoded data removed]",
      "text/plain": [
       "<Figure size 1080x360 with 1 Axes>"
      ]
     },
     "metadata": {
      "needs_background": "light"
     },
     "output_type": "display_data"
    }
   ],
   "source": [
    "f, ax = plt.subplots(figsize=(15, 5))\n",
    "\n",
    "sns.histplot(x='sum_input',\n",
    "             label='sum_input',\n",
    "             stat=\"density\",\n",
    "             bins=20,\n",
    "             data=df_input)\n",
    "\n",
    "plt.legend(fontsize = 15);"
   ]
  },
  {
   "cell_type": "markdown",
   "metadata": {},
   "source": [
    "<div class=\"alert alert-info\">\n",
    "    По графику видно, что распределение похоже на нормальное со скосом влево, нулевых значений нет\n",
    "</div>"
   ]
  },
  {
   "cell_type": "markdown",
   "metadata": {},
   "source": [
    "## Модель"
   ]
  },
  {
   "cell_type": "markdown",
   "metadata": {},
   "source": [
    "<div class=\"alert alert-info\">Из исходных данных нужно взять колонки с целевыми признаками и добавить их в тестовую выборку, так как их там нет (rougher.output.recovery и final.output.recovery), а затем из тренировочной убрать все колонки, которых нет в тестовой выборке</div>"
   ]
  },
  {
   "cell_type": "code",
   "execution_count": 43,
   "metadata": {
    "scrolled": true
   },
   "outputs": [
    {
     "name": "stdout",
     "output_type": "stream",
     "text": [
      "<class 'pandas.core.frame.DataFrame'>\n",
      "Int64Index: 5229 entries, 0 to 5228\n",
      "Data columns (total 55 columns):\n",
      " #   Column                                      Non-Null Count  Dtype  \n",
      "---  ------                                      --------------  -----  \n",
      " 0   date                                        5229 non-null   object \n",
      " 1   primary_cleaner.input.sulfate               5229 non-null   float64\n",
      " 2   primary_cleaner.input.depressant            5229 non-null   float64\n",
      " 3   primary_cleaner.input.feed_size             5229 non-null   float64\n",
      " 4   primary_cleaner.input.xanthate              5229 non-null   float64\n",
      " 5   primary_cleaner.state.floatbank8_a_air      5229 non-null   float64\n",
      " 6   primary_cleaner.state.floatbank8_a_level    5229 non-null   float64\n",
      " 7   primary_cleaner.state.floatbank8_b_air      5229 non-null   float64\n",
      " 8   primary_cleaner.state.floatbank8_b_level    5229 non-null   float64\n",
      " 9   primary_cleaner.state.floatbank8_c_air      5229 non-null   float64\n",
      " 10  primary_cleaner.state.floatbank8_c_level    5229 non-null   float64\n",
      " 11  primary_cleaner.state.floatbank8_d_air      5229 non-null   float64\n",
      " 12  primary_cleaner.state.floatbank8_d_level    5229 non-null   float64\n",
      " 13  rougher.input.feed_ag                       5229 non-null   float64\n",
      " 14  rougher.input.feed_pb                       5229 non-null   float64\n",
      " 15  rougher.input.feed_rate                     5229 non-null   float64\n",
      " 16  rougher.input.feed_size                     5229 non-null   float64\n",
      " 17  rougher.input.feed_sol                      5229 non-null   float64\n",
      " 18  rougher.input.feed_au                       5229 non-null   float64\n",
      " 19  rougher.input.floatbank10_sulfate           5229 non-null   float64\n",
      " 20  rougher.input.floatbank10_xanthate          5229 non-null   float64\n",
      " 21  rougher.input.floatbank11_sulfate           5229 non-null   float64\n",
      " 22  rougher.input.floatbank11_xanthate          5229 non-null   float64\n",
      " 23  rougher.state.floatbank10_a_air             5229 non-null   float64\n",
      " 24  rougher.state.floatbank10_a_level           5229 non-null   float64\n",
      " 25  rougher.state.floatbank10_b_air             5229 non-null   float64\n",
      " 26  rougher.state.floatbank10_b_level           5229 non-null   float64\n",
      " 27  rougher.state.floatbank10_c_air             5229 non-null   float64\n",
      " 28  rougher.state.floatbank10_c_level           5229 non-null   float64\n",
      " 29  rougher.state.floatbank10_d_air             5229 non-null   float64\n",
      " 30  rougher.state.floatbank10_d_level           5229 non-null   float64\n",
      " 31  rougher.state.floatbank10_e_air             5229 non-null   float64\n",
      " 32  rougher.state.floatbank10_e_level           5229 non-null   float64\n",
      " 33  rougher.state.floatbank10_f_air             5229 non-null   float64\n",
      " 34  rougher.state.floatbank10_f_level           5229 non-null   float64\n",
      " 35  secondary_cleaner.state.floatbank2_a_air    5229 non-null   float64\n",
      " 36  secondary_cleaner.state.floatbank2_a_level  5229 non-null   float64\n",
      " 37  secondary_cleaner.state.floatbank2_b_air    5229 non-null   float64\n",
      " 38  secondary_cleaner.state.floatbank2_b_level  5229 non-null   float64\n",
      " 39  secondary_cleaner.state.floatbank3_a_air    5229 non-null   float64\n",
      " 40  secondary_cleaner.state.floatbank3_a_level  5229 non-null   float64\n",
      " 41  secondary_cleaner.state.floatbank3_b_air    5229 non-null   float64\n",
      " 42  secondary_cleaner.state.floatbank3_b_level  5229 non-null   float64\n",
      " 43  secondary_cleaner.state.floatbank4_a_air    5229 non-null   float64\n",
      " 44  secondary_cleaner.state.floatbank4_a_level  5229 non-null   float64\n",
      " 45  secondary_cleaner.state.floatbank4_b_air    5229 non-null   float64\n",
      " 46  secondary_cleaner.state.floatbank4_b_level  5229 non-null   float64\n",
      " 47  secondary_cleaner.state.floatbank5_a_air    5229 non-null   float64\n",
      " 48  secondary_cleaner.state.floatbank5_a_level  5229 non-null   float64\n",
      " 49  secondary_cleaner.state.floatbank5_b_air    5229 non-null   float64\n",
      " 50  secondary_cleaner.state.floatbank5_b_level  5229 non-null   float64\n",
      " 51  secondary_cleaner.state.floatbank6_a_air    5229 non-null   float64\n",
      " 52  secondary_cleaner.state.floatbank6_a_level  5229 non-null   float64\n",
      " 53  rougher.output.recovery                     5229 non-null   float64\n",
      " 54  final.output.recovery                       5229 non-null   float64\n",
      "dtypes: float64(54), object(1)\n",
      "memory usage: 2.2+ MB\n"
     ]
    }
   ],
   "source": [
    "df_test = df_test.merge(df_full[['rougher.output.recovery', 'final.output.recovery', 'date']], on ='date', how='left') \n",
    "df_test.info()"
   ]
  },
  {
   "cell_type": "code",
   "execution_count": 44,
   "metadata": {
    "scrolled": true
   },
   "outputs": [
    {
     "data": {
      "text/plain": [
       "{'final.output.concentrate_ag',\n",
       " 'final.output.concentrate_au',\n",
       " 'final.output.concentrate_pb',\n",
       " 'final.output.concentrate_sol',\n",
       " 'final.output.tail_ag',\n",
       " 'final.output.tail_au',\n",
       " 'final.output.tail_pb',\n",
       " 'final.output.tail_sol',\n",
       " 'primary_cleaner.output.concentrate_ag',\n",
       " 'primary_cleaner.output.concentrate_au',\n",
       " 'primary_cleaner.output.concentrate_pb',\n",
       " 'primary_cleaner.output.concentrate_sol',\n",
       " 'primary_cleaner.output.tail_ag',\n",
       " 'primary_cleaner.output.tail_au',\n",
       " 'primary_cleaner.output.tail_pb',\n",
       " 'primary_cleaner.output.tail_sol',\n",
       " 'rougher.calculation.au_pb_ratio',\n",
       " 'rougher.calculation.floatbank10_sulfate_to_au_feed',\n",
       " 'rougher.calculation.floatbank11_sulfate_to_au_feed',\n",
       " 'rougher.calculation.sulfate_to_au_concentrate',\n",
       " 'rougher.output.concentrate_ag',\n",
       " 'rougher.output.concentrate_au',\n",
       " 'rougher.output.concentrate_pb',\n",
       " 'rougher.output.concentrate_sol',\n",
       " 'rougher.output.tail_ag',\n",
       " 'rougher.output.tail_au',\n",
       " 'rougher.output.tail_pb',\n",
       " 'rougher.output.tail_sol',\n",
       " 'secondary_cleaner.output.tail_ag',\n",
       " 'secondary_cleaner.output.tail_au',\n",
       " 'secondary_cleaner.output.tail_pb',\n",
       " 'secondary_cleaner.output.tail_sol',\n",
       " 'sum_final',\n",
       " 'sum_primary',\n",
       " 'sum_rougher'}"
      ]
     },
     "execution_count": 44,
     "metadata": {},
     "output_type": "execute_result"
    }
   ],
   "source": [
    "set_difference = set(df_train.columns).symmetric_difference(set(df_test.columns))\n",
    "set_difference"
   ]
  },
  {
   "cell_type": "code",
   "execution_count": 45,
   "metadata": {
    "scrolled": true
   },
   "outputs": [
    {
     "name": "stdout",
     "output_type": "stream",
     "text": [
      "<class 'pandas.core.frame.DataFrame'>\n",
      "Int64Index: 13602 entries, 0 to 14148\n",
      "Data columns (total 55 columns):\n",
      " #   Column                                      Non-Null Count  Dtype  \n",
      "---  ------                                      --------------  -----  \n",
      " 0   date                                        13602 non-null  object \n",
      " 1   final.output.recovery                       13602 non-null  float64\n",
      " 2   primary_cleaner.input.sulfate               13602 non-null  float64\n",
      " 3   primary_cleaner.input.depressant            13602 non-null  float64\n",
      " 4   primary_cleaner.input.feed_size             13602 non-null  float64\n",
      " 5   primary_cleaner.input.xanthate              13602 non-null  float64\n",
      " 6   primary_cleaner.state.floatbank8_a_air      13602 non-null  float64\n",
      " 7   primary_cleaner.state.floatbank8_a_level    13602 non-null  float64\n",
      " 8   primary_cleaner.state.floatbank8_b_air      13602 non-null  float64\n",
      " 9   primary_cleaner.state.floatbank8_b_level    13602 non-null  float64\n",
      " 10  primary_cleaner.state.floatbank8_c_air      13602 non-null  float64\n",
      " 11  primary_cleaner.state.floatbank8_c_level    13602 non-null  float64\n",
      " 12  primary_cleaner.state.floatbank8_d_air      13602 non-null  float64\n",
      " 13  primary_cleaner.state.floatbank8_d_level    13602 non-null  float64\n",
      " 14  rougher.input.feed_ag                       13602 non-null  float64\n",
      " 15  rougher.input.feed_pb                       13602 non-null  float64\n",
      " 16  rougher.input.feed_rate                     13602 non-null  float64\n",
      " 17  rougher.input.feed_size                     13602 non-null  float64\n",
      " 18  rougher.input.feed_sol                      13602 non-null  float64\n",
      " 19  rougher.input.feed_au                       13602 non-null  float64\n",
      " 20  rougher.input.floatbank10_sulfate           13602 non-null  float64\n",
      " 21  rougher.input.floatbank10_xanthate          13602 non-null  float64\n",
      " 22  rougher.input.floatbank11_sulfate           13602 non-null  float64\n",
      " 23  rougher.input.floatbank11_xanthate          13602 non-null  float64\n",
      " 24  rougher.output.recovery                     13602 non-null  float64\n",
      " 25  rougher.state.floatbank10_a_air             13602 non-null  float64\n",
      " 26  rougher.state.floatbank10_a_level           13602 non-null  float64\n",
      " 27  rougher.state.floatbank10_b_air             13602 non-null  float64\n",
      " 28  rougher.state.floatbank10_b_level           13602 non-null  float64\n",
      " 29  rougher.state.floatbank10_c_air             13602 non-null  float64\n",
      " 30  rougher.state.floatbank10_c_level           13602 non-null  float64\n",
      " 31  rougher.state.floatbank10_d_air             13602 non-null  float64\n",
      " 32  rougher.state.floatbank10_d_level           13602 non-null  float64\n",
      " 33  rougher.state.floatbank10_e_air             13602 non-null  float64\n",
      " 34  rougher.state.floatbank10_e_level           13602 non-null  float64\n",
      " 35  rougher.state.floatbank10_f_air             13602 non-null  float64\n",
      " 36  rougher.state.floatbank10_f_level           13602 non-null  float64\n",
      " 37  secondary_cleaner.state.floatbank2_a_air    13602 non-null  float64\n",
      " 38  secondary_cleaner.state.floatbank2_a_level  13602 non-null  float64\n",
      " 39  secondary_cleaner.state.floatbank2_b_air    13602 non-null  float64\n",
      " 40  secondary_cleaner.state.floatbank2_b_level  13602 non-null  float64\n",
      " 41  secondary_cleaner.state.floatbank3_a_air    13602 non-null  float64\n",
      " 42  secondary_cleaner.state.floatbank3_a_level  13602 non-null  float64\n",
      " 43  secondary_cleaner.state.floatbank3_b_air    13602 non-null  float64\n",
      " 44  secondary_cleaner.state.floatbank3_b_level  13602 non-null  float64\n",
      " 45  secondary_cleaner.state.floatbank4_a_air    13602 non-null  float64\n",
      " 46  secondary_cleaner.state.floatbank4_a_level  13602 non-null  float64\n",
      " 47  secondary_cleaner.state.floatbank4_b_air    13602 non-null  float64\n",
      " 48  secondary_cleaner.state.floatbank4_b_level  13602 non-null  float64\n",
      " 49  secondary_cleaner.state.floatbank5_a_air    13602 non-null  float64\n",
      " 50  secondary_cleaner.state.floatbank5_a_level  13602 non-null  float64\n",
      " 51  secondary_cleaner.state.floatbank5_b_air    13602 non-null  float64\n",
      " 52  secondary_cleaner.state.floatbank5_b_level  13602 non-null  float64\n",
      " 53  secondary_cleaner.state.floatbank6_a_air    13602 non-null  float64\n",
      " 54  secondary_cleaner.state.floatbank6_a_level  13602 non-null  float64\n",
      "dtypes: float64(54), object(1)\n",
      "memory usage: 5.8+ MB\n"
     ]
    }
   ],
   "source": [
    "df_train = df_train.drop(columns=set_difference)\n",
    "df_train.info()"
   ]
  },
  {
   "cell_type": "markdown",
   "metadata": {},
   "source": [
    "<div class=\"alert alert-info\">Напишем функцию для вычисления итоговой sMAPE.</div>"
   ]
  },
  {
   "cell_type": "code",
   "execution_count": 46,
   "metadata": {},
   "outputs": [],
   "source": [
    "def smape(y_true, y_pred):\n",
    "    error = abs(y_true - y_pred)\n",
    "    scale = abs((y_true + y_pred))/2 + 0.000000001\n",
    "    result = (error / scale).mean()\n",
    "    return result * 100 "
   ]
  },
  {
   "cell_type": "markdown",
   "metadata": {},
   "source": [
    "<div class=\"alert alert-info\">Это sMAPE, а итоговая будет выглядеть так: 0,25*sMAPE_01  + 0,75*sMAPE_02</div>"
   ]
  },
  {
   "cell_type": "code",
   "execution_count": 47,
   "metadata": {},
   "outputs": [],
   "source": [
    "def smape_fin (x,y):\n",
    "    fin = 0.25*x + 0.75*y\n",
    "    return fin"
   ]
  },
  {
   "cell_type": "markdown",
   "metadata": {},
   "source": [
    "<div class=\"alert alert-info\">Обучим разные модели и оценим их качество кросс-валидацией. Выберем лучшую модель и проверим её на тестовой выборке.</div>"
   ]
  },
  {
   "cell_type": "markdown",
   "metadata": {},
   "source": [
    "<div class=\"alert alert-info\">\n",
    "Создадим переменные <b>features</b> (все столбцы, кроме целевого) и <b>target</b> (целевой столбец) для каждой выборки.\n",
    "</div"
   ]
  },
  {
   "cell_type": "code",
   "execution_count": 48,
   "metadata": {},
   "outputs": [
    {
     "data": {
      "text/html": [
       "<div>\n",
       "<style scoped>\n",
       "    .dataframe tbody tr th:only-of-type {\n",
       "        vertical-align: middle;\n",
       "    }\n",
       "\n",
       "    .dataframe tbody tr th {\n",
       "        vertical-align: top;\n",
       "    }\n",
       "\n",
       "    .dataframe thead th {\n",
       "        text-align: right;\n",
       "    }\n",
       "</style>\n",
       "<table border=\"1\" class=\"dataframe\">\n",
       "  <thead>\n",
       "    <tr style=\"text-align: right;\">\n",
       "      <th></th>\n",
       "      <th>primary_cleaner.input.sulfate</th>\n",
       "      <th>primary_cleaner.input.depressant</th>\n",
       "      <th>primary_cleaner.input.feed_size</th>\n",
       "      <th>primary_cleaner.input.xanthate</th>\n",
       "      <th>primary_cleaner.state.floatbank8_a_air</th>\n",
       "      <th>primary_cleaner.state.floatbank8_a_level</th>\n",
       "      <th>primary_cleaner.state.floatbank8_b_air</th>\n",
       "      <th>primary_cleaner.state.floatbank8_b_level</th>\n",
       "      <th>primary_cleaner.state.floatbank8_c_air</th>\n",
       "      <th>primary_cleaner.state.floatbank8_c_level</th>\n",
       "      <th>...</th>\n",
       "      <th>secondary_cleaner.state.floatbank4_a_air</th>\n",
       "      <th>secondary_cleaner.state.floatbank4_a_level</th>\n",
       "      <th>secondary_cleaner.state.floatbank4_b_air</th>\n",
       "      <th>secondary_cleaner.state.floatbank4_b_level</th>\n",
       "      <th>secondary_cleaner.state.floatbank5_a_air</th>\n",
       "      <th>secondary_cleaner.state.floatbank5_a_level</th>\n",
       "      <th>secondary_cleaner.state.floatbank5_b_air</th>\n",
       "      <th>secondary_cleaner.state.floatbank5_b_level</th>\n",
       "      <th>secondary_cleaner.state.floatbank6_a_air</th>\n",
       "      <th>secondary_cleaner.state.floatbank6_a_level</th>\n",
       "    </tr>\n",
       "  </thead>\n",
       "  <tbody>\n",
       "    <tr>\n",
       "      <th>0</th>\n",
       "      <td>127.092003</td>\n",
       "      <td>10.128295</td>\n",
       "      <td>7.25</td>\n",
       "      <td>0.988759</td>\n",
       "      <td>1549.775757</td>\n",
       "      <td>-498.912140</td>\n",
       "      <td>1551.434204</td>\n",
       "      <td>-516.403442</td>\n",
       "      <td>1549.873901</td>\n",
       "      <td>-498.666595</td>\n",
       "      <td>...</td>\n",
       "      <td>14.016835</td>\n",
       "      <td>-502.488007</td>\n",
       "      <td>12.099931</td>\n",
       "      <td>-504.715942</td>\n",
       "      <td>9.925633</td>\n",
       "      <td>-498.310211</td>\n",
       "      <td>8.079666</td>\n",
       "      <td>-500.470978</td>\n",
       "      <td>14.151341</td>\n",
       "      <td>-605.841980</td>\n",
       "    </tr>\n",
       "    <tr>\n",
       "      <th>1</th>\n",
       "      <td>125.629232</td>\n",
       "      <td>10.296251</td>\n",
       "      <td>7.25</td>\n",
       "      <td>1.002663</td>\n",
       "      <td>1576.166671</td>\n",
       "      <td>-500.904965</td>\n",
       "      <td>1575.950626</td>\n",
       "      <td>-499.865889</td>\n",
       "      <td>1575.994189</td>\n",
       "      <td>-499.315107</td>\n",
       "      <td>...</td>\n",
       "      <td>13.992281</td>\n",
       "      <td>-505.503262</td>\n",
       "      <td>11.950531</td>\n",
       "      <td>-501.331529</td>\n",
       "      <td>10.039245</td>\n",
       "      <td>-500.169983</td>\n",
       "      <td>7.984757</td>\n",
       "      <td>-500.582168</td>\n",
       "      <td>13.998353</td>\n",
       "      <td>-599.787184</td>\n",
       "    </tr>\n",
       "    <tr>\n",
       "      <th>2</th>\n",
       "      <td>123.819808</td>\n",
       "      <td>11.316280</td>\n",
       "      <td>7.25</td>\n",
       "      <td>0.991265</td>\n",
       "      <td>1601.556163</td>\n",
       "      <td>-499.997791</td>\n",
       "      <td>1600.386685</td>\n",
       "      <td>-500.607762</td>\n",
       "      <td>1602.003542</td>\n",
       "      <td>-500.870069</td>\n",
       "      <td>...</td>\n",
       "      <td>14.015015</td>\n",
       "      <td>-502.520901</td>\n",
       "      <td>11.912783</td>\n",
       "      <td>-501.133383</td>\n",
       "      <td>10.070913</td>\n",
       "      <td>-500.129135</td>\n",
       "      <td>8.013877</td>\n",
       "      <td>-500.517572</td>\n",
       "      <td>14.028663</td>\n",
       "      <td>-601.427363</td>\n",
       "    </tr>\n",
       "    <tr>\n",
       "      <th>3</th>\n",
       "      <td>122.270188</td>\n",
       "      <td>11.322140</td>\n",
       "      <td>7.25</td>\n",
       "      <td>0.996739</td>\n",
       "      <td>1599.968720</td>\n",
       "      <td>-500.951778</td>\n",
       "      <td>1600.659236</td>\n",
       "      <td>-499.677094</td>\n",
       "      <td>1600.304144</td>\n",
       "      <td>-500.727997</td>\n",
       "      <td>...</td>\n",
       "      <td>14.036510</td>\n",
       "      <td>-500.857308</td>\n",
       "      <td>11.999550</td>\n",
       "      <td>-501.193686</td>\n",
       "      <td>9.970366</td>\n",
       "      <td>-499.201640</td>\n",
       "      <td>7.977324</td>\n",
       "      <td>-500.255908</td>\n",
       "      <td>14.005551</td>\n",
       "      <td>-599.996129</td>\n",
       "    </tr>\n",
       "    <tr>\n",
       "      <th>4</th>\n",
       "      <td>117.988169</td>\n",
       "      <td>11.913613</td>\n",
       "      <td>7.25</td>\n",
       "      <td>1.009869</td>\n",
       "      <td>1601.339707</td>\n",
       "      <td>-498.975456</td>\n",
       "      <td>1601.437854</td>\n",
       "      <td>-500.323246</td>\n",
       "      <td>1599.581894</td>\n",
       "      <td>-500.888152</td>\n",
       "      <td>...</td>\n",
       "      <td>14.027298</td>\n",
       "      <td>-499.838632</td>\n",
       "      <td>11.953070</td>\n",
       "      <td>-501.053894</td>\n",
       "      <td>9.925709</td>\n",
       "      <td>-501.686727</td>\n",
       "      <td>7.894242</td>\n",
       "      <td>-500.356035</td>\n",
       "      <td>13.996647</td>\n",
       "      <td>-601.496691</td>\n",
       "    </tr>\n",
       "  </tbody>\n",
       "</table>\n",
       "<p>5 rows × 52 columns</p>\n",
       "</div>"
      ],
      "text/plain": [
       "   primary_cleaner.input.sulfate  primary_cleaner.input.depressant  \\\n",
       "0                     127.092003                         10.128295   \n",
       "1                     125.629232                         10.296251   \n",
       "2                     123.819808                         11.316280   \n",
       "3                     122.270188                         11.322140   \n",
       "4                     117.988169                         11.913613   \n",
       "\n",
       "   primary_cleaner.input.feed_size  primary_cleaner.input.xanthate  \\\n",
       "0                             7.25                        0.988759   \n",
       "1                             7.25                        1.002663   \n",
       "2                             7.25                        0.991265   \n",
       "3                             7.25                        0.996739   \n",
       "4                             7.25                        1.009869   \n",
       "\n",
       "   primary_cleaner.state.floatbank8_a_air  \\\n",
       "0                             1549.775757   \n",
       "1                             1576.166671   \n",
       "2                             1601.556163   \n",
       "3                             1599.968720   \n",
       "4                             1601.339707   \n",
       "\n",
       "   primary_cleaner.state.floatbank8_a_level  \\\n",
       "0                               -498.912140   \n",
       "1                               -500.904965   \n",
       "2                               -499.997791   \n",
       "3                               -500.951778   \n",
       "4                               -498.975456   \n",
       "\n",
       "   primary_cleaner.state.floatbank8_b_air  \\\n",
       "0                             1551.434204   \n",
       "1                             1575.950626   \n",
       "2                             1600.386685   \n",
       "3                             1600.659236   \n",
       "4                             1601.437854   \n",
       "\n",
       "   primary_cleaner.state.floatbank8_b_level  \\\n",
       "0                               -516.403442   \n",
       "1                               -499.865889   \n",
       "2                               -500.607762   \n",
       "3                               -499.677094   \n",
       "4                               -500.323246   \n",
       "\n",
       "   primary_cleaner.state.floatbank8_c_air  \\\n",
       "0                             1549.873901   \n",
       "1                             1575.994189   \n",
       "2                             1602.003542   \n",
       "3                             1600.304144   \n",
       "4                             1599.581894   \n",
       "\n",
       "   primary_cleaner.state.floatbank8_c_level  ...  \\\n",
       "0                               -498.666595  ...   \n",
       "1                               -499.315107  ...   \n",
       "2                               -500.870069  ...   \n",
       "3                               -500.727997  ...   \n",
       "4                               -500.888152  ...   \n",
       "\n",
       "   secondary_cleaner.state.floatbank4_a_air  \\\n",
       "0                                 14.016835   \n",
       "1                                 13.992281   \n",
       "2                                 14.015015   \n",
       "3                                 14.036510   \n",
       "4                                 14.027298   \n",
       "\n",
       "   secondary_cleaner.state.floatbank4_a_level  \\\n",
       "0                                 -502.488007   \n",
       "1                                 -505.503262   \n",
       "2                                 -502.520901   \n",
       "3                                 -500.857308   \n",
       "4                                 -499.838632   \n",
       "\n",
       "   secondary_cleaner.state.floatbank4_b_air  \\\n",
       "0                                 12.099931   \n",
       "1                                 11.950531   \n",
       "2                                 11.912783   \n",
       "3                                 11.999550   \n",
       "4                                 11.953070   \n",
       "\n",
       "   secondary_cleaner.state.floatbank4_b_level  \\\n",
       "0                                 -504.715942   \n",
       "1                                 -501.331529   \n",
       "2                                 -501.133383   \n",
       "3                                 -501.193686   \n",
       "4                                 -501.053894   \n",
       "\n",
       "   secondary_cleaner.state.floatbank5_a_air  \\\n",
       "0                                  9.925633   \n",
       "1                                 10.039245   \n",
       "2                                 10.070913   \n",
       "3                                  9.970366   \n",
       "4                                  9.925709   \n",
       "\n",
       "   secondary_cleaner.state.floatbank5_a_level  \\\n",
       "0                                 -498.310211   \n",
       "1                                 -500.169983   \n",
       "2                                 -500.129135   \n",
       "3                                 -499.201640   \n",
       "4                                 -501.686727   \n",
       "\n",
       "   secondary_cleaner.state.floatbank5_b_air  \\\n",
       "0                                  8.079666   \n",
       "1                                  7.984757   \n",
       "2                                  8.013877   \n",
       "3                                  7.977324   \n",
       "4                                  7.894242   \n",
       "\n",
       "   secondary_cleaner.state.floatbank5_b_level  \\\n",
       "0                                 -500.470978   \n",
       "1                                 -500.582168   \n",
       "2                                 -500.517572   \n",
       "3                                 -500.255908   \n",
       "4                                 -500.356035   \n",
       "\n",
       "   secondary_cleaner.state.floatbank6_a_air  \\\n",
       "0                                 14.151341   \n",
       "1                                 13.998353   \n",
       "2                                 14.028663   \n",
       "3                                 14.005551   \n",
       "4                                 13.996647   \n",
       "\n",
       "   secondary_cleaner.state.floatbank6_a_level  \n",
       "0                                 -605.841980  \n",
       "1                                 -599.787184  \n",
       "2                                 -601.427363  \n",
       "3                                 -599.996129  \n",
       "4                                 -601.496691  \n",
       "\n",
       "[5 rows x 52 columns]"
      ]
     },
     "execution_count": 48,
     "metadata": {},
     "output_type": "execute_result"
    }
   ],
   "source": [
    "features_train = df_train.drop(['date', 'final.output.recovery', 'rougher.output.recovery'], axis=1)\n",
    "target_rougher_train = df_train['rougher.output.recovery']\n",
    "target_final_train = df_train['final.output.recovery']\n",
    "\n",
    "features_train.head()"
   ]
  },
  {
   "cell_type": "code",
   "execution_count": 49,
   "metadata": {},
   "outputs": [
    {
     "data": {
      "text/html": [
       "<div>\n",
       "<style scoped>\n",
       "    .dataframe tbody tr th:only-of-type {\n",
       "        vertical-align: middle;\n",
       "    }\n",
       "\n",
       "    .dataframe tbody tr th {\n",
       "        vertical-align: top;\n",
       "    }\n",
       "\n",
       "    .dataframe thead th {\n",
       "        text-align: right;\n",
       "    }\n",
       "</style>\n",
       "<table border=\"1\" class=\"dataframe\">\n",
       "  <thead>\n",
       "    <tr style=\"text-align: right;\">\n",
       "      <th></th>\n",
       "      <th>primary_cleaner.input.sulfate</th>\n",
       "      <th>primary_cleaner.input.depressant</th>\n",
       "      <th>primary_cleaner.input.feed_size</th>\n",
       "      <th>primary_cleaner.input.xanthate</th>\n",
       "      <th>primary_cleaner.state.floatbank8_a_air</th>\n",
       "      <th>primary_cleaner.state.floatbank8_a_level</th>\n",
       "      <th>primary_cleaner.state.floatbank8_b_air</th>\n",
       "      <th>primary_cleaner.state.floatbank8_b_level</th>\n",
       "      <th>primary_cleaner.state.floatbank8_c_air</th>\n",
       "      <th>primary_cleaner.state.floatbank8_c_level</th>\n",
       "      <th>...</th>\n",
       "      <th>secondary_cleaner.state.floatbank4_a_air</th>\n",
       "      <th>secondary_cleaner.state.floatbank4_a_level</th>\n",
       "      <th>secondary_cleaner.state.floatbank4_b_air</th>\n",
       "      <th>secondary_cleaner.state.floatbank4_b_level</th>\n",
       "      <th>secondary_cleaner.state.floatbank5_a_air</th>\n",
       "      <th>secondary_cleaner.state.floatbank5_a_level</th>\n",
       "      <th>secondary_cleaner.state.floatbank5_b_air</th>\n",
       "      <th>secondary_cleaner.state.floatbank5_b_level</th>\n",
       "      <th>secondary_cleaner.state.floatbank6_a_air</th>\n",
       "      <th>secondary_cleaner.state.floatbank6_a_level</th>\n",
       "    </tr>\n",
       "  </thead>\n",
       "  <tbody>\n",
       "    <tr>\n",
       "      <th>0</th>\n",
       "      <td>210.800909</td>\n",
       "      <td>14.993118</td>\n",
       "      <td>8.080000</td>\n",
       "      <td>1.005021</td>\n",
       "      <td>1398.981301</td>\n",
       "      <td>-500.225577</td>\n",
       "      <td>1399.144926</td>\n",
       "      <td>-499.919735</td>\n",
       "      <td>1400.102998</td>\n",
       "      <td>-500.704369</td>\n",
       "      <td>...</td>\n",
       "      <td>12.023554</td>\n",
       "      <td>-497.795834</td>\n",
       "      <td>8.016656</td>\n",
       "      <td>-501.289139</td>\n",
       "      <td>7.946562</td>\n",
       "      <td>-432.317850</td>\n",
       "      <td>4.872511</td>\n",
       "      <td>-500.037437</td>\n",
       "      <td>26.705889</td>\n",
       "      <td>-499.709414</td>\n",
       "    </tr>\n",
       "    <tr>\n",
       "      <th>1</th>\n",
       "      <td>215.392455</td>\n",
       "      <td>14.987471</td>\n",
       "      <td>8.080000</td>\n",
       "      <td>0.990469</td>\n",
       "      <td>1398.777912</td>\n",
       "      <td>-500.057435</td>\n",
       "      <td>1398.055362</td>\n",
       "      <td>-499.778182</td>\n",
       "      <td>1396.151033</td>\n",
       "      <td>-499.240168</td>\n",
       "      <td>...</td>\n",
       "      <td>12.058140</td>\n",
       "      <td>-498.695773</td>\n",
       "      <td>8.130979</td>\n",
       "      <td>-499.634209</td>\n",
       "      <td>7.958270</td>\n",
       "      <td>-525.839648</td>\n",
       "      <td>4.878850</td>\n",
       "      <td>-500.162375</td>\n",
       "      <td>25.019940</td>\n",
       "      <td>-499.819438</td>\n",
       "    </tr>\n",
       "    <tr>\n",
       "      <th>2</th>\n",
       "      <td>215.259946</td>\n",
       "      <td>12.884934</td>\n",
       "      <td>7.786667</td>\n",
       "      <td>0.996043</td>\n",
       "      <td>1398.493666</td>\n",
       "      <td>-500.868360</td>\n",
       "      <td>1398.860436</td>\n",
       "      <td>-499.764529</td>\n",
       "      <td>1398.075709</td>\n",
       "      <td>-502.151509</td>\n",
       "      <td>...</td>\n",
       "      <td>11.962366</td>\n",
       "      <td>-498.767484</td>\n",
       "      <td>8.096893</td>\n",
       "      <td>-500.827423</td>\n",
       "      <td>8.071056</td>\n",
       "      <td>-500.801673</td>\n",
       "      <td>4.905125</td>\n",
       "      <td>-499.828510</td>\n",
       "      <td>24.994862</td>\n",
       "      <td>-500.622559</td>\n",
       "    </tr>\n",
       "    <tr>\n",
       "      <th>3</th>\n",
       "      <td>215.336236</td>\n",
       "      <td>12.006805</td>\n",
       "      <td>7.640000</td>\n",
       "      <td>0.863514</td>\n",
       "      <td>1399.618111</td>\n",
       "      <td>-498.863574</td>\n",
       "      <td>1397.440120</td>\n",
       "      <td>-499.211024</td>\n",
       "      <td>1400.129303</td>\n",
       "      <td>-498.355873</td>\n",
       "      <td>...</td>\n",
       "      <td>12.033091</td>\n",
       "      <td>-498.350935</td>\n",
       "      <td>8.074946</td>\n",
       "      <td>-499.474407</td>\n",
       "      <td>7.897085</td>\n",
       "      <td>-500.868509</td>\n",
       "      <td>4.931400</td>\n",
       "      <td>-499.963623</td>\n",
       "      <td>24.948919</td>\n",
       "      <td>-498.709987</td>\n",
       "    </tr>\n",
       "    <tr>\n",
       "      <th>4</th>\n",
       "      <td>199.099327</td>\n",
       "      <td>10.682530</td>\n",
       "      <td>7.530000</td>\n",
       "      <td>0.805575</td>\n",
       "      <td>1401.268123</td>\n",
       "      <td>-500.808305</td>\n",
       "      <td>1398.128818</td>\n",
       "      <td>-499.504543</td>\n",
       "      <td>1402.172226</td>\n",
       "      <td>-500.810606</td>\n",
       "      <td>...</td>\n",
       "      <td>12.025367</td>\n",
       "      <td>-500.786497</td>\n",
       "      <td>8.054678</td>\n",
       "      <td>-500.397500</td>\n",
       "      <td>8.107890</td>\n",
       "      <td>-509.526725</td>\n",
       "      <td>4.957674</td>\n",
       "      <td>-500.360026</td>\n",
       "      <td>25.003331</td>\n",
       "      <td>-500.856333</td>\n",
       "    </tr>\n",
       "  </tbody>\n",
       "</table>\n",
       "<p>5 rows × 52 columns</p>\n",
       "</div>"
      ],
      "text/plain": [
       "   primary_cleaner.input.sulfate  primary_cleaner.input.depressant  \\\n",
       "0                     210.800909                         14.993118   \n",
       "1                     215.392455                         14.987471   \n",
       "2                     215.259946                         12.884934   \n",
       "3                     215.336236                         12.006805   \n",
       "4                     199.099327                         10.682530   \n",
       "\n",
       "   primary_cleaner.input.feed_size  primary_cleaner.input.xanthate  \\\n",
       "0                         8.080000                        1.005021   \n",
       "1                         8.080000                        0.990469   \n",
       "2                         7.786667                        0.996043   \n",
       "3                         7.640000                        0.863514   \n",
       "4                         7.530000                        0.805575   \n",
       "\n",
       "   primary_cleaner.state.floatbank8_a_air  \\\n",
       "0                             1398.981301   \n",
       "1                             1398.777912   \n",
       "2                             1398.493666   \n",
       "3                             1399.618111   \n",
       "4                             1401.268123   \n",
       "\n",
       "   primary_cleaner.state.floatbank8_a_level  \\\n",
       "0                               -500.225577   \n",
       "1                               -500.057435   \n",
       "2                               -500.868360   \n",
       "3                               -498.863574   \n",
       "4                               -500.808305   \n",
       "\n",
       "   primary_cleaner.state.floatbank8_b_air  \\\n",
       "0                             1399.144926   \n",
       "1                             1398.055362   \n",
       "2                             1398.860436   \n",
       "3                             1397.440120   \n",
       "4                             1398.128818   \n",
       "\n",
       "   primary_cleaner.state.floatbank8_b_level  \\\n",
       "0                               -499.919735   \n",
       "1                               -499.778182   \n",
       "2                               -499.764529   \n",
       "3                               -499.211024   \n",
       "4                               -499.504543   \n",
       "\n",
       "   primary_cleaner.state.floatbank8_c_air  \\\n",
       "0                             1400.102998   \n",
       "1                             1396.151033   \n",
       "2                             1398.075709   \n",
       "3                             1400.129303   \n",
       "4                             1402.172226   \n",
       "\n",
       "   primary_cleaner.state.floatbank8_c_level  ...  \\\n",
       "0                               -500.704369  ...   \n",
       "1                               -499.240168  ...   \n",
       "2                               -502.151509  ...   \n",
       "3                               -498.355873  ...   \n",
       "4                               -500.810606  ...   \n",
       "\n",
       "   secondary_cleaner.state.floatbank4_a_air  \\\n",
       "0                                 12.023554   \n",
       "1                                 12.058140   \n",
       "2                                 11.962366   \n",
       "3                                 12.033091   \n",
       "4                                 12.025367   \n",
       "\n",
       "   secondary_cleaner.state.floatbank4_a_level  \\\n",
       "0                                 -497.795834   \n",
       "1                                 -498.695773   \n",
       "2                                 -498.767484   \n",
       "3                                 -498.350935   \n",
       "4                                 -500.786497   \n",
       "\n",
       "   secondary_cleaner.state.floatbank4_b_air  \\\n",
       "0                                  8.016656   \n",
       "1                                  8.130979   \n",
       "2                                  8.096893   \n",
       "3                                  8.074946   \n",
       "4                                  8.054678   \n",
       "\n",
       "   secondary_cleaner.state.floatbank4_b_level  \\\n",
       "0                                 -501.289139   \n",
       "1                                 -499.634209   \n",
       "2                                 -500.827423   \n",
       "3                                 -499.474407   \n",
       "4                                 -500.397500   \n",
       "\n",
       "   secondary_cleaner.state.floatbank5_a_air  \\\n",
       "0                                  7.946562   \n",
       "1                                  7.958270   \n",
       "2                                  8.071056   \n",
       "3                                  7.897085   \n",
       "4                                  8.107890   \n",
       "\n",
       "   secondary_cleaner.state.floatbank5_a_level  \\\n",
       "0                                 -432.317850   \n",
       "1                                 -525.839648   \n",
       "2                                 -500.801673   \n",
       "3                                 -500.868509   \n",
       "4                                 -509.526725   \n",
       "\n",
       "   secondary_cleaner.state.floatbank5_b_air  \\\n",
       "0                                  4.872511   \n",
       "1                                  4.878850   \n",
       "2                                  4.905125   \n",
       "3                                  4.931400   \n",
       "4                                  4.957674   \n",
       "\n",
       "   secondary_cleaner.state.floatbank5_b_level  \\\n",
       "0                                 -500.037437   \n",
       "1                                 -500.162375   \n",
       "2                                 -499.828510   \n",
       "3                                 -499.963623   \n",
       "4                                 -500.360026   \n",
       "\n",
       "   secondary_cleaner.state.floatbank6_a_air  \\\n",
       "0                                 26.705889   \n",
       "1                                 25.019940   \n",
       "2                                 24.994862   \n",
       "3                                 24.948919   \n",
       "4                                 25.003331   \n",
       "\n",
       "   secondary_cleaner.state.floatbank6_a_level  \n",
       "0                                 -499.709414  \n",
       "1                                 -499.819438  \n",
       "2                                 -500.622559  \n",
       "3                                 -498.709987  \n",
       "4                                 -500.856333  \n",
       "\n",
       "[5 rows x 52 columns]"
      ]
     },
     "execution_count": 49,
     "metadata": {},
     "output_type": "execute_result"
    }
   ],
   "source": [
    "features_test = df_test.drop(['date', 'final.output.recovery', 'rougher.output.recovery'], axis=1)\n",
    "target_rougher_test = df_test['rougher.output.recovery']\n",
    "target_final_test = df_test['final.output.recovery']\n",
    "\n",
    "features_test.head()"
   ]
  },
  {
   "cell_type": "code",
   "execution_count": 50,
   "metadata": {},
   "outputs": [],
   "source": [
    "scorer = make_scorer(smape, greater_is_better = False)"
   ]
  },
  {
   "cell_type": "markdown",
   "metadata": {},
   "source": [
    "<div class=\"alert alert-info\">\n",
    "Рассмотрим линейную регрессию\n",
    "</div"
   ]
  },
  {
   "cell_type": "code",
   "execution_count": 52,
   "metadata": {},
   "outputs": [
    {
     "name": "stdout",
     "output_type": "stream",
     "text": [
      "sMAPE_rougher линейной регрессии: 7.27691969103793\n"
     ]
    }
   ],
   "source": [
    "model_regr = LinearRegression()\n",
    "\n",
    "scores = cross_val_score(model_regr, features_train, target_rougher_train, scoring = scorer, cv=5)\n",
    "\n",
    "smape_rougher_regr = np.abs(scores.mean())\n",
    "\n",
    "print ('sMAPE_rougher линейной регрессии:', smape_rougher_regr)"
   ]
  },
  {
   "cell_type": "code",
   "execution_count": 57,
   "metadata": {},
   "outputs": [
    {
     "name": "stdout",
     "output_type": "stream",
     "text": [
      "sMAPE_final линейной регрессии: 11.013214442951051\n"
     ]
    }
   ],
   "source": [
    "model_regr = LinearRegression()\n",
    "\n",
    "scores = cross_val_score(model_regr, features_train, target_final_train, scoring = scorer, cv=5)\n",
    "\n",
    "smape_final_regr = np.abs(scores.mean())\n",
    "\n",
    "print ('sMAPE_final линейной регрессии:', smape_final_regr)"
   ]
  },
  {
   "cell_type": "markdown",
   "metadata": {},
   "source": [
    "<div class=\"alert alert-info\">\n",
    "Теперь рассмотрим дерево решений \n",
    "</div"
   ]
  },
  {
   "cell_type": "markdown",
   "metadata": {},
   "source": [
    "<div class=\"alert alert-info\">\n",
    "Дерево решений rougher</div"
   ]
  },
  {
   "cell_type": "code",
   "execution_count": 58,
   "metadata": {},
   "outputs": [
    {
     "name": "stdout",
     "output_type": "stream",
     "text": [
      "best_max_depth= 3 : sMAPE_rougher дерева решений: 6.815757453460546\n"
     ]
    }
   ],
   "source": [
    "smape_rougher_tree = 100\n",
    "for i in range(1,11):\n",
    "    model = DecisionTreeRegressor(random_state=12345, max_depth = i)\n",
    "    #model.fit(features_train, target_rougher_train)\n",
    "    #predictions_test = model.predict(features_test)\n",
    "    scores = cross_val_score(model, features_train, target_rougher_train, scoring=scorer, cv=5)\n",
    "    score_tree_r = np.abs(scores.mean())\n",
    "    if score_tree_r < smape_rougher_tree:\n",
    "        smape_rougher_tree = score_tree_r\n",
    "        best_depth_tree_r = i\n",
    "    #print ('max_depth =', i, ':', score_tree_r)\n",
    "    #smape_rougher_tree = smape (target_rougher_test, predictions_test)\n",
    "print ('best_max_depth=', best_depth_tree_r, ':','sMAPE_rougher дерева решений:', smape_rougher_tree)"
   ]
  },
  {
   "cell_type": "markdown",
   "metadata": {},
   "source": [
    "<div class=\"alert alert-info\">\n",
    "Дерево решений final</div"
   ]
  },
  {
   "cell_type": "code",
   "execution_count": 59,
   "metadata": {},
   "outputs": [
    {
     "name": "stdout",
     "output_type": "stream",
     "text": [
      "best_max_depth= 3 : sMAPE_final дерева решений: 9.237775815879804\n"
     ]
    }
   ],
   "source": [
    "smape_final_tree = 100\n",
    "for i in range(1,11):\n",
    "    model = DecisionTreeRegressor(random_state=12345, max_depth = i)\n",
    "    #model.fit(features_train, target_final_train)\n",
    "    #predictions_test = model.predict(features_test)\n",
    "    scores = cross_val_score(model, features_train, target_final_train, scoring = scorer, cv=5)\n",
    "    score_tree_f = np.abs(scores.mean())\n",
    "    if score_tree_f < smape_final_tree:\n",
    "        smape_final_tree = score_tree_f\n",
    "        best_depth_tree_f = i\n",
    "    #print ('max_depth =', i, ':', score_tree_f)\n",
    "    #smape_rougher_tree = smape (target_rougher_test, predictions_test)\n",
    "print ('best_max_depth=', best_depth_tree_f, ':','sMAPE_final дерева решений:', smape_final_tree)"
   ]
  },
  {
   "cell_type": "markdown",
   "metadata": {},
   "source": [
    "<div class=\"alert alert-info\">\n",
    "Случайный лес rougher</div"
   ]
  },
  {
   "cell_type": "code",
   "execution_count": 62,
   "metadata": {},
   "outputs": [
    {
     "name": "stdout",
     "output_type": "stream",
     "text": [
      "sMAPE_rougher случайного леса: 6.306789911766995 Количество деревьев: 50 Максимальная глубина: 5\n"
     ]
    }
   ],
   "source": [
    "smape_rougher_forest = 100\n",
    "best_est = 0\n",
    "best_depth = 0\n",
    "for est in range(10, 51, 10):\n",
    "    for depth in range (1, 6):\n",
    "        model = RandomForestRegressor(random_state=12345, n_estimators=est, max_depth = depth, n_jobs=-1)\n",
    "        #model.fit(features_train, target_rougher_train)\n",
    "        #predictions_test = model.predict(features_test)\n",
    "        scores = cross_val_score(model, features_train, target_rougher_train, scoring=scorer, cv=5)\n",
    "        score_forest_r = np.abs(scores.mean())\n",
    "        if score_forest_r < smape_rougher_forest:\n",
    "            smape_rougher_forest = score_forest_r\n",
    "            best_est_r = est\n",
    "            best_depth_forest_r = depth\n",
    "    #smape_rougher_forest = smape (target_final_test, predictions_test)\n",
    "print('sMAPE_rougher случайного леса:', smape_rougher_forest, \"Количество деревьев:\", best_est_r, \"Максимальная глубина:\", best_depth_forest_r)"
   ]
  },
  {
   "cell_type": "markdown",
   "metadata": {},
   "source": [
    "sMAPE_rougher случайного леса: 6.306789911766995 Количество деревьев: 50 Максимальная глубина: 5"
   ]
  },
  {
   "cell_type": "markdown",
   "metadata": {},
   "source": [
    "<div class=\"alert alert-info\">\n",
    "Случайный лес final</div"
   ]
  },
  {
   "cell_type": "code",
   "execution_count": 64,
   "metadata": {},
   "outputs": [
    {
     "name": "stdout",
     "output_type": "stream",
     "text": [
      "sMAPE_final случайного леса: 8.875016817795236 Количество деревьев: 50 Максимальная глубина: 5\n"
     ]
    }
   ],
   "source": [
    "smape_final_forest = 100\n",
    "best_est = 0\n",
    "best_depth = 0\n",
    "for est in range(10, 51, 10):\n",
    "    for depth in range (1, 6):\n",
    "        model = RandomForestRegressor(random_state=12345, n_estimators=est, max_depth = depth, n_jobs=-1)\n",
    "        #model.fit(features_train, target_final_train)\n",
    "        #predictions_test = model.predict(features_test)\n",
    "        scores = cross_val_score(model, features_train, target_final_train, scoring=scorer, cv=5)\n",
    "        score_forest_f = np.abs(scores.mean())\n",
    "        if score_forest_f < smape_final_forest:\n",
    "            smape_final_forest = score_forest_f\n",
    "            best_est_f = est\n",
    "            best_depth_forest_f = depth\n",
    "    #smape_rougher_forest = smape (target_final_test, predictions_test)\n",
    "print('sMAPE_final случайного леса:', smape_final_forest, \"Количество деревьев:\", best_est_f, \"Максимальная глубина:\", best_depth_forest_f)"
   ]
  },
  {
   "cell_type": "markdown",
   "metadata": {},
   "source": [
    "sMAPE_final случайного леса: 8.875016817795236 Количество деревьев: 50 Максимальная глубина: 5"
   ]
  },
  {
   "cell_type": "markdown",
   "metadata": {},
   "source": [
    "<div class=\"alert alert-info\">\n",
    "Выведем все sMAPE</div"
   ]
  },
  {
   "cell_type": "code",
   "execution_count": 66,
   "metadata": {},
   "outputs": [
    {
     "name": "stdout",
     "output_type": "stream",
     "text": [
      "sMAPE_rougher линейной регрессии: 7.27691969103793\n",
      "sMAPE_final линейной регрессии: 11.013214442951051\n",
      "\n",
      "sMAPE_rougher дерева решений: 6.815757453460546 3\n",
      "sMAPE_final дерева решений: 9.237775815879804 3\n",
      "\n",
      "sMAPE_rougher случайного леса: 6.306789911766995 50 5\n",
      "sMAPE_final случайного леса: 8.875016817795236 50 5\n"
     ]
    }
   ],
   "source": [
    "print ('sMAPE_rougher линейной регрессии:', smape_rougher_regr)\n",
    "print ('sMAPE_final линейной регрессии:', smape_final_regr)\n",
    "print ()\n",
    "print ('sMAPE_rougher дерева решений:', smape_rougher_tree, best_depth_tree_r)\n",
    "print ('sMAPE_final дерева решений:', smape_final_tree, best_depth_tree_f)\n",
    "print ()\n",
    "print ('sMAPE_rougher случайного леса:', smape_rougher_forest, best_est_r, best_depth_forest_r)\n",
    "print ('sMAPE_final случайного леса:', smape_final_forest, best_est_f, best_depth_forest_f)\n"
   ]
  },
  {
   "cell_type": "markdown",
   "metadata": {},
   "source": [
    "<div class=\"alert alert-info\">\n",
    "Для черновой очистки лучший результат показал случайный лес с параметрами n_estimators=50 , max_depth=5\n",
    "<br>\n",
    "    <br>\n",
    "Для финальной очистки лучший результат также показал случайный лес с параметрами n_estimators=50 , max_depth=5\n",
    "<br>"
   ]
  },
  {
   "cell_type": "markdown",
   "metadata": {},
   "source": [
    "<div class=\"alert alert-info\">\n",
    "Проверим на тестовой выборке модель случайного леса для черновой очистки</div"
   ]
  },
  {
   "cell_type": "code",
   "execution_count": 67,
   "metadata": {},
   "outputs": [
    {
     "name": "stdout",
     "output_type": "stream",
     "text": [
      "sMAPE_rougher случайного леса: 6.306789911766995\n",
      "sMAPE_rougher на тестовой выборке: 8.633477713358714\n"
     ]
    }
   ],
   "source": [
    "print ('sMAPE_rougher случайного леса:', smape_rougher_forest)\n",
    "model = RandomForestRegressor(random_state=12345, n_estimators=50, max_depth=1)\n",
    "model.fit(features_train, target_rougher_train) \n",
    "predicted_test = model.predict(features_test)\n",
    "smape_r = smape(target_rougher_test, predicted_test)\n",
    "print ('sMAPE_rougher на тестовой выборке:', smape_r)\n"
   ]
  },
  {
   "cell_type": "markdown",
   "metadata": {},
   "source": [
    "<div class=\"alert alert-info\">\n",
    "Проверим на тестовой выборке модель дерева решений для финальной очистки</div"
   ]
  },
  {
   "cell_type": "code",
   "execution_count": 68,
   "metadata": {},
   "outputs": [
    {
     "name": "stdout",
     "output_type": "stream",
     "text": [
      "sMAPE_final случайного леса: 8.875016817795236\n",
      "sMAPE_rougher на тестовой выборке: 9.05204218820306\n"
     ]
    }
   ],
   "source": [
    "print ('sMAPE_final случайного леса:', smape_final_forest)\n",
    "model = RandomForestRegressor(random_state=12345, n_estimators=50, max_depth=1)\n",
    "model.fit(features_train, target_final_train) \n",
    "predicted_test = model.predict(features_test)\n",
    "smape_f = smape(target_final_test, predicted_test)\n",
    "print ('sMAPE_rougher на тестовой выборке:', smape_f)"
   ]
  },
  {
   "cell_type": "markdown",
   "metadata": {},
   "source": [
    "<div class=\"alert alert-info\">\n",
    "Создадим константную модель, проверим модели\n",
    "</div"
   ]
  },
  {
   "cell_type": "code",
   "execution_count": 69,
   "metadata": {},
   "outputs": [
    {
     "name": "stdout",
     "output_type": "stream",
     "text": [
      "Точность константной модели rougher: 8.92526770063527\n"
     ]
    }
   ],
   "source": [
    "dummy_clf = DummyRegressor(strategy=\"mean\")\n",
    "dummy_clf.fit(features_train, target_rougher_train)\n",
    "predicted_test = dummy_clf.predict(features_test) \n",
    "result_test = smape(target_rougher_test, predicted_test)\n",
    "print('Точность константной модели rougher:', result_test)"
   ]
  },
  {
   "cell_type": "code",
   "execution_count": 70,
   "metadata": {},
   "outputs": [
    {
     "name": "stdout",
     "output_type": "stream",
     "text": [
      "Точность константной модели final: 9.570682671405836\n"
     ]
    }
   ],
   "source": [
    "dummy_clf = DummyRegressor(strategy=\"mean\")\n",
    "dummy_clf.fit(features_train, target_final_train)\n",
    "predicted_test = dummy_clf.predict(features_test) \n",
    "result_test = smape(target_final_test, predicted_test)\n",
    "print('Точность константной модели final:', result_test)"
   ]
  },
  {
   "cell_type": "markdown",
   "metadata": {},
   "source": [
    "<div class=\"alert alert-info\">\n",
    "Константная модель проигрывает, из чего делаем вывод, что наши модели подходят</div"
   ]
  },
  {
   "cell_type": "markdown",
   "metadata": {},
   "source": [
    "<div class=\"alert alert-info\">\n",
    "Посчитаем финальную sMAPE</div"
   ]
  },
  {
   "cell_type": "code",
   "execution_count": 71,
   "metadata": {},
   "outputs": [
    {
     "data": {
      "text/plain": [
       "8.947401069491974"
      ]
     },
     "execution_count": 71,
     "metadata": {},
     "output_type": "execute_result"
    }
   ],
   "source": [
    "smape_fin = smape_fin(smape_r, smape_f)\n",
    "smape_fin"
   ]
  },
  {
   "cell_type": "markdown",
   "metadata": {},
   "source": [
    "<div class=\"alert alert-info\">\n",
    "Финальная sMAPE рассчитана исходя из лучших значений промежуточных sMAPE нескольких моделй</div"
   ]
  },
  {
   "cell_type": "markdown",
   "metadata": {},
   "source": [
    "<div class=\"alert alert-info\">\n",
    "Вывод\n",
    "<br>\n",
    "Была задача найти наиболее подходящую модель для расчета sMAPE двух величин - \n",
    "эффективности обогащения чернового концентрата rougher.output.recovery и эффективности обогащения финального концентрата final.output.recovery.\n",
    "<br>\n",
    "Была проведена предобработка данных, удалены аномалии и пропущенные значения.\n",
    "    <br>\n",
    "Проанализированы данные, построены графики.\n",
    "    <br>\n",
    "Рассмотрено, как меняется концентрация металлов (Au, Ag, Pb) на различных этапах очистки, исследовано распределение размеров гранул сырья на обучающей и тестовой выборках, исследована суммарную концентрацию всех веществ на разных стадиях: в сырье, в черновом и финальном концентратах\n",
    "    <br>\n",
    "Данные уже были разделены на обучающую и тестовую выборку, их мы разделили на выборки с целевым признаком и нужными признаками.\n",
    "   <br>\n",
    "Написана функция для промежуточной и итоговой sMAPE\n",
    "       <br>\n",
    "Написан скорер, который был передан в параметры cross_val_score(), для исследования нескольких моделей регрессии.\n",
    "       <br>\n",
    "Были выбраны лучшие модели для процесса черновой очистки, и для процесса финишной очистки, которая выдала наименьшее значение этой метрики \n",
    "    <br>\n",
    "Для двух лучших моделей сделаны предсказания по тестовой выборке. \n",
    "    <br>\n",
    "В функцию smape переданы эти предсказания и ответы, получены sMAPE для чернового и финишного этапа. \n",
    "    <br>\n",
    "Рассчитана итоговое sMAPE\n",
    "</div"
   ]
  }
 ],
 "metadata": {
  "ExecuteTimeLog": [
   {
    "duration": 1016,
    "start_time": "2023-03-07T17:51:07.678Z"
   },
   {
    "duration": 99,
    "start_time": "2023-03-07T17:51:24.163Z"
   },
   {
    "duration": 1285,
    "start_time": "2023-03-07T17:51:41.023Z"
   },
   {
    "duration": 175,
    "start_time": "2023-03-07T17:52:01.550Z"
   },
   {
    "duration": 568,
    "start_time": "2023-03-07T17:52:17.816Z"
   },
   {
    "duration": 20,
    "start_time": "2023-03-07T17:52:28.732Z"
   },
   {
    "duration": 6,
    "start_time": "2023-03-07T17:52:55.600Z"
   },
   {
    "duration": 2,
    "start_time": "2023-03-07T17:53:17.718Z"
   },
   {
    "duration": 10,
    "start_time": "2023-03-07T17:53:30.158Z"
   },
   {
    "duration": 6,
    "start_time": "2023-03-07T17:53:38.994Z"
   },
   {
    "duration": 1149,
    "start_time": "2023-03-07T20:32:33.397Z"
   },
   {
    "duration": 1429,
    "start_time": "2023-03-07T20:32:34.548Z"
   },
   {
    "duration": 554,
    "start_time": "2023-03-07T20:32:35.989Z"
   },
   {
    "duration": 2389,
    "start_time": "2023-03-07T20:32:36.545Z"
   },
   {
    "duration": 18,
    "start_time": "2023-03-07T20:32:38.936Z"
   },
   {
    "duration": 5,
    "start_time": "2023-03-07T20:32:38.955Z"
   },
   {
    "duration": 5,
    "start_time": "2023-03-07T20:32:38.961Z"
   },
   {
    "duration": 10,
    "start_time": "2023-03-07T20:32:38.967Z"
   },
   {
    "duration": 11,
    "start_time": "2023-03-07T20:32:38.978Z"
   },
   {
    "duration": 13,
    "start_time": "2023-03-07T20:45:50.645Z"
   },
   {
    "duration": 166,
    "start_time": "2023-03-07T21:12:59.765Z"
   },
   {
    "duration": 6,
    "start_time": "2023-03-07T21:13:04.633Z"
   },
   {
    "duration": 15,
    "start_time": "2023-03-07T21:13:25.404Z"
   },
   {
    "duration": 2,
    "start_time": "2023-03-07T21:15:12.251Z"
   },
   {
    "duration": 3,
    "start_time": "2023-03-07T21:15:40.004Z"
   },
   {
    "duration": 7,
    "start_time": "2023-03-07T21:15:56.530Z"
   },
   {
    "duration": 7,
    "start_time": "2023-03-07T21:16:16.050Z"
   },
   {
    "duration": 5,
    "start_time": "2023-03-07T21:16:25.568Z"
   },
   {
    "duration": 10,
    "start_time": "2023-03-07T21:17:05.476Z"
   },
   {
    "duration": 6,
    "start_time": "2023-03-07T21:17:17.896Z"
   },
   {
    "duration": 1311,
    "start_time": "2023-03-07T21:17:52.242Z"
   },
   {
    "duration": 467,
    "start_time": "2023-03-07T21:17:53.555Z"
   },
   {
    "duration": 126,
    "start_time": "2023-03-07T21:17:54.031Z"
   },
   {
    "duration": 463,
    "start_time": "2023-03-07T21:17:54.160Z"
   },
   {
    "duration": 20,
    "start_time": "2023-03-07T21:17:54.625Z"
   },
   {
    "duration": 26,
    "start_time": "2023-03-07T21:17:54.647Z"
   },
   {
    "duration": 5,
    "start_time": "2023-03-07T21:18:02.270Z"
   },
   {
    "duration": 7,
    "start_time": "2023-03-07T21:19:09.913Z"
   },
   {
    "duration": 5,
    "start_time": "2023-03-07T21:23:50.949Z"
   },
   {
    "duration": 5,
    "start_time": "2023-03-07T21:24:04.143Z"
   },
   {
    "duration": 42,
    "start_time": "2023-03-07T21:25:15.968Z"
   },
   {
    "duration": 16,
    "start_time": "2023-03-07T21:26:15.740Z"
   },
   {
    "duration": 271,
    "start_time": "2023-03-07T21:29:52.106Z"
   },
   {
    "duration": 20,
    "start_time": "2023-03-07T21:30:00.856Z"
   },
   {
    "duration": 19,
    "start_time": "2023-03-07T21:30:18.778Z"
   },
   {
    "duration": 27,
    "start_time": "2023-03-07T21:30:31.766Z"
   },
   {
    "duration": 1190,
    "start_time": "2023-03-08T09:51:32.854Z"
   },
   {
    "duration": 946,
    "start_time": "2023-03-08T09:51:34.047Z"
   },
   {
    "duration": 402,
    "start_time": "2023-03-08T09:51:34.994Z"
   },
   {
    "duration": 1796,
    "start_time": "2023-03-08T09:51:35.398Z"
   },
   {
    "duration": 20,
    "start_time": "2023-03-08T09:51:37.197Z"
   },
   {
    "duration": 6,
    "start_time": "2023-03-08T09:51:37.219Z"
   },
   {
    "duration": 9,
    "start_time": "2023-03-08T09:51:37.227Z"
   },
   {
    "duration": 18,
    "start_time": "2023-03-08T09:51:37.237Z"
   },
   {
    "duration": 25,
    "start_time": "2023-03-08T09:51:37.257Z"
   },
   {
    "duration": 22,
    "start_time": "2023-03-08T09:51:37.284Z"
   },
   {
    "duration": 34,
    "start_time": "2023-03-08T09:51:37.307Z"
   },
   {
    "duration": 18,
    "start_time": "2023-03-08T09:51:37.342Z"
   },
   {
    "duration": 18,
    "start_time": "2023-03-08T09:51:37.362Z"
   },
   {
    "duration": 1223,
    "start_time": "2023-03-08T09:52:11.207Z"
   },
   {
    "duration": 406,
    "start_time": "2023-03-08T09:52:12.433Z"
   },
   {
    "duration": 104,
    "start_time": "2023-03-08T09:52:12.841Z"
   },
   {
    "duration": 463,
    "start_time": "2023-03-08T09:52:12.947Z"
   },
   {
    "duration": 18,
    "start_time": "2023-03-08T09:52:13.413Z"
   },
   {
    "duration": 31,
    "start_time": "2023-03-08T09:52:13.433Z"
   },
   {
    "duration": 50,
    "start_time": "2023-03-08T09:52:13.466Z"
   },
   {
    "duration": 51,
    "start_time": "2023-03-08T09:52:13.518Z"
   },
   {
    "duration": 36,
    "start_time": "2023-03-08T09:52:13.571Z"
   },
   {
    "duration": 37,
    "start_time": "2023-03-08T09:52:13.609Z"
   },
   {
    "duration": 33,
    "start_time": "2023-03-08T09:52:13.648Z"
   },
   {
    "duration": 56,
    "start_time": "2023-03-08T09:52:13.684Z"
   },
   {
    "duration": 17,
    "start_time": "2023-03-08T09:52:13.743Z"
   },
   {
    "duration": 8,
    "start_time": "2023-03-08T09:58:32.900Z"
   },
   {
    "duration": 83,
    "start_time": "2023-03-08T09:58:52.460Z"
   },
   {
    "duration": 35,
    "start_time": "2023-03-08T10:05:08.012Z"
   },
   {
    "duration": 76,
    "start_time": "2023-03-08T10:07:31.917Z"
   },
   {
    "duration": 106,
    "start_time": "2023-03-08T10:09:11.083Z"
   },
   {
    "duration": 80,
    "start_time": "2023-03-08T10:09:15.764Z"
   },
   {
    "duration": 78,
    "start_time": "2023-03-08T10:19:14.086Z"
   },
   {
    "duration": 88,
    "start_time": "2023-03-08T10:19:18.542Z"
   },
   {
    "duration": 57,
    "start_time": "2023-03-08T10:20:56.762Z"
   },
   {
    "duration": 45,
    "start_time": "2023-03-08T10:21:08.330Z"
   },
   {
    "duration": 53,
    "start_time": "2023-03-08T10:21:15.554Z"
   },
   {
    "duration": 52,
    "start_time": "2023-03-08T10:23:13.570Z"
   },
   {
    "duration": 94,
    "start_time": "2023-03-08T10:24:00.822Z"
   },
   {
    "duration": 75,
    "start_time": "2023-03-08T10:24:20.469Z"
   },
   {
    "duration": 13,
    "start_time": "2023-03-08T10:41:09.599Z"
   },
   {
    "duration": 172,
    "start_time": "2023-03-08T10:41:28.562Z"
   },
   {
    "duration": 11,
    "start_time": "2023-03-08T10:41:59.558Z"
   },
   {
    "duration": 37,
    "start_time": "2023-03-08T10:43:54.664Z"
   },
   {
    "duration": 6,
    "start_time": "2023-03-08T10:44:01.922Z"
   },
   {
    "duration": 9,
    "start_time": "2023-03-08T10:44:26.812Z"
   },
   {
    "duration": 10,
    "start_time": "2023-03-08T10:44:40.536Z"
   },
   {
    "duration": 37,
    "start_time": "2023-03-08T10:45:00.820Z"
   },
   {
    "duration": 17,
    "start_time": "2023-03-08T10:45:31.781Z"
   },
   {
    "duration": 29,
    "start_time": "2023-03-08T10:46:34.057Z"
   },
   {
    "duration": 40,
    "start_time": "2023-03-08T10:47:14.300Z"
   },
   {
    "duration": 4,
    "start_time": "2023-03-08T11:16:00.589Z"
   },
   {
    "duration": 12,
    "start_time": "2023-03-08T11:16:57.824Z"
   },
   {
    "duration": 374,
    "start_time": "2023-03-08T11:17:20.588Z"
   },
   {
    "duration": 26,
    "start_time": "2023-03-08T11:17:24.385Z"
   },
   {
    "duration": 38,
    "start_time": "2023-03-08T11:17:51.464Z"
   },
   {
    "duration": 51,
    "start_time": "2023-03-08T11:22:30.291Z"
   },
   {
    "duration": 654,
    "start_time": "2023-03-08T11:24:36.098Z"
   },
   {
    "duration": 24,
    "start_time": "2023-03-08T11:24:56.595Z"
   },
   {
    "duration": 19,
    "start_time": "2023-03-08T11:25:08.979Z"
   },
   {
    "duration": 3,
    "start_time": "2023-03-08T11:25:27.323Z"
   },
   {
    "duration": 39,
    "start_time": "2023-03-08T11:25:34.772Z"
   },
   {
    "duration": 32,
    "start_time": "2023-03-08T11:25:49.134Z"
   },
   {
    "duration": 23,
    "start_time": "2023-03-08T11:39:55.594Z"
   },
   {
    "duration": 29,
    "start_time": "2023-03-08T13:45:16.829Z"
   },
   {
    "duration": 26,
    "start_time": "2023-03-08T13:46:05.699Z"
   },
   {
    "duration": 24,
    "start_time": "2023-03-08T13:51:13.607Z"
   },
   {
    "duration": 8,
    "start_time": "2023-03-08T13:57:51.996Z"
   },
   {
    "duration": 26,
    "start_time": "2023-03-08T13:58:53.205Z"
   },
   {
    "duration": 29,
    "start_time": "2023-03-08T13:58:59.375Z"
   },
   {
    "duration": 6,
    "start_time": "2023-03-08T14:38:32.246Z"
   },
   {
    "duration": 19,
    "start_time": "2023-03-08T14:38:46.852Z"
   },
   {
    "duration": 30,
    "start_time": "2023-03-08T15:32:38.459Z"
   },
   {
    "duration": 1198,
    "start_time": "2023-03-08T15:32:49.418Z"
   },
   {
    "duration": 95,
    "start_time": "2023-03-08T16:03:52.639Z"
   },
   {
    "duration": 23,
    "start_time": "2023-03-08T16:04:00.222Z"
   },
   {
    "duration": 12,
    "start_time": "2023-03-08T16:04:09.263Z"
   },
   {
    "duration": 27,
    "start_time": "2023-03-08T16:04:21.310Z"
   },
   {
    "duration": 21,
    "start_time": "2023-03-08T16:04:33.673Z"
   },
   {
    "duration": 1156,
    "start_time": "2023-03-08T17:58:41.886Z"
   },
   {
    "duration": 748,
    "start_time": "2023-03-08T17:58:43.044Z"
   },
   {
    "duration": 103,
    "start_time": "2023-03-08T17:58:43.793Z"
   },
   {
    "duration": 420,
    "start_time": "2023-03-08T17:58:43.898Z"
   },
   {
    "duration": 20,
    "start_time": "2023-03-08T17:58:44.321Z"
   },
   {
    "duration": 8,
    "start_time": "2023-03-08T17:58:44.344Z"
   },
   {
    "duration": 34,
    "start_time": "2023-03-08T17:58:44.353Z"
   },
   {
    "duration": 33,
    "start_time": "2023-03-08T17:58:44.388Z"
   },
   {
    "duration": 14,
    "start_time": "2023-03-08T17:58:44.423Z"
   },
   {
    "duration": 17,
    "start_time": "2023-03-08T17:58:44.439Z"
   },
   {
    "duration": 31,
    "start_time": "2023-03-08T17:58:44.458Z"
   },
   {
    "duration": 4,
    "start_time": "2023-03-08T17:58:44.491Z"
   },
   {
    "duration": 8,
    "start_time": "2023-03-08T17:58:44.497Z"
   },
   {
    "duration": 37,
    "start_time": "2023-03-08T17:58:44.508Z"
   },
   {
    "duration": 40,
    "start_time": "2023-03-08T17:58:44.547Z"
   },
   {
    "duration": 26,
    "start_time": "2023-03-08T17:58:44.589Z"
   },
   {
    "duration": 33,
    "start_time": "2023-03-08T17:58:44.617Z"
   },
   {
    "duration": 4,
    "start_time": "2023-03-08T17:58:44.652Z"
   },
   {
    "duration": 37,
    "start_time": "2023-03-08T17:58:44.657Z"
   },
   {
    "duration": 29,
    "start_time": "2023-03-08T17:58:44.696Z"
   },
   {
    "duration": 13,
    "start_time": "2023-03-08T17:58:44.727Z"
   },
   {
    "duration": 22,
    "start_time": "2023-03-08T17:58:44.742Z"
   },
   {
    "duration": 125,
    "start_time": "2023-03-08T17:58:44.766Z"
   },
   {
    "duration": 0,
    "start_time": "2023-03-08T17:58:44.892Z"
   },
   {
    "duration": 0,
    "start_time": "2023-03-08T17:58:44.894Z"
   },
   {
    "duration": 702,
    "start_time": "2023-03-08T18:05:28.740Z"
   },
   {
    "duration": 1110,
    "start_time": "2023-03-08T19:41:37.812Z"
   },
   {
    "duration": 904,
    "start_time": "2023-03-08T19:41:38.924Z"
   },
   {
    "duration": 408,
    "start_time": "2023-03-08T19:41:39.833Z"
   },
   {
    "duration": 1781,
    "start_time": "2023-03-08T19:41:40.243Z"
   },
   {
    "duration": 18,
    "start_time": "2023-03-08T19:41:42.026Z"
   },
   {
    "duration": 6,
    "start_time": "2023-03-08T19:41:42.046Z"
   },
   {
    "duration": 13,
    "start_time": "2023-03-08T19:41:42.054Z"
   },
   {
    "duration": 17,
    "start_time": "2023-03-08T19:41:42.068Z"
   },
   {
    "duration": 10,
    "start_time": "2023-03-08T19:41:42.088Z"
   },
   {
    "duration": 9,
    "start_time": "2023-03-08T19:41:42.099Z"
   },
   {
    "duration": 20,
    "start_time": "2023-03-08T19:41:42.110Z"
   },
   {
    "duration": 3,
    "start_time": "2023-03-08T19:41:42.132Z"
   },
   {
    "duration": 9,
    "start_time": "2023-03-08T19:41:42.137Z"
   },
   {
    "duration": 42,
    "start_time": "2023-03-08T19:41:42.148Z"
   },
   {
    "duration": 43,
    "start_time": "2023-03-08T19:41:42.200Z"
   },
   {
    "duration": 42,
    "start_time": "2023-03-08T19:41:42.244Z"
   },
   {
    "duration": 35,
    "start_time": "2023-03-08T19:41:42.288Z"
   },
   {
    "duration": 3,
    "start_time": "2023-03-08T19:41:42.325Z"
   },
   {
    "duration": 34,
    "start_time": "2023-03-08T19:41:42.330Z"
   },
   {
    "duration": 55,
    "start_time": "2023-03-08T19:41:42.366Z"
   },
   {
    "duration": 14,
    "start_time": "2023-03-08T19:41:42.423Z"
   },
   {
    "duration": 39,
    "start_time": "2023-03-08T19:41:42.439Z"
   },
   {
    "duration": 331,
    "start_time": "2023-03-08T19:41:58.078Z"
   },
   {
    "duration": 1097,
    "start_time": "2023-03-08T19:42:05.909Z"
   },
   {
    "duration": 901,
    "start_time": "2023-03-08T19:42:07.009Z"
   },
   {
    "duration": 404,
    "start_time": "2023-03-08T19:42:07.911Z"
   },
   {
    "duration": 1836,
    "start_time": "2023-03-08T19:42:08.318Z"
   },
   {
    "duration": 22,
    "start_time": "2023-03-08T19:42:10.155Z"
   },
   {
    "duration": 5,
    "start_time": "2023-03-08T19:42:10.179Z"
   },
   {
    "duration": 5,
    "start_time": "2023-03-08T19:42:10.187Z"
   },
   {
    "duration": 18,
    "start_time": "2023-03-08T19:42:10.193Z"
   },
   {
    "duration": 7,
    "start_time": "2023-03-08T19:42:10.213Z"
   },
   {
    "duration": 11,
    "start_time": "2023-03-08T19:42:10.223Z"
   },
   {
    "duration": 48,
    "start_time": "2023-03-08T19:42:10.237Z"
   },
   {
    "duration": 4,
    "start_time": "2023-03-08T19:42:10.287Z"
   },
   {
    "duration": 11,
    "start_time": "2023-03-08T19:42:10.292Z"
   },
   {
    "duration": 43,
    "start_time": "2023-03-08T19:42:10.305Z"
   },
   {
    "duration": 43,
    "start_time": "2023-03-08T19:42:10.350Z"
   },
   {
    "duration": 26,
    "start_time": "2023-03-08T19:42:10.395Z"
   },
   {
    "duration": 37,
    "start_time": "2023-03-08T19:42:10.423Z"
   },
   {
    "duration": 3,
    "start_time": "2023-03-08T19:42:10.477Z"
   },
   {
    "duration": 29,
    "start_time": "2023-03-08T19:42:10.482Z"
   },
   {
    "duration": 35,
    "start_time": "2023-03-08T19:42:10.513Z"
   },
   {
    "duration": 10,
    "start_time": "2023-03-08T19:42:10.550Z"
   },
   {
    "duration": 25,
    "start_time": "2023-03-08T19:42:10.562Z"
   },
   {
    "duration": 1110,
    "start_time": "2023-03-08T20:50:25.422Z"
   },
   {
    "duration": 944,
    "start_time": "2023-03-08T20:50:26.534Z"
   },
   {
    "duration": 422,
    "start_time": "2023-03-08T20:50:27.482Z"
   },
   {
    "duration": 1876,
    "start_time": "2023-03-08T20:50:27.905Z"
   },
   {
    "duration": 21,
    "start_time": "2023-03-08T20:50:29.784Z"
   },
   {
    "duration": 7,
    "start_time": "2023-03-08T20:50:29.807Z"
   },
   {
    "duration": 17,
    "start_time": "2023-03-08T20:50:29.815Z"
   },
   {
    "duration": 23,
    "start_time": "2023-03-08T20:50:29.834Z"
   },
   {
    "duration": 37,
    "start_time": "2023-03-08T20:50:29.859Z"
   },
   {
    "duration": 28,
    "start_time": "2023-03-08T20:50:29.898Z"
   },
   {
    "duration": 30,
    "start_time": "2023-03-08T20:50:29.928Z"
   },
   {
    "duration": 6,
    "start_time": "2023-03-08T20:50:29.960Z"
   },
   {
    "duration": 39,
    "start_time": "2023-03-08T20:50:29.968Z"
   },
   {
    "duration": 48,
    "start_time": "2023-03-08T20:50:30.010Z"
   },
   {
    "duration": 39,
    "start_time": "2023-03-08T20:50:30.059Z"
   },
   {
    "duration": 27,
    "start_time": "2023-03-08T20:50:30.100Z"
   },
   {
    "duration": 44,
    "start_time": "2023-03-08T20:50:30.129Z"
   },
   {
    "duration": 30,
    "start_time": "2023-03-08T20:50:30.175Z"
   },
   {
    "duration": 111,
    "start_time": "2023-03-08T20:50:30.207Z"
   },
   {
    "duration": 43,
    "start_time": "2023-03-08T20:50:30.320Z"
   },
   {
    "duration": 47,
    "start_time": "2023-03-08T20:50:30.364Z"
   },
   {
    "duration": 57,
    "start_time": "2023-03-08T20:50:30.413Z"
   },
   {
    "duration": 1194,
    "start_time": "2023-03-08T20:51:31.722Z"
   },
   {
    "duration": 920,
    "start_time": "2023-03-08T20:51:32.918Z"
   },
   {
    "duration": 423,
    "start_time": "2023-03-08T20:51:33.839Z"
   },
   {
    "duration": 1921,
    "start_time": "2023-03-08T20:51:34.264Z"
   },
   {
    "duration": 20,
    "start_time": "2023-03-08T20:51:36.188Z"
   },
   {
    "duration": 5,
    "start_time": "2023-03-08T20:51:36.209Z"
   },
   {
    "duration": 6,
    "start_time": "2023-03-08T20:51:36.216Z"
   },
   {
    "duration": 13,
    "start_time": "2023-03-08T20:51:36.224Z"
   },
   {
    "duration": 22,
    "start_time": "2023-03-08T20:51:36.239Z"
   },
   {
    "duration": 40,
    "start_time": "2023-03-08T20:51:36.263Z"
   },
   {
    "duration": 31,
    "start_time": "2023-03-08T20:51:36.304Z"
   },
   {
    "duration": 2,
    "start_time": "2023-03-08T20:51:36.337Z"
   },
   {
    "duration": 10,
    "start_time": "2023-03-08T20:51:36.341Z"
   },
   {
    "duration": 37,
    "start_time": "2023-03-08T20:51:36.354Z"
   },
   {
    "duration": 33,
    "start_time": "2023-03-08T20:51:36.393Z"
   },
   {
    "duration": 26,
    "start_time": "2023-03-08T20:51:36.428Z"
   },
   {
    "duration": 43,
    "start_time": "2023-03-08T20:51:36.455Z"
   },
   {
    "duration": 2,
    "start_time": "2023-03-08T20:51:36.500Z"
   },
   {
    "duration": 38,
    "start_time": "2023-03-08T20:51:36.504Z"
   },
   {
    "duration": 32,
    "start_time": "2023-03-08T20:51:36.544Z"
   },
   {
    "duration": 7,
    "start_time": "2023-03-08T20:51:36.579Z"
   },
   {
    "duration": 31,
    "start_time": "2023-03-08T20:51:36.591Z"
   },
   {
    "duration": 57,
    "start_time": "2023-03-08T20:51:46.571Z"
   },
   {
    "duration": 1202,
    "start_time": "2023-03-08T20:51:51.974Z"
   },
   {
    "duration": 932,
    "start_time": "2023-03-08T20:51:53.180Z"
   },
   {
    "duration": 406,
    "start_time": "2023-03-08T20:51:54.114Z"
   },
   {
    "duration": 1906,
    "start_time": "2023-03-08T20:51:54.521Z"
   },
   {
    "duration": 20,
    "start_time": "2023-03-08T20:51:56.430Z"
   },
   {
    "duration": 6,
    "start_time": "2023-03-08T20:51:56.451Z"
   },
   {
    "duration": 8,
    "start_time": "2023-03-08T20:51:56.459Z"
   },
   {
    "duration": 33,
    "start_time": "2023-03-08T20:51:56.469Z"
   },
   {
    "duration": 10,
    "start_time": "2023-03-08T20:51:56.503Z"
   },
   {
    "duration": 10,
    "start_time": "2023-03-08T20:51:56.515Z"
   },
   {
    "duration": 21,
    "start_time": "2023-03-08T20:51:56.527Z"
   },
   {
    "duration": 2,
    "start_time": "2023-03-08T20:51:56.550Z"
   },
   {
    "duration": 10,
    "start_time": "2023-03-08T20:51:56.554Z"
   },
   {
    "duration": 28,
    "start_time": "2023-03-08T20:51:56.567Z"
   },
   {
    "duration": 35,
    "start_time": "2023-03-08T20:51:56.596Z"
   },
   {
    "duration": 64,
    "start_time": "2023-03-08T20:51:56.633Z"
   },
   {
    "duration": 34,
    "start_time": "2023-03-08T20:51:56.701Z"
   },
   {
    "duration": 3,
    "start_time": "2023-03-08T20:51:56.736Z"
   },
   {
    "duration": 22,
    "start_time": "2023-03-08T20:51:56.740Z"
   },
   {
    "duration": 37,
    "start_time": "2023-03-08T20:51:56.764Z"
   },
   {
    "duration": 2,
    "start_time": "2023-03-08T20:51:56.803Z"
   },
   {
    "duration": 18,
    "start_time": "2023-03-08T20:51:56.807Z"
   },
   {
    "duration": 1151,
    "start_time": "2023-03-08T20:55:48.473Z"
   },
   {
    "duration": 938,
    "start_time": "2023-03-08T20:55:49.627Z"
   },
   {
    "duration": 426,
    "start_time": "2023-03-08T20:55:50.567Z"
   },
   {
    "duration": 1864,
    "start_time": "2023-03-08T20:55:50.995Z"
   },
   {
    "duration": 28,
    "start_time": "2023-03-08T20:55:52.861Z"
   },
   {
    "duration": 6,
    "start_time": "2023-03-08T20:55:52.891Z"
   },
   {
    "duration": 17,
    "start_time": "2023-03-08T20:55:52.898Z"
   },
   {
    "duration": 13,
    "start_time": "2023-03-08T20:55:52.917Z"
   },
   {
    "duration": 10,
    "start_time": "2023-03-08T20:55:52.931Z"
   },
   {
    "duration": 10,
    "start_time": "2023-03-08T20:55:52.942Z"
   },
   {
    "duration": 23,
    "start_time": "2023-03-08T20:55:52.953Z"
   },
   {
    "duration": 9,
    "start_time": "2023-03-08T20:55:52.978Z"
   },
   {
    "duration": 17,
    "start_time": "2023-03-08T20:55:52.989Z"
   },
   {
    "duration": 24,
    "start_time": "2023-03-08T20:55:53.008Z"
   },
   {
    "duration": 31,
    "start_time": "2023-03-08T20:55:53.033Z"
   },
   {
    "duration": 36,
    "start_time": "2023-03-08T20:55:53.066Z"
   },
   {
    "duration": 29,
    "start_time": "2023-03-08T20:55:53.103Z"
   },
   {
    "duration": 2,
    "start_time": "2023-03-08T20:55:53.134Z"
   },
   {
    "duration": 20,
    "start_time": "2023-03-08T20:55:53.138Z"
   },
   {
    "duration": 43,
    "start_time": "2023-03-08T20:55:53.160Z"
   },
   {
    "duration": 3,
    "start_time": "2023-03-08T20:55:53.204Z"
   },
   {
    "duration": 36,
    "start_time": "2023-03-08T20:55:53.209Z"
   },
   {
    "duration": 92,
    "start_time": "2023-03-08T20:55:58.915Z"
   },
   {
    "duration": 3,
    "start_time": "2023-03-08T20:56:05.838Z"
   },
   {
    "duration": 22,
    "start_time": "2023-03-08T20:56:13.068Z"
   },
   {
    "duration": 17,
    "start_time": "2023-03-08T20:56:21.490Z"
   },
   {
    "duration": 101,
    "start_time": "2023-03-08T20:59:34.994Z"
   },
   {
    "duration": 11,
    "start_time": "2023-03-08T20:59:42.750Z"
   },
   {
    "duration": 578,
    "start_time": "2023-03-08T21:00:00.729Z"
   },
   {
    "duration": 224,
    "start_time": "2023-03-08T21:00:38.674Z"
   },
   {
    "duration": 57,
    "start_time": "2023-03-08T21:03:48.707Z"
   },
   {
    "duration": 31,
    "start_time": "2023-03-08T21:04:24.342Z"
   },
   {
    "duration": 13,
    "start_time": "2023-03-08T21:05:20.788Z"
   },
   {
    "duration": 3,
    "start_time": "2023-03-08T21:47:37.673Z"
   },
   {
    "duration": 28,
    "start_time": "2023-03-08T21:56:55.127Z"
   },
   {
    "duration": 9,
    "start_time": "2023-03-08T21:58:37.161Z"
   },
   {
    "duration": 22,
    "start_time": "2023-03-08T21:58:48.370Z"
   },
   {
    "duration": 20,
    "start_time": "2023-03-08T22:00:24.934Z"
   },
   {
    "duration": 7,
    "start_time": "2023-03-08T22:00:32.770Z"
   },
   {
    "duration": 23,
    "start_time": "2023-03-08T22:00:56.394Z"
   },
   {
    "duration": 73,
    "start_time": "2023-03-08T22:02:08.719Z"
   },
   {
    "duration": 77,
    "start_time": "2023-03-08T22:02:20.014Z"
   },
   {
    "duration": 4,
    "start_time": "2023-03-08T22:02:36.145Z"
   },
   {
    "duration": 14,
    "start_time": "2023-03-08T22:02:43.253Z"
   },
   {
    "duration": 8,
    "start_time": "2023-03-08T22:03:01.449Z"
   },
   {
    "duration": 14,
    "start_time": "2023-03-08T22:03:21.802Z"
   },
   {
    "duration": 6,
    "start_time": "2023-03-08T22:05:38.144Z"
   },
   {
    "duration": 7,
    "start_time": "2023-03-08T22:05:47.326Z"
   },
   {
    "duration": 7,
    "start_time": "2023-03-08T22:06:07.878Z"
   },
   {
    "duration": 16,
    "start_time": "2023-03-08T22:06:33.334Z"
   },
   {
    "duration": 16,
    "start_time": "2023-03-08T22:07:03.676Z"
   },
   {
    "duration": 19,
    "start_time": "2023-03-08T22:07:44.449Z"
   },
   {
    "duration": 4,
    "start_time": "2023-03-08T22:09:03.952Z"
   },
   {
    "duration": 16,
    "start_time": "2023-03-08T22:09:11.271Z"
   },
   {
    "duration": 14,
    "start_time": "2023-03-08T22:09:34.744Z"
   },
   {
    "duration": 22,
    "start_time": "2023-03-08T22:09:41.374Z"
   },
   {
    "duration": 1159,
    "start_time": "2023-03-08T22:11:08.772Z"
   },
   {
    "duration": 1335,
    "start_time": "2023-03-08T22:12:03.714Z"
   },
   {
    "duration": 16,
    "start_time": "2023-03-08T22:12:32.342Z"
   },
   {
    "duration": 14,
    "start_time": "2023-03-08T22:12:54.020Z"
   },
   {
    "duration": 15,
    "start_time": "2023-03-08T22:14:25.843Z"
   },
   {
    "duration": 1132,
    "start_time": "2023-03-08T22:16:04.343Z"
   },
   {
    "duration": 337,
    "start_time": "2023-03-08T22:16:05.477Z"
   },
   {
    "duration": 99,
    "start_time": "2023-03-08T22:16:05.816Z"
   },
   {
    "duration": 389,
    "start_time": "2023-03-08T22:16:05.916Z"
   },
   {
    "duration": 18,
    "start_time": "2023-03-08T22:16:06.308Z"
   },
   {
    "duration": 7,
    "start_time": "2023-03-08T22:16:06.327Z"
   },
   {
    "duration": 17,
    "start_time": "2023-03-08T22:16:06.335Z"
   },
   {
    "duration": 24,
    "start_time": "2023-03-08T22:16:06.354Z"
   },
   {
    "duration": 6,
    "start_time": "2023-03-08T22:16:06.379Z"
   },
   {
    "duration": 8,
    "start_time": "2023-03-08T22:16:06.386Z"
   },
   {
    "duration": 19,
    "start_time": "2023-03-08T22:16:06.396Z"
   },
   {
    "duration": 3,
    "start_time": "2023-03-08T22:16:06.417Z"
   },
   {
    "duration": 8,
    "start_time": "2023-03-08T22:16:06.421Z"
   },
   {
    "duration": 51,
    "start_time": "2023-03-08T22:16:06.433Z"
   },
   {
    "duration": 29,
    "start_time": "2023-03-08T22:16:06.487Z"
   },
   {
    "duration": 25,
    "start_time": "2023-03-08T22:16:06.518Z"
   },
   {
    "duration": 61,
    "start_time": "2023-03-08T22:16:06.545Z"
   },
   {
    "duration": 3,
    "start_time": "2023-03-08T22:16:06.607Z"
   },
   {
    "duration": 15,
    "start_time": "2023-03-08T22:16:06.611Z"
   },
   {
    "duration": 28,
    "start_time": "2023-03-08T22:16:06.628Z"
   },
   {
    "duration": 19,
    "start_time": "2023-03-08T22:16:06.658Z"
   },
   {
    "duration": 19,
    "start_time": "2023-03-08T22:16:06.679Z"
   },
   {
    "duration": 5,
    "start_time": "2023-03-08T22:16:06.700Z"
   },
   {
    "duration": 28,
    "start_time": "2023-03-08T22:16:06.706Z"
   },
   {
    "duration": 24,
    "start_time": "2023-03-08T22:16:06.736Z"
   },
   {
    "duration": 325,
    "start_time": "2023-03-08T22:16:06.762Z"
   },
   {
    "duration": 276,
    "start_time": "2023-03-08T22:16:07.089Z"
   },
   {
    "duration": 11,
    "start_time": "2023-03-08T22:16:07.366Z"
   },
   {
    "duration": 205,
    "start_time": "2023-03-08T22:16:07.379Z"
   },
   {
    "duration": 18,
    "start_time": "2023-03-08T22:16:07.585Z"
   },
   {
    "duration": 18,
    "start_time": "2023-03-08T22:17:32.193Z"
   },
   {
    "duration": 20,
    "start_time": "2023-03-08T22:18:41.723Z"
   },
   {
    "duration": 19,
    "start_time": "2023-03-08T22:19:50.194Z"
   },
   {
    "duration": 1155,
    "start_time": "2023-03-09T06:42:08.801Z"
   },
   {
    "duration": 887,
    "start_time": "2023-03-09T06:42:09.958Z"
   },
   {
    "duration": 444,
    "start_time": "2023-03-09T06:42:10.847Z"
   },
   {
    "duration": 2003,
    "start_time": "2023-03-09T06:42:11.293Z"
   },
   {
    "duration": 18,
    "start_time": "2023-03-09T06:42:13.297Z"
   },
   {
    "duration": 6,
    "start_time": "2023-03-09T06:42:13.317Z"
   },
   {
    "duration": 29,
    "start_time": "2023-03-09T06:42:13.325Z"
   },
   {
    "duration": 13,
    "start_time": "2023-03-09T06:42:13.355Z"
   },
   {
    "duration": 9,
    "start_time": "2023-03-09T06:42:13.370Z"
   },
   {
    "duration": 11,
    "start_time": "2023-03-09T06:42:13.382Z"
   },
   {
    "duration": 41,
    "start_time": "2023-03-09T06:42:13.394Z"
   },
   {
    "duration": 8,
    "start_time": "2023-03-09T06:42:13.437Z"
   },
   {
    "duration": 12,
    "start_time": "2023-03-09T06:42:13.446Z"
   },
   {
    "duration": 32,
    "start_time": "2023-03-09T06:42:13.460Z"
   },
   {
    "duration": 29,
    "start_time": "2023-03-09T06:42:13.495Z"
   },
   {
    "duration": 37,
    "start_time": "2023-03-09T06:42:13.526Z"
   },
   {
    "duration": 30,
    "start_time": "2023-03-09T06:42:13.565Z"
   },
   {
    "duration": 3,
    "start_time": "2023-03-09T06:42:13.596Z"
   },
   {
    "duration": 35,
    "start_time": "2023-03-09T06:42:13.600Z"
   },
   {
    "duration": 54,
    "start_time": "2023-03-09T06:42:13.636Z"
   },
   {
    "duration": 18,
    "start_time": "2023-03-09T06:42:13.692Z"
   },
   {
    "duration": 40,
    "start_time": "2023-03-09T06:42:13.711Z"
   },
   {
    "duration": 16,
    "start_time": "2023-03-09T06:42:13.753Z"
   },
   {
    "duration": 36,
    "start_time": "2023-03-09T06:42:13.771Z"
   },
   {
    "duration": 51,
    "start_time": "2023-03-09T06:42:13.809Z"
   },
   {
    "duration": 568,
    "start_time": "2023-03-09T06:42:13.861Z"
   },
   {
    "duration": 289,
    "start_time": "2023-03-09T06:42:14.433Z"
   },
   {
    "duration": 11,
    "start_time": "2023-03-09T06:42:14.733Z"
   },
   {
    "duration": 234,
    "start_time": "2023-03-09T06:42:14.746Z"
   },
   {
    "duration": 19,
    "start_time": "2023-03-09T06:42:14.983Z"
   },
   {
    "duration": 106,
    "start_time": "2023-03-09T06:42:15.004Z"
   },
   {
    "duration": 54,
    "start_time": "2023-03-09T06:42:15.112Z"
   },
   {
    "duration": 1297,
    "start_time": "2023-03-09T11:29:41.792Z"
   },
   {
    "duration": 1419,
    "start_time": "2023-03-09T11:29:43.092Z"
   },
   {
    "duration": 227,
    "start_time": "2023-03-09T11:29:44.512Z"
   },
   {
    "duration": 751,
    "start_time": "2023-03-09T11:29:44.741Z"
   },
   {
    "duration": 20,
    "start_time": "2023-03-09T11:29:45.494Z"
   },
   {
    "duration": 7,
    "start_time": "2023-03-09T11:29:45.515Z"
   },
   {
    "duration": 7,
    "start_time": "2023-03-09T11:29:45.523Z"
   },
   {
    "duration": 25,
    "start_time": "2023-03-09T11:29:45.535Z"
   },
   {
    "duration": 21,
    "start_time": "2023-03-09T11:29:45.562Z"
   },
   {
    "duration": 8,
    "start_time": "2023-03-09T11:29:45.585Z"
   },
   {
    "duration": 24,
    "start_time": "2023-03-09T11:29:45.595Z"
   },
   {
    "duration": 10,
    "start_time": "2023-03-09T11:29:45.621Z"
   },
   {
    "duration": 29,
    "start_time": "2023-03-09T11:29:45.633Z"
   },
   {
    "duration": 28,
    "start_time": "2023-03-09T11:29:45.665Z"
   },
   {
    "duration": 43,
    "start_time": "2023-03-09T11:29:45.695Z"
   },
   {
    "duration": 39,
    "start_time": "2023-03-09T11:29:45.740Z"
   },
   {
    "duration": 32,
    "start_time": "2023-03-09T11:29:45.781Z"
   },
   {
    "duration": 18,
    "start_time": "2023-03-09T11:29:45.814Z"
   },
   {
    "duration": 18,
    "start_time": "2023-03-09T11:29:45.833Z"
   },
   {
    "duration": 32,
    "start_time": "2023-03-09T11:29:45.853Z"
   },
   {
    "duration": 2,
    "start_time": "2023-03-09T11:29:45.887Z"
   },
   {
    "duration": 60,
    "start_time": "2023-03-09T11:29:45.891Z"
   },
   {
    "duration": 4,
    "start_time": "2023-03-09T11:29:45.953Z"
   },
   {
    "duration": 19,
    "start_time": "2023-03-09T11:29:45.960Z"
   },
   {
    "duration": 19,
    "start_time": "2023-03-09T11:29:45.981Z"
   },
   {
    "duration": 607,
    "start_time": "2023-03-09T11:29:46.003Z"
   },
   {
    "duration": 348,
    "start_time": "2023-03-09T11:29:46.613Z"
   },
   {
    "duration": 3,
    "start_time": "2023-03-09T11:29:46.963Z"
   },
   {
    "duration": 252,
    "start_time": "2023-03-09T11:29:46.968Z"
   },
   {
    "duration": 32,
    "start_time": "2023-03-09T11:29:47.228Z"
   },
   {
    "duration": 25,
    "start_time": "2023-03-09T11:29:47.262Z"
   },
   {
    "duration": 16,
    "start_time": "2023-03-09T11:29:47.289Z"
   },
   {
    "duration": 30,
    "start_time": "2023-03-09T11:40:02.657Z"
   },
   {
    "duration": 139,
    "start_time": "2023-03-09T11:45:25.386Z"
   },
   {
    "duration": 22,
    "start_time": "2023-03-09T11:45:37.944Z"
   },
   {
    "duration": 12,
    "start_time": "2023-03-09T11:45:44.396Z"
   },
   {
    "duration": 29,
    "start_time": "2023-03-09T11:46:15.568Z"
   },
   {
    "duration": 1339,
    "start_time": "2023-03-09T11:48:21.986Z"
   },
   {
    "duration": 1000,
    "start_time": "2023-03-09T11:48:37.260Z"
   },
   {
    "duration": 304,
    "start_time": "2023-03-09T11:48:48.231Z"
   },
   {
    "duration": 610,
    "start_time": "2023-03-09T11:48:55.914Z"
   },
   {
    "duration": 4,
    "start_time": "2023-03-09T12:19:34.680Z"
   },
   {
    "duration": 4,
    "start_time": "2023-03-09T12:20:01.293Z"
   },
   {
    "duration": 331,
    "start_time": "2023-03-09T13:09:13.673Z"
   },
   {
    "duration": 298,
    "start_time": "2023-03-09T13:09:21.368Z"
   },
   {
    "duration": 10,
    "start_time": "2023-03-09T13:18:32.053Z"
   },
   {
    "duration": 1629,
    "start_time": "2023-03-09T13:18:40.409Z"
   },
   {
    "duration": 1119,
    "start_time": "2023-03-09T17:46:48.015Z"
   },
   {
    "duration": 1215,
    "start_time": "2023-03-09T17:46:49.136Z"
   },
   {
    "duration": 170,
    "start_time": "2023-03-09T17:46:50.353Z"
   },
   {
    "duration": 504,
    "start_time": "2023-03-09T17:46:50.525Z"
   },
   {
    "duration": 16,
    "start_time": "2023-03-09T17:46:51.031Z"
   },
   {
    "duration": 5,
    "start_time": "2023-03-09T17:46:51.048Z"
   },
   {
    "duration": 3,
    "start_time": "2023-03-09T17:46:51.055Z"
   },
   {
    "duration": 8,
    "start_time": "2023-03-09T17:46:51.059Z"
   },
   {
    "duration": 4,
    "start_time": "2023-03-09T17:46:51.068Z"
   },
   {
    "duration": 5,
    "start_time": "2023-03-09T17:46:51.075Z"
   },
   {
    "duration": 14,
    "start_time": "2023-03-09T17:46:51.082Z"
   },
   {
    "duration": 3,
    "start_time": "2023-03-09T17:46:51.097Z"
   },
   {
    "duration": 4,
    "start_time": "2023-03-09T17:46:51.101Z"
   },
   {
    "duration": 49,
    "start_time": "2023-03-09T17:46:51.106Z"
   },
   {
    "duration": 26,
    "start_time": "2023-03-09T17:46:51.157Z"
   },
   {
    "duration": 20,
    "start_time": "2023-03-09T17:46:51.185Z"
   },
   {
    "duration": 26,
    "start_time": "2023-03-09T17:46:51.207Z"
   },
   {
    "duration": 2,
    "start_time": "2023-03-09T17:46:51.255Z"
   },
   {
    "duration": 11,
    "start_time": "2023-03-09T17:46:51.259Z"
   },
   {
    "duration": 24,
    "start_time": "2023-03-09T17:46:51.271Z"
   },
   {
    "duration": 2,
    "start_time": "2023-03-09T17:46:51.297Z"
   },
   {
    "duration": 13,
    "start_time": "2023-03-09T17:46:51.300Z"
   },
   {
    "duration": 8,
    "start_time": "2023-03-09T17:46:51.314Z"
   },
   {
    "duration": 37,
    "start_time": "2023-03-09T17:46:51.323Z"
   },
   {
    "duration": 14,
    "start_time": "2023-03-09T17:46:51.362Z"
   },
   {
    "duration": 473,
    "start_time": "2023-03-09T17:46:51.377Z"
   },
   {
    "duration": 257,
    "start_time": "2023-03-09T17:46:51.852Z"
   },
   {
    "duration": 3,
    "start_time": "2023-03-09T17:46:52.111Z"
   },
   {
    "duration": 192,
    "start_time": "2023-03-09T17:46:52.115Z"
   },
   {
    "duration": 16,
    "start_time": "2023-03-09T17:46:52.309Z"
   },
   {
    "duration": 32,
    "start_time": "2023-03-09T17:46:52.326Z"
   },
   {
    "duration": 24,
    "start_time": "2023-03-09T17:47:35.486Z"
   },
   {
    "duration": 848,
    "start_time": "2023-03-09T17:47:36.408Z"
   },
   {
    "duration": 424,
    "start_time": "2023-03-09T17:47:37.259Z"
   },
   {
    "duration": 245,
    "start_time": "2023-03-09T17:48:16.865Z"
   },
   {
    "duration": 228,
    "start_time": "2023-03-09T17:48:26.283Z"
   },
   {
    "duration": 19,
    "start_time": "2023-03-09T17:55:26.986Z"
   },
   {
    "duration": 20,
    "start_time": "2023-03-09T20:30:46.326Z"
   },
   {
    "duration": 24,
    "start_time": "2023-03-09T20:31:01.444Z"
   },
   {
    "duration": 10,
    "start_time": "2023-03-09T20:40:13.159Z"
   },
   {
    "duration": 14,
    "start_time": "2023-03-09T20:40:35.820Z"
   },
   {
    "duration": 3737,
    "start_time": "2023-03-09T20:49:31.230Z"
   },
   {
    "duration": 1346,
    "start_time": "2023-03-09T20:49:51.271Z"
   },
   {
    "duration": 1466,
    "start_time": "2023-03-09T20:49:52.620Z"
   },
   {
    "duration": 213,
    "start_time": "2023-03-09T20:49:54.088Z"
   },
   {
    "duration": 376,
    "start_time": "2023-03-09T20:49:54.303Z"
   },
   {
    "duration": 23,
    "start_time": "2023-03-09T20:49:54.681Z"
   },
   {
    "duration": 7,
    "start_time": "2023-03-09T20:49:54.706Z"
   },
   {
    "duration": 3,
    "start_time": "2023-03-09T20:49:54.715Z"
   },
   {
    "duration": 29,
    "start_time": "2023-03-09T20:49:54.720Z"
   },
   {
    "duration": 27,
    "start_time": "2023-03-09T20:49:54.751Z"
   },
   {
    "duration": 8,
    "start_time": "2023-03-09T20:49:54.781Z"
   },
   {
    "duration": 15,
    "start_time": "2023-03-09T20:49:54.791Z"
   },
   {
    "duration": 3,
    "start_time": "2023-03-09T20:49:54.807Z"
   },
   {
    "duration": 12,
    "start_time": "2023-03-09T20:49:54.811Z"
   },
   {
    "duration": 37,
    "start_time": "2023-03-09T20:49:54.825Z"
   },
   {
    "duration": 36,
    "start_time": "2023-03-09T20:49:54.868Z"
   },
   {
    "duration": 32,
    "start_time": "2023-03-09T20:49:54.905Z"
   },
   {
    "duration": 62,
    "start_time": "2023-03-09T20:49:54.939Z"
   },
   {
    "duration": 2,
    "start_time": "2023-03-09T20:49:55.004Z"
   },
   {
    "duration": 19,
    "start_time": "2023-03-09T20:49:55.008Z"
   },
   {
    "duration": 53,
    "start_time": "2023-03-09T20:49:55.030Z"
   },
   {
    "duration": 4,
    "start_time": "2023-03-09T20:49:55.085Z"
   },
   {
    "duration": 34,
    "start_time": "2023-03-09T20:49:55.092Z"
   },
   {
    "duration": 7,
    "start_time": "2023-03-09T20:49:55.128Z"
   },
   {
    "duration": 31,
    "start_time": "2023-03-09T20:49:55.137Z"
   },
   {
    "duration": 22,
    "start_time": "2023-03-09T20:49:55.177Z"
   },
   {
    "duration": 357,
    "start_time": "2023-03-09T20:49:55.201Z"
   },
   {
    "duration": 9,
    "start_time": "2023-03-09T20:49:55.560Z"
   },
   {
    "duration": 10,
    "start_time": "2023-03-09T20:49:55.579Z"
   },
   {
    "duration": 11,
    "start_time": "2023-03-09T20:49:55.591Z"
   },
   {
    "duration": 312,
    "start_time": "2023-03-09T20:49:55.604Z"
   },
   {
    "duration": 21,
    "start_time": "2023-03-09T20:49:55.918Z"
   },
   {
    "duration": 45,
    "start_time": "2023-03-09T20:49:55.941Z"
   },
   {
    "duration": 14,
    "start_time": "2023-03-09T20:49:55.988Z"
   },
   {
    "duration": 31,
    "start_time": "2023-03-09T20:50:00.103Z"
   },
   {
    "duration": 1269,
    "start_time": "2023-03-09T20:50:01.404Z"
   },
   {
    "duration": 419,
    "start_time": "2023-03-09T20:50:06.023Z"
   },
   {
    "duration": 325,
    "start_time": "2023-03-09T20:50:13.731Z"
   },
   {
    "duration": 129,
    "start_time": "2023-03-09T20:57:07.685Z"
   },
   {
    "duration": 11,
    "start_time": "2023-03-09T20:57:43.506Z"
   },
   {
    "duration": 13,
    "start_time": "2023-03-09T20:58:26.574Z"
   },
   {
    "duration": 2900,
    "start_time": "2023-03-09T21:02:13.670Z"
   },
   {
    "duration": 1872,
    "start_time": "2023-03-09T21:02:34.791Z"
   },
   {
    "duration": 3,
    "start_time": "2023-03-09T21:12:47.070Z"
   },
   {
    "duration": 1790,
    "start_time": "2023-03-09T21:13:30.680Z"
   },
   {
    "duration": 1878,
    "start_time": "2023-03-09T21:13:44.078Z"
   },
   {
    "duration": 302,
    "start_time": "2023-03-09T21:14:40.857Z"
   },
   {
    "duration": 2276,
    "start_time": "2023-03-09T21:15:07.582Z"
   },
   {
    "duration": 2,
    "start_time": "2023-03-09T21:19:40.570Z"
   },
   {
    "duration": 12,
    "start_time": "2023-03-09T21:19:59.230Z"
   },
   {
    "duration": 2356,
    "start_time": "2023-03-09T21:20:20.899Z"
   },
   {
    "duration": 27,
    "start_time": "2023-03-09T21:22:07.063Z"
   },
   {
    "duration": 6,
    "start_time": "2023-03-09T21:23:21.386Z"
   },
   {
    "duration": 3,
    "start_time": "2023-03-09T21:29:24.377Z"
   },
   {
    "duration": 20,
    "start_time": "2023-03-09T21:30:17.825Z"
   },
   {
    "duration": 3,
    "start_time": "2023-03-09T21:31:27.338Z"
   },
   {
    "duration": 12,
    "start_time": "2023-03-09T21:31:28.212Z"
   },
   {
    "duration": 4,
    "start_time": "2023-03-09T21:33:51.008Z"
   },
   {
    "duration": 4,
    "start_time": "2023-03-09T21:33:51.973Z"
   },
   {
    "duration": 153,
    "start_time": "2023-03-09T21:33:52.628Z"
   },
   {
    "duration": 3,
    "start_time": "2023-03-09T21:34:48.342Z"
   },
   {
    "duration": 44,
    "start_time": "2023-03-09T21:34:51.565Z"
   },
   {
    "duration": 4,
    "start_time": "2023-03-09T21:34:57.637Z"
   },
   {
    "duration": 4,
    "start_time": "2023-03-09T21:35:06.283Z"
   },
   {
    "duration": 3,
    "start_time": "2023-03-09T21:35:22.536Z"
   },
   {
    "duration": 970,
    "start_time": "2023-03-09T21:36:07.074Z"
   },
   {
    "duration": 6,
    "start_time": "2023-03-09T21:36:30.883Z"
   },
   {
    "duration": 3,
    "start_time": "2023-03-09T21:48:51.633Z"
   },
   {
    "duration": 1553,
    "start_time": "2023-03-09T21:49:12.704Z"
   },
   {
    "duration": 1538,
    "start_time": "2023-03-09T21:49:21.630Z"
   },
   {
    "duration": 58,
    "start_time": "2023-03-09T21:55:12.957Z"
   },
   {
    "duration": 40,
    "start_time": "2023-03-09T21:59:06.965Z"
   },
   {
    "duration": 13,
    "start_time": "2023-03-09T21:59:16.570Z"
   },
   {
    "duration": 20,
    "start_time": "2023-03-09T22:00:56.405Z"
   },
   {
    "duration": 21,
    "start_time": "2023-03-09T22:12:26.219Z"
   },
   {
    "duration": 22,
    "start_time": "2023-03-09T22:12:45.863Z"
   },
   {
    "duration": 19,
    "start_time": "2023-03-09T22:13:28.851Z"
   },
   {
    "duration": 45,
    "start_time": "2023-03-09T22:13:46.868Z"
   },
   {
    "duration": 16,
    "start_time": "2023-03-09T22:17:29.392Z"
   },
   {
    "duration": 32,
    "start_time": "2023-03-09T22:17:35.658Z"
   },
   {
    "duration": 1206,
    "start_time": "2023-03-10T07:41:02.837Z"
   },
   {
    "duration": 892,
    "start_time": "2023-03-10T07:41:04.332Z"
   },
   {
    "duration": 457,
    "start_time": "2023-03-10T07:41:08.559Z"
   },
   {
    "duration": 1882,
    "start_time": "2023-03-10T07:41:10.056Z"
   },
   {
    "duration": 26,
    "start_time": "2023-03-10T07:41:11.941Z"
   },
   {
    "duration": 8,
    "start_time": "2023-03-10T07:41:18.992Z"
   },
   {
    "duration": 3,
    "start_time": "2023-03-10T07:43:50.058Z"
   },
   {
    "duration": 8,
    "start_time": "2023-03-10T07:47:36.324Z"
   },
   {
    "duration": 5,
    "start_time": "2023-03-10T07:47:39.213Z"
   },
   {
    "duration": 1165,
    "start_time": "2023-03-10T10:42:56.106Z"
   },
   {
    "duration": 894,
    "start_time": "2023-03-10T10:43:32.719Z"
   },
   {
    "duration": 465,
    "start_time": "2023-03-10T10:43:34.580Z"
   },
   {
    "duration": 1930,
    "start_time": "2023-03-10T10:43:35.772Z"
   },
   {
    "duration": 20,
    "start_time": "2023-03-10T10:43:38.911Z"
   },
   {
    "duration": 6,
    "start_time": "2023-03-10T10:43:50.977Z"
   },
   {
    "duration": 3,
    "start_time": "2023-03-10T10:43:52.367Z"
   },
   {
    "duration": 11,
    "start_time": "2023-03-10T10:43:54.839Z"
   },
   {
    "duration": 6,
    "start_time": "2023-03-10T10:43:56.141Z"
   },
   {
    "duration": 6,
    "start_time": "2023-03-10T10:45:30.672Z"
   },
   {
    "duration": 5,
    "start_time": "2023-03-10T10:50:54.306Z"
   },
   {
    "duration": 14,
    "start_time": "2023-03-10T10:52:48.009Z"
   },
   {
    "duration": 136,
    "start_time": "2023-03-10T11:07:34.708Z"
   },
   {
    "duration": 97,
    "start_time": "2023-03-10T11:07:54.287Z"
   },
   {
    "duration": 76,
    "start_time": "2023-03-10T11:09:01.281Z"
   },
   {
    "duration": 94,
    "start_time": "2023-03-10T11:09:05.824Z"
   },
   {
    "duration": 1363,
    "start_time": "2023-03-10T11:11:09.277Z"
   },
   {
    "duration": 1604,
    "start_time": "2023-03-10T11:11:26.420Z"
   },
   {
    "duration": 26,
    "start_time": "2023-03-10T11:12:37.008Z"
   },
   {
    "duration": 12,
    "start_time": "2023-03-10T11:12:54.519Z"
   },
   {
    "duration": 1333,
    "start_time": "2023-03-10T11:13:15.577Z"
   },
   {
    "duration": 6,
    "start_time": "2023-03-10T11:13:32.185Z"
   },
   {
    "duration": 311,
    "start_time": "2023-03-10T11:13:32.193Z"
   },
   {
    "duration": 102,
    "start_time": "2023-03-10T11:13:32.506Z"
   },
   {
    "duration": 410,
    "start_time": "2023-03-10T11:13:32.610Z"
   },
   {
    "duration": 17,
    "start_time": "2023-03-10T11:13:33.022Z"
   },
   {
    "duration": 26,
    "start_time": "2023-03-10T11:13:33.041Z"
   },
   {
    "duration": 10,
    "start_time": "2023-03-10T11:13:33.075Z"
   },
   {
    "duration": 16,
    "start_time": "2023-03-10T11:13:33.086Z"
   },
   {
    "duration": 7,
    "start_time": "2023-03-10T11:13:33.104Z"
   },
   {
    "duration": 7,
    "start_time": "2023-03-10T11:13:33.113Z"
   },
   {
    "duration": 17,
    "start_time": "2023-03-10T11:13:33.123Z"
   },
   {
    "duration": 1334,
    "start_time": "2023-03-10T11:13:37.516Z"
   },
   {
    "duration": 7,
    "start_time": "2023-03-10T11:13:50.233Z"
   },
   {
    "duration": 19,
    "start_time": "2023-03-10T11:14:04.416Z"
   },
   {
    "duration": 16,
    "start_time": "2023-03-10T11:14:21.177Z"
   },
   {
    "duration": 15,
    "start_time": "2023-03-10T11:14:49.643Z"
   },
   {
    "duration": 22,
    "start_time": "2023-03-10T11:15:07.936Z"
   },
   {
    "duration": 30,
    "start_time": "2023-03-10T11:15:12.291Z"
   },
   {
    "duration": 1307,
    "start_time": "2023-03-10T11:15:36.004Z"
   },
   {
    "duration": 366,
    "start_time": "2023-03-10T11:15:37.313Z"
   },
   {
    "duration": 115,
    "start_time": "2023-03-10T11:15:37.682Z"
   },
   {
    "duration": 432,
    "start_time": "2023-03-10T11:15:37.799Z"
   },
   {
    "duration": 21,
    "start_time": "2023-03-10T11:15:38.233Z"
   },
   {
    "duration": 21,
    "start_time": "2023-03-10T11:15:38.256Z"
   },
   {
    "duration": 7,
    "start_time": "2023-03-10T11:15:38.281Z"
   },
   {
    "duration": 15,
    "start_time": "2023-03-10T11:15:38.289Z"
   },
   {
    "duration": 6,
    "start_time": "2023-03-10T11:15:38.306Z"
   },
   {
    "duration": 6,
    "start_time": "2023-03-10T11:15:38.315Z"
   },
   {
    "duration": 57,
    "start_time": "2023-03-10T11:15:38.323Z"
   },
   {
    "duration": 12,
    "start_time": "2023-03-10T11:15:38.382Z"
   },
   {
    "duration": 17,
    "start_time": "2023-03-10T11:15:43.787Z"
   },
   {
    "duration": 25,
    "start_time": "2023-03-10T11:15:46.796Z"
   },
   {
    "duration": 21,
    "start_time": "2023-03-10T11:17:15.412Z"
   },
   {
    "duration": 28,
    "start_time": "2023-03-10T11:19:12.821Z"
   },
   {
    "duration": 5,
    "start_time": "2023-03-10T11:19:14.398Z"
   },
   {
    "duration": 124,
    "start_time": "2023-03-10T11:19:15.160Z"
   },
   {
    "duration": 1287,
    "start_time": "2023-03-10T11:21:21.621Z"
   },
   {
    "duration": 342,
    "start_time": "2023-03-10T11:21:22.910Z"
   },
   {
    "duration": 130,
    "start_time": "2023-03-10T11:21:23.254Z"
   },
   {
    "duration": 392,
    "start_time": "2023-03-10T11:21:23.386Z"
   },
   {
    "duration": 19,
    "start_time": "2023-03-10T11:21:23.781Z"
   },
   {
    "duration": 6,
    "start_time": "2023-03-10T11:21:23.802Z"
   },
   {
    "duration": 17,
    "start_time": "2023-03-10T11:21:23.809Z"
   },
   {
    "duration": 10,
    "start_time": "2023-03-10T11:21:23.828Z"
   },
   {
    "duration": 35,
    "start_time": "2023-03-10T11:21:23.840Z"
   },
   {
    "duration": 11,
    "start_time": "2023-03-10T11:21:23.876Z"
   },
   {
    "duration": 19,
    "start_time": "2023-03-10T11:21:23.889Z"
   },
   {
    "duration": 7,
    "start_time": "2023-03-10T11:21:33.777Z"
   },
   {
    "duration": 34,
    "start_time": "2023-03-10T11:22:59.565Z"
   },
   {
    "duration": 5,
    "start_time": "2023-03-10T11:23:08.810Z"
   },
   {
    "duration": 21,
    "start_time": "2023-03-10T11:23:13.454Z"
   },
   {
    "duration": 1376,
    "start_time": "2023-03-10T11:26:50.095Z"
   },
   {
    "duration": 3,
    "start_time": "2023-03-10T11:27:20.514Z"
   },
   {
    "duration": 2,
    "start_time": "2023-03-10T11:27:24.311Z"
   },
   {
    "duration": 3,
    "start_time": "2023-03-10T11:27:28.524Z"
   },
   {
    "duration": 2,
    "start_time": "2023-03-10T11:27:33.387Z"
   },
   {
    "duration": 3,
    "start_time": "2023-03-10T11:27:43.415Z"
   },
   {
    "duration": 1205,
    "start_time": "2023-03-10T11:31:48.025Z"
   },
   {
    "duration": 320,
    "start_time": "2023-03-10T11:31:49.232Z"
   },
   {
    "duration": 98,
    "start_time": "2023-03-10T11:31:49.554Z"
   },
   {
    "duration": 396,
    "start_time": "2023-03-10T11:31:49.654Z"
   },
   {
    "duration": 25,
    "start_time": "2023-03-10T11:31:50.053Z"
   },
   {
    "duration": 6,
    "start_time": "2023-03-10T11:31:50.080Z"
   },
   {
    "duration": 14,
    "start_time": "2023-03-10T11:31:50.088Z"
   },
   {
    "duration": 17,
    "start_time": "2023-03-10T11:31:50.104Z"
   },
   {
    "duration": 6,
    "start_time": "2023-03-10T11:31:50.123Z"
   },
   {
    "duration": 12,
    "start_time": "2023-03-10T11:31:50.130Z"
   },
   {
    "duration": 16,
    "start_time": "2023-03-10T11:31:53.453Z"
   },
   {
    "duration": 21,
    "start_time": "2023-03-10T11:32:34.844Z"
   },
   {
    "duration": 31,
    "start_time": "2023-03-10T11:32:49.792Z"
   },
   {
    "duration": 30,
    "start_time": "2023-03-10T11:33:05.246Z"
   },
   {
    "duration": 28,
    "start_time": "2023-03-10T11:33:37.563Z"
   },
   {
    "duration": 32,
    "start_time": "2023-03-10T11:33:57.365Z"
   },
   {
    "duration": 12,
    "start_time": "2023-03-10T11:34:51.883Z"
   },
   {
    "duration": 31,
    "start_time": "2023-03-10T11:34:54.143Z"
   },
   {
    "duration": 16,
    "start_time": "2023-03-10T11:35:06.214Z"
   },
   {
    "duration": 9,
    "start_time": "2023-03-10T11:35:17.041Z"
   },
   {
    "duration": 16,
    "start_time": "2023-03-10T11:37:12.644Z"
   },
   {
    "duration": 4,
    "start_time": "2023-03-10T11:39:52.000Z"
   },
   {
    "duration": 14,
    "start_time": "2023-03-10T11:40:05.310Z"
   },
   {
    "duration": 12,
    "start_time": "2023-03-10T11:42:49.421Z"
   },
   {
    "duration": 13,
    "start_time": "2023-03-10T11:44:41.494Z"
   },
   {
    "duration": 560,
    "start_time": "2023-03-10T11:47:33.013Z"
   },
   {
    "duration": 11,
    "start_time": "2023-03-10T11:47:49.085Z"
   },
   {
    "duration": 12,
    "start_time": "2023-03-10T11:48:02.361Z"
   },
   {
    "duration": 134,
    "start_time": "2023-03-10T11:48:28.317Z"
   },
   {
    "duration": 3,
    "start_time": "2023-03-10T11:49:03.766Z"
   },
   {
    "duration": 212,
    "start_time": "2023-03-10T11:49:07.137Z"
   },
   {
    "duration": 282,
    "start_time": "2023-03-10T11:50:25.108Z"
   },
   {
    "duration": 360,
    "start_time": "2023-03-10T11:51:09.652Z"
   },
   {
    "duration": 7,
    "start_time": "2023-03-10T11:51:44.110Z"
   },
   {
    "duration": 251,
    "start_time": "2023-03-10T11:51:50.313Z"
   },
   {
    "duration": 200,
    "start_time": "2023-03-10T11:51:58.925Z"
   },
   {
    "duration": 223,
    "start_time": "2023-03-10T11:52:09.216Z"
   },
   {
    "duration": 196,
    "start_time": "2023-03-10T11:52:13.110Z"
   },
   {
    "duration": 202,
    "start_time": "2023-03-10T11:52:23.325Z"
   },
   {
    "duration": 12,
    "start_time": "2023-03-10T11:52:58.600Z"
   },
   {
    "duration": 10,
    "start_time": "2023-03-10T11:53:25.108Z"
   },
   {
    "duration": 17,
    "start_time": "2023-03-10T11:55:53.308Z"
   },
   {
    "duration": 27,
    "start_time": "2023-03-10T11:56:29.269Z"
   },
   {
    "duration": 29,
    "start_time": "2023-03-10T11:57:01.219Z"
   },
   {
    "duration": 17,
    "start_time": "2023-03-10T11:57:47.467Z"
   },
   {
    "duration": 32,
    "start_time": "2023-03-10T11:59:42.066Z"
   },
   {
    "duration": 41,
    "start_time": "2023-03-10T12:00:07.091Z"
   },
   {
    "duration": 6,
    "start_time": "2023-03-10T12:04:04.143Z"
   },
   {
    "duration": 29,
    "start_time": "2023-03-10T12:05:33.773Z"
   },
   {
    "duration": 5,
    "start_time": "2023-03-10T12:05:45.536Z"
   },
   {
    "duration": 21,
    "start_time": "2023-03-10T12:05:50.193Z"
   },
   {
    "duration": 4,
    "start_time": "2023-03-10T12:07:07.769Z"
   },
   {
    "duration": 33,
    "start_time": "2023-03-10T12:10:14.541Z"
   },
   {
    "duration": 28,
    "start_time": "2023-03-10T12:10:33.483Z"
   },
   {
    "duration": 29,
    "start_time": "2023-03-10T12:10:50.492Z"
   },
   {
    "duration": 240,
    "start_time": "2023-03-10T12:11:24.424Z"
   },
   {
    "duration": 11,
    "start_time": "2023-03-10T12:11:26.496Z"
   },
   {
    "duration": 4,
    "start_time": "2023-03-10T12:11:32.276Z"
   },
   {
    "duration": 42,
    "start_time": "2023-03-10T12:11:35.136Z"
   },
   {
    "duration": 1742,
    "start_time": "2023-03-10T12:11:35.627Z"
   },
   {
    "duration": 203,
    "start_time": "2023-03-10T12:11:43.662Z"
   },
   {
    "duration": 1227,
    "start_time": "2023-03-10T12:11:44.838Z"
   },
   {
    "duration": 1497,
    "start_time": "2023-03-10T12:11:56.275Z"
   },
   {
    "duration": 1687,
    "start_time": "2023-03-10T12:12:40.382Z"
   },
   {
    "duration": 1383,
    "start_time": "2023-03-10T12:12:45.180Z"
   },
   {
    "duration": 14,
    "start_time": "2023-03-10T12:13:53.986Z"
   },
   {
    "duration": 4,
    "start_time": "2023-03-10T12:13:58.775Z"
   },
   {
    "duration": 3,
    "start_time": "2023-03-10T12:13:59.724Z"
   },
   {
    "duration": 115,
    "start_time": "2023-03-10T12:14:00.671Z"
   },
   {
    "duration": 3,
    "start_time": "2023-03-10T12:14:18.879Z"
   },
   {
    "duration": 13,
    "start_time": "2023-03-10T12:17:40.195Z"
   },
   {
    "duration": 135,
    "start_time": "2023-03-10T12:18:45.730Z"
   },
   {
    "duration": 169,
    "start_time": "2023-03-10T12:18:53.196Z"
   },
   {
    "duration": 28,
    "start_time": "2023-03-10T12:19:33.796Z"
   },
   {
    "duration": 163,
    "start_time": "2023-03-10T12:20:01.506Z"
   },
   {
    "duration": 8,
    "start_time": "2023-03-10T12:22:10.683Z"
   },
   {
    "duration": 31,
    "start_time": "2023-03-10T12:24:26.167Z"
   },
   {
    "duration": 12,
    "start_time": "2023-03-10T12:24:40.194Z"
   },
   {
    "duration": 21,
    "start_time": "2023-03-10T12:25:24.409Z"
   },
   {
    "duration": 11,
    "start_time": "2023-03-10T12:25:27.934Z"
   },
   {
    "duration": 11,
    "start_time": "2023-03-10T12:27:15.539Z"
   },
   {
    "duration": 13,
    "start_time": "2023-03-10T12:27:23.314Z"
   },
   {
    "duration": 14,
    "start_time": "2023-03-10T12:27:32.184Z"
   },
   {
    "duration": 15,
    "start_time": "2023-03-10T12:27:43.271Z"
   },
   {
    "duration": 196,
    "start_time": "2023-03-10T12:27:51.469Z"
   },
   {
    "duration": 1756,
    "start_time": "2023-03-10T12:27:53.621Z"
   },
   {
    "duration": 167,
    "start_time": "2023-03-10T12:28:08.200Z"
   },
   {
    "duration": 32,
    "start_time": "2023-03-10T12:28:27.360Z"
   },
   {
    "duration": 3,
    "start_time": "2023-03-10T12:28:33.921Z"
   },
   {
    "duration": 104,
    "start_time": "2023-03-10T12:28:34.668Z"
   },
   {
    "duration": 1728,
    "start_time": "2023-03-10T12:28:36.047Z"
   },
   {
    "duration": 181,
    "start_time": "2023-03-10T12:28:38.585Z"
   },
   {
    "duration": 1496,
    "start_time": "2023-03-10T12:28:39.488Z"
   },
   {
    "duration": 324,
    "start_time": "2023-03-10T12:28:50.942Z"
   },
   {
    "duration": 1677,
    "start_time": "2023-03-10T12:28:51.996Z"
   },
   {
    "duration": 26,
    "start_time": "2023-03-10T12:29:23.413Z"
   },
   {
    "duration": 24,
    "start_time": "2023-03-10T12:30:47.684Z"
   },
   {
    "duration": 16,
    "start_time": "2023-03-10T12:31:27.299Z"
   },
   {
    "duration": 19,
    "start_time": "2023-03-10T12:31:36.194Z"
   },
   {
    "duration": 1854,
    "start_time": "2023-03-10T14:10:41.805Z"
   },
   {
    "duration": 1063,
    "start_time": "2023-03-10T14:10:43.662Z"
   },
   {
    "duration": 522,
    "start_time": "2023-03-10T14:10:44.727Z"
   },
   {
    "duration": 2315,
    "start_time": "2023-03-10T14:10:45.252Z"
   },
   {
    "duration": 23,
    "start_time": "2023-03-10T14:10:47.581Z"
   },
   {
    "duration": 8,
    "start_time": "2023-03-10T14:10:47.606Z"
   },
   {
    "duration": 21,
    "start_time": "2023-03-10T14:10:47.616Z"
   },
   {
    "duration": 21,
    "start_time": "2023-03-10T14:10:47.639Z"
   },
   {
    "duration": 35,
    "start_time": "2023-03-10T14:10:47.661Z"
   },
   {
    "duration": 8,
    "start_time": "2023-03-10T14:10:47.698Z"
   },
   {
    "duration": 33,
    "start_time": "2023-03-10T14:10:47.708Z"
   },
   {
    "duration": 21,
    "start_time": "2023-03-10T14:10:47.743Z"
   },
   {
    "duration": 60,
    "start_time": "2023-03-10T14:10:47.768Z"
   },
   {
    "duration": 25,
    "start_time": "2023-03-10T14:10:47.831Z"
   },
   {
    "duration": 60,
    "start_time": "2023-03-10T14:10:47.858Z"
   },
   {
    "duration": 12,
    "start_time": "2023-03-10T14:10:47.920Z"
   },
   {
    "duration": 10,
    "start_time": "2023-03-10T14:10:47.934Z"
   },
   {
    "duration": 41,
    "start_time": "2023-03-10T14:10:47.945Z"
   },
   {
    "duration": 33,
    "start_time": "2023-03-10T14:10:47.991Z"
   },
   {
    "duration": 24,
    "start_time": "2023-03-10T14:10:48.026Z"
   },
   {
    "duration": 34,
    "start_time": "2023-03-10T14:10:48.051Z"
   },
   {
    "duration": 20,
    "start_time": "2023-03-10T14:10:48.089Z"
   },
   {
    "duration": 24,
    "start_time": "2023-03-10T14:10:48.111Z"
   },
   {
    "duration": 274,
    "start_time": "2023-03-10T14:10:48.136Z"
   },
   {
    "duration": 235,
    "start_time": "2023-03-10T14:10:48.412Z"
   },
   {
    "duration": 21,
    "start_time": "2023-03-10T14:10:48.649Z"
   },
   {
    "duration": 56,
    "start_time": "2023-03-10T14:10:48.672Z"
   },
   {
    "duration": 64,
    "start_time": "2023-03-10T14:10:48.730Z"
   },
   {
    "duration": 4,
    "start_time": "2023-03-10T14:10:48.796Z"
   },
   {
    "duration": 15,
    "start_time": "2023-03-10T14:10:48.801Z"
   },
   {
    "duration": 11,
    "start_time": "2023-03-10T14:10:48.818Z"
   },
   {
    "duration": 50,
    "start_time": "2023-03-10T14:10:48.831Z"
   },
   {
    "duration": 5,
    "start_time": "2023-03-10T14:10:48.889Z"
   },
   {
    "duration": 28,
    "start_time": "2023-03-10T14:10:48.896Z"
   },
   {
    "duration": 3,
    "start_time": "2023-03-10T14:10:48.925Z"
   },
   {
    "duration": 40,
    "start_time": "2023-03-10T14:10:48.930Z"
   },
   {
    "duration": 41,
    "start_time": "2023-03-10T14:10:48.972Z"
   },
   {
    "duration": 2,
    "start_time": "2023-03-10T14:10:49.015Z"
   },
   {
    "duration": 1055,
    "start_time": "2023-03-10T14:10:49.019Z"
   },
   {
    "duration": 3407,
    "start_time": "2023-03-10T14:10:50.076Z"
   },
   {
    "duration": 1493,
    "start_time": "2023-03-10T14:10:53.490Z"
   },
   {
    "duration": 2089,
    "start_time": "2023-03-10T14:10:58.881Z"
   },
   {
    "duration": 152,
    "start_time": "2023-03-10T14:11:02.391Z"
   },
   {
    "duration": 115,
    "start_time": "2023-03-10T14:30:54.431Z"
   },
   {
    "duration": 10,
    "start_time": "2023-03-10T14:31:00.146Z"
   },
   {
    "duration": 5,
    "start_time": "2023-03-10T14:31:20.116Z"
   },
   {
    "duration": 16,
    "start_time": "2023-03-10T14:31:26.885Z"
   },
   {
    "duration": 1220,
    "start_time": "2023-03-10T14:31:35.527Z"
   },
   {
    "duration": 1207,
    "start_time": "2023-03-10T14:31:41.933Z"
   },
   {
    "duration": 452,
    "start_time": "2023-03-10T14:36:01.907Z"
   },
   {
    "duration": 453,
    "start_time": "2023-03-10T14:37:28.122Z"
   },
   {
    "duration": 5872,
    "start_time": "2023-03-10T14:37:36.814Z"
   },
   {
    "duration": 1700,
    "start_time": "2023-03-10T15:43:39.465Z"
   },
   {
    "duration": 346,
    "start_time": "2023-03-10T15:43:41.168Z"
   },
   {
    "duration": 105,
    "start_time": "2023-03-10T15:43:41.517Z"
   },
   {
    "duration": 423,
    "start_time": "2023-03-10T15:43:41.624Z"
   },
   {
    "duration": 26,
    "start_time": "2023-03-10T15:43:42.049Z"
   },
   {
    "duration": 6,
    "start_time": "2023-03-10T15:43:42.077Z"
   },
   {
    "duration": 6,
    "start_time": "2023-03-10T15:43:42.085Z"
   },
   {
    "duration": 15,
    "start_time": "2023-03-10T15:43:42.092Z"
   },
   {
    "duration": 6,
    "start_time": "2023-03-10T15:43:42.110Z"
   },
   {
    "duration": 47,
    "start_time": "2023-03-10T15:43:42.118Z"
   },
   {
    "duration": 25,
    "start_time": "2023-03-10T15:43:42.167Z"
   },
   {
    "duration": 23,
    "start_time": "2023-03-10T15:43:42.194Z"
   },
   {
    "duration": 51,
    "start_time": "2023-03-10T15:43:42.220Z"
   },
   {
    "duration": 40,
    "start_time": "2023-03-10T15:43:42.276Z"
   },
   {
    "duration": 60,
    "start_time": "2023-03-10T15:43:42.318Z"
   },
   {
    "duration": 13,
    "start_time": "2023-03-10T15:43:42.380Z"
   },
   {
    "duration": 10,
    "start_time": "2023-03-10T15:43:42.395Z"
   },
   {
    "duration": 18,
    "start_time": "2023-03-10T15:43:42.407Z"
   },
   {
    "duration": 46,
    "start_time": "2023-03-10T15:43:42.428Z"
   },
   {
    "duration": 21,
    "start_time": "2023-03-10T15:43:42.476Z"
   },
   {
    "duration": 19,
    "start_time": "2023-03-10T15:43:42.500Z"
   },
   {
    "duration": 19,
    "start_time": "2023-03-10T15:43:42.521Z"
   },
   {
    "duration": 12,
    "start_time": "2023-03-10T15:43:42.565Z"
   },
   {
    "duration": 255,
    "start_time": "2023-03-10T15:43:42.579Z"
   },
   {
    "duration": 222,
    "start_time": "2023-03-10T15:43:42.837Z"
   },
   {
    "duration": 19,
    "start_time": "2023-03-10T15:43:43.061Z"
   },
   {
    "duration": 35,
    "start_time": "2023-03-10T15:43:43.083Z"
   },
   {
    "duration": 88,
    "start_time": "2023-03-10T15:43:43.120Z"
   },
   {
    "duration": 5,
    "start_time": "2023-03-10T15:43:43.211Z"
   },
   {
    "duration": 15,
    "start_time": "2023-03-10T15:43:43.218Z"
   },
   {
    "duration": 33,
    "start_time": "2023-03-10T15:43:43.236Z"
   },
   {
    "duration": 40,
    "start_time": "2023-03-10T15:43:43.271Z"
   },
   {
    "duration": 6,
    "start_time": "2023-03-10T15:43:43.314Z"
   },
   {
    "duration": 52,
    "start_time": "2023-03-10T15:43:43.322Z"
   },
   {
    "duration": 4,
    "start_time": "2023-03-10T15:43:43.375Z"
   },
   {
    "duration": 32,
    "start_time": "2023-03-10T15:43:43.381Z"
   },
   {
    "duration": 56,
    "start_time": "2023-03-10T15:43:43.415Z"
   },
   {
    "duration": 4,
    "start_time": "2023-03-10T15:43:43.474Z"
   },
   {
    "duration": 189,
    "start_time": "2023-03-10T15:43:43.480Z"
   },
   {
    "duration": 1891,
    "start_time": "2023-03-10T15:43:43.673Z"
   },
   {
    "duration": 512,
    "start_time": "2023-03-10T15:43:45.576Z"
   },
   {
    "duration": 1899,
    "start_time": "2023-03-10T15:43:46.164Z"
   },
   {
    "duration": 215,
    "start_time": "2023-03-10T15:43:48.065Z"
   },
   {
    "duration": 1236,
    "start_time": "2023-03-10T15:43:59.060Z"
   },
   {
    "duration": 423,
    "start_time": "2023-03-10T15:44:29.051Z"
   },
   {
    "duration": 437,
    "start_time": "2023-03-10T15:45:20.359Z"
   },
   {
    "duration": 2241,
    "start_time": "2023-03-10T15:45:47.447Z"
   },
   {
    "duration": 2131,
    "start_time": "2023-03-10T15:46:08.034Z"
   },
   {
    "duration": 767,
    "start_time": "2023-03-10T15:46:35.042Z"
   },
   {
    "duration": 1164,
    "start_time": "2023-03-10T15:46:39.348Z"
   },
   {
    "duration": 447,
    "start_time": "2023-03-10T15:46:44.187Z"
   },
   {
    "duration": 418,
    "start_time": "2023-03-10T15:47:42.029Z"
   },
   {
    "duration": 794,
    "start_time": "2023-03-10T15:47:49.882Z"
   },
   {
    "duration": 1111,
    "start_time": "2023-03-10T15:47:53.581Z"
   },
   {
    "duration": 1415,
    "start_time": "2023-03-10T15:47:57.937Z"
   },
   {
    "duration": 1723,
    "start_time": "2023-03-10T15:48:02.339Z"
   },
   {
    "duration": 1475,
    "start_time": "2023-03-10T15:48:06.923Z"
   },
   {
    "duration": 799,
    "start_time": "2023-03-10T15:48:45.433Z"
   },
   {
    "duration": 597,
    "start_time": "2023-03-10T15:48:51.278Z"
   },
   {
    "duration": 750,
    "start_time": "2023-03-10T15:48:55.243Z"
   },
   {
    "duration": 924,
    "start_time": "2023-03-10T15:48:58.256Z"
   },
   {
    "duration": 803,
    "start_time": "2023-03-10T15:49:02.022Z"
   },
   {
    "duration": 242,
    "start_time": "2023-03-10T15:49:17.596Z"
   },
   {
    "duration": 469,
    "start_time": "2023-03-10T15:49:22.690Z"
   },
   {
    "duration": 648,
    "start_time": "2023-03-10T15:49:25.650Z"
   },
   {
    "duration": 412,
    "start_time": "2023-03-10T15:49:28.796Z"
   },
   {
    "duration": 81,
    "start_time": "2023-03-10T15:52:23.997Z"
   },
   {
    "duration": 9455,
    "start_time": "2023-03-10T15:52:46.828Z"
   },
   {
    "duration": 9833,
    "start_time": "2023-03-10T15:53:38.039Z"
   },
   {
    "duration": 10017,
    "start_time": "2023-03-10T15:57:12.961Z"
   },
   {
    "duration": 9829,
    "start_time": "2023-03-10T15:58:11.406Z"
   },
   {
    "duration": 9652,
    "start_time": "2023-03-10T15:59:04.328Z"
   },
   {
    "duration": 9994,
    "start_time": "2023-03-10T15:59:39.106Z"
   },
   {
    "duration": 5,
    "start_time": "2023-03-10T16:01:14.147Z"
   },
   {
    "duration": 90759,
    "start_time": "2023-03-10T16:06:13.585Z"
   },
   {
    "duration": 4072,
    "start_time": "2023-03-10T16:08:32.529Z"
   },
   {
    "duration": 4239,
    "start_time": "2023-03-10T16:08:43.011Z"
   },
   {
    "duration": 3,
    "start_time": "2023-03-10T16:08:54.126Z"
   },
   {
    "duration": 4,
    "start_time": "2023-03-10T16:08:54.943Z"
   },
   {
    "duration": 613202,
    "start_time": "2023-03-10T16:08:55.640Z"
   },
   {
    "duration": 0,
    "start_time": "2023-03-10T16:19:08.845Z"
   },
   {
    "duration": 69538,
    "start_time": "2023-03-10T16:19:51.480Z"
   },
   {
    "duration": 83846,
    "start_time": "2023-03-10T16:21:04.792Z"
   },
   {
    "duration": 261140,
    "start_time": "2023-03-10T16:22:33.394Z"
   },
   {
    "duration": 22628,
    "start_time": "2023-03-10T16:27:37.488Z"
   },
   {
    "duration": 3,
    "start_time": "2023-03-10T16:29:02.691Z"
   },
   {
    "duration": 14,
    "start_time": "2023-03-10T16:29:03.259Z"
   },
   {
    "duration": 17,
    "start_time": "2023-03-10T16:29:13.261Z"
   },
   {
    "duration": 79,
    "start_time": "2023-03-10T16:29:55.334Z"
   },
   {
    "duration": 3,
    "start_time": "2023-03-10T16:30:05.040Z"
   },
   {
    "duration": 399,
    "start_time": "2023-03-10T16:30:27.984Z"
   },
   {
    "duration": 11,
    "start_time": "2023-03-10T16:30:51.764Z"
   },
   {
    "duration": 13,
    "start_time": "2023-03-10T16:30:53.301Z"
   },
   {
    "duration": 3,
    "start_time": "2023-03-10T16:32:11.260Z"
   },
   {
    "duration": 10008,
    "start_time": "2023-03-10T16:32:12.014Z"
   },
   {
    "duration": 23177,
    "start_time": "2023-03-10T16:39:26.581Z"
   },
   {
    "duration": 407,
    "start_time": "2023-03-10T16:40:33.163Z"
   },
   {
    "duration": 412,
    "start_time": "2023-03-10T16:40:49.961Z"
   },
   {
    "duration": 496,
    "start_time": "2023-03-10T16:41:11.470Z"
   },
   {
    "duration": 9298,
    "start_time": "2023-03-10T16:47:32.535Z"
   },
   {
    "duration": 11459,
    "start_time": "2023-03-10T17:01:39.402Z"
   },
   {
    "duration": 9,
    "start_time": "2023-03-10T17:02:53.901Z"
   },
   {
    "duration": 4821,
    "start_time": "2023-03-10T17:04:33.807Z"
   },
   {
    "duration": 438,
    "start_time": "2023-03-10T17:04:44.499Z"
   },
   {
    "duration": 2896,
    "start_time": "2023-03-10T17:04:45.915Z"
   },
   {
    "duration": 556,
    "start_time": "2023-03-10T17:06:45.637Z"
   },
   {
    "duration": 79,
    "start_time": "2023-03-10T17:06:49.332Z"
   },
   {
    "duration": 2169,
    "start_time": "2023-03-10T17:06:54.311Z"
   },
   {
    "duration": 11282,
    "start_time": "2023-03-10T17:11:54.104Z"
   },
   {
    "duration": 9968,
    "start_time": "2023-03-10T17:12:58.688Z"
   },
   {
    "duration": 20940,
    "start_time": "2023-03-10T17:17:27.876Z"
   },
   {
    "duration": 20564,
    "start_time": "2023-03-10T17:17:58.919Z"
   },
   {
    "duration": 11,
    "start_time": "2023-03-10T17:20:33.508Z"
   },
   {
    "duration": 36,
    "start_time": "2023-03-10T17:20:48.949Z"
   },
   {
    "duration": 1231,
    "start_time": "2023-03-10T17:20:49.744Z"
   },
   {
    "duration": 30,
    "start_time": "2023-03-10T17:20:52.638Z"
   },
   {
    "duration": 1514,
    "start_time": "2023-03-10T17:20:53.457Z"
   },
   {
    "duration": 6,
    "start_time": "2023-03-10T17:20:58.446Z"
   },
   {
    "duration": 5,
    "start_time": "2023-03-10T17:21:05.077Z"
   },
   {
    "duration": 6,
    "start_time": "2023-03-10T17:21:14.603Z"
   },
   {
    "duration": 9,
    "start_time": "2023-03-10T17:23:19.908Z"
   },
   {
    "duration": 10,
    "start_time": "2023-03-10T17:23:31.699Z"
   },
   {
    "duration": 4,
    "start_time": "2023-03-10T17:23:39.881Z"
   },
   {
    "duration": 3,
    "start_time": "2023-03-10T17:23:43.843Z"
   },
   {
    "duration": 4,
    "start_time": "2023-03-10T17:24:12.944Z"
   },
   {
    "duration": 7,
    "start_time": "2023-03-10T17:27:13.535Z"
   },
   {
    "duration": 1527,
    "start_time": "2023-03-10T17:29:06.236Z"
   },
   {
    "duration": 323,
    "start_time": "2023-03-10T17:29:07.765Z"
   },
   {
    "duration": 99,
    "start_time": "2023-03-10T17:29:08.089Z"
   },
   {
    "duration": 394,
    "start_time": "2023-03-10T17:29:08.189Z"
   },
   {
    "duration": 22,
    "start_time": "2023-03-10T17:29:08.587Z"
   },
   {
    "duration": 7,
    "start_time": "2023-03-10T17:29:08.612Z"
   },
   {
    "duration": 3,
    "start_time": "2023-03-10T17:29:08.621Z"
   },
   {
    "duration": 39,
    "start_time": "2023-03-10T17:29:08.626Z"
   },
   {
    "duration": 5,
    "start_time": "2023-03-10T17:29:08.667Z"
   },
   {
    "duration": 8,
    "start_time": "2023-03-10T17:29:08.674Z"
   },
   {
    "duration": 20,
    "start_time": "2023-03-10T17:29:08.684Z"
   },
   {
    "duration": 20,
    "start_time": "2023-03-10T17:29:08.706Z"
   },
   {
    "duration": 59,
    "start_time": "2023-03-10T17:29:08.728Z"
   },
   {
    "duration": 25,
    "start_time": "2023-03-10T17:29:08.790Z"
   },
   {
    "duration": 49,
    "start_time": "2023-03-10T17:29:08.816Z"
   },
   {
    "duration": 11,
    "start_time": "2023-03-10T17:29:08.867Z"
   },
   {
    "duration": 10,
    "start_time": "2023-03-10T17:29:08.879Z"
   },
   {
    "duration": 16,
    "start_time": "2023-03-10T17:29:08.890Z"
   },
   {
    "duration": 19,
    "start_time": "2023-03-10T17:29:08.907Z"
   },
   {
    "duration": 40,
    "start_time": "2023-03-10T17:29:08.928Z"
   },
   {
    "duration": 16,
    "start_time": "2023-03-10T17:29:08.970Z"
   },
   {
    "duration": 10,
    "start_time": "2023-03-10T17:29:08.988Z"
   },
   {
    "duration": 9,
    "start_time": "2023-03-10T17:29:09.000Z"
   },
   {
    "duration": 239,
    "start_time": "2023-03-10T17:29:09.011Z"
   },
   {
    "duration": 205,
    "start_time": "2023-03-10T17:29:09.251Z"
   },
   {
    "duration": 21,
    "start_time": "2023-03-10T17:29:09.457Z"
   },
   {
    "duration": 33,
    "start_time": "2023-03-10T17:29:09.480Z"
   },
   {
    "duration": 70,
    "start_time": "2023-03-10T17:29:09.515Z"
   },
   {
    "duration": 3,
    "start_time": "2023-03-10T17:29:09.587Z"
   },
   {
    "duration": 21,
    "start_time": "2023-03-10T17:29:09.592Z"
   },
   {
    "duration": 11,
    "start_time": "2023-03-10T17:29:09.615Z"
   },
   {
    "duration": 37,
    "start_time": "2023-03-10T17:29:09.628Z"
   },
   {
    "duration": 4,
    "start_time": "2023-03-10T17:29:09.667Z"
   },
   {
    "duration": 22,
    "start_time": "2023-03-10T17:29:09.673Z"
   },
   {
    "duration": 3,
    "start_time": "2023-03-10T17:29:09.697Z"
   },
   {
    "duration": 10,
    "start_time": "2023-03-10T17:29:09.701Z"
   },
   {
    "duration": 30,
    "start_time": "2023-03-10T17:29:09.713Z"
   },
   {
    "duration": 43,
    "start_time": "2023-03-10T17:29:09.745Z"
   },
   {
    "duration": 3,
    "start_time": "2023-03-10T17:29:09.789Z"
   },
   {
    "duration": 271,
    "start_time": "2023-03-10T17:29:09.794Z"
   },
   {
    "duration": 1494,
    "start_time": "2023-03-10T17:29:10.072Z"
   },
   {
    "duration": 296,
    "start_time": "2023-03-10T17:29:11.569Z"
   },
   {
    "duration": 1399,
    "start_time": "2023-03-10T17:29:11.867Z"
   },
   {
    "duration": 9307,
    "start_time": "2023-03-10T17:29:13.268Z"
   },
   {
    "duration": 9389,
    "start_time": "2023-03-10T17:29:22.577Z"
   },
   {
    "duration": 2,
    "start_time": "2023-03-10T17:29:31.968Z"
   },
   {
    "duration": 12,
    "start_time": "2023-03-10T17:29:31.971Z"
   },
   {
    "duration": 240440,
    "start_time": "2023-03-10T17:29:31.985Z"
   },
   {
    "duration": 20568,
    "start_time": "2023-03-10T17:33:32.427Z"
   },
   {
    "duration": 20829,
    "start_time": "2023-03-10T17:33:52.997Z"
   },
   {
    "duration": 6,
    "start_time": "2023-03-10T17:34:13.828Z"
   },
   {
    "duration": 13,
    "start_time": "2023-03-10T17:34:13.836Z"
   },
   {
    "duration": 22,
    "start_time": "2023-03-10T17:34:13.851Z"
   },
   {
    "duration": 5509,
    "start_time": "2023-03-11T15:57:43.147Z"
   },
   {
    "duration": 2208,
    "start_time": "2023-03-11T15:57:48.659Z"
   },
   {
    "duration": 390,
    "start_time": "2023-03-11T15:57:50.869Z"
   },
   {
    "duration": 2782,
    "start_time": "2023-03-11T15:57:51.265Z"
   },
   {
    "duration": 192,
    "start_time": "2023-03-11T15:57:54.054Z"
   },
   {
    "duration": 12,
    "start_time": "2023-03-11T15:57:54.249Z"
   },
   {
    "duration": 87,
    "start_time": "2023-03-11T15:57:54.264Z"
   },
   {
    "duration": 189,
    "start_time": "2023-03-11T15:57:54.354Z"
   },
   {
    "duration": 12,
    "start_time": "2023-03-11T15:57:54.547Z"
   },
   {
    "duration": 86,
    "start_time": "2023-03-11T15:57:54.562Z"
   },
   {
    "duration": 112,
    "start_time": "2023-03-11T15:57:54.651Z"
   },
   {
    "duration": 218,
    "start_time": "2023-03-11T15:57:54.841Z"
   },
   {
    "duration": 402,
    "start_time": "2023-03-11T15:57:55.061Z"
   },
   {
    "duration": 182,
    "start_time": "2023-03-11T15:57:55.467Z"
   },
   {
    "duration": 316,
    "start_time": "2023-03-11T15:57:55.651Z"
   },
   {
    "duration": 21,
    "start_time": "2023-03-11T15:57:56.042Z"
   },
   {
    "duration": 103,
    "start_time": "2023-03-11T15:57:56.142Z"
   },
   {
    "duration": 115,
    "start_time": "2023-03-11T15:57:56.248Z"
   },
   {
    "duration": 114,
    "start_time": "2023-03-11T15:57:56.442Z"
   },
   {
    "duration": 185,
    "start_time": "2023-03-11T15:57:56.559Z"
   },
   {
    "duration": 99,
    "start_time": "2023-03-11T15:57:56.747Z"
   },
   {
    "duration": 15,
    "start_time": "2023-03-11T15:57:56.851Z"
   },
   {
    "duration": 174,
    "start_time": "2023-03-11T15:57:56.868Z"
   },
   {
    "duration": 2402,
    "start_time": "2023-03-11T15:57:57.044Z"
   },
   {
    "duration": 1892,
    "start_time": "2023-03-11T15:57:59.459Z"
   },
   {
    "duration": 110,
    "start_time": "2023-03-11T15:58:01.357Z"
   },
   {
    "duration": 303,
    "start_time": "2023-03-11T15:58:01.745Z"
   },
   {
    "duration": 406,
    "start_time": "2023-03-11T15:58:02.051Z"
   },
   {
    "duration": 84,
    "start_time": "2023-03-11T15:58:02.459Z"
   },
   {
    "duration": 97,
    "start_time": "2023-03-11T15:58:02.546Z"
   },
   {
    "duration": 200,
    "start_time": "2023-03-11T15:58:02.650Z"
   },
   {
    "duration": 292,
    "start_time": "2023-03-11T15:58:02.852Z"
   },
   {
    "duration": 98,
    "start_time": "2023-03-11T15:58:03.146Z"
   },
   {
    "duration": 295,
    "start_time": "2023-03-11T15:58:03.247Z"
   },
   {
    "duration": 6,
    "start_time": "2023-03-11T15:58:03.546Z"
   },
   {
    "duration": 109,
    "start_time": "2023-03-11T15:58:03.555Z"
   },
   {
    "duration": 623,
    "start_time": "2023-03-11T15:58:03.743Z"
   },
   {
    "duration": 31,
    "start_time": "2023-03-11T15:58:04.441Z"
   },
   {
    "duration": 213,
    "start_time": "2023-03-11T15:58:04.544Z"
   },
   {
    "duration": 992,
    "start_time": "2023-03-11T15:58:04.760Z"
   },
   {
    "duration": 5090,
    "start_time": "2023-03-11T15:58:05.758Z"
   },
   {
    "duration": 605,
    "start_time": "2023-03-11T15:58:10.850Z"
   },
   {
    "duration": 2683,
    "start_time": "2023-03-11T15:58:11.459Z"
   },
   {
    "duration": 1626,
    "start_time": "2023-03-11T17:51:19.757Z"
   },
   {
    "duration": 1731,
    "start_time": "2023-03-11T17:51:21.385Z"
   },
   {
    "duration": 172,
    "start_time": "2023-03-11T17:51:23.118Z"
   },
   {
    "duration": 585,
    "start_time": "2023-03-11T17:51:23.293Z"
   },
   {
    "duration": 25,
    "start_time": "2023-03-11T17:51:23.880Z"
   },
   {
    "duration": 8,
    "start_time": "2023-03-11T17:51:23.907Z"
   },
   {
    "duration": 4,
    "start_time": "2023-03-11T17:51:23.917Z"
   },
   {
    "duration": 31,
    "start_time": "2023-03-11T17:51:23.926Z"
   },
   {
    "duration": 7,
    "start_time": "2023-03-11T17:51:23.959Z"
   },
   {
    "duration": 6,
    "start_time": "2023-03-11T17:51:23.970Z"
   },
   {
    "duration": 19,
    "start_time": "2023-03-11T17:51:23.978Z"
   },
   {
    "duration": 64,
    "start_time": "2023-03-11T17:51:23.999Z"
   },
   {
    "duration": 38,
    "start_time": "2023-03-11T17:51:24.065Z"
   },
   {
    "duration": 52,
    "start_time": "2023-03-11T17:51:24.105Z"
   },
   {
    "duration": 39,
    "start_time": "2023-03-11T17:51:24.159Z"
   },
   {
    "duration": 13,
    "start_time": "2023-03-11T17:51:24.200Z"
   },
   {
    "duration": 10,
    "start_time": "2023-03-11T17:51:24.215Z"
   },
   {
    "duration": 40,
    "start_time": "2023-03-11T17:51:24.227Z"
   },
   {
    "duration": 12,
    "start_time": "2023-03-11T17:51:24.269Z"
   },
   {
    "duration": 416,
    "start_time": "2023-03-11T17:51:38.427Z"
   },
   {
    "duration": 166,
    "start_time": "2023-03-11T17:52:44.725Z"
   },
   {
    "duration": 207,
    "start_time": "2023-03-11T17:53:00.458Z"
   },
   {
    "duration": 220,
    "start_time": "2023-03-11T17:53:04.813Z"
   },
   {
    "duration": 13,
    "start_time": "2023-03-11T17:59:58.342Z"
   },
   {
    "duration": 550,
    "start_time": "2023-03-11T18:02:23.234Z"
   },
   {
    "duration": 495,
    "start_time": "2023-03-11T18:02:34.733Z"
   },
   {
    "duration": 75614,
    "start_time": "2023-03-11T18:04:28.130Z"
   },
   {
    "duration": 185001,
    "start_time": "2023-03-11T18:06:00.143Z"
   },
   {
    "duration": 206,
    "start_time": "2023-03-11T18:13:32.268Z"
   },
   {
    "duration": 13,
    "start_time": "2023-03-11T18:13:42.071Z"
   },
   {
    "duration": 211,
    "start_time": "2023-03-11T18:13:54.954Z"
   },
   {
    "duration": 10,
    "start_time": "2023-03-11T18:17:27.013Z"
   },
   {
    "duration": 10,
    "start_time": "2023-03-11T18:17:35.918Z"
   },
   {
    "duration": 17,
    "start_time": "2023-03-11T18:23:19.376Z"
   },
   {
    "duration": 373,
    "start_time": "2023-03-11T18:23:33.163Z"
   },
   {
    "duration": 16,
    "start_time": "2023-03-11T18:24:03.009Z"
   },
   {
    "duration": 154,
    "start_time": "2023-03-11T18:26:10.187Z"
   },
   {
    "duration": 570,
    "start_time": "2023-03-11T18:26:26.240Z"
   },
   {
    "duration": 375,
    "start_time": "2023-03-11T18:31:07.479Z"
   },
   {
    "duration": 397,
    "start_time": "2023-03-11T18:31:43.185Z"
   },
   {
    "duration": 431,
    "start_time": "2023-03-11T18:32:13.690Z"
   },
   {
    "duration": 417,
    "start_time": "2023-03-11T18:32:35.472Z"
   },
   {
    "duration": 381,
    "start_time": "2023-03-11T18:33:29.792Z"
   },
   {
    "duration": 18,
    "start_time": "2023-03-11T18:36:30.897Z"
   },
   {
    "duration": 34,
    "start_time": "2023-03-11T18:36:32.053Z"
   },
   {
    "duration": 53,
    "start_time": "2023-03-11T18:36:33.474Z"
   },
   {
    "duration": 5,
    "start_time": "2023-03-11T18:36:34.026Z"
   },
   {
    "duration": 8,
    "start_time": "2023-03-11T18:36:36.169Z"
   },
   {
    "duration": 13,
    "start_time": "2023-03-11T18:36:37.405Z"
   },
   {
    "duration": 393,
    "start_time": "2023-03-11T18:36:42.988Z"
   },
   {
    "duration": 415,
    "start_time": "2023-03-11T18:40:54.003Z"
   },
   {
    "duration": 1488,
    "start_time": "2023-03-11T18:43:34.944Z"
   },
   {
    "duration": 346,
    "start_time": "2023-03-11T18:43:36.435Z"
   },
   {
    "duration": 103,
    "start_time": "2023-03-11T18:43:36.783Z"
   },
   {
    "duration": 449,
    "start_time": "2023-03-11T18:43:36.889Z"
   },
   {
    "duration": 41,
    "start_time": "2023-03-11T18:43:37.341Z"
   },
   {
    "duration": 7,
    "start_time": "2023-03-11T18:43:37.384Z"
   },
   {
    "duration": 4,
    "start_time": "2023-03-11T18:43:37.392Z"
   },
   {
    "duration": 14,
    "start_time": "2023-03-11T18:43:37.398Z"
   },
   {
    "duration": 6,
    "start_time": "2023-03-11T18:43:37.414Z"
   },
   {
    "duration": 36,
    "start_time": "2023-03-11T18:43:37.421Z"
   },
   {
    "duration": 20,
    "start_time": "2023-03-11T18:43:37.461Z"
   },
   {
    "duration": 22,
    "start_time": "2023-03-11T18:43:37.483Z"
   },
   {
    "duration": 71,
    "start_time": "2023-03-11T18:43:37.507Z"
   },
   {
    "duration": 35,
    "start_time": "2023-03-11T18:43:37.582Z"
   },
   {
    "duration": 57,
    "start_time": "2023-03-11T18:43:37.619Z"
   },
   {
    "duration": 11,
    "start_time": "2023-03-11T18:43:37.678Z"
   },
   {
    "duration": 11,
    "start_time": "2023-03-11T18:43:37.691Z"
   },
   {
    "duration": 17,
    "start_time": "2023-03-11T18:43:37.704Z"
   },
   {
    "duration": 49,
    "start_time": "2023-03-11T18:43:37.723Z"
   },
   {
    "duration": 225,
    "start_time": "2023-03-11T18:43:37.774Z"
   },
   {
    "duration": 13,
    "start_time": "2023-03-11T18:43:38.001Z"
   },
   {
    "duration": 228,
    "start_time": "2023-03-11T18:43:38.015Z"
   },
   {
    "duration": 19,
    "start_time": "2023-03-11T18:43:38.245Z"
   },
   {
    "duration": 240,
    "start_time": "2023-03-11T18:43:38.265Z"
   },
   {
    "duration": 9,
    "start_time": "2023-03-11T18:43:38.507Z"
   },
   {
    "duration": 11,
    "start_time": "2023-03-11T18:43:38.517Z"
   },
   {
    "duration": 3,
    "start_time": "2023-03-11T18:43:38.530Z"
   },
   {
    "duration": 19,
    "start_time": "2023-03-11T18:43:38.535Z"
   },
   {
    "duration": 420,
    "start_time": "2023-03-11T18:43:38.556Z"
   },
   {
    "duration": 506,
    "start_time": "2023-03-11T18:43:38.978Z"
   },
   {
    "duration": 17,
    "start_time": "2023-03-11T18:43:39.486Z"
   },
   {
    "duration": 26,
    "start_time": "2023-03-11T18:49:54.796Z"
   },
   {
    "duration": 161,
    "start_time": "2023-03-11T18:51:49.583Z"
   },
   {
    "duration": 49,
    "start_time": "2023-03-11T18:54:01.504Z"
   },
   {
    "duration": 185,
    "start_time": "2023-03-11T18:54:09.775Z"
   },
   {
    "duration": 307,
    "start_time": "2023-03-11T18:57:09.087Z"
   },
   {
    "duration": 310,
    "start_time": "2023-03-11T18:57:48.384Z"
   },
   {
    "duration": 51,
    "start_time": "2023-03-11T18:58:23.542Z"
   },
   {
    "duration": 326,
    "start_time": "2023-03-11T18:58:33.123Z"
   },
   {
    "duration": 5,
    "start_time": "2023-03-11T19:03:26.640Z"
   },
   {
    "duration": 906,
    "start_time": "2023-03-11T19:03:59.983Z"
   },
   {
    "duration": 11,
    "start_time": "2023-03-11T19:04:08.767Z"
   },
   {
    "duration": 12,
    "start_time": "2023-03-11T19:04:24.872Z"
   },
   {
    "duration": 22,
    "start_time": "2023-03-11T19:05:09.695Z"
   },
   {
    "duration": 12,
    "start_time": "2023-03-11T19:05:23.271Z"
   },
   {
    "duration": 451,
    "start_time": "2023-03-11T19:07:46.587Z"
   },
   {
    "duration": 258,
    "start_time": "2023-03-11T19:09:07.052Z"
   },
   {
    "duration": 519,
    "start_time": "2023-03-11T19:11:00.390Z"
   },
   {
    "duration": 387,
    "start_time": "2023-03-11T19:11:22.300Z"
   },
   {
    "duration": 59,
    "start_time": "2023-03-11T19:38:59.750Z"
   },
   {
    "duration": 16,
    "start_time": "2023-03-11T19:39:13.908Z"
   },
   {
    "duration": 347,
    "start_time": "2023-03-11T19:39:14.421Z"
   },
   {
    "duration": 18,
    "start_time": "2023-03-11T19:42:37.634Z"
   },
   {
    "duration": 16,
    "start_time": "2023-03-11T19:42:50.087Z"
   },
   {
    "duration": 147,
    "start_time": "2023-03-11T19:43:09.401Z"
   },
   {
    "duration": 237,
    "start_time": "2023-03-11T19:44:08.681Z"
   },
   {
    "duration": 225,
    "start_time": "2023-03-11T19:44:14.974Z"
   },
   {
    "duration": 225,
    "start_time": "2023-03-11T19:48:14.591Z"
   },
   {
    "duration": 261,
    "start_time": "2023-03-11T19:48:33.645Z"
   },
   {
    "duration": 167,
    "start_time": "2023-03-11T20:07:21.381Z"
   },
   {
    "duration": 5,
    "start_time": "2023-03-11T20:07:24.229Z"
   },
   {
    "duration": 20,
    "start_time": "2023-03-11T20:07:24.868Z"
   },
   {
    "duration": 4,
    "start_time": "2023-03-11T20:07:26.543Z"
   },
   {
    "duration": 3,
    "start_time": "2023-03-11T20:07:27.327Z"
   },
   {
    "duration": 32,
    "start_time": "2023-03-11T20:07:31.583Z"
   },
   {
    "duration": 35,
    "start_time": "2023-03-11T20:07:33.131Z"
   },
   {
    "duration": 4,
    "start_time": "2023-03-11T20:07:33.922Z"
   },
   {
    "duration": 15,
    "start_time": "2023-03-11T20:12:49.973Z"
   },
   {
    "duration": 11,
    "start_time": "2023-03-11T20:13:00.594Z"
   },
   {
    "duration": 2009,
    "start_time": "2023-03-11T20:13:04.369Z"
   },
   {
    "duration": 11,
    "start_time": "2023-03-11T20:13:19.782Z"
   },
   {
    "duration": 2641,
    "start_time": "2023-03-11T20:17:29.135Z"
   },
   {
    "duration": 16988,
    "start_time": "2023-03-11T20:20:39.689Z"
   },
   {
    "duration": 1678,
    "start_time": "2023-03-11T20:29:26.079Z"
   },
   {
    "duration": 2393,
    "start_time": "2023-03-11T20:30:36.763Z"
   },
   {
    "duration": 1930,
    "start_time": "2023-03-11T20:31:17.928Z"
   },
   {
    "duration": 1623,
    "start_time": "2023-03-11T20:31:34.048Z"
   },
   {
    "duration": 14206,
    "start_time": "2023-03-11T20:34:25.421Z"
   },
   {
    "duration": 46,
    "start_time": "2023-03-11T20:35:39.095Z"
   },
   {
    "duration": 354,
    "start_time": "2023-03-11T20:37:00.770Z"
   },
   {
    "duration": 14063,
    "start_time": "2023-03-11T20:37:07.942Z"
   },
   {
    "duration": 14013,
    "start_time": "2023-03-11T20:37:33.616Z"
   },
   {
    "duration": 14441,
    "start_time": "2023-03-11T20:39:22.660Z"
   },
   {
    "duration": 20,
    "start_time": "2023-03-11T20:49:34.949Z"
   },
   {
    "duration": 12,
    "start_time": "2023-03-11T20:50:02.516Z"
   },
   {
    "duration": 10,
    "start_time": "2023-03-11T20:51:18.434Z"
   },
   {
    "duration": 3,
    "start_time": "2023-03-11T20:53:08.508Z"
   },
   {
    "duration": 10,
    "start_time": "2023-03-11T20:57:59.598Z"
   },
   {
    "duration": 60,
    "start_time": "2023-03-11T20:59:38.259Z"
   },
   {
    "duration": 4145,
    "start_time": "2023-03-11T21:00:08.250Z"
   },
   {
    "duration": 16,
    "start_time": "2023-03-11T21:00:19.857Z"
   },
   {
    "duration": 15,
    "start_time": "2023-03-11T21:00:34.365Z"
   },
   {
    "duration": 11,
    "start_time": "2023-03-11T21:00:53.925Z"
   },
   {
    "duration": 3,
    "start_time": "2023-03-11T21:01:59.220Z"
   },
   {
    "duration": 694118,
    "start_time": "2023-03-11T21:02:10.006Z"
   },
   {
    "duration": 3,
    "start_time": "2023-03-11T21:13:51.073Z"
   },
   {
    "duration": 49804,
    "start_time": "2023-03-11T21:14:04.703Z"
   },
   {
    "duration": 372519,
    "start_time": "2023-03-11T21:15:44.917Z"
   },
   {
    "duration": 375838,
    "start_time": "2023-03-11T21:23:50.578Z"
   },
   {
    "duration": 11,
    "start_time": "2023-03-11T21:30:25.802Z"
   },
   {
    "duration": 13531,
    "start_time": "2023-03-11T21:30:38.737Z"
   },
   {
    "duration": 14,
    "start_time": "2023-03-11T21:31:01.232Z"
   },
   {
    "duration": 14329,
    "start_time": "2023-03-11T21:31:09.351Z"
   },
   {
    "duration": 15,
    "start_time": "2023-03-11T21:31:31.799Z"
   },
   {
    "duration": 6,
    "start_time": "2023-03-11T21:34:03.584Z"
   },
   {
    "duration": 6,
    "start_time": "2023-03-11T21:34:25.891Z"
   },
   {
    "duration": 5,
    "start_time": "2023-03-11T21:44:55.415Z"
   },
   {
    "duration": 367088,
    "start_time": "2023-03-11T21:46:02.440Z"
   },
   {
    "duration": 5,
    "start_time": "2023-03-11T21:52:35.180Z"
   },
   {
    "duration": 7,
    "start_time": "2023-03-11T21:54:29.432Z"
   },
   {
    "duration": 14388,
    "start_time": "2023-03-11T21:55:42.190Z"
   },
   {
    "duration": 14419,
    "start_time": "2023-03-11T21:56:12.651Z"
   },
   {
    "duration": 12,
    "start_time": "2023-03-11T22:10:04.298Z"
   },
   {
    "duration": 6847,
    "start_time": "2023-03-11T22:10:20.189Z"
   },
   {
    "duration": 7,
    "start_time": "2023-03-11T22:10:50.184Z"
   },
   {
    "duration": 15,
    "start_time": "2023-03-11T22:10:52.361Z"
   },
   {
    "duration": 24,
    "start_time": "2023-03-11T22:11:03.375Z"
   },
   {
    "duration": 5,
    "start_time": "2023-03-11T22:11:07.648Z"
   },
   {
    "duration": 13,
    "start_time": "2023-03-11T22:11:08.869Z"
   },
   {
    "duration": 35,
    "start_time": "2023-03-11T22:11:27.741Z"
   },
   {
    "duration": 16,
    "start_time": "2023-03-11T22:11:30.079Z"
   },
   {
    "duration": 1399,
    "start_time": "2023-03-11T22:12:05.010Z"
   },
   {
    "duration": 316,
    "start_time": "2023-03-11T22:12:06.411Z"
   },
   {
    "duration": 109,
    "start_time": "2023-03-11T22:12:06.729Z"
   },
   {
    "duration": 376,
    "start_time": "2023-03-11T22:12:06.841Z"
   },
   {
    "duration": 18,
    "start_time": "2023-03-11T22:12:07.218Z"
   },
   {
    "duration": 23,
    "start_time": "2023-03-11T22:12:07.239Z"
   },
   {
    "duration": 18,
    "start_time": "2023-03-11T22:12:07.264Z"
   },
   {
    "duration": 10,
    "start_time": "2023-03-11T22:12:07.283Z"
   },
   {
    "duration": 10,
    "start_time": "2023-03-11T22:12:07.294Z"
   },
   {
    "duration": 9,
    "start_time": "2023-03-11T22:12:07.306Z"
   },
   {
    "duration": 17,
    "start_time": "2023-03-11T22:12:07.317Z"
   },
   {
    "duration": 36,
    "start_time": "2023-03-11T22:12:07.336Z"
   },
   {
    "duration": 33,
    "start_time": "2023-03-11T22:12:07.374Z"
   },
   {
    "duration": 53,
    "start_time": "2023-03-11T22:12:07.409Z"
   },
   {
    "duration": 33,
    "start_time": "2023-03-11T22:12:07.464Z"
   },
   {
    "duration": 11,
    "start_time": "2023-03-11T22:12:07.498Z"
   },
   {
    "duration": 9,
    "start_time": "2023-03-11T22:12:07.511Z"
   },
   {
    "duration": 49,
    "start_time": "2023-03-11T22:12:07.521Z"
   },
   {
    "duration": 12,
    "start_time": "2023-03-11T22:12:07.572Z"
   },
   {
    "duration": 214,
    "start_time": "2023-03-11T22:12:07.586Z"
   },
   {
    "duration": 12,
    "start_time": "2023-03-11T22:12:07.802Z"
   },
   {
    "duration": 219,
    "start_time": "2023-03-11T22:12:07.816Z"
   },
   {
    "duration": 21,
    "start_time": "2023-03-11T22:12:08.037Z"
   },
   {
    "duration": 220,
    "start_time": "2023-03-11T22:12:08.063Z"
   },
   {
    "duration": 9,
    "start_time": "2023-03-11T22:12:08.285Z"
   },
   {
    "duration": 10,
    "start_time": "2023-03-11T22:12:08.296Z"
   },
   {
    "duration": 3,
    "start_time": "2023-03-11T22:12:08.308Z"
   },
   {
    "duration": 4,
    "start_time": "2023-03-11T22:12:08.316Z"
   },
   {
    "duration": 570,
    "start_time": "2023-03-11T22:12:08.322Z"
   },
   {
    "duration": 500,
    "start_time": "2023-03-11T22:12:08.894Z"
   },
   {
    "duration": 20,
    "start_time": "2023-03-11T22:12:09.397Z"
   },
   {
    "duration": 43,
    "start_time": "2023-03-11T22:12:09.419Z"
   },
   {
    "duration": 319,
    "start_time": "2023-03-11T22:12:09.464Z"
   },
   {
    "duration": 49,
    "start_time": "2023-03-11T22:12:09.785Z"
   },
   {
    "duration": 327,
    "start_time": "2023-03-11T22:12:09.836Z"
   },
   {
    "duration": 10,
    "start_time": "2023-03-11T22:12:10.165Z"
   },
   {
    "duration": 8,
    "start_time": "2023-03-11T22:12:10.177Z"
   },
   {
    "duration": 14,
    "start_time": "2023-03-11T22:12:10.187Z"
   },
   {
    "duration": 17,
    "start_time": "2023-03-11T22:12:10.203Z"
   },
   {
    "duration": 372,
    "start_time": "2023-03-11T22:12:10.222Z"
   },
   {
    "duration": 13,
    "start_time": "2023-03-11T22:12:10.596Z"
   },
   {
    "duration": 221,
    "start_time": "2023-03-11T22:12:10.610Z"
   },
   {
    "duration": 37,
    "start_time": "2023-03-11T22:12:10.833Z"
   },
   {
    "duration": 5,
    "start_time": "2023-03-11T22:12:10.872Z"
   },
   {
    "duration": 21,
    "start_time": "2023-03-11T22:12:10.878Z"
   },
   {
    "duration": 4,
    "start_time": "2023-03-11T22:12:10.900Z"
   },
   {
    "duration": 4,
    "start_time": "2023-03-11T22:12:10.905Z"
   },
   {
    "duration": 45,
    "start_time": "2023-03-11T22:12:10.910Z"
   },
   {
    "duration": 36,
    "start_time": "2023-03-11T22:12:10.957Z"
   },
   {
    "duration": 3,
    "start_time": "2023-03-11T22:12:10.994Z"
   },
   {
    "duration": 6450,
    "start_time": "2023-03-11T22:12:40.542Z"
   },
   {
    "duration": 81,
    "start_time": "2023-03-11T22:14:15.977Z"
   },
   {
    "duration": 7259,
    "start_time": "2023-03-11T22:16:16.389Z"
   },
   {
    "duration": 4,
    "start_time": "2023-03-11T22:17:58.584Z"
   },
   {
    "duration": 8,
    "start_time": "2023-03-11T22:18:02.971Z"
   },
   {
    "duration": 4,
    "start_time": "2023-03-11T22:18:06.384Z"
   },
   {
    "duration": 788,
    "start_time": "2023-03-11T22:18:22.741Z"
   },
   {
    "duration": 7592,
    "start_time": "2023-03-11T22:18:27.548Z"
   },
   {
    "duration": 6732,
    "start_time": "2023-03-11T22:21:32.301Z"
   },
   {
    "duration": 89,
    "start_time": "2023-03-11T22:24:59.084Z"
   },
   {
    "duration": 85,
    "start_time": "2023-03-11T22:25:47.597Z"
   },
   {
    "duration": 6076,
    "start_time": "2023-03-11T22:25:56.695Z"
   },
   {
    "duration": 87,
    "start_time": "2023-03-11T22:27:06.363Z"
   },
   {
    "duration": 3,
    "start_time": "2023-03-11T22:27:14.490Z"
   },
   {
    "duration": 136,
    "start_time": "2023-03-11T22:27:24.564Z"
   },
   {
    "duration": 10,
    "start_time": "2023-03-11T22:27:53.687Z"
   },
   {
    "duration": 3,
    "start_time": "2023-03-11T22:28:04.403Z"
   },
   {
    "duration": 76,
    "start_time": "2023-03-11T22:29:24.973Z"
   },
   {
    "duration": 6500,
    "start_time": "2023-03-11T22:29:31.670Z"
   },
   {
    "duration": 4,
    "start_time": "2023-03-11T22:29:44.894Z"
   },
   {
    "duration": 11,
    "start_time": "2023-03-11T22:29:58.804Z"
   },
   {
    "duration": 12,
    "start_time": "2023-03-11T22:30:16.229Z"
   },
   {
    "duration": 3,
    "start_time": "2023-03-11T22:31:55.958Z"
   },
   {
    "duration": 42,
    "start_time": "2023-03-11T22:31:57.276Z"
   },
   {
    "duration": 5,
    "start_time": "2023-03-11T22:32:04.197Z"
   },
   {
    "duration": 88,
    "start_time": "2023-03-11T22:32:21.141Z"
   },
   {
    "duration": 10,
    "start_time": "2023-03-11T22:32:25.676Z"
   },
   {
    "duration": 9,
    "start_time": "2023-03-11T22:32:42.068Z"
   },
   {
    "duration": 84,
    "start_time": "2023-03-11T22:32:49.286Z"
   },
   {
    "duration": 10,
    "start_time": "2023-03-11T22:32:52.375Z"
   },
   {
    "duration": 78,
    "start_time": "2023-03-11T22:33:08.225Z"
   },
   {
    "duration": 3,
    "start_time": "2023-03-11T22:33:13.018Z"
   },
   {
    "duration": 4,
    "start_time": "2023-03-11T22:33:14.525Z"
   },
   {
    "duration": 12,
    "start_time": "2023-03-11T22:33:41.842Z"
   },
   {
    "duration": 10,
    "start_time": "2023-03-11T22:35:08.975Z"
   },
   {
    "duration": 10,
    "start_time": "2023-03-11T22:35:43.302Z"
   },
   {
    "duration": 13,
    "start_time": "2023-03-11T22:36:00.993Z"
   },
   {
    "duration": 7,
    "start_time": "2023-03-11T22:36:13.135Z"
   },
   {
    "duration": 6,
    "start_time": "2023-03-11T22:36:53.693Z"
   },
   {
    "duration": 52,
    "start_time": "2023-03-11T22:38:15.423Z"
   },
   {
    "duration": 10,
    "start_time": "2023-03-11T22:38:24.288Z"
   },
   {
    "duration": 1455,
    "start_time": "2023-03-11T22:40:27.419Z"
   },
   {
    "duration": 1449,
    "start_time": "2023-03-11T22:53:11.613Z"
   },
   {
    "duration": 327,
    "start_time": "2023-03-11T22:53:13.067Z"
   },
   {
    "duration": 105,
    "start_time": "2023-03-11T22:53:13.396Z"
   },
   {
    "duration": 386,
    "start_time": "2023-03-11T22:53:13.503Z"
   },
   {
    "duration": 23,
    "start_time": "2023-03-11T22:53:13.892Z"
   },
   {
    "duration": 7,
    "start_time": "2023-03-11T22:53:13.918Z"
   },
   {
    "duration": 84,
    "start_time": "2023-03-11T22:53:13.927Z"
   },
   {
    "duration": 10,
    "start_time": "2023-03-11T22:53:14.014Z"
   },
   {
    "duration": 29,
    "start_time": "2023-03-11T22:53:14.027Z"
   },
   {
    "duration": 17,
    "start_time": "2023-03-11T22:53:14.059Z"
   },
   {
    "duration": 19,
    "start_time": "2023-03-11T22:53:14.079Z"
   },
   {
    "duration": 26,
    "start_time": "2023-03-11T22:53:14.100Z"
   },
   {
    "duration": 60,
    "start_time": "2023-03-11T22:53:14.128Z"
   },
   {
    "duration": 27,
    "start_time": "2023-03-11T22:53:14.191Z"
   },
   {
    "duration": 67,
    "start_time": "2023-03-11T22:53:14.220Z"
   },
   {
    "duration": 11,
    "start_time": "2023-03-11T22:53:14.289Z"
   },
   {
    "duration": 9,
    "start_time": "2023-03-11T22:53:14.302Z"
   },
   {
    "duration": 15,
    "start_time": "2023-03-11T22:53:14.312Z"
   },
   {
    "duration": 38,
    "start_time": "2023-03-11T22:53:14.328Z"
   },
   {
    "duration": 224,
    "start_time": "2023-03-11T22:53:14.370Z"
   },
   {
    "duration": 12,
    "start_time": "2023-03-11T22:53:14.596Z"
   },
   {
    "duration": 213,
    "start_time": "2023-03-11T22:53:14.610Z"
   },
   {
    "duration": 12,
    "start_time": "2023-03-11T22:53:14.826Z"
   },
   {
    "duration": 202,
    "start_time": "2023-03-11T22:53:14.853Z"
   },
   {
    "duration": 8,
    "start_time": "2023-03-11T22:53:15.057Z"
   },
   {
    "duration": 43,
    "start_time": "2023-03-11T22:53:15.067Z"
   },
   {
    "duration": 22,
    "start_time": "2023-03-11T22:53:15.112Z"
   },
   {
    "duration": 10,
    "start_time": "2023-03-11T22:53:15.135Z"
   },
   {
    "duration": 588,
    "start_time": "2023-03-11T22:53:15.147Z"
   },
   {
    "duration": 477,
    "start_time": "2023-03-11T22:53:15.738Z"
   },
   {
    "duration": 17,
    "start_time": "2023-03-11T22:53:16.217Z"
   },
   {
    "duration": 43,
    "start_time": "2023-03-11T22:53:16.235Z"
   },
   {
    "duration": 326,
    "start_time": "2023-03-11T22:53:16.279Z"
   },
   {
    "duration": 57,
    "start_time": "2023-03-11T22:53:16.607Z"
   },
   {
    "duration": 318,
    "start_time": "2023-03-11T22:53:16.666Z"
   },
   {
    "duration": 5,
    "start_time": "2023-03-11T22:53:16.985Z"
   },
   {
    "duration": 9,
    "start_time": "2023-03-11T22:53:16.991Z"
   },
   {
    "duration": 12,
    "start_time": "2023-03-11T22:53:17.001Z"
   },
   {
    "duration": 39,
    "start_time": "2023-03-11T22:53:17.014Z"
   },
   {
    "duration": 352,
    "start_time": "2023-03-11T22:53:17.055Z"
   },
   {
    "duration": 18,
    "start_time": "2023-03-11T22:53:17.413Z"
   },
   {
    "duration": 234,
    "start_time": "2023-03-11T22:53:17.433Z"
   },
   {
    "duration": 24,
    "start_time": "2023-03-11T22:53:17.669Z"
   },
   {
    "duration": 5,
    "start_time": "2023-03-11T22:53:17.695Z"
   },
   {
    "duration": 21,
    "start_time": "2023-03-11T22:53:17.702Z"
   },
   {
    "duration": 3,
    "start_time": "2023-03-11T22:53:17.725Z"
   },
   {
    "duration": 26,
    "start_time": "2023-03-11T22:53:17.730Z"
   },
   {
    "duration": 27,
    "start_time": "2023-03-11T22:53:17.758Z"
   },
   {
    "duration": 27,
    "start_time": "2023-03-11T22:53:17.787Z"
   },
   {
    "duration": 2,
    "start_time": "2023-03-11T22:53:17.816Z"
   },
   {
    "duration": 5,
    "start_time": "2023-03-11T22:53:17.820Z"
   },
   {
    "duration": 1942,
    "start_time": "2023-03-11T22:53:17.827Z"
   },
   {
    "duration": 79,
    "start_time": "2023-03-11T22:53:19.775Z"
   },
   {
    "duration": 10,
    "start_time": "2023-03-11T22:53:19.862Z"
   },
   {
    "duration": 6,
    "start_time": "2023-03-11T22:53:19.874Z"
   },
   {
    "duration": 84,
    "start_time": "2023-03-11T22:53:19.882Z"
   },
   {
    "duration": 2106,
    "start_time": "2023-03-11T22:53:19.970Z"
   },
   {
    "duration": 14669,
    "start_time": "2023-03-11T22:53:22.153Z"
   },
   {
    "duration": 14038,
    "start_time": "2023-03-11T22:53:36.824Z"
   },
   {
    "duration": 4,
    "start_time": "2023-03-11T22:53:50.864Z"
   },
   {
    "duration": 9,
    "start_time": "2023-03-11T22:53:50.870Z"
   },
   {
    "duration": 371754,
    "start_time": "2023-03-11T22:53:50.881Z"
   },
   {
    "duration": 2,
    "start_time": "2023-03-11T23:00:02.637Z"
   },
   {
    "duration": 373054,
    "start_time": "2023-03-11T23:00:02.641Z"
   },
   {
    "duration": 2,
    "start_time": "2023-03-11T23:06:15.697Z"
   },
   {
    "duration": 7,
    "start_time": "2023-03-11T23:06:15.701Z"
   },
   {
    "duration": 6113,
    "start_time": "2023-03-11T23:06:15.709Z"
   },
   {
    "duration": 87,
    "start_time": "2023-03-11T23:06:21.824Z"
   },
   {
    "duration": 7,
    "start_time": "2023-03-11T23:06:21.913Z"
   },
   {
    "duration": 6,
    "start_time": "2023-03-11T23:06:21.922Z"
   },
   {
    "duration": 25,
    "start_time": "2023-03-11T23:06:21.930Z"
   },
   {
    "duration": 10096,
    "start_time": "2023-03-11T23:07:45.918Z"
   },
   {
    "duration": 1417,
    "start_time": "2023-03-11T23:19:24.465Z"
   },
   {
    "duration": 3986,
    "start_time": "2023-03-11T23:19:33.668Z"
   },
   {
    "duration": 2619,
    "start_time": "2023-03-11T23:19:42.000Z"
   },
   {
    "duration": 1422,
    "start_time": "2023-03-11T23:19:50.071Z"
   },
   {
    "duration": 16819,
    "start_time": "2023-03-11T23:19:57.154Z"
   },
   {
    "duration": 2452,
    "start_time": "2023-03-11T23:20:29.769Z"
   },
   {
    "duration": 9902,
    "start_time": "2023-03-11T23:21:05.292Z"
   },
   {
    "duration": 2229,
    "start_time": "2023-03-11T23:21:19.992Z"
   },
   {
    "duration": 0,
    "start_time": "2023-03-12T15:45:56.745Z"
   },
   {
    "duration": 102,
    "start_time": "2023-03-12T15:52:31.933Z"
   },
   {
    "duration": 1798,
    "start_time": "2023-03-12T19:21:43.571Z"
   },
   {
    "duration": 462,
    "start_time": "2023-03-12T19:21:45.372Z"
   },
   {
    "duration": 440,
    "start_time": "2023-03-12T19:21:45.836Z"
   },
   {
    "duration": 1889,
    "start_time": "2023-03-12T19:21:46.277Z"
   },
   {
    "duration": 18,
    "start_time": "2023-03-12T19:21:48.168Z"
   },
   {
    "duration": 6,
    "start_time": "2023-03-12T19:21:48.188Z"
   },
   {
    "duration": 5,
    "start_time": "2023-03-12T19:21:48.195Z"
   },
   {
    "duration": 10,
    "start_time": "2023-03-12T19:21:48.201Z"
   },
   {
    "duration": 6,
    "start_time": "2023-03-12T19:21:48.213Z"
   },
   {
    "duration": 8,
    "start_time": "2023-03-12T19:21:48.220Z"
   },
   {
    "duration": 17,
    "start_time": "2023-03-12T19:21:48.264Z"
   },
   {
    "duration": 23,
    "start_time": "2023-03-12T19:21:48.283Z"
   },
   {
    "duration": 56,
    "start_time": "2023-03-12T19:21:48.309Z"
   },
   {
    "duration": 27,
    "start_time": "2023-03-12T19:21:48.369Z"
   },
   {
    "duration": 35,
    "start_time": "2023-03-12T19:21:48.397Z"
   },
   {
    "duration": 34,
    "start_time": "2023-03-12T19:21:48.433Z"
   },
   {
    "duration": 9,
    "start_time": "2023-03-12T19:21:48.469Z"
   },
   {
    "duration": 15,
    "start_time": "2023-03-12T19:21:48.480Z"
   },
   {
    "duration": 13,
    "start_time": "2023-03-12T19:21:48.497Z"
   },
   {
    "duration": 244,
    "start_time": "2023-03-12T19:21:48.512Z"
   },
   {
    "duration": 15,
    "start_time": "2023-03-12T19:21:48.759Z"
   },
   {
    "duration": 219,
    "start_time": "2023-03-12T19:21:48.776Z"
   },
   {
    "duration": 13,
    "start_time": "2023-03-12T19:21:48.997Z"
   },
   {
    "duration": 230,
    "start_time": "2023-03-12T19:21:49.012Z"
   },
   {
    "duration": 10,
    "start_time": "2023-03-12T19:21:49.244Z"
   },
   {
    "duration": 9,
    "start_time": "2023-03-12T19:21:49.264Z"
   },
   {
    "duration": 5,
    "start_time": "2023-03-12T19:21:49.275Z"
   },
   {
    "duration": 7,
    "start_time": "2023-03-12T19:21:49.282Z"
   },
   {
    "duration": 491,
    "start_time": "2023-03-12T19:21:49.291Z"
   },
   {
    "duration": 425,
    "start_time": "2023-03-12T19:21:49.784Z"
   },
   {
    "duration": 17,
    "start_time": "2023-03-12T19:21:50.211Z"
   },
   {
    "duration": 44,
    "start_time": "2023-03-12T19:21:50.230Z"
   },
   {
    "duration": 320,
    "start_time": "2023-03-12T19:21:50.276Z"
   },
   {
    "duration": 51,
    "start_time": "2023-03-12T19:21:50.598Z"
   },
   {
    "duration": 309,
    "start_time": "2023-03-12T19:21:50.663Z"
   },
   {
    "duration": 4,
    "start_time": "2023-03-12T19:21:50.974Z"
   },
   {
    "duration": 17,
    "start_time": "2023-03-12T19:21:50.979Z"
   },
   {
    "duration": 14,
    "start_time": "2023-03-12T19:21:50.998Z"
   },
   {
    "duration": 30,
    "start_time": "2023-03-12T19:21:51.014Z"
   },
   {
    "duration": 323,
    "start_time": "2023-03-12T19:21:51.046Z"
   },
   {
    "duration": 13,
    "start_time": "2023-03-12T19:21:51.374Z"
   },
   {
    "duration": 218,
    "start_time": "2023-03-12T19:21:51.389Z"
   },
   {
    "duration": 26,
    "start_time": "2023-03-12T19:21:51.609Z"
   },
   {
    "duration": 4,
    "start_time": "2023-03-12T19:21:51.637Z"
   },
   {
    "duration": 38,
    "start_time": "2023-03-12T19:21:51.643Z"
   },
   {
    "duration": 3,
    "start_time": "2023-03-12T19:22:03.579Z"
   },
   {
    "duration": 4,
    "start_time": "2023-03-12T19:22:09.986Z"
   },
   {
    "duration": 29,
    "start_time": "2023-03-12T19:23:25.444Z"
   },
   {
    "duration": 28,
    "start_time": "2023-03-12T19:23:25.801Z"
   },
   {
    "duration": 3,
    "start_time": "2023-03-12T19:23:26.720Z"
   },
   {
    "duration": 14540,
    "start_time": "2023-03-12T19:25:10.307Z"
   },
   {
    "duration": 1286,
    "start_time": "2023-03-12T19:25:36.279Z"
   },
   {
    "duration": 1388,
    "start_time": "2023-03-12T19:25:43.380Z"
   },
   {
    "duration": 14599,
    "start_time": "2023-03-12T19:26:45.612Z"
   },
   {
    "duration": 383398,
    "start_time": "2023-03-12T19:27:57.794Z"
   },
   {
    "duration": 390300,
    "start_time": "2023-03-12T19:35:33.855Z"
   },
   {
    "duration": 6,
    "start_time": "2023-03-12T19:43:47.839Z"
   },
   {
    "duration": 2600,
    "start_time": "2023-03-12T19:45:19.841Z"
   },
   {
    "duration": 2380,
    "start_time": "2023-03-12T19:45:57.769Z"
   },
   {
    "duration": 2374,
    "start_time": "2023-03-12T19:46:29.677Z"
   },
   {
    "duration": 99,
    "start_time": "2023-03-12T19:47:25.895Z"
   },
   {
    "duration": 2375,
    "start_time": "2023-03-12T19:48:15.390Z"
   },
   {
    "duration": 2547,
    "start_time": "2023-03-12T19:48:41.520Z"
   },
   {
    "duration": 2366,
    "start_time": "2023-03-12T19:48:57.434Z"
   },
   {
    "duration": 8,
    "start_time": "2023-03-12T19:49:16.692Z"
   },
   {
    "duration": 7,
    "start_time": "2023-03-12T19:49:18.028Z"
   },
   {
    "duration": 5,
    "start_time": "2023-03-12T19:49:43.652Z"
   },
   {
    "duration": 1579,
    "start_time": "2023-03-14T13:14:50.973Z"
   },
   {
    "duration": 1173,
    "start_time": "2023-03-14T13:14:52.555Z"
   },
   {
    "duration": 166,
    "start_time": "2023-03-14T13:14:53.730Z"
   },
   {
    "duration": 611,
    "start_time": "2023-03-14T13:14:53.899Z"
   },
   {
    "duration": 20,
    "start_time": "2023-03-14T13:14:54.512Z"
   },
   {
    "duration": 12,
    "start_time": "2023-03-14T13:14:54.534Z"
   },
   {
    "duration": 4,
    "start_time": "2023-03-14T13:14:54.548Z"
   },
   {
    "duration": 28,
    "start_time": "2023-03-14T13:14:54.553Z"
   },
   {
    "duration": 12,
    "start_time": "2023-03-14T13:14:54.583Z"
   },
   {
    "duration": 10,
    "start_time": "2023-03-14T13:14:54.597Z"
   },
   {
    "duration": 18,
    "start_time": "2023-03-14T13:14:54.609Z"
   },
   {
    "duration": 29,
    "start_time": "2023-03-14T13:14:54.629Z"
   },
   {
    "duration": 40,
    "start_time": "2023-03-14T13:14:54.660Z"
   },
   {
    "duration": 31,
    "start_time": "2023-03-14T13:14:54.702Z"
   },
   {
    "duration": 46,
    "start_time": "2023-03-14T13:14:54.735Z"
   },
   {
    "duration": 12,
    "start_time": "2023-03-14T13:14:54.783Z"
   },
   {
    "duration": 11,
    "start_time": "2023-03-14T13:14:54.797Z"
   },
   {
    "duration": 44,
    "start_time": "2023-03-14T13:14:54.810Z"
   },
   {
    "duration": 13,
    "start_time": "2023-03-14T13:14:54.856Z"
   },
   {
    "duration": 224,
    "start_time": "2023-03-14T13:14:54.871Z"
   },
   {
    "duration": 14,
    "start_time": "2023-03-14T13:14:55.097Z"
   },
   {
    "duration": 207,
    "start_time": "2023-03-14T13:14:55.112Z"
   },
   {
    "duration": 12,
    "start_time": "2023-03-14T13:14:55.321Z"
   },
   {
    "duration": 229,
    "start_time": "2023-03-14T13:14:55.335Z"
   },
   {
    "duration": 10,
    "start_time": "2023-03-14T13:14:55.566Z"
   },
   {
    "duration": 26,
    "start_time": "2023-03-14T13:14:55.577Z"
   },
   {
    "duration": 12,
    "start_time": "2023-03-14T13:14:55.604Z"
   },
   {
    "duration": 16,
    "start_time": "2023-03-14T13:14:55.622Z"
   },
   {
    "duration": 561,
    "start_time": "2023-03-14T13:14:55.640Z"
   },
   {
    "duration": 500,
    "start_time": "2023-03-14T13:14:56.203Z"
   },
   {
    "duration": 20,
    "start_time": "2023-03-14T13:14:56.705Z"
   },
   {
    "duration": 46,
    "start_time": "2023-03-14T13:14:56.727Z"
   },
   {
    "duration": 358,
    "start_time": "2023-03-14T13:14:56.776Z"
   },
   {
    "duration": 62,
    "start_time": "2023-03-14T13:14:57.136Z"
   },
   {
    "duration": 357,
    "start_time": "2023-03-14T13:14:57.200Z"
   },
   {
    "duration": 4,
    "start_time": "2023-03-14T13:14:57.558Z"
   },
   {
    "duration": 27,
    "start_time": "2023-03-14T13:14:57.564Z"
   },
   {
    "duration": 15,
    "start_time": "2023-03-14T13:14:57.593Z"
   },
   {
    "duration": 14,
    "start_time": "2023-03-14T13:14:57.609Z"
   },
   {
    "duration": 385,
    "start_time": "2023-03-14T13:14:57.625Z"
   },
   {
    "duration": 14,
    "start_time": "2023-03-14T13:14:58.013Z"
   },
   {
    "duration": 273,
    "start_time": "2023-03-14T13:14:58.029Z"
   },
   {
    "duration": 27,
    "start_time": "2023-03-14T13:14:58.304Z"
   },
   {
    "duration": 5,
    "start_time": "2023-03-14T13:14:58.333Z"
   },
   {
    "duration": 21,
    "start_time": "2023-03-14T13:14:58.355Z"
   },
   {
    "duration": 5,
    "start_time": "2023-03-14T13:14:58.378Z"
   },
   {
    "duration": 9,
    "start_time": "2023-03-14T13:14:58.385Z"
   },
   {
    "duration": 32,
    "start_time": "2023-03-14T13:14:58.396Z"
   },
   {
    "duration": 50,
    "start_time": "2023-03-14T13:14:58.430Z"
   },
   {
    "duration": 3,
    "start_time": "2023-03-14T13:14:58.482Z"
   },
   {
    "duration": 8,
    "start_time": "2023-03-14T13:14:58.487Z"
   },
   {
    "duration": 1361,
    "start_time": "2023-03-14T13:14:58.497Z"
   },
   {
    "duration": 2,
    "start_time": "2023-03-14T13:14:59.860Z"
   },
   {
    "duration": 89,
    "start_time": "2023-03-14T13:14:59.864Z"
   },
   {
    "duration": 6,
    "start_time": "2023-03-14T13:14:59.955Z"
   },
   {
    "duration": 6,
    "start_time": "2023-03-14T13:14:59.963Z"
   },
   {
    "duration": 1386,
    "start_time": "2023-03-14T13:14:59.971Z"
   },
   {
    "duration": 14123,
    "start_time": "2023-03-14T13:15:01.360Z"
   },
   {
    "duration": 13712,
    "start_time": "2023-03-14T13:15:15.485Z"
   },
   {
    "duration": 3,
    "start_time": "2023-03-14T13:15:29.199Z"
   },
   {
    "duration": 10,
    "start_time": "2023-03-14T13:15:29.203Z"
   },
   {
    "duration": 362887,
    "start_time": "2023-03-14T13:15:29.216Z"
   },
   {
    "duration": 3,
    "start_time": "2023-03-14T13:21:32.105Z"
   },
   {
    "duration": 367334,
    "start_time": "2023-03-14T13:21:32.111Z"
   },
   {
    "duration": 7,
    "start_time": "2023-03-14T13:27:39.447Z"
   },
   {
    "duration": 9,
    "start_time": "2023-03-14T13:27:39.456Z"
   },
   {
    "duration": 2250,
    "start_time": "2023-03-14T13:27:39.467Z"
   },
   {
    "duration": 2206,
    "start_time": "2023-03-14T13:27:41.719Z"
   },
   {
    "duration": 9,
    "start_time": "2023-03-14T13:27:43.927Z"
   },
   {
    "duration": 23,
    "start_time": "2023-03-14T13:27:43.938Z"
   },
   {
    "duration": 7,
    "start_time": "2023-03-14T13:27:43.964Z"
   }
  ],
  "kernelspec": {
   "display_name": "Python 3 (ipykernel)",
   "language": "python",
   "name": "python3"
  },
  "language_info": {
   "codemirror_mode": {
    "name": "ipython",
    "version": 3
   },
   "file_extension": ".py",
   "mimetype": "text/x-python",
   "name": "python",
   "nbconvert_exporter": "python",
   "pygments_lexer": "ipython3",
   "version": "3.9.13"
  },
  "toc": {
   "base_numbering": 1,
   "nav_menu": {},
   "number_sections": true,
   "sideBar": true,
   "skip_h1_title": true,
   "title_cell": "Содержание",
   "title_sidebar": "Contents",
   "toc_cell": true,
   "toc_position": {
    "height": "calc(100% - 180px)",
    "left": "10px",
    "top": "150px",
    "width": "165px"
   },
   "toc_section_display": true,
   "toc_window_display": true
  }
 },
 "nbformat": 4,
 "nbformat_minor": 2
}
