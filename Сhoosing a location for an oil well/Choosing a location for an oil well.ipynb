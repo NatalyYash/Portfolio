{
 "cells": [
  {
   "cell_type": "markdown",
   "metadata": {},
   "source": [
    "# Выбор локации для скважины"
   ]
  },
  {
   "cell_type": "markdown",
   "metadata": {},
   "source": [
    "В добывающей компании «ГлавРосГосНефть» нужно решить, где бурить новую скважину.\n",
    "\n",
    "Предоставлены пробы нефти в трёх регионах: в каждом 10 000 месторождений, где измерили качество нефти и объём её запасов. Построим модель машинного обучения, которая поможет определить регион, где добыча принесёт наибольшую прибыль. Проанализируем возможную прибыль и риски техникой Bootstrap.\n",
    "\n",
    "Шаги для выбора локации:\n",
    "\n",
    "- В избранном регионе ищут месторождения, для каждого определяют значения признаков;\n",
    "- Строят модель и оценивают объём запасов;\n",
    "- Выбирают месторождения с самым высокими оценками значений. Количество месторождений зависит от бюджета компании и стоимости разработки одной скважины;\n",
    "- Прибыль равна суммарной прибыли отобранных месторождений."
   ]
  },
  {
   "cell_type": "markdown",
   "metadata": {},
   "source": [
    "## Загрузка и подготовка данных"
   ]
  },
  {
   "cell_type": "markdown",
   "metadata": {},
   "source": [
    "<div class=\"alert alert-info\">\n",
    "Загрузим и подготовим данные</div"
   ]
  },
  {
   "cell_type": "code",
   "execution_count": 1,
   "metadata": {},
   "outputs": [],
   "source": [
    "import pandas as pd\n",
    "import numpy as np\n",
    "from sklearn.model_selection import train_test_split\n",
    "from sklearn.dummy import DummyClassifier\n",
    "from sklearn.linear_model import LinearRegression\n",
    "import random\n",
    "from numpy.random import RandomState\n",
    "from sklearn.preprocessing import OrdinalEncoder, StandardScaler\n",
    "from sklearn.metrics import (\n",
    "    confusion_matrix, \n",
    "    f1_score, \n",
    "    mean_squared_error, \n",
    "    roc_auc_score,\n",
    "    roc_curve\n",
    ")\n",
    "import warnings\n",
    "warnings.filterwarnings('ignore')\n"
   ]
  },
  {
   "cell_type": "code",
   "execution_count": 2,
   "metadata": {},
   "outputs": [
    {
     "data": {
      "text/html": [
       "<div>\n",
       "<style scoped>\n",
       "    .dataframe tbody tr th:only-of-type {\n",
       "        vertical-align: middle;\n",
       "    }\n",
       "\n",
       "    .dataframe tbody tr th {\n",
       "        vertical-align: top;\n",
       "    }\n",
       "\n",
       "    .dataframe thead th {\n",
       "        text-align: right;\n",
       "    }\n",
       "</style>\n",
       "<table border=\"1\" class=\"dataframe\">\n",
       "  <thead>\n",
       "    <tr style=\"text-align: right;\">\n",
       "      <th></th>\n",
       "      <th>id</th>\n",
       "      <th>f0</th>\n",
       "      <th>f1</th>\n",
       "      <th>f2</th>\n",
       "      <th>product</th>\n",
       "    </tr>\n",
       "  </thead>\n",
       "  <tbody>\n",
       "    <tr>\n",
       "      <th>0</th>\n",
       "      <td>txEyH</td>\n",
       "      <td>0.705745</td>\n",
       "      <td>-0.497823</td>\n",
       "      <td>1.221170</td>\n",
       "      <td>105.280062</td>\n",
       "    </tr>\n",
       "    <tr>\n",
       "      <th>1</th>\n",
       "      <td>2acmU</td>\n",
       "      <td>1.334711</td>\n",
       "      <td>-0.340164</td>\n",
       "      <td>4.365080</td>\n",
       "      <td>73.037750</td>\n",
       "    </tr>\n",
       "    <tr>\n",
       "      <th>2</th>\n",
       "      <td>409Wp</td>\n",
       "      <td>1.022732</td>\n",
       "      <td>0.151990</td>\n",
       "      <td>1.419926</td>\n",
       "      <td>85.265647</td>\n",
       "    </tr>\n",
       "    <tr>\n",
       "      <th>3</th>\n",
       "      <td>iJLyR</td>\n",
       "      <td>-0.032172</td>\n",
       "      <td>0.139033</td>\n",
       "      <td>2.978566</td>\n",
       "      <td>168.620776</td>\n",
       "    </tr>\n",
       "    <tr>\n",
       "      <th>4</th>\n",
       "      <td>Xdl7t</td>\n",
       "      <td>1.988431</td>\n",
       "      <td>0.155413</td>\n",
       "      <td>4.751769</td>\n",
       "      <td>154.036647</td>\n",
       "    </tr>\n",
       "  </tbody>\n",
       "</table>\n",
       "</div>"
      ],
      "text/plain": [
       "      id        f0        f1        f2     product\n",
       "0  txEyH  0.705745 -0.497823  1.221170  105.280062\n",
       "1  2acmU  1.334711 -0.340164  4.365080   73.037750\n",
       "2  409Wp  1.022732  0.151990  1.419926   85.265647\n",
       "3  iJLyR -0.032172  0.139033  2.978566  168.620776\n",
       "4  Xdl7t  1.988431  0.155413  4.751769  154.036647"
      ]
     },
     "execution_count": 2,
     "metadata": {},
     "output_type": "execute_result"
    }
   ],
   "source": [
    "data_0 = pd.read_csv('/datasets/geo_data_0.csv')\n",
    "data_0.head()"
   ]
  },
  {
   "cell_type": "code",
   "execution_count": 3,
   "metadata": {},
   "outputs": [
    {
     "name": "stdout",
     "output_type": "stream",
     "text": [
      "<class 'pandas.core.frame.DataFrame'>\n",
      "RangeIndex: 100000 entries, 0 to 99999\n",
      "Data columns (total 5 columns):\n",
      " #   Column   Non-Null Count   Dtype  \n",
      "---  ------   --------------   -----  \n",
      " 0   id       100000 non-null  object \n",
      " 1   f0       100000 non-null  float64\n",
      " 2   f1       100000 non-null  float64\n",
      " 3   f2       100000 non-null  float64\n",
      " 4   product  100000 non-null  float64\n",
      "dtypes: float64(4), object(1)\n",
      "memory usage: 3.8+ MB\n"
     ]
    }
   ],
   "source": [
    "data_0.info()"
   ]
  },
  {
   "cell_type": "code",
   "execution_count": 4,
   "metadata": {},
   "outputs": [
    {
     "data": {
      "text/html": [
       "<div>\n",
       "<style scoped>\n",
       "    .dataframe tbody tr th:only-of-type {\n",
       "        vertical-align: middle;\n",
       "    }\n",
       "\n",
       "    .dataframe tbody tr th {\n",
       "        vertical-align: top;\n",
       "    }\n",
       "\n",
       "    .dataframe thead th {\n",
       "        text-align: right;\n",
       "    }\n",
       "</style>\n",
       "<table border=\"1\" class=\"dataframe\">\n",
       "  <thead>\n",
       "    <tr style=\"text-align: right;\">\n",
       "      <th></th>\n",
       "      <th>id</th>\n",
       "      <th>f0</th>\n",
       "      <th>f1</th>\n",
       "      <th>f2</th>\n",
       "      <th>product</th>\n",
       "    </tr>\n",
       "  </thead>\n",
       "  <tbody>\n",
       "    <tr>\n",
       "      <th>0</th>\n",
       "      <td>kBEdx</td>\n",
       "      <td>-15.001348</td>\n",
       "      <td>-8.276000</td>\n",
       "      <td>-0.005876</td>\n",
       "      <td>3.179103</td>\n",
       "    </tr>\n",
       "    <tr>\n",
       "      <th>1</th>\n",
       "      <td>62mP7</td>\n",
       "      <td>14.272088</td>\n",
       "      <td>-3.475083</td>\n",
       "      <td>0.999183</td>\n",
       "      <td>26.953261</td>\n",
       "    </tr>\n",
       "    <tr>\n",
       "      <th>2</th>\n",
       "      <td>vyE1P</td>\n",
       "      <td>6.263187</td>\n",
       "      <td>-5.948386</td>\n",
       "      <td>5.001160</td>\n",
       "      <td>134.766305</td>\n",
       "    </tr>\n",
       "    <tr>\n",
       "      <th>3</th>\n",
       "      <td>KcrkZ</td>\n",
       "      <td>-13.081196</td>\n",
       "      <td>-11.506057</td>\n",
       "      <td>4.999415</td>\n",
       "      <td>137.945408</td>\n",
       "    </tr>\n",
       "    <tr>\n",
       "      <th>4</th>\n",
       "      <td>AHL4O</td>\n",
       "      <td>12.702195</td>\n",
       "      <td>-8.147433</td>\n",
       "      <td>5.004363</td>\n",
       "      <td>134.766305</td>\n",
       "    </tr>\n",
       "  </tbody>\n",
       "</table>\n",
       "</div>"
      ],
      "text/plain": [
       "      id         f0         f1        f2     product\n",
       "0  kBEdx -15.001348  -8.276000 -0.005876    3.179103\n",
       "1  62mP7  14.272088  -3.475083  0.999183   26.953261\n",
       "2  vyE1P   6.263187  -5.948386  5.001160  134.766305\n",
       "3  KcrkZ -13.081196 -11.506057  4.999415  137.945408\n",
       "4  AHL4O  12.702195  -8.147433  5.004363  134.766305"
      ]
     },
     "execution_count": 4,
     "metadata": {},
     "output_type": "execute_result"
    }
   ],
   "source": [
    "data_1 = pd.read_csv('/datasets/geo_data_1.csv')\n",
    "data_1.head()"
   ]
  },
  {
   "cell_type": "code",
   "execution_count": 5,
   "metadata": {},
   "outputs": [
    {
     "name": "stdout",
     "output_type": "stream",
     "text": [
      "<class 'pandas.core.frame.DataFrame'>\n",
      "RangeIndex: 100000 entries, 0 to 99999\n",
      "Data columns (total 5 columns):\n",
      " #   Column   Non-Null Count   Dtype  \n",
      "---  ------   --------------   -----  \n",
      " 0   id       100000 non-null  object \n",
      " 1   f0       100000 non-null  float64\n",
      " 2   f1       100000 non-null  float64\n",
      " 3   f2       100000 non-null  float64\n",
      " 4   product  100000 non-null  float64\n",
      "dtypes: float64(4), object(1)\n",
      "memory usage: 3.8+ MB\n"
     ]
    }
   ],
   "source": [
    "data_1.info()"
   ]
  },
  {
   "cell_type": "code",
   "execution_count": 6,
   "metadata": {},
   "outputs": [
    {
     "data": {
      "text/html": [
       "<div>\n",
       "<style scoped>\n",
       "    .dataframe tbody tr th:only-of-type {\n",
       "        vertical-align: middle;\n",
       "    }\n",
       "\n",
       "    .dataframe tbody tr th {\n",
       "        vertical-align: top;\n",
       "    }\n",
       "\n",
       "    .dataframe thead th {\n",
       "        text-align: right;\n",
       "    }\n",
       "</style>\n",
       "<table border=\"1\" class=\"dataframe\">\n",
       "  <thead>\n",
       "    <tr style=\"text-align: right;\">\n",
       "      <th></th>\n",
       "      <th>id</th>\n",
       "      <th>f0</th>\n",
       "      <th>f1</th>\n",
       "      <th>f2</th>\n",
       "      <th>product</th>\n",
       "    </tr>\n",
       "  </thead>\n",
       "  <tbody>\n",
       "    <tr>\n",
       "      <th>0</th>\n",
       "      <td>fwXo0</td>\n",
       "      <td>-1.146987</td>\n",
       "      <td>0.963328</td>\n",
       "      <td>-0.828965</td>\n",
       "      <td>27.758673</td>\n",
       "    </tr>\n",
       "    <tr>\n",
       "      <th>1</th>\n",
       "      <td>WJtFt</td>\n",
       "      <td>0.262778</td>\n",
       "      <td>0.269839</td>\n",
       "      <td>-2.530187</td>\n",
       "      <td>56.069697</td>\n",
       "    </tr>\n",
       "    <tr>\n",
       "      <th>2</th>\n",
       "      <td>ovLUW</td>\n",
       "      <td>0.194587</td>\n",
       "      <td>0.289035</td>\n",
       "      <td>-5.586433</td>\n",
       "      <td>62.871910</td>\n",
       "    </tr>\n",
       "    <tr>\n",
       "      <th>3</th>\n",
       "      <td>q6cA6</td>\n",
       "      <td>2.236060</td>\n",
       "      <td>-0.553760</td>\n",
       "      <td>0.930038</td>\n",
       "      <td>114.572842</td>\n",
       "    </tr>\n",
       "    <tr>\n",
       "      <th>4</th>\n",
       "      <td>WPMUX</td>\n",
       "      <td>-0.515993</td>\n",
       "      <td>1.716266</td>\n",
       "      <td>5.899011</td>\n",
       "      <td>149.600746</td>\n",
       "    </tr>\n",
       "  </tbody>\n",
       "</table>\n",
       "</div>"
      ],
      "text/plain": [
       "      id        f0        f1        f2     product\n",
       "0  fwXo0 -1.146987  0.963328 -0.828965   27.758673\n",
       "1  WJtFt  0.262778  0.269839 -2.530187   56.069697\n",
       "2  ovLUW  0.194587  0.289035 -5.586433   62.871910\n",
       "3  q6cA6  2.236060 -0.553760  0.930038  114.572842\n",
       "4  WPMUX -0.515993  1.716266  5.899011  149.600746"
      ]
     },
     "execution_count": 6,
     "metadata": {},
     "output_type": "execute_result"
    }
   ],
   "source": [
    "data_2 = pd.read_csv('/datasets/geo_data_2.csv')\n",
    "data_2.head()"
   ]
  },
  {
   "cell_type": "code",
   "execution_count": 7,
   "metadata": {},
   "outputs": [
    {
     "name": "stdout",
     "output_type": "stream",
     "text": [
      "<class 'pandas.core.frame.DataFrame'>\n",
      "RangeIndex: 100000 entries, 0 to 99999\n",
      "Data columns (total 5 columns):\n",
      " #   Column   Non-Null Count   Dtype  \n",
      "---  ------   --------------   -----  \n",
      " 0   id       100000 non-null  object \n",
      " 1   f0       100000 non-null  float64\n",
      " 2   f1       100000 non-null  float64\n",
      " 3   f2       100000 non-null  float64\n",
      " 4   product  100000 non-null  float64\n",
      "dtypes: float64(4), object(1)\n",
      "memory usage: 3.8+ MB\n"
     ]
    }
   ],
   "source": [
    "data_2.info()"
   ]
  },
  {
   "cell_type": "markdown",
   "metadata": {},
   "source": [
    "<div class=\"alert alert-info\">\n",
    "Пропусков и некорректных значений нет, типа данных тоже нас устраивают</div"
   ]
  },
  {
   "cell_type": "markdown",
   "metadata": {},
   "source": [
    "## Обучение и проверка модели"
   ]
  },
  {
   "cell_type": "markdown",
   "metadata": {},
   "source": [
    "<div class=\"alert alert-info\">\n",
    "Обучим и проверим модель для каждого региона. Разобьём данные на обучающую и валидационную выборки в соотношении 75:25.\n",
    "</div"
   ]
  },
  {
   "cell_type": "code",
   "execution_count": 8,
   "metadata": {},
   "outputs": [
    {
     "data": {
      "text/plain": [
       "(75000, 5)"
      ]
     },
     "execution_count": 8,
     "metadata": {},
     "output_type": "execute_result"
    }
   ],
   "source": [
    "data_0_train, data_0_valid = train_test_split(data_0, test_size=0.25, random_state=12345)\n",
    "data_0_train.shape"
   ]
  },
  {
   "cell_type": "code",
   "execution_count": 9,
   "metadata": {},
   "outputs": [
    {
     "data": {
      "text/html": [
       "<div>\n",
       "<style scoped>\n",
       "    .dataframe tbody tr th:only-of-type {\n",
       "        vertical-align: middle;\n",
       "    }\n",
       "\n",
       "    .dataframe tbody tr th {\n",
       "        vertical-align: top;\n",
       "    }\n",
       "\n",
       "    .dataframe thead th {\n",
       "        text-align: right;\n",
       "    }\n",
       "</style>\n",
       "<table border=\"1\" class=\"dataframe\">\n",
       "  <thead>\n",
       "    <tr style=\"text-align: right;\">\n",
       "      <th></th>\n",
       "      <th>f0</th>\n",
       "      <th>f1</th>\n",
       "      <th>f2</th>\n",
       "    </tr>\n",
       "  </thead>\n",
       "  <tbody>\n",
       "    <tr>\n",
       "      <th>27212</th>\n",
       "      <td>0.022450</td>\n",
       "      <td>0.951034</td>\n",
       "      <td>2.197333</td>\n",
       "    </tr>\n",
       "    <tr>\n",
       "      <th>7866</th>\n",
       "      <td>1.766731</td>\n",
       "      <td>0.007835</td>\n",
       "      <td>6.436602</td>\n",
       "    </tr>\n",
       "    <tr>\n",
       "      <th>62041</th>\n",
       "      <td>0.724514</td>\n",
       "      <td>0.666063</td>\n",
       "      <td>1.840177</td>\n",
       "    </tr>\n",
       "    <tr>\n",
       "      <th>70185</th>\n",
       "      <td>-1.104181</td>\n",
       "      <td>0.255268</td>\n",
       "      <td>2.026156</td>\n",
       "    </tr>\n",
       "    <tr>\n",
       "      <th>82230</th>\n",
       "      <td>-0.635263</td>\n",
       "      <td>0.747990</td>\n",
       "      <td>6.643327</td>\n",
       "    </tr>\n",
       "  </tbody>\n",
       "</table>\n",
       "</div>"
      ],
      "text/plain": [
       "             f0        f1        f2\n",
       "27212  0.022450  0.951034  2.197333\n",
       "7866   1.766731  0.007835  6.436602\n",
       "62041  0.724514  0.666063  1.840177\n",
       "70185 -1.104181  0.255268  2.026156\n",
       "82230 -0.635263  0.747990  6.643327"
      ]
     },
     "execution_count": 9,
     "metadata": {},
     "output_type": "execute_result"
    }
   ],
   "source": [
    "features_0_train = data_0_train.drop(['id', 'product'], axis=1)\n",
    "target_0_train = data_0_train['product']\n",
    "\n",
    "features_0_valid = data_0_valid.drop(['id', 'product'], axis=1)\n",
    "target_0_valid = data_0_valid['product']\n",
    "\n",
    "features_0_train.head()"
   ]
  },
  {
   "cell_type": "code",
   "execution_count": 10,
   "metadata": {},
   "outputs": [
    {
     "data": {
      "text/plain": [
       "(75000, 5)"
      ]
     },
     "execution_count": 10,
     "metadata": {},
     "output_type": "execute_result"
    }
   ],
   "source": [
    "data_1_train, data_1_valid = train_test_split(data_1, test_size=0.25, random_state=12345)\n",
    "data_1_train.shape"
   ]
  },
  {
   "cell_type": "code",
   "execution_count": 11,
   "metadata": {},
   "outputs": [],
   "source": [
    "features_1_train = data_1_train.drop(['id', 'product'], axis=1)\n",
    "target_1_train = data_1_train['product']\n",
    "\n",
    "features_1_valid = data_1_valid.drop(['id', 'product'], axis=1)\n",
    "target_1_valid = data_1_valid['product']"
   ]
  },
  {
   "cell_type": "code",
   "execution_count": 12,
   "metadata": {},
   "outputs": [
    {
     "data": {
      "text/plain": [
       "(75000, 5)"
      ]
     },
     "execution_count": 12,
     "metadata": {},
     "output_type": "execute_result"
    }
   ],
   "source": [
    "data_2_train, data_2_valid = train_test_split(data_2, test_size=0.25, random_state=12345)\n",
    "data_2_train.shape"
   ]
  },
  {
   "cell_type": "code",
   "execution_count": 13,
   "metadata": {},
   "outputs": [],
   "source": [
    "features_2_train = data_2_train.drop(['id', 'product'], axis=1)\n",
    "target_2_train = data_2_train['product']\n",
    "\n",
    "features_2_valid = data_2_valid.drop(['id', 'product'], axis=1)\n",
    "target_2_valid = data_2_valid['product']"
   ]
  },
  {
   "cell_type": "markdown",
   "metadata": {},
   "source": [
    "<div class=\"alert alert-info\">\n",
    "Сохранили предсказания и правильные ответы на валидационной выборке</div"
   ]
  },
  {
   "cell_type": "markdown",
   "metadata": {},
   "source": [
    " <div class=\"alert alert-info\">\n",
    "Обучим модель и сделаем предсказания на валидационной выборке. Так как надо предсказать некий диапазон, а не точное число, нужна задача регрессии, а не классификации</div"
   ]
  },
  {
   "cell_type": "markdown",
   "metadata": {},
   "source": [
    "<div class=\"alert alert-info\">\n",
    "Какая метрика подходит для задачи регрессии? Наиболее распространённая метрика качества в задаче регрессии — средняя квадратичная ошибка, MSE </div"
   ]
  },
  {
   "cell_type": "code",
   "execution_count": 14,
   "metadata": {},
   "outputs": [
    {
     "name": "stdout",
     "output_type": "stream",
     "text": [
      "Средний запас предсказанного сырья 92.07859674082927\n",
      "RMSE модели линейной регрессии на валидационной выборке: 37.5794217150813\n"
     ]
    }
   ],
   "source": [
    "model = LinearRegression() \n",
    "model.fit(features_0_train, target_0_train) \n",
    "predictions_valid_0 = model.predict(features_0_valid) \n",
    "\n",
    "result_0 = (mean_squared_error(target_0_valid, predictions_valid_0))**0.5\n",
    "stock_0 = target_0_valid.mean()\n",
    "print (\"Средний запас предсказанного сырья\", stock_0)\n",
    "print(\"RMSE модели линейной регрессии на валидационной выборке:\", result_0)"
   ]
  },
  {
   "cell_type": "code",
   "execution_count": 15,
   "metadata": {},
   "outputs": [
    {
     "name": "stdout",
     "output_type": "stream",
     "text": [
      "Средний запас предсказанного сырья 68.72313602435997\n",
      "RMSE модели линейной регрессии на валидационной выборке: 0.893099286775617\n"
     ]
    }
   ],
   "source": [
    "model = LinearRegression() \n",
    "model.fit(features_1_train, target_1_train) \n",
    "predictions_valid_1 = model.predict(features_1_valid) \n",
    "\n",
    "result_1 = (mean_squared_error(target_1_valid, predictions_valid_1))**0.5\n",
    "stock_1 = target_1_valid.mean()\n",
    "print (\"Средний запас предсказанного сырья\", stock_1)\n",
    "print(\"RMSE модели линейной регрессии на валидационной выборке:\", result_1)"
   ]
  },
  {
   "cell_type": "code",
   "execution_count": 16,
   "metadata": {},
   "outputs": [
    {
     "name": "stdout",
     "output_type": "stream",
     "text": [
      "Средний запас предсказанного сырья 94.88423280885438\n",
      "RMSE модели линейной регрессии на валидационной выборке: 40.02970873393434\n"
     ]
    }
   ],
   "source": [
    "model = LinearRegression() \n",
    "model.fit(features_2_train, target_2_train) \n",
    "predictions_valid_2 = model.predict(features_2_valid) \n",
    "\n",
    "result_2 = (mean_squared_error(target_2_valid, predictions_valid_2))**0.5\n",
    "stock_2 = target_2_valid.mean()\n",
    "print (\"Средний запас предсказанного сырья\", stock_2)\n",
    "print(\"RMSE модели линейной регрессии на валидационной выборке:\", result_2)"
   ]
  },
  {
   "cell_type": "markdown",
   "metadata": {},
   "source": [
    "<div class=\"alert alert-info\">\n",
    "RMSE у двух регионов 37 и 40, а у одного - 0,89. RMSE говорит нам о средней ошибке модели, насколько в среднем наша модель ошибается,  Чем меньше ее значение тем лучше. Видно, что у региона0 и региона2 средний запас сырья больше, чем у региона1. Но среднеквадратичное отклонение больше на два порядка. То есть предположительный запас сырья у региона1 меньше, но предсказать это количество мы можем с большей точностью, чем для других регионов.</div"
   ]
  },
  {
   "cell_type": "markdown",
   "metadata": {},
   "source": [
    "## Подготовка к расчёту прибыли"
   ]
  },
  {
   "cell_type": "markdown",
   "metadata": {},
   "source": [
    "<div class=\"alert alert-info\">\n",
    "Для обучения модели подходит только линейная регрессия (остальные — недостаточно предсказуемые).\n",
    "При разведке региона исследуют 500 точек, из которых с помощью машинного обучения выбирают 200 лучших для разработки.\n",
    "Бюджет на разработку скважин в регионе — 10 млрд рублей.\n",
    "При нынешних ценах один баррель сырья приносит 450 рублей дохода. Доход с каждой единицы продукта составляет 450 тыс. рублей, поскольку объём указан в тысячах баррелей.\n",
    "После оценки рисков нужно оставить лишь те регионы, в которых вероятность убытков меньше 2.5%. Среди них выбирают регион с наибольшей средней прибылью.</div"
   ]
  },
  {
   "cell_type": "code",
   "execution_count": 17,
   "metadata": {},
   "outputs": [],
   "source": [
    "budget = 10_000_000_000 # бюджет\n",
    "quantity = 500       # количество исследуемых точек в регионе\n",
    "quan_best = 200      # количество лучших точек\n",
    "price = 450_000       # доход с каждой единицы продукта (1000 баррелей сырья)\n"
   ]
  },
  {
   "cell_type": "markdown",
   "metadata": {},
   "source": [
    "<div class=\"alert alert-info\">\n",
    "Рассчитаем достаточный объём сырья для безубыточной разработки новой скважины.</div"
   ]
  },
  {
   "cell_type": "code",
   "execution_count": 18,
   "metadata": {},
   "outputs": [
    {
     "data": {
      "text/plain": [
       "111.11111111111111"
      ]
     },
     "execution_count": 18,
     "metadata": {},
     "output_type": "execute_result"
    }
   ],
   "source": [
    "expense = budget / (quan_best * price)\n",
    "expense"
   ]
  },
  {
   "cell_type": "markdown",
   "metadata": {},
   "source": [
    "<div class=\"alert alert-info\">\n",
    "Получилось, что достаточный объём сырья для безубыточной разработки новой скважины превышает средние объемы запасов каждого из регионов. Значит, некоторые скважины убыточные и если мы будем выбирать их в каждом из регионов случайным образом, то с немалой вероятностью можем получить убыток. Нужна модель, которая позволит нам прогнозировать объем продукта в скважине перед началом ее разработки.</div"
   ]
  },
  {
   "cell_type": "markdown",
   "metadata": {},
   "source": [
    "## Расчёт прибыли и рисков "
   ]
  },
  {
   "cell_type": "markdown",
   "metadata": {},
   "source": [
    "<div class=\"alert alert-info\">\n",
    "Напишем функцию для расчёта прибыли по выбранным скважинам и предсказаниям модели:</div"
   ]
  },
  {
   "cell_type": "markdown",
   "metadata": {},
   "source": [
    "<div class=\"alert alert-info\">\n",
    "Я выбираю случайным образом 500 точек из признаков валидационной выборки, по ним модель делает предсказания, из этих предсказаний выбираю 200 лучших значений. После этого 200 значений суммирую и вычисляю прибыль. \n",
    "Подразумевается выбор 200 скважин с максимальными значениями предсказанного объема продукта для каждого региона. Получается мы сортируем предсказания от большего к меньшему и выбираем топ 200 скважин.</div"
   ]
  },
  {
   "cell_type": "code",
   "execution_count": 22,
   "metadata": {},
   "outputs": [
    {
     "data": {
      "text/plain": [
       "200"
      ]
     },
     "execution_count": 22,
     "metadata": {},
     "output_type": "execute_result"
    }
   ],
   "source": [
    "holes_0 = pd.Series(predictions_valid_0).sort_values(ascending=False).head(200)\n",
    "holes_0.count()"
   ]
  },
  {
   "cell_type": "code",
   "execution_count": 23,
   "metadata": {},
   "outputs": [
    {
     "data": {
      "text/plain": [
       "20430    139.818970\n",
       "7777     139.773423\n",
       "8755     139.703330\n",
       "1178     139.560938\n",
       "4285     139.516754\n",
       "dtype: float64"
      ]
     },
     "execution_count": 23,
     "metadata": {},
     "output_type": "execute_result"
    }
   ],
   "source": [
    "holes_1 = pd.Series(predictions_valid_1).sort_values(ascending=False).head(200)\n",
    "holes_1.head()"
   ]
  },
  {
   "cell_type": "code",
   "execution_count": 24,
   "metadata": {},
   "outputs": [
    {
     "data": {
      "text/plain": [
       "22636    165.856833\n",
       "24690    165.679685\n",
       "7811     163.439962\n",
       "1581     162.062589\n",
       "6751     161.797476\n",
       "dtype: float64"
      ]
     },
     "execution_count": 24,
     "metadata": {},
     "output_type": "execute_result"
    }
   ],
   "source": [
    "holes_2 = pd.Series(predictions_valid_2).sort_values(ascending=False).head(200)\n",
    "holes_2.head()"
   ]
  },
  {
   "cell_type": "markdown",
   "metadata": {},
   "source": [
    "<div class=\"alert alert-info\">\n",
    "Просуммируем целевое значение объёма сырья, соответствующее этим предсказаниям.</div "
   ]
  },
  {
   "cell_type": "code",
   "execution_count": 28,
   "metadata": {},
   "outputs": [
    {
     "data": {
      "text/plain": [
       "31102.3308388114"
      ]
     },
     "execution_count": 28,
     "metadata": {},
     "output_type": "execute_result"
    }
   ],
   "source": [
    "holes_0_sum = holes_0.sum()\n",
    "holes_0_sum"
   ]
  },
  {
   "cell_type": "code",
   "execution_count": 29,
   "metadata": {},
   "outputs": [
    {
     "data": {
      "text/plain": [
       "27746.026782163426"
      ]
     },
     "execution_count": 29,
     "metadata": {},
     "output_type": "execute_result"
    }
   ],
   "source": [
    "holes_1_sum = holes_1.sum()\n",
    "holes_1_sum"
   ]
  },
  {
   "cell_type": "code",
   "execution_count": 30,
   "metadata": {},
   "outputs": [
    {
     "data": {
      "text/plain": [
       "29603.898658318347"
      ]
     },
     "execution_count": 30,
     "metadata": {},
     "output_type": "execute_result"
    }
   ],
   "source": [
    "holes_2_sum = holes_2.sum()\n",
    "holes_2_sum"
   ]
  },
  {
   "cell_type": "markdown",
   "metadata": {},
   "source": [
    "<div class=\"alert alert-info\">\n",
    "Рассчитаем прибыль для полученного объёма сырья.</div "
   ]
  },
  {
   "cell_type": "code",
   "execution_count": 31,
   "metadata": {},
   "outputs": [
    {
     "name": "stdout",
     "output_type": "stream",
     "text": [
      "3996048877.46513\n",
      "2485712051.9735413\n",
      "3321754396.2432556\n"
     ]
    }
   ],
   "source": [
    "def profit_gen(holes_sum):\n",
    "    profit = holes_sum * price - budget\n",
    "    return profit\n",
    "profit_gen_0 = profit_gen(holes_0_sum)\n",
    "profit_gen_1 = profit_gen(holes_1_sum)\n",
    "profit_gen_2 = profit_gen(holes_2_sum)\n",
    "print (profit_gen_0)\n",
    "print (profit_gen_1)\n",
    "print (profit_gen_2)"
   ]
  },
  {
   "cell_type": "markdown",
   "metadata": {},
   "source": [
    "<div class=\"alert alert-info\">\n",
    "Посчитаем риски и прибыль для каждого региона:</div "
   ]
  },
  {
   "cell_type": "code",
   "execution_count": 32,
   "metadata": {},
   "outputs": [
    {
     "data": {
      "text/plain": [
       "25000"
      ]
     },
     "execution_count": 32,
     "metadata": {},
     "output_type": "execute_result"
    }
   ],
   "source": [
    "len(predictions_valid_0)"
   ]
  },
  {
   "cell_type": "code",
   "execution_count": 33,
   "metadata": {},
   "outputs": [
    {
     "data": {
      "text/plain": [
       "25000"
      ]
     },
     "execution_count": 33,
     "metadata": {},
     "output_type": "execute_result"
    }
   ],
   "source": [
    "target_0_valid.count()"
   ]
  },
  {
   "cell_type": "code",
   "execution_count": 34,
   "metadata": {},
   "outputs": [
    {
     "data": {
      "text/html": [
       "<div>\n",
       "<style scoped>\n",
       "    .dataframe tbody tr th:only-of-type {\n",
       "        vertical-align: middle;\n",
       "    }\n",
       "\n",
       "    .dataframe tbody tr th {\n",
       "        vertical-align: top;\n",
       "    }\n",
       "\n",
       "    .dataframe thead th {\n",
       "        text-align: right;\n",
       "    }\n",
       "</style>\n",
       "<table border=\"1\" class=\"dataframe\">\n",
       "  <thead>\n",
       "    <tr style=\"text-align: right;\">\n",
       "      <th></th>\n",
       "      <th>predictions</th>\n",
       "      <th>target</th>\n",
       "    </tr>\n",
       "  </thead>\n",
       "  <tbody>\n",
       "    <tr>\n",
       "      <th>24995</th>\n",
       "      <td>103.037104</td>\n",
       "      <td>170.116726</td>\n",
       "    </tr>\n",
       "    <tr>\n",
       "      <th>24996</th>\n",
       "      <td>85.403255</td>\n",
       "      <td>93.632175</td>\n",
       "    </tr>\n",
       "    <tr>\n",
       "      <th>24997</th>\n",
       "      <td>61.509833</td>\n",
       "      <td>127.352259</td>\n",
       "    </tr>\n",
       "    <tr>\n",
       "      <th>24998</th>\n",
       "      <td>118.180397</td>\n",
       "      <td>99.782700</td>\n",
       "    </tr>\n",
       "    <tr>\n",
       "      <th>24999</th>\n",
       "      <td>118.169392</td>\n",
       "      <td>177.821022</td>\n",
       "    </tr>\n",
       "  </tbody>\n",
       "</table>\n",
       "</div>"
      ],
      "text/plain": [
       "       predictions      target\n",
       "24995   103.037104  170.116726\n",
       "24996    85.403255   93.632175\n",
       "24997    61.509833  127.352259\n",
       "24998   118.180397   99.782700\n",
       "24999   118.169392  177.821022"
      ]
     },
     "execution_count": 34,
     "metadata": {},
     "output_type": "execute_result"
    }
   ],
   "source": [
    "predictions_valid_0 = pd.Series(predictions_valid_0)\n",
    "target_0_valid = target_0_valid.reset_index(drop=True)\n",
    "predictions_valid_0 = predictions_valid_0.reset_index(drop=True)\n",
    "\n",
    "target_pred_concat_0 = pd.concat([predictions_valid_0, target_0_valid], axis=1)\n",
    "target_pred_concat_0 = target_pred_concat_0.rename(columns = {\"product\":\"target\", 0: \"predictions\"})\n",
    "target_pred_concat_0.tail()"
   ]
  },
  {
   "cell_type": "code",
   "execution_count": 35,
   "metadata": {},
   "outputs": [
    {
     "data": {
      "text/html": [
       "<div>\n",
       "<style scoped>\n",
       "    .dataframe tbody tr th:only-of-type {\n",
       "        vertical-align: middle;\n",
       "    }\n",
       "\n",
       "    .dataframe tbody tr th {\n",
       "        vertical-align: top;\n",
       "    }\n",
       "\n",
       "    .dataframe thead th {\n",
       "        text-align: right;\n",
       "    }\n",
       "</style>\n",
       "<table border=\"1\" class=\"dataframe\">\n",
       "  <thead>\n",
       "    <tr style=\"text-align: right;\">\n",
       "      <th></th>\n",
       "      <th>predictions</th>\n",
       "      <th>target</th>\n",
       "    </tr>\n",
       "  </thead>\n",
       "  <tbody>\n",
       "    <tr>\n",
       "      <th>0</th>\n",
       "      <td>82.663314</td>\n",
       "      <td>80.859783</td>\n",
       "    </tr>\n",
       "    <tr>\n",
       "      <th>1</th>\n",
       "      <td>54.431786</td>\n",
       "      <td>53.906522</td>\n",
       "    </tr>\n",
       "    <tr>\n",
       "      <th>2</th>\n",
       "      <td>29.748760</td>\n",
       "      <td>30.132364</td>\n",
       "    </tr>\n",
       "    <tr>\n",
       "      <th>3</th>\n",
       "      <td>53.552133</td>\n",
       "      <td>53.906522</td>\n",
       "    </tr>\n",
       "    <tr>\n",
       "      <th>4</th>\n",
       "      <td>1.243856</td>\n",
       "      <td>0.000000</td>\n",
       "    </tr>\n",
       "  </tbody>\n",
       "</table>\n",
       "</div>"
      ],
      "text/plain": [
       "   predictions     target\n",
       "0    82.663314  80.859783\n",
       "1    54.431786  53.906522\n",
       "2    29.748760  30.132364\n",
       "3    53.552133  53.906522\n",
       "4     1.243856   0.000000"
      ]
     },
     "execution_count": 35,
     "metadata": {},
     "output_type": "execute_result"
    }
   ],
   "source": [
    "predictions_valid_1 = pd.Series(predictions_valid_1)\n",
    "target_1_valid = target_1_valid.reset_index(drop=True)\n",
    "predictions_valid_1 = predictions_valid_1.reset_index(drop=True)\n",
    "\n",
    "target_pred_concat_1 = pd.concat([predictions_valid_1, target_1_valid], axis=1)\n",
    "target_pred_concat_1 = target_pred_concat_1.rename(columns = {\"product\":\"target\", 0: \"predictions\"})\n",
    "target_pred_concat_1.head()"
   ]
  },
  {
   "cell_type": "code",
   "execution_count": 36,
   "metadata": {},
   "outputs": [
    {
     "data": {
      "text/html": [
       "<div>\n",
       "<style scoped>\n",
       "    .dataframe tbody tr th:only-of-type {\n",
       "        vertical-align: middle;\n",
       "    }\n",
       "\n",
       "    .dataframe tbody tr th {\n",
       "        vertical-align: top;\n",
       "    }\n",
       "\n",
       "    .dataframe thead th {\n",
       "        text-align: right;\n",
       "    }\n",
       "</style>\n",
       "<table border=\"1\" class=\"dataframe\">\n",
       "  <thead>\n",
       "    <tr style=\"text-align: right;\">\n",
       "      <th></th>\n",
       "      <th>predictions</th>\n",
       "      <th>target</th>\n",
       "    </tr>\n",
       "  </thead>\n",
       "  <tbody>\n",
       "    <tr>\n",
       "      <th>0</th>\n",
       "      <td>93.599633</td>\n",
       "      <td>61.212375</td>\n",
       "    </tr>\n",
       "    <tr>\n",
       "      <th>1</th>\n",
       "      <td>75.105159</td>\n",
       "      <td>41.850118</td>\n",
       "    </tr>\n",
       "    <tr>\n",
       "      <th>2</th>\n",
       "      <td>90.066809</td>\n",
       "      <td>57.776581</td>\n",
       "    </tr>\n",
       "    <tr>\n",
       "      <th>3</th>\n",
       "      <td>105.162375</td>\n",
       "      <td>100.053761</td>\n",
       "    </tr>\n",
       "    <tr>\n",
       "      <th>4</th>\n",
       "      <td>115.303310</td>\n",
       "      <td>109.897122</td>\n",
       "    </tr>\n",
       "  </tbody>\n",
       "</table>\n",
       "</div>"
      ],
      "text/plain": [
       "   predictions      target\n",
       "0    93.599633   61.212375\n",
       "1    75.105159   41.850118\n",
       "2    90.066809   57.776581\n",
       "3   105.162375  100.053761\n",
       "4   115.303310  109.897122"
      ]
     },
     "execution_count": 36,
     "metadata": {},
     "output_type": "execute_result"
    }
   ],
   "source": [
    "predictions_valid_2 = pd.Series(predictions_valid_2)\n",
    "target_2_valid = target_2_valid.reset_index(drop=True)\n",
    "predictions_valid_2 = predictions_valid_2.reset_index(drop=True)\n",
    "\n",
    "target_pred_concat_2 = pd.concat([predictions_valid_2, target_2_valid], axis=1)\n",
    "target_pred_concat_2 = target_pred_concat_2.rename(columns = {\"product\":\"target\", 0: \"predictions\"})\n",
    "target_pred_concat_2.head()"
   ]
  },
  {
   "cell_type": "markdown",
   "metadata": {},
   "source": [
    "<div class=\"alert alert-info\">\n",
    "Применим технику Bootstrap с 1000 выборок, чтобы найти распределение прибыли. Найдём среднюю прибыль, 95%-й доверительный интервал и риск убытков. </div"
   ]
  },
  {
   "cell_type": "code",
   "execution_count": 37,
   "metadata": {},
   "outputs": [
    {
     "data": {
      "text/html": [
       "<div>\n",
       "<style scoped>\n",
       "    .dataframe tbody tr th:only-of-type {\n",
       "        vertical-align: middle;\n",
       "    }\n",
       "\n",
       "    .dataframe tbody tr th {\n",
       "        vertical-align: top;\n",
       "    }\n",
       "\n",
       "    .dataframe thead th {\n",
       "        text-align: right;\n",
       "    }\n",
       "</style>\n",
       "<table border=\"1\" class=\"dataframe\">\n",
       "  <thead>\n",
       "    <tr style=\"text-align: right;\">\n",
       "      <th></th>\n",
       "      <th>predictions</th>\n",
       "      <th>target</th>\n",
       "    </tr>\n",
       "  </thead>\n",
       "  <tbody>\n",
       "    <tr>\n",
       "      <th>20962</th>\n",
       "      <td>69.031631</td>\n",
       "      <td>34.280424</td>\n",
       "    </tr>\n",
       "    <tr>\n",
       "      <th>11749</th>\n",
       "      <td>108.084038</td>\n",
       "      <td>55.567766</td>\n",
       "    </tr>\n",
       "    <tr>\n",
       "      <th>2177</th>\n",
       "      <td>89.065885</td>\n",
       "      <td>26.938283</td>\n",
       "    </tr>\n",
       "    <tr>\n",
       "      <th>19876</th>\n",
       "      <td>109.885938</td>\n",
       "      <td>133.142251</td>\n",
       "    </tr>\n",
       "    <tr>\n",
       "      <th>11689</th>\n",
       "      <td>71.893169</td>\n",
       "      <td>12.386952</td>\n",
       "    </tr>\n",
       "    <tr>\n",
       "      <th>...</th>\n",
       "      <td>...</td>\n",
       "      <td>...</td>\n",
       "    </tr>\n",
       "    <tr>\n",
       "      <th>13517</th>\n",
       "      <td>51.883205</td>\n",
       "      <td>90.511196</td>\n",
       "    </tr>\n",
       "    <tr>\n",
       "      <th>17127</th>\n",
       "      <td>88.959983</td>\n",
       "      <td>134.992329</td>\n",
       "    </tr>\n",
       "    <tr>\n",
       "      <th>341</th>\n",
       "      <td>113.393785</td>\n",
       "      <td>74.874896</td>\n",
       "    </tr>\n",
       "    <tr>\n",
       "      <th>3949</th>\n",
       "      <td>54.043185</td>\n",
       "      <td>90.708239</td>\n",
       "    </tr>\n",
       "    <tr>\n",
       "      <th>14684</th>\n",
       "      <td>115.134762</td>\n",
       "      <td>146.577081</td>\n",
       "    </tr>\n",
       "  </tbody>\n",
       "</table>\n",
       "<p>500 rows × 2 columns</p>\n",
       "</div>"
      ],
      "text/plain": [
       "       predictions      target\n",
       "20962    69.031631   34.280424\n",
       "11749   108.084038   55.567766\n",
       "2177     89.065885   26.938283\n",
       "19876   109.885938  133.142251\n",
       "11689    71.893169   12.386952\n",
       "...            ...         ...\n",
       "13517    51.883205   90.511196\n",
       "17127    88.959983  134.992329\n",
       "341     113.393785   74.874896\n",
       "3949     54.043185   90.708239\n",
       "14684   115.134762  146.577081\n",
       "\n",
       "[500 rows x 2 columns]"
      ]
     },
     "execution_count": 37,
     "metadata": {},
     "output_type": "execute_result"
    }
   ],
   "source": [
    "state = np.random.RandomState(12345)\n",
    "target_pred_subsample_0 = target_pred_concat_0.sample(n=500, replace=True, random_state=state)\n",
    "target_pred_subsample_0"
   ]
  },
  {
   "cell_type": "code",
   "execution_count": 38,
   "metadata": {},
   "outputs": [
    {
     "name": "stdout",
     "output_type": "stream",
     "text": [
      "Риски региона_0: 6.0\n",
      "Средняя выручка региона_0: 425368536.2814983\n",
      "2,5%-квантиль: -102090094.83793654\n",
      "0    5.363934e+08\n",
      "1    2.110794e+08\n",
      "2    2.652803e+08\n",
      "3    2.719929e+08\n",
      "4    4.047124e+08\n",
      "dtype: float64\n"
     ]
    }
   ],
   "source": [
    "def revenue(target, probabilities, count):\n",
    "    probs_sorted = probabilities.sort_values(ascending=False)\n",
    "    selected = target[probs_sorted.index][:count]\n",
    "    return (price * selected.sum() - budget)\n",
    "    \n",
    "values = []\n",
    "\n",
    "for i in range(1000):\n",
    "    target_pred_subsample = target_pred_concat_0.sample(n=500, replace=True, random_state=state)\n",
    "    values.append(revenue(target_pred_subsample['target'], target_pred_subsample['predictions'], 200))\n",
    "\n",
    "values = pd.Series(values)\n",
    "lower_0 = values.quantile(0.025)\n",
    "upper = values.quantile(0.975) \n",
    "mean_0 = values.mean()\n",
    "risk_0 = (values < 0).mean() * 100\n",
    "print (\"Риски региона_0:\", risk_0)\n",
    "print(\"Средняя выручка региона_0:\", mean_0)\n",
    "print(\"2,5%-квантиль:\", lower_0)\n",
    "print (values.head())"
   ]
  },
  {
   "cell_type": "code",
   "execution_count": 39,
   "metadata": {},
   "outputs": [
    {
     "data": {
      "text/html": [
       "<div>\n",
       "<style scoped>\n",
       "    .dataframe tbody tr th:only-of-type {\n",
       "        vertical-align: middle;\n",
       "    }\n",
       "\n",
       "    .dataframe tbody tr th {\n",
       "        vertical-align: top;\n",
       "    }\n",
       "\n",
       "    .dataframe thead th {\n",
       "        text-align: right;\n",
       "    }\n",
       "</style>\n",
       "<table border=\"1\" class=\"dataframe\">\n",
       "  <thead>\n",
       "    <tr style=\"text-align: right;\">\n",
       "      <th></th>\n",
       "      <th>predictions</th>\n",
       "      <th>target</th>\n",
       "    </tr>\n",
       "  </thead>\n",
       "  <tbody>\n",
       "    <tr>\n",
       "      <th>8222</th>\n",
       "      <td>81.097991</td>\n",
       "      <td>80.859783</td>\n",
       "    </tr>\n",
       "    <tr>\n",
       "      <th>6498</th>\n",
       "      <td>2.424588</td>\n",
       "      <td>3.179103</td>\n",
       "    </tr>\n",
       "    <tr>\n",
       "      <th>16910</th>\n",
       "      <td>2.264602</td>\n",
       "      <td>3.179103</td>\n",
       "    </tr>\n",
       "    <tr>\n",
       "      <th>3346</th>\n",
       "      <td>136.767611</td>\n",
       "      <td>137.945408</td>\n",
       "    </tr>\n",
       "    <tr>\n",
       "      <th>1041</th>\n",
       "      <td>27.852646</td>\n",
       "      <td>26.953261</td>\n",
       "    </tr>\n",
       "    <tr>\n",
       "      <th>...</th>\n",
       "      <td>...</td>\n",
       "      <td>...</td>\n",
       "    </tr>\n",
       "    <tr>\n",
       "      <th>12152</th>\n",
       "      <td>30.158440</td>\n",
       "      <td>30.132364</td>\n",
       "    </tr>\n",
       "    <tr>\n",
       "      <th>15612</th>\n",
       "      <td>53.339444</td>\n",
       "      <td>53.906522</td>\n",
       "    </tr>\n",
       "    <tr>\n",
       "      <th>10011</th>\n",
       "      <td>-0.128454</td>\n",
       "      <td>0.000000</td>\n",
       "    </tr>\n",
       "    <tr>\n",
       "      <th>11537</th>\n",
       "      <td>135.196043</td>\n",
       "      <td>134.766305</td>\n",
       "    </tr>\n",
       "    <tr>\n",
       "      <th>8871</th>\n",
       "      <td>54.817711</td>\n",
       "      <td>53.906522</td>\n",
       "    </tr>\n",
       "  </tbody>\n",
       "</table>\n",
       "<p>500 rows × 2 columns</p>\n",
       "</div>"
      ],
      "text/plain": [
       "       predictions      target\n",
       "8222     81.097991   80.859783\n",
       "6498      2.424588    3.179103\n",
       "16910     2.264602    3.179103\n",
       "3346    136.767611  137.945408\n",
       "1041     27.852646   26.953261\n",
       "...            ...         ...\n",
       "12152    30.158440   30.132364\n",
       "15612    53.339444   53.906522\n",
       "10011    -0.128454    0.000000\n",
       "11537   135.196043  134.766305\n",
       "8871     54.817711   53.906522\n",
       "\n",
       "[500 rows x 2 columns]"
      ]
     },
     "execution_count": 39,
     "metadata": {},
     "output_type": "execute_result"
    }
   ],
   "source": [
    "target_pred_subsample_1 = target_pred_concat_1.sample(n=500, replace=True, random_state=state)\n",
    "target_pred_subsample_1"
   ]
  },
  {
   "cell_type": "code",
   "execution_count": 40,
   "metadata": {},
   "outputs": [
    {
     "name": "stdout",
     "output_type": "stream",
     "text": [
      "Риски региона_1: 0.3\n",
      "Средняя выручка региона_1: 518749628.38254464\n",
      "2,5%-квантиль: 129518062.69146843\n"
     ]
    }
   ],
   "source": [
    "values = []\n",
    "for i in range(1000):\n",
    "    target_pred_subsample = target_pred_concat_1.sample(n=500, replace=True, random_state=state)\n",
    "    values.append(revenue(target_pred_subsample['target'], target_pred_subsample['predictions'], 200))\n",
    "\n",
    "values = pd.Series(values)\n",
    "lower_1 = values.quantile(0.025)\n",
    "upper = values.quantile(0.975) \n",
    "mean_1 = values.mean()\n",
    "risk_1 = (values < 0).mean() * 100\n",
    "print (\"Риски региона_1:\", risk_1)\n",
    "print(\"Средняя выручка региона_1:\", mean_1)\n",
    "print(\"2,5%-квантиль:\", lower_1)"
   ]
  },
  {
   "cell_type": "code",
   "execution_count": 41,
   "metadata": {},
   "outputs": [
    {
     "data": {
      "text/html": [
       "<div>\n",
       "<style scoped>\n",
       "    .dataframe tbody tr th:only-of-type {\n",
       "        vertical-align: middle;\n",
       "    }\n",
       "\n",
       "    .dataframe tbody tr th {\n",
       "        vertical-align: top;\n",
       "    }\n",
       "\n",
       "    .dataframe thead th {\n",
       "        text-align: right;\n",
       "    }\n",
       "</style>\n",
       "<table border=\"1\" class=\"dataframe\">\n",
       "  <thead>\n",
       "    <tr style=\"text-align: right;\">\n",
       "      <th></th>\n",
       "      <th>predictions</th>\n",
       "      <th>target</th>\n",
       "    </tr>\n",
       "  </thead>\n",
       "  <tbody>\n",
       "    <tr>\n",
       "      <th>3340</th>\n",
       "      <td>97.754351</td>\n",
       "      <td>69.605753</td>\n",
       "    </tr>\n",
       "    <tr>\n",
       "      <th>18089</th>\n",
       "      <td>112.135087</td>\n",
       "      <td>151.982040</td>\n",
       "    </tr>\n",
       "    <tr>\n",
       "      <th>22840</th>\n",
       "      <td>74.695896</td>\n",
       "      <td>79.130125</td>\n",
       "    </tr>\n",
       "    <tr>\n",
       "      <th>11792</th>\n",
       "      <td>99.762250</td>\n",
       "      <td>52.689146</td>\n",
       "    </tr>\n",
       "    <tr>\n",
       "      <th>23329</th>\n",
       "      <td>109.715181</td>\n",
       "      <td>149.943969</td>\n",
       "    </tr>\n",
       "    <tr>\n",
       "      <th>...</th>\n",
       "      <td>...</td>\n",
       "      <td>...</td>\n",
       "    </tr>\n",
       "    <tr>\n",
       "      <th>14560</th>\n",
       "      <td>101.168118</td>\n",
       "      <td>88.176676</td>\n",
       "    </tr>\n",
       "    <tr>\n",
       "      <th>662</th>\n",
       "      <td>85.498749</td>\n",
       "      <td>90.847463</td>\n",
       "    </tr>\n",
       "    <tr>\n",
       "      <th>3766</th>\n",
       "      <td>91.956291</td>\n",
       "      <td>56.658706</td>\n",
       "    </tr>\n",
       "    <tr>\n",
       "      <th>16046</th>\n",
       "      <td>96.124394</td>\n",
       "      <td>56.101113</td>\n",
       "    </tr>\n",
       "    <tr>\n",
       "      <th>22718</th>\n",
       "      <td>87.444014</td>\n",
       "      <td>153.206117</td>\n",
       "    </tr>\n",
       "  </tbody>\n",
       "</table>\n",
       "<p>500 rows × 2 columns</p>\n",
       "</div>"
      ],
      "text/plain": [
       "       predictions      target\n",
       "3340     97.754351   69.605753\n",
       "18089   112.135087  151.982040\n",
       "22840    74.695896   79.130125\n",
       "11792    99.762250   52.689146\n",
       "23329   109.715181  149.943969\n",
       "...            ...         ...\n",
       "14560   101.168118   88.176676\n",
       "662      85.498749   90.847463\n",
       "3766     91.956291   56.658706\n",
       "16046    96.124394   56.101113\n",
       "22718    87.444014  153.206117\n",
       "\n",
       "[500 rows x 2 columns]"
      ]
     },
     "execution_count": 41,
     "metadata": {},
     "output_type": "execute_result"
    }
   ],
   "source": [
    "target_pred_subsample_2 = target_pred_concat_2.sample(n=500, replace=True, random_state=state)\n",
    "target_pred_subsample_2"
   ]
  },
  {
   "cell_type": "code",
   "execution_count": 42,
   "metadata": {},
   "outputs": [
    {
     "name": "stdout",
     "output_type": "stream",
     "text": [
      "Риски региона_2: 6.2\n",
      "Средняя выручка региона_2: 419919676.28175795\n",
      "2,5%-квантиль: -115852609.16001143\n"
     ]
    }
   ],
   "source": [
    "values = []\n",
    "for i in range(1000):\n",
    "    target_pred_subsample = target_pred_concat_2.sample(n=500, replace=True, random_state=state)\n",
    "    values.append(revenue(target_pred_subsample['target'], target_pred_subsample['predictions'], 200))\n",
    "\n",
    "values = pd.Series(values)\n",
    "lower_2 = values.quantile(0.025)\n",
    "upper = values.quantile(0.975) \n",
    "mean_2 = values.mean()\n",
    "risk_2 = (values < 0).mean() * 100\n",
    "print (\"Риски региона_2:\", risk_2)\n",
    "print(\"Средняя выручка региона_2:\", mean_2)\n",
    "print(\"2,5%-квантиль:\", lower_2)"
   ]
  },
  {
   "cell_type": "code",
   "execution_count": 44,
   "metadata": {},
   "outputs": [
    {
     "name": "stdout",
     "output_type": "stream",
     "text": [
      "425368536.2814983\n",
      "-102090094.83793654\n",
      "6.0\n",
      "\n",
      "518749628.38254464\n",
      "129518062.69146843\n",
      "0.3\n",
      "\n",
      "419919676.28175795\n",
      "-115852609.16001143\n",
      "6.2\n"
     ]
    }
   ],
   "source": [
    "print (mean_0)\n",
    "print (lower_0)\n",
    "print (risk_0)\n",
    "print ( )\n",
    "print (mean_1)\n",
    "print (lower_1)\n",
    "print (risk_1)\n",
    "print ()\n",
    "print (mean_2)\n",
    "print (lower_2)\n",
    "print (risk_2)"
   ]
  },
  {
   "cell_type": "markdown",
   "metadata": {},
   "source": [
    "<div class=\"alert alert-info\">\n",
    "Напишите выводы: предложите регион для разработки скважин и обоснуйте выбор.\n",
    "<br> \n",
    "    <br>\n",
    "У региона0 и региона2 средний запас сырья больше, чем у региона1. Но среднеквадратичное отклонение больше на два порядка. То есть предположительный запас сырья у региона1 меньше, но предсказать это количество мы можем с большей точностью, чем для других регионов.\n",
    "    <br>\n",
    "    <br>\n",
    "Если смотреть на среднюю выручку по регионам, то она выше у региона1, и квантиль тоже единственный неотрицательный. Риски однозначно самые низкие\n",
    "    <br>\n",
    "Поэтому однозначно надо выбирать регион1.\n",
    "</div"
   ]
  }
 ],
 "metadata": {
  "ExecuteTimeLog": [
   {
    "duration": 55,
    "start_time": "2023-03-05T18:33:32.630Z"
   },
   {
    "duration": 415,
    "start_time": "2023-03-05T18:33:45.693Z"
   },
   {
    "duration": 720,
    "start_time": "2023-03-05T18:33:46.109Z"
   },
   {
    "duration": 1077,
    "start_time": "2023-03-05T18:34:14.573Z"
   },
   {
    "duration": 726,
    "start_time": "2023-03-05T18:34:42.571Z"
   },
   {
    "duration": 10,
    "start_time": "2023-03-05T18:38:27.942Z"
   },
   {
    "duration": 46,
    "start_time": "2023-03-05T18:38:53.672Z"
   },
   {
    "duration": 18,
    "start_time": "2023-03-05T18:39:09.367Z"
   },
   {
    "duration": 14,
    "start_time": "2023-03-05T18:39:35.276Z"
   },
   {
    "duration": 18,
    "start_time": "2023-03-05T18:39:45.739Z"
   },
   {
    "duration": 1138,
    "start_time": "2023-03-05T20:35:01.989Z"
   },
   {
    "duration": 61,
    "start_time": "2023-03-05T20:35:42.168Z"
   },
   {
    "duration": 20,
    "start_time": "2023-03-05T20:36:00.644Z"
   },
   {
    "duration": 20,
    "start_time": "2023-03-05T20:36:40.595Z"
   },
   {
    "duration": 18,
    "start_time": "2023-03-05T20:36:47.234Z"
   },
   {
    "duration": 19,
    "start_time": "2023-03-05T20:37:03.412Z"
   },
   {
    "duration": 23,
    "start_time": "2023-03-05T20:47:13.225Z"
   },
   {
    "duration": 7,
    "start_time": "2023-03-05T20:47:24.160Z"
   },
   {
    "duration": 11,
    "start_time": "2023-03-05T20:47:35.914Z"
   },
   {
    "duration": 4,
    "start_time": "2023-03-05T20:47:53.446Z"
   },
   {
    "duration": 6,
    "start_time": "2023-03-05T20:48:20.106Z"
   },
   {
    "duration": 5,
    "start_time": "2023-03-05T20:48:52.178Z"
   },
   {
    "duration": 7,
    "start_time": "2023-03-05T20:49:14.000Z"
   },
   {
    "duration": 16,
    "start_time": "2023-03-05T20:50:58.970Z"
   },
   {
    "duration": 52,
    "start_time": "2023-03-06T06:59:38.385Z"
   },
   {
    "duration": 1181,
    "start_time": "2023-03-06T06:59:58.795Z"
   },
   {
    "duration": 756,
    "start_time": "2023-03-06T06:59:59.991Z"
   },
   {
    "duration": 28,
    "start_time": "2023-03-06T07:00:00.748Z"
   },
   {
    "duration": 917,
    "start_time": "2023-03-06T07:00:00.794Z"
   },
   {
    "duration": 13,
    "start_time": "2023-03-06T07:00:01.714Z"
   },
   {
    "duration": 901,
    "start_time": "2023-03-06T07:00:01.729Z"
   },
   {
    "duration": 13,
    "start_time": "2023-03-06T07:00:02.632Z"
   },
   {
    "duration": 61,
    "start_time": "2023-03-06T07:00:02.647Z"
   },
   {
    "duration": 17,
    "start_time": "2023-03-06T07:00:02.710Z"
   },
   {
    "duration": 31,
    "start_time": "2023-03-06T07:00:31.385Z"
   },
   {
    "duration": 51,
    "start_time": "2023-03-06T07:00:43.844Z"
   },
   {
    "duration": 12,
    "start_time": "2023-03-06T07:00:44.501Z"
   },
   {
    "duration": 22,
    "start_time": "2023-03-06T07:00:45.505Z"
   },
   {
    "duration": 6,
    "start_time": "2023-03-06T07:00:46.224Z"
   },
   {
    "duration": 190,
    "start_time": "2023-03-06T07:00:47.328Z"
   },
   {
    "duration": 14,
    "start_time": "2023-03-06T07:02:28.306Z"
   },
   {
    "duration": 17,
    "start_time": "2023-03-06T07:02:37.407Z"
   },
   {
    "duration": 9,
    "start_time": "2023-03-06T07:03:58.789Z"
   },
   {
    "duration": 17,
    "start_time": "2023-03-06T07:04:06.604Z"
   },
   {
    "duration": 19,
    "start_time": "2023-03-06T07:14:24.543Z"
   },
   {
    "duration": 4,
    "start_time": "2023-03-06T07:21:21.082Z"
   },
   {
    "duration": 15,
    "start_time": "2023-03-06T07:23:24.682Z"
   },
   {
    "duration": 24,
    "start_time": "2023-03-06T07:31:13.293Z"
   },
   {
    "duration": 14,
    "start_time": "2023-03-06T07:31:40.912Z"
   },
   {
    "duration": 81,
    "start_time": "2023-03-06T07:59:08.184Z"
   },
   {
    "duration": 23,
    "start_time": "2023-03-06T07:59:15.944Z"
   },
   {
    "duration": 15,
    "start_time": "2023-03-06T07:59:42.810Z"
   },
   {
    "duration": 48,
    "start_time": "2023-03-06T08:00:06.444Z"
   },
   {
    "duration": 15,
    "start_time": "2023-03-06T08:00:20.707Z"
   },
   {
    "duration": 16,
    "start_time": "2023-03-06T08:00:38.082Z"
   },
   {
    "duration": 16,
    "start_time": "2023-03-06T08:10:06.380Z"
   },
   {
    "duration": 14,
    "start_time": "2023-03-06T08:10:45.793Z"
   },
   {
    "duration": 40,
    "start_time": "2023-03-06T08:10:48.340Z"
   },
   {
    "duration": 2,
    "start_time": "2023-03-06T08:14:43.788Z"
   },
   {
    "duration": 8,
    "start_time": "2023-03-06T08:20:55.837Z"
   },
   {
    "duration": 3,
    "start_time": "2023-03-06T08:21:04.447Z"
   },
   {
    "duration": 4,
    "start_time": "2023-03-06T08:21:05.888Z"
   },
   {
    "duration": 4,
    "start_time": "2023-03-06T08:32:30.239Z"
   },
   {
    "duration": 4,
    "start_time": "2023-03-06T09:27:57.945Z"
   },
   {
    "duration": 5,
    "start_time": "2023-03-06T09:29:18.876Z"
   },
   {
    "duration": 3,
    "start_time": "2023-03-06T09:30:18.015Z"
   },
   {
    "duration": 9,
    "start_time": "2023-03-06T09:55:22.651Z"
   },
   {
    "duration": 13,
    "start_time": "2023-03-06T09:57:00.330Z"
   },
   {
    "duration": 7,
    "start_time": "2023-03-06T09:57:55.980Z"
   },
   {
    "duration": 8,
    "start_time": "2023-03-06T09:58:09.028Z"
   },
   {
    "duration": 8,
    "start_time": "2023-03-06T09:58:22.545Z"
   },
   {
    "duration": 8,
    "start_time": "2023-03-06T09:59:16.435Z"
   },
   {
    "duration": 10,
    "start_time": "2023-03-06T09:59:25.931Z"
   },
   {
    "duration": 16,
    "start_time": "2023-03-06T10:00:03.651Z"
   },
   {
    "duration": 10,
    "start_time": "2023-03-06T10:00:04.444Z"
   },
   {
    "duration": 3,
    "start_time": "2023-03-06T10:07:13.424Z"
   },
   {
    "duration": 4,
    "start_time": "2023-03-06T10:07:29.741Z"
   },
   {
    "duration": 14,
    "start_time": "2023-03-06T10:08:32.437Z"
   },
   {
    "duration": 11,
    "start_time": "2023-03-06T10:09:32.527Z"
   },
   {
    "duration": 12,
    "start_time": "2023-03-06T10:09:55.230Z"
   },
   {
    "duration": 5,
    "start_time": "2023-03-06T10:10:09.126Z"
   },
   {
    "duration": 13,
    "start_time": "2023-03-06T10:10:21.576Z"
   },
   {
    "duration": 917,
    "start_time": "2023-03-06T10:10:34.188Z"
   },
   {
    "duration": 5,
    "start_time": "2023-03-06T10:10:42.546Z"
   },
   {
    "duration": 11,
    "start_time": "2023-03-06T10:10:52.453Z"
   },
   {
    "duration": 6,
    "start_time": "2023-03-06T10:10:55.634Z"
   },
   {
    "duration": 16,
    "start_time": "2023-03-06T10:11:05.880Z"
   },
   {
    "duration": 30,
    "start_time": "2023-03-06T10:14:33.480Z"
   },
   {
    "duration": 8,
    "start_time": "2023-03-06T10:14:37.280Z"
   },
   {
    "duration": 8,
    "start_time": "2023-03-06T10:14:42.952Z"
   },
   {
    "duration": 3,
    "start_time": "2023-03-06T10:14:46.531Z"
   },
   {
    "duration": 7,
    "start_time": "2023-03-06T10:14:54.443Z"
   },
   {
    "duration": 7,
    "start_time": "2023-03-06T10:15:07.610Z"
   },
   {
    "duration": 17,
    "start_time": "2023-03-06T10:15:41.335Z"
   },
   {
    "duration": 9,
    "start_time": "2023-03-06T10:16:16.335Z"
   },
   {
    "duration": 8,
    "start_time": "2023-03-06T10:16:46.635Z"
   },
   {
    "duration": 8,
    "start_time": "2023-03-06T10:17:09.229Z"
   },
   {
    "duration": 6,
    "start_time": "2023-03-06T10:17:13.247Z"
   },
   {
    "duration": 4,
    "start_time": "2023-03-06T10:19:14.344Z"
   },
   {
    "duration": 6,
    "start_time": "2023-03-06T10:19:18.645Z"
   },
   {
    "duration": 8,
    "start_time": "2023-03-06T10:19:31.834Z"
   },
   {
    "duration": 5,
    "start_time": "2023-03-06T10:19:32.640Z"
   },
   {
    "duration": 9,
    "start_time": "2023-03-06T10:19:34.904Z"
   },
   {
    "duration": 8,
    "start_time": "2023-03-06T10:19:37.137Z"
   },
   {
    "duration": 7,
    "start_time": "2023-03-06T10:19:42.984Z"
   },
   {
    "duration": 7,
    "start_time": "2023-03-06T10:19:45.691Z"
   },
   {
    "duration": 19,
    "start_time": "2023-03-06T10:19:47.982Z"
   },
   {
    "duration": 6,
    "start_time": "2023-03-06T10:19:51.443Z"
   },
   {
    "duration": 7,
    "start_time": "2023-03-06T10:19:55.365Z"
   },
   {
    "duration": 7,
    "start_time": "2023-03-06T10:20:14.727Z"
   },
   {
    "duration": 5,
    "start_time": "2023-03-06T10:20:46.726Z"
   },
   {
    "duration": 5,
    "start_time": "2023-03-06T10:20:52.726Z"
   },
   {
    "duration": 7,
    "start_time": "2023-03-06T10:21:04.289Z"
   },
   {
    "duration": 5,
    "start_time": "2023-03-06T10:21:05.030Z"
   },
   {
    "duration": 5,
    "start_time": "2023-03-06T10:21:05.721Z"
   },
   {
    "duration": 5,
    "start_time": "2023-03-06T10:21:32.909Z"
   },
   {
    "duration": 10,
    "start_time": "2023-03-06T10:21:35.182Z"
   },
   {
    "duration": 10,
    "start_time": "2023-03-06T10:21:54.674Z"
   },
   {
    "duration": 5,
    "start_time": "2023-03-06T10:22:04.333Z"
   },
   {
    "duration": 6,
    "start_time": "2023-03-06T10:22:06.048Z"
   },
   {
    "duration": 5,
    "start_time": "2023-03-06T10:22:07.271Z"
   },
   {
    "duration": 4,
    "start_time": "2023-03-06T10:22:08.191Z"
   },
   {
    "duration": 81,
    "start_time": "2023-03-06T10:26:53.444Z"
   },
   {
    "duration": 23,
    "start_time": "2023-03-06T10:26:57.524Z"
   },
   {
    "duration": 23,
    "start_time": "2023-03-06T10:27:52.219Z"
   },
   {
    "duration": 30,
    "start_time": "2023-03-06T10:32:36.564Z"
   },
   {
    "duration": 24,
    "start_time": "2023-03-06T10:32:58.029Z"
   },
   {
    "duration": 20,
    "start_time": "2023-03-06T10:33:30.725Z"
   },
   {
    "duration": 10,
    "start_time": "2023-03-06T10:35:33.967Z"
   },
   {
    "duration": 4,
    "start_time": "2023-03-06T10:35:47.237Z"
   },
   {
    "duration": 16,
    "start_time": "2023-03-06T10:35:58.321Z"
   },
   {
    "duration": 25,
    "start_time": "2023-03-06T10:36:31.584Z"
   },
   {
    "duration": 24,
    "start_time": "2023-03-06T10:36:48.966Z"
   },
   {
    "duration": 24,
    "start_time": "2023-03-06T10:37:11.542Z"
   },
   {
    "duration": 17,
    "start_time": "2023-03-06T10:37:24.203Z"
   },
   {
    "duration": 19,
    "start_time": "2023-03-06T10:38:57.712Z"
   },
   {
    "duration": 22,
    "start_time": "2023-03-06T10:39:13.308Z"
   },
   {
    "duration": 15,
    "start_time": "2023-03-06T10:39:22.541Z"
   },
   {
    "duration": 24,
    "start_time": "2023-03-06T10:39:36.720Z"
   },
   {
    "duration": 16,
    "start_time": "2023-03-06T10:39:49.067Z"
   },
   {
    "duration": 20,
    "start_time": "2023-03-06T10:40:00.113Z"
   },
   {
    "duration": 16,
    "start_time": "2023-03-06T10:40:45.417Z"
   },
   {
    "duration": 15,
    "start_time": "2023-03-06T10:40:56.937Z"
   },
   {
    "duration": 16,
    "start_time": "2023-03-06T10:41:01.211Z"
   },
   {
    "duration": 5,
    "start_time": "2023-03-06T11:07:31.082Z"
   },
   {
    "duration": 5,
    "start_time": "2023-03-06T11:07:35.404Z"
   },
   {
    "duration": 8,
    "start_time": "2023-03-06T11:34:54.694Z"
   },
   {
    "duration": 5,
    "start_time": "2023-03-06T11:35:09.430Z"
   },
   {
    "duration": 4,
    "start_time": "2023-03-06T11:35:11.226Z"
   },
   {
    "duration": 5,
    "start_time": "2023-03-06T11:40:03.194Z"
   },
   {
    "duration": 7,
    "start_time": "2023-03-06T11:40:08.878Z"
   },
   {
    "duration": 5,
    "start_time": "2023-03-06T11:40:13.393Z"
   },
   {
    "duration": 14,
    "start_time": "2023-03-06T11:43:49.822Z"
   },
   {
    "duration": 5,
    "start_time": "2023-03-06T11:43:55.797Z"
   },
   {
    "duration": 6,
    "start_time": "2023-03-06T11:44:59.395Z"
   },
   {
    "duration": 5,
    "start_time": "2023-03-06T11:46:45.241Z"
   },
   {
    "duration": 4,
    "start_time": "2023-03-06T11:51:36.503Z"
   },
   {
    "duration": 3,
    "start_time": "2023-03-06T11:51:42.926Z"
   },
   {
    "duration": 7,
    "start_time": "2023-03-06T11:52:49.402Z"
   },
   {
    "duration": 14,
    "start_time": "2023-03-06T12:01:16.704Z"
   },
   {
    "duration": 20,
    "start_time": "2023-03-06T12:01:27.004Z"
   },
   {
    "duration": 6,
    "start_time": "2023-03-06T12:08:55.358Z"
   },
   {
    "duration": 9,
    "start_time": "2023-03-06T12:09:07.770Z"
   },
   {
    "duration": 4,
    "start_time": "2023-03-06T12:09:23.216Z"
   },
   {
    "duration": 5,
    "start_time": "2023-03-06T12:12:30.774Z"
   },
   {
    "duration": 5,
    "start_time": "2023-03-06T12:12:35.914Z"
   },
   {
    "duration": 15,
    "start_time": "2023-03-06T12:13:34.378Z"
   },
   {
    "duration": 24,
    "start_time": "2023-03-06T12:15:44.106Z"
   },
   {
    "duration": 23,
    "start_time": "2023-03-06T12:15:51.799Z"
   },
   {
    "duration": 27,
    "start_time": "2023-03-06T12:16:02.047Z"
   },
   {
    "duration": 5,
    "start_time": "2023-03-06T12:16:08.806Z"
   },
   {
    "duration": 5,
    "start_time": "2023-03-06T12:16:09.408Z"
   },
   {
    "duration": 5,
    "start_time": "2023-03-06T12:16:09.946Z"
   },
   {
    "duration": 5,
    "start_time": "2023-03-06T12:16:13.002Z"
   },
   {
    "duration": 3,
    "start_time": "2023-03-06T12:18:31.087Z"
   },
   {
    "duration": 5,
    "start_time": "2023-03-06T12:18:37.110Z"
   },
   {
    "duration": 8,
    "start_time": "2023-03-06T12:21:20.177Z"
   },
   {
    "duration": 9,
    "start_time": "2023-03-06T12:21:30.004Z"
   },
   {
    "duration": 16,
    "start_time": "2023-03-06T12:24:27.547Z"
   },
   {
    "duration": 22,
    "start_time": "2023-03-06T12:25:40.024Z"
   },
   {
    "duration": 12,
    "start_time": "2023-03-06T12:26:29.303Z"
   },
   {
    "duration": 11,
    "start_time": "2023-03-06T12:26:36.042Z"
   },
   {
    "duration": 26,
    "start_time": "2023-03-06T12:27:14.940Z"
   },
   {
    "duration": 1055,
    "start_time": "2023-03-06T14:00:41.885Z"
   },
   {
    "duration": 162,
    "start_time": "2023-03-06T14:00:42.942Z"
   },
   {
    "duration": 14,
    "start_time": "2023-03-06T14:00:43.105Z"
   },
   {
    "duration": 132,
    "start_time": "2023-03-06T14:00:43.120Z"
   },
   {
    "duration": 18,
    "start_time": "2023-03-06T14:00:43.255Z"
   },
   {
    "duration": 141,
    "start_time": "2023-03-06T14:00:43.275Z"
   },
   {
    "duration": 14,
    "start_time": "2023-03-06T14:00:43.417Z"
   },
   {
    "duration": 35,
    "start_time": "2023-03-06T14:00:43.433Z"
   },
   {
    "duration": 12,
    "start_time": "2023-03-06T14:00:43.470Z"
   },
   {
    "duration": 15,
    "start_time": "2023-03-06T14:00:43.484Z"
   },
   {
    "duration": 7,
    "start_time": "2023-03-06T14:00:43.501Z"
   },
   {
    "duration": 20,
    "start_time": "2023-03-06T14:00:43.509Z"
   },
   {
    "duration": 5,
    "start_time": "2023-03-06T14:00:43.531Z"
   },
   {
    "duration": 23,
    "start_time": "2023-03-06T14:00:43.561Z"
   },
   {
    "duration": 102,
    "start_time": "2023-03-06T14:00:43.585Z"
   },
   {
    "duration": 20,
    "start_time": "2023-03-06T14:00:43.758Z"
   },
   {
    "duration": 81,
    "start_time": "2023-03-06T14:00:43.779Z"
   },
   {
    "duration": 15,
    "start_time": "2023-03-06T14:00:43.862Z"
   },
   {
    "duration": 89,
    "start_time": "2023-03-06T14:00:43.881Z"
   },
   {
    "duration": 6,
    "start_time": "2023-03-06T14:00:43.971Z"
   },
   {
    "duration": 16,
    "start_time": "2023-03-06T14:00:43.979Z"
   },
   {
    "duration": 15,
    "start_time": "2023-03-06T14:00:43.996Z"
   },
   {
    "duration": 13,
    "start_time": "2023-03-06T14:00:44.013Z"
   },
   {
    "duration": 42,
    "start_time": "2023-03-06T14:00:44.028Z"
   },
   {
    "duration": 4,
    "start_time": "2023-03-06T14:00:44.071Z"
   },
   {
    "duration": 4,
    "start_time": "2023-03-06T14:00:44.077Z"
   },
   {
    "duration": 3,
    "start_time": "2023-03-06T14:00:44.083Z"
   },
   {
    "duration": 4,
    "start_time": "2023-03-06T14:00:44.087Z"
   },
   {
    "duration": 132,
    "start_time": "2023-03-06T14:00:44.093Z"
   },
   {
    "duration": 0,
    "start_time": "2023-03-06T14:00:44.227Z"
   },
   {
    "duration": 0,
    "start_time": "2023-03-06T14:00:44.228Z"
   },
   {
    "duration": 4,
    "start_time": "2023-03-06T14:01:00.029Z"
   },
   {
    "duration": 6,
    "start_time": "2023-03-06T14:01:00.336Z"
   },
   {
    "duration": 8,
    "start_time": "2023-03-06T14:01:10.039Z"
   },
   {
    "duration": 11,
    "start_time": "2023-03-06T14:01:14.888Z"
   },
   {
    "duration": 4,
    "start_time": "2023-03-06T14:01:26.703Z"
   },
   {
    "duration": 11,
    "start_time": "2023-03-06T14:17:31.970Z"
   },
   {
    "duration": 4,
    "start_time": "2023-03-06T14:17:48.305Z"
   },
   {
    "duration": 11,
    "start_time": "2023-03-06T14:17:55.187Z"
   },
   {
    "duration": 15,
    "start_time": "2023-03-06T14:18:17.083Z"
   },
   {
    "duration": 29,
    "start_time": "2023-03-06T14:18:23.644Z"
   },
   {
    "duration": 18,
    "start_time": "2023-03-06T14:21:15.093Z"
   },
   {
    "duration": 20,
    "start_time": "2023-03-06T14:30:49.436Z"
   },
   {
    "duration": 17,
    "start_time": "2023-03-06T14:32:30.615Z"
   },
   {
    "duration": 13,
    "start_time": "2023-03-06T14:32:48.925Z"
   },
   {
    "duration": 5,
    "start_time": "2023-03-06T14:33:00.812Z"
   },
   {
    "duration": 14,
    "start_time": "2023-03-06T14:35:22.982Z"
   },
   {
    "duration": 17,
    "start_time": "2023-03-06T14:38:48.511Z"
   },
   {
    "duration": 14,
    "start_time": "2023-03-06T14:42:32.412Z"
   },
   {
    "duration": 12,
    "start_time": "2023-03-06T14:44:00.286Z"
   },
   {
    "duration": 21,
    "start_time": "2023-03-06T14:44:53.246Z"
   },
   {
    "duration": 18,
    "start_time": "2023-03-06T14:45:04.813Z"
   },
   {
    "duration": 19,
    "start_time": "2023-03-06T14:46:11.775Z"
   },
   {
    "duration": 1131,
    "start_time": "2023-03-06T15:33:38.832Z"
   },
   {
    "duration": 504,
    "start_time": "2023-03-06T15:33:39.965Z"
   },
   {
    "duration": 13,
    "start_time": "2023-03-06T15:33:40.471Z"
   },
   {
    "duration": 569,
    "start_time": "2023-03-06T15:33:40.486Z"
   },
   {
    "duration": 14,
    "start_time": "2023-03-06T15:33:41.057Z"
   },
   {
    "duration": 539,
    "start_time": "2023-03-06T15:33:41.073Z"
   },
   {
    "duration": 16,
    "start_time": "2023-03-06T15:33:41.613Z"
   },
   {
    "duration": 17,
    "start_time": "2023-03-06T15:33:41.630Z"
   },
   {
    "duration": 16,
    "start_time": "2023-03-06T15:33:41.648Z"
   },
   {
    "duration": 19,
    "start_time": "2023-03-06T15:33:41.666Z"
   },
   {
    "duration": 6,
    "start_time": "2023-03-06T15:33:41.686Z"
   },
   {
    "duration": 19,
    "start_time": "2023-03-06T15:33:41.693Z"
   },
   {
    "duration": 6,
    "start_time": "2023-03-06T15:33:41.713Z"
   },
   {
    "duration": 46,
    "start_time": "2023-03-06T15:33:41.721Z"
   },
   {
    "duration": 106,
    "start_time": "2023-03-06T15:33:41.854Z"
   },
   {
    "duration": 190,
    "start_time": "2023-03-06T15:33:41.965Z"
   },
   {
    "duration": 4,
    "start_time": "2023-03-06T15:33:42.157Z"
   },
   {
    "duration": 94,
    "start_time": "2023-03-06T15:33:42.163Z"
   },
   {
    "duration": 9,
    "start_time": "2023-03-06T15:33:42.258Z"
   },
   {
    "duration": 5,
    "start_time": "2023-03-06T15:33:42.269Z"
   },
   {
    "duration": 15,
    "start_time": "2023-03-06T15:33:42.275Z"
   },
   {
    "duration": 13,
    "start_time": "2023-03-06T15:33:42.292Z"
   },
   {
    "duration": 15,
    "start_time": "2023-03-06T15:33:42.306Z"
   },
   {
    "duration": 3,
    "start_time": "2023-03-06T15:33:42.356Z"
   },
   {
    "duration": 4,
    "start_time": "2023-03-06T15:33:42.361Z"
   },
   {
    "duration": 7,
    "start_time": "2023-03-06T15:33:42.367Z"
   },
   {
    "duration": 13,
    "start_time": "2023-03-06T15:33:42.375Z"
   },
   {
    "duration": 5,
    "start_time": "2023-03-06T15:33:42.389Z"
   },
   {
    "duration": 4,
    "start_time": "2023-03-06T15:33:45.077Z"
   },
   {
    "duration": 6,
    "start_time": "2023-03-06T15:33:47.084Z"
   },
   {
    "duration": 11,
    "start_time": "2023-03-06T15:33:49.626Z"
   },
   {
    "duration": 496,
    "start_time": "2023-03-06T15:33:56.691Z"
   },
   {
    "duration": 467,
    "start_time": "2023-03-06T15:34:25.204Z"
   },
   {
    "duration": 1286,
    "start_time": "2023-03-06T15:35:26.109Z"
   },
   {
    "duration": 107,
    "start_time": "2023-03-06T15:36:34.381Z"
   },
   {
    "duration": 14,
    "start_time": "2023-03-06T15:37:23.206Z"
   },
   {
    "duration": 12,
    "start_time": "2023-03-06T15:37:53.815Z"
   },
   {
    "duration": 1319,
    "start_time": "2023-03-06T15:38:06.925Z"
   },
   {
    "duration": 1212,
    "start_time": "2023-03-06T15:38:32.369Z"
   },
   {
    "duration": 1248,
    "start_time": "2023-03-06T16:41:20.845Z"
   },
   {
    "duration": 1231,
    "start_time": "2023-03-06T16:41:27.936Z"
   },
   {
    "duration": 1348,
    "start_time": "2023-03-06T16:41:56.248Z"
   },
   {
    "duration": 51,
    "start_time": "2023-03-06T16:42:56.774Z"
   },
   {
    "duration": 1661,
    "start_time": "2023-03-06T16:43:02.960Z"
   },
   {
    "duration": 45,
    "start_time": "2023-03-06T16:43:28.536Z"
   },
   {
    "duration": 1307,
    "start_time": "2023-03-06T16:44:06.779Z"
   },
   {
    "duration": 1341,
    "start_time": "2023-03-06T16:44:25.011Z"
   },
   {
    "duration": 1316,
    "start_time": "2023-03-06T16:44:34.259Z"
   },
   {
    "duration": 1318,
    "start_time": "2023-03-06T16:44:41.715Z"
   },
   {
    "duration": 1293,
    "start_time": "2023-03-06T16:44:56.899Z"
   },
   {
    "duration": 1417,
    "start_time": "2023-03-06T16:45:14.251Z"
   },
   {
    "duration": 1255,
    "start_time": "2023-03-06T16:48:28.334Z"
   },
   {
    "duration": 1274,
    "start_time": "2023-03-06T16:48:44.774Z"
   },
   {
    "duration": 1273,
    "start_time": "2023-03-06T16:48:54.137Z"
   },
   {
    "duration": 1287,
    "start_time": "2023-03-06T16:49:10.796Z"
   },
   {
    "duration": 7,
    "start_time": "2023-03-06T16:51:35.253Z"
   },
   {
    "duration": 6,
    "start_time": "2023-03-06T16:51:45.552Z"
   },
   {
    "duration": 6,
    "start_time": "2023-03-06T16:52:03.299Z"
   },
   {
    "duration": 1395,
    "start_time": "2023-03-06T16:53:17.479Z"
   },
   {
    "duration": 13,
    "start_time": "2023-03-06T16:53:26.207Z"
   },
   {
    "duration": 1338,
    "start_time": "2023-03-06T16:53:35.674Z"
   },
   {
    "duration": 1303,
    "start_time": "2023-03-06T16:55:03.998Z"
   },
   {
    "duration": 31,
    "start_time": "2023-03-06T17:00:54.672Z"
   },
   {
    "duration": 1120,
    "start_time": "2023-03-06T17:01:09.877Z"
   },
   {
    "duration": 1134,
    "start_time": "2023-03-06T17:01:32.710Z"
   },
   {
    "duration": 1114,
    "start_time": "2023-03-06T17:01:42.181Z"
   },
   {
    "duration": 1651,
    "start_time": "2023-03-06T17:03:16.419Z"
   },
   {
    "duration": 14,
    "start_time": "2023-03-06T17:04:09.537Z"
   },
   {
    "duration": 1558,
    "start_time": "2023-03-06T17:04:20.444Z"
   },
   {
    "duration": 1157,
    "start_time": "2023-03-06T17:04:26.402Z"
   },
   {
    "duration": 1168,
    "start_time": "2023-03-06T17:05:35.329Z"
   },
   {
    "duration": 1295,
    "start_time": "2023-03-06T17:06:24.239Z"
   },
   {
    "duration": 1271,
    "start_time": "2023-03-06T17:06:28.182Z"
   },
   {
    "duration": 1295,
    "start_time": "2023-03-06T17:06:56.125Z"
   },
   {
    "duration": 1289,
    "start_time": "2023-03-06T17:06:59.410Z"
   },
   {
    "duration": 1339,
    "start_time": "2023-03-06T17:07:08.349Z"
   },
   {
    "duration": 31,
    "start_time": "2023-03-06T17:07:46.155Z"
   },
   {
    "duration": 1226,
    "start_time": "2023-03-06T17:08:10.845Z"
   },
   {
    "duration": 1153,
    "start_time": "2023-03-06T17:08:20.970Z"
   },
   {
    "duration": 4,
    "start_time": "2023-03-06T17:08:56.507Z"
   },
   {
    "duration": 1290,
    "start_time": "2023-03-06T17:10:26.125Z"
   },
   {
    "duration": 1198,
    "start_time": "2023-03-06T17:10:42.789Z"
   },
   {
    "duration": 1155,
    "start_time": "2023-03-06T17:12:05.811Z"
   },
   {
    "duration": 1103,
    "start_time": "2023-03-06T17:12:11.872Z"
   },
   {
    "duration": 1149,
    "start_time": "2023-03-06T17:17:56.471Z"
   },
   {
    "duration": 1179,
    "start_time": "2023-03-06T17:20:16.647Z"
   },
   {
    "duration": 16,
    "start_time": "2023-03-06T17:58:48.211Z"
   },
   {
    "duration": 15,
    "start_time": "2023-03-06T17:59:00.984Z"
   },
   {
    "duration": 18,
    "start_time": "2023-03-06T17:59:06.874Z"
   },
   {
    "duration": 15,
    "start_time": "2023-03-06T17:59:22.308Z"
   },
   {
    "duration": 3,
    "start_time": "2023-03-06T18:00:02.759Z"
   },
   {
    "duration": 4,
    "start_time": "2023-03-06T18:00:03.652Z"
   },
   {
    "duration": 5,
    "start_time": "2023-03-06T18:00:04.300Z"
   },
   {
    "duration": 4,
    "start_time": "2023-03-06T18:01:10.791Z"
   },
   {
    "duration": 4,
    "start_time": "2023-03-06T18:05:38.816Z"
   },
   {
    "duration": 4,
    "start_time": "2023-03-06T18:08:52.736Z"
   },
   {
    "duration": 11,
    "start_time": "2023-03-06T18:08:54.539Z"
   },
   {
    "duration": 11,
    "start_time": "2023-03-06T18:08:55.616Z"
   },
   {
    "duration": 10,
    "start_time": "2023-03-06T18:08:56.176Z"
   },
   {
    "duration": 1134,
    "start_time": "2023-03-06T18:08:57.507Z"
   },
   {
    "duration": 1162,
    "start_time": "2023-03-06T18:09:56.011Z"
   },
   {
    "duration": 1095,
    "start_time": "2023-03-06T18:09:59.009Z"
   },
   {
    "duration": 1161,
    "start_time": "2023-03-06T18:10:21.079Z"
   },
   {
    "duration": 1084,
    "start_time": "2023-03-06T18:41:39.969Z"
   },
   {
    "duration": 518,
    "start_time": "2023-03-06T18:41:41.061Z"
   },
   {
    "duration": 13,
    "start_time": "2023-03-06T18:41:41.581Z"
   },
   {
    "duration": 611,
    "start_time": "2023-03-06T18:41:41.595Z"
   },
   {
    "duration": 13,
    "start_time": "2023-03-06T18:41:42.208Z"
   },
   {
    "duration": 589,
    "start_time": "2023-03-06T18:41:42.223Z"
   },
   {
    "duration": 14,
    "start_time": "2023-03-06T18:41:42.814Z"
   },
   {
    "duration": 15,
    "start_time": "2023-03-06T18:41:42.830Z"
   },
   {
    "duration": 25,
    "start_time": "2023-03-06T18:41:42.847Z"
   },
   {
    "duration": 15,
    "start_time": "2023-03-06T18:41:42.874Z"
   },
   {
    "duration": 6,
    "start_time": "2023-03-06T18:41:42.890Z"
   },
   {
    "duration": 14,
    "start_time": "2023-03-06T18:41:42.898Z"
   },
   {
    "duration": 6,
    "start_time": "2023-03-06T18:41:42.914Z"
   },
   {
    "duration": 45,
    "start_time": "2023-03-06T18:41:42.923Z"
   },
   {
    "duration": 23,
    "start_time": "2023-03-06T18:41:43.060Z"
   },
   {
    "duration": 107,
    "start_time": "2023-03-06T18:41:43.161Z"
   },
   {
    "duration": 2,
    "start_time": "2023-03-06T18:41:43.270Z"
   },
   {
    "duration": 5,
    "start_time": "2023-03-06T18:41:43.274Z"
   },
   {
    "duration": 93,
    "start_time": "2023-03-06T18:41:43.373Z"
   },
   {
    "duration": 6,
    "start_time": "2023-03-06T18:41:43.468Z"
   },
   {
    "duration": 15,
    "start_time": "2023-03-06T18:41:43.475Z"
   },
   {
    "duration": 14,
    "start_time": "2023-03-06T18:41:43.492Z"
   },
   {
    "duration": 14,
    "start_time": "2023-03-06T18:41:43.508Z"
   },
   {
    "duration": 4,
    "start_time": "2023-03-06T18:41:43.523Z"
   },
   {
    "duration": 43,
    "start_time": "2023-03-06T18:41:43.528Z"
   },
   {
    "duration": 5,
    "start_time": "2023-03-06T18:41:43.573Z"
   },
   {
    "duration": 4,
    "start_time": "2023-03-06T18:41:43.580Z"
   },
   {
    "duration": 5,
    "start_time": "2023-03-06T18:41:43.586Z"
   },
   {
    "duration": 11,
    "start_time": "2023-03-06T18:41:43.593Z"
   },
   {
    "duration": 15,
    "start_time": "2023-03-06T18:41:43.605Z"
   },
   {
    "duration": 48,
    "start_time": "2023-03-06T18:41:43.621Z"
   },
   {
    "duration": 1179,
    "start_time": "2023-03-06T18:41:43.671Z"
   },
   {
    "duration": 1176,
    "start_time": "2023-03-06T18:41:44.855Z"
   },
   {
    "duration": 1198,
    "start_time": "2023-03-06T18:41:46.032Z"
   },
   {
    "duration": 3071,
    "start_time": "2023-03-07T09:28:51.362Z"
   },
   {
    "duration": 446,
    "start_time": "2023-03-07T09:28:54.436Z"
   },
   {
    "duration": 15,
    "start_time": "2023-03-07T09:28:54.884Z"
   },
   {
    "duration": 221,
    "start_time": "2023-03-07T09:28:54.901Z"
   },
   {
    "duration": 14,
    "start_time": "2023-03-07T09:28:55.124Z"
   },
   {
    "duration": 231,
    "start_time": "2023-03-07T09:28:55.140Z"
   },
   {
    "duration": 14,
    "start_time": "2023-03-07T09:28:55.373Z"
   },
   {
    "duration": 22,
    "start_time": "2023-03-07T09:28:55.389Z"
   },
   {
    "duration": 15,
    "start_time": "2023-03-07T09:28:55.413Z"
   },
   {
    "duration": 26,
    "start_time": "2023-03-07T09:28:55.429Z"
   },
   {
    "duration": 7,
    "start_time": "2023-03-07T09:28:55.457Z"
   },
   {
    "duration": 55,
    "start_time": "2023-03-07T09:28:55.466Z"
   },
   {
    "duration": 7,
    "start_time": "2023-03-07T09:28:55.524Z"
   },
   {
    "duration": 66,
    "start_time": "2023-03-07T09:28:55.535Z"
   },
   {
    "duration": 109,
    "start_time": "2023-03-07T09:28:55.603Z"
   },
   {
    "duration": 216,
    "start_time": "2023-03-07T09:28:55.716Z"
   },
   {
    "duration": 3,
    "start_time": "2023-03-07T09:28:55.934Z"
   },
   {
    "duration": 7,
    "start_time": "2023-03-07T09:28:56.004Z"
   },
   {
    "duration": 106,
    "start_time": "2023-03-07T09:28:56.014Z"
   },
   {
    "duration": 5,
    "start_time": "2023-03-07T09:28:56.122Z"
   },
   {
    "duration": 27,
    "start_time": "2023-03-07T09:28:56.129Z"
   },
   {
    "duration": 18,
    "start_time": "2023-03-07T09:28:56.157Z"
   },
   {
    "duration": 34,
    "start_time": "2023-03-07T09:28:56.176Z"
   },
   {
    "duration": 4,
    "start_time": "2023-03-07T09:28:56.212Z"
   },
   {
    "duration": 7,
    "start_time": "2023-03-07T09:28:56.218Z"
   },
   {
    "duration": 8,
    "start_time": "2023-03-07T09:28:56.227Z"
   },
   {
    "duration": 11,
    "start_time": "2023-03-07T09:28:56.237Z"
   },
   {
    "duration": 8,
    "start_time": "2023-03-07T09:28:56.250Z"
   },
   {
    "duration": 15,
    "start_time": "2023-03-07T09:28:56.260Z"
   },
   {
    "duration": 15,
    "start_time": "2023-03-07T09:28:56.303Z"
   },
   {
    "duration": 14,
    "start_time": "2023-03-07T09:28:56.320Z"
   },
   {
    "duration": 1463,
    "start_time": "2023-03-07T09:28:56.336Z"
   },
   {
    "duration": 1500,
    "start_time": "2023-03-07T09:28:57.803Z"
   },
   {
    "duration": 1574,
    "start_time": "2023-03-07T09:28:59.304Z"
   },
   {
    "duration": 15,
    "start_time": "2023-03-07T09:29:04.505Z"
   },
   {
    "duration": 14,
    "start_time": "2023-03-07T09:30:06.134Z"
   },
   {
    "duration": 6,
    "start_time": "2023-03-07T09:30:17.240Z"
   },
   {
    "duration": 7,
    "start_time": "2023-03-07T09:31:12.946Z"
   },
   {
    "duration": 1230,
    "start_time": "2023-03-07T09:47:19.834Z"
   },
   {
    "duration": 626,
    "start_time": "2023-03-07T09:47:21.067Z"
   },
   {
    "duration": 16,
    "start_time": "2023-03-07T09:47:21.694Z"
   },
   {
    "duration": 1167,
    "start_time": "2023-03-07T09:47:21.712Z"
   },
   {
    "duration": 14,
    "start_time": "2023-03-07T09:47:22.881Z"
   },
   {
    "duration": 628,
    "start_time": "2023-03-07T09:47:22.897Z"
   },
   {
    "duration": 23,
    "start_time": "2023-03-07T09:47:23.527Z"
   },
   {
    "duration": 28,
    "start_time": "2023-03-07T09:47:23.555Z"
   },
   {
    "duration": 12,
    "start_time": "2023-03-07T09:47:23.585Z"
   },
   {
    "duration": 31,
    "start_time": "2023-03-07T09:47:23.599Z"
   },
   {
    "duration": 6,
    "start_time": "2023-03-07T09:47:23.632Z"
   },
   {
    "duration": 41,
    "start_time": "2023-03-07T09:47:23.639Z"
   },
   {
    "duration": 8,
    "start_time": "2023-03-07T09:47:23.682Z"
   },
   {
    "duration": 63,
    "start_time": "2023-03-07T09:47:23.692Z"
   },
   {
    "duration": 110,
    "start_time": "2023-03-07T09:47:23.757Z"
   },
   {
    "duration": 206,
    "start_time": "2023-03-07T09:47:23.870Z"
   },
   {
    "duration": 6,
    "start_time": "2023-03-07T09:47:24.140Z"
   },
   {
    "duration": 9,
    "start_time": "2023-03-07T09:47:24.151Z"
   },
   {
    "duration": 98,
    "start_time": "2023-03-07T09:47:24.162Z"
   },
   {
    "duration": 7,
    "start_time": "2023-03-07T09:47:24.264Z"
   },
   {
    "duration": 23,
    "start_time": "2023-03-07T09:47:24.273Z"
   },
   {
    "duration": 16,
    "start_time": "2023-03-07T09:47:24.297Z"
   },
   {
    "duration": 49,
    "start_time": "2023-03-07T09:47:24.315Z"
   },
   {
    "duration": 4,
    "start_time": "2023-03-07T09:47:24.366Z"
   },
   {
    "duration": 9,
    "start_time": "2023-03-07T09:47:24.372Z"
   },
   {
    "duration": 4,
    "start_time": "2023-03-07T09:47:24.383Z"
   },
   {
    "duration": 5,
    "start_time": "2023-03-07T09:47:24.389Z"
   },
   {
    "duration": 13,
    "start_time": "2023-03-07T09:47:24.396Z"
   },
   {
    "duration": 13,
    "start_time": "2023-03-07T09:47:34.070Z"
   },
   {
    "duration": 5,
    "start_time": "2023-03-07T09:47:42.392Z"
   },
   {
    "duration": 7,
    "start_time": "2023-03-07T09:47:55.118Z"
   },
   {
    "duration": 5,
    "start_time": "2023-03-07T09:48:04.769Z"
   },
   {
    "duration": 2,
    "start_time": "2023-03-07T09:50:12.096Z"
   },
   {
    "duration": 9,
    "start_time": "2023-03-07T09:50:36.877Z"
   },
   {
    "duration": 19,
    "start_time": "2023-03-07T09:50:42.199Z"
   },
   {
    "duration": 15,
    "start_time": "2023-03-07T09:51:05.937Z"
   },
   {
    "duration": 3,
    "start_time": "2023-03-07T09:51:17.191Z"
   },
   {
    "duration": 17,
    "start_time": "2023-03-07T09:52:20.897Z"
   },
   {
    "duration": 3,
    "start_time": "2023-03-07T09:54:13.694Z"
   },
   {
    "duration": 136,
    "start_time": "2023-03-07T09:55:04.897Z"
   },
   {
    "duration": 5,
    "start_time": "2023-03-07T09:55:13.725Z"
   },
   {
    "duration": 7,
    "start_time": "2023-03-07T09:55:22.543Z"
   },
   {
    "duration": 7,
    "start_time": "2023-03-07T09:55:34.065Z"
   },
   {
    "duration": 2,
    "start_time": "2023-03-07T09:55:39.110Z"
   },
   {
    "duration": 3,
    "start_time": "2023-03-07T09:55:51.633Z"
   },
   {
    "duration": 7,
    "start_time": "2023-03-07T09:56:18.034Z"
   },
   {
    "duration": 7,
    "start_time": "2023-03-07T09:56:19.002Z"
   },
   {
    "duration": 1149,
    "start_time": "2023-03-07T09:56:48.797Z"
   },
   {
    "duration": 160,
    "start_time": "2023-03-07T09:56:49.948Z"
   },
   {
    "duration": 39,
    "start_time": "2023-03-07T09:56:50.109Z"
   },
   {
    "duration": 159,
    "start_time": "2023-03-07T09:56:50.151Z"
   },
   {
    "duration": 15,
    "start_time": "2023-03-07T09:56:50.312Z"
   },
   {
    "duration": 135,
    "start_time": "2023-03-07T09:56:50.342Z"
   },
   {
    "duration": 19,
    "start_time": "2023-03-07T09:56:50.479Z"
   },
   {
    "duration": 19,
    "start_time": "2023-03-07T09:56:50.500Z"
   },
   {
    "duration": 12,
    "start_time": "2023-03-07T09:56:50.542Z"
   },
   {
    "duration": 25,
    "start_time": "2023-03-07T09:56:50.556Z"
   },
   {
    "duration": 7,
    "start_time": "2023-03-07T09:56:50.582Z"
   },
   {
    "duration": 25,
    "start_time": "2023-03-07T09:56:50.591Z"
   },
   {
    "duration": 28,
    "start_time": "2023-03-07T09:56:50.617Z"
   },
   {
    "duration": 197,
    "start_time": "2023-03-07T09:56:50.648Z"
   },
   {
    "duration": 98,
    "start_time": "2023-03-07T09:56:50.848Z"
   },
   {
    "duration": 115,
    "start_time": "2023-03-07T09:56:50.948Z"
   },
   {
    "duration": 80,
    "start_time": "2023-03-07T09:56:51.065Z"
   },
   {
    "duration": 8,
    "start_time": "2023-03-07T09:56:51.148Z"
   },
   {
    "duration": 83,
    "start_time": "2023-03-07T09:56:51.159Z"
   },
   {
    "duration": 6,
    "start_time": "2023-03-07T09:56:51.244Z"
   },
   {
    "duration": 5,
    "start_time": "2023-03-07T09:56:51.252Z"
   },
   {
    "duration": 3,
    "start_time": "2023-03-07T09:56:53.439Z"
   },
   {
    "duration": 116,
    "start_time": "2023-03-07T09:56:53.991Z"
   },
   {
    "duration": 35,
    "start_time": "2023-03-07T09:57:17.208Z"
   },
   {
    "duration": 18,
    "start_time": "2023-03-07T09:57:29.871Z"
   },
   {
    "duration": 24,
    "start_time": "2023-03-07T09:57:37.698Z"
   },
   {
    "duration": 9,
    "start_time": "2023-03-07T09:57:46.617Z"
   },
   {
    "duration": 9,
    "start_time": "2023-03-07T09:57:48.557Z"
   },
   {
    "duration": 11,
    "start_time": "2023-03-07T09:57:49.521Z"
   },
   {
    "duration": 3,
    "start_time": "2023-03-07T09:58:04.854Z"
   },
   {
    "duration": 2,
    "start_time": "2023-03-07T09:58:05.155Z"
   },
   {
    "duration": 2,
    "start_time": "2023-03-07T09:58:05.497Z"
   },
   {
    "duration": 5,
    "start_time": "2023-03-07T09:59:01.112Z"
   },
   {
    "duration": 4,
    "start_time": "2023-03-07T09:59:01.811Z"
   },
   {
    "duration": 5,
    "start_time": "2023-03-07T09:59:02.301Z"
   },
   {
    "duration": 4,
    "start_time": "2023-03-07T09:59:06.080Z"
   },
   {
    "duration": 4,
    "start_time": "2023-03-07T10:02:51.497Z"
   },
   {
    "duration": 4,
    "start_time": "2023-03-07T10:02:51.874Z"
   },
   {
    "duration": 9,
    "start_time": "2023-03-07T10:03:25.337Z"
   },
   {
    "duration": 1077,
    "start_time": "2023-03-07T10:04:35.370Z"
   },
   {
    "duration": 165,
    "start_time": "2023-03-07T10:04:36.450Z"
   },
   {
    "duration": 17,
    "start_time": "2023-03-07T10:04:36.616Z"
   },
   {
    "duration": 152,
    "start_time": "2023-03-07T10:04:36.635Z"
   },
   {
    "duration": 15,
    "start_time": "2023-03-07T10:04:36.789Z"
   },
   {
    "duration": 154,
    "start_time": "2023-03-07T10:04:36.806Z"
   },
   {
    "duration": 14,
    "start_time": "2023-03-07T10:04:36.962Z"
   },
   {
    "duration": 18,
    "start_time": "2023-03-07T10:04:36.978Z"
   },
   {
    "duration": 14,
    "start_time": "2023-03-07T10:04:36.998Z"
   },
   {
    "duration": 49,
    "start_time": "2023-03-07T10:04:37.014Z"
   },
   {
    "duration": 7,
    "start_time": "2023-03-07T10:04:37.065Z"
   },
   {
    "duration": 28,
    "start_time": "2023-03-07T10:04:37.074Z"
   },
   {
    "duration": 8,
    "start_time": "2023-03-07T10:04:37.104Z"
   },
   {
    "duration": 48,
    "start_time": "2023-03-07T10:04:37.113Z"
   },
   {
    "duration": 100,
    "start_time": "2023-03-07T10:04:37.163Z"
   },
   {
    "duration": 186,
    "start_time": "2023-03-07T10:04:37.266Z"
   },
   {
    "duration": 11,
    "start_time": "2023-03-07T10:04:37.456Z"
   },
   {
    "duration": 27,
    "start_time": "2023-03-07T10:04:37.545Z"
   },
   {
    "duration": 12,
    "start_time": "2023-03-07T10:04:37.576Z"
   },
   {
    "duration": 5,
    "start_time": "2023-03-07T10:04:37.590Z"
   },
   {
    "duration": 8,
    "start_time": "2023-03-07T10:04:37.597Z"
   },
   {
    "duration": 13,
    "start_time": "2023-03-07T10:04:37.608Z"
   },
   {
    "duration": 11,
    "start_time": "2023-03-07T10:04:37.625Z"
   },
   {
    "duration": 15,
    "start_time": "2023-03-07T10:04:37.638Z"
   },
   {
    "duration": 7,
    "start_time": "2023-03-07T10:04:37.656Z"
   },
   {
    "duration": 3,
    "start_time": "2023-03-07T10:04:37.666Z"
   },
   {
    "duration": 12,
    "start_time": "2023-03-07T10:04:37.672Z"
   },
   {
    "duration": 7,
    "start_time": "2023-03-07T10:04:37.688Z"
   },
   {
    "duration": 6,
    "start_time": "2023-03-07T10:04:37.697Z"
   },
   {
    "duration": 10,
    "start_time": "2023-03-07T10:04:37.705Z"
   },
   {
    "duration": 26,
    "start_time": "2023-03-07T10:04:37.718Z"
   },
   {
    "duration": 25,
    "start_time": "2023-03-07T10:04:37.746Z"
   },
   {
    "duration": 35,
    "start_time": "2023-03-07T10:04:37.773Z"
   },
   {
    "duration": 17,
    "start_time": "2023-03-07T10:04:49.531Z"
   },
   {
    "duration": 5,
    "start_time": "2023-03-07T10:08:50.677Z"
   },
   {
    "duration": 5,
    "start_time": "2023-03-07T10:08:51.023Z"
   },
   {
    "duration": 14,
    "start_time": "2023-03-07T10:08:56.267Z"
   },
   {
    "duration": 11,
    "start_time": "2023-03-07T10:09:01.880Z"
   },
   {
    "duration": 16,
    "start_time": "2023-03-07T10:09:08.470Z"
   },
   {
    "duration": 11,
    "start_time": "2023-03-07T10:09:09.025Z"
   },
   {
    "duration": 1266,
    "start_time": "2023-03-07T10:12:17.481Z"
   },
   {
    "duration": 185,
    "start_time": "2023-03-07T10:12:18.749Z"
   },
   {
    "duration": 30,
    "start_time": "2023-03-07T10:12:18.936Z"
   },
   {
    "duration": 191,
    "start_time": "2023-03-07T10:12:18.968Z"
   },
   {
    "duration": 22,
    "start_time": "2023-03-07T10:12:19.166Z"
   },
   {
    "duration": 144,
    "start_time": "2023-03-07T10:12:19.190Z"
   },
   {
    "duration": 17,
    "start_time": "2023-03-07T10:12:19.335Z"
   },
   {
    "duration": 61,
    "start_time": "2023-03-07T10:12:19.354Z"
   },
   {
    "duration": 57,
    "start_time": "2023-03-07T10:12:19.417Z"
   },
   {
    "duration": 55,
    "start_time": "2023-03-07T10:12:19.477Z"
   },
   {
    "duration": 21,
    "start_time": "2023-03-07T10:12:19.534Z"
   },
   {
    "duration": 68,
    "start_time": "2023-03-07T10:12:19.557Z"
   },
   {
    "duration": 8,
    "start_time": "2023-03-07T10:12:19.626Z"
   },
   {
    "duration": 104,
    "start_time": "2023-03-07T10:12:19.637Z"
   },
   {
    "duration": 105,
    "start_time": "2023-03-07T10:12:19.743Z"
   },
   {
    "duration": 118,
    "start_time": "2023-03-07T10:12:19.855Z"
   },
   {
    "duration": 68,
    "start_time": "2023-03-07T10:12:19.979Z"
   },
   {
    "duration": 32,
    "start_time": "2023-03-07T10:12:20.057Z"
   },
   {
    "duration": 40,
    "start_time": "2023-03-07T10:12:20.091Z"
   },
   {
    "duration": 32,
    "start_time": "2023-03-07T10:12:20.133Z"
   },
   {
    "duration": 36,
    "start_time": "2023-03-07T10:12:20.167Z"
   },
   {
    "duration": 58,
    "start_time": "2023-03-07T10:12:20.204Z"
   },
   {
    "duration": 13,
    "start_time": "2023-03-07T10:12:20.269Z"
   },
   {
    "duration": 13,
    "start_time": "2023-03-07T10:12:20.284Z"
   },
   {
    "duration": 36,
    "start_time": "2023-03-07T10:12:20.300Z"
   },
   {
    "duration": 13,
    "start_time": "2023-03-07T10:12:20.338Z"
   },
   {
    "duration": 6,
    "start_time": "2023-03-07T10:12:20.361Z"
   },
   {
    "duration": 16,
    "start_time": "2023-03-07T10:12:20.369Z"
   },
   {
    "duration": 19,
    "start_time": "2023-03-07T10:12:20.386Z"
   },
   {
    "duration": 12,
    "start_time": "2023-03-07T10:12:20.407Z"
   },
   {
    "duration": 9,
    "start_time": "2023-03-07T10:12:20.420Z"
   },
   {
    "duration": 7,
    "start_time": "2023-03-07T10:12:20.431Z"
   },
   {
    "duration": 30,
    "start_time": "2023-03-07T10:12:20.440Z"
   },
   {
    "duration": 17,
    "start_time": "2023-03-07T10:12:20.472Z"
   },
   {
    "duration": 22,
    "start_time": "2023-03-07T10:12:20.491Z"
   },
   {
    "duration": 16,
    "start_time": "2023-03-07T10:12:20.515Z"
   },
   {
    "duration": 1537,
    "start_time": "2023-03-07T10:12:23.413Z"
   },
   {
    "duration": 129,
    "start_time": "2023-03-07T10:14:24.778Z"
   },
   {
    "duration": 4281,
    "start_time": "2023-03-07T10:14:41.074Z"
   },
   {
    "duration": 5,
    "start_time": "2023-03-07T10:15:27.383Z"
   },
   {
    "duration": 4450,
    "start_time": "2023-03-07T10:16:08.010Z"
   },
   {
    "duration": 4647,
    "start_time": "2023-03-07T10:16:37.107Z"
   },
   {
    "duration": 4,
    "start_time": "2023-03-07T10:54:12.320Z"
   },
   {
    "duration": 10,
    "start_time": "2023-03-07T10:54:19.600Z"
   },
   {
    "duration": 10,
    "start_time": "2023-03-07T10:54:35.858Z"
   },
   {
    "duration": 9,
    "start_time": "2023-03-07T10:54:43.302Z"
   },
   {
    "duration": 13,
    "start_time": "2023-03-07T10:54:46.879Z"
   },
   {
    "duration": 1485,
    "start_time": "2023-03-07T10:56:56.661Z"
   },
   {
    "duration": 1191,
    "start_time": "2023-03-07T11:03:06.074Z"
   },
   {
    "duration": 166,
    "start_time": "2023-03-07T11:03:07.267Z"
   },
   {
    "duration": 29,
    "start_time": "2023-03-07T11:03:07.434Z"
   },
   {
    "duration": 162,
    "start_time": "2023-03-07T11:03:07.465Z"
   },
   {
    "duration": 38,
    "start_time": "2023-03-07T11:03:07.630Z"
   },
   {
    "duration": 181,
    "start_time": "2023-03-07T11:03:07.671Z"
   },
   {
    "duration": 19,
    "start_time": "2023-03-07T11:03:07.860Z"
   },
   {
    "duration": 29,
    "start_time": "2023-03-07T11:03:07.881Z"
   },
   {
    "duration": 36,
    "start_time": "2023-03-07T11:03:07.912Z"
   },
   {
    "duration": 41,
    "start_time": "2023-03-07T11:03:07.949Z"
   },
   {
    "duration": 8,
    "start_time": "2023-03-07T11:03:07.992Z"
   },
   {
    "duration": 28,
    "start_time": "2023-03-07T11:03:08.002Z"
   },
   {
    "duration": 11,
    "start_time": "2023-03-07T11:03:08.040Z"
   },
   {
    "duration": 87,
    "start_time": "2023-03-07T11:03:08.057Z"
   },
   {
    "duration": 110,
    "start_time": "2023-03-07T11:03:08.149Z"
   },
   {
    "duration": 92,
    "start_time": "2023-03-07T11:03:08.265Z"
   },
   {
    "duration": 4,
    "start_time": "2023-03-07T11:03:08.359Z"
   },
   {
    "duration": 80,
    "start_time": "2023-03-07T11:03:08.365Z"
   },
   {
    "duration": 3,
    "start_time": "2023-03-07T11:03:08.448Z"
   },
   {
    "duration": 4,
    "start_time": "2023-03-07T11:03:08.453Z"
   },
   {
    "duration": 85,
    "start_time": "2023-03-07T11:03:08.459Z"
   },
   {
    "duration": 13,
    "start_time": "2023-03-07T11:03:08.546Z"
   },
   {
    "duration": 8,
    "start_time": "2023-03-07T11:03:08.561Z"
   },
   {
    "duration": 12,
    "start_time": "2023-03-07T11:03:08.571Z"
   },
   {
    "duration": 3,
    "start_time": "2023-03-07T11:03:08.584Z"
   },
   {
    "duration": 5,
    "start_time": "2023-03-07T11:03:08.588Z"
   },
   {
    "duration": 7,
    "start_time": "2023-03-07T11:03:08.594Z"
   },
   {
    "duration": 10,
    "start_time": "2023-03-07T11:03:08.602Z"
   },
   {
    "duration": 33,
    "start_time": "2023-03-07T11:03:08.613Z"
   },
   {
    "duration": 5,
    "start_time": "2023-03-07T11:03:08.653Z"
   },
   {
    "duration": 6,
    "start_time": "2023-03-07T11:03:08.659Z"
   },
   {
    "duration": 9,
    "start_time": "2023-03-07T11:03:08.667Z"
   },
   {
    "duration": 9,
    "start_time": "2023-03-07T11:03:08.678Z"
   },
   {
    "duration": 13,
    "start_time": "2023-03-07T11:03:08.689Z"
   },
   {
    "duration": 40,
    "start_time": "2023-03-07T11:03:08.704Z"
   },
   {
    "duration": 14,
    "start_time": "2023-03-07T11:03:08.746Z"
   },
   {
    "duration": 51,
    "start_time": "2023-03-07T11:03:08.762Z"
   },
   {
    "duration": 0,
    "start_time": "2023-03-07T11:03:08.816Z"
   },
   {
    "duration": 0,
    "start_time": "2023-03-07T11:03:08.817Z"
   },
   {
    "duration": 0,
    "start_time": "2023-03-07T11:03:08.819Z"
   },
   {
    "duration": 5,
    "start_time": "2023-03-07T11:03:21.655Z"
   },
   {
    "duration": 8,
    "start_time": "2023-03-07T11:03:22.665Z"
   },
   {
    "duration": 100,
    "start_time": "2023-03-07T11:03:23.318Z"
   },
   {
    "duration": 1338,
    "start_time": "2023-03-07T11:03:23.631Z"
   },
   {
    "duration": 1396,
    "start_time": "2023-03-07T11:04:15.976Z"
   },
   {
    "duration": 1368,
    "start_time": "2023-03-07T11:04:27.807Z"
   },
   {
    "duration": 1451,
    "start_time": "2023-03-07T11:04:36.934Z"
   },
   {
    "duration": 11,
    "start_time": "2023-03-07T11:05:11.114Z"
   },
   {
    "duration": 55,
    "start_time": "2023-03-07T11:06:30.955Z"
   },
   {
    "duration": 49,
    "start_time": "2023-03-07T11:06:44.365Z"
   },
   {
    "duration": 7,
    "start_time": "2023-03-07T11:06:56.286Z"
   },
   {
    "duration": 13,
    "start_time": "2023-03-07T11:07:06.331Z"
   },
   {
    "duration": 12,
    "start_time": "2023-03-07T11:07:09.354Z"
   },
   {
    "duration": 10,
    "start_time": "2023-03-07T11:07:13.926Z"
   },
   {
    "duration": 6,
    "start_time": "2023-03-07T11:07:18.524Z"
   },
   {
    "duration": 1312,
    "start_time": "2023-03-07T11:09:19.574Z"
   },
   {
    "duration": 1344,
    "start_time": "2023-03-07T11:10:55.517Z"
   },
   {
    "duration": 1309,
    "start_time": "2023-03-07T11:11:08.102Z"
   },
   {
    "duration": 7,
    "start_time": "2023-03-07T11:13:35.484Z"
   },
   {
    "duration": 4,
    "start_time": "2023-03-07T11:15:56.208Z"
   },
   {
    "duration": 3,
    "start_time": "2023-03-07T11:16:23.015Z"
   },
   {
    "duration": 3,
    "start_time": "2023-03-07T11:17:39.568Z"
   },
   {
    "duration": 4,
    "start_time": "2023-03-07T11:17:42.359Z"
   },
   {
    "duration": 10,
    "start_time": "2023-03-07T11:21:33.506Z"
   },
   {
    "duration": 11,
    "start_time": "2023-03-07T11:21:46.923Z"
   },
   {
    "duration": 1273,
    "start_time": "2023-03-07T11:21:54.179Z"
   },
   {
    "duration": 1374,
    "start_time": "2023-03-07T11:22:05.701Z"
   },
   {
    "duration": 9,
    "start_time": "2023-03-07T11:22:23.002Z"
   },
   {
    "duration": 1325,
    "start_time": "2023-03-07T11:22:35.811Z"
   },
   {
    "duration": 1286,
    "start_time": "2023-03-07T11:23:22.667Z"
   },
   {
    "duration": 1287,
    "start_time": "2023-03-07T11:23:30.525Z"
   },
   {
    "duration": 1173,
    "start_time": "2023-03-07T12:27:19.866Z"
   },
   {
    "duration": 188,
    "start_time": "2023-03-07T12:27:21.041Z"
   },
   {
    "duration": 25,
    "start_time": "2023-03-07T12:27:21.231Z"
   },
   {
    "duration": 157,
    "start_time": "2023-03-07T12:27:21.270Z"
   },
   {
    "duration": 17,
    "start_time": "2023-03-07T12:27:21.429Z"
   },
   {
    "duration": 205,
    "start_time": "2023-03-07T12:27:21.447Z"
   },
   {
    "duration": 25,
    "start_time": "2023-03-07T12:27:21.653Z"
   },
   {
    "duration": 27,
    "start_time": "2023-03-07T12:27:21.680Z"
   },
   {
    "duration": 18,
    "start_time": "2023-03-07T12:27:21.709Z"
   },
   {
    "duration": 46,
    "start_time": "2023-03-07T12:27:21.741Z"
   },
   {
    "duration": 12,
    "start_time": "2023-03-07T12:27:21.790Z"
   },
   {
    "duration": 39,
    "start_time": "2023-03-07T12:27:21.805Z"
   },
   {
    "duration": 7,
    "start_time": "2023-03-07T12:27:21.846Z"
   },
   {
    "duration": 98,
    "start_time": "2023-03-07T12:27:21.857Z"
   },
   {
    "duration": 126,
    "start_time": "2023-03-07T12:27:21.969Z"
   },
   {
    "duration": 144,
    "start_time": "2023-03-07T12:27:22.104Z"
   },
   {
    "duration": 12,
    "start_time": "2023-03-07T12:27:22.257Z"
   },
   {
    "duration": 33,
    "start_time": "2023-03-07T12:27:22.343Z"
   },
   {
    "duration": 17,
    "start_time": "2023-03-07T12:27:22.378Z"
   },
   {
    "duration": 8,
    "start_time": "2023-03-07T12:27:22.397Z"
   },
   {
    "duration": 18,
    "start_time": "2023-03-07T12:27:22.407Z"
   },
   {
    "duration": 21,
    "start_time": "2023-03-07T12:27:22.427Z"
   },
   {
    "duration": 20,
    "start_time": "2023-03-07T12:27:22.450Z"
   },
   {
    "duration": 10,
    "start_time": "2023-03-07T12:27:22.472Z"
   },
   {
    "duration": 4,
    "start_time": "2023-03-07T12:27:22.484Z"
   },
   {
    "duration": 23,
    "start_time": "2023-03-07T12:27:22.490Z"
   },
   {
    "duration": 29,
    "start_time": "2023-03-07T12:27:22.515Z"
   },
   {
    "duration": 25,
    "start_time": "2023-03-07T12:27:22.546Z"
   },
   {
    "duration": 22,
    "start_time": "2023-03-07T12:27:22.573Z"
   },
   {
    "duration": 12,
    "start_time": "2023-03-07T12:27:22.597Z"
   },
   {
    "duration": 17,
    "start_time": "2023-03-07T12:27:22.611Z"
   },
   {
    "duration": 13,
    "start_time": "2023-03-07T12:27:22.630Z"
   },
   {
    "duration": 36,
    "start_time": "2023-03-07T12:27:22.645Z"
   },
   {
    "duration": 37,
    "start_time": "2023-03-07T12:27:22.682Z"
   },
   {
    "duration": 33,
    "start_time": "2023-03-07T12:27:22.721Z"
   },
   {
    "duration": 26,
    "start_time": "2023-03-07T12:27:22.756Z"
   },
   {
    "duration": 10,
    "start_time": "2023-03-07T12:27:22.784Z"
   },
   {
    "duration": 30,
    "start_time": "2023-03-07T12:27:22.797Z"
   },
   {
    "duration": 40,
    "start_time": "2023-03-07T12:27:22.829Z"
   },
   {
    "duration": 116,
    "start_time": "2023-03-07T12:27:22.874Z"
   },
   {
    "duration": 0,
    "start_time": "2023-03-07T12:27:22.991Z"
   },
   {
    "duration": 1450,
    "start_time": "2023-03-07T12:29:31.536Z"
   },
   {
    "duration": 4,
    "start_time": "2023-03-07T12:40:35.220Z"
   },
   {
    "duration": 13,
    "start_time": "2023-03-07T12:40:52.962Z"
   },
   {
    "duration": 1914,
    "start_time": "2023-03-07T12:40:58.619Z"
   },
   {
    "duration": 8,
    "start_time": "2023-03-07T12:41:08.402Z"
   },
   {
    "duration": 1937,
    "start_time": "2023-03-07T12:42:18.797Z"
   },
   {
    "duration": 3,
    "start_time": "2023-03-07T12:55:54.900Z"
   },
   {
    "duration": 16,
    "start_time": "2023-03-07T12:56:08.085Z"
   },
   {
    "duration": 11,
    "start_time": "2023-03-07T12:56:28.206Z"
   },
   {
    "duration": 1606,
    "start_time": "2023-03-07T12:58:02.880Z"
   },
   {
    "duration": 1494,
    "start_time": "2023-03-07T13:01:48.795Z"
   },
   {
    "duration": 28,
    "start_time": "2023-03-07T13:03:25.798Z"
   },
   {
    "duration": 14,
    "start_time": "2023-03-07T13:04:56.736Z"
   },
   {
    "duration": 16,
    "start_time": "2023-03-07T13:04:58.481Z"
   },
   {
    "duration": 1191,
    "start_time": "2023-03-07T13:05:25.076Z"
   },
   {
    "duration": 657,
    "start_time": "2023-03-07T13:05:26.269Z"
   },
   {
    "duration": 19,
    "start_time": "2023-03-07T13:05:26.927Z"
   },
   {
    "duration": 748,
    "start_time": "2023-03-07T13:05:26.948Z"
   },
   {
    "duration": 24,
    "start_time": "2023-03-07T13:05:27.699Z"
   },
   {
    "duration": 680,
    "start_time": "2023-03-07T13:05:27.725Z"
   },
   {
    "duration": 14,
    "start_time": "2023-03-07T13:05:28.407Z"
   },
   {
    "duration": 16,
    "start_time": "2023-03-07T13:05:28.423Z"
   },
   {
    "duration": 19,
    "start_time": "2023-03-07T13:05:28.440Z"
   },
   {
    "duration": 30,
    "start_time": "2023-03-07T13:05:28.460Z"
   },
   {
    "duration": 5,
    "start_time": "2023-03-07T13:05:28.492Z"
   },
   {
    "duration": 22,
    "start_time": "2023-03-07T13:05:28.499Z"
   },
   {
    "duration": 6,
    "start_time": "2023-03-07T13:05:28.523Z"
   },
   {
    "duration": 44,
    "start_time": "2023-03-07T13:05:28.532Z"
   },
   {
    "duration": 84,
    "start_time": "2023-03-07T13:05:28.578Z"
   },
   {
    "duration": 179,
    "start_time": "2023-03-07T13:05:28.664Z"
   },
   {
    "duration": 14,
    "start_time": "2023-03-07T13:05:28.853Z"
   },
   {
    "duration": 63,
    "start_time": "2023-03-07T13:05:28.879Z"
   },
   {
    "duration": 9,
    "start_time": "2023-03-07T13:05:28.945Z"
   },
   {
    "duration": 9,
    "start_time": "2023-03-07T13:05:28.960Z"
   },
   {
    "duration": 2,
    "start_time": "2023-03-07T13:05:28.974Z"
   },
   {
    "duration": 11,
    "start_time": "2023-03-07T13:05:28.978Z"
   },
   {
    "duration": 7,
    "start_time": "2023-03-07T13:05:28.991Z"
   },
   {
    "duration": 8,
    "start_time": "2023-03-07T13:05:29.000Z"
   },
   {
    "duration": 2,
    "start_time": "2023-03-07T13:05:29.009Z"
   },
   {
    "duration": 10,
    "start_time": "2023-03-07T13:05:29.013Z"
   },
   {
    "duration": 5,
    "start_time": "2023-03-07T13:05:29.025Z"
   },
   {
    "duration": 9,
    "start_time": "2023-03-07T13:05:29.045Z"
   },
   {
    "duration": 8,
    "start_time": "2023-03-07T13:05:29.062Z"
   },
   {
    "duration": 4,
    "start_time": "2023-03-07T13:05:29.072Z"
   },
   {
    "duration": 5,
    "start_time": "2023-03-07T13:05:29.077Z"
   },
   {
    "duration": 5,
    "start_time": "2023-03-07T13:05:29.084Z"
   },
   {
    "duration": 4,
    "start_time": "2023-03-07T13:05:29.091Z"
   },
   {
    "duration": 10,
    "start_time": "2023-03-07T13:05:29.096Z"
   },
   {
    "duration": 9,
    "start_time": "2023-03-07T13:05:29.108Z"
   },
   {
    "duration": 35,
    "start_time": "2023-03-07T13:05:29.118Z"
   },
   {
    "duration": 8,
    "start_time": "2023-03-07T13:05:29.154Z"
   },
   {
    "duration": 12,
    "start_time": "2023-03-07T13:05:29.170Z"
   },
   {
    "duration": 21,
    "start_time": "2023-03-07T13:05:29.183Z"
   },
   {
    "duration": 1353,
    "start_time": "2023-03-07T13:05:29.210Z"
   },
   {
    "duration": 10,
    "start_time": "2023-03-07T13:05:30.574Z"
   },
   {
    "duration": 11,
    "start_time": "2023-03-07T13:05:44.583Z"
   },
   {
    "duration": 131,
    "start_time": "2023-03-07T13:05:48.182Z"
   },
   {
    "duration": 1590,
    "start_time": "2023-03-07T13:06:26.787Z"
   },
   {
    "duration": 10,
    "start_time": "2023-03-07T13:06:33.370Z"
   },
   {
    "duration": 1648,
    "start_time": "2023-03-07T13:06:57.087Z"
   },
   {
    "duration": 1144,
    "start_time": "2023-03-07T13:16:43.836Z"
   },
   {
    "duration": 172,
    "start_time": "2023-03-07T13:16:44.982Z"
   },
   {
    "duration": 672,
    "start_time": "2023-03-07T13:16:45.156Z"
   },
   {
    "duration": 403,
    "start_time": "2023-03-07T13:16:45.829Z"
   },
   {
    "duration": 35,
    "start_time": "2023-03-07T13:16:46.234Z"
   },
   {
    "duration": 799,
    "start_time": "2023-03-07T13:16:46.272Z"
   },
   {
    "duration": 314,
    "start_time": "2023-03-07T13:16:47.077Z"
   },
   {
    "duration": 92,
    "start_time": "2023-03-07T13:16:47.393Z"
   },
   {
    "duration": 175,
    "start_time": "2023-03-07T13:16:47.487Z"
   },
   {
    "duration": 543,
    "start_time": "2023-03-07T13:16:47.667Z"
   },
   {
    "duration": 74,
    "start_time": "2023-03-07T13:16:48.212Z"
   },
   {
    "duration": 403,
    "start_time": "2023-03-07T13:16:48.288Z"
   },
   {
    "duration": 5,
    "start_time": "2023-03-07T13:16:48.693Z"
   },
   {
    "duration": 18,
    "start_time": "2023-03-07T13:16:48.701Z"
   },
   {
    "duration": 34,
    "start_time": "2023-03-07T13:16:48.741Z"
   },
   {
    "duration": 135,
    "start_time": "2023-03-07T13:16:48.841Z"
   },
   {
    "duration": 81,
    "start_time": "2023-03-07T13:16:48.987Z"
   },
   {
    "duration": 6,
    "start_time": "2023-03-07T13:16:49.085Z"
   },
   {
    "duration": 7,
    "start_time": "2023-03-07T13:16:49.092Z"
   },
   {
    "duration": 3,
    "start_time": "2023-03-07T13:16:49.143Z"
   },
   {
    "duration": 12,
    "start_time": "2023-03-07T13:16:49.148Z"
   },
   {
    "duration": 12,
    "start_time": "2023-03-07T13:16:49.171Z"
   },
   {
    "duration": 8,
    "start_time": "2023-03-07T13:16:49.185Z"
   },
   {
    "duration": 7,
    "start_time": "2023-03-07T13:16:49.194Z"
   },
   {
    "duration": 2,
    "start_time": "2023-03-07T13:16:49.203Z"
   },
   {
    "duration": 5,
    "start_time": "2023-03-07T13:16:49.206Z"
   },
   {
    "duration": 5,
    "start_time": "2023-03-07T13:16:49.212Z"
   },
   {
    "duration": 8,
    "start_time": "2023-03-07T13:16:49.218Z"
   },
   {
    "duration": 17,
    "start_time": "2023-03-07T13:16:49.227Z"
   },
   {
    "duration": 9,
    "start_time": "2023-03-07T13:16:49.245Z"
   },
   {
    "duration": 5,
    "start_time": "2023-03-07T13:16:49.256Z"
   },
   {
    "duration": 8,
    "start_time": "2023-03-07T13:16:49.266Z"
   },
   {
    "duration": 13,
    "start_time": "2023-03-07T13:16:49.276Z"
   },
   {
    "duration": 11,
    "start_time": "2023-03-07T13:16:49.290Z"
   },
   {
    "duration": 9,
    "start_time": "2023-03-07T13:16:49.303Z"
   },
   {
    "duration": 33,
    "start_time": "2023-03-07T13:16:49.313Z"
   },
   {
    "duration": 24,
    "start_time": "2023-03-07T13:16:49.350Z"
   },
   {
    "duration": 11,
    "start_time": "2023-03-07T13:16:51.101Z"
   },
   {
    "duration": 1465,
    "start_time": "2023-03-07T13:16:52.650Z"
   },
   {
    "duration": 1405,
    "start_time": "2023-03-07T13:17:01.998Z"
   },
   {
    "duration": 1343,
    "start_time": "2023-03-07T13:20:09.941Z"
   },
   {
    "duration": 11,
    "start_time": "2023-03-07T13:20:14.769Z"
   },
   {
    "duration": 1457,
    "start_time": "2023-03-07T13:20:15.605Z"
   },
   {
    "duration": 15,
    "start_time": "2023-03-07T13:20:17.065Z"
   },
   {
    "duration": 1395,
    "start_time": "2023-03-07T13:20:18.091Z"
   },
   {
    "duration": 1086,
    "start_time": "2023-03-07T13:23:51.688Z"
   },
   {
    "duration": 158,
    "start_time": "2023-03-07T13:23:52.776Z"
   },
   {
    "duration": 22,
    "start_time": "2023-03-07T13:23:52.935Z"
   },
   {
    "duration": 140,
    "start_time": "2023-03-07T13:23:52.973Z"
   },
   {
    "duration": 13,
    "start_time": "2023-03-07T13:23:53.115Z"
   },
   {
    "duration": 166,
    "start_time": "2023-03-07T13:23:53.130Z"
   },
   {
    "duration": 12,
    "start_time": "2023-03-07T13:23:53.297Z"
   },
   {
    "duration": 35,
    "start_time": "2023-03-07T13:23:53.311Z"
   },
   {
    "duration": 20,
    "start_time": "2023-03-07T13:23:53.351Z"
   },
   {
    "duration": 23,
    "start_time": "2023-03-07T13:23:53.372Z"
   },
   {
    "duration": 7,
    "start_time": "2023-03-07T13:23:53.396Z"
   },
   {
    "duration": 31,
    "start_time": "2023-03-07T13:23:53.404Z"
   },
   {
    "duration": 25,
    "start_time": "2023-03-07T13:23:53.437Z"
   },
   {
    "duration": 21,
    "start_time": "2023-03-07T13:23:53.471Z"
   },
   {
    "duration": 75,
    "start_time": "2023-03-07T13:23:53.493Z"
   },
   {
    "duration": 102,
    "start_time": "2023-03-07T13:23:53.573Z"
   },
   {
    "duration": 15,
    "start_time": "2023-03-07T13:23:53.756Z"
   },
   {
    "duration": 11,
    "start_time": "2023-03-07T13:23:53.846Z"
   },
   {
    "duration": 3,
    "start_time": "2023-03-07T13:23:53.863Z"
   },
   {
    "duration": 12,
    "start_time": "2023-03-07T13:23:53.868Z"
   },
   {
    "duration": 8,
    "start_time": "2023-03-07T13:23:53.882Z"
   },
   {
    "duration": 14,
    "start_time": "2023-03-07T13:23:53.892Z"
   },
   {
    "duration": 8,
    "start_time": "2023-03-07T13:23:53.908Z"
   },
   {
    "duration": 9,
    "start_time": "2023-03-07T13:23:53.918Z"
   },
   {
    "duration": 6,
    "start_time": "2023-03-07T13:23:53.929Z"
   },
   {
    "duration": 13,
    "start_time": "2023-03-07T13:23:53.947Z"
   },
   {
    "duration": 18,
    "start_time": "2023-03-07T13:23:53.961Z"
   },
   {
    "duration": 5,
    "start_time": "2023-03-07T13:23:53.981Z"
   },
   {
    "duration": 4,
    "start_time": "2023-03-07T13:23:53.987Z"
   },
   {
    "duration": 4,
    "start_time": "2023-03-07T13:23:53.993Z"
   },
   {
    "duration": 5,
    "start_time": "2023-03-07T13:23:53.999Z"
   },
   {
    "duration": 9,
    "start_time": "2023-03-07T13:23:54.006Z"
   },
   {
    "duration": 6,
    "start_time": "2023-03-07T13:23:54.017Z"
   },
   {
    "duration": 34,
    "start_time": "2023-03-07T13:23:54.024Z"
   },
   {
    "duration": 16,
    "start_time": "2023-03-07T13:23:54.066Z"
   },
   {
    "duration": 11,
    "start_time": "2023-03-07T13:23:54.084Z"
   },
   {
    "duration": 9,
    "start_time": "2023-03-07T13:23:54.097Z"
   },
   {
    "duration": 1404,
    "start_time": "2023-03-07T13:23:54.108Z"
   },
   {
    "duration": 19,
    "start_time": "2023-03-07T13:24:06.535Z"
   },
   {
    "duration": 1419,
    "start_time": "2023-03-07T13:24:07.841Z"
   },
   {
    "duration": 9,
    "start_time": "2023-03-07T13:24:15.320Z"
   },
   {
    "duration": 1456,
    "start_time": "2023-03-07T13:24:19.622Z"
   },
   {
    "duration": 1418,
    "start_time": "2023-03-07T13:25:31.980Z"
   },
   {
    "duration": 1372,
    "start_time": "2023-03-07T13:26:21.363Z"
   },
   {
    "duration": 1236,
    "start_time": "2023-03-07T13:26:32.075Z"
   },
   {
    "duration": 1374,
    "start_time": "2023-03-07T13:29:47.379Z"
   },
   {
    "duration": 1272,
    "start_time": "2023-03-07T13:29:54.953Z"
   },
   {
    "duration": 1306,
    "start_time": "2023-03-07T13:29:58.209Z"
   },
   {
    "duration": 4,
    "start_time": "2023-03-07T13:30:19.095Z"
   },
   {
    "duration": 1044,
    "start_time": "2023-03-07T13:31:27.676Z"
   },
   {
    "duration": 162,
    "start_time": "2023-03-07T13:31:28.722Z"
   },
   {
    "duration": 18,
    "start_time": "2023-03-07T13:31:28.886Z"
   },
   {
    "duration": 133,
    "start_time": "2023-03-07T13:31:28.906Z"
   },
   {
    "duration": 15,
    "start_time": "2023-03-07T13:31:29.043Z"
   },
   {
    "duration": 136,
    "start_time": "2023-03-07T13:31:29.059Z"
   },
   {
    "duration": 16,
    "start_time": "2023-03-07T13:31:29.196Z"
   },
   {
    "duration": 39,
    "start_time": "2023-03-07T13:31:29.214Z"
   },
   {
    "duration": 13,
    "start_time": "2023-03-07T13:31:29.255Z"
   },
   {
    "duration": 40,
    "start_time": "2023-03-07T13:31:29.269Z"
   },
   {
    "duration": 9,
    "start_time": "2023-03-07T13:31:29.311Z"
   },
   {
    "duration": 33,
    "start_time": "2023-03-07T13:31:29.322Z"
   },
   {
    "duration": 7,
    "start_time": "2023-03-07T13:31:29.357Z"
   },
   {
    "duration": 27,
    "start_time": "2023-03-07T13:31:29.368Z"
   },
   {
    "duration": 104,
    "start_time": "2023-03-07T13:31:29.446Z"
   },
   {
    "duration": 188,
    "start_time": "2023-03-07T13:31:29.553Z"
   },
   {
    "duration": 91,
    "start_time": "2023-03-07T13:31:29.749Z"
   },
   {
    "duration": 5,
    "start_time": "2023-03-07T13:31:29.842Z"
   },
   {
    "duration": 4,
    "start_time": "2023-03-07T13:31:29.849Z"
   },
   {
    "duration": 3,
    "start_time": "2023-03-07T13:31:29.855Z"
   },
   {
    "duration": 16,
    "start_time": "2023-03-07T13:31:29.860Z"
   },
   {
    "duration": 12,
    "start_time": "2023-03-07T13:31:29.878Z"
   },
   {
    "duration": 11,
    "start_time": "2023-03-07T13:31:29.892Z"
   },
   {
    "duration": 36,
    "start_time": "2023-03-07T13:31:29.905Z"
   },
   {
    "duration": 3,
    "start_time": "2023-03-07T13:31:29.943Z"
   },
   {
    "duration": 3,
    "start_time": "2023-03-07T13:31:29.948Z"
   },
   {
    "duration": 7,
    "start_time": "2023-03-07T13:31:29.953Z"
   },
   {
    "duration": 5,
    "start_time": "2023-03-07T13:31:29.961Z"
   },
   {
    "duration": 5,
    "start_time": "2023-03-07T13:31:29.968Z"
   },
   {
    "duration": 9,
    "start_time": "2023-03-07T13:31:29.975Z"
   },
   {
    "duration": 44,
    "start_time": "2023-03-07T13:31:29.986Z"
   },
   {
    "duration": 24,
    "start_time": "2023-03-07T13:31:30.032Z"
   },
   {
    "duration": 24,
    "start_time": "2023-03-07T13:31:30.058Z"
   },
   {
    "duration": 14,
    "start_time": "2023-03-07T13:31:30.083Z"
   },
   {
    "duration": 18,
    "start_time": "2023-03-07T13:31:30.099Z"
   },
   {
    "duration": 36,
    "start_time": "2023-03-07T13:31:30.119Z"
   },
   {
    "duration": 19,
    "start_time": "2023-03-07T13:31:30.157Z"
   },
   {
    "duration": 1343,
    "start_time": "2023-03-07T13:31:37.692Z"
   },
   {
    "duration": 12,
    "start_time": "2023-03-07T13:31:51.778Z"
   },
   {
    "duration": 1302,
    "start_time": "2023-03-07T13:31:52.500Z"
   },
   {
    "duration": 11,
    "start_time": "2023-03-07T13:31:53.804Z"
   },
   {
    "duration": 1366,
    "start_time": "2023-03-07T13:32:05.775Z"
   },
   {
    "duration": 4,
    "start_time": "2023-03-07T13:32:49.486Z"
   },
   {
    "duration": 8,
    "start_time": "2023-03-07T13:58:55.521Z"
   },
   {
    "duration": 183,
    "start_time": "2023-03-07T13:58:55.532Z"
   },
   {
    "duration": 19,
    "start_time": "2023-03-07T13:58:55.717Z"
   },
   {
    "duration": 168,
    "start_time": "2023-03-07T13:58:55.738Z"
   },
   {
    "duration": 18,
    "start_time": "2023-03-07T13:58:55.908Z"
   },
   {
    "duration": 198,
    "start_time": "2023-03-07T13:58:55.928Z"
   },
   {
    "duration": 21,
    "start_time": "2023-03-07T13:58:56.128Z"
   },
   {
    "duration": 28,
    "start_time": "2023-03-07T13:58:56.151Z"
   },
   {
    "duration": 14,
    "start_time": "2023-03-07T13:58:56.181Z"
   },
   {
    "duration": 32,
    "start_time": "2023-03-07T13:58:56.204Z"
   },
   {
    "duration": 15,
    "start_time": "2023-03-07T13:58:56.239Z"
   },
   {
    "duration": 24,
    "start_time": "2023-03-07T13:58:56.255Z"
   },
   {
    "duration": 7,
    "start_time": "2023-03-07T13:58:56.281Z"
   },
   {
    "duration": 132,
    "start_time": "2023-03-07T13:58:56.289Z"
   },
   {
    "duration": 115,
    "start_time": "2023-03-07T13:58:56.425Z"
   },
   {
    "duration": 213,
    "start_time": "2023-03-07T13:58:56.543Z"
   },
   {
    "duration": 3,
    "start_time": "2023-03-07T13:58:56.758Z"
   },
   {
    "duration": 105,
    "start_time": "2023-03-07T13:58:56.802Z"
   },
   {
    "duration": 29,
    "start_time": "2023-03-07T13:58:56.909Z"
   },
   {
    "duration": 7,
    "start_time": "2023-03-07T13:58:56.940Z"
   },
   {
    "duration": 5,
    "start_time": "2023-03-07T13:58:56.949Z"
   },
   {
    "duration": 13,
    "start_time": "2023-03-07T13:58:56.956Z"
   },
   {
    "duration": 9,
    "start_time": "2023-03-07T13:58:56.971Z"
   },
   {
    "duration": 9,
    "start_time": "2023-03-07T13:58:56.984Z"
   },
   {
    "duration": 2,
    "start_time": "2023-03-07T13:58:56.995Z"
   },
   {
    "duration": 23,
    "start_time": "2023-03-07T13:58:57.009Z"
   },
   {
    "duration": 16,
    "start_time": "2023-03-07T13:58:57.034Z"
   },
   {
    "duration": 10,
    "start_time": "2023-03-07T13:58:57.053Z"
   },
   {
    "duration": 6,
    "start_time": "2023-03-07T13:58:57.065Z"
   },
   {
    "duration": 8,
    "start_time": "2023-03-07T13:58:57.072Z"
   },
   {
    "duration": 12,
    "start_time": "2023-03-07T13:58:57.082Z"
   },
   {
    "duration": 14,
    "start_time": "2023-03-07T13:58:57.097Z"
   },
   {
    "duration": 46,
    "start_time": "2023-03-07T13:58:57.113Z"
   },
   {
    "duration": 14,
    "start_time": "2023-03-07T13:58:57.161Z"
   },
   {
    "duration": 11,
    "start_time": "2023-03-07T13:58:57.176Z"
   },
   {
    "duration": 18,
    "start_time": "2023-03-07T13:58:57.188Z"
   },
   {
    "duration": 48,
    "start_time": "2023-03-07T13:58:57.207Z"
   },
   {
    "duration": 1558,
    "start_time": "2023-03-07T13:58:57.257Z"
   },
   {
    "duration": 26,
    "start_time": "2023-03-07T13:58:58.820Z"
   },
   {
    "duration": 1536,
    "start_time": "2023-03-07T13:58:58.849Z"
   },
   {
    "duration": 23,
    "start_time": "2023-03-07T13:59:00.387Z"
   },
   {
    "duration": 1526,
    "start_time": "2023-03-07T13:59:00.413Z"
   },
   {
    "duration": 6,
    "start_time": "2023-03-07T13:59:01.943Z"
   },
   {
    "duration": 11,
    "start_time": "2023-03-07T13:59:11.182Z"
   },
   {
    "duration": 1464,
    "start_time": "2023-03-07T13:59:53.232Z"
   },
   {
    "duration": 1554,
    "start_time": "2023-03-07T13:59:57.829Z"
   },
   {
    "duration": 4,
    "start_time": "2023-03-07T14:01:55.361Z"
   },
   {
    "duration": 1486,
    "start_time": "2023-03-07T14:02:24.072Z"
   },
   {
    "duration": 1134,
    "start_time": "2023-03-07T15:36:42.652Z"
   },
   {
    "duration": 398,
    "start_time": "2023-03-07T15:36:43.788Z"
   },
   {
    "duration": 18,
    "start_time": "2023-03-07T15:36:44.187Z"
   },
   {
    "duration": 212,
    "start_time": "2023-03-07T15:36:44.207Z"
   },
   {
    "duration": 17,
    "start_time": "2023-03-07T15:36:44.421Z"
   },
   {
    "duration": 219,
    "start_time": "2023-03-07T15:36:44.440Z"
   },
   {
    "duration": 16,
    "start_time": "2023-03-07T15:36:44.660Z"
   },
   {
    "duration": 24,
    "start_time": "2023-03-07T15:36:44.677Z"
   },
   {
    "duration": 15,
    "start_time": "2023-03-07T15:36:44.703Z"
   },
   {
    "duration": 29,
    "start_time": "2023-03-07T15:36:44.720Z"
   },
   {
    "duration": 7,
    "start_time": "2023-03-07T15:36:44.751Z"
   },
   {
    "duration": 49,
    "start_time": "2023-03-07T15:36:44.760Z"
   },
   {
    "duration": 7,
    "start_time": "2023-03-07T15:36:44.811Z"
   },
   {
    "duration": 25,
    "start_time": "2023-03-07T15:36:44.821Z"
   },
   {
    "duration": 198,
    "start_time": "2023-03-07T15:36:44.892Z"
   },
   {
    "duration": 115,
    "start_time": "2023-03-07T15:36:45.092Z"
   },
   {
    "duration": 79,
    "start_time": "2023-03-07T15:36:45.211Z"
   },
   {
    "duration": 99,
    "start_time": "2023-03-07T15:36:45.292Z"
   },
   {
    "duration": 5,
    "start_time": "2023-03-07T15:36:45.393Z"
   },
   {
    "duration": 6,
    "start_time": "2023-03-07T15:36:45.400Z"
   },
   {
    "duration": 7,
    "start_time": "2023-03-07T15:36:45.407Z"
   },
   {
    "duration": 14,
    "start_time": "2023-03-07T15:36:45.416Z"
   },
   {
    "duration": 8,
    "start_time": "2023-03-07T15:36:45.431Z"
   },
   {
    "duration": 8,
    "start_time": "2023-03-07T15:36:45.441Z"
   },
   {
    "duration": 2,
    "start_time": "2023-03-07T15:36:45.450Z"
   },
   {
    "duration": 2,
    "start_time": "2023-03-07T15:36:45.490Z"
   },
   {
    "duration": 7,
    "start_time": "2023-03-07T15:36:45.494Z"
   },
   {
    "duration": 8,
    "start_time": "2023-03-07T15:36:45.502Z"
   },
   {
    "duration": 6,
    "start_time": "2023-03-07T15:36:45.511Z"
   },
   {
    "duration": 7,
    "start_time": "2023-03-07T15:36:45.518Z"
   },
   {
    "duration": 9,
    "start_time": "2023-03-07T15:36:45.526Z"
   },
   {
    "duration": 8,
    "start_time": "2023-03-07T15:36:45.537Z"
   },
   {
    "duration": 10,
    "start_time": "2023-03-07T15:36:45.546Z"
   },
   {
    "duration": 38,
    "start_time": "2023-03-07T15:36:45.558Z"
   },
   {
    "duration": 11,
    "start_time": "2023-03-07T15:36:45.598Z"
   },
   {
    "duration": 12,
    "start_time": "2023-03-07T15:36:45.611Z"
   },
   {
    "duration": 11,
    "start_time": "2023-03-07T15:36:45.625Z"
   },
   {
    "duration": 1329,
    "start_time": "2023-03-07T15:36:58.985Z"
   },
   {
    "duration": 1299,
    "start_time": "2023-03-07T15:37:34.636Z"
   },
   {
    "duration": 101,
    "start_time": "2023-03-07T15:38:28.128Z"
   },
   {
    "duration": 1276,
    "start_time": "2023-03-07T15:38:36.642Z"
   },
   {
    "duration": 1315,
    "start_time": "2023-03-07T15:38:50.527Z"
   },
   {
    "duration": 4,
    "start_time": "2023-03-07T15:38:59.183Z"
   },
   {
    "duration": 1405,
    "start_time": "2023-03-07T15:39:15.778Z"
   },
   {
    "duration": 5,
    "start_time": "2023-03-07T15:39:19.158Z"
   },
   {
    "duration": 14,
    "start_time": "2023-03-07T15:43:25.939Z"
   },
   {
    "duration": 1328,
    "start_time": "2023-03-07T15:43:26.717Z"
   },
   {
    "duration": 10,
    "start_time": "2023-03-07T15:43:33.108Z"
   },
   {
    "duration": 1373,
    "start_time": "2023-03-07T15:43:33.967Z"
   },
   {
    "duration": 10,
    "start_time": "2023-03-07T15:43:37.012Z"
   },
   {
    "duration": 1319,
    "start_time": "2023-03-07T15:43:38.101Z"
   },
   {
    "duration": 1183,
    "start_time": "2023-03-07T16:16:21.674Z"
   },
   {
    "duration": 163,
    "start_time": "2023-03-07T16:16:22.858Z"
   },
   {
    "duration": 16,
    "start_time": "2023-03-07T16:16:23.023Z"
   },
   {
    "duration": 141,
    "start_time": "2023-03-07T16:16:23.041Z"
   },
   {
    "duration": 23,
    "start_time": "2023-03-07T16:16:23.185Z"
   },
   {
    "duration": 155,
    "start_time": "2023-03-07T16:16:23.209Z"
   },
   {
    "duration": 15,
    "start_time": "2023-03-07T16:16:23.366Z"
   },
   {
    "duration": 27,
    "start_time": "2023-03-07T16:16:23.383Z"
   },
   {
    "duration": 12,
    "start_time": "2023-03-07T16:16:23.412Z"
   },
   {
    "duration": 23,
    "start_time": "2023-03-07T16:16:23.426Z"
   },
   {
    "duration": 7,
    "start_time": "2023-03-07T16:16:23.451Z"
   },
   {
    "duration": 47,
    "start_time": "2023-03-07T16:16:23.460Z"
   },
   {
    "duration": 6,
    "start_time": "2023-03-07T16:16:23.509Z"
   },
   {
    "duration": 74,
    "start_time": "2023-03-07T16:16:23.520Z"
   },
   {
    "duration": 110,
    "start_time": "2023-03-07T16:16:23.595Z"
   },
   {
    "duration": 212,
    "start_time": "2023-03-07T16:16:23.710Z"
   },
   {
    "duration": 3,
    "start_time": "2023-03-07T16:16:23.924Z"
   },
   {
    "duration": 4,
    "start_time": "2023-03-07T16:16:23.994Z"
   },
   {
    "duration": 115,
    "start_time": "2023-03-07T16:16:24.001Z"
   },
   {
    "duration": 15,
    "start_time": "2023-03-07T16:16:24.118Z"
   },
   {
    "duration": 5,
    "start_time": "2023-03-07T16:16:24.135Z"
   },
   {
    "duration": 14,
    "start_time": "2023-03-07T16:16:24.142Z"
   },
   {
    "duration": 13,
    "start_time": "2023-03-07T16:16:24.158Z"
   },
   {
    "duration": 8,
    "start_time": "2023-03-07T16:16:24.173Z"
   },
   {
    "duration": 3,
    "start_time": "2023-03-07T16:16:24.183Z"
   },
   {
    "duration": 21,
    "start_time": "2023-03-07T16:16:24.188Z"
   },
   {
    "duration": 15,
    "start_time": "2023-03-07T16:16:24.213Z"
   },
   {
    "duration": 14,
    "start_time": "2023-03-07T16:16:24.230Z"
   },
   {
    "duration": 8,
    "start_time": "2023-03-07T16:16:24.246Z"
   },
   {
    "duration": 6,
    "start_time": "2023-03-07T16:16:24.256Z"
   },
   {
    "duration": 8,
    "start_time": "2023-03-07T16:16:24.263Z"
   },
   {
    "duration": 13,
    "start_time": "2023-03-07T16:16:24.273Z"
   },
   {
    "duration": 34,
    "start_time": "2023-03-07T16:16:24.288Z"
   },
   {
    "duration": 31,
    "start_time": "2023-03-07T16:16:24.324Z"
   },
   {
    "duration": 11,
    "start_time": "2023-03-07T16:16:24.357Z"
   },
   {
    "duration": 10,
    "start_time": "2023-03-07T16:16:24.371Z"
   },
   {
    "duration": 23,
    "start_time": "2023-03-07T16:16:24.383Z"
   },
   {
    "duration": 1392,
    "start_time": "2023-03-07T16:16:24.409Z"
   },
   {
    "duration": 10,
    "start_time": "2023-03-07T16:16:25.803Z"
   },
   {
    "duration": 1441,
    "start_time": "2023-03-07T16:16:25.815Z"
   },
   {
    "duration": 10,
    "start_time": "2023-03-07T16:16:27.259Z"
   },
   {
    "duration": 1401,
    "start_time": "2023-03-07T16:16:27.270Z"
   },
   {
    "duration": 1390,
    "start_time": "2023-03-07T16:16:30.573Z"
   },
   {
    "duration": 5,
    "start_time": "2023-03-07T16:16:34.923Z"
   },
   {
    "duration": 686,
    "start_time": "2023-03-07T16:18:48.958Z"
   },
   {
    "duration": 231,
    "start_time": "2023-03-07T16:19:12.788Z"
   },
   {
    "duration": 147,
    "start_time": "2023-03-07T16:19:17.658Z"
   },
   {
    "duration": 1441,
    "start_time": "2023-03-07T16:30:51.442Z"
   },
   {
    "duration": 1470,
    "start_time": "2023-03-07T16:31:54.613Z"
   },
   {
    "duration": 1484,
    "start_time": "2023-03-07T16:32:23.618Z"
   },
   {
    "duration": 1176,
    "start_time": "2023-03-07T16:32:39.156Z"
   },
   {
    "duration": 181,
    "start_time": "2023-03-07T16:32:40.334Z"
   },
   {
    "duration": 16,
    "start_time": "2023-03-07T16:32:40.516Z"
   },
   {
    "duration": 143,
    "start_time": "2023-03-07T16:32:40.534Z"
   },
   {
    "duration": 28,
    "start_time": "2023-03-07T16:32:40.680Z"
   },
   {
    "duration": 145,
    "start_time": "2023-03-07T16:32:40.710Z"
   },
   {
    "duration": 14,
    "start_time": "2023-03-07T16:32:40.856Z"
   },
   {
    "duration": 35,
    "start_time": "2023-03-07T16:32:40.872Z"
   },
   {
    "duration": 13,
    "start_time": "2023-03-07T16:32:40.909Z"
   },
   {
    "duration": 31,
    "start_time": "2023-03-07T16:32:40.924Z"
   },
   {
    "duration": 7,
    "start_time": "2023-03-07T16:32:40.956Z"
   },
   {
    "duration": 59,
    "start_time": "2023-03-07T16:32:40.965Z"
   },
   {
    "duration": 8,
    "start_time": "2023-03-07T16:32:41.026Z"
   },
   {
    "duration": 23,
    "start_time": "2023-03-07T16:32:41.038Z"
   },
   {
    "duration": 127,
    "start_time": "2023-03-07T16:32:41.063Z"
   },
   {
    "duration": 131,
    "start_time": "2023-03-07T16:32:41.194Z"
   },
   {
    "duration": 62,
    "start_time": "2023-03-07T16:32:41.330Z"
   },
   {
    "duration": 10,
    "start_time": "2023-03-07T16:32:41.394Z"
   },
   {
    "duration": 103,
    "start_time": "2023-03-07T16:32:41.406Z"
   },
   {
    "duration": 5,
    "start_time": "2023-03-07T16:32:41.511Z"
   },
   {
    "duration": 10,
    "start_time": "2023-03-07T16:32:41.517Z"
   },
   {
    "duration": 14,
    "start_time": "2023-03-07T16:32:41.528Z"
   },
   {
    "duration": 8,
    "start_time": "2023-03-07T16:32:41.544Z"
   },
   {
    "duration": 16,
    "start_time": "2023-03-07T16:32:41.553Z"
   },
   {
    "duration": 5,
    "start_time": "2023-03-07T16:32:41.570Z"
   },
   {
    "duration": 8,
    "start_time": "2023-03-07T16:32:41.577Z"
   },
   {
    "duration": 10,
    "start_time": "2023-03-07T16:32:41.588Z"
   },
   {
    "duration": 11,
    "start_time": "2023-03-07T16:32:41.600Z"
   },
   {
    "duration": 7,
    "start_time": "2023-03-07T16:32:41.612Z"
   },
   {
    "duration": 11,
    "start_time": "2023-03-07T16:32:41.620Z"
   },
   {
    "duration": 6,
    "start_time": "2023-03-07T16:32:41.632Z"
   },
   {
    "duration": 6,
    "start_time": "2023-03-07T16:32:41.640Z"
   },
   {
    "duration": 7,
    "start_time": "2023-03-07T16:32:41.647Z"
   },
   {
    "duration": 12,
    "start_time": "2023-03-07T16:32:41.656Z"
   },
   {
    "duration": 29,
    "start_time": "2023-03-07T16:32:41.669Z"
   },
   {
    "duration": 14,
    "start_time": "2023-03-07T16:32:41.699Z"
   },
   {
    "duration": 12,
    "start_time": "2023-03-07T16:32:41.714Z"
   },
   {
    "duration": 1389,
    "start_time": "2023-03-07T16:32:41.727Z"
   },
   {
    "duration": 10,
    "start_time": "2023-03-07T16:32:43.118Z"
   },
   {
    "duration": 1322,
    "start_time": "2023-03-07T16:32:43.129Z"
   },
   {
    "duration": 13,
    "start_time": "2023-03-07T16:32:44.457Z"
   },
   {
    "duration": 1324,
    "start_time": "2023-03-07T16:32:44.472Z"
   },
   {
    "duration": 5,
    "start_time": "2023-03-07T16:32:53.534Z"
   },
   {
    "duration": 5,
    "start_time": "2023-03-07T16:33:30.036Z"
   }
  ],
  "kernelspec": {
   "display_name": "Python 3 (ipykernel)",
   "language": "python",
   "name": "python3"
  },
  "language_info": {
   "codemirror_mode": {
    "name": "ipython",
    "version": 3
   },
   "file_extension": ".py",
   "mimetype": "text/x-python",
   "name": "python",
   "nbconvert_exporter": "python",
   "pygments_lexer": "ipython3",
   "version": "3.9.13"
  },
  "toc": {
   "base_numbering": 1,
   "nav_menu": {},
   "number_sections": true,
   "sideBar": true,
   "skip_h1_title": true,
   "title_cell": "Table of Contents",
   "title_sidebar": "Contents",
   "toc_cell": false,
   "toc_position": {},
   "toc_section_display": true,
   "toc_window_display": false
  }
 },
 "nbformat": 4,
 "nbformat_minor": 2
}
