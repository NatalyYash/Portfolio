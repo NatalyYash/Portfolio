{
 "cells": [
  {
   "cell_type": "markdown",
   "metadata": {},
   "source": [
    "# Исследование рынка компьютерных игр"
   ]
  },
  {
   "cell_type": "markdown",
   "metadata": {},
   "source": [
    "<div class=\"alert alert-info\">\n",
    "Шаг 1. Откроем файл с данными и изучим общую информацию\n",
    "</div>"
   ]
  },
  {
   "cell_type": "code",
   "execution_count": 1,
   "metadata": {
    "scrolled": false
   },
   "outputs": [
    {
     "data": {
      "text/html": [
       "<div>\n",
       "<style scoped>\n",
       "    .dataframe tbody tr th:only-of-type {\n",
       "        vertical-align: middle;\n",
       "    }\n",
       "\n",
       "    .dataframe tbody tr th {\n",
       "        vertical-align: top;\n",
       "    }\n",
       "\n",
       "    .dataframe thead th {\n",
       "        text-align: right;\n",
       "    }\n",
       "</style>\n",
       "<table border=\"1\" class=\"dataframe\">\n",
       "  <thead>\n",
       "    <tr style=\"text-align: right;\">\n",
       "      <th></th>\n",
       "      <th>Name</th>\n",
       "      <th>Platform</th>\n",
       "      <th>Year_of_Release</th>\n",
       "      <th>Genre</th>\n",
       "      <th>NA_sales</th>\n",
       "      <th>EU_sales</th>\n",
       "      <th>JP_sales</th>\n",
       "      <th>Other_sales</th>\n",
       "      <th>Critic_Score</th>\n",
       "      <th>User_Score</th>\n",
       "      <th>Rating</th>\n",
       "    </tr>\n",
       "  </thead>\n",
       "  <tbody>\n",
       "    <tr>\n",
       "      <th>0</th>\n",
       "      <td>Wii Sports</td>\n",
       "      <td>Wii</td>\n",
       "      <td>2006.0</td>\n",
       "      <td>Sports</td>\n",
       "      <td>41.36</td>\n",
       "      <td>28.96</td>\n",
       "      <td>3.77</td>\n",
       "      <td>8.45</td>\n",
       "      <td>76.0</td>\n",
       "      <td>8</td>\n",
       "      <td>E</td>\n",
       "    </tr>\n",
       "    <tr>\n",
       "      <th>1</th>\n",
       "      <td>Super Mario Bros.</td>\n",
       "      <td>NES</td>\n",
       "      <td>1985.0</td>\n",
       "      <td>Platform</td>\n",
       "      <td>29.08</td>\n",
       "      <td>3.58</td>\n",
       "      <td>6.81</td>\n",
       "      <td>0.77</td>\n",
       "      <td>NaN</td>\n",
       "      <td>NaN</td>\n",
       "      <td>NaN</td>\n",
       "    </tr>\n",
       "    <tr>\n",
       "      <th>2</th>\n",
       "      <td>Mario Kart Wii</td>\n",
       "      <td>Wii</td>\n",
       "      <td>2008.0</td>\n",
       "      <td>Racing</td>\n",
       "      <td>15.68</td>\n",
       "      <td>12.76</td>\n",
       "      <td>3.79</td>\n",
       "      <td>3.29</td>\n",
       "      <td>82.0</td>\n",
       "      <td>8.3</td>\n",
       "      <td>E</td>\n",
       "    </tr>\n",
       "    <tr>\n",
       "      <th>3</th>\n",
       "      <td>Wii Sports Resort</td>\n",
       "      <td>Wii</td>\n",
       "      <td>2009.0</td>\n",
       "      <td>Sports</td>\n",
       "      <td>15.61</td>\n",
       "      <td>10.93</td>\n",
       "      <td>3.28</td>\n",
       "      <td>2.95</td>\n",
       "      <td>80.0</td>\n",
       "      <td>8</td>\n",
       "      <td>E</td>\n",
       "    </tr>\n",
       "    <tr>\n",
       "      <th>4</th>\n",
       "      <td>Pokemon Red/Pokemon Blue</td>\n",
       "      <td>GB</td>\n",
       "      <td>1996.0</td>\n",
       "      <td>Role-Playing</td>\n",
       "      <td>11.27</td>\n",
       "      <td>8.89</td>\n",
       "      <td>10.22</td>\n",
       "      <td>1.00</td>\n",
       "      <td>NaN</td>\n",
       "      <td>NaN</td>\n",
       "      <td>NaN</td>\n",
       "    </tr>\n",
       "  </tbody>\n",
       "</table>\n",
       "</div>"
      ],
      "text/plain": [
       "                       Name Platform  Year_of_Release         Genre  NA_sales  \\\n",
       "0                Wii Sports      Wii           2006.0        Sports     41.36   \n",
       "1         Super Mario Bros.      NES           1985.0      Platform     29.08   \n",
       "2            Mario Kart Wii      Wii           2008.0        Racing     15.68   \n",
       "3         Wii Sports Resort      Wii           2009.0        Sports     15.61   \n",
       "4  Pokemon Red/Pokemon Blue       GB           1996.0  Role-Playing     11.27   \n",
       "\n",
       "   EU_sales  JP_sales  Other_sales  Critic_Score User_Score Rating  \n",
       "0     28.96      3.77         8.45          76.0          8      E  \n",
       "1      3.58      6.81         0.77           NaN        NaN    NaN  \n",
       "2     12.76      3.79         3.29          82.0        8.3      E  \n",
       "3     10.93      3.28         2.95          80.0          8      E  \n",
       "4      8.89     10.22         1.00           NaN        NaN    NaN  "
      ]
     },
     "execution_count": 1,
     "metadata": {},
     "output_type": "execute_result"
    }
   ],
   "source": [
    "import pandas as pd\n",
    "import matplotlib.pyplot as plt\n",
    "games = pd.read_csv('/datasets/games.csv')\n",
    "games.head()"
   ]
  },
  {
   "cell_type": "code",
   "execution_count": 2,
   "metadata": {},
   "outputs": [
    {
     "name": "stdout",
     "output_type": "stream",
     "text": [
      "<class 'pandas.core.frame.DataFrame'>\n",
      "RangeIndex: 16715 entries, 0 to 16714\n",
      "Data columns (total 11 columns):\n",
      " #   Column           Non-Null Count  Dtype  \n",
      "---  ------           --------------  -----  \n",
      " 0   Name             16713 non-null  object \n",
      " 1   Platform         16715 non-null  object \n",
      " 2   Year_of_Release  16446 non-null  float64\n",
      " 3   Genre            16713 non-null  object \n",
      " 4   NA_sales         16715 non-null  float64\n",
      " 5   EU_sales         16715 non-null  float64\n",
      " 6   JP_sales         16715 non-null  float64\n",
      " 7   Other_sales      16715 non-null  float64\n",
      " 8   Critic_Score     8137 non-null   float64\n",
      " 9   User_Score       10014 non-null  object \n",
      " 10  Rating           9949 non-null   object \n",
      "dtypes: float64(6), object(5)\n",
      "memory usage: 1.4+ MB\n"
     ]
    }
   ],
   "source": [
    "games.info()"
   ]
  },
  {
   "cell_type": "markdown",
   "metadata": {},
   "source": [
    "<div class=\"alert alert-info\">\n",
    "Из info мы видим, что в некоторых столбцах есть пропуски - в Year_of_Release, Critic_Score, User_Score, Rating. В Name и Genre всего два пропуска, потом проверим, скорее всего, это одни и те же строки. Есть неправильные типы данных - в столбцe Year_of_Release можно поменять на int, в столбце User_Score - на float. Столбец Rating имеет тип object, т.к. рейтинг в данном случае обознается буквами. Выбросы и аномалии и явные дубликаты - непонятно, как распознать в info(\n",
    "</div>"
   ]
  },
  {
   "cell_type": "markdown",
   "metadata": {},
   "source": [
    "<div class=\"alert alert-info\">\n",
    "Шаг 2. Подготовим данные. Заменим названия столбцов (приведём к нижнему регистру)\n",
    "</div>"
   ]
  },
  {
   "cell_type": "code",
   "execution_count": 3,
   "metadata": {},
   "outputs": [
    {
     "data": {
      "text/html": [
       "<div>\n",
       "<style scoped>\n",
       "    .dataframe tbody tr th:only-of-type {\n",
       "        vertical-align: middle;\n",
       "    }\n",
       "\n",
       "    .dataframe tbody tr th {\n",
       "        vertical-align: top;\n",
       "    }\n",
       "\n",
       "    .dataframe thead th {\n",
       "        text-align: right;\n",
       "    }\n",
       "</style>\n",
       "<table border=\"1\" class=\"dataframe\">\n",
       "  <thead>\n",
       "    <tr style=\"text-align: right;\">\n",
       "      <th></th>\n",
       "      <th>name</th>\n",
       "      <th>platform</th>\n",
       "      <th>year_of_release</th>\n",
       "      <th>genre</th>\n",
       "      <th>na_sales</th>\n",
       "      <th>eu_sales</th>\n",
       "      <th>jp_sales</th>\n",
       "      <th>other_sales</th>\n",
       "      <th>critic_score</th>\n",
       "      <th>user_score</th>\n",
       "      <th>rating</th>\n",
       "    </tr>\n",
       "  </thead>\n",
       "  <tbody>\n",
       "    <tr>\n",
       "      <th>0</th>\n",
       "      <td>Wii Sports</td>\n",
       "      <td>Wii</td>\n",
       "      <td>2006.0</td>\n",
       "      <td>Sports</td>\n",
       "      <td>41.36</td>\n",
       "      <td>28.96</td>\n",
       "      <td>3.77</td>\n",
       "      <td>8.45</td>\n",
       "      <td>76.0</td>\n",
       "      <td>8</td>\n",
       "      <td>E</td>\n",
       "    </tr>\n",
       "    <tr>\n",
       "      <th>1</th>\n",
       "      <td>Super Mario Bros.</td>\n",
       "      <td>NES</td>\n",
       "      <td>1985.0</td>\n",
       "      <td>Platform</td>\n",
       "      <td>29.08</td>\n",
       "      <td>3.58</td>\n",
       "      <td>6.81</td>\n",
       "      <td>0.77</td>\n",
       "      <td>NaN</td>\n",
       "      <td>NaN</td>\n",
       "      <td>NaN</td>\n",
       "    </tr>\n",
       "    <tr>\n",
       "      <th>2</th>\n",
       "      <td>Mario Kart Wii</td>\n",
       "      <td>Wii</td>\n",
       "      <td>2008.0</td>\n",
       "      <td>Racing</td>\n",
       "      <td>15.68</td>\n",
       "      <td>12.76</td>\n",
       "      <td>3.79</td>\n",
       "      <td>3.29</td>\n",
       "      <td>82.0</td>\n",
       "      <td>8.3</td>\n",
       "      <td>E</td>\n",
       "    </tr>\n",
       "    <tr>\n",
       "      <th>3</th>\n",
       "      <td>Wii Sports Resort</td>\n",
       "      <td>Wii</td>\n",
       "      <td>2009.0</td>\n",
       "      <td>Sports</td>\n",
       "      <td>15.61</td>\n",
       "      <td>10.93</td>\n",
       "      <td>3.28</td>\n",
       "      <td>2.95</td>\n",
       "      <td>80.0</td>\n",
       "      <td>8</td>\n",
       "      <td>E</td>\n",
       "    </tr>\n",
       "    <tr>\n",
       "      <th>4</th>\n",
       "      <td>Pokemon Red/Pokemon Blue</td>\n",
       "      <td>GB</td>\n",
       "      <td>1996.0</td>\n",
       "      <td>Role-Playing</td>\n",
       "      <td>11.27</td>\n",
       "      <td>8.89</td>\n",
       "      <td>10.22</td>\n",
       "      <td>1.00</td>\n",
       "      <td>NaN</td>\n",
       "      <td>NaN</td>\n",
       "      <td>NaN</td>\n",
       "    </tr>\n",
       "  </tbody>\n",
       "</table>\n",
       "</div>"
      ],
      "text/plain": [
       "                       name platform  year_of_release         genre  na_sales  \\\n",
       "0                Wii Sports      Wii           2006.0        Sports     41.36   \n",
       "1         Super Mario Bros.      NES           1985.0      Platform     29.08   \n",
       "2            Mario Kart Wii      Wii           2008.0        Racing     15.68   \n",
       "3         Wii Sports Resort      Wii           2009.0        Sports     15.61   \n",
       "4  Pokemon Red/Pokemon Blue       GB           1996.0  Role-Playing     11.27   \n",
       "\n",
       "   eu_sales  jp_sales  other_sales  critic_score user_score rating  \n",
       "0     28.96      3.77         8.45          76.0          8      E  \n",
       "1      3.58      6.81         0.77           NaN        NaN    NaN  \n",
       "2     12.76      3.79         3.29          82.0        8.3      E  \n",
       "3     10.93      3.28         2.95          80.0          8      E  \n",
       "4      8.89     10.22         1.00           NaN        NaN    NaN  "
      ]
     },
     "execution_count": 3,
     "metadata": {},
     "output_type": "execute_result"
    }
   ],
   "source": [
    "games.columns = games.columns.str.lower()\n",
    "games.head()"
   ]
  },
  {
   "cell_type": "code",
   "execution_count": 4,
   "metadata": {},
   "outputs": [
    {
     "name": "stdout",
     "output_type": "stream",
     "text": [
      "<class 'pandas.core.frame.DataFrame'>\n",
      "RangeIndex: 16715 entries, 0 to 16714\n",
      "Data columns (total 11 columns):\n",
      " #   Column           Non-Null Count  Dtype  \n",
      "---  ------           --------------  -----  \n",
      " 0   name             16713 non-null  object \n",
      " 1   platform         16715 non-null  object \n",
      " 2   year_of_release  16446 non-null  float64\n",
      " 3   genre            16713 non-null  object \n",
      " 4   na_sales         16715 non-null  float64\n",
      " 5   eu_sales         16715 non-null  float64\n",
      " 6   jp_sales         16715 non-null  float64\n",
      " 7   other_sales      16715 non-null  float64\n",
      " 8   critic_score     8137 non-null   float64\n",
      " 9   user_score       10014 non-null  object \n",
      " 10  rating           9949 non-null   object \n",
      "dtypes: float64(6), object(5)\n",
      "memory usage: 1.4+ MB\n"
     ]
    }
   ],
   "source": [
    "games.info()"
   ]
  },
  {
   "cell_type": "markdown",
   "metadata": {},
   "source": [
    "<div class=\"alert alert-info\">\n",
    "Теперь преобразуем данные в нужные типы. Столбец <b>year_of_release</b> должен быть с типом int, так как год - целочисленный. Столбец <b>user_score</b> должен быть числовым - float, так как рейтинг - дробное число. Остальные столбцы - с нужным типом данным (<b>rating</b> - это тоже рейтинг, но он с буквами, поэтому оставляем object).\n",
    "</div>"
   ]
  },
  {
   "cell_type": "markdown",
   "metadata": {},
   "source": [
    "<div class=\"alert alert-info\">\n",
    "Столбец <b>year_of_release</b> должен быть с типом int, так как год - целочисленный. Но из-за пропусков он не может быть преобразован. Поэтому сначала посмотрим, сколько строк со значением Nan в столбце с годом. Их не очень много, можно их удалить. Теперь тип столбца - int.\n",
    "</div>"
   ]
  },
  {
   "cell_type": "code",
   "execution_count": 5,
   "metadata": {},
   "outputs": [
    {
     "data": {
      "text/plain": [
       "269"
      ]
     },
     "execution_count": 5,
     "metadata": {},
     "output_type": "execute_result"
    }
   ],
   "source": [
    "games['year_of_release'].isna().sum()"
   ]
  },
  {
   "cell_type": "code",
   "execution_count": 6,
   "metadata": {},
   "outputs": [
    {
     "data": {
      "text/html": [
       "<div>\n",
       "<style scoped>\n",
       "    .dataframe tbody tr th:only-of-type {\n",
       "        vertical-align: middle;\n",
       "    }\n",
       "\n",
       "    .dataframe tbody tr th {\n",
       "        vertical-align: top;\n",
       "    }\n",
       "\n",
       "    .dataframe thead th {\n",
       "        text-align: right;\n",
       "    }\n",
       "</style>\n",
       "<table border=\"1\" class=\"dataframe\">\n",
       "  <thead>\n",
       "    <tr style=\"text-align: right;\">\n",
       "      <th></th>\n",
       "      <th>name</th>\n",
       "      <th>platform</th>\n",
       "      <th>year_of_release</th>\n",
       "      <th>genre</th>\n",
       "      <th>na_sales</th>\n",
       "      <th>eu_sales</th>\n",
       "      <th>jp_sales</th>\n",
       "      <th>other_sales</th>\n",
       "      <th>critic_score</th>\n",
       "      <th>user_score</th>\n",
       "      <th>rating</th>\n",
       "    </tr>\n",
       "  </thead>\n",
       "  <tbody>\n",
       "    <tr>\n",
       "      <th>0</th>\n",
       "      <td>Wii Sports</td>\n",
       "      <td>Wii</td>\n",
       "      <td>2006.0</td>\n",
       "      <td>Sports</td>\n",
       "      <td>41.36</td>\n",
       "      <td>28.96</td>\n",
       "      <td>3.77</td>\n",
       "      <td>8.45</td>\n",
       "      <td>76.0</td>\n",
       "      <td>8</td>\n",
       "      <td>E</td>\n",
       "    </tr>\n",
       "    <tr>\n",
       "      <th>1</th>\n",
       "      <td>Super Mario Bros.</td>\n",
       "      <td>NES</td>\n",
       "      <td>1985.0</td>\n",
       "      <td>Platform</td>\n",
       "      <td>29.08</td>\n",
       "      <td>3.58</td>\n",
       "      <td>6.81</td>\n",
       "      <td>0.77</td>\n",
       "      <td>NaN</td>\n",
       "      <td>NaN</td>\n",
       "      <td>NaN</td>\n",
       "    </tr>\n",
       "    <tr>\n",
       "      <th>2</th>\n",
       "      <td>Mario Kart Wii</td>\n",
       "      <td>Wii</td>\n",
       "      <td>2008.0</td>\n",
       "      <td>Racing</td>\n",
       "      <td>15.68</td>\n",
       "      <td>12.76</td>\n",
       "      <td>3.79</td>\n",
       "      <td>3.29</td>\n",
       "      <td>82.0</td>\n",
       "      <td>8.3</td>\n",
       "      <td>E</td>\n",
       "    </tr>\n",
       "    <tr>\n",
       "      <th>3</th>\n",
       "      <td>Wii Sports Resort</td>\n",
       "      <td>Wii</td>\n",
       "      <td>2009.0</td>\n",
       "      <td>Sports</td>\n",
       "      <td>15.61</td>\n",
       "      <td>10.93</td>\n",
       "      <td>3.28</td>\n",
       "      <td>2.95</td>\n",
       "      <td>80.0</td>\n",
       "      <td>8</td>\n",
       "      <td>E</td>\n",
       "    </tr>\n",
       "    <tr>\n",
       "      <th>4</th>\n",
       "      <td>Pokemon Red/Pokemon Blue</td>\n",
       "      <td>GB</td>\n",
       "      <td>1996.0</td>\n",
       "      <td>Role-Playing</td>\n",
       "      <td>11.27</td>\n",
       "      <td>8.89</td>\n",
       "      <td>10.22</td>\n",
       "      <td>1.00</td>\n",
       "      <td>NaN</td>\n",
       "      <td>NaN</td>\n",
       "      <td>NaN</td>\n",
       "    </tr>\n",
       "    <tr>\n",
       "      <th>...</th>\n",
       "      <td>...</td>\n",
       "      <td>...</td>\n",
       "      <td>...</td>\n",
       "      <td>...</td>\n",
       "      <td>...</td>\n",
       "      <td>...</td>\n",
       "      <td>...</td>\n",
       "      <td>...</td>\n",
       "      <td>...</td>\n",
       "      <td>...</td>\n",
       "      <td>...</td>\n",
       "    </tr>\n",
       "    <tr>\n",
       "      <th>16441</th>\n",
       "      <td>Samurai Warriors: Sanada Maru</td>\n",
       "      <td>PS3</td>\n",
       "      <td>2016.0</td>\n",
       "      <td>Action</td>\n",
       "      <td>0.00</td>\n",
       "      <td>0.00</td>\n",
       "      <td>0.01</td>\n",
       "      <td>0.00</td>\n",
       "      <td>NaN</td>\n",
       "      <td>NaN</td>\n",
       "      <td>NaN</td>\n",
       "    </tr>\n",
       "    <tr>\n",
       "      <th>16442</th>\n",
       "      <td>LMA Manager 2007</td>\n",
       "      <td>X360</td>\n",
       "      <td>2006.0</td>\n",
       "      <td>Sports</td>\n",
       "      <td>0.00</td>\n",
       "      <td>0.01</td>\n",
       "      <td>0.00</td>\n",
       "      <td>0.00</td>\n",
       "      <td>NaN</td>\n",
       "      <td>NaN</td>\n",
       "      <td>NaN</td>\n",
       "    </tr>\n",
       "    <tr>\n",
       "      <th>16443</th>\n",
       "      <td>Haitaka no Psychedelica</td>\n",
       "      <td>PSV</td>\n",
       "      <td>2016.0</td>\n",
       "      <td>Adventure</td>\n",
       "      <td>0.00</td>\n",
       "      <td>0.00</td>\n",
       "      <td>0.01</td>\n",
       "      <td>0.00</td>\n",
       "      <td>NaN</td>\n",
       "      <td>NaN</td>\n",
       "      <td>NaN</td>\n",
       "    </tr>\n",
       "    <tr>\n",
       "      <th>16444</th>\n",
       "      <td>Spirits &amp; Spells</td>\n",
       "      <td>GBA</td>\n",
       "      <td>2003.0</td>\n",
       "      <td>Platform</td>\n",
       "      <td>0.01</td>\n",
       "      <td>0.00</td>\n",
       "      <td>0.00</td>\n",
       "      <td>0.00</td>\n",
       "      <td>NaN</td>\n",
       "      <td>NaN</td>\n",
       "      <td>NaN</td>\n",
       "    </tr>\n",
       "    <tr>\n",
       "      <th>16445</th>\n",
       "      <td>Winning Post 8 2016</td>\n",
       "      <td>PSV</td>\n",
       "      <td>2016.0</td>\n",
       "      <td>Simulation</td>\n",
       "      <td>0.00</td>\n",
       "      <td>0.00</td>\n",
       "      <td>0.01</td>\n",
       "      <td>0.00</td>\n",
       "      <td>NaN</td>\n",
       "      <td>NaN</td>\n",
       "      <td>NaN</td>\n",
       "    </tr>\n",
       "  </tbody>\n",
       "</table>\n",
       "<p>16446 rows × 11 columns</p>\n",
       "</div>"
      ],
      "text/plain": [
       "                                name platform  year_of_release         genre  \\\n",
       "0                         Wii Sports      Wii           2006.0        Sports   \n",
       "1                  Super Mario Bros.      NES           1985.0      Platform   \n",
       "2                     Mario Kart Wii      Wii           2008.0        Racing   \n",
       "3                  Wii Sports Resort      Wii           2009.0        Sports   \n",
       "4           Pokemon Red/Pokemon Blue       GB           1996.0  Role-Playing   \n",
       "...                              ...      ...              ...           ...   \n",
       "16441  Samurai Warriors: Sanada Maru      PS3           2016.0        Action   \n",
       "16442               LMA Manager 2007     X360           2006.0        Sports   \n",
       "16443        Haitaka no Psychedelica      PSV           2016.0     Adventure   \n",
       "16444               Spirits & Spells      GBA           2003.0      Platform   \n",
       "16445            Winning Post 8 2016      PSV           2016.0    Simulation   \n",
       "\n",
       "       na_sales  eu_sales  jp_sales  other_sales  critic_score user_score  \\\n",
       "0         41.36     28.96      3.77         8.45          76.0          8   \n",
       "1         29.08      3.58      6.81         0.77           NaN        NaN   \n",
       "2         15.68     12.76      3.79         3.29          82.0        8.3   \n",
       "3         15.61     10.93      3.28         2.95          80.0          8   \n",
       "4         11.27      8.89     10.22         1.00           NaN        NaN   \n",
       "...         ...       ...       ...          ...           ...        ...   \n",
       "16441      0.00      0.00      0.01         0.00           NaN        NaN   \n",
       "16442      0.00      0.01      0.00         0.00           NaN        NaN   \n",
       "16443      0.00      0.00      0.01         0.00           NaN        NaN   \n",
       "16444      0.01      0.00      0.00         0.00           NaN        NaN   \n",
       "16445      0.00      0.00      0.01         0.00           NaN        NaN   \n",
       "\n",
       "      rating  \n",
       "0          E  \n",
       "1        NaN  \n",
       "2          E  \n",
       "3          E  \n",
       "4        NaN  \n",
       "...      ...  \n",
       "16441    NaN  \n",
       "16442    NaN  \n",
       "16443    NaN  \n",
       "16444    NaN  \n",
       "16445    NaN  \n",
       "\n",
       "[16446 rows x 11 columns]"
      ]
     },
     "execution_count": 6,
     "metadata": {},
     "output_type": "execute_result"
    }
   ],
   "source": [
    "games = games.dropna(subset = ['year_of_release']).reset_index(drop=True)\n",
    "games"
   ]
  },
  {
   "cell_type": "code",
   "execution_count": 7,
   "metadata": {},
   "outputs": [
    {
     "data": {
      "text/plain": [
       "0"
      ]
     },
     "execution_count": 7,
     "metadata": {},
     "output_type": "execute_result"
    }
   ],
   "source": [
    "games['year_of_release'].isna().sum()"
   ]
  },
  {
   "cell_type": "code",
   "execution_count": 8,
   "metadata": {},
   "outputs": [
    {
     "data": {
      "text/plain": [
       "0    2006\n",
       "1    1985\n",
       "2    2008\n",
       "3    2009\n",
       "4    1996\n",
       "5    1989\n",
       "6    2006\n",
       "7    2006\n",
       "8    2009\n",
       "9    1984\n",
       "Name: year_of_release, dtype: int64"
      ]
     },
     "execution_count": 8,
     "metadata": {},
     "output_type": "execute_result"
    }
   ],
   "source": [
    "games['year_of_release'] = games['year_of_release'].astype(int)\n",
    "games['year_of_release'].head(10)"
   ]
  },
  {
   "cell_type": "markdown",
   "metadata": {},
   "source": [
    "<div class=\"alert alert-info\">\n",
    "Столбец <b>user_score</b> должен быть числовым - float, так как рейтинг - дробное число.\n",
    "</div"
   ]
  },
  {
   "cell_type": "code",
   "execution_count": 9,
   "metadata": {},
   "outputs": [],
   "source": [
    "#games['user_score'] = pd.to_numeric(games['user_score'])"
   ]
  },
  {
   "cell_type": "markdown",
   "metadata": {},
   "source": [
    "<div class=\"alert alert-info\">\n",
    "Код выше выдаёт ошибку из-за tbd значений (to be determined). Заменим на Nan\n",
    "</div"
   ]
  },
  {
   "cell_type": "code",
   "execution_count": 10,
   "metadata": {},
   "outputs": [],
   "source": [
    "games.loc[games['user_score'] == 'tbd'] = games.loc[games['user_score'] == 'Nan']"
   ]
  },
  {
   "cell_type": "code",
   "execution_count": 11,
   "metadata": {},
   "outputs": [
    {
     "data": {
      "text/plain": [
       "count    7463.000000\n",
       "mean        7.126330\n",
       "std         1.499447\n",
       "min         0.000000\n",
       "25%         6.400000\n",
       "50%         7.500000\n",
       "75%         8.200000\n",
       "max         9.700000\n",
       "Name: user_score, dtype: float64"
      ]
     },
     "execution_count": 11,
     "metadata": {},
     "output_type": "execute_result"
    }
   ],
   "source": [
    "games['user_score'] = pd.to_numeric(games['user_score'], errors = 'coerce')\n",
    "games['user_score'].describe()"
   ]
  },
  {
   "cell_type": "markdown",
   "metadata": {},
   "source": [
    "<div class=\"alert alert-info\">\n",
    "Далее проверим пропуски:\n",
    "</div>"
   ]
  },
  {
   "cell_type": "code",
   "execution_count": 12,
   "metadata": {},
   "outputs": [],
   "source": [
    "#print ('name', games['name'].isna().sum())\n",
    "#print ('platform', games['platform'].isna().sum())\n",
    "#print ('year_of_release', games['year_of_release'].isna().sum())\n",
    "#print ('genre', games['genre'].isna().sum())\n",
    "#print ('na_sales', games['na_sales'].isna().sum())\n",
    "#print ('eu_sales', games['eu_sales'].isna().sum())\n",
    "#print ('jp_sales', games['jp_sales'].isna().sum())\n",
    "#print ('other_sales', games['other_sales'].isna().sum())\n",
    "#print ('critic_score', games['critic_score'].isna().sum())\n",
    "#print ('user_score', games['user_score'].isna().sum())\n",
    "#print ('rating', games['rating'].isna().sum())"
   ]
  },
  {
   "cell_type": "code",
   "execution_count": 13,
   "metadata": {},
   "outputs": [
    {
     "data": {
      "text/plain": [
       "name               2378\n",
       "platform           2376\n",
       "year_of_release    2376\n",
       "genre              2378\n",
       "na_sales           2376\n",
       "eu_sales           2376\n",
       "jp_sales           2376\n",
       "other_sales        2376\n",
       "critic_score       9519\n",
       "user_score         8983\n",
       "rating             9004\n",
       "dtype: int64"
      ]
     },
     "execution_count": 13,
     "metadata": {},
     "output_type": "execute_result"
    }
   ],
   "source": [
    "games.isna().sum()"
   ]
  },
  {
   "cell_type": "markdown",
   "metadata": {},
   "source": [
    "<div class=\"alert alert-info\">\n",
    "Много похожего количества пропусков в столбцах, проверим, может, это одни и те же строки\n",
    "</div>"
   ]
  },
  {
   "cell_type": "code",
   "execution_count": 14,
   "metadata": {
    "scrolled": true
   },
   "outputs": [
    {
     "data": {
      "text/html": [
       "<div>\n",
       "<style scoped>\n",
       "    .dataframe tbody tr th:only-of-type {\n",
       "        vertical-align: middle;\n",
       "    }\n",
       "\n",
       "    .dataframe tbody tr th {\n",
       "        vertical-align: top;\n",
       "    }\n",
       "\n",
       "    .dataframe thead th {\n",
       "        text-align: right;\n",
       "    }\n",
       "</style>\n",
       "<table border=\"1\" class=\"dataframe\">\n",
       "  <thead>\n",
       "    <tr style=\"text-align: right;\">\n",
       "      <th></th>\n",
       "      <th>name</th>\n",
       "      <th>platform</th>\n",
       "      <th>year_of_release</th>\n",
       "      <th>genre</th>\n",
       "      <th>na_sales</th>\n",
       "      <th>eu_sales</th>\n",
       "      <th>jp_sales</th>\n",
       "      <th>other_sales</th>\n",
       "      <th>critic_score</th>\n",
       "      <th>user_score</th>\n",
       "      <th>rating</th>\n",
       "    </tr>\n",
       "  </thead>\n",
       "  <tbody>\n",
       "    <tr>\n",
       "      <th>119</th>\n",
       "      <td>NaN</td>\n",
       "      <td>NaN</td>\n",
       "      <td>NaN</td>\n",
       "      <td>NaN</td>\n",
       "      <td>NaN</td>\n",
       "      <td>NaN</td>\n",
       "      <td>NaN</td>\n",
       "      <td>NaN</td>\n",
       "      <td>NaN</td>\n",
       "      <td>NaN</td>\n",
       "      <td>NaN</td>\n",
       "    </tr>\n",
       "    <tr>\n",
       "      <th>300</th>\n",
       "      <td>NaN</td>\n",
       "      <td>NaN</td>\n",
       "      <td>NaN</td>\n",
       "      <td>NaN</td>\n",
       "      <td>NaN</td>\n",
       "      <td>NaN</td>\n",
       "      <td>NaN</td>\n",
       "      <td>NaN</td>\n",
       "      <td>NaN</td>\n",
       "      <td>NaN</td>\n",
       "      <td>NaN</td>\n",
       "    </tr>\n",
       "    <tr>\n",
       "      <th>516</th>\n",
       "      <td>NaN</td>\n",
       "      <td>NaN</td>\n",
       "      <td>NaN</td>\n",
       "      <td>NaN</td>\n",
       "      <td>NaN</td>\n",
       "      <td>NaN</td>\n",
       "      <td>NaN</td>\n",
       "      <td>NaN</td>\n",
       "      <td>NaN</td>\n",
       "      <td>NaN</td>\n",
       "      <td>NaN</td>\n",
       "    </tr>\n",
       "    <tr>\n",
       "      <th>639</th>\n",
       "      <td>NaN</td>\n",
       "      <td>NaN</td>\n",
       "      <td>NaN</td>\n",
       "      <td>NaN</td>\n",
       "      <td>NaN</td>\n",
       "      <td>NaN</td>\n",
       "      <td>NaN</td>\n",
       "      <td>NaN</td>\n",
       "      <td>NaN</td>\n",
       "      <td>NaN</td>\n",
       "      <td>NaN</td>\n",
       "    </tr>\n",
       "    <tr>\n",
       "      <th>710</th>\n",
       "      <td>NaN</td>\n",
       "      <td>NaN</td>\n",
       "      <td>NaN</td>\n",
       "      <td>NaN</td>\n",
       "      <td>NaN</td>\n",
       "      <td>NaN</td>\n",
       "      <td>NaN</td>\n",
       "      <td>NaN</td>\n",
       "      <td>NaN</td>\n",
       "      <td>NaN</td>\n",
       "      <td>NaN</td>\n",
       "    </tr>\n",
       "    <tr>\n",
       "      <th>...</th>\n",
       "      <td>...</td>\n",
       "      <td>...</td>\n",
       "      <td>...</td>\n",
       "      <td>...</td>\n",
       "      <td>...</td>\n",
       "      <td>...</td>\n",
       "      <td>...</td>\n",
       "      <td>...</td>\n",
       "      <td>...</td>\n",
       "      <td>...</td>\n",
       "      <td>...</td>\n",
       "    </tr>\n",
       "    <tr>\n",
       "      <th>16426</th>\n",
       "      <td>NaN</td>\n",
       "      <td>NaN</td>\n",
       "      <td>NaN</td>\n",
       "      <td>NaN</td>\n",
       "      <td>NaN</td>\n",
       "      <td>NaN</td>\n",
       "      <td>NaN</td>\n",
       "      <td>NaN</td>\n",
       "      <td>NaN</td>\n",
       "      <td>NaN</td>\n",
       "      <td>NaN</td>\n",
       "    </tr>\n",
       "    <tr>\n",
       "      <th>16428</th>\n",
       "      <td>NaN</td>\n",
       "      <td>NaN</td>\n",
       "      <td>NaN</td>\n",
       "      <td>NaN</td>\n",
       "      <td>NaN</td>\n",
       "      <td>NaN</td>\n",
       "      <td>NaN</td>\n",
       "      <td>NaN</td>\n",
       "      <td>NaN</td>\n",
       "      <td>NaN</td>\n",
       "      <td>NaN</td>\n",
       "    </tr>\n",
       "    <tr>\n",
       "      <th>16429</th>\n",
       "      <td>NaN</td>\n",
       "      <td>NaN</td>\n",
       "      <td>NaN</td>\n",
       "      <td>NaN</td>\n",
       "      <td>NaN</td>\n",
       "      <td>NaN</td>\n",
       "      <td>NaN</td>\n",
       "      <td>NaN</td>\n",
       "      <td>NaN</td>\n",
       "      <td>NaN</td>\n",
       "      <td>NaN</td>\n",
       "    </tr>\n",
       "    <tr>\n",
       "      <th>16435</th>\n",
       "      <td>NaN</td>\n",
       "      <td>NaN</td>\n",
       "      <td>NaN</td>\n",
       "      <td>NaN</td>\n",
       "      <td>NaN</td>\n",
       "      <td>NaN</td>\n",
       "      <td>NaN</td>\n",
       "      <td>NaN</td>\n",
       "      <td>NaN</td>\n",
       "      <td>NaN</td>\n",
       "      <td>NaN</td>\n",
       "    </tr>\n",
       "    <tr>\n",
       "      <th>16437</th>\n",
       "      <td>NaN</td>\n",
       "      <td>NaN</td>\n",
       "      <td>NaN</td>\n",
       "      <td>NaN</td>\n",
       "      <td>NaN</td>\n",
       "      <td>NaN</td>\n",
       "      <td>NaN</td>\n",
       "      <td>NaN</td>\n",
       "      <td>NaN</td>\n",
       "      <td>NaN</td>\n",
       "      <td>NaN</td>\n",
       "    </tr>\n",
       "  </tbody>\n",
       "</table>\n",
       "<p>2376 rows × 11 columns</p>\n",
       "</div>"
      ],
      "text/plain": [
       "      name platform  year_of_release genre  na_sales  eu_sales  jp_sales  \\\n",
       "119    NaN      NaN              NaN   NaN       NaN       NaN       NaN   \n",
       "300    NaN      NaN              NaN   NaN       NaN       NaN       NaN   \n",
       "516    NaN      NaN              NaN   NaN       NaN       NaN       NaN   \n",
       "639    NaN      NaN              NaN   NaN       NaN       NaN       NaN   \n",
       "710    NaN      NaN              NaN   NaN       NaN       NaN       NaN   \n",
       "...    ...      ...              ...   ...       ...       ...       ...   \n",
       "16426  NaN      NaN              NaN   NaN       NaN       NaN       NaN   \n",
       "16428  NaN      NaN              NaN   NaN       NaN       NaN       NaN   \n",
       "16429  NaN      NaN              NaN   NaN       NaN       NaN       NaN   \n",
       "16435  NaN      NaN              NaN   NaN       NaN       NaN       NaN   \n",
       "16437  NaN      NaN              NaN   NaN       NaN       NaN       NaN   \n",
       "\n",
       "       other_sales  critic_score  user_score rating  \n",
       "119            NaN           NaN         NaN    NaN  \n",
       "300            NaN           NaN         NaN    NaN  \n",
       "516            NaN           NaN         NaN    NaN  \n",
       "639            NaN           NaN         NaN    NaN  \n",
       "710            NaN           NaN         NaN    NaN  \n",
       "...            ...           ...         ...    ...  \n",
       "16426          NaN           NaN         NaN    NaN  \n",
       "16428          NaN           NaN         NaN    NaN  \n",
       "16429          NaN           NaN         NaN    NaN  \n",
       "16435          NaN           NaN         NaN    NaN  \n",
       "16437          NaN           NaN         NaN    NaN  \n",
       "\n",
       "[2376 rows x 11 columns]"
      ]
     },
     "execution_count": 14,
     "metadata": {},
     "output_type": "execute_result"
    }
   ],
   "source": [
    "games.loc[(games['platform'].isna())]"
   ]
  },
  {
   "cell_type": "markdown",
   "metadata": {},
   "source": [
    "<div class=\"alert alert-info\">\n",
    "Действительно, есть полностью пустые строки, можем их убрать\n",
    "</div>"
   ]
  },
  {
   "cell_type": "code",
   "execution_count": 15,
   "metadata": {
    "scrolled": true
   },
   "outputs": [
    {
     "data": {
      "text/html": [
       "<div>\n",
       "<style scoped>\n",
       "    .dataframe tbody tr th:only-of-type {\n",
       "        vertical-align: middle;\n",
       "    }\n",
       "\n",
       "    .dataframe tbody tr th {\n",
       "        vertical-align: top;\n",
       "    }\n",
       "\n",
       "    .dataframe thead th {\n",
       "        text-align: right;\n",
       "    }\n",
       "</style>\n",
       "<table border=\"1\" class=\"dataframe\">\n",
       "  <thead>\n",
       "    <tr style=\"text-align: right;\">\n",
       "      <th></th>\n",
       "      <th>name</th>\n",
       "      <th>platform</th>\n",
       "      <th>year_of_release</th>\n",
       "      <th>genre</th>\n",
       "      <th>na_sales</th>\n",
       "      <th>eu_sales</th>\n",
       "      <th>jp_sales</th>\n",
       "      <th>other_sales</th>\n",
       "      <th>critic_score</th>\n",
       "      <th>user_score</th>\n",
       "      <th>rating</th>\n",
       "    </tr>\n",
       "  </thead>\n",
       "  <tbody>\n",
       "    <tr>\n",
       "      <th>14060</th>\n",
       "      <td>Strawberry Nauts</td>\n",
       "      <td>PSV</td>\n",
       "      <td>2016.0</td>\n",
       "      <td>Adventure</td>\n",
       "      <td>0.00</td>\n",
       "      <td>0.00</td>\n",
       "      <td>0.01</td>\n",
       "      <td>0.0</td>\n",
       "      <td>NaN</td>\n",
       "      <td>NaN</td>\n",
       "      <td>NaN</td>\n",
       "    </tr>\n",
       "    <tr>\n",
       "      <th>14061</th>\n",
       "      <td>15 Days</td>\n",
       "      <td>PC</td>\n",
       "      <td>2009.0</td>\n",
       "      <td>Adventure</td>\n",
       "      <td>0.00</td>\n",
       "      <td>0.01</td>\n",
       "      <td>0.00</td>\n",
       "      <td>0.0</td>\n",
       "      <td>63.0</td>\n",
       "      <td>5.8</td>\n",
       "      <td>NaN</td>\n",
       "    </tr>\n",
       "    <tr>\n",
       "      <th>14062</th>\n",
       "      <td>Aiyoku no Eustia</td>\n",
       "      <td>PSV</td>\n",
       "      <td>2014.0</td>\n",
       "      <td>Misc</td>\n",
       "      <td>0.00</td>\n",
       "      <td>0.00</td>\n",
       "      <td>0.01</td>\n",
       "      <td>0.0</td>\n",
       "      <td>NaN</td>\n",
       "      <td>NaN</td>\n",
       "      <td>NaN</td>\n",
       "    </tr>\n",
       "    <tr>\n",
       "      <th>14063</th>\n",
       "      <td>Woody Woodpecker in Crazy Castle 5</td>\n",
       "      <td>GBA</td>\n",
       "      <td>2002.0</td>\n",
       "      <td>Platform</td>\n",
       "      <td>0.01</td>\n",
       "      <td>0.00</td>\n",
       "      <td>0.00</td>\n",
       "      <td>0.0</td>\n",
       "      <td>NaN</td>\n",
       "      <td>NaN</td>\n",
       "      <td>NaN</td>\n",
       "    </tr>\n",
       "    <tr>\n",
       "      <th>14064</th>\n",
       "      <td>SCORE International Baja 1000: The Official Game</td>\n",
       "      <td>PS2</td>\n",
       "      <td>2008.0</td>\n",
       "      <td>Racing</td>\n",
       "      <td>0.00</td>\n",
       "      <td>0.00</td>\n",
       "      <td>0.00</td>\n",
       "      <td>0.0</td>\n",
       "      <td>NaN</td>\n",
       "      <td>NaN</td>\n",
       "      <td>NaN</td>\n",
       "    </tr>\n",
       "    <tr>\n",
       "      <th>14065</th>\n",
       "      <td>Samurai Warriors: Sanada Maru</td>\n",
       "      <td>PS3</td>\n",
       "      <td>2016.0</td>\n",
       "      <td>Action</td>\n",
       "      <td>0.00</td>\n",
       "      <td>0.00</td>\n",
       "      <td>0.01</td>\n",
       "      <td>0.0</td>\n",
       "      <td>NaN</td>\n",
       "      <td>NaN</td>\n",
       "      <td>NaN</td>\n",
       "    </tr>\n",
       "    <tr>\n",
       "      <th>14066</th>\n",
       "      <td>LMA Manager 2007</td>\n",
       "      <td>X360</td>\n",
       "      <td>2006.0</td>\n",
       "      <td>Sports</td>\n",
       "      <td>0.00</td>\n",
       "      <td>0.01</td>\n",
       "      <td>0.00</td>\n",
       "      <td>0.0</td>\n",
       "      <td>NaN</td>\n",
       "      <td>NaN</td>\n",
       "      <td>NaN</td>\n",
       "    </tr>\n",
       "    <tr>\n",
       "      <th>14067</th>\n",
       "      <td>Haitaka no Psychedelica</td>\n",
       "      <td>PSV</td>\n",
       "      <td>2016.0</td>\n",
       "      <td>Adventure</td>\n",
       "      <td>0.00</td>\n",
       "      <td>0.00</td>\n",
       "      <td>0.01</td>\n",
       "      <td>0.0</td>\n",
       "      <td>NaN</td>\n",
       "      <td>NaN</td>\n",
       "      <td>NaN</td>\n",
       "    </tr>\n",
       "    <tr>\n",
       "      <th>14068</th>\n",
       "      <td>Spirits &amp; Spells</td>\n",
       "      <td>GBA</td>\n",
       "      <td>2003.0</td>\n",
       "      <td>Platform</td>\n",
       "      <td>0.01</td>\n",
       "      <td>0.00</td>\n",
       "      <td>0.00</td>\n",
       "      <td>0.0</td>\n",
       "      <td>NaN</td>\n",
       "      <td>NaN</td>\n",
       "      <td>NaN</td>\n",
       "    </tr>\n",
       "    <tr>\n",
       "      <th>14069</th>\n",
       "      <td>Winning Post 8 2016</td>\n",
       "      <td>PSV</td>\n",
       "      <td>2016.0</td>\n",
       "      <td>Simulation</td>\n",
       "      <td>0.00</td>\n",
       "      <td>0.00</td>\n",
       "      <td>0.01</td>\n",
       "      <td>0.0</td>\n",
       "      <td>NaN</td>\n",
       "      <td>NaN</td>\n",
       "      <td>NaN</td>\n",
       "    </tr>\n",
       "  </tbody>\n",
       "</table>\n",
       "</div>"
      ],
      "text/plain": [
       "                                                   name platform  \\\n",
       "14060                                  Strawberry Nauts      PSV   \n",
       "14061                                           15 Days       PC   \n",
       "14062                                  Aiyoku no Eustia      PSV   \n",
       "14063                Woody Woodpecker in Crazy Castle 5      GBA   \n",
       "14064  SCORE International Baja 1000: The Official Game      PS2   \n",
       "14065                     Samurai Warriors: Sanada Maru      PS3   \n",
       "14066                                  LMA Manager 2007     X360   \n",
       "14067                           Haitaka no Psychedelica      PSV   \n",
       "14068                                  Spirits & Spells      GBA   \n",
       "14069                               Winning Post 8 2016      PSV   \n",
       "\n",
       "       year_of_release       genre  na_sales  eu_sales  jp_sales  other_sales  \\\n",
       "14060           2016.0   Adventure      0.00      0.00      0.01          0.0   \n",
       "14061           2009.0   Adventure      0.00      0.01      0.00          0.0   \n",
       "14062           2014.0        Misc      0.00      0.00      0.01          0.0   \n",
       "14063           2002.0    Platform      0.01      0.00      0.00          0.0   \n",
       "14064           2008.0      Racing      0.00      0.00      0.00          0.0   \n",
       "14065           2016.0      Action      0.00      0.00      0.01          0.0   \n",
       "14066           2006.0      Sports      0.00      0.01      0.00          0.0   \n",
       "14067           2016.0   Adventure      0.00      0.00      0.01          0.0   \n",
       "14068           2003.0    Platform      0.01      0.00      0.00          0.0   \n",
       "14069           2016.0  Simulation      0.00      0.00      0.01          0.0   \n",
       "\n",
       "       critic_score  user_score rating  \n",
       "14060           NaN         NaN    NaN  \n",
       "14061          63.0         5.8    NaN  \n",
       "14062           NaN         NaN    NaN  \n",
       "14063           NaN         NaN    NaN  \n",
       "14064           NaN         NaN    NaN  \n",
       "14065           NaN         NaN    NaN  \n",
       "14066           NaN         NaN    NaN  \n",
       "14067           NaN         NaN    NaN  \n",
       "14068           NaN         NaN    NaN  \n",
       "14069           NaN         NaN    NaN  "
      ]
     },
     "execution_count": 15,
     "metadata": {},
     "output_type": "execute_result"
    }
   ],
   "source": [
    "games = games.dropna(subset = ['platform']).reset_index(drop=True)\n",
    "games.tail(10)"
   ]
  },
  {
   "cell_type": "markdown",
   "metadata": {},
   "source": [
    "<div class=\"alert alert-info\">\n",
    "Оставшиеся пропуски\n",
    "</div>"
   ]
  },
  {
   "cell_type": "code",
   "execution_count": 17,
   "metadata": {},
   "outputs": [
    {
     "data": {
      "text/plain": [
       "name                  2\n",
       "platform              0\n",
       "year_of_release       0\n",
       "genre                 2\n",
       "na_sales              0\n",
       "eu_sales              0\n",
       "jp_sales              0\n",
       "other_sales           0\n",
       "critic_score       7143\n",
       "user_score         6607\n",
       "rating             6628\n",
       "dtype: int64"
      ]
     },
     "execution_count": 17,
     "metadata": {},
     "output_type": "execute_result"
    }
   ],
   "source": [
    "games.isna().sum()"
   ]
  },
  {
   "cell_type": "code",
   "execution_count": 18,
   "metadata": {},
   "outputs": [
    {
     "data": {
      "text/html": [
       "<div>\n",
       "<style scoped>\n",
       "    .dataframe tbody tr th:only-of-type {\n",
       "        vertical-align: middle;\n",
       "    }\n",
       "\n",
       "    .dataframe tbody tr th {\n",
       "        vertical-align: top;\n",
       "    }\n",
       "\n",
       "    .dataframe thead th {\n",
       "        text-align: right;\n",
       "    }\n",
       "</style>\n",
       "<table border=\"1\" class=\"dataframe\">\n",
       "  <thead>\n",
       "    <tr style=\"text-align: right;\">\n",
       "      <th></th>\n",
       "      <th>name</th>\n",
       "      <th>platform</th>\n",
       "      <th>year_of_release</th>\n",
       "      <th>genre</th>\n",
       "      <th>na_sales</th>\n",
       "      <th>eu_sales</th>\n",
       "      <th>jp_sales</th>\n",
       "      <th>other_sales</th>\n",
       "      <th>critic_score</th>\n",
       "      <th>user_score</th>\n",
       "      <th>rating</th>\n",
       "    </tr>\n",
       "  </thead>\n",
       "  <tbody>\n",
       "    <tr>\n",
       "      <th>648</th>\n",
       "      <td>NaN</td>\n",
       "      <td>GEN</td>\n",
       "      <td>1993.0</td>\n",
       "      <td>NaN</td>\n",
       "      <td>1.78</td>\n",
       "      <td>0.53</td>\n",
       "      <td>0.00</td>\n",
       "      <td>0.08</td>\n",
       "      <td>NaN</td>\n",
       "      <td>NaN</td>\n",
       "      <td>NaN</td>\n",
       "    </tr>\n",
       "    <tr>\n",
       "      <th>12054</th>\n",
       "      <td>NaN</td>\n",
       "      <td>GEN</td>\n",
       "      <td>1993.0</td>\n",
       "      <td>NaN</td>\n",
       "      <td>0.00</td>\n",
       "      <td>0.00</td>\n",
       "      <td>0.03</td>\n",
       "      <td>0.00</td>\n",
       "      <td>NaN</td>\n",
       "      <td>NaN</td>\n",
       "      <td>NaN</td>\n",
       "    </tr>\n",
       "  </tbody>\n",
       "</table>\n",
       "</div>"
      ],
      "text/plain": [
       "      name platform  year_of_release genre  na_sales  eu_sales  jp_sales  \\\n",
       "648    NaN      GEN           1993.0   NaN      1.78      0.53      0.00   \n",
       "12054  NaN      GEN           1993.0   NaN      0.00      0.00      0.03   \n",
       "\n",
       "       other_sales  critic_score  user_score rating  \n",
       "648           0.08           NaN         NaN    NaN  \n",
       "12054         0.00           NaN         NaN    NaN  "
      ]
     },
     "execution_count": 18,
     "metadata": {},
     "output_type": "execute_result"
    }
   ],
   "source": [
    "games.loc[(games['name'].isna())&(games['genre'].isna())]"
   ]
  },
  {
   "cell_type": "markdown",
   "metadata": {},
   "source": [
    "<div class=\"alert alert-info\">\n",
    "Думаю, эти две строчки без названия тоже можно удалять\n",
    "</div>"
   ]
  },
  {
   "cell_type": "code",
   "execution_count": 19,
   "metadata": {},
   "outputs": [
    {
     "data": {
      "text/html": [
       "<div>\n",
       "<style scoped>\n",
       "    .dataframe tbody tr th:only-of-type {\n",
       "        vertical-align: middle;\n",
       "    }\n",
       "\n",
       "    .dataframe tbody tr th {\n",
       "        vertical-align: top;\n",
       "    }\n",
       "\n",
       "    .dataframe thead th {\n",
       "        text-align: right;\n",
       "    }\n",
       "</style>\n",
       "<table border=\"1\" class=\"dataframe\">\n",
       "  <thead>\n",
       "    <tr style=\"text-align: right;\">\n",
       "      <th></th>\n",
       "      <th>name</th>\n",
       "      <th>platform</th>\n",
       "      <th>year_of_release</th>\n",
       "      <th>genre</th>\n",
       "      <th>na_sales</th>\n",
       "      <th>eu_sales</th>\n",
       "      <th>jp_sales</th>\n",
       "      <th>other_sales</th>\n",
       "      <th>critic_score</th>\n",
       "      <th>user_score</th>\n",
       "      <th>rating</th>\n",
       "    </tr>\n",
       "  </thead>\n",
       "  <tbody>\n",
       "    <tr>\n",
       "      <th>0</th>\n",
       "      <td>Wii Sports</td>\n",
       "      <td>Wii</td>\n",
       "      <td>2006.0</td>\n",
       "      <td>Sports</td>\n",
       "      <td>41.36</td>\n",
       "      <td>28.96</td>\n",
       "      <td>3.77</td>\n",
       "      <td>8.45</td>\n",
       "      <td>76.0</td>\n",
       "      <td>8.0</td>\n",
       "      <td>E</td>\n",
       "    </tr>\n",
       "    <tr>\n",
       "      <th>1</th>\n",
       "      <td>Super Mario Bros.</td>\n",
       "      <td>NES</td>\n",
       "      <td>1985.0</td>\n",
       "      <td>Platform</td>\n",
       "      <td>29.08</td>\n",
       "      <td>3.58</td>\n",
       "      <td>6.81</td>\n",
       "      <td>0.77</td>\n",
       "      <td>NaN</td>\n",
       "      <td>NaN</td>\n",
       "      <td>NaN</td>\n",
       "    </tr>\n",
       "    <tr>\n",
       "      <th>2</th>\n",
       "      <td>Mario Kart Wii</td>\n",
       "      <td>Wii</td>\n",
       "      <td>2008.0</td>\n",
       "      <td>Racing</td>\n",
       "      <td>15.68</td>\n",
       "      <td>12.76</td>\n",
       "      <td>3.79</td>\n",
       "      <td>3.29</td>\n",
       "      <td>82.0</td>\n",
       "      <td>8.3</td>\n",
       "      <td>E</td>\n",
       "    </tr>\n",
       "    <tr>\n",
       "      <th>3</th>\n",
       "      <td>Wii Sports Resort</td>\n",
       "      <td>Wii</td>\n",
       "      <td>2009.0</td>\n",
       "      <td>Sports</td>\n",
       "      <td>15.61</td>\n",
       "      <td>10.93</td>\n",
       "      <td>3.28</td>\n",
       "      <td>2.95</td>\n",
       "      <td>80.0</td>\n",
       "      <td>8.0</td>\n",
       "      <td>E</td>\n",
       "    </tr>\n",
       "    <tr>\n",
       "      <th>4</th>\n",
       "      <td>Pokemon Red/Pokemon Blue</td>\n",
       "      <td>GB</td>\n",
       "      <td>1996.0</td>\n",
       "      <td>Role-Playing</td>\n",
       "      <td>11.27</td>\n",
       "      <td>8.89</td>\n",
       "      <td>10.22</td>\n",
       "      <td>1.00</td>\n",
       "      <td>NaN</td>\n",
       "      <td>NaN</td>\n",
       "      <td>NaN</td>\n",
       "    </tr>\n",
       "  </tbody>\n",
       "</table>\n",
       "</div>"
      ],
      "text/plain": [
       "                       name platform  year_of_release         genre  na_sales  \\\n",
       "0                Wii Sports      Wii           2006.0        Sports     41.36   \n",
       "1         Super Mario Bros.      NES           1985.0      Platform     29.08   \n",
       "2            Mario Kart Wii      Wii           2008.0        Racing     15.68   \n",
       "3         Wii Sports Resort      Wii           2009.0        Sports     15.61   \n",
       "4  Pokemon Red/Pokemon Blue       GB           1996.0  Role-Playing     11.27   \n",
       "\n",
       "   eu_sales  jp_sales  other_sales  critic_score  user_score rating  \n",
       "0     28.96      3.77         8.45          76.0         8.0      E  \n",
       "1      3.58      6.81         0.77           NaN         NaN    NaN  \n",
       "2     12.76      3.79         3.29          82.0         8.3      E  \n",
       "3     10.93      3.28         2.95          80.0         8.0      E  \n",
       "4      8.89     10.22         1.00           NaN         NaN    NaN  "
      ]
     },
     "execution_count": 19,
     "metadata": {},
     "output_type": "execute_result"
    }
   ],
   "source": [
    "games.dropna(subset = ['name']).reset_index(drop=True)\n",
    "games.head()"
   ]
  },
  {
   "cell_type": "code",
   "execution_count": 20,
   "metadata": {},
   "outputs": [
    {
     "name": "stdout",
     "output_type": "stream",
     "text": [
      "critic_score 7143\n",
      "user_score 6607\n",
      "rating 6628\n"
     ]
    }
   ],
   "source": [
    "print ('critic_score', games['critic_score'].isna().sum())\n",
    "print ('user_score', games['user_score'].isna().sum())\n",
    "print ('rating', games['rating'].isna().sum())"
   ]
  },
  {
   "cell_type": "markdown",
   "metadata": {},
   "source": [
    "<div class=\"alert alert-info\">\n",
    "Остались пропуски в столбцах с рейтингами, но их удалять не будем. Возможно, данные рейтинги не использовались для некоторых локальных рынков, под которые создавалась игра.\n",
    "</div>"
   ]
  },
  {
   "cell_type": "markdown",
   "metadata": {},
   "source": [
    "<div class=\"alert alert-info\">\n",
    "Посчитаем суммарные продажи во всех регионах и запишем их в отдельный столбец. Вставим его после продаж, но до рейтингов\n",
    "</div>"
   ]
  },
  {
   "cell_type": "code",
   "execution_count": 21,
   "metadata": {},
   "outputs": [
    {
     "data": {
      "text/html": [
       "<div>\n",
       "<style scoped>\n",
       "    .dataframe tbody tr th:only-of-type {\n",
       "        vertical-align: middle;\n",
       "    }\n",
       "\n",
       "    .dataframe tbody tr th {\n",
       "        vertical-align: top;\n",
       "    }\n",
       "\n",
       "    .dataframe thead th {\n",
       "        text-align: right;\n",
       "    }\n",
       "</style>\n",
       "<table border=\"1\" class=\"dataframe\">\n",
       "  <thead>\n",
       "    <tr style=\"text-align: right;\">\n",
       "      <th></th>\n",
       "      <th>name</th>\n",
       "      <th>platform</th>\n",
       "      <th>year_of_release</th>\n",
       "      <th>genre</th>\n",
       "      <th>na_sales</th>\n",
       "      <th>eu_sales</th>\n",
       "      <th>jp_sales</th>\n",
       "      <th>other_sales</th>\n",
       "      <th>general_sales</th>\n",
       "      <th>critic_score</th>\n",
       "      <th>user_score</th>\n",
       "      <th>rating</th>\n",
       "    </tr>\n",
       "  </thead>\n",
       "  <tbody>\n",
       "    <tr>\n",
       "      <th>0</th>\n",
       "      <td>Wii Sports</td>\n",
       "      <td>Wii</td>\n",
       "      <td>2006.0</td>\n",
       "      <td>Sports</td>\n",
       "      <td>41.36</td>\n",
       "      <td>28.96</td>\n",
       "      <td>3.77</td>\n",
       "      <td>8.45</td>\n",
       "      <td>82.54</td>\n",
       "      <td>76.0</td>\n",
       "      <td>8.0</td>\n",
       "      <td>E</td>\n",
       "    </tr>\n",
       "    <tr>\n",
       "      <th>1</th>\n",
       "      <td>Super Mario Bros.</td>\n",
       "      <td>NES</td>\n",
       "      <td>1985.0</td>\n",
       "      <td>Platform</td>\n",
       "      <td>29.08</td>\n",
       "      <td>3.58</td>\n",
       "      <td>6.81</td>\n",
       "      <td>0.77</td>\n",
       "      <td>40.24</td>\n",
       "      <td>NaN</td>\n",
       "      <td>NaN</td>\n",
       "      <td>NaN</td>\n",
       "    </tr>\n",
       "    <tr>\n",
       "      <th>2</th>\n",
       "      <td>Mario Kart Wii</td>\n",
       "      <td>Wii</td>\n",
       "      <td>2008.0</td>\n",
       "      <td>Racing</td>\n",
       "      <td>15.68</td>\n",
       "      <td>12.76</td>\n",
       "      <td>3.79</td>\n",
       "      <td>3.29</td>\n",
       "      <td>35.52</td>\n",
       "      <td>82.0</td>\n",
       "      <td>8.3</td>\n",
       "      <td>E</td>\n",
       "    </tr>\n",
       "    <tr>\n",
       "      <th>3</th>\n",
       "      <td>Wii Sports Resort</td>\n",
       "      <td>Wii</td>\n",
       "      <td>2009.0</td>\n",
       "      <td>Sports</td>\n",
       "      <td>15.61</td>\n",
       "      <td>10.93</td>\n",
       "      <td>3.28</td>\n",
       "      <td>2.95</td>\n",
       "      <td>32.77</td>\n",
       "      <td>80.0</td>\n",
       "      <td>8.0</td>\n",
       "      <td>E</td>\n",
       "    </tr>\n",
       "    <tr>\n",
       "      <th>4</th>\n",
       "      <td>Pokemon Red/Pokemon Blue</td>\n",
       "      <td>GB</td>\n",
       "      <td>1996.0</td>\n",
       "      <td>Role-Playing</td>\n",
       "      <td>11.27</td>\n",
       "      <td>8.89</td>\n",
       "      <td>10.22</td>\n",
       "      <td>1.00</td>\n",
       "      <td>31.38</td>\n",
       "      <td>NaN</td>\n",
       "      <td>NaN</td>\n",
       "      <td>NaN</td>\n",
       "    </tr>\n",
       "  </tbody>\n",
       "</table>\n",
       "</div>"
      ],
      "text/plain": [
       "                       name platform  year_of_release         genre  na_sales  \\\n",
       "0                Wii Sports      Wii           2006.0        Sports     41.36   \n",
       "1         Super Mario Bros.      NES           1985.0      Platform     29.08   \n",
       "2            Mario Kart Wii      Wii           2008.0        Racing     15.68   \n",
       "3         Wii Sports Resort      Wii           2009.0        Sports     15.61   \n",
       "4  Pokemon Red/Pokemon Blue       GB           1996.0  Role-Playing     11.27   \n",
       "\n",
       "   eu_sales  jp_sales  other_sales  general_sales  critic_score  user_score  \\\n",
       "0     28.96      3.77         8.45          82.54          76.0         8.0   \n",
       "1      3.58      6.81         0.77          40.24           NaN         NaN   \n",
       "2     12.76      3.79         3.29          35.52          82.0         8.3   \n",
       "3     10.93      3.28         2.95          32.77          80.0         8.0   \n",
       "4      8.89     10.22         1.00          31.38           NaN         NaN   \n",
       "\n",
       "  rating  \n",
       "0      E  \n",
       "1    NaN  \n",
       "2      E  \n",
       "3      E  \n",
       "4    NaN  "
      ]
     },
     "execution_count": 21,
     "metadata": {},
     "output_type": "execute_result"
    }
   ],
   "source": [
    "games.insert(8, 'general_sales', (games['na_sales'] + games['eu_sales'] + games['jp_sales'] + games['other_sales']))\n",
    "games.head()"
   ]
  },
  {
   "cell_type": "markdown",
   "metadata": {},
   "source": [
    "<div class=\"alert alert-info\">\n",
    "Шаг 3. Проведём исследовательский анализ данных.\n",
    "<br>\n",
    "Посмотрим, сколько игр выпускалось в разные годы. Построим гистограмму.\n",
    "</div>"
   ]
  },
  {
   "cell_type": "code",
   "execution_count": 22,
   "metadata": {},
   "outputs": [
    {
     "data": {
      "text/plain": [
       "count    14070.000000\n",
       "mean      2006.321535\n",
       "std          6.175711\n",
       "min       1980.000000\n",
       "25%       2003.000000\n",
       "50%       2007.000000\n",
       "75%       2011.000000\n",
       "max       2016.000000\n",
       "Name: year_of_release, dtype: float64"
      ]
     },
     "execution_count": 22,
     "metadata": {},
     "output_type": "execute_result"
    }
   ],
   "source": [
    "games['year_of_release'] = games['year_of_release'].astype(int)\n",
    "games['year_of_release'].describe()"
   ]
  },
  {
   "cell_type": "code",
   "execution_count": 23,
   "metadata": {},
   "outputs": [
    {
     "data": {
      "image/png": "[encoded data removed]",
      "text/plain": [
       "<Figure size 1080x360 with 1 Axes>"
      ]
     },
     "metadata": {
      "needs_background": "light"
     },
     "output_type": "display_data"
    }
   ],
   "source": [
    "games['year_of_release'].hist(bins = 36, figsize = (15,5))\n",
    "plt.show()"
   ]
  },
  {
   "cell_type": "markdown",
   "metadata": {},
   "source": [
    "<div class=\"alert alert-info\">\n",
    "Чтобы планировать дальнейшие действия, возможно, нужно брать данные за последние 15 лет, но посмотрим далее\n",
    "</div>"
   ]
  },
  {
   "cell_type": "markdown",
   "metadata": {},
   "source": [
    "<div class=\"alert alert-info\">\n",
    "Пик в 10-ых годах в связи с распространением платформ, а спад в связи с появлением мобильных платформ"
   ]
  },
  {
   "cell_type": "markdown",
   "metadata": {},
   "source": [
    "<div class=\"alert alert-info\">\n",
    "Посмотрим, как менялись продажи по платформам. Выберем платформы с наибольшими суммарными продажами и построим распределение по годам.\n",
    "</div>"
   ]
  },
  {
   "cell_type": "code",
   "execution_count": 24,
   "metadata": {},
   "outputs": [
    {
     "data": {
      "text/plain": [
       "platform\n",
       "PS2     1171.19\n",
       "X360     948.74\n",
       "PS3      921.09\n",
       "Wii      791.91\n",
       "PS       714.26\n",
       "DS       655.36\n",
       "PS4      314.00\n",
       "PSP      273.11\n",
       "GBA      263.70\n",
       "GB       254.43\n",
       "Name: general_sales, dtype: float64"
      ]
     },
     "execution_count": 24,
     "metadata": {},
     "output_type": "execute_result"
    }
   ],
   "source": [
    "top_platforms = (\n",
    "    games.groupby('platform')['general_sales'].sum()\n",
    "    .sort_values(ascending=False).head(10))\n",
    "top_platforms"
   ]
  },
  {
   "cell_type": "code",
   "execution_count": 25,
   "metadata": {},
   "outputs": [
    {
     "data": {
      "image/png": "[encoded data removed]",
      "text/plain": [
       "<Figure size 720x216 with 1 Axes>"
      ]
     },
     "metadata": {
      "needs_background": "light"
     },
     "output_type": "display_data"
    },
    {
     "data": {
      "image/png": "[encoded data removed]",
      "text/plain": [
       "<Figure size 720x216 with 1 Axes>"
      ]
     },
     "metadata": {
      "needs_background": "light"
     },
     "output_type": "display_data"
    },
    {
     "data": {
      "image/png": "[encoded data removed]",
      "text/plain": [
       "<Figure size 720x216 with 1 Axes>"
      ]
     },
     "metadata": {
      "needs_background": "light"
     },
     "output_type": "display_data"
    },
    {
     "data": {
      "image/png": "[encoded data removed]",
      "text/plain": [
       "<Figure size 720x216 with 1 Axes>"
      ]
     },
     "metadata": {
      "needs_background": "light"
     },
     "output_type": "display_data"
    },
    {
     "data": {
      "image/png": "[encoded data removed]",
      "text/plain": [
       "<Figure size 720x216 with 1 Axes>"
      ]
     },
     "metadata": {
      "needs_background": "light"
     },
     "output_type": "display_data"
    },
    {
     "data": {
      "image/png": "[encoded data removed]",
      "text/plain": [
       "<Figure size 720x216 with 1 Axes>"
      ]
     },
     "metadata": {
      "needs_background": "light"
     },
     "output_type": "display_data"
    },
    {
     "data": {
      "image/png": "[encoded data removed]",
      "text/plain": [
       "<Figure size 720x216 with 1 Axes>"
      ]
     },
     "metadata": {
      "needs_background": "light"
     },
     "output_type": "display_data"
    },
    {
     "data": {
      "image/png": "[encoded data removed]",
      "text/plain": [
       "<Figure size 720x216 with 1 Axes>"
      ]
     },
     "metadata": {
      "needs_background": "light"
     },
     "output_type": "display_data"
    },
    {
     "data": {
      "image/png": "[encoded data removed]",
      "text/plain": [
       "<Figure size 720x216 with 1 Axes>"
      ]
     },
     "metadata": {
      "needs_background": "light"
     },
     "output_type": "display_data"
    },
    {
     "data": {
      "image/png": "[encoded data removed]",
      "text/plain": [
       "<Figure size 720x216 with 1 Axes>"
      ]
     },
     "metadata": {
      "needs_background": "light"
     },
     "output_type": "display_data"
    }
   ],
   "source": [
    "(games[games['platform'] == 'PS2']\n",
    "      .groupby('year_of_release')['general_sales'].sum()\n",
    "      .plot(kind='bar', x='year_of_release', y='general_sales', title='PS2', figsize=(10,3)))\n",
    "plt.show()\n",
    "(games[games['platform'] == 'X360']\n",
    "      .groupby('year_of_release')['general_sales'].sum()\n",
    "      .plot(kind='bar', x='year_of_release', y='general_sales', title='X360',figsize=(10,3)))\n",
    "plt.show()\n",
    "(games[games['platform'] == 'PS3']\n",
    "      .groupby('year_of_release')['general_sales'].sum()\n",
    "      .plot(kind='bar', x='year_of_release', y='general_sales', title='PS3',figsize=(10,3)))\n",
    "plt.show()\n",
    "(games[games['platform'] == 'Wii']\n",
    "      .groupby('year_of_release')['general_sales'].sum()\n",
    "      .plot(kind='bar', x='year_of_release', y='general_sales', title='Wii',figsize=(10,3)))\n",
    "plt.show()\n",
    "(games[games['platform'] == 'PS']\n",
    "      .groupby('year_of_release')['general_sales'].sum()\n",
    "      .plot(kind='bar', x='year_of_release', y='general_sales', title='PS',figsize=(10,3)))\n",
    "plt.show()\n",
    "(games[games['platform'] == 'DS']\n",
    "      .groupby('year_of_release')['general_sales'].sum()\n",
    "      .plot(kind='bar', x='year_of_release', y='general_sales', title='DS',figsize=(10,3)))\n",
    "plt.show()\n",
    "(games[games['platform'] == 'PS4']\n",
    "      .groupby('year_of_release')['general_sales'].sum()\n",
    "      .plot(kind='bar', x='year_of_release', y='general_sales', title='PS4',figsize=(10,3)))\n",
    "plt.show()\n",
    "(games[games['platform'] == 'PSP']\n",
    "      .groupby('year_of_release')['general_sales'].sum()\n",
    "      .plot(kind='bar', x='year_of_release', y='general_sales', title='PSP',figsize=(10,3)))\n",
    "plt.show()\n",
    "(games[games['platform'] == 'GBA']\n",
    "      .groupby('year_of_release')['general_sales'].sum()\n",
    "      .plot(kind='bar', x='year_of_release', y='general_sales', title='GBA',figsize=(10,3)))\n",
    "plt.show()\n",
    "(games[games['platform'] == 'GB']\n",
    "      .groupby('year_of_release')['general_sales'].sum()\n",
    "      .plot(kind='bar', x='year_of_release', y='general_sales', title='GB',figsize=(10,3)))\n",
    "plt.show()"
   ]
  },
  {
   "cell_type": "code",
   "execution_count": 26,
   "metadata": {},
   "outputs": [],
   "source": [
    "top_platforms_i = top_platforms.index"
   ]
  },
  {
   "cell_type": "code",
   "execution_count": 27,
   "metadata": {},
   "outputs": [
    {
     "data": {
      "image/png": "[encoded data removed]",
      "text/plain": [
       "<Figure size 1080x360 with 1 Axes>"
      ]
     },
     "metadata": {
      "needs_background": "light"
     },
     "output_type": "display_data"
    }
   ],
   "source": [
    "for i in top_platforms_i:\n",
    "    (games[games['platform'] == i]\n",
    "      .groupby('year_of_release')['general_sales'].sum()\n",
    "      .plot(figsize=(15,5)))\n",
    "plt.show()"
   ]
  },
  {
   "cell_type": "markdown",
   "metadata": {},
   "source": [
    "<div class=\"alert alert-info\">\n",
    "Видно, что от появления до исчезновения проходит в среднем 10 лет, а от взлёта до падения проходит примерно 5 лет. За какой характерный срок появляются новые и исчезают старые платформы? 10 лет.\n",
    "    <br>\n",
    "За примерно 5 лет платформа достигает своего пика продаж. За 5-7 лет ее продажи падают почти до нуля. \n",
    "</div>"
   ]
  },
  {
   "cell_type": "code",
   "execution_count": 28,
   "metadata": {},
   "outputs": [],
   "source": [
    "top_games = games.query('year_of_release >=2014')"
   ]
  },
  {
   "cell_type": "code",
   "execution_count": 29,
   "metadata": {},
   "outputs": [
    {
     "data": {
      "image/png": "[encoded data removed]",
      "text/plain": [
       "<Figure size 1080x360 with 1 Axes>"
      ]
     },
     "metadata": {
      "needs_background": "light"
     },
     "output_type": "display_data"
    }
   ],
   "source": [
    "t_pl = top_games.pivot_table(index='year_of_release', columns='platform', values='general_sales', aggfunc = 'sum')\n",
    "t_pl.plot(figsize=(15,5), xticks = [2014,2015,2016])\n",
    "plt.show()"
   ]
  },
  {
   "cell_type": "markdown",
   "metadata": {},
   "source": [
    "<div class=\"alert alert-info\"> \n",
    "Возьмём данные за соответствующий актуальный период - 3 года. Так как нам надо спрогнозировать данные на 2017 год, возьмем данные за 2014-2016 годы.\n",
    "<br>\n",
    "В 2016 году у всех платформ спад по продажам. Но наиболее прибыльными были за 2014-2016 PS4, 3DS, XOne.\n",
    "</div>"
   ]
  },
  {
   "cell_type": "markdown",
   "metadata": {},
   "source": [
    "<div class=\"alert alert-info\">\n",
    "- Какие платформы лидируют по продажам, растут или падают? Выберите несколько потенциально прибыльных платформ.\n",
    "    <br>\n",
    "Выберем пять - PS4, 3DS, XOne, PS3 и WiiU."
   ]
  },
  {
   "cell_type": "code",
   "execution_count": 30,
   "metadata": {},
   "outputs": [],
   "source": [
    "platform_past3 = ['PS4', '3DS', 'XOne', 'PS3', 'WiiU']"
   ]
  },
  {
   "cell_type": "markdown",
   "metadata": {},
   "source": [
    "<div class=\"alert alert-info\">Построим график «ящик с усами» по глобальным продажам игр в разбивке по платформам.\n",
    "</div>"
   ]
  },
  {
   "cell_type": "code",
   "execution_count": 31,
   "metadata": {},
   "outputs": [],
   "source": [
    "top_games = games.query('(platform in @platform_past3) and (year_of_release >=2014)')"
   ]
  },
  {
   "cell_type": "code",
   "execution_count": 32,
   "metadata": {},
   "outputs": [
    {
     "data": {
      "image/png": "[encoded data removed]",
      "text/plain": [
       "<Figure size 432x288 with 1 Axes>"
      ]
     },
     "metadata": {
      "needs_background": "light"
     },
     "output_type": "display_data"
    }
   ],
   "source": [
    "top_games.boxplot(column = 'general_sales', by='platform').set(ylim=(0,2))\n",
    "plt.show()"
   ]
  },
  {
   "cell_type": "markdown",
   "metadata": {},
   "source": [
    "<div class=\"alert alert-info\">\n",
    "Видно, что самые большие продажи приносили PS4 и WiiU и XOne. У этих платформ медианы на уровне плюс-минус 0.25 млн копий, и усы достигают самых больших значений.\n",
    "</div>"
   ]
  },
  {
   "cell_type": "markdown",
   "metadata": {},
   "source": [
    "<div class=\"alert alert-info\">\n",
    "Посмотрим, как влияют на продажи внутри одной популярной платформы (например, XOne) отзывы пользователей и критиков. Построим диаграмму рассеяния и посчитаем корреляцию между отзывами и продажами.\n",
    "</div>"
   ]
  },
  {
   "cell_type": "code",
   "execution_count": 33,
   "metadata": {},
   "outputs": [
    {
     "data": {
      "image/png": "[encoded data removed]",
      "text/plain": [
       "<Figure size 1080x360 with 1 Axes>"
      ]
     },
     "metadata": {
      "needs_background": "light"
     },
     "output_type": "display_data"
    },
    {
     "data": {
      "image/png": "[encoded data removed]",
      "text/plain": [
       "<Figure size 1080x360 with 1 Axes>"
      ]
     },
     "metadata": {
      "needs_background": "light"
     },
     "output_type": "display_data"
    }
   ],
   "source": [
    "(top_games[top_games['platform']=='XOne']\n",
    " .plot(x='critic_score', y='general_sales', kind='scatter',figsize=(15,5)) ) #alpha=0.5\n",
    "(top_games[top_games['platform']=='XOne']\n",
    " .plot(x='user_score', y='general_sales', kind='scatter',figsize=(15,5)) ) \n",
    "plt.show()"
   ]
  },
  {
   "cell_type": "code",
   "execution_count": 34,
   "metadata": {},
   "outputs": [
    {
     "data": {
      "text/plain": [
       "0.42410142946275287"
      ]
     },
     "execution_count": 34,
     "metadata": {},
     "output_type": "execute_result"
    }
   ],
   "source": [
    "top_games[top_games['platform'] == 'XOne']['critic_score'].corr(top_games['general_sales'])"
   ]
  },
  {
   "cell_type": "code",
   "execution_count": 35,
   "metadata": {},
   "outputs": [
    {
     "data": {
      "text/plain": [
       "-0.0703839280647581"
      ]
     },
     "execution_count": 35,
     "metadata": {},
     "output_type": "execute_result"
    }
   ],
   "source": [
    "top_games[top_games['platform'] == 'XOne']['user_score'].corr(top_games['general_sales'])"
   ]
  },
  {
   "cell_type": "markdown",
   "metadata": {},
   "source": [
    "<div class=\"alert alert-info\">\n",
    "В первом случае корреляция прослеживается, отзывы критиков влияют на продажи, хоть и не очень сильно.\n",
    "Отзывы клиентов нет, корреляция близка к нулю.\n",
    "    <br>\n",
    "Посмотрим на другие платформы\n",
    "        <br>\n",
    "    Начнем с отзывов критиков\n",
    "</div>"
   ]
  },
  {
   "cell_type": "code",
   "execution_count": 36,
   "metadata": {},
   "outputs": [
    {
     "data": {
      "image/png": "[encoded data removed]",
      "text/plain": [
       "<Figure size 1080x360 with 1 Axes>"
      ]
     },
     "metadata": {
      "needs_background": "light"
     },
     "output_type": "display_data"
    },
    {
     "data": {
      "image/png": "[encoded data removed]",
      "text/plain": [
       "<Figure size 1080x360 with 1 Axes>"
      ]
     },
     "metadata": {
      "needs_background": "light"
     },
     "output_type": "display_data"
    },
    {
     "data": {
      "image/png": "[encoded data removed]",
      "text/plain": [
       "<Figure size 1080x360 with 1 Axes>"
      ]
     },
     "metadata": {
      "needs_background": "light"
     },
     "output_type": "display_data"
    },
    {
     "data": {
      "image/png": "[encoded data removed]",
      "text/plain": [
       "<Figure size 1080x360 with 1 Axes>"
      ]
     },
     "metadata": {
      "needs_background": "light"
     },
     "output_type": "display_data"
    },
    {
     "data": {
      "image/png": "[encoded data removed]",
      "text/plain": [
       "<Figure size 1080x360 with 1 Axes>"
      ]
     },
     "metadata": {
      "needs_background": "light"
     },
     "output_type": "display_data"
    }
   ],
   "source": [
    "for i in platform_past3:\n",
    "    (top_games[top_games['platform']==i]\n",
    "     .plot(x='critic_score', y='general_sales', kind='scatter',title = i, figsize=(15,5)))"
   ]
  },
  {
   "cell_type": "code",
   "execution_count": 37,
   "metadata": {},
   "outputs": [
    {
     "name": "stdout",
     "output_type": "stream",
     "text": [
      "PS4 0.40249779652369827\n",
      "3DS 0.28468579095782925\n",
      "XOne 0.42410142946275287\n",
      "PS3 0.44657460493190704\n",
      "WiiU 0.3756402218389979\n"
     ]
    }
   ],
   "source": [
    "for i in platform_past3:\n",
    "    cor=top_games[top_games['platform'] == i]['critic_score'].corr(top_games['general_sales'])\n",
    "    print (i, cor)"
   ]
  },
  {
   "cell_type": "markdown",
   "metadata": {},
   "source": [
    "<div class=\"alert alert-info\">\n",
    "Самая сильная корреляция у PS3, но и она слабая, отзывы критиков влияют на продажи, но не очень сильно. У PS4, XOne, PS3, WiiU корреляция чуть меньше \n",
    "    <br>\n",
    "Посмотрим на отзывы пользователей\n",
    "</div>"
   ]
  },
  {
   "cell_type": "code",
   "execution_count": 38,
   "metadata": {},
   "outputs": [
    {
     "data": {
      "image/png": "[encoded data removed]",
      "text/plain": [
       "<Figure size 1080x360 with 1 Axes>"
      ]
     },
     "metadata": {
      "needs_background": "light"
     },
     "output_type": "display_data"
    },
    {
     "data": {
      "image/png": "[encoded data removed]",
      "text/plain": [
       "<Figure size 1080x360 with 1 Axes>"
      ]
     },
     "metadata": {
      "needs_background": "light"
     },
     "output_type": "display_data"
    },
    {
     "data": {
      "image/png": "[encoded data removed]",
      "text/plain": [
       "<Figure size 1080x360 with 1 Axes>"
      ]
     },
     "metadata": {
      "needs_background": "light"
     },
     "output_type": "display_data"
    },
    {
     "data": {
      "image/png": "[encoded data removed]",
      "text/plain": [
       "<Figure size 1080x360 with 1 Axes>"
      ]
     },
     "metadata": {
      "needs_background": "light"
     },
     "output_type": "display_data"
    },
    {
     "data": {
      "image/png": "[encoded data removed]",
      "text/plain": [
       "<Figure size 1080x360 with 1 Axes>"
      ]
     },
     "metadata": {
      "needs_background": "light"
     },
     "output_type": "display_data"
    }
   ],
   "source": [
    "for i in platform_past3:\n",
    "    (top_games[top_games['platform']==i]\n",
    "     .plot(x='user_score', y='general_sales', kind='scatter',title = i, figsize=(15,5)))"
   ]
  },
  {
   "cell_type": "code",
   "execution_count": 39,
   "metadata": {},
   "outputs": [
    {
     "name": "stdout",
     "output_type": "stream",
     "text": [
      "PS4 -0.040131589472697356\n",
      "3DS 0.2151932718527028\n",
      "XOne -0.0703839280647581\n",
      "PS3 -0.16676141347662118\n",
      "WiiU 0.40792645792170773\n"
     ]
    }
   ],
   "source": [
    "for i in platform_past3:\n",
    "    cor=top_games[top_games['platform'] == i]['user_score'].corr(top_games['general_sales'])\n",
    "    print (i, cor)"
   ]
  },
  {
   "cell_type": "markdown",
   "metadata": {},
   "source": [
    "<div class=\"alert alert-info\">\n",
    "Здесь наиболее заметная корреляция только у WiiU, у остальных платформ сильной или хотя бы чуть значимой корреляции нет. \n",
    "</div>"
   ]
  },
  {
   "cell_type": "markdown",
   "metadata": {},
   "source": [
    "<div class=\"alert alert-info\">\n",
    "Посмотрим на общее распределение игр по жанрам.\n",
    "</div>"
   ]
  },
  {
   "cell_type": "code",
   "execution_count": 40,
   "metadata": {},
   "outputs": [
    {
     "data": {
      "image/png": "[encoded data removed]",
      "text/plain": [
       "<Figure size 1080x360 with 1 Axes>"
      ]
     },
     "metadata": {
      "needs_background": "light"
     },
     "output_type": "display_data"
    }
   ],
   "source": [
    "top_games['genre'].hist(figsize=(15,5), bins=12)\n",
    "plt.show()"
   ]
  },
  {
   "cell_type": "markdown",
   "metadata": {},
   "source": [
    "<div class=\"alert alert-info\">\n",
    "Самый популярный жанр с большим отрывом - Action, далее идут Role-Playing, Sports и Adventure, самые непопулярные - Puzzle и Strategy.\n",
    "    <br>\n",
    "Выделим 5 самых прибыльных жанров\n",
    "</div>"
   ]
  },
  {
   "cell_type": "code",
   "execution_count": 41,
   "metadata": {},
   "outputs": [
    {
     "data": {
      "text/plain": [
       "genre\n",
       "Shooter         0.760\n",
       "Sports          0.370\n",
       "Platform        0.230\n",
       "Racing          0.170\n",
       "Role-Playing    0.165\n",
       "Simulation      0.160\n",
       "Fighting        0.155\n",
       "Misc            0.140\n",
       "Action          0.130\n",
       "Adventure       0.060\n",
       "Puzzle          0.060\n",
       "Strategy        0.060\n",
       "Name: general_sales, dtype: float64"
      ]
     },
     "execution_count": 41,
     "metadata": {},
     "output_type": "execute_result"
    }
   ],
   "source": [
    "top_genres = (\n",
    "    top_games.groupby('genre')['general_sales'].median()\n",
    "    .sort_values(ascending=False))\n",
    "top_genres"
   ]
  },
  {
   "cell_type": "markdown",
   "metadata": {},
   "source": [
    "<div class=\"alert alert-info\">\n",
    "Интересно, что Action только на 9 месте по прибыльности, хотя в отрыве от всех по количеству, то есть получается, выпускают их больше, чем спрос на них\n",
    "    <br>\n",
    "Самые неприбыльные - Puzzle и Strategy и в количестве сильно отстают\n",
    "        <br>\n",
    "Самый прибыльный жанр - Shooter, он в средних по количеству\n",
    "    <br>\n",
    "А жанр Platform, наоборот, выпускают мало, но по прибыльности он на 3 месте\n",
    "</div>"
   ]
  },
  {
   "cell_type": "markdown",
   "metadata": {},
   "source": [
    "<div class=\"alert alert-info\">\n",
    "Шаг 4. Составьте портрет пользователя каждого региона Определите для пользователя каждого региона (NA, EU, JP): Самые популярные платформы (топ-5). Опишите различия в долях продаж. \n",
    "</div>"
   ]
  },
  {
   "cell_type": "code",
   "execution_count": 42,
   "metadata": {},
   "outputs": [],
   "source": [
    "games_past3 = games.query('year_of_release >=2014')"
   ]
  },
  {
   "cell_type": "code",
   "execution_count": 43,
   "metadata": {},
   "outputs": [
    {
     "data": {
      "image/png": "[encoded data removed]",
      "text/plain": [
       "<Figure size 288x288 with 1 Axes>"
      ]
     },
     "metadata": {},
     "output_type": "display_data"
    }
   ],
   "source": [
    "user_na = (\n",
    "    games_past3.groupby('platform')['na_sales'].sum()\n",
    "    .sort_values(ascending=False)).head()\n",
    "colors = ['#ff9999','#66b3ff','#99ff99','#ffcc99', '#55b777']\n",
    "user_na.plot(kind='pie', subplots=True, figsize=(4,4),colors=colors,autopct='%1.1f%%')\n",
    "\n",
    "plt.title(\"Продажи в Северной Америке\")\n",
    "plt.ylabel(\"\")\n",
    "plt.show()"
   ]
  },
  {
   "cell_type": "code",
   "execution_count": 44,
   "metadata": {},
   "outputs": [
    {
     "data": {
      "image/png": "[encoded data removed]",
      "text/plain": [
       "<Figure size 288x288 with 1 Axes>"
      ]
     },
     "metadata": {},
     "output_type": "display_data"
    }
   ],
   "source": [
    "user_eu = (\n",
    "    games_past3.groupby('platform')['eu_sales'].sum()\n",
    "    .sort_values(ascending=False)).head()\n",
    "colors = ['#ff9999','#66b3ff','#55b777','#55f111','#ffcc99']\n",
    "user_eu.plot(kind='pie', subplots=True, figsize=(4,4),colors=colors,autopct='%1.1f%%')\n",
    "\n",
    "plt.title(\"Продажи в Европе\")\n",
    "plt.ylabel(\"\")\n",
    "plt.show()"
   ]
  },
  {
   "cell_type": "code",
   "execution_count": 46,
   "metadata": {},
   "outputs": [
    {
     "data": {
      "image/png": "[encoded data removed]",
      "text/plain": [
       "<Figure size 288x288 with 1 Axes>"
      ]
     },
     "metadata": {},
     "output_type": "display_data"
    }
   ],
   "source": [
    "user_jp = (\n",
    "    games_past3.groupby('platform')['jp_sales'].sum()\n",
    "    .sort_values(ascending=False)).head()\n",
    "colors = ['#ffcc99','#ff9999','#ff90cc','#55b777', '#88cc77']\n",
    "user_jp.plot(kind='pie', subplots=True, figsize=(4,4),colors=colors,autopct='%1.1f%%')\n",
    "\n",
    "plt.title(\"Продажи в Японии\")\n",
    "plt.ylabel(\"\")\n",
    "plt.show()\n"
   ]
  },
  {
   "cell_type": "code",
   "execution_count": 46,
   "metadata": {},
   "outputs": [
    {
     "data": {
      "text/plain": [
       "[]"
      ]
     },
     "execution_count": 46,
     "metadata": {},
     "output_type": "execute_result"
    },
    {
     "data": {
      "image/png": "[encoded data removed]",
      "text/plain": [
       "<Figure size 432x288 with 2 Axes>"
      ]
     },
     "metadata": {
      "needs_background": "light"
     },
     "output_type": "display_data"
    }
   ],
   "source": [
    "fig, (user_na, user_jp) = plt.subplots(1, 2)\n",
    "fig.suptitle('Horizontally stacked subplots')\n",
    "user_na.plot(kind='pie', subplots=True, figsize=(4,4),colors=colors,autopct='%1.1f%%')\n",
    "user_jp.plot(kind='pie', subplots=True, figsize=(4,4),colors=colors,autopct='%1.1f%%')"
   ]
  },
  {
   "cell_type": "markdown",
   "metadata": {},
   "source": [
    "<div class=\"alert alert-info\">\n",
    "В Америке и Европы 70% рынка занимают PS4 и XOne, только соотношение разное, в Европе на PS4 приходится 55% продаж, в Америке эти две платформы делят продажи примерно поровну. В Японии же данные сильно отличаются, не особо популярный в Америке и Европе 3DS на первом месте, PS4 на втором, PC и X360 нет вообще.Зато есть PSV и WiiU.\n",
    "</div>"
   ]
  },
  {
   "cell_type": "markdown",
   "metadata": {},
   "source": [
    "<div class=\"alert alert-info\">\n",
    "Разберём самые популярные жанры (топ-5):\n",
    "</div>"
   ]
  },
  {
   "cell_type": "code",
   "execution_count": 47,
   "metadata": {},
   "outputs": [
    {
     "data": {
      "image/png": "[encoded data removed]",
      "text/plain": [
       "<Figure size 288x288 with 1 Axes>"
      ]
     },
     "metadata": {},
     "output_type": "display_data"
    }
   ],
   "source": [
    "user_na = (\n",
    "    games_past3.groupby('genre')['na_sales'].sum()\n",
    "    .sort_values(ascending=False)).head()\n",
    "colors = ['#ff9999','#66b3ff','#99ff99','#ffcc99', '#55b777']\n",
    "user_na.plot(kind='pie', subplots=True, figsize=(4,4),colors=colors,autopct='%1.1f%%')\n",
    "\n",
    "plt.title(\"Продажи в Северной Америке\")\n",
    "plt.ylabel(\"\")\n",
    "plt.show()"
   ]
  },
  {
   "cell_type": "code",
   "execution_count": 48,
   "metadata": {},
   "outputs": [
    {
     "data": {
      "image/png": "[encoded data removed]",
      "text/plain": [
       "<Figure size 288x288 with 1 Axes>"
      ]
     },
     "metadata": {},
     "output_type": "display_data"
    }
   ],
   "source": [
    "user_eu = (\n",
    "    games_past3.groupby('genre')['eu_sales'].sum()\n",
    "    .sort_values(ascending=False)).head()\n",
    "colors = ['#66b3ff','#ff9999','#99ff99','#ffcc99', '#11cc99']\n",
    "user_eu.plot(kind='pie', subplots=True, figsize=(4,4),colors=colors,autopct='%1.1f%%')\n",
    "\n",
    "plt.title(\"Продажи в Европе\")\n",
    "plt.ylabel(\"\")\n",
    "plt.show()"
   ]
  },
  {
   "cell_type": "code",
   "execution_count": 49,
   "metadata": {},
   "outputs": [
    {
     "data": {
      "image/png": "[encoded data removed]",
      "text/plain": [
       "<Figure size 288x288 with 1 Axes>"
      ]
     },
     "metadata": {},
     "output_type": "display_data"
    }
   ],
   "source": [
    "user_jp = (\n",
    "    games_past3.groupby('genre')['jp_sales'].sum()\n",
    "    .sort_values(ascending=False)).head()\n",
    "colors = ['#ffcc99','#66b3ff','#77fc11','#55b777', '#ff9999']\n",
    "user_jp.plot(kind='pie', subplots=True, figsize=(4,4),colors=colors,autopct='%1.1f%%')\n",
    "\n",
    "plt.title(\"Продажи в Японии\")\n",
    "plt.ylabel(\"\")\n",
    "plt.show()"
   ]
  },
  {
   "cell_type": "markdown",
   "metadata": {},
   "source": [
    "<div class=\"alert alert-info\">\n",
    "В Америке и Европе топ почти совпадает - в лидерах жанры Action, Shooter, Sports, Role-Playing. Разница только в последнем жанре - в Америке это Misc, в Европе - Racing. В Японии безоговорочно лидирует жанр Role-Playing, далее идут Action, Fighting, Misc, Shooter. Racing в японском топ5 отсутствует.\n",
    "</div>"
   ]
  },
  {
   "cell_type": "markdown",
   "metadata": {},
   "source": [
    "<div class=\"alert alert-info\">\n",
    "Посмотрим, влияет ли рейтинг ESRB на продажи в отдельном регионе. ESRB - это ассоциация, определяющая возрастной рейтинг компьютерных игр. ESRB оценивает игровой контент и присваивает ему подходящую возрастную категорию, например, «Для взрослых»(M), «Для подростков»(T), \"Для всех\"(E), \"Для всех старше 10 лет\"(E10+).\n",
    "</div>"
   ]
  },
  {
   "cell_type": "code",
   "execution_count": 60,
   "metadata": {},
   "outputs": [
    {
     "data": {
      "image/png": "[encoded data removed]",
      "text/plain": [
       "<Figure size 288x288 with 1 Axes>"
      ]
     },
     "metadata": {},
     "output_type": "display_data"
    }
   ],
   "source": [
    "rating_na = (\n",
    "    games_past3.groupby('rating')['na_sales'].count()\n",
    "    .sort_values(ascending=False)).head()\n",
    "colors = ['#55b777','#ff9999','#ffcc99','#66b3ff', '#77fc11']\n",
    "rating_na.plot(kind='pie', subplots=True, figsize=(4,4),colors=colors,autopct='%1.1f%%')\n",
    "\n",
    "plt.title(\"Продажи в Северной Америке\")\n",
    "plt.ylabel(\"\")\n",
    "plt.show()"
   ]
  },
  {
   "cell_type": "code",
   "execution_count": 59,
   "metadata": {},
   "outputs": [
    {
     "data": {
      "image/png": "[encoded data removed]",
      "text/plain": [
       "<Figure size 288x288 with 1 Axes>"
      ]
     },
     "metadata": {},
     "output_type": "display_data"
    }
   ],
   "source": [
    "rating_eu = (\n",
    "    games_past3.groupby('rating')['eu_sales'].count()\n",
    "    .sort_values(ascending=False)).head()\n",
    "colors = ['#55b777','#ff9999','#ffcc99','#66b3ff', '#77fc11']\n",
    "rating_eu.plot(kind='pie', subplots=True, figsize=(4,4),colors=colors,autopct='%1.1f%%')\n",
    "\n",
    "plt.title(\"Продажи в Европе\")\n",
    "plt.ylabel(\"\")\n",
    "plt.show()"
   ]
  },
  {
   "cell_type": "code",
   "execution_count": 57,
   "metadata": {},
   "outputs": [
    {
     "name": "stderr",
     "output_type": "stream",
     "text": [
      "/tmp/ipykernel_31/1187883914.py:1: SettingWithCopyWarning: \n",
      "A value is trying to be set on a copy of a slice from a DataFrame.\n",
      "Try using .loc[row_indexer,col_indexer] = value instead\n",
      "\n",
      "See the caveats in the documentation: https://pandas.pydata.org/pandas-docs/stable/user_guide/indexing.html#returning-a-view-versus-a-copy\n",
      "  games_past3['rating'] = games_past3['rating'].fillna(value='unknown')\n"
     ]
    },
    {
     "data": {
      "text/html": [
       "<div>\n",
       "<style scoped>\n",
       "    .dataframe tbody tr th:only-of-type {\n",
       "        vertical-align: middle;\n",
       "    }\n",
       "\n",
       "    .dataframe tbody tr th {\n",
       "        vertical-align: top;\n",
       "    }\n",
       "\n",
       "    .dataframe thead th {\n",
       "        text-align: right;\n",
       "    }\n",
       "</style>\n",
       "<table border=\"1\" class=\"dataframe\">\n",
       "  <thead>\n",
       "    <tr style=\"text-align: right;\">\n",
       "      <th></th>\n",
       "      <th>name</th>\n",
       "      <th>platform</th>\n",
       "      <th>year_of_release</th>\n",
       "      <th>genre</th>\n",
       "      <th>na_sales</th>\n",
       "      <th>eu_sales</th>\n",
       "      <th>jp_sales</th>\n",
       "      <th>other_sales</th>\n",
       "      <th>general_sales</th>\n",
       "      <th>critic_score</th>\n",
       "      <th>user_score</th>\n",
       "      <th>rating</th>\n",
       "    </tr>\n",
       "  </thead>\n",
       "  <tbody>\n",
       "    <tr>\n",
       "      <th>31</th>\n",
       "      <td>Call of Duty: Black Ops 3</td>\n",
       "      <td>PS4</td>\n",
       "      <td>2015</td>\n",
       "      <td>Shooter</td>\n",
       "      <td>6.03</td>\n",
       "      <td>5.86</td>\n",
       "      <td>0.36</td>\n",
       "      <td>2.38</td>\n",
       "      <td>14.63</td>\n",
       "      <td>NaN</td>\n",
       "      <td>NaN</td>\n",
       "      <td>unknown</td>\n",
       "    </tr>\n",
       "    <tr>\n",
       "      <th>42</th>\n",
       "      <td>Grand Theft Auto V</td>\n",
       "      <td>PS4</td>\n",
       "      <td>2014</td>\n",
       "      <td>Action</td>\n",
       "      <td>3.96</td>\n",
       "      <td>6.31</td>\n",
       "      <td>0.38</td>\n",
       "      <td>1.97</td>\n",
       "      <td>12.62</td>\n",
       "      <td>97.0</td>\n",
       "      <td>8.3</td>\n",
       "      <td>M</td>\n",
       "    </tr>\n",
       "    <tr>\n",
       "      <th>47</th>\n",
       "      <td>Pokemon Omega Ruby/Pokemon Alpha Sapphire</td>\n",
       "      <td>3DS</td>\n",
       "      <td>2014</td>\n",
       "      <td>Role-Playing</td>\n",
       "      <td>4.35</td>\n",
       "      <td>3.49</td>\n",
       "      <td>3.10</td>\n",
       "      <td>0.74</td>\n",
       "      <td>11.68</td>\n",
       "      <td>NaN</td>\n",
       "      <td>NaN</td>\n",
       "      <td>unknown</td>\n",
       "    </tr>\n",
       "    <tr>\n",
       "      <th>77</th>\n",
       "      <td>FIFA 16</td>\n",
       "      <td>PS4</td>\n",
       "      <td>2015</td>\n",
       "      <td>Sports</td>\n",
       "      <td>1.12</td>\n",
       "      <td>6.12</td>\n",
       "      <td>0.06</td>\n",
       "      <td>1.28</td>\n",
       "      <td>8.58</td>\n",
       "      <td>82.0</td>\n",
       "      <td>4.3</td>\n",
       "      <td>E</td>\n",
       "    </tr>\n",
       "    <tr>\n",
       "      <th>87</th>\n",
       "      <td>Star Wars Battlefront (2015)</td>\n",
       "      <td>PS4</td>\n",
       "      <td>2015</td>\n",
       "      <td>Shooter</td>\n",
       "      <td>2.99</td>\n",
       "      <td>3.49</td>\n",
       "      <td>0.22</td>\n",
       "      <td>1.28</td>\n",
       "      <td>7.98</td>\n",
       "      <td>NaN</td>\n",
       "      <td>NaN</td>\n",
       "      <td>unknown</td>\n",
       "    </tr>\n",
       "    <tr>\n",
       "      <th>...</th>\n",
       "      <td>...</td>\n",
       "      <td>...</td>\n",
       "      <td>...</td>\n",
       "      <td>...</td>\n",
       "      <td>...</td>\n",
       "      <td>...</td>\n",
       "      <td>...</td>\n",
       "      <td>...</td>\n",
       "      <td>...</td>\n",
       "      <td>...</td>\n",
       "      <td>...</td>\n",
       "      <td>...</td>\n",
       "    </tr>\n",
       "    <tr>\n",
       "      <th>14060</th>\n",
       "      <td>Strawberry Nauts</td>\n",
       "      <td>PSV</td>\n",
       "      <td>2016</td>\n",
       "      <td>Adventure</td>\n",
       "      <td>0.00</td>\n",
       "      <td>0.00</td>\n",
       "      <td>0.01</td>\n",
       "      <td>0.00</td>\n",
       "      <td>0.01</td>\n",
       "      <td>NaN</td>\n",
       "      <td>NaN</td>\n",
       "      <td>unknown</td>\n",
       "    </tr>\n",
       "    <tr>\n",
       "      <th>14062</th>\n",
       "      <td>Aiyoku no Eustia</td>\n",
       "      <td>PSV</td>\n",
       "      <td>2014</td>\n",
       "      <td>Misc</td>\n",
       "      <td>0.00</td>\n",
       "      <td>0.00</td>\n",
       "      <td>0.01</td>\n",
       "      <td>0.00</td>\n",
       "      <td>0.01</td>\n",
       "      <td>NaN</td>\n",
       "      <td>NaN</td>\n",
       "      <td>unknown</td>\n",
       "    </tr>\n",
       "    <tr>\n",
       "      <th>14065</th>\n",
       "      <td>Samurai Warriors: Sanada Maru</td>\n",
       "      <td>PS3</td>\n",
       "      <td>2016</td>\n",
       "      <td>Action</td>\n",
       "      <td>0.00</td>\n",
       "      <td>0.00</td>\n",
       "      <td>0.01</td>\n",
       "      <td>0.00</td>\n",
       "      <td>0.01</td>\n",
       "      <td>NaN</td>\n",
       "      <td>NaN</td>\n",
       "      <td>unknown</td>\n",
       "    </tr>\n",
       "    <tr>\n",
       "      <th>14067</th>\n",
       "      <td>Haitaka no Psychedelica</td>\n",
       "      <td>PSV</td>\n",
       "      <td>2016</td>\n",
       "      <td>Adventure</td>\n",
       "      <td>0.00</td>\n",
       "      <td>0.00</td>\n",
       "      <td>0.01</td>\n",
       "      <td>0.00</td>\n",
       "      <td>0.01</td>\n",
       "      <td>NaN</td>\n",
       "      <td>NaN</td>\n",
       "      <td>unknown</td>\n",
       "    </tr>\n",
       "    <tr>\n",
       "      <th>14069</th>\n",
       "      <td>Winning Post 8 2016</td>\n",
       "      <td>PSV</td>\n",
       "      <td>2016</td>\n",
       "      <td>Simulation</td>\n",
       "      <td>0.00</td>\n",
       "      <td>0.00</td>\n",
       "      <td>0.01</td>\n",
       "      <td>0.00</td>\n",
       "      <td>0.01</td>\n",
       "      <td>NaN</td>\n",
       "      <td>NaN</td>\n",
       "      <td>unknown</td>\n",
       "    </tr>\n",
       "  </tbody>\n",
       "</table>\n",
       "<p>1596 rows × 12 columns</p>\n",
       "</div>"
      ],
      "text/plain": [
       "                                            name platform  year_of_release  \\\n",
       "31                     Call of Duty: Black Ops 3      PS4             2015   \n",
       "42                            Grand Theft Auto V      PS4             2014   \n",
       "47     Pokemon Omega Ruby/Pokemon Alpha Sapphire      3DS             2014   \n",
       "77                                       FIFA 16      PS4             2015   \n",
       "87                  Star Wars Battlefront (2015)      PS4             2015   \n",
       "...                                          ...      ...              ...   \n",
       "14060                           Strawberry Nauts      PSV             2016   \n",
       "14062                           Aiyoku no Eustia      PSV             2014   \n",
       "14065              Samurai Warriors: Sanada Maru      PS3             2016   \n",
       "14067                    Haitaka no Psychedelica      PSV             2016   \n",
       "14069                        Winning Post 8 2016      PSV             2016   \n",
       "\n",
       "              genre  na_sales  eu_sales  jp_sales  other_sales  general_sales  \\\n",
       "31          Shooter      6.03      5.86      0.36         2.38          14.63   \n",
       "42           Action      3.96      6.31      0.38         1.97          12.62   \n",
       "47     Role-Playing      4.35      3.49      3.10         0.74          11.68   \n",
       "77           Sports      1.12      6.12      0.06         1.28           8.58   \n",
       "87          Shooter      2.99      3.49      0.22         1.28           7.98   \n",
       "...             ...       ...       ...       ...          ...            ...   \n",
       "14060     Adventure      0.00      0.00      0.01         0.00           0.01   \n",
       "14062          Misc      0.00      0.00      0.01         0.00           0.01   \n",
       "14065        Action      0.00      0.00      0.01         0.00           0.01   \n",
       "14067     Adventure      0.00      0.00      0.01         0.00           0.01   \n",
       "14069    Simulation      0.00      0.00      0.01         0.00           0.01   \n",
       "\n",
       "       critic_score  user_score   rating  \n",
       "31              NaN         NaN  unknown  \n",
       "42             97.0         8.3        M  \n",
       "47              NaN         NaN  unknown  \n",
       "77             82.0         4.3        E  \n",
       "87              NaN         NaN  unknown  \n",
       "...             ...         ...      ...  \n",
       "14060           NaN         NaN  unknown  \n",
       "14062           NaN         NaN  unknown  \n",
       "14065           NaN         NaN  unknown  \n",
       "14067           NaN         NaN  unknown  \n",
       "14069           NaN         NaN  unknown  \n",
       "\n",
       "[1596 rows x 12 columns]"
      ]
     },
     "execution_count": 57,
     "metadata": {},
     "output_type": "execute_result"
    }
   ],
   "source": [
    "games_past3['rating'] = games_past3['rating'].fillna(value='unknown')\n",
    "games_past3"
   ]
  },
  {
   "cell_type": "code",
   "execution_count": 58,
   "metadata": {},
   "outputs": [
    {
     "data": {
      "image/png": "[encoded data removed]",
      "text/plain": [
       "<Figure size 288x288 with 1 Axes>"
      ]
     },
     "metadata": {},
     "output_type": "display_data"
    }
   ],
   "source": [
    "rating_jp = (\n",
    "    games_past3.groupby('rating')['jp_sales'].count()\n",
    "    .sort_values(ascending=False)).head()\n",
    "colors = ['#55b777','#ff9999','#ffcc99','#66b3ff', '#77fc11']\n",
    "rating_jp.plot(kind='pie', subplots=True, figsize=(4,4),colors=colors,autopct='%1.1f%%')\n",
    "\n",
    "plt.title(\"Продажи в Японии\")\n",
    "plt.ylabel(\"\")\n",
    "plt.show()"
   ]
  },
  {
   "cell_type": "markdown",
   "metadata": {},
   "source": [
    "<div class=\"alert alert-info\">\n",
    "Получаются одинаковые цифры во всех регионах. Значит, рейтинг ESRB на продажи в отдельном регионе не влияет. \n",
    "</div>"
   ]
  },
  {
   "cell_type": "markdown",
   "metadata": {},
   "source": [
    "<div class=\"alert alert-info\">\n",
    "Шаг 5. Проверим гипотезы:\n",
    "</div>"
   ]
  },
  {
   "cell_type": "markdown",
   "metadata": {},
   "source": [
    "<div class=\"alert alert-info\">\n",
    "<b>Гипотеза 1.</b> Средние пользовательские рейтинги платформ Xbox One и PC одинаковые.\n",
    "<br>\n",
    "Сформулируем следующие гипотезы:\n",
    "    <br>\n",
    "Нулевая гипотеза: Средние пользовательские рейтинги платформ Xbox One и PC равны\n",
    "    <br>\n",
    "Альтернативная гипотеза: Средние пользовательские рейтинги платформ Xbox One и PC не равны\n",
    "    <br>\n",
    "Выберем значение альфа = 0.05 как наиболее распространенное\n",
    "        <br>\n",
    "Выбираем критерий для проверки двух генеральных независимых совокупностей, так как продажи двух разных платформ не зависят друг от друга\n",
    "</div>"
   ]
  },
  {
   "cell_type": "code",
   "execution_count": 52,
   "metadata": {},
   "outputs": [
    {
     "name": "stdout",
     "output_type": "stream",
     "text": [
      "0.10450507919348415\n",
      "Не получилось отвергнуть нулевую гипотезу\n"
     ]
    }
   ],
   "source": [
    "from scipy import stats as st\n",
    "\n",
    "alpha = 0.05 \n",
    "\n",
    "Xbox_One = (games_past3[games_past3['platform'] == 'XOne']['user_score'].dropna())\n",
    "\n",
    "PC = (games_past3[games_past3['platform'] == 'PC']['user_score'].dropna())\n",
    "\n",
    "results =  st.ttest_ind(Xbox_One, PC)\n",
    "print (results.pvalue)\n",
    "if results.pvalue < alpha:\n",
    "    print(\"Отвергаем нулевую гипотезу\")\n",
    "else:\n",
    "    print(\"Не получилось отвергнуть нулевую гипотезу\") \n"
   ]
  },
  {
   "cell_type": "markdown",
   "metadata": {},
   "source": [
    "<div class=\"alert alert-info\">\n",
    "Следовательно, средние пользовательские рейтинги платформ Xbox One и PC могут быть равны, нулевая гипотеза верна\n",
    "</div>"
   ]
  },
  {
   "cell_type": "markdown",
   "metadata": {},
   "source": [
    "\n",
    "<div class=\"alert alert-info\">\n",
    "<b>Гипотеза 2.</b> Средние пользовательские рейтинги жанров Action (англ. «действие», экшен-игры) и Sports (англ. «спортивные соревнования») разные.\n",
    "    <br>\n",
    "Нулевая гипотеза: Средние пользовательские рейтинги жанров Action и Sports равны\n",
    "    <br>\n",
    "Альтернативная гипотеза: Средние пользовательские рейтинги жанров Action и Sports не равны\n",
    "    <br>\n",
    "Выбираем критерий для проверки двух генеральных независимых совокупностей, так как продажи игр двух разных жанров не зависят друг от друга\n",
    "    <br>\n",
    "    Удобнее сначала проверить равенство двух совокупностей\n",
    "</div>\n"
   ]
  },
  {
   "cell_type": "markdown",
   "metadata": {},
   "source": [
    "<div class=\"alert alert-success\">\n",
    "<h2> Комментарий ревьюера <a class=\"tocSkip\"> </h2>\n",
    "\n",
    "<b>Все супер!👍:</b> Гипотезы сформулирован верно!"
   ]
  },
  {
   "cell_type": "code",
   "execution_count": 53,
   "metadata": {},
   "outputs": [
    {
     "name": "stdout",
     "output_type": "stream",
     "text": [
      "2.8711147985105864e-19\n",
      "Отвергаем нулевую гипотезу\n"
     ]
    }
   ],
   "source": [
    "action = games_past3[games_past3['genre'] == 'Action']['user_score'].dropna()\n",
    "sports = games_past3[games_past3['genre'] == 'Sports']['user_score'].dropna()\n",
    "\n",
    "alpha = 0.05\n",
    "results2 = st.ttest_ind(action, sports)\n",
    "print (results2.pvalue)\n",
    "if results2.pvalue < alpha:\n",
    "    print(\"Отвергаем нулевую гипотезу\")\n",
    "else:\n",
    "    print(\"Не получилось отвергнуть нулевую гипотезу\") "
   ]
  },
  {
   "cell_type": "markdown",
   "metadata": {},
   "source": [
    "<div class=\"alert alert-info\">\n",
    "Из этого следует, что верна альтернативная гипотеза - средние пользовательские рейтинги жанров Action и Sports не равны\n",
    "</div>"
   ]
  },
  {
   "cell_type": "markdown",
   "metadata": {},
   "source": [
    "# Общий вывод"
   ]
  },
  {
   "cell_type": "markdown",
   "metadata": {},
   "source": [
    "<div class=\"alert alert-info\">\n",
    "    В первую очередь подготовили данные, заменили названия столбцов(привели к нижнему регистру для удобства), преобразовали данные в нужные типы - столбец <b>year_of_release</b> в тип int, так как год - целочисленный, столбец <b>user_score</b> - в float, так как рейтинг - дробное число. Остальные столбцы - с нужным типом данным (<b>rating</b> - это тоже рейтинг, но он с буквами, поэтому оставили object).\n",
    "            <br>\n",
    "            <br>\n",
    "При внимательном рассмотрении датасета нашли пропущенные значения в некоторых столбцах. В столбце <b>year_of_release</b> удалили пропущенные значения. В столбце <b>user_score</b> заменили tbd значения (to be determined) на Nan.\n",
    "            <br>\n",
    "            <br>\n",
    "    Далее посчитали суммарные продажи во всех регионах и записали их в отдельный столбец <b>general_sales</b>.\n",
    "            <br>\n",
    "   Провели исследовательский анализ данных.\n",
    "<br>\n",
    "            <br>\n",
    "   Построили гистограмму по количеству игр в разные годы. Выбрали платформы с наибольшими суммарными продажами и построили распределение по годам. \n",
    "    Видно, что от появления до исчезновения проходит в среднем 10 лет, а от взлёта до падения проходит примерно 5 лет. За примерно 5 лет платформа достигает своего пика продаж. За 5-7 лет ее продажи падают почти до нуля. \n",
    "    Далее брали данные за соответствующий актуальный период - 3 года. Так как нам надо спрогнозировать данные на 2017 год, взяли данные за 2014-2016 годы.\n",
    "    <br>\n",
    "            <br>\n",
    "Выяснили, что в 2016 году у всех платформ спад по продажам. Но наиболее прибыльными были за 2014-2016 PS4, 3DS, XOne. \n",
    "            <br>\n",
    "            <br>\n",
    "Построили график «ящик с усами» по глобальным продажам игр в разбивке по платформам.\n",
    "Видно, что самые большие продажи приносили PS4 и WiiU и XOne. У этих платформ медианы на уровне плюс-минус 0.25 млн копий, и усы достигают самых больших значений.\n",
    "            <br>\n",
    "            <br>\n",
    "Рассмотрели, как влияют на продажи внутри одной популярной платформы (XOne) отзывы пользователей и критиков. Построили диаграмму рассеяния и посчитали корреляцию между отзывами и продажами.\n",
    "Корреляция прослеживается, отзывы критиков несильно влияют на продажи, отзывы клиентов нет.\n",
    "    <br>\n",
    "            <br>\n",
    "У других платформ отзывы критиков: \n",
    "   Самая сильная корреляция у PS3, но и она слабая, отзывы критиков влияют на продажи, но не очень сильно. У PS4, XOne, PS3, WiiU корреляция чуть меньше \n",
    "    <br>    \n",
    "    <br>\n",
    "Что касается отзывов пользоватлей, здесь наиболее заметная корреляция только у WiiU, у остальных платформ сильной или хотя бы чуть значимой корреляции нет. \n",
    "    <br>\n",
    "        <br>\n",
    "            <br>\n",
    "Самый популярный жанр с большим отрывом - Action, далее идут Role-Playing, Sports и Adventure, самые непопулярные - Puzzle и Strategy.\n",
    "    <br>\n",
    "    <br>\n",
    "Интересно, что Action только на 9 месте по прибыльности, хотя в отрыве от всех по количеству, то есть получается, выпускают их больше, чем спрос на них\n",
    "    <br>\n",
    "Самые неприбыльные - Puzzle и Strategy и в количестве сильно отстают\n",
    "        <br>\n",
    "Самый прибыльный жанр - Shooter, он в средних по количеству\n",
    "    <br>\n",
    "А жанр Platform, наоборот, выпускают мало, но по прибыльности он на 3 месте\n",
    "        <br>\n",
    "            <br>\n",
    "   Составили портрет пользователя каждого региона. \n",
    "        <br>\n",
    "В Америке и Европы 70% рынка занимают PS4 и XOne, только соотношение разное, в Европе на PS4 приходится 55% продаж, в Америке эти две платформы делят продажи примерно поровну. В Японии же данные сильно отличаются, не особо популярный в Америке и Европе 3DS на первом месте, PS4 на втором, PC и X360 нет вообще.Зато есть PSV и WiiU.\n",
    "        <br>\n",
    "    Самые популярные жанры (топ-5).\n",
    "    В Америке и Европе топ почти совпадает - в лидерах жанры Action, Shooter, Sports, Role-Playing. Разница только в последнем жанре - в Америке это Misc, в Европе - Racing. В Японии безоговорочно лидирует жанр Role-Playing, далее идут Action, Fighting, Misc, Shooter. Racing в японском топ5 отсутствует.\n",
    "        <br>\n",
    "            <br>\n",
    "    Влияет ли рейтинг ESRB на продажи в отдельном регионе? \n",
    "Получаются одинаковые цифры во всех регионах. Значит, рейтинг ESRB на продажи в отдельном регионе не влияет. \n",
    "        <br>\n",
    "            <br>\n",
    "<b>Гипотеза 1.</b> Средние пользовательские рейтинги платформ Xbox One и PC одинаковые.\n",
    "    <br>\n",
    "Нулевая гипотеза принята.\n",
    "Средние пользовательские рейтинги платформ Xbox One и PC могут быть равны, верна нулевая гипотеза\n",
    "         <br>\n",
    "            <br>\n",
    "<b>Гипотеза 2.</b> Средние пользовательские рейтинги жанров Action (англ. «действие», экшен-игры) и Sports (англ. «спортивные соревнования») разные.\n",
    "    <br>\n",
    "Нулевая гипотеза (равенство) не принята \n",
    "    Из этого следует, что верна альтернативная гипотеза - средние пользовательские рейтинги жанров Action и Sports не равны\n",
    "</div>"
   ]
  }
 ],
 "metadata": {
  "ExecuteTimeLog": [
   {
    "duration": 511,
    "start_time": "2023-01-01T14:35:19.905Z"
   },
   {
    "duration": 15,
    "start_time": "2023-01-01T14:35:32.508Z"
   },
   {
    "duration": 3,
    "start_time": "2023-01-01T14:47:41.417Z"
   },
   {
    "duration": 14,
    "start_time": "2023-01-01T14:48:01.771Z"
   },
   {
    "duration": 18,
    "start_time": "2023-01-01T14:49:03.525Z"
   },
   {
    "duration": 64,
    "start_time": "2023-01-01T14:57:14.760Z"
   },
   {
    "duration": 7,
    "start_time": "2023-01-01T14:57:27.015Z"
   },
   {
    "duration": 5,
    "start_time": "2023-01-01T15:00:03.603Z"
   },
   {
    "duration": 7,
    "start_time": "2023-01-01T15:00:13.143Z"
   },
   {
    "duration": 11,
    "start_time": "2023-01-01T15:00:28.896Z"
   },
   {
    "duration": 6,
    "start_time": "2023-01-01T15:02:22.422Z"
   },
   {
    "duration": 4,
    "start_time": "2023-01-01T15:02:29.498Z"
   },
   {
    "duration": 6,
    "start_time": "2023-01-01T15:06:47.803Z"
   },
   {
    "duration": 5,
    "start_time": "2023-01-01T15:07:01.150Z"
   },
   {
    "duration": 14,
    "start_time": "2023-01-01T15:08:15.933Z"
   },
   {
    "duration": 7,
    "start_time": "2023-01-01T15:08:35.790Z"
   },
   {
    "duration": 23,
    "start_time": "2023-01-01T15:09:39.977Z"
   },
   {
    "duration": 4,
    "start_time": "2023-01-01T15:09:43.924Z"
   },
   {
    "duration": 7,
    "start_time": "2023-01-01T15:09:52.031Z"
   },
   {
    "duration": 5,
    "start_time": "2023-01-01T15:09:54.220Z"
   },
   {
    "duration": 5,
    "start_time": "2023-01-01T15:10:20.325Z"
   },
   {
    "duration": 7,
    "start_time": "2023-01-01T15:10:28.735Z"
   },
   {
    "duration": 4,
    "start_time": "2023-01-01T15:10:35.952Z"
   },
   {
    "duration": 10,
    "start_time": "2023-01-01T15:10:46.362Z"
   },
   {
    "duration": 4,
    "start_time": "2023-01-01T15:10:53.860Z"
   },
   {
    "duration": 5,
    "start_time": "2023-01-01T15:10:57.107Z"
   },
   {
    "duration": 344,
    "start_time": "2023-01-01T15:15:47.391Z"
   },
   {
    "duration": 3,
    "start_time": "2023-01-01T15:19:35.181Z"
   },
   {
    "duration": 5,
    "start_time": "2023-01-01T15:21:20.995Z"
   },
   {
    "duration": 7,
    "start_time": "2023-01-01T15:21:25.325Z"
   },
   {
    "duration": 748,
    "start_time": "2023-01-01T15:22:04.776Z"
   },
   {
    "duration": 5,
    "start_time": "2023-01-01T15:22:10.791Z"
   },
   {
    "duration": 5,
    "start_time": "2023-01-01T15:22:15.348Z"
   },
   {
    "duration": 4,
    "start_time": "2023-01-01T15:22:18.898Z"
   },
   {
    "duration": 8,
    "start_time": "2023-01-01T15:22:39.061Z"
   },
   {
    "duration": 20,
    "start_time": "2023-01-01T15:22:44.674Z"
   },
   {
    "duration": 12,
    "start_time": "2023-01-01T15:23:10.665Z"
   },
   {
    "duration": 10,
    "start_time": "2023-01-01T15:23:23.653Z"
   },
   {
    "duration": 11,
    "start_time": "2023-01-01T15:23:29.743Z"
   },
   {
    "duration": 6,
    "start_time": "2023-01-01T15:23:43.339Z"
   },
   {
    "duration": 9,
    "start_time": "2023-01-01T15:24:04.682Z"
   },
   {
    "duration": 495,
    "start_time": "2023-01-02T08:02:43.792Z"
   },
   {
    "duration": 12,
    "start_time": "2023-01-02T08:02:44.289Z"
   },
   {
    "duration": 12,
    "start_time": "2023-01-02T08:02:44.302Z"
   },
   {
    "duration": 13,
    "start_time": "2023-01-02T08:02:44.315Z"
   },
   {
    "duration": 5,
    "start_time": "2023-01-02T08:02:44.330Z"
   },
   {
    "duration": 11,
    "start_time": "2023-01-02T08:02:44.337Z"
   },
   {
    "duration": 5,
    "start_time": "2023-01-02T08:02:44.349Z"
   },
   {
    "duration": 7,
    "start_time": "2023-01-02T08:02:44.356Z"
   },
   {
    "duration": 7,
    "start_time": "2023-01-02T08:02:44.364Z"
   },
   {
    "duration": 37,
    "start_time": "2023-01-02T08:02:44.372Z"
   },
   {
    "duration": 12,
    "start_time": "2023-01-02T08:02:44.411Z"
   },
   {
    "duration": 484,
    "start_time": "2023-01-02T13:48:26.323Z"
   },
   {
    "duration": 12,
    "start_time": "2023-01-02T13:48:26.809Z"
   },
   {
    "duration": 13,
    "start_time": "2023-01-02T13:48:26.823Z"
   },
   {
    "duration": 14,
    "start_time": "2023-01-02T13:48:26.837Z"
   },
   {
    "duration": 4,
    "start_time": "2023-01-02T13:48:26.852Z"
   },
   {
    "duration": 7,
    "start_time": "2023-01-02T13:48:26.857Z"
   },
   {
    "duration": 3,
    "start_time": "2023-01-02T13:48:26.866Z"
   },
   {
    "duration": 9,
    "start_time": "2023-01-02T13:48:26.871Z"
   },
   {
    "duration": 10,
    "start_time": "2023-01-02T13:48:26.881Z"
   },
   {
    "duration": 13,
    "start_time": "2023-01-02T13:48:26.915Z"
   },
   {
    "duration": 13,
    "start_time": "2023-01-02T13:48:26.929Z"
   },
   {
    "duration": 16,
    "start_time": "2023-01-02T14:01:18.866Z"
   },
   {
    "duration": 61,
    "start_time": "2023-01-02T14:07:21.456Z"
   },
   {
    "duration": 10,
    "start_time": "2023-01-02T14:07:39.914Z"
   },
   {
    "duration": 8,
    "start_time": "2023-01-02T14:08:05.781Z"
   },
   {
    "duration": 9,
    "start_time": "2023-01-02T14:08:42.646Z"
   },
   {
    "duration": 18,
    "start_time": "2023-01-02T14:11:27.877Z"
   },
   {
    "duration": 19,
    "start_time": "2023-01-02T14:13:55.273Z"
   },
   {
    "duration": 4,
    "start_time": "2023-01-02T14:14:27.448Z"
   },
   {
    "duration": 516,
    "start_time": "2023-01-02T14:14:32.165Z"
   },
   {
    "duration": 975,
    "start_time": "2023-01-02T14:15:02.557Z"
   },
   {
    "duration": 503,
    "start_time": "2023-01-02T14:18:16.197Z"
   },
   {
    "duration": 7,
    "start_time": "2023-01-02T14:18:41.971Z"
   },
   {
    "duration": 404,
    "start_time": "2023-01-02T14:19:39.568Z"
   },
   {
    "duration": 13,
    "start_time": "2023-01-02T14:19:39.974Z"
   },
   {
    "duration": 13,
    "start_time": "2023-01-02T14:19:39.988Z"
   },
   {
    "duration": 14,
    "start_time": "2023-01-02T14:19:40.002Z"
   },
   {
    "duration": 5,
    "start_time": "2023-01-02T14:19:40.018Z"
   },
   {
    "duration": 11,
    "start_time": "2023-01-02T14:19:40.024Z"
   },
   {
    "duration": 7,
    "start_time": "2023-01-02T14:19:40.037Z"
   },
   {
    "duration": 7,
    "start_time": "2023-01-02T14:19:40.045Z"
   },
   {
    "duration": 10,
    "start_time": "2023-01-02T14:19:40.054Z"
   },
   {
    "duration": 14,
    "start_time": "2023-01-02T14:19:40.065Z"
   },
   {
    "duration": 11,
    "start_time": "2023-01-02T14:19:40.080Z"
   },
   {
    "duration": 32,
    "start_time": "2023-01-02T14:19:40.092Z"
   },
   {
    "duration": 16,
    "start_time": "2023-01-02T14:19:40.125Z"
   },
   {
    "duration": 20,
    "start_time": "2023-01-02T14:19:40.143Z"
   },
   {
    "duration": 30,
    "start_time": "2023-01-02T14:19:57.527Z"
   },
   {
    "duration": 16,
    "start_time": "2023-01-02T14:20:10.838Z"
   },
   {
    "duration": 15,
    "start_time": "2023-01-02T14:20:41.475Z"
   },
   {
    "duration": 24,
    "start_time": "2023-01-02T14:20:56.312Z"
   },
   {
    "duration": 13,
    "start_time": "2023-01-02T14:22:01.755Z"
   },
   {
    "duration": 9,
    "start_time": "2023-01-02T14:22:56.292Z"
   },
   {
    "duration": 10,
    "start_time": "2023-01-02T14:26:02.881Z"
   },
   {
    "duration": 63,
    "start_time": "2023-01-02T14:26:13.043Z"
   },
   {
    "duration": 14,
    "start_time": "2023-01-02T14:26:28.737Z"
   },
   {
    "duration": 14,
    "start_time": "2023-01-02T14:26:39.693Z"
   },
   {
    "duration": 11,
    "start_time": "2023-01-02T14:29:08.091Z"
   },
   {
    "duration": 10,
    "start_time": "2023-01-02T14:35:58.972Z"
   },
   {
    "duration": 13,
    "start_time": "2023-01-02T14:37:10.236Z"
   },
   {
    "duration": 26,
    "start_time": "2023-01-02T14:38:02.420Z"
   },
   {
    "duration": 18,
    "start_time": "2023-01-02T14:38:18.590Z"
   },
   {
    "duration": 7,
    "start_time": "2023-01-02T14:39:48.574Z"
   },
   {
    "duration": 4,
    "start_time": "2023-01-02T14:44:09.160Z"
   },
   {
    "duration": 14,
    "start_time": "2023-01-02T14:44:18.737Z"
   },
   {
    "duration": 11,
    "start_time": "2023-01-02T14:47:38.809Z"
   },
   {
    "duration": 474,
    "start_time": "2023-01-02T14:48:03.595Z"
   },
   {
    "duration": 13,
    "start_time": "2023-01-02T14:48:04.071Z"
   },
   {
    "duration": 13,
    "start_time": "2023-01-02T14:48:04.085Z"
   },
   {
    "duration": 18,
    "start_time": "2023-01-02T14:48:04.099Z"
   },
   {
    "duration": 3,
    "start_time": "2023-01-02T14:48:04.119Z"
   },
   {
    "duration": 14,
    "start_time": "2023-01-02T14:48:04.123Z"
   },
   {
    "duration": 7,
    "start_time": "2023-01-02T14:48:04.139Z"
   },
   {
    "duration": 7,
    "start_time": "2023-01-02T14:48:04.147Z"
   },
   {
    "duration": 5,
    "start_time": "2023-01-02T14:48:04.156Z"
   },
   {
    "duration": 16,
    "start_time": "2023-01-02T14:48:04.162Z"
   },
   {
    "duration": 10,
    "start_time": "2023-01-02T14:48:04.180Z"
   },
   {
    "duration": 30,
    "start_time": "2023-01-02T14:48:04.192Z"
   },
   {
    "duration": 16,
    "start_time": "2023-01-02T14:48:04.223Z"
   },
   {
    "duration": 16,
    "start_time": "2023-01-02T14:48:04.241Z"
   },
   {
    "duration": 21,
    "start_time": "2023-01-02T14:48:04.258Z"
   },
   {
    "duration": 35,
    "start_time": "2023-01-02T14:48:04.281Z"
   },
   {
    "duration": 15,
    "start_time": "2023-01-02T14:48:04.317Z"
   },
   {
    "duration": 5,
    "start_time": "2023-01-02T14:48:04.334Z"
   },
   {
    "duration": 14,
    "start_time": "2023-01-02T14:48:04.340Z"
   },
   {
    "duration": 62,
    "start_time": "2023-01-02T14:48:34.952Z"
   },
   {
    "duration": 510,
    "start_time": "2023-01-02T14:48:45.953Z"
   },
   {
    "duration": 12,
    "start_time": "2023-01-02T14:48:46.465Z"
   },
   {
    "duration": 12,
    "start_time": "2023-01-02T14:48:46.479Z"
   },
   {
    "duration": 15,
    "start_time": "2023-01-02T14:48:46.492Z"
   },
   {
    "duration": 8,
    "start_time": "2023-01-02T14:48:46.509Z"
   },
   {
    "duration": 10,
    "start_time": "2023-01-02T14:48:46.519Z"
   },
   {
    "duration": 6,
    "start_time": "2023-01-02T14:48:46.530Z"
   },
   {
    "duration": 4,
    "start_time": "2023-01-02T14:48:46.538Z"
   },
   {
    "duration": 4,
    "start_time": "2023-01-02T14:48:46.544Z"
   },
   {
    "duration": 14,
    "start_time": "2023-01-02T14:48:46.549Z"
   },
   {
    "duration": 12,
    "start_time": "2023-01-02T14:48:46.565Z"
   },
   {
    "duration": 38,
    "start_time": "2023-01-02T14:48:46.578Z"
   },
   {
    "duration": 18,
    "start_time": "2023-01-02T14:48:46.617Z"
   },
   {
    "duration": 17,
    "start_time": "2023-01-02T14:48:46.637Z"
   },
   {
    "duration": 13,
    "start_time": "2023-01-02T14:48:46.655Z"
   },
   {
    "duration": 13,
    "start_time": "2023-01-02T14:48:46.670Z"
   },
   {
    "duration": 42,
    "start_time": "2023-01-02T14:48:46.684Z"
   },
   {
    "duration": 8,
    "start_time": "2023-01-02T14:48:46.727Z"
   },
   {
    "duration": 15,
    "start_time": "2023-01-02T14:48:46.736Z"
   },
   {
    "duration": 61,
    "start_time": "2023-01-02T14:48:55.262Z"
   },
   {
    "duration": 398,
    "start_time": "2023-01-02T14:49:04.173Z"
   },
   {
    "duration": 12,
    "start_time": "2023-01-02T14:49:04.573Z"
   },
   {
    "duration": 16,
    "start_time": "2023-01-02T14:49:04.586Z"
   },
   {
    "duration": 16,
    "start_time": "2023-01-02T14:49:04.604Z"
   },
   {
    "duration": 4,
    "start_time": "2023-01-02T14:49:04.622Z"
   },
   {
    "duration": 9,
    "start_time": "2023-01-02T14:49:04.627Z"
   },
   {
    "duration": 10,
    "start_time": "2023-01-02T14:49:04.637Z"
   },
   {
    "duration": 5,
    "start_time": "2023-01-02T14:49:04.649Z"
   },
   {
    "duration": 3,
    "start_time": "2023-01-02T14:49:04.656Z"
   },
   {
    "duration": 23,
    "start_time": "2023-01-02T14:49:04.661Z"
   },
   {
    "duration": 12,
    "start_time": "2023-01-02T14:49:04.685Z"
   },
   {
    "duration": 26,
    "start_time": "2023-01-02T14:49:04.699Z"
   },
   {
    "duration": 17,
    "start_time": "2023-01-02T14:49:04.726Z"
   },
   {
    "duration": 17,
    "start_time": "2023-01-02T14:49:04.745Z"
   },
   {
    "duration": 13,
    "start_time": "2023-01-02T14:49:04.763Z"
   },
   {
    "duration": 42,
    "start_time": "2023-01-02T14:49:04.778Z"
   },
   {
    "duration": 20,
    "start_time": "2023-01-02T14:49:04.821Z"
   },
   {
    "duration": 6,
    "start_time": "2023-01-02T14:49:04.842Z"
   },
   {
    "duration": 16,
    "start_time": "2023-01-02T14:49:04.849Z"
   },
   {
    "duration": 4,
    "start_time": "2023-01-02T14:54:47.084Z"
   },
   {
    "duration": 4,
    "start_time": "2023-01-02T14:55:54.627Z"
   },
   {
    "duration": 3,
    "start_time": "2023-01-02T14:56:11.660Z"
   },
   {
    "duration": 4,
    "start_time": "2023-01-02T14:56:23.320Z"
   },
   {
    "duration": 6,
    "start_time": "2023-01-02T15:12:40.870Z"
   },
   {
    "duration": 457,
    "start_time": "2023-01-02T15:16:27.124Z"
   },
   {
    "duration": 811,
    "start_time": "2023-01-02T15:16:58.680Z"
   },
   {
    "duration": 701,
    "start_time": "2023-01-02T15:17:33.715Z"
   },
   {
    "duration": 728,
    "start_time": "2023-01-02T15:17:43.671Z"
   },
   {
    "duration": 42,
    "start_time": "2023-01-02T15:18:10.921Z"
   },
   {
    "duration": 772,
    "start_time": "2023-01-02T15:18:19.554Z"
   },
   {
    "duration": 722,
    "start_time": "2023-01-02T15:19:49.044Z"
   },
   {
    "duration": 280,
    "start_time": "2023-01-02T15:20:01.929Z"
   },
   {
    "duration": 294,
    "start_time": "2023-01-02T15:20:17.702Z"
   },
   {
    "duration": 255,
    "start_time": "2023-01-02T15:20:24.993Z"
   },
   {
    "duration": 266,
    "start_time": "2023-01-02T15:20:30.151Z"
   },
   {
    "duration": 437,
    "start_time": "2023-01-02T15:21:52.078Z"
   },
   {
    "duration": 13,
    "start_time": "2023-01-02T15:21:52.517Z"
   },
   {
    "duration": 14,
    "start_time": "2023-01-02T15:21:52.531Z"
   },
   {
    "duration": 14,
    "start_time": "2023-01-02T15:21:52.547Z"
   },
   {
    "duration": 5,
    "start_time": "2023-01-02T15:21:52.562Z"
   },
   {
    "duration": 8,
    "start_time": "2023-01-02T15:21:52.568Z"
   },
   {
    "duration": 4,
    "start_time": "2023-01-02T15:21:52.577Z"
   },
   {
    "duration": 6,
    "start_time": "2023-01-02T15:21:52.615Z"
   },
   {
    "duration": 6,
    "start_time": "2023-01-02T15:21:52.622Z"
   },
   {
    "duration": 14,
    "start_time": "2023-01-02T15:21:52.630Z"
   },
   {
    "duration": 11,
    "start_time": "2023-01-02T15:21:52.645Z"
   },
   {
    "duration": 14,
    "start_time": "2023-01-02T15:21:52.657Z"
   },
   {
    "duration": 44,
    "start_time": "2023-01-02T15:21:52.672Z"
   },
   {
    "duration": 18,
    "start_time": "2023-01-02T15:21:52.717Z"
   },
   {
    "duration": 13,
    "start_time": "2023-01-02T15:21:52.736Z"
   },
   {
    "duration": 13,
    "start_time": "2023-01-02T15:21:52.750Z"
   },
   {
    "duration": 17,
    "start_time": "2023-01-02T15:21:52.764Z"
   },
   {
    "duration": 4,
    "start_time": "2023-01-02T15:21:52.782Z"
   },
   {
    "duration": 46,
    "start_time": "2023-01-02T15:21:52.788Z"
   },
   {
    "duration": 60,
    "start_time": "2023-01-02T15:21:52.835Z"
   },
   {
    "duration": 359,
    "start_time": "2023-01-02T15:22:04.687Z"
   },
   {
    "duration": 159,
    "start_time": "2023-01-02T15:22:25.771Z"
   },
   {
    "duration": 161,
    "start_time": "2023-01-02T15:22:30.537Z"
   },
   {
    "duration": 177,
    "start_time": "2023-01-02T15:22:49.359Z"
   },
   {
    "duration": 166,
    "start_time": "2023-01-02T15:23:15.867Z"
   },
   {
    "duration": 78,
    "start_time": "2023-01-02T15:24:07.253Z"
   },
   {
    "duration": 662,
    "start_time": "2023-01-02T15:24:12.908Z"
   },
   {
    "duration": 713,
    "start_time": "2023-01-02T15:24:37.015Z"
   },
   {
    "duration": 668,
    "start_time": "2023-01-02T15:24:41.651Z"
   },
   {
    "duration": 675,
    "start_time": "2023-01-02T15:24:59.700Z"
   },
   {
    "duration": 14,
    "start_time": "2023-01-02T15:25:00.377Z"
   },
   {
    "duration": 15,
    "start_time": "2023-01-02T15:25:00.393Z"
   },
   {
    "duration": 41,
    "start_time": "2023-01-02T15:25:00.410Z"
   },
   {
    "duration": 30,
    "start_time": "2023-01-02T15:25:00.454Z"
   },
   {
    "duration": 35,
    "start_time": "2023-01-02T15:25:00.486Z"
   },
   {
    "duration": 37,
    "start_time": "2023-01-02T15:25:00.523Z"
   },
   {
    "duration": 49,
    "start_time": "2023-01-02T15:25:00.561Z"
   },
   {
    "duration": 27,
    "start_time": "2023-01-02T15:25:00.612Z"
   },
   {
    "duration": 51,
    "start_time": "2023-01-02T15:25:00.641Z"
   },
   {
    "duration": 62,
    "start_time": "2023-01-02T15:25:00.694Z"
   },
   {
    "duration": 39,
    "start_time": "2023-01-02T15:25:00.758Z"
   },
   {
    "duration": 44,
    "start_time": "2023-01-02T15:25:00.799Z"
   },
   {
    "duration": 24,
    "start_time": "2023-01-02T15:25:00.845Z"
   },
   {
    "duration": 24,
    "start_time": "2023-01-02T15:25:00.870Z"
   },
   {
    "duration": 50,
    "start_time": "2023-01-02T15:25:00.895Z"
   },
   {
    "duration": 22,
    "start_time": "2023-01-02T15:25:00.946Z"
   },
   {
    "duration": 20,
    "start_time": "2023-01-02T15:25:00.970Z"
   },
   {
    "duration": 31,
    "start_time": "2023-01-02T15:25:00.991Z"
   },
   {
    "duration": 176,
    "start_time": "2023-01-02T15:25:01.024Z"
   },
   {
    "duration": 240,
    "start_time": "2023-01-02T15:49:56.330Z"
   },
   {
    "duration": 16,
    "start_time": "2023-01-02T15:51:01.135Z"
   },
   {
    "duration": 157,
    "start_time": "2023-01-02T15:51:11.336Z"
   },
   {
    "duration": 5,
    "start_time": "2023-01-02T15:54:26.885Z"
   },
   {
    "duration": 13,
    "start_time": "2023-01-02T15:54:54.015Z"
   },
   {
    "duration": 698,
    "start_time": "2023-01-02T15:55:37.258Z"
   },
   {
    "duration": 12,
    "start_time": "2023-01-02T15:55:37.958Z"
   },
   {
    "duration": 12,
    "start_time": "2023-01-02T15:55:37.971Z"
   },
   {
    "duration": 13,
    "start_time": "2023-01-02T15:55:37.985Z"
   },
   {
    "duration": 20,
    "start_time": "2023-01-02T15:55:37.999Z"
   },
   {
    "duration": 11,
    "start_time": "2023-01-02T15:55:38.021Z"
   },
   {
    "duration": 23,
    "start_time": "2023-01-02T15:55:38.034Z"
   },
   {
    "duration": 7,
    "start_time": "2023-01-02T15:55:38.059Z"
   },
   {
    "duration": 3,
    "start_time": "2023-01-02T15:55:38.067Z"
   },
   {
    "duration": 21,
    "start_time": "2023-01-02T15:55:38.072Z"
   },
   {
    "duration": 24,
    "start_time": "2023-01-02T15:55:38.095Z"
   },
   {
    "duration": 16,
    "start_time": "2023-01-02T15:55:38.120Z"
   },
   {
    "duration": 27,
    "start_time": "2023-01-02T15:55:38.138Z"
   },
   {
    "duration": 20,
    "start_time": "2023-01-02T15:55:38.167Z"
   },
   {
    "duration": 43,
    "start_time": "2023-01-02T15:55:38.189Z"
   },
   {
    "duration": 19,
    "start_time": "2023-01-02T15:55:38.234Z"
   },
   {
    "duration": 17,
    "start_time": "2023-01-02T15:55:38.255Z"
   },
   {
    "duration": 6,
    "start_time": "2023-01-02T15:55:38.273Z"
   },
   {
    "duration": 14,
    "start_time": "2023-01-02T15:55:38.280Z"
   },
   {
    "duration": 16,
    "start_time": "2023-01-02T15:55:38.319Z"
   },
   {
    "duration": 202,
    "start_time": "2023-01-02T15:55:38.338Z"
   },
   {
    "duration": 5,
    "start_time": "2023-01-02T15:56:59.870Z"
   },
   {
    "duration": 6,
    "start_time": "2023-01-02T15:57:23.208Z"
   },
   {
    "duration": 176,
    "start_time": "2023-01-02T15:57:25.303Z"
   },
   {
    "duration": 9,
    "start_time": "2023-01-02T15:57:54.602Z"
   },
   {
    "duration": 6,
    "start_time": "2023-01-02T15:58:32.076Z"
   },
   {
    "duration": 9,
    "start_time": "2023-01-02T15:58:39.240Z"
   },
   {
    "duration": 10,
    "start_time": "2023-01-02T15:58:46.582Z"
   },
   {
    "duration": 189,
    "start_time": "2023-01-02T15:58:47.855Z"
   },
   {
    "duration": 6,
    "start_time": "2023-01-02T16:05:20.905Z"
   },
   {
    "duration": 7,
    "start_time": "2023-01-02T16:05:53.669Z"
   },
   {
    "duration": 9,
    "start_time": "2023-01-02T16:07:32.641Z"
   },
   {
    "duration": 82,
    "start_time": "2023-01-02T16:07:53.428Z"
   },
   {
    "duration": 151,
    "start_time": "2023-01-02T16:08:01.124Z"
   },
   {
    "duration": 201,
    "start_time": "2023-01-02T16:08:20.599Z"
   },
   {
    "duration": 173,
    "start_time": "2023-01-02T16:08:34.008Z"
   },
   {
    "duration": 188,
    "start_time": "2023-01-02T16:08:49.010Z"
   },
   {
    "duration": 12,
    "start_time": "2023-01-02T16:11:38.748Z"
   },
   {
    "duration": 3,
    "start_time": "2023-01-02T16:14:21.175Z"
   },
   {
    "duration": 26,
    "start_time": "2023-01-02T16:14:26.779Z"
   },
   {
    "duration": 11,
    "start_time": "2023-01-02T16:14:47.421Z"
   },
   {
    "duration": 10,
    "start_time": "2023-01-02T16:15:03.870Z"
   },
   {
    "duration": 303,
    "start_time": "2023-01-02T16:36:07.655Z"
   },
   {
    "duration": 267,
    "start_time": "2023-01-02T16:36:25.653Z"
   },
   {
    "duration": 261,
    "start_time": "2023-01-02T16:36:33.931Z"
   },
   {
    "duration": 289,
    "start_time": "2023-01-02T16:37:10.171Z"
   },
   {
    "duration": 194,
    "start_time": "2023-01-02T16:37:44.539Z"
   },
   {
    "duration": 145,
    "start_time": "2023-01-02T16:38:02.108Z"
   },
   {
    "duration": 14,
    "start_time": "2023-01-02T16:45:45.071Z"
   },
   {
    "duration": 10,
    "start_time": "2023-01-02T16:45:54.950Z"
   },
   {
    "duration": 329,
    "start_time": "2023-01-02T16:48:57.972Z"
   },
   {
    "duration": 235,
    "start_time": "2023-01-02T16:49:22.080Z"
   },
   {
    "duration": 277,
    "start_time": "2023-01-02T16:49:35.988Z"
   },
   {
    "duration": 593,
    "start_time": "2023-01-02T16:49:47.834Z"
   },
   {
    "duration": 10,
    "start_time": "2023-01-02T16:50:49.990Z"
   },
   {
    "duration": 13,
    "start_time": "2023-01-02T16:55:20.541Z"
   },
   {
    "duration": 4,
    "start_time": "2023-01-02T16:56:59.912Z"
   },
   {
    "duration": 6,
    "start_time": "2023-01-02T16:57:10.723Z"
   },
   {
    "duration": 12,
    "start_time": "2023-01-02T16:57:22.913Z"
   },
   {
    "duration": 3,
    "start_time": "2023-01-02T16:57:55.768Z"
   },
   {
    "duration": 17,
    "start_time": "2023-01-02T16:58:10.817Z"
   },
   {
    "duration": 713,
    "start_time": "2023-01-02T16:59:54.202Z"
   },
   {
    "duration": 764,
    "start_time": "2023-01-02T17:00:04.957Z"
   },
   {
    "duration": 12,
    "start_time": "2023-01-02T17:00:40.835Z"
   },
   {
    "duration": 133,
    "start_time": "2023-01-02T17:01:00.466Z"
   },
   {
    "duration": 111,
    "start_time": "2023-01-02T17:01:19.042Z"
   },
   {
    "duration": 707,
    "start_time": "2023-01-02T17:01:56.677Z"
   },
   {
    "duration": 209,
    "start_time": "2023-01-02T17:02:37.631Z"
   },
   {
    "duration": 269,
    "start_time": "2023-01-02T17:03:09.799Z"
   },
   {
    "duration": 136,
    "start_time": "2023-01-02T17:03:26.413Z"
   },
   {
    "duration": 374,
    "start_time": "2023-01-02T17:03:30.673Z"
   },
   {
    "duration": 2,
    "start_time": "2023-01-02T17:04:46.102Z"
   },
   {
    "duration": 225,
    "start_time": "2023-01-02T17:06:19.928Z"
   },
   {
    "duration": 313,
    "start_time": "2023-01-02T17:06:48.913Z"
   },
   {
    "duration": 255,
    "start_time": "2023-01-02T17:06:59.290Z"
   },
   {
    "duration": 10,
    "start_time": "2023-01-02T17:07:12.551Z"
   },
   {
    "duration": 257,
    "start_time": "2023-01-02T17:07:17.782Z"
   },
   {
    "duration": 293,
    "start_time": "2023-01-02T17:08:14.681Z"
   },
   {
    "duration": 12,
    "start_time": "2023-01-02T17:08:44.401Z"
   },
   {
    "duration": 159,
    "start_time": "2023-01-02T17:09:11.405Z"
   },
   {
    "duration": 687,
    "start_time": "2023-01-02T17:10:38.706Z"
   },
   {
    "duration": 12,
    "start_time": "2023-01-02T17:10:39.395Z"
   },
   {
    "duration": 23,
    "start_time": "2023-01-02T17:10:39.408Z"
   },
   {
    "duration": 16,
    "start_time": "2023-01-02T17:10:39.432Z"
   },
   {
    "duration": 4,
    "start_time": "2023-01-02T17:10:39.450Z"
   },
   {
    "duration": 8,
    "start_time": "2023-01-02T17:10:39.456Z"
   },
   {
    "duration": 7,
    "start_time": "2023-01-02T17:10:39.466Z"
   },
   {
    "duration": 7,
    "start_time": "2023-01-02T17:10:39.475Z"
   },
   {
    "duration": 4,
    "start_time": "2023-01-02T17:10:39.483Z"
   },
   {
    "duration": 30,
    "start_time": "2023-01-02T17:10:39.488Z"
   },
   {
    "duration": 16,
    "start_time": "2023-01-02T17:10:39.523Z"
   },
   {
    "duration": 18,
    "start_time": "2023-01-02T17:10:39.541Z"
   },
   {
    "duration": 24,
    "start_time": "2023-01-02T17:10:39.560Z"
   },
   {
    "duration": 43,
    "start_time": "2023-01-02T17:10:39.587Z"
   },
   {
    "duration": 14,
    "start_time": "2023-01-02T17:10:39.631Z"
   },
   {
    "duration": 12,
    "start_time": "2023-01-02T17:10:39.647Z"
   },
   {
    "duration": 17,
    "start_time": "2023-01-02T17:10:39.661Z"
   },
   {
    "duration": 6,
    "start_time": "2023-01-02T17:10:39.679Z"
   },
   {
    "duration": 61,
    "start_time": "2023-01-02T17:10:39.686Z"
   },
   {
    "duration": 7,
    "start_time": "2023-01-02T17:10:39.749Z"
   },
   {
    "duration": 179,
    "start_time": "2023-01-02T17:10:39.757Z"
   },
   {
    "duration": 8,
    "start_time": "2023-01-02T17:10:39.938Z"
   },
   {
    "duration": 10,
    "start_time": "2023-01-02T17:10:39.948Z"
   },
   {
    "duration": 5,
    "start_time": "2023-01-02T17:10:39.960Z"
   },
   {
    "duration": 23997,
    "start_time": "2023-01-02T17:10:43.394Z"
   },
   {
    "duration": 398,
    "start_time": "2023-01-02T17:11:24.849Z"
   },
   {
    "duration": 20,
    "start_time": "2023-01-02T17:12:16.625Z"
   },
   {
    "duration": 11,
    "start_time": "2023-01-02T17:12:26.309Z"
   },
   {
    "duration": 14,
    "start_time": "2023-01-02T17:12:49.082Z"
   },
   {
    "duration": 278,
    "start_time": "2023-01-02T17:13:08.031Z"
   },
   {
    "duration": 70,
    "start_time": "2023-01-02T17:14:34.638Z"
   },
   {
    "duration": 15,
    "start_time": "2023-01-02T17:14:54.099Z"
   },
   {
    "duration": 11,
    "start_time": "2023-01-02T17:14:55.848Z"
   },
   {
    "duration": 238,
    "start_time": "2023-01-02T17:15:05.863Z"
   },
   {
    "duration": 1393,
    "start_time": "2023-01-02T17:15:55.237Z"
   },
   {
    "duration": 762,
    "start_time": "2023-01-02T17:33:30.859Z"
   },
   {
    "duration": 729,
    "start_time": "2023-01-02T17:33:54.927Z"
   },
   {
    "duration": 47,
    "start_time": "2023-01-02T17:37:56.832Z"
   },
   {
    "duration": 626,
    "start_time": "2023-01-02T17:39:14.236Z"
   },
   {
    "duration": 13,
    "start_time": "2023-01-02T17:39:14.864Z"
   },
   {
    "duration": 18,
    "start_time": "2023-01-02T17:39:14.879Z"
   },
   {
    "duration": 17,
    "start_time": "2023-01-02T17:39:14.899Z"
   },
   {
    "duration": 4,
    "start_time": "2023-01-02T17:39:14.918Z"
   },
   {
    "duration": 11,
    "start_time": "2023-01-02T17:39:14.923Z"
   },
   {
    "duration": 9,
    "start_time": "2023-01-02T17:39:14.935Z"
   },
   {
    "duration": 10,
    "start_time": "2023-01-02T17:39:14.945Z"
   },
   {
    "duration": 4,
    "start_time": "2023-01-02T17:39:14.956Z"
   },
   {
    "duration": 16,
    "start_time": "2023-01-02T17:39:14.961Z"
   },
   {
    "duration": 13,
    "start_time": "2023-01-02T17:39:14.979Z"
   },
   {
    "duration": 27,
    "start_time": "2023-01-02T17:39:14.993Z"
   },
   {
    "duration": 17,
    "start_time": "2023-01-02T17:39:15.022Z"
   },
   {
    "duration": 17,
    "start_time": "2023-01-02T17:39:15.042Z"
   },
   {
    "duration": 13,
    "start_time": "2023-01-02T17:39:15.061Z"
   },
   {
    "duration": 41,
    "start_time": "2023-01-02T17:39:15.075Z"
   },
   {
    "duration": 19,
    "start_time": "2023-01-02T17:39:15.117Z"
   },
   {
    "duration": 5,
    "start_time": "2023-01-02T17:39:15.138Z"
   },
   {
    "duration": 21,
    "start_time": "2023-01-02T17:39:15.145Z"
   },
   {
    "duration": 8,
    "start_time": "2023-01-02T17:39:15.167Z"
   },
   {
    "duration": 203,
    "start_time": "2023-01-02T17:39:15.176Z"
   },
   {
    "duration": 7,
    "start_time": "2023-01-02T17:39:15.381Z"
   },
   {
    "duration": 8,
    "start_time": "2023-01-02T17:39:15.390Z"
   },
   {
    "duration": 25,
    "start_time": "2023-01-02T17:39:15.400Z"
   },
   {
    "duration": 342,
    "start_time": "2023-01-02T17:39:15.426Z"
   },
   {
    "duration": 52,
    "start_time": "2023-01-02T17:39:15.770Z"
   },
   {
    "duration": 0,
    "start_time": "2023-01-02T17:39:15.824Z"
   },
   {
    "duration": 0,
    "start_time": "2023-01-02T17:39:15.825Z"
   },
   {
    "duration": 75,
    "start_time": "2023-01-02T17:39:45.064Z"
   },
   {
    "duration": 9,
    "start_time": "2023-01-02T17:41:04.789Z"
   },
   {
    "duration": 53,
    "start_time": "2023-01-02T17:41:21.460Z"
   },
   {
    "duration": 46,
    "start_time": "2023-01-02T17:41:44.465Z"
   },
   {
    "duration": 48,
    "start_time": "2023-01-02T17:41:53.166Z"
   },
   {
    "duration": 48,
    "start_time": "2023-01-02T17:42:00.622Z"
   },
   {
    "duration": 48,
    "start_time": "2023-01-02T17:47:11.289Z"
   },
   {
    "duration": 56,
    "start_time": "2023-01-02T17:47:17.685Z"
   },
   {
    "duration": 75,
    "start_time": "2023-01-02T17:47:35.193Z"
   },
   {
    "duration": 154,
    "start_time": "2023-01-02T17:47:42.081Z"
   },
   {
    "duration": 192,
    "start_time": "2023-01-02T17:47:51.559Z"
   },
   {
    "duration": 320,
    "start_time": "2023-01-02T17:48:41.033Z"
   },
   {
    "duration": 344,
    "start_time": "2023-01-02T17:49:12.440Z"
   },
   {
    "duration": 10,
    "start_time": "2023-01-02T17:49:30.911Z"
   },
   {
    "duration": 141,
    "start_time": "2023-01-02T17:49:37.648Z"
   },
   {
    "duration": 323,
    "start_time": "2023-01-02T17:49:43.116Z"
   },
   {
    "duration": 180,
    "start_time": "2023-01-02T17:54:10.312Z"
   },
   {
    "duration": 230,
    "start_time": "2023-01-02T17:54:33.665Z"
   },
   {
    "duration": 199,
    "start_time": "2023-01-02T17:54:46.758Z"
   },
   {
    "duration": 265,
    "start_time": "2023-01-02T17:54:57.742Z"
   },
   {
    "duration": 197,
    "start_time": "2023-01-02T17:55:08.549Z"
   },
   {
    "duration": 125,
    "start_time": "2023-01-02T17:55:50.287Z"
   },
   {
    "duration": 221,
    "start_time": "2023-01-02T17:55:58.534Z"
   },
   {
    "duration": 124,
    "start_time": "2023-01-02T17:59:14.911Z"
   },
   {
    "duration": 206,
    "start_time": "2023-01-02T17:59:23.331Z"
   },
   {
    "duration": 201,
    "start_time": "2023-01-02T18:00:40.219Z"
   },
   {
    "duration": 206,
    "start_time": "2023-01-02T18:00:48.820Z"
   },
   {
    "duration": 204,
    "start_time": "2023-01-02T18:00:58.412Z"
   },
   {
    "duration": 203,
    "start_time": "2023-01-02T18:01:04.058Z"
   },
   {
    "duration": 206,
    "start_time": "2023-01-02T18:01:12.027Z"
   },
   {
    "duration": 178,
    "start_time": "2023-01-02T18:03:48.819Z"
   },
   {
    "duration": 117,
    "start_time": "2023-01-02T18:03:53.340Z"
   },
   {
    "duration": 136,
    "start_time": "2023-01-02T18:04:18.126Z"
   },
   {
    "duration": 228,
    "start_time": "2023-01-02T18:04:26.250Z"
   },
   {
    "duration": 281,
    "start_time": "2023-01-02T18:06:03.435Z"
   },
   {
    "duration": 612,
    "start_time": "2023-01-02T18:07:49.866Z"
   },
   {
    "duration": 12,
    "start_time": "2023-01-02T18:07:50.480Z"
   },
   {
    "duration": 14,
    "start_time": "2023-01-02T18:07:50.494Z"
   },
   {
    "duration": 13,
    "start_time": "2023-01-02T18:07:50.509Z"
   },
   {
    "duration": 4,
    "start_time": "2023-01-02T18:07:50.523Z"
   },
   {
    "duration": 8,
    "start_time": "2023-01-02T18:07:50.528Z"
   },
   {
    "duration": 4,
    "start_time": "2023-01-02T18:07:50.537Z"
   },
   {
    "duration": 6,
    "start_time": "2023-01-02T18:07:50.543Z"
   },
   {
    "duration": 3,
    "start_time": "2023-01-02T18:07:50.550Z"
   },
   {
    "duration": 14,
    "start_time": "2023-01-02T18:07:50.555Z"
   },
   {
    "duration": 11,
    "start_time": "2023-01-02T18:07:50.571Z"
   },
   {
    "duration": 39,
    "start_time": "2023-01-02T18:07:50.583Z"
   },
   {
    "duration": 15,
    "start_time": "2023-01-02T18:07:50.624Z"
   },
   {
    "duration": 17,
    "start_time": "2023-01-02T18:07:50.641Z"
   },
   {
    "duration": 13,
    "start_time": "2023-01-02T18:07:50.659Z"
   },
   {
    "duration": 42,
    "start_time": "2023-01-02T18:07:50.674Z"
   },
   {
    "duration": 18,
    "start_time": "2023-01-02T18:07:50.717Z"
   },
   {
    "duration": 5,
    "start_time": "2023-01-02T18:07:50.737Z"
   },
   {
    "duration": 16,
    "start_time": "2023-01-02T18:07:50.743Z"
   },
   {
    "duration": 10,
    "start_time": "2023-01-02T18:07:50.761Z"
   },
   {
    "duration": 194,
    "start_time": "2023-01-02T18:07:50.772Z"
   },
   {
    "duration": 7,
    "start_time": "2023-01-02T18:07:50.968Z"
   },
   {
    "duration": 8,
    "start_time": "2023-01-02T18:07:50.976Z"
   },
   {
    "duration": 31,
    "start_time": "2023-01-02T18:07:50.985Z"
   },
   {
    "duration": 321,
    "start_time": "2023-01-02T18:07:51.018Z"
   },
   {
    "duration": 142,
    "start_time": "2023-01-02T18:07:51.341Z"
   },
   {
    "duration": 352,
    "start_time": "2023-01-02T18:07:51.485Z"
   },
   {
    "duration": 206,
    "start_time": "2023-01-02T18:09:18.415Z"
   },
   {
    "duration": 209,
    "start_time": "2023-01-02T18:09:23.040Z"
   },
   {
    "duration": 296,
    "start_time": "2023-01-02T18:10:10.254Z"
   },
   {
    "duration": 190,
    "start_time": "2023-01-02T18:10:20.513Z"
   },
   {
    "duration": 182,
    "start_time": "2023-01-02T18:11:09.658Z"
   },
   {
    "duration": 284,
    "start_time": "2023-01-02T18:11:14.283Z"
   },
   {
    "duration": 47,
    "start_time": "2023-01-02T18:11:30.831Z"
   },
   {
    "duration": 335,
    "start_time": "2023-01-02T18:11:38.187Z"
   },
   {
    "duration": 293,
    "start_time": "2023-01-02T18:11:56.486Z"
   },
   {
    "duration": 277,
    "start_time": "2023-01-02T18:12:20.487Z"
   },
   {
    "duration": 257,
    "start_time": "2023-01-02T18:14:06.851Z"
   },
   {
    "duration": 208,
    "start_time": "2023-01-02T18:14:50.744Z"
   },
   {
    "duration": 220,
    "start_time": "2023-01-02T18:15:00.037Z"
   },
   {
    "duration": 287,
    "start_time": "2023-01-02T18:16:45.695Z"
   },
   {
    "duration": 349,
    "start_time": "2023-01-02T18:17:07.856Z"
   },
   {
    "duration": 289,
    "start_time": "2023-01-02T18:17:11.835Z"
   },
   {
    "duration": 12,
    "start_time": "2023-01-02T18:17:20.015Z"
   },
   {
    "duration": 283,
    "start_time": "2023-01-02T18:17:23.955Z"
   },
   {
    "duration": 269,
    "start_time": "2023-01-02T18:17:28.899Z"
   },
   {
    "duration": 267,
    "start_time": "2023-01-02T18:17:32.594Z"
   },
   {
    "duration": 337,
    "start_time": "2023-01-02T18:18:20.608Z"
   },
   {
    "duration": 1387,
    "start_time": "2023-01-02T18:18:48.539Z"
   },
   {
    "duration": 272,
    "start_time": "2023-01-02T18:19:01.727Z"
   },
   {
    "duration": 218,
    "start_time": "2023-01-02T18:19:27.116Z"
   },
   {
    "duration": 133,
    "start_time": "2023-01-02T18:19:32.005Z"
   },
   {
    "duration": 118,
    "start_time": "2023-01-02T18:19:35.770Z"
   },
   {
    "duration": 297,
    "start_time": "2023-01-02T18:19:42.619Z"
   },
   {
    "duration": 283,
    "start_time": "2023-01-02T18:20:05.821Z"
   },
   {
    "duration": 836,
    "start_time": "2023-01-04T21:18:54.734Z"
   },
   {
    "duration": 16,
    "start_time": "2023-01-04T21:18:55.572Z"
   },
   {
    "duration": 14,
    "start_time": "2023-01-04T21:18:55.590Z"
   },
   {
    "duration": 17,
    "start_time": "2023-01-04T21:18:55.606Z"
   },
   {
    "duration": 5,
    "start_time": "2023-01-04T21:18:55.625Z"
   },
   {
    "duration": 9,
    "start_time": "2023-01-04T21:18:55.632Z"
   },
   {
    "duration": 7,
    "start_time": "2023-01-04T21:18:55.642Z"
   },
   {
    "duration": 7,
    "start_time": "2023-01-04T21:18:55.650Z"
   },
   {
    "duration": 2,
    "start_time": "2023-01-04T21:18:55.659Z"
   },
   {
    "duration": 15,
    "start_time": "2023-01-04T21:18:55.664Z"
   },
   {
    "duration": 12,
    "start_time": "2023-01-04T21:18:55.680Z"
   },
   {
    "duration": 13,
    "start_time": "2023-01-04T21:18:55.715Z"
   },
   {
    "duration": 18,
    "start_time": "2023-01-04T21:18:55.730Z"
   },
   {
    "duration": 17,
    "start_time": "2023-01-04T21:18:55.750Z"
   },
   {
    "duration": 15,
    "start_time": "2023-01-04T21:18:55.768Z"
   },
   {
    "duration": 39,
    "start_time": "2023-01-04T21:18:55.785Z"
   },
   {
    "duration": 21,
    "start_time": "2023-01-04T21:18:55.826Z"
   },
   {
    "duration": 5,
    "start_time": "2023-01-04T21:18:55.849Z"
   },
   {
    "duration": 22,
    "start_time": "2023-01-04T21:18:55.856Z"
   },
   {
    "duration": 9,
    "start_time": "2023-01-04T21:18:55.879Z"
   },
   {
    "duration": 196,
    "start_time": "2023-01-04T21:18:55.889Z"
   },
   {
    "duration": 7,
    "start_time": "2023-01-04T21:18:56.086Z"
   },
   {
    "duration": 8,
    "start_time": "2023-01-04T21:18:56.094Z"
   },
   {
    "duration": 20,
    "start_time": "2023-01-04T21:18:56.103Z"
   },
   {
    "duration": 367,
    "start_time": "2023-01-04T21:18:56.125Z"
   },
   {
    "duration": 319,
    "start_time": "2023-01-04T21:18:56.494Z"
   },
   {
    "duration": 301,
    "start_time": "2023-01-04T21:18:56.815Z"
   },
   {
    "duration": 3,
    "start_time": "2023-01-04T21:18:57.118Z"
   },
   {
    "duration": 7,
    "start_time": "2023-01-04T21:18:57.122Z"
   },
   {
    "duration": 274,
    "start_time": "2023-01-04T21:21:32.912Z"
   },
   {
    "duration": 2,
    "start_time": "2023-01-04T21:22:14.722Z"
   },
   {
    "duration": 910,
    "start_time": "2023-01-05T14:52:19.066Z"
   },
   {
    "duration": 14,
    "start_time": "2023-01-05T14:52:19.977Z"
   },
   {
    "duration": 13,
    "start_time": "2023-01-05T14:52:19.993Z"
   },
   {
    "duration": 17,
    "start_time": "2023-01-05T14:52:20.007Z"
   },
   {
    "duration": 4,
    "start_time": "2023-01-05T14:52:20.026Z"
   },
   {
    "duration": 9,
    "start_time": "2023-01-05T14:52:20.032Z"
   },
   {
    "duration": 5,
    "start_time": "2023-01-05T14:52:20.042Z"
   },
   {
    "duration": 14,
    "start_time": "2023-01-05T14:52:20.048Z"
   },
   {
    "duration": 5,
    "start_time": "2023-01-05T14:52:20.064Z"
   },
   {
    "duration": 14,
    "start_time": "2023-01-05T14:52:20.070Z"
   },
   {
    "duration": 27,
    "start_time": "2023-01-05T14:52:20.086Z"
   },
   {
    "duration": 14,
    "start_time": "2023-01-05T14:52:20.114Z"
   },
   {
    "duration": 18,
    "start_time": "2023-01-05T14:52:20.129Z"
   },
   {
    "duration": 18,
    "start_time": "2023-01-05T14:52:20.150Z"
   },
   {
    "duration": 40,
    "start_time": "2023-01-05T14:52:20.170Z"
   },
   {
    "duration": 13,
    "start_time": "2023-01-05T14:52:20.212Z"
   },
   {
    "duration": 18,
    "start_time": "2023-01-05T14:52:20.226Z"
   },
   {
    "duration": 5,
    "start_time": "2023-01-05T14:52:20.246Z"
   },
   {
    "duration": 15,
    "start_time": "2023-01-05T14:52:20.253Z"
   },
   {
    "duration": 41,
    "start_time": "2023-01-05T14:52:20.269Z"
   },
   {
    "duration": 195,
    "start_time": "2023-01-05T14:52:20.311Z"
   },
   {
    "duration": 7,
    "start_time": "2023-01-05T14:52:20.508Z"
   },
   {
    "duration": 12,
    "start_time": "2023-01-05T14:52:20.516Z"
   },
   {
    "duration": 17,
    "start_time": "2023-01-05T14:52:20.530Z"
   },
   {
    "duration": 345,
    "start_time": "2023-01-05T14:52:20.548Z"
   },
   {
    "duration": 344,
    "start_time": "2023-01-05T14:52:20.895Z"
   },
   {
    "duration": 332,
    "start_time": "2023-01-05T14:52:21.241Z"
   },
   {
    "duration": 2,
    "start_time": "2023-01-05T14:52:21.575Z"
   },
   {
    "duration": 8,
    "start_time": "2023-01-05T14:52:21.578Z"
   },
   {
    "duration": 408,
    "start_time": "2023-01-05T14:56:42.746Z"
   },
   {
    "duration": 192,
    "start_time": "2023-01-05T14:57:16.176Z"
   },
   {
    "duration": 387,
    "start_time": "2023-01-05T15:14:31.354Z"
   },
   {
    "duration": 285,
    "start_time": "2023-01-05T15:14:37.622Z"
   },
   {
    "duration": 250,
    "start_time": "2023-01-05T15:15:09.214Z"
   },
   {
    "duration": 11,
    "start_time": "2023-01-05T15:15:21.301Z"
   },
   {
    "duration": 217,
    "start_time": "2023-01-05T15:15:25.447Z"
   },
   {
    "duration": 207,
    "start_time": "2023-01-05T15:15:49.778Z"
   },
   {
    "duration": 211,
    "start_time": "2023-01-05T15:15:54.529Z"
   },
   {
    "duration": 297,
    "start_time": "2023-01-05T15:16:07.884Z"
   },
   {
    "duration": 290,
    "start_time": "2023-01-05T15:16:37.514Z"
   },
   {
    "duration": 67,
    "start_time": "2023-01-05T15:16:48.674Z"
   },
   {
    "duration": 89,
    "start_time": "2023-01-05T15:16:55.874Z"
   },
   {
    "duration": 291,
    "start_time": "2023-01-05T15:17:02.638Z"
   },
   {
    "duration": 358,
    "start_time": "2023-01-05T15:17:06.777Z"
   },
   {
    "duration": 329,
    "start_time": "2023-01-05T15:20:00.398Z"
   },
   {
    "duration": 285,
    "start_time": "2023-01-05T15:20:12.201Z"
   },
   {
    "duration": 281,
    "start_time": "2023-01-05T15:20:16.340Z"
   },
   {
    "duration": 273,
    "start_time": "2023-01-05T15:20:24.283Z"
   },
   {
    "duration": 630,
    "start_time": "2023-01-05T15:20:58.570Z"
   },
   {
    "duration": 688,
    "start_time": "2023-01-05T15:21:17.526Z"
   },
   {
    "duration": 1512,
    "start_time": "2023-01-05T15:22:20.903Z"
   },
   {
    "duration": 462,
    "start_time": "2023-01-05T15:47:53.802Z"
   },
   {
    "duration": 521,
    "start_time": "2023-01-05T15:48:12.340Z"
   },
   {
    "duration": 442,
    "start_time": "2023-01-05T15:50:17.658Z"
   },
   {
    "duration": 16,
    "start_time": "2023-01-05T15:50:57.614Z"
   },
   {
    "duration": 13,
    "start_time": "2023-01-05T15:51:06.432Z"
   },
   {
    "duration": 460,
    "start_time": "2023-01-05T15:51:17.865Z"
   },
   {
    "duration": 550,
    "start_time": "2023-01-05T15:58:28.167Z"
   },
   {
    "duration": 430,
    "start_time": "2023-01-05T15:58:48.460Z"
   },
   {
    "duration": 496,
    "start_time": "2023-01-05T15:58:56.158Z"
   },
   {
    "duration": 25,
    "start_time": "2023-01-05T16:00:11.613Z"
   },
   {
    "duration": 4,
    "start_time": "2023-01-05T16:00:23.607Z"
   },
   {
    "duration": 8,
    "start_time": "2023-01-05T16:00:34.318Z"
   },
   {
    "duration": 31,
    "start_time": "2023-01-05T16:00:42.784Z"
   },
   {
    "duration": 16,
    "start_time": "2023-01-05T16:01:10.680Z"
   },
   {
    "duration": 218,
    "start_time": "2023-01-05T16:01:22.266Z"
   },
   {
    "duration": 6,
    "start_time": "2023-01-05T16:01:49.209Z"
   },
   {
    "duration": 217,
    "start_time": "2023-01-05T16:01:51.080Z"
   },
   {
    "duration": 8,
    "start_time": "2023-01-05T16:03:45.909Z"
   },
   {
    "duration": 211,
    "start_time": "2023-01-05T16:03:47.042Z"
   },
   {
    "duration": 19,
    "start_time": "2023-01-05T16:04:10.038Z"
   },
   {
    "duration": 17,
    "start_time": "2023-01-05T16:04:18.674Z"
   },
   {
    "duration": 7,
    "start_time": "2023-01-05T16:04:25.061Z"
   },
   {
    "duration": 217,
    "start_time": "2023-01-05T16:04:26.544Z"
   },
   {
    "duration": 5,
    "start_time": "2023-01-05T16:10:43.400Z"
   },
   {
    "duration": 7,
    "start_time": "2023-01-05T16:10:52.960Z"
   },
   {
    "duration": 10,
    "start_time": "2023-01-05T16:14:16.901Z"
   },
   {
    "duration": 8,
    "start_time": "2023-01-05T16:16:00.064Z"
   },
   {
    "duration": 99,
    "start_time": "2023-01-05T16:16:41.285Z"
   },
   {
    "duration": 7,
    "start_time": "2023-01-05T16:16:46.212Z"
   },
   {
    "duration": 5,
    "start_time": "2023-01-05T16:17:05.067Z"
   },
   {
    "duration": 9,
    "start_time": "2023-01-05T16:17:15.099Z"
   },
   {
    "duration": 12,
    "start_time": "2023-01-05T16:17:37.714Z"
   },
   {
    "duration": 7,
    "start_time": "2023-01-05T16:18:02.225Z"
   },
   {
    "duration": 8,
    "start_time": "2023-01-05T16:18:26.185Z"
   },
   {
    "duration": 7,
    "start_time": "2023-01-05T16:18:41.338Z"
   },
   {
    "duration": 8,
    "start_time": "2023-01-05T16:18:49.909Z"
   },
   {
    "duration": 7,
    "start_time": "2023-01-05T16:19:03.779Z"
   },
   {
    "duration": 9,
    "start_time": "2023-01-05T16:19:29.224Z"
   },
   {
    "duration": 7,
    "start_time": "2023-01-05T16:19:45.928Z"
   },
   {
    "duration": 2,
    "start_time": "2023-01-05T16:19:56.254Z"
   },
   {
    "duration": 9,
    "start_time": "2023-01-05T16:20:08.146Z"
   },
   {
    "duration": 8,
    "start_time": "2023-01-05T16:20:17.251Z"
   },
   {
    "duration": 11,
    "start_time": "2023-01-05T16:20:46.596Z"
   },
   {
    "duration": 326,
    "start_time": "2023-01-05T16:20:52.681Z"
   },
   {
    "duration": 1442,
    "start_time": "2023-01-05T16:22:43.136Z"
   },
   {
    "duration": 366,
    "start_time": "2023-01-05T16:22:54.881Z"
   },
   {
    "duration": 392,
    "start_time": "2023-01-05T16:24:34.286Z"
   },
   {
    "duration": 312,
    "start_time": "2023-01-05T16:25:02.412Z"
   },
   {
    "duration": 7,
    "start_time": "2023-01-05T16:25:36.550Z"
   },
   {
    "duration": 195,
    "start_time": "2023-01-05T16:25:37.816Z"
   },
   {
    "duration": 2523,
    "start_time": "2023-01-05T16:27:27.951Z"
   },
   {
    "duration": 473,
    "start_time": "2023-01-05T16:28:01.573Z"
   },
   {
    "duration": 239,
    "start_time": "2023-01-05T16:28:37.336Z"
   },
   {
    "duration": 264,
    "start_time": "2023-01-05T16:29:02.498Z"
   },
   {
    "duration": 232,
    "start_time": "2023-01-05T16:29:19.243Z"
   },
   {
    "duration": 2,
    "start_time": "2023-01-05T16:30:22.289Z"
   },
   {
    "duration": 8,
    "start_time": "2023-01-05T16:33:26.851Z"
   },
   {
    "duration": 204,
    "start_time": "2023-01-05T16:33:27.484Z"
   },
   {
    "duration": 2,
    "start_time": "2023-01-05T16:35:27.844Z"
   },
   {
    "duration": 2,
    "start_time": "2023-01-05T16:35:32.463Z"
   },
   {
    "duration": 240,
    "start_time": "2023-01-05T16:36:08.360Z"
   },
   {
    "duration": 217,
    "start_time": "2023-01-05T17:08:15.149Z"
   },
   {
    "duration": 115,
    "start_time": "2023-01-05T17:08:45.547Z"
   },
   {
    "duration": 2221,
    "start_time": "2023-01-05T17:08:58.165Z"
   },
   {
    "duration": 125,
    "start_time": "2023-01-05T17:09:04.732Z"
   },
   {
    "duration": 119,
    "start_time": "2023-01-05T17:09:15.859Z"
   },
   {
    "duration": 126,
    "start_time": "2023-01-05T17:09:31.799Z"
   },
   {
    "duration": 126,
    "start_time": "2023-01-05T17:09:43.050Z"
   },
   {
    "duration": 131,
    "start_time": "2023-01-05T17:10:12.497Z"
   },
   {
    "duration": 150,
    "start_time": "2023-01-05T17:10:30.687Z"
   },
   {
    "duration": 273,
    "start_time": "2023-01-05T17:11:22.303Z"
   },
   {
    "duration": 99,
    "start_time": "2023-01-05T17:34:08.736Z"
   },
   {
    "duration": 5,
    "start_time": "2023-01-05T17:34:14.346Z"
   },
   {
    "duration": 5,
    "start_time": "2023-01-05T17:43:52.779Z"
   },
   {
    "duration": 1362,
    "start_time": "2023-01-05T17:48:03.931Z"
   },
   {
    "duration": 144,
    "start_time": "2023-01-05T17:48:22.882Z"
   },
   {
    "duration": 76,
    "start_time": "2023-01-05T17:48:26.379Z"
   },
   {
    "duration": 1414,
    "start_time": "2023-01-05T17:48:38.222Z"
   },
   {
    "duration": 1369,
    "start_time": "2023-01-05T17:49:49.108Z"
   },
   {
    "duration": 1510,
    "start_time": "2023-01-05T17:49:56.059Z"
   },
   {
    "duration": 8,
    "start_time": "2023-01-05T17:51:20.217Z"
   },
   {
    "duration": 8,
    "start_time": "2023-01-05T17:51:31.781Z"
   },
   {
    "duration": 1439,
    "start_time": "2023-01-05T17:51:57.232Z"
   },
   {
    "duration": 1607,
    "start_time": "2023-01-05T17:52:27.311Z"
   },
   {
    "duration": 1429,
    "start_time": "2023-01-05T17:57:22.848Z"
   },
   {
    "duration": 156,
    "start_time": "2023-01-05T17:57:56.653Z"
   },
   {
    "duration": 153,
    "start_time": "2023-01-05T17:58:13.208Z"
   },
   {
    "duration": 1538,
    "start_time": "2023-01-05T17:58:53.646Z"
   },
   {
    "duration": 11,
    "start_time": "2023-01-05T17:59:25.712Z"
   },
   {
    "duration": 24,
    "start_time": "2023-01-05T18:00:15.914Z"
   },
   {
    "duration": 1459,
    "start_time": "2023-01-05T18:00:46.791Z"
   },
   {
    "duration": 1384,
    "start_time": "2023-01-05T18:00:58.242Z"
   },
   {
    "duration": 22,
    "start_time": "2023-01-05T18:01:12.938Z"
   },
   {
    "duration": 25,
    "start_time": "2023-01-05T18:01:25.682Z"
   },
   {
    "duration": 1518,
    "start_time": "2023-01-05T18:44:29.864Z"
   },
   {
    "duration": 25,
    "start_time": "2023-01-05T18:46:57.362Z"
   },
   {
    "duration": 23,
    "start_time": "2023-01-05T18:47:46.652Z"
   },
   {
    "duration": 6,
    "start_time": "2023-01-05T18:51:34.224Z"
   },
   {
    "duration": 3,
    "start_time": "2023-01-05T18:52:07.488Z"
   },
   {
    "duration": 14,
    "start_time": "2023-01-05T21:05:17.343Z"
   },
   {
    "duration": 6,
    "start_time": "2023-01-05T21:05:40.812Z"
   },
   {
    "duration": 8,
    "start_time": "2023-01-05T21:05:52.402Z"
   },
   {
    "duration": 8,
    "start_time": "2023-01-05T21:06:26.706Z"
   },
   {
    "duration": 7,
    "start_time": "2023-01-05T21:06:33.801Z"
   },
   {
    "duration": 12,
    "start_time": "2023-01-05T21:09:11.282Z"
   },
   {
    "duration": 142,
    "start_time": "2023-01-05T21:09:21.419Z"
   },
   {
    "duration": 156,
    "start_time": "2023-01-05T21:09:38.705Z"
   },
   {
    "duration": 168,
    "start_time": "2023-01-05T21:10:07.338Z"
   },
   {
    "duration": 152,
    "start_time": "2023-01-05T21:10:12.728Z"
   },
   {
    "duration": 180,
    "start_time": "2023-01-05T21:10:18.082Z"
   },
   {
    "duration": 162,
    "start_time": "2023-01-05T21:11:21.366Z"
   },
   {
    "duration": 10,
    "start_time": "2023-01-05T21:12:05.556Z"
   },
   {
    "duration": 8,
    "start_time": "2023-01-05T21:12:22.654Z"
   },
   {
    "duration": 8,
    "start_time": "2023-01-05T21:12:32.390Z"
   },
   {
    "duration": 7,
    "start_time": "2023-01-05T21:12:50.928Z"
   },
   {
    "duration": 157,
    "start_time": "2023-01-05T21:13:01.074Z"
   },
   {
    "duration": 6,
    "start_time": "2023-01-05T21:16:20.581Z"
   },
   {
    "duration": 6,
    "start_time": "2023-01-05T21:19:41.244Z"
   },
   {
    "duration": 6,
    "start_time": "2023-01-05T21:23:19.166Z"
   },
   {
    "duration": 7,
    "start_time": "2023-01-05T21:26:41.324Z"
   },
   {
    "duration": 7,
    "start_time": "2023-01-05T21:26:49.822Z"
   },
   {
    "duration": 123,
    "start_time": "2023-01-05T21:27:19.964Z"
   },
   {
    "duration": 8,
    "start_time": "2023-01-05T21:27:34.246Z"
   },
   {
    "duration": 2,
    "start_time": "2023-01-05T21:28:06.603Z"
   },
   {
    "duration": 7,
    "start_time": "2023-01-05T21:47:03.226Z"
   },
   {
    "duration": 7,
    "start_time": "2023-01-05T21:47:20.532Z"
   },
   {
    "duration": 9,
    "start_time": "2023-01-05T21:48:06.813Z"
   },
   {
    "duration": 8,
    "start_time": "2023-01-05T21:48:27.286Z"
   },
   {
    "duration": 8,
    "start_time": "2023-01-05T21:48:58.617Z"
   },
   {
    "duration": 60,
    "start_time": "2023-01-05T21:52:15.088Z"
   },
   {
    "duration": 63,
    "start_time": "2023-01-05T21:52:32.204Z"
   },
   {
    "duration": 111,
    "start_time": "2023-01-05T21:56:44.618Z"
   },
   {
    "duration": 100,
    "start_time": "2023-01-05T21:56:56.721Z"
   },
   {
    "duration": 219,
    "start_time": "2023-01-05T21:57:04.225Z"
   },
   {
    "duration": 79,
    "start_time": "2023-01-05T21:57:19.695Z"
   },
   {
    "duration": 77,
    "start_time": "2023-01-05T21:57:28.674Z"
   },
   {
    "duration": 84,
    "start_time": "2023-01-05T21:58:03.904Z"
   },
   {
    "duration": 99,
    "start_time": "2023-01-05T22:00:34.347Z"
   },
   {
    "duration": 104,
    "start_time": "2023-01-05T22:01:12.256Z"
   },
   {
    "duration": 98,
    "start_time": "2023-01-05T22:01:36.608Z"
   },
   {
    "duration": 77,
    "start_time": "2023-01-05T22:01:41.381Z"
   },
   {
    "duration": 957,
    "start_time": "2023-01-06T07:54:51.835Z"
   },
   {
    "duration": 14,
    "start_time": "2023-01-06T07:54:52.794Z"
   },
   {
    "duration": 17,
    "start_time": "2023-01-06T07:54:52.809Z"
   },
   {
    "duration": 25,
    "start_time": "2023-01-06T07:54:52.827Z"
   },
   {
    "duration": 5,
    "start_time": "2023-01-06T07:54:52.853Z"
   },
   {
    "duration": 21,
    "start_time": "2023-01-06T07:54:52.860Z"
   },
   {
    "duration": 5,
    "start_time": "2023-01-06T07:54:52.882Z"
   },
   {
    "duration": 14,
    "start_time": "2023-01-06T07:54:52.889Z"
   },
   {
    "duration": 8,
    "start_time": "2023-01-06T07:54:52.904Z"
   },
   {
    "duration": 15,
    "start_time": "2023-01-06T07:54:52.914Z"
   },
   {
    "duration": 17,
    "start_time": "2023-01-06T07:54:52.931Z"
   },
   {
    "duration": 28,
    "start_time": "2023-01-06T07:54:52.950Z"
   },
   {
    "duration": 17,
    "start_time": "2023-01-06T07:54:52.980Z"
   },
   {
    "duration": 20,
    "start_time": "2023-01-06T07:54:52.999Z"
   },
   {
    "duration": 15,
    "start_time": "2023-01-06T07:54:53.020Z"
   },
   {
    "duration": 43,
    "start_time": "2023-01-06T07:54:53.037Z"
   },
   {
    "duration": 34,
    "start_time": "2023-01-06T07:54:53.081Z"
   },
   {
    "duration": 6,
    "start_time": "2023-01-06T07:54:53.117Z"
   },
   {
    "duration": 32,
    "start_time": "2023-01-06T07:54:53.124Z"
   },
   {
    "duration": 9,
    "start_time": "2023-01-06T07:54:53.158Z"
   },
   {
    "duration": 172,
    "start_time": "2023-01-06T07:54:53.169Z"
   },
   {
    "duration": 6,
    "start_time": "2023-01-06T07:54:53.343Z"
   },
   {
    "duration": 4,
    "start_time": "2023-01-06T07:54:53.351Z"
   },
   {
    "duration": 25,
    "start_time": "2023-01-06T07:54:53.356Z"
   },
   {
    "duration": 2,
    "start_time": "2023-01-06T07:54:53.383Z"
   },
   {
    "duration": 1437,
    "start_time": "2023-01-06T07:54:53.387Z"
   },
   {
    "duration": 241,
    "start_time": "2023-01-06T07:54:54.827Z"
   },
   {
    "duration": 8,
    "start_time": "2023-01-06T07:54:55.072Z"
   },
   {
    "duration": 235,
    "start_time": "2023-01-06T07:54:55.082Z"
   },
   {
    "duration": 8,
    "start_time": "2023-01-06T07:54:55.319Z"
   },
   {
    "duration": 204,
    "start_time": "2023-01-06T07:54:55.328Z"
   },
   {
    "duration": 373,
    "start_time": "2023-01-06T07:54:55.534Z"
   },
   {
    "duration": 9,
    "start_time": "2023-01-06T07:54:55.908Z"
   },
   {
    "duration": 12,
    "start_time": "2023-01-06T07:54:55.919Z"
   },
   {
    "duration": 1368,
    "start_time": "2023-01-06T07:54:55.933Z"
   },
   {
    "duration": 24,
    "start_time": "2023-01-06T07:54:57.303Z"
   },
   {
    "duration": 1349,
    "start_time": "2023-01-06T07:54:57.329Z"
   },
   {
    "duration": 26,
    "start_time": "2023-01-06T07:54:58.680Z"
   },
   {
    "duration": 2,
    "start_time": "2023-01-06T07:54:58.708Z"
   },
   {
    "duration": 198,
    "start_time": "2023-01-06T07:54:58.712Z"
   },
   {
    "duration": 9,
    "start_time": "2023-01-06T07:54:58.912Z"
   },
   {
    "duration": 3,
    "start_time": "2023-01-06T07:54:58.923Z"
   },
   {
    "duration": 183,
    "start_time": "2023-01-06T07:54:58.928Z"
   },
   {
    "duration": 7,
    "start_time": "2023-01-06T07:54:59.112Z"
   },
   {
    "duration": 20,
    "start_time": "2023-01-06T07:54:59.120Z"
   },
   {
    "duration": 192,
    "start_time": "2023-01-06T08:04:16.863Z"
   },
   {
    "duration": 95,
    "start_time": "2023-01-06T08:04:35.541Z"
   },
   {
    "duration": 76,
    "start_time": "2023-01-06T08:04:49.558Z"
   },
   {
    "duration": 93,
    "start_time": "2023-01-06T08:04:59.703Z"
   },
   {
    "duration": 80,
    "start_time": "2023-01-06T08:05:04.228Z"
   },
   {
    "duration": 159,
    "start_time": "2023-01-06T08:05:45.001Z"
   },
   {
    "duration": 83,
    "start_time": "2023-01-06T08:06:00.461Z"
   },
   {
    "duration": 98,
    "start_time": "2023-01-06T08:06:09.353Z"
   },
   {
    "duration": 87,
    "start_time": "2023-01-06T08:08:01.573Z"
   },
   {
    "duration": 73,
    "start_time": "2023-01-06T08:09:06.766Z"
   },
   {
    "duration": 74,
    "start_time": "2023-01-06T08:13:34.587Z"
   },
   {
    "duration": 160,
    "start_time": "2023-01-06T08:13:40.270Z"
   },
   {
    "duration": 83,
    "start_time": "2023-01-06T08:14:06.116Z"
   },
   {
    "duration": 75,
    "start_time": "2023-01-06T08:14:17.473Z"
   },
   {
    "duration": 71,
    "start_time": "2023-01-06T08:15:22.962Z"
   },
   {
    "duration": 124,
    "start_time": "2023-01-06T08:15:39.478Z"
   },
   {
    "duration": 89,
    "start_time": "2023-01-06T08:16:13.624Z"
   },
   {
    "duration": 72,
    "start_time": "2023-01-06T08:16:19.584Z"
   },
   {
    "duration": 106,
    "start_time": "2023-01-06T08:16:28.803Z"
   },
   {
    "duration": 111,
    "start_time": "2023-01-06T08:16:34.916Z"
   },
   {
    "duration": 101,
    "start_time": "2023-01-06T08:16:57.303Z"
   },
   {
    "duration": 107,
    "start_time": "2023-01-06T08:17:02.393Z"
   },
   {
    "duration": 139,
    "start_time": "2023-01-06T08:17:09.269Z"
   },
   {
    "duration": 72,
    "start_time": "2023-01-06T08:17:23.335Z"
   },
   {
    "duration": 70,
    "start_time": "2023-01-06T08:21:16.511Z"
   },
   {
    "duration": 11,
    "start_time": "2023-01-06T08:21:23.143Z"
   },
   {
    "duration": 101,
    "start_time": "2023-01-06T08:22:13.588Z"
   },
   {
    "duration": 116,
    "start_time": "2023-01-06T08:23:01.113Z"
   },
   {
    "duration": 85,
    "start_time": "2023-01-06T08:23:26.435Z"
   },
   {
    "duration": 88,
    "start_time": "2023-01-06T08:24:47.305Z"
   },
   {
    "duration": 91,
    "start_time": "2023-01-06T08:36:48.341Z"
   },
   {
    "duration": 959,
    "start_time": "2023-01-06T12:25:00.304Z"
   },
   {
    "duration": 15,
    "start_time": "2023-01-06T12:25:01.265Z"
   },
   {
    "duration": 36,
    "start_time": "2023-01-06T12:25:01.281Z"
   },
   {
    "duration": 44,
    "start_time": "2023-01-06T12:25:01.318Z"
   },
   {
    "duration": 20,
    "start_time": "2023-01-06T12:25:01.364Z"
   },
   {
    "duration": 31,
    "start_time": "2023-01-06T12:25:01.385Z"
   },
   {
    "duration": 34,
    "start_time": "2023-01-06T12:25:01.418Z"
   },
   {
    "duration": 49,
    "start_time": "2023-01-06T12:25:01.454Z"
   },
   {
    "duration": 24,
    "start_time": "2023-01-06T12:25:01.505Z"
   },
   {
    "duration": 43,
    "start_time": "2023-01-06T12:25:01.531Z"
   },
   {
    "duration": 25,
    "start_time": "2023-01-06T12:25:01.576Z"
   },
   {
    "duration": 56,
    "start_time": "2023-01-06T12:25:01.603Z"
   },
   {
    "duration": 41,
    "start_time": "2023-01-06T12:25:01.662Z"
   },
   {
    "duration": 23,
    "start_time": "2023-01-06T12:25:01.706Z"
   },
   {
    "duration": 40,
    "start_time": "2023-01-06T12:25:01.731Z"
   },
   {
    "duration": 52,
    "start_time": "2023-01-06T12:25:01.773Z"
   },
   {
    "duration": 62,
    "start_time": "2023-01-06T12:25:01.827Z"
   },
   {
    "duration": 8,
    "start_time": "2023-01-06T12:25:01.891Z"
   },
   {
    "duration": 43,
    "start_time": "2023-01-06T12:25:01.901Z"
   },
   {
    "duration": 13,
    "start_time": "2023-01-06T12:25:01.946Z"
   },
   {
    "duration": 222,
    "start_time": "2023-01-06T12:25:01.960Z"
   },
   {
    "duration": 7,
    "start_time": "2023-01-06T12:25:02.184Z"
   },
   {
    "duration": 33,
    "start_time": "2023-01-06T12:25:02.192Z"
   },
   {
    "duration": 44,
    "start_time": "2023-01-06T12:25:02.226Z"
   },
   {
    "duration": 14,
    "start_time": "2023-01-06T12:25:02.271Z"
   },
   {
    "duration": 1640,
    "start_time": "2023-01-06T12:25:02.286Z"
   },
   {
    "duration": 285,
    "start_time": "2023-01-06T12:25:03.928Z"
   },
   {
    "duration": 7,
    "start_time": "2023-01-06T12:25:04.215Z"
   },
   {
    "duration": 284,
    "start_time": "2023-01-06T12:25:04.224Z"
   },
   {
    "duration": 7,
    "start_time": "2023-01-06T12:25:04.509Z"
   },
   {
    "duration": 263,
    "start_time": "2023-01-06T12:25:04.518Z"
   },
   {
    "duration": 389,
    "start_time": "2023-01-06T12:25:04.783Z"
   },
   {
    "duration": 9,
    "start_time": "2023-01-06T12:25:05.174Z"
   },
   {
    "duration": 37,
    "start_time": "2023-01-06T12:25:05.184Z"
   },
   {
    "duration": 1608,
    "start_time": "2023-01-06T12:25:05.223Z"
   },
   {
    "duration": 26,
    "start_time": "2023-01-06T12:25:06.847Z"
   },
   {
    "duration": 1543,
    "start_time": "2023-01-06T12:25:06.875Z"
   },
   {
    "duration": 39,
    "start_time": "2023-01-06T12:25:08.420Z"
   },
   {
    "duration": 2,
    "start_time": "2023-01-06T12:25:08.461Z"
   },
   {
    "duration": 204,
    "start_time": "2023-01-06T12:25:08.465Z"
   },
   {
    "duration": 8,
    "start_time": "2023-01-06T12:25:08.673Z"
   },
   {
    "duration": 13,
    "start_time": "2023-01-06T12:25:08.683Z"
   },
   {
    "duration": 208,
    "start_time": "2023-01-06T12:25:08.698Z"
   },
   {
    "duration": 114,
    "start_time": "2023-01-06T12:25:08.908Z"
   },
   {
    "duration": 12,
    "start_time": "2023-01-06T12:25:09.024Z"
   },
   {
    "duration": 103,
    "start_time": "2023-01-06T12:25:27.381Z"
   },
   {
    "duration": 97,
    "start_time": "2023-01-06T12:25:41.085Z"
   },
   {
    "duration": 97,
    "start_time": "2023-01-06T12:26:05.208Z"
   },
   {
    "duration": 93,
    "start_time": "2023-01-06T12:26:44.646Z"
   },
   {
    "duration": 93,
    "start_time": "2023-01-06T12:27:23.234Z"
   },
   {
    "duration": 99,
    "start_time": "2023-01-06T12:28:00.618Z"
   },
   {
    "duration": 98,
    "start_time": "2023-01-06T12:28:10.530Z"
   },
   {
    "duration": 104,
    "start_time": "2023-01-06T12:29:10.746Z"
   },
   {
    "duration": 102,
    "start_time": "2023-01-06T12:29:16.954Z"
   },
   {
    "duration": 158,
    "start_time": "2023-01-06T12:29:25.261Z"
   },
   {
    "duration": 102,
    "start_time": "2023-01-06T12:29:34.011Z"
   },
   {
    "duration": 190,
    "start_time": "2023-01-06T12:29:37.653Z"
   },
   {
    "duration": 152,
    "start_time": "2023-01-06T12:29:42.401Z"
   },
   {
    "duration": 115,
    "start_time": "2023-01-06T12:29:46.177Z"
   },
   {
    "duration": 95,
    "start_time": "2023-01-06T12:29:50.587Z"
   },
   {
    "duration": 99,
    "start_time": "2023-01-06T12:29:59.987Z"
   },
   {
    "duration": 98,
    "start_time": "2023-01-06T12:30:05.200Z"
   },
   {
    "duration": 98,
    "start_time": "2023-01-06T12:30:11.085Z"
   },
   {
    "duration": 97,
    "start_time": "2023-01-06T12:30:15.081Z"
   },
   {
    "duration": 101,
    "start_time": "2023-01-06T12:30:18.652Z"
   },
   {
    "duration": 164,
    "start_time": "2023-01-06T12:30:25.805Z"
   },
   {
    "duration": 214,
    "start_time": "2023-01-06T12:32:04.060Z"
   },
   {
    "duration": 126,
    "start_time": "2023-01-06T12:33:49.950Z"
   },
   {
    "duration": 118,
    "start_time": "2023-01-06T12:34:05.414Z"
   },
   {
    "duration": 112,
    "start_time": "2023-01-06T12:34:11.414Z"
   },
   {
    "duration": 113,
    "start_time": "2023-01-06T12:35:02.048Z"
   },
   {
    "duration": 127,
    "start_time": "2023-01-06T13:13:40.387Z"
   },
   {
    "duration": 139,
    "start_time": "2023-01-06T13:13:48.661Z"
   },
   {
    "duration": 202,
    "start_time": "2023-01-06T13:13:53.701Z"
   },
   {
    "duration": 198,
    "start_time": "2023-01-06T13:14:18.232Z"
   },
   {
    "duration": 109,
    "start_time": "2023-01-06T13:16:07.772Z"
   },
   {
    "duration": 239,
    "start_time": "2023-01-06T13:17:26.305Z"
   },
   {
    "duration": 257,
    "start_time": "2023-01-06T13:17:47.870Z"
   },
   {
    "duration": 3,
    "start_time": "2023-01-06T13:18:55.434Z"
   },
   {
    "duration": 98,
    "start_time": "2023-01-06T13:26:24.771Z"
   },
   {
    "duration": 100,
    "start_time": "2023-01-06T13:26:51.651Z"
   },
   {
    "duration": 102,
    "start_time": "2023-01-06T13:27:03.709Z"
   },
   {
    "duration": 93,
    "start_time": "2023-01-06T13:27:33.724Z"
   },
   {
    "duration": 99,
    "start_time": "2023-01-06T13:27:38.901Z"
   },
   {
    "duration": 105,
    "start_time": "2023-01-06T13:27:49.888Z"
   },
   {
    "duration": 135,
    "start_time": "2023-01-06T13:27:56.706Z"
   },
   {
    "duration": 96,
    "start_time": "2023-01-06T13:28:01.062Z"
   },
   {
    "duration": 104,
    "start_time": "2023-01-06T13:28:08.383Z"
   },
   {
    "duration": 103,
    "start_time": "2023-01-06T13:28:11.735Z"
   },
   {
    "duration": 203,
    "start_time": "2023-01-06T13:28:18.846Z"
   },
   {
    "duration": 108,
    "start_time": "2023-01-06T13:28:23.149Z"
   },
   {
    "duration": 134,
    "start_time": "2023-01-06T13:28:27.533Z"
   },
   {
    "duration": 94,
    "start_time": "2023-01-06T13:28:31.114Z"
   },
   {
    "duration": 92,
    "start_time": "2023-01-06T13:28:35.186Z"
   },
   {
    "duration": 107,
    "start_time": "2023-01-06T13:29:08.889Z"
   },
   {
    "duration": 109,
    "start_time": "2023-01-06T13:29:17.630Z"
   },
   {
    "duration": 92,
    "start_time": "2023-01-06T13:29:23.638Z"
   },
   {
    "duration": 129,
    "start_time": "2023-01-06T13:29:28.735Z"
   },
   {
    "duration": 120,
    "start_time": "2023-01-06T13:29:32.639Z"
   },
   {
    "duration": 91,
    "start_time": "2023-01-06T13:29:37.794Z"
   },
   {
    "duration": 162,
    "start_time": "2023-01-06T13:29:41.723Z"
   },
   {
    "duration": 104,
    "start_time": "2023-01-06T13:30:18.501Z"
   },
   {
    "duration": 116,
    "start_time": "2023-01-06T13:30:33.324Z"
   },
   {
    "duration": 107,
    "start_time": "2023-01-06T13:30:58.359Z"
   },
   {
    "duration": 103,
    "start_time": "2023-01-06T13:31:10.522Z"
   },
   {
    "duration": 118,
    "start_time": "2023-01-06T13:31:31.940Z"
   },
   {
    "duration": 97,
    "start_time": "2023-01-06T13:32:15.155Z"
   },
   {
    "duration": 98,
    "start_time": "2023-01-06T13:32:34.607Z"
   },
   {
    "duration": 103,
    "start_time": "2023-01-06T13:32:56.307Z"
   },
   {
    "duration": 105,
    "start_time": "2023-01-06T13:33:01.841Z"
   },
   {
    "duration": 110,
    "start_time": "2023-01-06T13:33:14.067Z"
   },
   {
    "duration": 201,
    "start_time": "2023-01-06T13:33:25.791Z"
   },
   {
    "duration": 133,
    "start_time": "2023-01-06T13:33:30.547Z"
   },
   {
    "duration": 126,
    "start_time": "2023-01-06T13:33:34.274Z"
   },
   {
    "duration": 110,
    "start_time": "2023-01-06T13:33:37.744Z"
   },
   {
    "duration": 153,
    "start_time": "2023-01-06T13:33:48.011Z"
   },
   {
    "duration": 113,
    "start_time": "2023-01-06T13:48:04.826Z"
   },
   {
    "duration": 98,
    "start_time": "2023-01-06T13:48:13.468Z"
   },
   {
    "duration": 107,
    "start_time": "2023-01-06T13:48:27.633Z"
   },
   {
    "duration": 115,
    "start_time": "2023-01-06T13:48:51.990Z"
   },
   {
    "duration": 102,
    "start_time": "2023-01-06T13:49:18.584Z"
   },
   {
    "duration": 89,
    "start_time": "2023-01-06T13:50:05.151Z"
   },
   {
    "duration": 188,
    "start_time": "2023-01-06T13:53:06.724Z"
   },
   {
    "duration": 88,
    "start_time": "2023-01-06T13:53:07.920Z"
   },
   {
    "duration": 94,
    "start_time": "2023-01-06T13:53:08.573Z"
   },
   {
    "duration": 80,
    "start_time": "2023-01-06T18:11:51.995Z"
   },
   {
    "duration": 1329,
    "start_time": "2023-01-06T18:14:20.978Z"
   },
   {
    "duration": 33,
    "start_time": "2023-01-06T18:14:22.310Z"
   },
   {
    "duration": 61,
    "start_time": "2023-01-06T18:14:22.346Z"
   },
   {
    "duration": 60,
    "start_time": "2023-01-06T18:14:22.410Z"
   },
   {
    "duration": 22,
    "start_time": "2023-01-06T18:14:22.477Z"
   },
   {
    "duration": 67,
    "start_time": "2023-01-06T18:14:22.503Z"
   },
   {
    "duration": 27,
    "start_time": "2023-01-06T18:14:22.580Z"
   },
   {
    "duration": 22,
    "start_time": "2023-01-06T18:14:22.610Z"
   },
   {
    "duration": 76,
    "start_time": "2023-01-06T18:14:22.635Z"
   },
   {
    "duration": 31,
    "start_time": "2023-01-06T18:14:22.714Z"
   },
   {
    "duration": 70,
    "start_time": "2023-01-06T18:14:22.748Z"
   },
   {
    "duration": 67,
    "start_time": "2023-01-06T18:14:22.820Z"
   },
   {
    "duration": 57,
    "start_time": "2023-01-06T18:14:22.890Z"
   },
   {
    "duration": 59,
    "start_time": "2023-01-06T18:14:22.951Z"
   },
   {
    "duration": 22,
    "start_time": "2023-01-06T18:14:23.012Z"
   },
   {
    "duration": 41,
    "start_time": "2023-01-06T18:14:23.039Z"
   },
   {
    "duration": 39,
    "start_time": "2023-01-06T18:14:23.083Z"
   },
   {
    "duration": 10,
    "start_time": "2023-01-06T18:14:23.124Z"
   },
   {
    "duration": 56,
    "start_time": "2023-01-06T18:14:23.136Z"
   },
   {
    "duration": 11,
    "start_time": "2023-01-06T18:14:23.195Z"
   },
   {
    "duration": 224,
    "start_time": "2023-01-06T18:14:23.208Z"
   },
   {
    "duration": 17,
    "start_time": "2023-01-06T18:14:23.438Z"
   },
   {
    "duration": 18,
    "start_time": "2023-01-06T18:14:23.460Z"
   },
   {
    "duration": 20,
    "start_time": "2023-01-06T18:14:23.480Z"
   },
   {
    "duration": 16,
    "start_time": "2023-01-06T18:14:23.502Z"
   },
   {
    "duration": 1949,
    "start_time": "2023-01-06T18:14:23.520Z"
   },
   {
    "duration": 321,
    "start_time": "2023-01-06T18:14:25.472Z"
   },
   {
    "duration": 9,
    "start_time": "2023-01-06T18:14:25.795Z"
   },
   {
    "duration": 459,
    "start_time": "2023-01-06T18:14:25.806Z"
   },
   {
    "duration": 10,
    "start_time": "2023-01-06T18:14:26.268Z"
   },
   {
    "duration": 386,
    "start_time": "2023-01-06T18:14:26.280Z"
   },
   {
    "duration": 584,
    "start_time": "2023-01-06T18:14:26.672Z"
   },
   {
    "duration": 12,
    "start_time": "2023-01-06T18:14:27.259Z"
   },
   {
    "duration": 31,
    "start_time": "2023-01-06T18:14:27.274Z"
   },
   {
    "duration": 2274,
    "start_time": "2023-01-06T18:14:27.308Z"
   },
   {
    "duration": 37,
    "start_time": "2023-01-06T18:14:29.585Z"
   },
   {
    "duration": 1682,
    "start_time": "2023-01-06T18:14:29.634Z"
   },
   {
    "duration": 43,
    "start_time": "2023-01-06T18:14:31.319Z"
   },
   {
    "duration": 7,
    "start_time": "2023-01-06T18:14:31.363Z"
   },
   {
    "duration": 259,
    "start_time": "2023-01-06T18:14:31.372Z"
   },
   {
    "duration": 11,
    "start_time": "2023-01-06T18:14:31.647Z"
   },
   {
    "duration": 2,
    "start_time": "2023-01-06T18:14:31.660Z"
   },
   {
    "duration": 249,
    "start_time": "2023-01-06T18:14:31.664Z"
   },
   {
    "duration": 138,
    "start_time": "2023-01-06T18:14:31.915Z"
   },
   {
    "duration": 128,
    "start_time": "2023-01-06T18:14:32.055Z"
   },
   {
    "duration": 184,
    "start_time": "2023-01-06T18:14:32.185Z"
   },
   {
    "duration": 159,
    "start_time": "2023-01-06T18:14:32.372Z"
   },
   {
    "duration": 169,
    "start_time": "2023-01-06T18:14:32.536Z"
   },
   {
    "duration": 172,
    "start_time": "2023-01-06T18:14:32.707Z"
   },
   {
    "duration": 146,
    "start_time": "2023-01-06T18:14:32.883Z"
   },
   {
    "duration": 147,
    "start_time": "2023-01-06T18:14:33.036Z"
   },
   {
    "duration": 11,
    "start_time": "2023-01-06T18:14:39.566Z"
   },
   {
    "duration": 7,
    "start_time": "2023-01-06T18:20:44.258Z"
   },
   {
    "duration": 744,
    "start_time": "2023-01-06T18:21:29.972Z"
   },
   {
    "duration": 16,
    "start_time": "2023-01-06T18:21:30.717Z"
   },
   {
    "duration": 16,
    "start_time": "2023-01-06T18:21:33.564Z"
   },
   {
    "duration": 22,
    "start_time": "2023-01-06T18:21:34.574Z"
   },
   {
    "duration": 8,
    "start_time": "2023-01-06T18:21:45.218Z"
   },
   {
    "duration": 63,
    "start_time": "2023-01-06T18:22:08.257Z"
   },
   {
    "duration": 14,
    "start_time": "2023-01-06T18:22:08.322Z"
   },
   {
    "duration": 22,
    "start_time": "2023-01-06T18:22:08.337Z"
   },
   {
    "duration": 21,
    "start_time": "2023-01-06T18:22:08.360Z"
   },
   {
    "duration": 5,
    "start_time": "2023-01-06T18:22:08.384Z"
   },
   {
    "duration": 22,
    "start_time": "2023-01-06T18:22:08.391Z"
   },
   {
    "duration": 10,
    "start_time": "2023-01-06T18:22:08.415Z"
   },
   {
    "duration": 36,
    "start_time": "2023-01-06T18:22:08.427Z"
   },
   {
    "duration": 15,
    "start_time": "2023-01-06T18:22:08.465Z"
   },
   {
    "duration": 21,
    "start_time": "2023-01-06T18:22:08.482Z"
   },
   {
    "duration": 12,
    "start_time": "2023-01-06T18:22:08.505Z"
   },
   {
    "duration": 22,
    "start_time": "2023-01-06T18:22:08.519Z"
   },
   {
    "duration": 30,
    "start_time": "2023-01-06T18:22:08.543Z"
   },
   {
    "duration": 25,
    "start_time": "2023-01-06T18:22:08.576Z"
   },
   {
    "duration": 16,
    "start_time": "2023-01-06T18:22:08.603Z"
   },
   {
    "duration": 46,
    "start_time": "2023-01-06T18:22:08.621Z"
   },
   {
    "duration": 31,
    "start_time": "2023-01-06T18:22:08.669Z"
   },
   {
    "duration": 6,
    "start_time": "2023-01-06T18:22:08.703Z"
   },
   {
    "duration": 28,
    "start_time": "2023-01-06T18:22:08.710Z"
   },
   {
    "duration": 15,
    "start_time": "2023-01-06T18:22:08.747Z"
   },
   {
    "duration": 197,
    "start_time": "2023-01-06T18:22:08.764Z"
   },
   {
    "duration": 7,
    "start_time": "2023-01-06T18:22:08.963Z"
   },
   {
    "duration": 5,
    "start_time": "2023-01-06T18:22:08.972Z"
   },
   {
    "duration": 13,
    "start_time": "2023-01-06T18:22:08.978Z"
   },
   {
    "duration": 3,
    "start_time": "2023-01-06T18:22:08.993Z"
   },
   {
    "duration": 1615,
    "start_time": "2023-01-06T18:22:08.998Z"
   },
   {
    "duration": 286,
    "start_time": "2023-01-06T18:22:10.615Z"
   },
   {
    "duration": 7,
    "start_time": "2023-01-06T18:22:10.903Z"
   },
   {
    "duration": 256,
    "start_time": "2023-01-06T18:22:10.912Z"
   },
   {
    "duration": 7,
    "start_time": "2023-01-06T18:22:11.169Z"
   },
   {
    "duration": 254,
    "start_time": "2023-01-06T18:22:11.178Z"
   },
   {
    "duration": 369,
    "start_time": "2023-01-06T18:22:11.434Z"
   },
   {
    "duration": 7,
    "start_time": "2023-01-06T18:22:11.805Z"
   },
   {
    "duration": 26,
    "start_time": "2023-01-06T18:22:11.814Z"
   },
   {
    "duration": 1602,
    "start_time": "2023-01-06T18:22:11.842Z"
   },
   {
    "duration": 25,
    "start_time": "2023-01-06T18:22:13.449Z"
   },
   {
    "duration": 1435,
    "start_time": "2023-01-06T18:22:13.476Z"
   },
   {
    "duration": 42,
    "start_time": "2023-01-06T18:22:14.913Z"
   },
   {
    "duration": 9,
    "start_time": "2023-01-06T18:22:14.958Z"
   },
   {
    "duration": 208,
    "start_time": "2023-01-06T18:22:14.969Z"
   },
   {
    "duration": 7,
    "start_time": "2023-01-06T18:22:15.182Z"
   },
   {
    "duration": 6,
    "start_time": "2023-01-06T18:22:15.191Z"
   },
   {
    "duration": 225,
    "start_time": "2023-01-06T18:22:15.199Z"
   },
   {
    "duration": 98,
    "start_time": "2023-01-06T18:22:15.426Z"
   },
   {
    "duration": 114,
    "start_time": "2023-01-06T18:22:15.526Z"
   },
   {
    "duration": 118,
    "start_time": "2023-01-06T18:22:15.643Z"
   },
   {
    "duration": 107,
    "start_time": "2023-01-06T18:22:15.762Z"
   },
   {
    "duration": 109,
    "start_time": "2023-01-06T18:22:15.871Z"
   },
   {
    "duration": 98,
    "start_time": "2023-01-06T18:22:15.982Z"
   },
   {
    "duration": 97,
    "start_time": "2023-01-06T18:22:16.082Z"
   },
   {
    "duration": 100,
    "start_time": "2023-01-06T18:22:16.181Z"
   },
   {
    "duration": 6,
    "start_time": "2023-01-06T18:22:18.657Z"
   },
   {
    "duration": 11,
    "start_time": "2023-01-06T18:22:42.695Z"
   },
   {
    "duration": 9,
    "start_time": "2023-01-06T18:23:06.649Z"
   },
   {
    "duration": 93,
    "start_time": "2023-01-06T18:23:49.454Z"
   },
   {
    "duration": 529,
    "start_time": "2023-01-06T18:24:15.189Z"
   },
   {
    "duration": 16,
    "start_time": "2023-01-06T18:24:36.334Z"
   },
   {
    "duration": 50,
    "start_time": "2023-01-06T18:31:30.278Z"
   },
   {
    "duration": 9,
    "start_time": "2023-01-06T18:31:35.287Z"
   },
   {
    "duration": 10,
    "start_time": "2023-01-06T18:35:05.316Z"
   },
   {
    "duration": 10,
    "start_time": "2023-01-06T18:40:19.402Z"
   },
   {
    "duration": 14,
    "start_time": "2023-01-06T18:57:03.429Z"
   },
   {
    "duration": 11,
    "start_time": "2023-01-06T18:58:41.612Z"
   },
   {
    "duration": 10,
    "start_time": "2023-01-06T18:58:57.263Z"
   },
   {
    "duration": 10,
    "start_time": "2023-01-06T18:59:00.350Z"
   },
   {
    "duration": 46,
    "start_time": "2023-01-06T19:44:10.080Z"
   },
   {
    "duration": 11,
    "start_time": "2023-01-06T19:45:46.089Z"
   },
   {
    "duration": 12,
    "start_time": "2023-01-06T19:49:21.502Z"
   },
   {
    "duration": 900,
    "start_time": "2023-01-06T19:51:12.318Z"
   },
   {
    "duration": 27,
    "start_time": "2023-01-06T19:51:13.220Z"
   },
   {
    "duration": 24,
    "start_time": "2023-01-06T19:51:13.250Z"
   },
   {
    "duration": 17,
    "start_time": "2023-01-06T19:51:13.278Z"
   },
   {
    "duration": 5,
    "start_time": "2023-01-06T19:51:13.297Z"
   },
   {
    "duration": 12,
    "start_time": "2023-01-06T19:51:13.304Z"
   },
   {
    "duration": 13,
    "start_time": "2023-01-06T19:51:13.318Z"
   },
   {
    "duration": 36,
    "start_time": "2023-01-06T19:51:13.336Z"
   },
   {
    "duration": 8,
    "start_time": "2023-01-06T19:51:13.373Z"
   },
   {
    "duration": 25,
    "start_time": "2023-01-06T19:51:13.384Z"
   },
   {
    "duration": 19,
    "start_time": "2023-01-06T19:51:13.411Z"
   },
   {
    "duration": 30,
    "start_time": "2023-01-06T19:51:13.432Z"
   },
   {
    "duration": 31,
    "start_time": "2023-01-06T19:51:13.464Z"
   },
   {
    "duration": 21,
    "start_time": "2023-01-06T19:51:13.496Z"
   },
   {
    "duration": 26,
    "start_time": "2023-01-06T19:51:13.519Z"
   },
   {
    "duration": 30,
    "start_time": "2023-01-06T19:51:13.547Z"
   },
   {
    "duration": 50,
    "start_time": "2023-01-06T19:51:13.579Z"
   },
   {
    "duration": 36,
    "start_time": "2023-01-06T19:51:13.631Z"
   },
   {
    "duration": 28,
    "start_time": "2023-01-06T19:51:13.669Z"
   },
   {
    "duration": 9,
    "start_time": "2023-01-06T19:51:13.698Z"
   },
   {
    "duration": 228,
    "start_time": "2023-01-06T19:51:13.708Z"
   },
   {
    "duration": 17,
    "start_time": "2023-01-06T19:51:13.938Z"
   },
   {
    "duration": 21,
    "start_time": "2023-01-06T19:51:13.957Z"
   },
   {
    "duration": 20,
    "start_time": "2023-01-06T19:51:13.980Z"
   },
   {
    "duration": 4,
    "start_time": "2023-01-06T19:51:14.002Z"
   },
   {
    "duration": 1703,
    "start_time": "2023-01-06T19:51:14.008Z"
   },
   {
    "duration": 305,
    "start_time": "2023-01-06T19:51:15.712Z"
   },
   {
    "duration": 26,
    "start_time": "2023-01-06T19:51:16.023Z"
   },
   {
    "duration": 351,
    "start_time": "2023-01-06T19:51:16.051Z"
   },
   {
    "duration": 10,
    "start_time": "2023-01-06T19:51:16.405Z"
   },
   {
    "duration": 265,
    "start_time": "2023-01-06T19:51:16.417Z"
   },
   {
    "duration": 417,
    "start_time": "2023-01-06T19:51:16.685Z"
   },
   {
    "duration": 10,
    "start_time": "2023-01-06T19:51:17.104Z"
   },
   {
    "duration": 33,
    "start_time": "2023-01-06T19:51:17.116Z"
   },
   {
    "duration": 1668,
    "start_time": "2023-01-06T19:51:17.151Z"
   },
   {
    "duration": 41,
    "start_time": "2023-01-06T19:51:18.821Z"
   },
   {
    "duration": 1742,
    "start_time": "2023-01-06T19:51:18.864Z"
   },
   {
    "duration": 44,
    "start_time": "2023-01-06T19:51:20.608Z"
   },
   {
    "duration": 3,
    "start_time": "2023-01-06T19:51:20.654Z"
   },
   {
    "duration": 214,
    "start_time": "2023-01-06T19:51:20.658Z"
   },
   {
    "duration": 9,
    "start_time": "2023-01-06T19:51:20.874Z"
   },
   {
    "duration": 13,
    "start_time": "2023-01-06T19:51:20.884Z"
   },
   {
    "duration": 222,
    "start_time": "2023-01-06T19:51:20.899Z"
   },
   {
    "duration": 135,
    "start_time": "2023-01-06T19:51:21.123Z"
   },
   {
    "duration": 110,
    "start_time": "2023-01-06T19:51:21.261Z"
   },
   {
    "duration": 125,
    "start_time": "2023-01-06T19:51:21.372Z"
   },
   {
    "duration": 118,
    "start_time": "2023-01-06T19:51:21.500Z"
   },
   {
    "duration": 127,
    "start_time": "2023-01-06T19:51:21.620Z"
   },
   {
    "duration": 104,
    "start_time": "2023-01-06T19:51:21.754Z"
   },
   {
    "duration": 102,
    "start_time": "2023-01-06T19:51:21.860Z"
   },
   {
    "duration": 117,
    "start_time": "2023-01-06T19:51:21.964Z"
   },
   {
    "duration": 482,
    "start_time": "2023-01-06T19:51:26.079Z"
   },
   {
    "duration": 119,
    "start_time": "2023-01-06T19:58:07.216Z"
   },
   {
    "duration": 784,
    "start_time": "2023-01-06T20:04:14.035Z"
   },
   {
    "duration": 19,
    "start_time": "2023-01-06T20:04:14.821Z"
   },
   {
    "duration": 52,
    "start_time": "2023-01-06T20:04:14.848Z"
   },
   {
    "duration": 26,
    "start_time": "2023-01-06T20:04:14.901Z"
   },
   {
    "duration": 47,
    "start_time": "2023-01-06T20:04:14.930Z"
   },
   {
    "duration": 21,
    "start_time": "2023-01-06T20:04:14.979Z"
   },
   {
    "duration": 12,
    "start_time": "2023-01-06T20:04:15.003Z"
   },
   {
    "duration": 38,
    "start_time": "2023-01-06T20:04:15.017Z"
   },
   {
    "duration": 22,
    "start_time": "2023-01-06T20:04:15.057Z"
   },
   {
    "duration": 27,
    "start_time": "2023-01-06T20:04:15.081Z"
   },
   {
    "duration": 33,
    "start_time": "2023-01-06T20:04:15.111Z"
   },
   {
    "duration": 46,
    "start_time": "2023-01-06T20:04:15.146Z"
   },
   {
    "duration": 29,
    "start_time": "2023-01-06T20:04:15.195Z"
   },
   {
    "duration": 29,
    "start_time": "2023-01-06T20:04:15.229Z"
   },
   {
    "duration": 20,
    "start_time": "2023-01-06T20:04:15.260Z"
   },
   {
    "duration": 26,
    "start_time": "2023-01-06T20:04:15.282Z"
   },
   {
    "duration": 41,
    "start_time": "2023-01-06T20:04:15.311Z"
   },
   {
    "duration": 8,
    "start_time": "2023-01-06T20:04:15.354Z"
   },
   {
    "duration": 30,
    "start_time": "2023-01-06T20:04:15.364Z"
   },
   {
    "duration": 24,
    "start_time": "2023-01-06T20:04:15.396Z"
   },
   {
    "duration": 235,
    "start_time": "2023-01-06T20:04:15.421Z"
   },
   {
    "duration": 9,
    "start_time": "2023-01-06T20:04:15.659Z"
   },
   {
    "duration": 9,
    "start_time": "2023-01-06T20:04:15.671Z"
   },
   {
    "duration": 37,
    "start_time": "2023-01-06T20:04:15.682Z"
   },
   {
    "duration": 3,
    "start_time": "2023-01-06T20:04:15.721Z"
   },
   {
    "duration": 1991,
    "start_time": "2023-01-06T20:04:15.726Z"
   },
   {
    "duration": 329,
    "start_time": "2023-01-06T20:04:17.719Z"
   },
   {
    "duration": 9,
    "start_time": "2023-01-06T20:04:18.050Z"
   },
   {
    "duration": 328,
    "start_time": "2023-01-06T20:04:18.062Z"
   },
   {
    "duration": 7,
    "start_time": "2023-01-06T20:04:18.392Z"
   },
   {
    "duration": 267,
    "start_time": "2023-01-06T20:04:18.401Z"
   },
   {
    "duration": 437,
    "start_time": "2023-01-06T20:04:18.670Z"
   },
   {
    "duration": 10,
    "start_time": "2023-01-06T20:04:19.110Z"
   },
   {
    "duration": 10,
    "start_time": "2023-01-06T20:04:19.135Z"
   },
   {
    "duration": 1844,
    "start_time": "2023-01-06T20:04:19.147Z"
   },
   {
    "duration": 29,
    "start_time": "2023-01-06T20:04:20.993Z"
   },
   {
    "duration": 1759,
    "start_time": "2023-01-06T20:04:21.039Z"
   },
   {
    "duration": 53,
    "start_time": "2023-01-06T20:04:22.801Z"
   },
   {
    "duration": 4,
    "start_time": "2023-01-06T20:04:22.859Z"
   },
   {
    "duration": 241,
    "start_time": "2023-01-06T20:04:22.865Z"
   },
   {
    "duration": 11,
    "start_time": "2023-01-06T20:04:23.111Z"
   },
   {
    "duration": 32,
    "start_time": "2023-01-06T20:04:23.135Z"
   },
   {
    "duration": 225,
    "start_time": "2023-01-06T20:04:23.170Z"
   },
   {
    "duration": 134,
    "start_time": "2023-01-06T20:04:23.397Z"
   },
   {
    "duration": 126,
    "start_time": "2023-01-06T20:04:23.533Z"
   },
   {
    "duration": 130,
    "start_time": "2023-01-06T20:04:23.661Z"
   },
   {
    "duration": 129,
    "start_time": "2023-01-06T20:04:23.793Z"
   },
   {
    "duration": 135,
    "start_time": "2023-01-06T20:04:23.924Z"
   },
   {
    "duration": 111,
    "start_time": "2023-01-06T20:04:24.061Z"
   },
   {
    "duration": 112,
    "start_time": "2023-01-06T20:04:24.173Z"
   },
   {
    "duration": 103,
    "start_time": "2023-01-06T20:04:24.287Z"
   },
   {
    "duration": 637,
    "start_time": "2023-01-06T20:04:24.392Z"
   },
   {
    "duration": 0,
    "start_time": "2023-01-06T20:04:25.031Z"
   },
   {
    "duration": 12,
    "start_time": "2023-01-06T20:04:41.580Z"
   },
   {
    "duration": 4,
    "start_time": "2023-01-06T20:18:29.685Z"
   },
   {
    "duration": 11,
    "start_time": "2023-01-06T20:18:40.350Z"
   },
   {
    "duration": 12,
    "start_time": "2023-01-06T20:18:47.755Z"
   },
   {
    "duration": 8,
    "start_time": "2023-01-06T20:23:50.913Z"
   },
   {
    "duration": 9,
    "start_time": "2023-01-06T20:24:25.019Z"
   },
   {
    "duration": 7,
    "start_time": "2023-01-06T20:25:03.154Z"
   },
   {
    "duration": 13,
    "start_time": "2023-01-06T20:28:28.530Z"
   },
   {
    "duration": 10,
    "start_time": "2023-01-06T20:30:38.761Z"
   },
   {
    "duration": 10,
    "start_time": "2023-01-06T20:30:47.809Z"
   },
   {
    "duration": 12,
    "start_time": "2023-01-06T20:31:11.846Z"
   },
   {
    "duration": 13,
    "start_time": "2023-01-06T20:31:40.287Z"
   },
   {
    "duration": 15,
    "start_time": "2023-01-06T20:31:42.039Z"
   },
   {
    "duration": 14,
    "start_time": "2023-01-06T20:33:22.756Z"
   },
   {
    "duration": 21,
    "start_time": "2023-01-06T20:48:06.734Z"
   },
   {
    "duration": 10,
    "start_time": "2023-01-06T20:48:39.357Z"
   },
   {
    "duration": 12,
    "start_time": "2023-01-06T20:50:27.282Z"
   },
   {
    "duration": 25,
    "start_time": "2023-01-06T20:50:32.834Z"
   },
   {
    "duration": 14,
    "start_time": "2023-01-06T21:18:20.366Z"
   },
   {
    "duration": 10,
    "start_time": "2023-01-06T21:18:29.490Z"
   },
   {
    "duration": 831,
    "start_time": "2023-01-06T21:19:47.249Z"
   },
   {
    "duration": 16,
    "start_time": "2023-01-06T21:19:48.082Z"
   },
   {
    "duration": 15,
    "start_time": "2023-01-06T21:19:48.099Z"
   },
   {
    "duration": 15,
    "start_time": "2023-01-06T21:19:48.115Z"
   },
   {
    "duration": 40,
    "start_time": "2023-01-06T21:19:48.136Z"
   },
   {
    "duration": 10,
    "start_time": "2023-01-06T21:19:48.178Z"
   },
   {
    "duration": 8,
    "start_time": "2023-01-06T21:19:48.189Z"
   },
   {
    "duration": 7,
    "start_time": "2023-01-06T21:19:48.198Z"
   },
   {
    "duration": 3,
    "start_time": "2023-01-06T21:19:48.207Z"
   },
   {
    "duration": 13,
    "start_time": "2023-01-06T21:19:48.212Z"
   },
   {
    "duration": 16,
    "start_time": "2023-01-06T21:19:48.227Z"
   },
   {
    "duration": 49,
    "start_time": "2023-01-06T21:19:48.248Z"
   },
   {
    "duration": 19,
    "start_time": "2023-01-06T21:19:48.298Z"
   },
   {
    "duration": 27,
    "start_time": "2023-01-06T21:19:48.319Z"
   },
   {
    "duration": 22,
    "start_time": "2023-01-06T21:19:48.347Z"
   },
   {
    "duration": 24,
    "start_time": "2023-01-06T21:19:48.371Z"
   },
   {
    "duration": 17,
    "start_time": "2023-01-06T21:19:48.397Z"
   },
   {
    "duration": 7,
    "start_time": "2023-01-06T21:19:48.419Z"
   },
   {
    "duration": 71,
    "start_time": "2023-01-06T21:19:48.427Z"
   },
   {
    "duration": 8,
    "start_time": "2023-01-06T21:19:48.499Z"
   },
   {
    "duration": 275,
    "start_time": "2023-01-06T21:19:48.509Z"
   },
   {
    "duration": 8,
    "start_time": "2023-01-06T21:19:48.786Z"
   },
   {
    "duration": 3,
    "start_time": "2023-01-06T21:19:48.795Z"
   },
   {
    "duration": 18,
    "start_time": "2023-01-06T21:19:48.800Z"
   },
   {
    "duration": 2,
    "start_time": "2023-01-06T21:19:48.820Z"
   },
   {
    "duration": 1920,
    "start_time": "2023-01-06T21:19:48.824Z"
   },
   {
    "duration": 319,
    "start_time": "2023-01-06T21:19:50.746Z"
   },
   {
    "duration": 8,
    "start_time": "2023-01-06T21:19:51.066Z"
   },
   {
    "duration": 321,
    "start_time": "2023-01-06T21:19:51.078Z"
   },
   {
    "duration": 7,
    "start_time": "2023-01-06T21:19:51.401Z"
   },
   {
    "duration": 292,
    "start_time": "2023-01-06T21:19:51.410Z"
   },
   {
    "duration": 463,
    "start_time": "2023-01-06T21:19:51.704Z"
   },
   {
    "duration": 9,
    "start_time": "2023-01-06T21:19:52.170Z"
   },
   {
    "duration": 22,
    "start_time": "2023-01-06T21:19:52.181Z"
   },
   {
    "duration": 1767,
    "start_time": "2023-01-06T21:19:52.205Z"
   },
   {
    "duration": 38,
    "start_time": "2023-01-06T21:19:53.974Z"
   },
   {
    "duration": 1677,
    "start_time": "2023-01-06T21:19:54.014Z"
   },
   {
    "duration": 24,
    "start_time": "2023-01-06T21:19:55.693Z"
   },
   {
    "duration": 18,
    "start_time": "2023-01-06T21:19:55.719Z"
   },
   {
    "duration": 217,
    "start_time": "2023-01-06T21:19:55.738Z"
   },
   {
    "duration": 10,
    "start_time": "2023-01-06T21:19:55.960Z"
   },
   {
    "duration": 30,
    "start_time": "2023-01-06T21:19:55.971Z"
   },
   {
    "duration": 215,
    "start_time": "2023-01-06T21:19:56.003Z"
   },
   {
    "duration": 133,
    "start_time": "2023-01-06T21:19:56.220Z"
   },
   {
    "duration": 113,
    "start_time": "2023-01-06T21:19:56.355Z"
   },
   {
    "duration": 134,
    "start_time": "2023-01-06T21:19:56.470Z"
   },
   {
    "duration": 170,
    "start_time": "2023-01-06T21:19:56.605Z"
   },
   {
    "duration": 133,
    "start_time": "2023-01-06T21:19:56.784Z"
   },
   {
    "duration": 128,
    "start_time": "2023-01-06T21:19:56.919Z"
   },
   {
    "duration": 129,
    "start_time": "2023-01-06T21:19:57.048Z"
   },
   {
    "duration": 106,
    "start_time": "2023-01-06T21:19:57.180Z"
   },
   {
    "duration": 9,
    "start_time": "2023-01-06T21:19:57.288Z"
   },
   {
    "duration": 517,
    "start_time": "2023-01-06T21:19:57.299Z"
   },
   {
    "duration": 9,
    "start_time": "2023-01-06T21:19:57.817Z"
   },
   {
    "duration": 47,
    "start_time": "2023-01-06T21:20:32.056Z"
   },
   {
    "duration": 25,
    "start_time": "2023-01-06T21:20:47.299Z"
   },
   {
    "duration": 18,
    "start_time": "2023-01-06T21:21:50.900Z"
   },
   {
    "duration": 29,
    "start_time": "2023-01-06T21:22:16.516Z"
   },
   {
    "duration": 28,
    "start_time": "2023-01-06T21:22:32.675Z"
   },
   {
    "duration": 30,
    "start_time": "2023-01-06T21:22:43.652Z"
   },
   {
    "duration": 22,
    "start_time": "2023-01-06T21:22:55.577Z"
   },
   {
    "duration": 25,
    "start_time": "2023-01-06T21:23:09.273Z"
   },
   {
    "duration": 26,
    "start_time": "2023-01-06T21:23:19.583Z"
   },
   {
    "duration": 37,
    "start_time": "2023-01-06T21:23:32.957Z"
   },
   {
    "duration": 64,
    "start_time": "2023-01-06T21:23:45.102Z"
   },
   {
    "duration": 21,
    "start_time": "2023-01-06T21:24:44.289Z"
   },
   {
    "duration": 10,
    "start_time": "2023-01-06T21:25:14.784Z"
   },
   {
    "duration": 4,
    "start_time": "2023-01-06T21:26:10.985Z"
   },
   {
    "duration": 9,
    "start_time": "2023-01-06T21:26:16.033Z"
   },
   {
    "duration": 13,
    "start_time": "2023-01-06T21:26:30.769Z"
   },
   {
    "duration": 102,
    "start_time": "2023-01-06T21:27:57.814Z"
   },
   {
    "duration": 11,
    "start_time": "2023-01-06T21:28:30.164Z"
   },
   {
    "duration": 4,
    "start_time": "2023-01-06T21:28:46.095Z"
   },
   {
    "duration": 10,
    "start_time": "2023-01-06T21:30:54.065Z"
   },
   {
    "duration": 7,
    "start_time": "2023-01-06T21:30:56.097Z"
   },
   {
    "duration": 11,
    "start_time": "2023-01-06T21:31:08.165Z"
   },
   {
    "duration": 6,
    "start_time": "2023-01-06T21:31:10.680Z"
   },
   {
    "duration": 9,
    "start_time": "2023-01-06T21:31:30.774Z"
   },
   {
    "duration": 7,
    "start_time": "2023-01-06T21:31:42.589Z"
   },
   {
    "duration": 11,
    "start_time": "2023-01-06T21:31:51.261Z"
   },
   {
    "duration": 6,
    "start_time": "2023-01-06T21:31:53.184Z"
   },
   {
    "duration": 10,
    "start_time": "2023-01-06T21:31:58.694Z"
   },
   {
    "duration": 792,
    "start_time": "2023-01-06T21:53:11.756Z"
   },
   {
    "duration": 26,
    "start_time": "2023-01-06T21:53:12.563Z"
   },
   {
    "duration": 29,
    "start_time": "2023-01-06T21:53:12.591Z"
   },
   {
    "duration": 63,
    "start_time": "2023-01-06T21:53:12.622Z"
   },
   {
    "duration": 18,
    "start_time": "2023-01-06T21:53:12.688Z"
   },
   {
    "duration": 36,
    "start_time": "2023-01-06T21:53:12.709Z"
   },
   {
    "duration": 46,
    "start_time": "2023-01-06T21:53:12.747Z"
   },
   {
    "duration": 26,
    "start_time": "2023-01-06T21:53:12.796Z"
   },
   {
    "duration": 55,
    "start_time": "2023-01-06T21:53:12.824Z"
   },
   {
    "duration": 32,
    "start_time": "2023-01-06T21:53:12.881Z"
   },
   {
    "duration": 77,
    "start_time": "2023-01-06T21:53:12.915Z"
   },
   {
    "duration": 23,
    "start_time": "2023-01-06T21:53:12.994Z"
   },
   {
    "duration": 44,
    "start_time": "2023-01-06T21:53:13.019Z"
   },
   {
    "duration": 25,
    "start_time": "2023-01-06T21:53:13.072Z"
   },
   {
    "duration": 25,
    "start_time": "2023-01-06T21:53:13.099Z"
   },
   {
    "duration": 51,
    "start_time": "2023-01-06T21:53:13.127Z"
   },
   {
    "duration": 24,
    "start_time": "2023-01-06T21:53:13.180Z"
   },
   {
    "duration": 8,
    "start_time": "2023-01-06T21:53:13.206Z"
   },
   {
    "duration": 55,
    "start_time": "2023-01-06T21:53:13.216Z"
   },
   {
    "duration": 29,
    "start_time": "2023-01-06T21:53:13.274Z"
   },
   {
    "duration": 277,
    "start_time": "2023-01-06T21:53:13.306Z"
   },
   {
    "duration": 7,
    "start_time": "2023-01-06T21:53:13.586Z"
   },
   {
    "duration": 14,
    "start_time": "2023-01-06T21:53:13.596Z"
   },
   {
    "duration": 32,
    "start_time": "2023-01-06T21:53:13.612Z"
   },
   {
    "duration": 28,
    "start_time": "2023-01-06T21:53:13.646Z"
   },
   {
    "duration": 1833,
    "start_time": "2023-01-06T21:53:13.676Z"
   },
   {
    "duration": 340,
    "start_time": "2023-01-06T21:53:15.511Z"
   },
   {
    "duration": 15,
    "start_time": "2023-01-06T21:53:15.853Z"
   },
   {
    "duration": 401,
    "start_time": "2023-01-06T21:53:15.873Z"
   },
   {
    "duration": 10,
    "start_time": "2023-01-06T21:53:16.276Z"
   },
   {
    "duration": 287,
    "start_time": "2023-01-06T21:53:16.288Z"
   },
   {
    "duration": 565,
    "start_time": "2023-01-06T21:53:16.577Z"
   },
   {
    "duration": 13,
    "start_time": "2023-01-06T21:53:17.149Z"
   },
   {
    "duration": 22,
    "start_time": "2023-01-06T21:53:17.172Z"
   },
   {
    "duration": 1761,
    "start_time": "2023-01-06T21:53:17.196Z"
   },
   {
    "duration": 36,
    "start_time": "2023-01-06T21:53:18.959Z"
   },
   {
    "duration": 1730,
    "start_time": "2023-01-06T21:53:18.997Z"
   },
   {
    "duration": 48,
    "start_time": "2023-01-06T21:53:20.729Z"
   },
   {
    "duration": 8,
    "start_time": "2023-01-06T21:53:20.780Z"
   },
   {
    "duration": 208,
    "start_time": "2023-01-06T21:53:20.790Z"
   },
   {
    "duration": 9,
    "start_time": "2023-01-06T21:53:21.002Z"
   },
   {
    "duration": 13,
    "start_time": "2023-01-06T21:53:21.013Z"
   },
   {
    "duration": 272,
    "start_time": "2023-01-06T21:53:21.028Z"
   },
   {
    "duration": 126,
    "start_time": "2023-01-06T21:53:21.302Z"
   },
   {
    "duration": 147,
    "start_time": "2023-01-06T21:53:21.431Z"
   },
   {
    "duration": 125,
    "start_time": "2023-01-06T21:53:21.580Z"
   },
   {
    "duration": 132,
    "start_time": "2023-01-06T21:53:21.707Z"
   },
   {
    "duration": 127,
    "start_time": "2023-01-06T21:53:21.848Z"
   },
   {
    "duration": 140,
    "start_time": "2023-01-06T21:53:21.978Z"
   },
   {
    "duration": 103,
    "start_time": "2023-01-06T21:53:22.120Z"
   },
   {
    "duration": 108,
    "start_time": "2023-01-06T21:53:22.225Z"
   },
   {
    "duration": 560,
    "start_time": "2023-01-06T21:53:22.339Z"
   },
   {
    "duration": 13,
    "start_time": "2023-01-06T21:53:22.902Z"
   },
   {
    "duration": 12,
    "start_time": "2023-01-06T22:04:03.069Z"
   },
   {
    "duration": 10,
    "start_time": "2023-01-06T22:05:20.680Z"
   },
   {
    "duration": 13,
    "start_time": "2023-01-06T22:06:23.138Z"
   },
   {
    "duration": 708,
    "start_time": "2023-01-06T22:27:39.860Z"
   },
   {
    "duration": 25,
    "start_time": "2023-01-06T22:27:48.318Z"
   },
   {
    "duration": 14,
    "start_time": "2023-01-06T22:27:58.499Z"
   },
   {
    "duration": 16,
    "start_time": "2023-01-06T22:28:03.916Z"
   },
   {
    "duration": 21,
    "start_time": "2023-01-06T22:28:12.598Z"
   },
   {
    "duration": 6,
    "start_time": "2023-01-06T22:28:41.911Z"
   },
   {
    "duration": 8,
    "start_time": "2023-01-06T22:28:44.104Z"
   },
   {
    "duration": 4,
    "start_time": "2023-01-06T22:28:45.108Z"
   },
   {
    "duration": 6,
    "start_time": "2023-01-06T22:28:47.698Z"
   },
   {
    "duration": 2,
    "start_time": "2023-01-06T22:29:02.804Z"
   },
   {
    "duration": 23,
    "start_time": "2023-01-06T22:29:05.746Z"
   },
   {
    "duration": 12,
    "start_time": "2023-01-06T22:29:15.018Z"
   },
   {
    "duration": 14,
    "start_time": "2023-01-06T22:29:16.267Z"
   },
   {
    "duration": 21,
    "start_time": "2023-01-06T22:29:38.631Z"
   },
   {
    "duration": 28,
    "start_time": "2023-01-06T22:29:42.884Z"
   },
   {
    "duration": 22,
    "start_time": "2023-01-06T22:29:48.185Z"
   },
   {
    "duration": 22,
    "start_time": "2023-01-06T22:30:03.840Z"
   },
   {
    "duration": 15,
    "start_time": "2023-01-06T22:30:09.406Z"
   },
   {
    "duration": 20,
    "start_time": "2023-01-06T22:30:20.185Z"
   },
   {
    "duration": 7,
    "start_time": "2023-01-06T22:30:57.026Z"
   },
   {
    "duration": 17,
    "start_time": "2023-01-06T22:31:24.996Z"
   },
   {
    "duration": 8,
    "start_time": "2023-01-06T22:31:53.963Z"
   },
   {
    "duration": 20,
    "start_time": "2023-01-06T22:31:59.636Z"
   },
   {
    "duration": 9,
    "start_time": "2023-01-06T22:32:07.760Z"
   },
   {
    "duration": 248,
    "start_time": "2023-01-06T22:32:12.676Z"
   },
   {
    "duration": 212,
    "start_time": "2023-01-06T22:32:27.060Z"
   },
   {
    "duration": 8,
    "start_time": "2023-01-06T22:33:20.895Z"
   },
   {
    "duration": 9,
    "start_time": "2023-01-06T22:33:46.485Z"
   },
   {
    "duration": 1733,
    "start_time": "2023-01-06T22:33:47.637Z"
   },
   {
    "duration": 320,
    "start_time": "2023-01-06T22:34:07.245Z"
   },
   {
    "duration": 7,
    "start_time": "2023-01-06T22:34:31.597Z"
   },
   {
    "duration": 288,
    "start_time": "2023-01-06T22:34:40.584Z"
   },
   {
    "duration": 8,
    "start_time": "2023-01-06T22:35:08.174Z"
   },
   {
    "duration": 314,
    "start_time": "2023-01-06T22:35:10.357Z"
   },
   {
    "duration": 227,
    "start_time": "2023-01-06T22:35:27.074Z"
   },
   {
    "duration": 247,
    "start_time": "2023-01-06T22:35:43.026Z"
   },
   {
    "duration": 323,
    "start_time": "2023-01-06T22:35:53.903Z"
   },
   {
    "duration": 253,
    "start_time": "2023-01-06T22:35:59.637Z"
   },
   {
    "duration": 387,
    "start_time": "2023-01-06T22:36:12.211Z"
   },
   {
    "duration": 8,
    "start_time": "2023-01-06T22:36:17.189Z"
   },
   {
    "duration": 8,
    "start_time": "2023-01-06T22:36:18.033Z"
   },
   {
    "duration": 1750,
    "start_time": "2023-01-06T22:36:23.435Z"
   },
   {
    "duration": 35,
    "start_time": "2023-01-06T22:36:26.215Z"
   },
   {
    "duration": 1754,
    "start_time": "2023-01-06T22:36:41.725Z"
   },
   {
    "duration": 26,
    "start_time": "2023-01-06T22:36:44.303Z"
   },
   {
    "duration": 2,
    "start_time": "2023-01-06T22:36:45.915Z"
   },
   {
    "duration": 204,
    "start_time": "2023-01-06T22:37:31.363Z"
   },
   {
    "duration": 11,
    "start_time": "2023-01-06T22:37:37.994Z"
   },
   {
    "duration": 112,
    "start_time": "2023-01-06T22:38:08.570Z"
   },
   {
    "duration": 109,
    "start_time": "2023-01-06T22:38:10.363Z"
   },
   {
    "duration": 210,
    "start_time": "2023-01-06T22:38:11.700Z"
   },
   {
    "duration": 135,
    "start_time": "2023-01-06T22:38:36.513Z"
   },
   {
    "duration": 130,
    "start_time": "2023-01-06T22:38:37.874Z"
   },
   {
    "duration": 125,
    "start_time": "2023-01-06T22:38:40.853Z"
   },
   {
    "duration": 104,
    "start_time": "2023-01-06T22:39:04.067Z"
   },
   {
    "duration": 98,
    "start_time": "2023-01-06T22:39:05.323Z"
   },
   {
    "duration": 95,
    "start_time": "2023-01-06T22:39:06.115Z"
   },
   {
    "duration": 472,
    "start_time": "2023-01-06T22:39:39.665Z"
   },
   {
    "duration": 8,
    "start_time": "2023-01-06T22:39:48.263Z"
   },
   {
    "duration": 58,
    "start_time": "2023-01-08T16:32:26.047Z"
   },
   {
    "duration": 1055,
    "start_time": "2023-01-08T16:32:44.819Z"
   },
   {
    "duration": 18,
    "start_time": "2023-01-08T16:32:45.876Z"
   },
   {
    "duration": 15,
    "start_time": "2023-01-08T16:32:45.896Z"
   },
   {
    "duration": 22,
    "start_time": "2023-01-08T16:32:45.913Z"
   },
   {
    "duration": 7,
    "start_time": "2023-01-08T16:32:45.938Z"
   },
   {
    "duration": 30,
    "start_time": "2023-01-08T16:32:48.132Z"
   },
   {
    "duration": 5,
    "start_time": "2023-01-08T16:35:02.517Z"
   },
   {
    "duration": 6,
    "start_time": "2023-01-08T16:35:03.435Z"
   },
   {
    "duration": 2,
    "start_time": "2023-01-08T16:35:09.395Z"
   },
   {
    "duration": 15,
    "start_time": "2023-01-08T16:35:11.276Z"
   },
   {
    "duration": 12,
    "start_time": "2023-01-08T16:35:12.633Z"
   },
   {
    "duration": 9,
    "start_time": "2023-01-08T16:35:52.913Z"
   },
   {
    "duration": 15,
    "start_time": "2023-01-08T16:36:20.689Z"
   },
   {
    "duration": 2,
    "start_time": "2023-01-08T16:36:36.157Z"
   },
   {
    "duration": 9,
    "start_time": "2023-01-08T16:36:43.141Z"
   },
   {
    "duration": 24,
    "start_time": "2023-01-08T16:37:35.960Z"
   },
   {
    "duration": 24,
    "start_time": "2023-01-08T16:37:52.928Z"
   },
   {
    "duration": 8,
    "start_time": "2023-01-08T16:38:29.905Z"
   },
   {
    "duration": 16,
    "start_time": "2023-01-08T16:38:34.451Z"
   },
   {
    "duration": 75,
    "start_time": "2023-01-08T16:38:53.113Z"
   },
   {
    "duration": 20,
    "start_time": "2023-01-08T16:39:07.369Z"
   },
   {
    "duration": 20,
    "start_time": "2023-01-08T16:39:18.442Z"
   },
   {
    "duration": 25,
    "start_time": "2023-01-08T16:40:49.958Z"
   },
   {
    "duration": 707,
    "start_time": "2023-01-08T16:47:22.051Z"
   },
   {
    "duration": 14,
    "start_time": "2023-01-08T16:47:24.223Z"
   },
   {
    "duration": 14,
    "start_time": "2023-01-08T16:47:26.895Z"
   },
   {
    "duration": 13,
    "start_time": "2023-01-08T16:47:28.829Z"
   },
   {
    "duration": 5,
    "start_time": "2023-01-08T16:47:33.157Z"
   },
   {
    "duration": 27,
    "start_time": "2023-01-08T16:47:40.770Z"
   },
   {
    "duration": 5,
    "start_time": "2023-01-08T16:47:47.905Z"
   },
   {
    "duration": 7,
    "start_time": "2023-01-08T16:47:50.114Z"
   },
   {
    "duration": 2,
    "start_time": "2023-01-08T16:47:53.424Z"
   },
   {
    "duration": 13,
    "start_time": "2023-01-08T16:47:55.267Z"
   },
   {
    "duration": 13,
    "start_time": "2023-01-08T16:47:55.897Z"
   },
   {
    "duration": 3,
    "start_time": "2023-01-08T16:48:00.395Z"
   },
   {
    "duration": 8,
    "start_time": "2023-01-08T16:48:03.154Z"
   },
   {
    "duration": 18,
    "start_time": "2023-01-08T16:48:06.152Z"
   },
   {
    "duration": 22,
    "start_time": "2023-01-08T16:48:16.053Z"
   },
   {
    "duration": 3,
    "start_time": "2023-01-08T16:48:23.872Z"
   },
   {
    "duration": 8,
    "start_time": "2023-01-08T16:48:24.528Z"
   },
   {
    "duration": 14,
    "start_time": "2023-01-08T16:48:25.414Z"
   },
   {
    "duration": 19,
    "start_time": "2023-01-08T16:48:37.755Z"
   },
   {
    "duration": 7,
    "start_time": "2023-01-08T16:48:45.428Z"
   },
   {
    "duration": 16,
    "start_time": "2023-01-08T16:49:00.760Z"
   },
   {
    "duration": 9,
    "start_time": "2023-01-08T16:49:15.446Z"
   },
   {
    "duration": 6,
    "start_time": "2023-01-08T16:50:12.030Z"
   },
   {
    "duration": 8,
    "start_time": "2023-01-08T16:51:10.832Z"
   },
   {
    "duration": 6,
    "start_time": "2023-01-08T16:51:20.984Z"
   },
   {
    "duration": 8,
    "start_time": "2023-01-08T16:51:31.613Z"
   },
   {
    "duration": 180,
    "start_time": "2023-01-08T16:52:00.527Z"
   },
   {
    "duration": 6,
    "start_time": "2023-01-08T17:12:11.536Z"
   },
   {
    "duration": 7,
    "start_time": "2023-01-08T17:13:53.188Z"
   },
   {
    "duration": 8,
    "start_time": "2023-01-08T17:14:24.325Z"
   },
   {
    "duration": 198,
    "start_time": "2023-01-08T17:16:51.067Z"
   },
   {
    "duration": 259,
    "start_time": "2023-01-08T17:17:02.421Z"
   },
   {
    "duration": 3,
    "start_time": "2023-01-08T17:17:53.607Z"
   },
   {
    "duration": 439,
    "start_time": "2023-01-08T17:18:33.134Z"
   },
   {
    "duration": 67,
    "start_time": "2023-01-08T17:27:43.572Z"
   },
   {
    "duration": 4,
    "start_time": "2023-01-08T17:27:51.256Z"
   },
   {
    "duration": 356,
    "start_time": "2023-01-08T17:27:59.584Z"
   },
   {
    "duration": 371,
    "start_time": "2023-01-08T17:28:30.524Z"
   },
   {
    "duration": 347,
    "start_time": "2023-01-08T17:29:16.447Z"
   },
   {
    "duration": 93,
    "start_time": "2023-01-08T17:29:30.515Z"
   },
   {
    "duration": 361,
    "start_time": "2023-01-08T17:29:35.057Z"
   },
   {
    "duration": 359,
    "start_time": "2023-01-08T17:31:07.595Z"
   },
   {
    "duration": 1510,
    "start_time": "2023-01-08T17:33:31.400Z"
   },
   {
    "duration": 3,
    "start_time": "2023-01-08T17:34:30.272Z"
   },
   {
    "duration": 213,
    "start_time": "2023-01-08T17:34:31.852Z"
   },
   {
    "duration": 7,
    "start_time": "2023-01-08T17:36:59.567Z"
   },
   {
    "duration": 91,
    "start_time": "2023-01-08T17:37:01.316Z"
   },
   {
    "duration": 7,
    "start_time": "2023-01-08T17:37:23.235Z"
   },
   {
    "duration": 19,
    "start_time": "2023-01-08T17:37:24.360Z"
   },
   {
    "duration": 7,
    "start_time": "2023-01-08T17:37:37.452Z"
   },
   {
    "duration": 216,
    "start_time": "2023-01-08T17:37:38.560Z"
   },
   {
    "duration": 8,
    "start_time": "2023-01-08T17:37:48.833Z"
   },
   {
    "duration": 215,
    "start_time": "2023-01-08T17:38:36.760Z"
   },
   {
    "duration": 6,
    "start_time": "2023-01-08T17:39:02.251Z"
   },
   {
    "duration": 188,
    "start_time": "2023-01-08T17:39:12.261Z"
   },
   {
    "duration": 236,
    "start_time": "2023-01-08T17:39:18.453Z"
   },
   {
    "duration": 246,
    "start_time": "2023-01-08T17:39:23.651Z"
   },
   {
    "duration": 169,
    "start_time": "2023-01-08T17:41:12.921Z"
   },
   {
    "duration": 7,
    "start_time": "2023-01-08T17:44:35.648Z"
   },
   {
    "duration": 206,
    "start_time": "2023-01-08T17:44:37.915Z"
   },
   {
    "duration": 7,
    "start_time": "2023-01-08T17:45:04.226Z"
   },
   {
    "duration": 237,
    "start_time": "2023-01-08T17:45:05.820Z"
   },
   {
    "duration": 8,
    "start_time": "2023-01-08T17:45:11.300Z"
   },
   {
    "duration": 165,
    "start_time": "2023-01-08T17:45:12.535Z"
   },
   {
    "duration": 7,
    "start_time": "2023-01-08T17:47:58.049Z"
   },
   {
    "duration": 203,
    "start_time": "2023-01-08T17:47:59.321Z"
   },
   {
    "duration": 8,
    "start_time": "2023-01-08T17:48:15.667Z"
   },
   {
    "duration": 270,
    "start_time": "2023-01-08T17:48:16.943Z"
   },
   {
    "duration": 918,
    "start_time": "2023-01-08T19:49:00.527Z"
   },
   {
    "duration": 16,
    "start_time": "2023-01-08T19:49:01.448Z"
   },
   {
    "duration": 22,
    "start_time": "2023-01-08T19:49:01.466Z"
   },
   {
    "duration": 38,
    "start_time": "2023-01-08T19:49:01.490Z"
   },
   {
    "duration": 20,
    "start_time": "2023-01-08T19:49:01.530Z"
   },
   {
    "duration": 34,
    "start_time": "2023-01-08T19:49:01.552Z"
   },
   {
    "duration": 12,
    "start_time": "2023-01-08T19:49:01.588Z"
   },
   {
    "duration": 32,
    "start_time": "2023-01-08T19:49:01.602Z"
   },
   {
    "duration": 16,
    "start_time": "2023-01-08T19:49:01.636Z"
   },
   {
    "duration": 27,
    "start_time": "2023-01-08T19:49:01.653Z"
   },
   {
    "duration": 13,
    "start_time": "2023-01-08T19:49:01.682Z"
   },
   {
    "duration": 24,
    "start_time": "2023-01-08T19:49:01.696Z"
   },
   {
    "duration": 34,
    "start_time": "2023-01-08T19:49:01.722Z"
   },
   {
    "duration": 32,
    "start_time": "2023-01-08T19:49:01.759Z"
   },
   {
    "duration": 26,
    "start_time": "2023-01-08T19:49:01.793Z"
   },
   {
    "duration": 6,
    "start_time": "2023-01-08T19:49:01.820Z"
   },
   {
    "duration": 34,
    "start_time": "2023-01-08T19:49:01.828Z"
   },
   {
    "duration": 17,
    "start_time": "2023-01-08T19:49:01.864Z"
   },
   {
    "duration": 39,
    "start_time": "2023-01-08T19:49:01.883Z"
   },
   {
    "duration": 9,
    "start_time": "2023-01-08T19:49:01.923Z"
   },
   {
    "duration": 21,
    "start_time": "2023-01-08T19:49:01.934Z"
   },
   {
    "duration": 8,
    "start_time": "2023-01-08T19:49:01.956Z"
   },
   {
    "duration": 204,
    "start_time": "2023-01-08T19:49:01.966Z"
   },
   {
    "duration": 8,
    "start_time": "2023-01-08T19:49:02.172Z"
   },
   {
    "duration": 1526,
    "start_time": "2023-01-08T19:49:02.182Z"
   },
   {
    "duration": 15,
    "start_time": "2023-01-08T19:49:03.709Z"
   },
   {
    "duration": 262,
    "start_time": "2023-01-08T19:49:03.729Z"
   },
   {
    "duration": 7,
    "start_time": "2023-01-08T19:49:03.993Z"
   },
   {
    "duration": 297,
    "start_time": "2023-01-08T19:49:04.001Z"
   },
   {
    "duration": 6,
    "start_time": "2023-01-08T19:51:18.781Z"
   },
   {
    "duration": 233,
    "start_time": "2023-01-08T19:51:19.588Z"
   },
   {
    "duration": 43,
    "start_time": "2023-01-08T19:56:22.637Z"
   },
   {
    "duration": 42,
    "start_time": "2023-01-08T19:56:33.534Z"
   },
   {
    "duration": 76,
    "start_time": "2023-01-08T19:56:39.853Z"
   },
   {
    "duration": 25,
    "start_time": "2023-01-08T19:57:05.523Z"
   },
   {
    "duration": 17,
    "start_time": "2023-01-08T19:57:29.540Z"
   },
   {
    "duration": 4,
    "start_time": "2023-01-08T19:59:16.073Z"
   },
   {
    "duration": 7,
    "start_time": "2023-01-08T19:59:28.384Z"
   },
   {
    "duration": 262,
    "start_time": "2023-01-08T19:59:29.990Z"
   },
   {
    "duration": 5,
    "start_time": "2023-01-08T19:59:56.113Z"
   },
   {
    "duration": 6,
    "start_time": "2023-01-08T19:59:57.675Z"
   },
   {
    "duration": 158,
    "start_time": "2023-01-08T19:59:58.910Z"
   },
   {
    "duration": 362,
    "start_time": "2023-01-08T20:02:18.643Z"
   },
   {
    "duration": 9,
    "start_time": "2023-01-08T20:02:41.044Z"
   },
   {
    "duration": 9,
    "start_time": "2023-01-08T20:02:42.169Z"
   },
   {
    "duration": 11,
    "start_time": "2023-01-08T20:04:35.609Z"
   },
   {
    "duration": 876,
    "start_time": "2023-01-08T20:04:51.910Z"
   },
   {
    "duration": 15,
    "start_time": "2023-01-08T20:05:10.690Z"
   },
   {
    "duration": 914,
    "start_time": "2023-01-08T20:07:11.447Z"
   },
   {
    "duration": 16,
    "start_time": "2023-01-08T20:07:27.829Z"
   },
   {
    "duration": 177,
    "start_time": "2023-01-08T20:09:05.196Z"
   },
   {
    "duration": 172,
    "start_time": "2023-01-08T20:09:27.961Z"
   },
   {
    "duration": 309,
    "start_time": "2023-01-08T20:10:30.640Z"
   },
   {
    "duration": 13,
    "start_time": "2023-01-08T20:13:46.818Z"
   },
   {
    "duration": 10,
    "start_time": "2023-01-08T20:13:56.649Z"
   },
   {
    "duration": 8,
    "start_time": "2023-01-08T20:14:06.250Z"
   },
   {
    "duration": 754,
    "start_time": "2023-01-08T20:20:18.292Z"
   },
   {
    "duration": 24,
    "start_time": "2023-01-08T20:20:19.048Z"
   },
   {
    "duration": 19,
    "start_time": "2023-01-08T20:20:19.074Z"
   },
   {
    "duration": 20,
    "start_time": "2023-01-08T20:20:19.095Z"
   },
   {
    "duration": 5,
    "start_time": "2023-01-08T20:20:19.117Z"
   },
   {
    "duration": 57,
    "start_time": "2023-01-08T20:20:19.124Z"
   },
   {
    "duration": 6,
    "start_time": "2023-01-08T20:20:19.183Z"
   },
   {
    "duration": 9,
    "start_time": "2023-01-08T20:20:19.191Z"
   },
   {
    "duration": 4,
    "start_time": "2023-01-08T20:20:19.202Z"
   },
   {
    "duration": 49,
    "start_time": "2023-01-08T20:20:19.212Z"
   },
   {
    "duration": 19,
    "start_time": "2023-01-08T20:20:19.263Z"
   },
   {
    "duration": 3,
    "start_time": "2023-01-08T20:20:19.283Z"
   },
   {
    "duration": 20,
    "start_time": "2023-01-08T20:20:19.288Z"
   },
   {
    "duration": 38,
    "start_time": "2023-01-08T20:20:19.311Z"
   },
   {
    "duration": 26,
    "start_time": "2023-01-08T20:20:19.351Z"
   },
   {
    "duration": 3,
    "start_time": "2023-01-08T20:20:19.378Z"
   },
   {
    "duration": 17,
    "start_time": "2023-01-08T20:20:19.382Z"
   },
   {
    "duration": 34,
    "start_time": "2023-01-08T20:20:19.401Z"
   },
   {
    "duration": 25,
    "start_time": "2023-01-08T20:20:19.443Z"
   },
   {
    "duration": 7,
    "start_time": "2023-01-08T20:20:19.469Z"
   },
   {
    "duration": 22,
    "start_time": "2023-01-08T20:20:19.477Z"
   },
   {
    "duration": 16,
    "start_time": "2023-01-08T20:20:19.501Z"
   },
   {
    "duration": 234,
    "start_time": "2023-01-08T20:20:19.518Z"
   },
   {
    "duration": 9,
    "start_time": "2023-01-08T20:20:19.754Z"
   },
   {
    "duration": 1732,
    "start_time": "2023-01-08T20:20:19.764Z"
   },
   {
    "duration": 4,
    "start_time": "2023-01-08T20:20:21.497Z"
   },
   {
    "duration": 320,
    "start_time": "2023-01-08T20:20:21.503Z"
   },
   {
    "duration": 8,
    "start_time": "2023-01-08T20:20:21.825Z"
   },
   {
    "duration": 304,
    "start_time": "2023-01-08T20:20:21.835Z"
   },
   {
    "duration": 3,
    "start_time": "2023-01-08T20:20:22.141Z"
   },
   {
    "duration": 13,
    "start_time": "2023-01-08T20:20:22.145Z"
   },
   {
    "duration": 245,
    "start_time": "2023-01-08T20:20:22.160Z"
   },
   {
    "duration": 543,
    "start_time": "2023-01-08T20:20:22.407Z"
   },
   {
    "duration": 6,
    "start_time": "2023-01-08T20:20:22.952Z"
   },
   {
    "duration": 11,
    "start_time": "2023-01-08T20:20:22.960Z"
   },
   {
    "duration": 971,
    "start_time": "2023-01-08T20:20:22.972Z"
   },
   {
    "duration": 14,
    "start_time": "2023-01-08T20:20:23.945Z"
   },
   {
    "duration": 847,
    "start_time": "2023-01-08T20:20:23.961Z"
   },
   {
    "duration": 21,
    "start_time": "2023-01-08T20:20:24.810Z"
   },
   {
    "duration": 226,
    "start_time": "2023-01-08T20:20:24.833Z"
   },
   {
    "duration": 7,
    "start_time": "2023-01-08T20:20:25.062Z"
   },
   {
    "duration": 117,
    "start_time": "2023-01-08T20:23:32.460Z"
   },
   {
    "duration": 119,
    "start_time": "2023-01-08T20:25:03.955Z"
   },
   {
    "duration": 122,
    "start_time": "2023-01-08T20:25:05.253Z"
   },
   {
    "duration": 168,
    "start_time": "2023-01-08T20:25:06.294Z"
   },
   {
    "duration": 167,
    "start_time": "2023-01-08T20:26:31.327Z"
   },
   {
    "duration": 106,
    "start_time": "2023-01-08T20:26:51.542Z"
   },
   {
    "duration": 111,
    "start_time": "2023-01-08T20:27:05.098Z"
   },
   {
    "duration": 99,
    "start_time": "2023-01-08T20:27:22.453Z"
   },
   {
    "duration": 104,
    "start_time": "2023-01-08T20:27:38.466Z"
   },
   {
    "duration": 118,
    "start_time": "2023-01-08T20:28:02.236Z"
   },
   {
    "duration": 101,
    "start_time": "2023-01-08T20:28:18.591Z"
   },
   {
    "duration": 112,
    "start_time": "2023-01-08T20:29:06.642Z"
   },
   {
    "duration": 93,
    "start_time": "2023-01-08T20:29:23.767Z"
   },
   {
    "duration": 5,
    "start_time": "2023-01-08T20:30:38.551Z"
   },
   {
    "duration": 93,
    "start_time": "2023-01-08T20:30:46.927Z"
   },
   {
    "duration": 10,
    "start_time": "2023-01-08T20:31:24.220Z"
   },
   {
    "duration": 92,
    "start_time": "2023-01-08T20:31:45.604Z"
   },
   {
    "duration": 162,
    "start_time": "2023-01-08T20:31:54.840Z"
   },
   {
    "duration": 652,
    "start_time": "2023-01-08T20:32:34.151Z"
   },
   {
    "duration": 19,
    "start_time": "2023-01-08T20:32:34.805Z"
   },
   {
    "duration": 14,
    "start_time": "2023-01-08T20:32:34.826Z"
   },
   {
    "duration": 16,
    "start_time": "2023-01-08T20:32:34.843Z"
   },
   {
    "duration": 4,
    "start_time": "2023-01-08T20:32:34.861Z"
   },
   {
    "duration": 45,
    "start_time": "2023-01-08T20:32:34.868Z"
   },
   {
    "duration": 5,
    "start_time": "2023-01-08T20:32:34.915Z"
   },
   {
    "duration": 10,
    "start_time": "2023-01-08T20:32:34.921Z"
   },
   {
    "duration": 9,
    "start_time": "2023-01-08T20:32:34.932Z"
   },
   {
    "duration": 20,
    "start_time": "2023-01-08T20:32:34.943Z"
   },
   {
    "duration": 14,
    "start_time": "2023-01-08T20:32:34.964Z"
   },
   {
    "duration": 3,
    "start_time": "2023-01-08T20:32:34.980Z"
   },
   {
    "duration": 33,
    "start_time": "2023-01-08T20:32:34.985Z"
   },
   {
    "duration": 20,
    "start_time": "2023-01-08T20:32:35.019Z"
   },
   {
    "duration": 20,
    "start_time": "2023-01-08T20:32:35.041Z"
   },
   {
    "duration": 3,
    "start_time": "2023-01-08T20:32:35.063Z"
   },
   {
    "duration": 9,
    "start_time": "2023-01-08T20:32:35.067Z"
   },
   {
    "duration": 41,
    "start_time": "2023-01-08T20:32:35.078Z"
   },
   {
    "duration": 22,
    "start_time": "2023-01-08T20:32:35.120Z"
   },
   {
    "duration": 5,
    "start_time": "2023-01-08T20:32:35.143Z"
   },
   {
    "duration": 21,
    "start_time": "2023-01-08T20:32:35.149Z"
   },
   {
    "duration": 8,
    "start_time": "2023-01-08T20:32:35.171Z"
   },
   {
    "duration": 206,
    "start_time": "2023-01-08T20:32:35.181Z"
   },
   {
    "duration": 17,
    "start_time": "2023-01-08T20:32:35.389Z"
   },
   {
    "duration": 1521,
    "start_time": "2023-01-08T20:32:35.411Z"
   },
   {
    "duration": 3,
    "start_time": "2023-01-08T20:32:36.933Z"
   },
   {
    "duration": 241,
    "start_time": "2023-01-08T20:32:36.938Z"
   },
   {
    "duration": 7,
    "start_time": "2023-01-08T20:32:37.183Z"
   },
   {
    "duration": 229,
    "start_time": "2023-01-08T20:32:37.192Z"
   },
   {
    "duration": 3,
    "start_time": "2023-01-08T20:32:37.423Z"
   },
   {
    "duration": 11,
    "start_time": "2023-01-08T20:32:37.427Z"
   },
   {
    "duration": 173,
    "start_time": "2023-01-08T20:32:37.439Z"
   },
   {
    "duration": 303,
    "start_time": "2023-01-08T20:32:37.614Z"
   },
   {
    "duration": 6,
    "start_time": "2023-01-08T20:32:37.919Z"
   },
   {
    "duration": 11,
    "start_time": "2023-01-08T20:32:37.926Z"
   },
   {
    "duration": 855,
    "start_time": "2023-01-08T20:32:37.939Z"
   },
   {
    "duration": 18,
    "start_time": "2023-01-08T20:32:38.796Z"
   },
   {
    "duration": 731,
    "start_time": "2023-01-08T20:32:38.815Z"
   },
   {
    "duration": 13,
    "start_time": "2023-01-08T20:32:39.547Z"
   },
   {
    "duration": 184,
    "start_time": "2023-01-08T20:32:39.562Z"
   },
   {
    "duration": 7,
    "start_time": "2023-01-08T20:32:39.748Z"
   },
   {
    "duration": 10,
    "start_time": "2023-01-08T20:33:31.537Z"
   },
   {
    "duration": 101,
    "start_time": "2023-01-08T20:33:38.234Z"
   },
   {
    "duration": 89,
    "start_time": "2023-01-08T20:33:48.583Z"
   },
   {
    "duration": 98,
    "start_time": "2023-01-08T20:33:58.629Z"
   },
   {
    "duration": 7,
    "start_time": "2023-01-08T20:34:47.117Z"
   },
   {
    "duration": 102,
    "start_time": "2023-01-08T20:35:30.088Z"
   },
   {
    "duration": 204,
    "start_time": "2023-01-08T20:35:46.497Z"
   },
   {
    "duration": 55,
    "start_time": "2023-01-08T20:36:13.850Z"
   },
   {
    "duration": 113,
    "start_time": "2023-01-08T20:36:25.299Z"
   },
   {
    "duration": 94,
    "start_time": "2023-01-08T20:37:01.376Z"
   },
   {
    "duration": 192,
    "start_time": "2023-01-08T20:37:08.736Z"
   },
   {
    "duration": 108,
    "start_time": "2023-01-08T20:37:15.024Z"
   },
   {
    "duration": 92,
    "start_time": "2023-01-08T20:37:23.919Z"
   },
   {
    "duration": 95,
    "start_time": "2023-01-08T20:37:32.843Z"
   },
   {
    "duration": 92,
    "start_time": "2023-01-08T20:38:16.243Z"
   },
   {
    "duration": 127,
    "start_time": "2023-01-08T20:38:39.641Z"
   },
   {
    "duration": 110,
    "start_time": "2023-01-08T20:42:54.843Z"
   },
   {
    "duration": 91,
    "start_time": "2023-01-08T20:43:07.071Z"
   },
   {
    "duration": 155,
    "start_time": "2023-01-08T20:43:15.857Z"
   },
   {
    "duration": 105,
    "start_time": "2023-01-08T20:45:23.029Z"
   },
   {
    "duration": 72,
    "start_time": "2023-01-08T20:45:42.380Z"
   },
   {
    "duration": 108,
    "start_time": "2023-01-08T20:45:52.706Z"
   },
   {
    "duration": 96,
    "start_time": "2023-01-08T20:46:06.983Z"
   },
   {
    "duration": 106,
    "start_time": "2023-01-08T20:46:24.770Z"
   },
   {
    "duration": 95,
    "start_time": "2023-01-08T20:46:34.383Z"
   },
   {
    "duration": 88,
    "start_time": "2023-01-08T20:48:10.480Z"
   },
   {
    "duration": 90,
    "start_time": "2023-01-08T20:48:22.023Z"
   },
   {
    "duration": 90,
    "start_time": "2023-01-08T20:48:47.969Z"
   },
   {
    "duration": 97,
    "start_time": "2023-01-08T20:49:04.250Z"
   },
   {
    "duration": 93,
    "start_time": "2023-01-08T20:49:17.356Z"
   },
   {
    "duration": 173,
    "start_time": "2023-01-08T20:49:35.960Z"
   },
   {
    "duration": 88,
    "start_time": "2023-01-08T20:49:54.587Z"
   },
   {
    "duration": 101,
    "start_time": "2023-01-08T20:50:21.695Z"
   },
   {
    "duration": 82,
    "start_time": "2023-01-08T20:50:41.138Z"
   },
   {
    "duration": 100,
    "start_time": "2023-01-08T20:50:48.619Z"
   },
   {
    "duration": 456,
    "start_time": "2023-01-08T20:55:14.377Z"
   },
   {
    "duration": 11,
    "start_time": "2023-01-08T20:56:03.411Z"
   },
   {
    "duration": 850,
    "start_time": "2023-01-08T21:27:43.740Z"
   },
   {
    "duration": 14,
    "start_time": "2023-01-08T21:27:44.592Z"
   },
   {
    "duration": 13,
    "start_time": "2023-01-08T21:27:44.608Z"
   },
   {
    "duration": 13,
    "start_time": "2023-01-08T21:27:44.623Z"
   },
   {
    "duration": 4,
    "start_time": "2023-01-08T21:27:44.638Z"
   },
   {
    "duration": 32,
    "start_time": "2023-01-08T21:27:44.643Z"
   },
   {
    "duration": 4,
    "start_time": "2023-01-08T21:27:44.676Z"
   },
   {
    "duration": 7,
    "start_time": "2023-01-08T21:27:44.681Z"
   },
   {
    "duration": 3,
    "start_time": "2023-01-08T21:27:44.689Z"
   },
   {
    "duration": 13,
    "start_time": "2023-01-08T21:27:44.711Z"
   },
   {
    "duration": 12,
    "start_time": "2023-01-08T21:27:44.725Z"
   },
   {
    "duration": 2,
    "start_time": "2023-01-08T21:27:44.738Z"
   },
   {
    "duration": 10,
    "start_time": "2023-01-08T21:27:44.741Z"
   },
   {
    "duration": 17,
    "start_time": "2023-01-08T21:27:44.752Z"
   },
   {
    "duration": 44,
    "start_time": "2023-01-08T21:27:44.771Z"
   },
   {
    "duration": 4,
    "start_time": "2023-01-08T21:27:44.816Z"
   },
   {
    "duration": 25,
    "start_time": "2023-01-08T21:27:44.822Z"
   },
   {
    "duration": 30,
    "start_time": "2023-01-08T21:27:44.848Z"
   },
   {
    "duration": 34,
    "start_time": "2023-01-08T21:27:44.880Z"
   },
   {
    "duration": 6,
    "start_time": "2023-01-08T21:27:44.916Z"
   },
   {
    "duration": 20,
    "start_time": "2023-01-08T21:27:44.923Z"
   },
   {
    "duration": 8,
    "start_time": "2023-01-08T21:27:44.945Z"
   },
   {
    "duration": 201,
    "start_time": "2023-01-08T21:27:44.954Z"
   },
   {
    "duration": 8,
    "start_time": "2023-01-08T21:27:45.156Z"
   },
   {
    "duration": 1499,
    "start_time": "2023-01-08T21:27:45.165Z"
   },
   {
    "duration": 3,
    "start_time": "2023-01-08T21:27:46.666Z"
   },
   {
    "duration": 237,
    "start_time": "2023-01-08T21:27:46.670Z"
   },
   {
    "duration": 6,
    "start_time": "2023-01-08T21:27:46.912Z"
   },
   {
    "duration": 221,
    "start_time": "2023-01-08T21:27:46.920Z"
   },
   {
    "duration": 3,
    "start_time": "2023-01-08T21:27:47.143Z"
   },
   {
    "duration": 11,
    "start_time": "2023-01-08T21:27:47.148Z"
   },
   {
    "duration": 167,
    "start_time": "2023-01-08T21:27:47.160Z"
   },
   {
    "duration": 292,
    "start_time": "2023-01-08T21:27:47.329Z"
   },
   {
    "duration": 7,
    "start_time": "2023-01-08T21:27:47.623Z"
   },
   {
    "duration": 7,
    "start_time": "2023-01-08T21:27:47.632Z"
   },
   {
    "duration": 811,
    "start_time": "2023-01-08T21:27:47.641Z"
   },
   {
    "duration": 13,
    "start_time": "2023-01-08T21:27:48.454Z"
   },
   {
    "duration": 739,
    "start_time": "2023-01-08T21:27:48.468Z"
   },
   {
    "duration": 13,
    "start_time": "2023-01-08T21:27:49.212Z"
   },
   {
    "duration": 194,
    "start_time": "2023-01-08T21:27:49.227Z"
   },
   {
    "duration": 7,
    "start_time": "2023-01-08T21:27:49.423Z"
   },
   {
    "duration": 13,
    "start_time": "2023-01-08T21:27:49.431Z"
   },
   {
    "duration": 100,
    "start_time": "2023-01-08T21:27:49.446Z"
   },
   {
    "duration": 93,
    "start_time": "2023-01-08T21:27:49.547Z"
   },
   {
    "duration": 101,
    "start_time": "2023-01-08T21:27:49.642Z"
   },
   {
    "duration": 101,
    "start_time": "2023-01-08T21:27:49.745Z"
   },
   {
    "duration": 173,
    "start_time": "2023-01-08T21:27:49.848Z"
   },
   {
    "duration": 105,
    "start_time": "2023-01-08T21:27:50.023Z"
   },
   {
    "duration": 92,
    "start_time": "2023-01-08T21:27:50.130Z"
   },
   {
    "duration": 78,
    "start_time": "2023-01-08T21:27:50.224Z"
   },
   {
    "duration": 79,
    "start_time": "2023-01-08T21:27:50.312Z"
   },
   {
    "duration": 410,
    "start_time": "2023-01-08T21:27:50.393Z"
   },
   {
    "duration": 13,
    "start_time": "2023-01-08T21:27:50.805Z"
   },
   {
    "duration": 64,
    "start_time": "2023-01-09T15:52:48.996Z"
   },
   {
    "duration": 947,
    "start_time": "2023-01-09T15:52:53.837Z"
   },
   {
    "duration": 16,
    "start_time": "2023-01-09T15:52:54.787Z"
   },
   {
    "duration": 17,
    "start_time": "2023-01-09T15:52:54.805Z"
   },
   {
    "duration": 15,
    "start_time": "2023-01-09T15:52:54.825Z"
   },
   {
    "duration": 5,
    "start_time": "2023-01-09T15:52:54.842Z"
   },
   {
    "duration": 37,
    "start_time": "2023-01-09T15:52:54.848Z"
   },
   {
    "duration": 5,
    "start_time": "2023-01-09T15:52:54.886Z"
   },
   {
    "duration": 24,
    "start_time": "2023-01-09T15:52:54.893Z"
   },
   {
    "duration": 4,
    "start_time": "2023-01-09T15:52:54.918Z"
   },
   {
    "duration": 20,
    "start_time": "2023-01-09T15:52:54.925Z"
   },
   {
    "duration": 15,
    "start_time": "2023-01-09T15:52:54.946Z"
   },
   {
    "duration": 4,
    "start_time": "2023-01-09T15:52:54.963Z"
   },
   {
    "duration": 13,
    "start_time": "2023-01-09T15:52:54.968Z"
   },
   {
    "duration": 48,
    "start_time": "2023-01-09T15:52:54.983Z"
   },
   {
    "duration": 24,
    "start_time": "2023-01-09T15:52:55.033Z"
   },
   {
    "duration": 2,
    "start_time": "2023-01-09T15:52:55.059Z"
   },
   {
    "duration": 25,
    "start_time": "2023-01-09T15:52:55.063Z"
   },
   {
    "duration": 30,
    "start_time": "2023-01-09T15:52:55.090Z"
   },
   {
    "duration": 22,
    "start_time": "2023-01-09T15:52:55.122Z"
   },
   {
    "duration": 7,
    "start_time": "2023-01-09T15:52:55.146Z"
   },
   {
    "duration": 36,
    "start_time": "2023-01-09T15:52:55.154Z"
   },
   {
    "duration": 22,
    "start_time": "2023-01-09T15:52:55.191Z"
   },
   {
    "duration": 207,
    "start_time": "2023-01-09T15:52:55.215Z"
   },
   {
    "duration": 9,
    "start_time": "2023-01-09T15:52:55.424Z"
   },
   {
    "duration": 1692,
    "start_time": "2023-01-09T15:52:55.434Z"
   },
   {
    "duration": 3,
    "start_time": "2023-01-09T15:52:57.127Z"
   },
   {
    "duration": 281,
    "start_time": "2023-01-09T15:52:57.131Z"
   },
   {
    "duration": 6,
    "start_time": "2023-01-09T15:52:57.434Z"
   },
   {
    "duration": 243,
    "start_time": "2023-01-09T15:52:57.443Z"
   },
   {
    "duration": 3,
    "start_time": "2023-01-09T15:52:57.688Z"
   },
   {
    "duration": 20,
    "start_time": "2023-01-09T15:52:57.693Z"
   },
   {
    "duration": 166,
    "start_time": "2023-01-09T15:52:57.714Z"
   },
   {
    "duration": 303,
    "start_time": "2023-01-09T15:52:57.881Z"
   },
   {
    "duration": 7,
    "start_time": "2023-01-09T15:52:58.186Z"
   },
   {
    "duration": 18,
    "start_time": "2023-01-09T15:52:58.195Z"
   },
   {
    "duration": 818,
    "start_time": "2023-01-09T15:52:58.214Z"
   },
   {
    "duration": 12,
    "start_time": "2023-01-09T15:52:59.034Z"
   },
   {
    "duration": 777,
    "start_time": "2023-01-09T15:52:59.047Z"
   },
   {
    "duration": 14,
    "start_time": "2023-01-09T15:52:59.826Z"
   },
   {
    "duration": 196,
    "start_time": "2023-01-09T15:52:59.842Z"
   },
   {
    "duration": 7,
    "start_time": "2023-01-09T15:53:00.040Z"
   },
   {
    "duration": 12,
    "start_time": "2023-01-09T15:53:00.049Z"
   },
   {
    "duration": 131,
    "start_time": "2023-01-09T15:53:00.063Z"
   },
   {
    "duration": 118,
    "start_time": "2023-01-09T15:53:00.196Z"
   },
   {
    "duration": 106,
    "start_time": "2023-01-09T15:53:00.316Z"
   },
   {
    "duration": 109,
    "start_time": "2023-01-09T15:53:00.423Z"
   },
   {
    "duration": 181,
    "start_time": "2023-01-09T15:53:00.534Z"
   },
   {
    "duration": 108,
    "start_time": "2023-01-09T15:53:00.716Z"
   },
   {
    "duration": 99,
    "start_time": "2023-01-09T15:53:00.826Z"
   },
   {
    "duration": 93,
    "start_time": "2023-01-09T15:53:00.926Z"
   },
   {
    "duration": 8,
    "start_time": "2023-01-09T15:53:06.398Z"
   },
   {
    "duration": 43,
    "start_time": "2023-01-09T15:53:24.079Z"
   },
   {
    "duration": 10,
    "start_time": "2023-01-09T15:53:58.982Z"
   },
   {
    "duration": 12,
    "start_time": "2023-01-09T15:54:03.021Z"
   },
   {
    "duration": 7,
    "start_time": "2023-01-09T15:54:22.874Z"
   },
   {
    "duration": 24,
    "start_time": "2023-01-09T15:54:26.978Z"
   },
   {
    "duration": 100,
    "start_time": "2023-01-09T15:54:44.987Z"
   },
   {
    "duration": 89,
    "start_time": "2023-01-09T15:54:56.969Z"
   },
   {
    "duration": 95,
    "start_time": "2023-01-09T15:55:03.662Z"
   },
   {
    "duration": 919,
    "start_time": "2023-01-10T09:18:38.786Z"
   },
   {
    "duration": 14,
    "start_time": "2023-01-10T09:18:39.707Z"
   },
   {
    "duration": 17,
    "start_time": "2023-01-10T09:18:39.722Z"
   },
   {
    "duration": 24,
    "start_time": "2023-01-10T09:18:39.741Z"
   },
   {
    "duration": 4,
    "start_time": "2023-01-10T09:18:39.767Z"
   },
   {
    "duration": 27,
    "start_time": "2023-01-10T09:18:39.772Z"
   },
   {
    "duration": 4,
    "start_time": "2023-01-10T09:18:39.801Z"
   },
   {
    "duration": 7,
    "start_time": "2023-01-10T09:18:39.807Z"
   },
   {
    "duration": 2,
    "start_time": "2023-01-10T09:18:39.827Z"
   },
   {
    "duration": 22,
    "start_time": "2023-01-10T09:18:39.830Z"
   },
   {
    "duration": 11,
    "start_time": "2023-01-10T09:18:39.853Z"
   },
   {
    "duration": 2,
    "start_time": "2023-01-10T09:18:39.866Z"
   },
   {
    "duration": 10,
    "start_time": "2023-01-10T09:18:39.870Z"
   },
   {
    "duration": 48,
    "start_time": "2023-01-10T09:18:39.883Z"
   },
   {
    "duration": 18,
    "start_time": "2023-01-10T09:18:39.933Z"
   },
   {
    "duration": 2,
    "start_time": "2023-01-10T09:18:39.953Z"
   },
   {
    "duration": 12,
    "start_time": "2023-01-10T09:18:39.956Z"
   },
   {
    "duration": 13,
    "start_time": "2023-01-10T09:18:39.969Z"
   },
   {
    "duration": 52,
    "start_time": "2023-01-10T09:18:39.984Z"
   },
   {
    "duration": 6,
    "start_time": "2023-01-10T09:18:40.037Z"
   },
   {
    "duration": 21,
    "start_time": "2023-01-10T09:18:40.045Z"
   },
   {
    "duration": 9,
    "start_time": "2023-01-10T09:18:40.068Z"
   },
   {
    "duration": 188,
    "start_time": "2023-01-10T09:18:40.079Z"
   },
   {
    "duration": 7,
    "start_time": "2023-01-10T09:18:40.269Z"
   },
   {
    "duration": 1352,
    "start_time": "2023-01-10T09:18:40.277Z"
   },
   {
    "duration": 3,
    "start_time": "2023-01-10T09:18:41.631Z"
   },
   {
    "duration": 265,
    "start_time": "2023-01-10T09:18:41.636Z"
   },
   {
    "duration": 6,
    "start_time": "2023-01-10T09:18:41.903Z"
   },
   {
    "duration": 234,
    "start_time": "2023-01-10T09:18:41.911Z"
   },
   {
    "duration": 2,
    "start_time": "2023-01-10T09:18:42.147Z"
   },
   {
    "duration": 9,
    "start_time": "2023-01-10T09:18:42.150Z"
   },
   {
    "duration": 161,
    "start_time": "2023-01-10T09:18:42.161Z"
   },
   {
    "duration": 275,
    "start_time": "2023-01-10T09:18:42.325Z"
   },
   {
    "duration": 7,
    "start_time": "2023-01-10T09:18:42.601Z"
   },
   {
    "duration": 27,
    "start_time": "2023-01-10T09:18:42.609Z"
   },
   {
    "duration": 771,
    "start_time": "2023-01-10T09:18:42.638Z"
   },
   {
    "duration": 20,
    "start_time": "2023-01-10T09:18:43.411Z"
   },
   {
    "duration": 712,
    "start_time": "2023-01-10T09:18:43.432Z"
   },
   {
    "duration": 13,
    "start_time": "2023-01-10T09:18:44.145Z"
   },
   {
    "duration": 176,
    "start_time": "2023-01-10T09:18:44.160Z"
   },
   {
    "duration": 6,
    "start_time": "2023-01-10T09:18:44.339Z"
   },
   {
    "duration": 9,
    "start_time": "2023-01-10T09:18:44.347Z"
   },
   {
    "duration": 109,
    "start_time": "2023-01-10T09:18:44.358Z"
   },
   {
    "duration": 94,
    "start_time": "2023-01-10T09:18:44.468Z"
   },
   {
    "duration": 254,
    "start_time": "2023-01-10T09:19:25.536Z"
   },
   {
    "duration": 170,
    "start_time": "2023-01-10T09:21:29.408Z"
   }
  ],
  "kernelspec": {
   "display_name": "Python 3 (ipykernel)",
   "language": "python",
   "name": "python3"
  },
  "language_info": {
   "codemirror_mode": {
    "name": "ipython",
    "version": 3
   },
   "file_extension": ".py",
   "mimetype": "text/x-python",
   "name": "python",
   "nbconvert_exporter": "python",
   "pygments_lexer": "ipython3",
   "version": "3.9.13"
  },
  "toc": {
   "base_numbering": 1,
   "nav_menu": {},
   "number_sections": true,
   "sideBar": true,
   "skip_h1_title": true,
   "title_cell": "Table of Contents",
   "title_sidebar": "Contents",
   "toc_cell": false,
   "toc_position": {},
   "toc_section_display": true,
   "toc_window_display": false
  }
 },
 "nbformat": 4,
 "nbformat_minor": 2
}
